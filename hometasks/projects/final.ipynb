{
 "cells": [
  {
   "cell_type": "markdown",
   "id": "e3df6a04",
   "metadata": {},
   "source": [
    "https://hannapylieva.notion.site/126948358494801989d4e741e084bd47?pvs=4"
   ]
  }
 ],
 "metadata": {
  "language_info": {
   "name": "python"
  }
 },
 "nbformat": 4,
 "nbformat_minor": 5
}
