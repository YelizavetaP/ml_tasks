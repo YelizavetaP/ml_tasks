{
  "cells": [
    {
      "cell_type": "markdown",
      "source": [
        "В цьому наборі завдань закріпимо те, що було на лекції з Computer Vision."
      ],
      "metadata": {
        "id": "vllfFC_C7dGt"
      }
    },
    {
      "cell_type": "markdown",
      "metadata": {
        "id": "Vex99np2wFVt"
      },
      "source": [
        "# Computer Vision with PyTorch Excercises. Solution\n"
      ]
    },
    {
      "cell_type": "markdown",
      "metadata": {
        "id": "FSFX7tc1w-en"
      },
      "source": [
        "## 1. Наведіть 3 галузі промисловості, де комп'ютерний зір використовується сьогодні (можна згадати з лекції, або провести міні-рісерч)."
      ]
    },
    {
      "cell_type": "code",
      "source": [],
      "metadata": {
        "id": "IgjIH3hh7qEg"
      },
      "execution_count": null,
      "outputs": []
    },
    {
      "cell_type": "markdown",
      "metadata": {
        "id": "DKdEEFEqxM-8"
      },
      "source": [
        "## 2. Виділіть 20 хвилин аби ознайомитись та переглянути сайт [CNN Explainer](https://poloclub.github.io/cnn-explainer/).\n",
        "\n",
        "* Завантажте власне будь-яке зображення за допомогою кнопки Upload\" на сайті та подивіться, що відбувається на кожному шарі CNN, коли ваше зображення проходить через нього.\n",
        "\n",
        "Напишіть 3 пункти, що ви дізнались після цієї вправи?"
      ]
    },
    {
      "cell_type": "code",
      "execution_count": null,
      "metadata": {
        "id": "TqZaJIRMbFtS"
      },
      "outputs": [],
      "source": []
    },
    {
      "cell_type": "markdown",
      "metadata": {
        "id": "lvf-3pODxXYI"
      },
      "source": [
        "## 3. Завантажте навчальні та тестові набори даних [`torchvision.datasets.MNIST()`](https://pytorch.org/vision/stable/generated/torchvision.datasets.MNIST.html#torchvision.datasets.MNIST).\n",
        "\n",
        "MNIST - базовий набір даних для задач Computer Vision. Часто використовується для навчання.\n",
        "\n",
        "- Виведіть, скільки елементів в кожному наборі.\n",
        "- Покажіть формат (розмірності) кожної картинки.\n",
        "- Виведіть, які класи представлені в цьому наборі даних."
      ]
    },
    {
      "cell_type": "code",
      "source": [],
      "metadata": {
        "id": "fkdjwtbX7riT"
      },
      "execution_count": null,
      "outputs": []
    },
    {
      "cell_type": "markdown",
      "metadata": {
        "id": "qxZW-uAbxe_F"
      },
      "source": [
        "## 4. Візуалізуйте щонайменше 5 різних зразків з навчального набору даних MNIST."
      ]
    },
    {
      "cell_type": "code",
      "source": [],
      "metadata": {
        "id": "Cm-qgzN97t4c"
      },
      "execution_count": null,
      "outputs": []
    },
    {
      "cell_type": "markdown",
      "metadata": {
        "id": "JAPDzW0wxhi3"
      },
      "source": [
        "## 5. Перетворіть навчальні та тестові набори даних MNIST у data loaders за допомогою `torch.utils.data.DataLoader`, встановіть `batch_size=32`.\n",
        "- Покажіть, яку форму даних вертають дата лоадери."
      ]
    },
    {
      "cell_type": "code",
      "source": [],
      "metadata": {
        "id": "aOff13r-7u-p"
      },
      "execution_count": null,
      "outputs": []
    },
    {
      "cell_type": "markdown",
      "metadata": {
        "id": "bCCVfXk5xjYS"
      },
      "source": [
        "## 6. Відтворіть `ModelV2`, яку ми розглядали на лекції\n",
        "Це до слова та сама модель з [сайту CNN Explainer](https://poloclub.github.io/cnn-explainer/), також відома як TinyVGG і вона здатна навчатися на наборі даних MNIST.\n",
        "\n",
        "Напишіть клас моделі."
      ]
    },
    {
      "cell_type": "code",
      "source": [],
      "metadata": {
        "id": "J3T9JDpj7wQX"
      },
      "execution_count": null,
      "outputs": []
    },
    {
      "cell_type": "markdown",
      "metadata": {
        "id": "sf_3zUr7xlhy"
      },
      "source": [
        "## 7. Навчіть модель, яку ви побудували в попередній вправі, протягом 5 епох на CPU та GPU і подивіться, скільки часу це займе в кожному з варіантів."
      ]
    },
    {
      "cell_type": "code",
      "source": [],
      "metadata": {
        "id": "alY-tbfH7yHe"
      },
      "execution_count": null,
      "outputs": []
    },
    {
      "cell_type": "markdown",
      "metadata": {
        "id": "w1CsHhPpxp1w"
      },
      "source": [
        "## 8. Зробіть прогнози за допомогою вашої навченої моделі та візуалізуйте принаймні 5 з них, порівнюючи прогноз з цільовою міткою."
      ]
    },
    {
      "cell_type": "code",
      "source": [],
      "metadata": {
        "id": "XbnzDNs97y5t"
      },
      "execution_count": null,
      "outputs": []
    },
    {
      "cell_type": "markdown",
      "metadata": {
        "id": "qQwzqlBWxrpG"
      },
      "source": [
        "## 9. Побудуйте матрицю плутанини, порівнюючи передбачення вашої моделі з істинними мітками."
      ]
    },
    {
      "cell_type": "code",
      "source": [],
      "metadata": {
        "id": "MGauqe1h7z5n"
      },
      "execution_count": null,
      "outputs": []
    },
    {
      "cell_type": "markdown",
      "metadata": {
        "id": "VHS20cNTxwSi"
      },
      "source": [
        "## 10. Виведіть принаймні 9 прикладів, де модель помиляється, разом з тим, якою мала бути мітка зображення.\n",
        "* Після візуалізації цих прогнозів, як ви думаєте, це більше помилка моделювання чи помилка даних?\n",
        "* Тобто, чи може модель працювати краще, чи мітки даних занадто близькі одна до одної, що навіть людина не може чітко розрізнити що це за цифра?"
      ]
    },
    {
      "cell_type": "code",
      "source": [],
      "metadata": {
        "id": "X7ThqCd571dE"
      },
      "execution_count": null,
      "outputs": []
    },
    {
      "cell_type": "markdown",
      "metadata": {
        "id": "lj6bDhoWxt2y"
      },
      "source": [
        "## 11. Створіть випадковий тензор форми `[1, 3, 64, 64]` і пропустіть його через шар `nn.Conv2d()` з різними налаштуваннями гіперпараметрів (ви можете вибрати будь-які налаштування), що ви помічаєте, якщо параметр `kernel_size` збільшується або зменшується?"
      ]
    },
    {
      "cell_type": "code",
      "source": [],
      "metadata": {
        "id": "NkiKGBcg726f"
      },
      "execution_count": null,
      "outputs": []
    }
  ],
  "metadata": {
    "accelerator": "GPU",
    "colab": {
      "provenance": []
    },
    "kernelspec": {
      "display_name": "Python 3 (ipykernel)",
      "language": "python",
      "name": "python3"
    },
    "language_info": {
      "codemirror_mode": {
        "name": "ipython",
        "version": 3
      },
      "file_extension": ".py",
      "mimetype": "text/x-python",
      "name": "python",
      "nbconvert_exporter": "python",
      "pygments_lexer": "ipython3",
      "version": "3.12.0"
    }
  },
  "nbformat": 4,
  "nbformat_minor": 0
}