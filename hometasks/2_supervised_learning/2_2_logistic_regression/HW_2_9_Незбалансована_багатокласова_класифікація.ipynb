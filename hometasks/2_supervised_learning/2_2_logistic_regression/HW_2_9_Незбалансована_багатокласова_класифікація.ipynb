{
  "cells": [
    {
      "cell_type": "markdown",
      "metadata": {
        "id": "VUPArbcFJKzJ"
      },
      "source": [
        "У цьому ДЗ ми потренуємось розв'язувати задачу багатокласової класифікації за допомогою логістичної регресії з використанням стратегій One-vs-Rest та One-vs-One, оцінити якість моделей та порівняти стратегії."
      ]
    },
    {
      "cell_type": "markdown",
      "metadata": {
        "id": "7f4tzX6YomVv"
      },
      "source": [
        "### Опис задачі і даних\n",
        "\n",
        "**Контекст**\n",
        "\n",
        "В цьому ДЗ ми працюємо з даними про сегментацію клієнтів.\n",
        "\n",
        "Сегментація клієнтів – це практика поділу бази клієнтів на групи індивідів, які схожі між собою за певними критеріями, що мають значення для маркетингу, такими як вік, стать, інтереси та звички у витратах.\n",
        "\n",
        "Компанії, які використовують сегментацію клієнтів, виходять з того, що кожен клієнт є унікальним і що їхні маркетингові зусилля будуть більш ефективними, якщо вони орієнтуватимуться на конкретні, менші групи зі зверненнями, які ці споживачі вважатимуть доречними та які спонукатимуть їх до купівлі. Компанії також сподіваються отримати глибше розуміння уподобань та потреб своїх клієнтів з метою виявлення того, що кожен сегмент цінує найбільше, щоб точніше адаптувати маркетингові матеріали до цього сегменту.\n",
        "\n",
        "**Зміст**.\n",
        "\n",
        "Автомобільна компанія планує вийти на нові ринки зі своїми існуючими продуктами (P1, P2, P3, P4 і P5). Після інтенсивного маркетингового дослідження вони дійшли висновку, що поведінка нового ринку схожа на їхній існуючий ринок.\n",
        "\n",
        "На своєму існуючому ринку команда з продажу класифікувала всіх клієнтів на 4 сегменти (A, B, C, D). Потім вони здійснювали сегментовані звернення та комунікацію з різними сегментами клієнтів. Ця стратегія працювала для них надзвичайно добре. Вони планують використати ту саму стратегію на нових ринках і визначили 2627 нових потенційних клієнтів.\n",
        "\n",
        "Ви маєте допомогти менеджеру передбачити правильну групу для нових клієнтів.\n",
        "\n",
        "В цьому ДЗ використовуємо дані `customer_segmentation_train.csv`[скачати дані](https://drive.google.com/file/d/1VU1y2EwaHkVfr5RZ1U4MPWjeflAusK3w/view?usp=sharing). Це `train.csv`з цього [змагання](https://www.kaggle.com/datasets/abisheksudarshan/customer-segmentation/data?select=train.csv)"
      ]
    },
    {
      "cell_type": "code",
      "execution_count": 63,
      "metadata": {},
      "outputs": [],
      "source": [
        "import pandas as pd\n",
        "import numpy as np\n",
        "\n",
        "from sklearn.model_selection import train_test_split\n",
        "from sklearn.preprocessing import MinMaxScaler, StandardScaler, OneHotEncoder, LabelEncoder, OrdinalEncoder, FunctionTransformer\n",
        "from sklearn.pipeline import Pipeline\n",
        "from sklearn.compose import ColumnTransformer\n",
        "from sklearn.impute import SimpleImputer\n"
      ]
    },
    {
      "cell_type": "markdown",
      "metadata": {
        "id": "NZFXPKx1JX-3"
      },
      "source": [
        "**Завдання 1.** Завантажте та підготуйте датасет до аналізу. Виконайте обробку пропущених значень та необхідне кодування категоріальних ознак. Розбийте на тренувальну і тестувальну вибірку, де в тесті 20%. Памʼятаємо, що весь препроцесинг ліпше все ж тренувати на тренувальній вибірці і на тестувальній лише використовувати вже натреновані трансформери.\n",
        "Але в даному випадку оскільки значень в категоріях небагато, можна зробити обробку і на оригінальних даних, а потім розбити - це простіше. Можна також реалізувати процесинг і тренування моделі з пайплайнами. Обирайте як вам зручніше."
      ]
    },
    {
      "cell_type": "code",
      "execution_count": 64,
      "metadata": {
        "id": "I-mwGqPS5GAT"
      },
      "outputs": [
        {
          "data": {
            "text/html": [
              "<div>\n",
              "<style scoped>\n",
              "    .dataframe tbody tr th:only-of-type {\n",
              "        vertical-align: middle;\n",
              "    }\n",
              "\n",
              "    .dataframe tbody tr th {\n",
              "        vertical-align: top;\n",
              "    }\n",
              "\n",
              "    .dataframe thead th {\n",
              "        text-align: right;\n",
              "    }\n",
              "</style>\n",
              "<table border=\"1\" class=\"dataframe\">\n",
              "  <thead>\n",
              "    <tr style=\"text-align: right;\">\n",
              "      <th></th>\n",
              "      <th>ID</th>\n",
              "      <th>Gender</th>\n",
              "      <th>Ever_Married</th>\n",
              "      <th>Age</th>\n",
              "      <th>Graduated</th>\n",
              "      <th>Profession</th>\n",
              "      <th>Work_Experience</th>\n",
              "      <th>Spending_Score</th>\n",
              "      <th>Family_Size</th>\n",
              "      <th>Var_1</th>\n",
              "      <th>Segmentation</th>\n",
              "    </tr>\n",
              "  </thead>\n",
              "  <tbody>\n",
              "    <tr>\n",
              "      <th>0</th>\n",
              "      <td>462809</td>\n",
              "      <td>Male</td>\n",
              "      <td>No</td>\n",
              "      <td>22</td>\n",
              "      <td>No</td>\n",
              "      <td>Healthcare</td>\n",
              "      <td>1.0</td>\n",
              "      <td>Low</td>\n",
              "      <td>4.0</td>\n",
              "      <td>Cat_4</td>\n",
              "      <td>D</td>\n",
              "    </tr>\n",
              "    <tr>\n",
              "      <th>1</th>\n",
              "      <td>462643</td>\n",
              "      <td>Female</td>\n",
              "      <td>Yes</td>\n",
              "      <td>38</td>\n",
              "      <td>Yes</td>\n",
              "      <td>Engineer</td>\n",
              "      <td>NaN</td>\n",
              "      <td>Average</td>\n",
              "      <td>3.0</td>\n",
              "      <td>Cat_4</td>\n",
              "      <td>A</td>\n",
              "    </tr>\n",
              "    <tr>\n",
              "      <th>2</th>\n",
              "      <td>466315</td>\n",
              "      <td>Female</td>\n",
              "      <td>Yes</td>\n",
              "      <td>67</td>\n",
              "      <td>Yes</td>\n",
              "      <td>Engineer</td>\n",
              "      <td>1.0</td>\n",
              "      <td>Low</td>\n",
              "      <td>1.0</td>\n",
              "      <td>Cat_6</td>\n",
              "      <td>B</td>\n",
              "    </tr>\n",
              "    <tr>\n",
              "      <th>3</th>\n",
              "      <td>461735</td>\n",
              "      <td>Male</td>\n",
              "      <td>Yes</td>\n",
              "      <td>67</td>\n",
              "      <td>Yes</td>\n",
              "      <td>Lawyer</td>\n",
              "      <td>0.0</td>\n",
              "      <td>High</td>\n",
              "      <td>2.0</td>\n",
              "      <td>Cat_6</td>\n",
              "      <td>B</td>\n",
              "    </tr>\n",
              "    <tr>\n",
              "      <th>4</th>\n",
              "      <td>462669</td>\n",
              "      <td>Female</td>\n",
              "      <td>Yes</td>\n",
              "      <td>40</td>\n",
              "      <td>Yes</td>\n",
              "      <td>Entertainment</td>\n",
              "      <td>NaN</td>\n",
              "      <td>High</td>\n",
              "      <td>6.0</td>\n",
              "      <td>Cat_6</td>\n",
              "      <td>A</td>\n",
              "    </tr>\n",
              "  </tbody>\n",
              "</table>\n",
              "</div>"
            ],
            "text/plain": [
              "       ID  Gender Ever_Married  Age Graduated     Profession  Work_Experience  \\\n",
              "0  462809    Male           No   22        No     Healthcare              1.0   \n",
              "1  462643  Female          Yes   38       Yes       Engineer              NaN   \n",
              "2  466315  Female          Yes   67       Yes       Engineer              1.0   \n",
              "3  461735    Male          Yes   67       Yes         Lawyer              0.0   \n",
              "4  462669  Female          Yes   40       Yes  Entertainment              NaN   \n",
              "\n",
              "  Spending_Score  Family_Size  Var_1 Segmentation  \n",
              "0            Low          4.0  Cat_4            D  \n",
              "1        Average          3.0  Cat_4            A  \n",
              "2            Low          1.0  Cat_6            B  \n",
              "3           High          2.0  Cat_6            B  \n",
              "4           High          6.0  Cat_6            A  "
            ]
          },
          "execution_count": 64,
          "metadata": {},
          "output_type": "execute_result"
        }
      ],
      "source": [
        "data_dir = '../../../data/'\n",
        "train_path = data_dir + 'customer_segmentation_train.csv'\n",
        "\n",
        "raw_df = pd.read_csv(train_path)\n",
        "raw_df.head()"
      ]
    },
    {
      "cell_type": "code",
      "execution_count": 65,
      "metadata": {},
      "outputs": [
        {
          "name": "stdout",
          "output_type": "stream",
          "text": [
            "<class 'pandas.core.frame.DataFrame'>\n",
            "RangeIndex: 8068 entries, 0 to 8067\n",
            "Data columns (total 11 columns):\n",
            " #   Column           Non-Null Count  Dtype  \n",
            "---  ------           --------------  -----  \n",
            " 0   ID               8068 non-null   int64  \n",
            " 1   Gender           8068 non-null   object \n",
            " 2   Ever_Married     7928 non-null   object \n",
            " 3   Age              8068 non-null   int64  \n",
            " 4   Graduated        7990 non-null   object \n",
            " 5   Profession       7944 non-null   object \n",
            " 6   Work_Experience  7239 non-null   float64\n",
            " 7   Spending_Score   8068 non-null   object \n",
            " 8   Family_Size      7733 non-null   float64\n",
            " 9   Var_1            7992 non-null   object \n",
            " 10  Segmentation     8068 non-null   object \n",
            "dtypes: float64(2), int64(2), object(7)\n",
            "memory usage: 693.5+ KB\n"
          ]
        }
      ],
      "source": [
        "raw_df.info()"
      ]
    },
    {
      "cell_type": "code",
      "execution_count": 66,
      "metadata": {},
      "outputs": [
        {
          "data": {
            "text/plain": [
              "Segmentation\n",
              "D    2268\n",
              "A    1972\n",
              "C    1970\n",
              "B    1858\n",
              "Name: count, dtype: int64"
            ]
          },
          "execution_count": 66,
          "metadata": {},
          "output_type": "execute_result"
        }
      ],
      "source": [
        "raw_df.Segmentation.value_counts()"
      ]
    },
    {
      "cell_type": "code",
      "execution_count": 67,
      "metadata": {},
      "outputs": [],
      "source": [
        "train_df, test_df = train_test_split(raw_df, test_size=0.2, random_state=42, stratify=raw_df.Segmentation)\n",
        "\n",
        "input_cols = raw_df.columns[:-1].tolist()\n",
        "target_col = raw_df.columns[-1]\n",
        "\n",
        "train_inputs, train_targets = train_df[input_cols], train_df[target_col]\n",
        "test_inputs, test_targets = test_df[input_cols], test_df[target_col]\n",
        "\n",
        "numeric_cols = train_inputs.select_dtypes('number').columns.tolist()\n",
        "categorical_cols = train_inputs.select_dtypes('object').columns.tolist()"
      ]
    },
    {
      "cell_type": "code",
      "execution_count": 68,
      "metadata": {},
      "outputs": [
        {
          "data": {
            "text/plain": [
              "(['ID', 'Age', 'Work_Experience', 'Family_Size'],\n",
              " ['Gender',\n",
              "  'Ever_Married',\n",
              "  'Graduated',\n",
              "  'Profession',\n",
              "  'Spending_Score',\n",
              "  'Var_1'])"
            ]
          },
          "execution_count": 68,
          "metadata": {},
          "output_type": "execute_result"
        }
      ],
      "source": [
        "numeric_cols, categorical_cols"
      ]
    },
    {
      "cell_type": "code",
      "execution_count": 69,
      "metadata": {},
      "outputs": [
        {
          "data": {
            "text/plain": [
              "array(['Male', 'Female'], dtype=object)"
            ]
          },
          "execution_count": 69,
          "metadata": {},
          "output_type": "execute_result"
        }
      ],
      "source": [
        "raw_df.Gender.unique()"
      ]
    },
    {
      "cell_type": "code",
      "execution_count": 70,
      "metadata": {},
      "outputs": [
        {
          "data": {
            "text/plain": [
              "array(['No', 'Yes', nan], dtype=object)"
            ]
          },
          "execution_count": 70,
          "metadata": {},
          "output_type": "execute_result"
        }
      ],
      "source": [
        "raw_df.Ever_Married.unique()"
      ]
    },
    {
      "cell_type": "code",
      "execution_count": 71,
      "metadata": {},
      "outputs": [
        {
          "data": {
            "text/plain": [
              "array(['No', 'Yes', nan], dtype=object)"
            ]
          },
          "execution_count": 71,
          "metadata": {},
          "output_type": "execute_result"
        }
      ],
      "source": [
        "raw_df.Graduated.unique()"
      ]
    },
    {
      "cell_type": "code",
      "execution_count": 72,
      "metadata": {},
      "outputs": [
        {
          "data": {
            "text/plain": [
              "array(['Healthcare', 'Engineer', 'Lawyer', 'Entertainment', 'Artist',\n",
              "       'Executive', 'Doctor', 'Homemaker', 'Marketing', nan], dtype=object)"
            ]
          },
          "execution_count": 72,
          "metadata": {},
          "output_type": "execute_result"
        }
      ],
      "source": [
        "raw_df.Profession.unique()"
      ]
    },
    {
      "cell_type": "code",
      "execution_count": 73,
      "metadata": {},
      "outputs": [
        {
          "data": {
            "text/plain": [
              "array(['Low', 'Average', 'High'], dtype=object)"
            ]
          },
          "execution_count": 73,
          "metadata": {},
          "output_type": "execute_result"
        }
      ],
      "source": [
        "raw_df.Spending_Score.unique()"
      ]
    },
    {
      "cell_type": "code",
      "execution_count": 74,
      "metadata": {},
      "outputs": [
        {
          "data": {
            "text/plain": [
              "array(['Cat_4', 'Cat_6', 'Cat_7', 'Cat_3', 'Cat_1', 'Cat_2', nan, 'Cat_5'],\n",
              "      dtype=object)"
            ]
          },
          "execution_count": 74,
          "metadata": {},
          "output_type": "execute_result"
        }
      ],
      "source": [
        "raw_df.Var_1.unique()"
      ]
    },
    {
      "cell_type": "code",
      "execution_count": 75,
      "metadata": {},
      "outputs": [],
      "source": [
        "numeric_transformer = Pipeline(steps=[\n",
        "    ('imputer', SimpleImputer(strategy='mean')),\n",
        "    ('scaler', MinMaxScaler()),\n",
        "    # ('scaler', StandardScaler())\n",
        "\n",
        "])\n",
        "\n",
        "categorical_transformer = Pipeline(steps=[\n",
        "    ('imputer', SimpleImputer(strategy='constant', fill_value='missing')),\n",
        "    ('onehot', OneHotEncoder(handle_unknown='ignore'))\n",
        "])\n",
        "\n",
        "preprocessor = ColumnTransformer(\n",
        "    transformers=[\n",
        "        ('num', numeric_transformer, numeric_cols),\n",
        "        ('cat', categorical_transformer, categorical_cols)\n",
        "    ])\n",
        "\n",
        "train_inputs_values = preprocessor.fit_transform(train_inputs)\n",
        "test_inputs_values = preprocessor.transform(test_inputs) \n",
        "\n",
        "\n",
        "transformed_cols = preprocessor['cat']['onehot'].get_feature_names_out(categorical_cols).tolist()\n",
        "\n",
        "train_X = pd.DataFrame(train_inputs_values, columns=numeric_cols + transformed_cols)  \n",
        "test_X = pd.DataFrame(test_inputs_values, columns=numeric_cols + transformed_cols)  \n"
      ]
    },
    {
      "cell_type": "code",
      "execution_count": 76,
      "metadata": {},
      "outputs": [
        {
          "data": {
            "text/html": [
              "<div>\n",
              "<style scoped>\n",
              "    .dataframe tbody tr th:only-of-type {\n",
              "        vertical-align: middle;\n",
              "    }\n",
              "\n",
              "    .dataframe tbody tr th {\n",
              "        vertical-align: top;\n",
              "    }\n",
              "\n",
              "    .dataframe thead th {\n",
              "        text-align: right;\n",
              "    }\n",
              "</style>\n",
              "<table border=\"1\" class=\"dataframe\">\n",
              "  <thead>\n",
              "    <tr style=\"text-align: right;\">\n",
              "      <th></th>\n",
              "      <th>ID</th>\n",
              "      <th>Age</th>\n",
              "      <th>Work_Experience</th>\n",
              "      <th>Family_Size</th>\n",
              "      <th>Gender_Female</th>\n",
              "      <th>Gender_Male</th>\n",
              "      <th>Ever_Married_No</th>\n",
              "      <th>Ever_Married_Yes</th>\n",
              "      <th>Ever_Married_missing</th>\n",
              "      <th>Graduated_No</th>\n",
              "      <th>...</th>\n",
              "      <th>Spending_Score_High</th>\n",
              "      <th>Spending_Score_Low</th>\n",
              "      <th>Var_1_Cat_1</th>\n",
              "      <th>Var_1_Cat_2</th>\n",
              "      <th>Var_1_Cat_3</th>\n",
              "      <th>Var_1_Cat_4</th>\n",
              "      <th>Var_1_Cat_5</th>\n",
              "      <th>Var_1_Cat_6</th>\n",
              "      <th>Var_1_Cat_7</th>\n",
              "      <th>Var_1_missing</th>\n",
              "    </tr>\n",
              "  </thead>\n",
              "  <tbody>\n",
              "    <tr>\n",
              "      <th>0</th>\n",
              "      <td>0.401023</td>\n",
              "      <td>0.323944</td>\n",
              "      <td>0.857143</td>\n",
              "      <td>0.250</td>\n",
              "      <td>0.0</td>\n",
              "      <td>1.0</td>\n",
              "      <td>0.0</td>\n",
              "      <td>1.0</td>\n",
              "      <td>0.0</td>\n",
              "      <td>1.0</td>\n",
              "      <td>...</td>\n",
              "      <td>0.0</td>\n",
              "      <td>0.0</td>\n",
              "      <td>0.0</td>\n",
              "      <td>0.0</td>\n",
              "      <td>0.0</td>\n",
              "      <td>1.0</td>\n",
              "      <td>0.0</td>\n",
              "      <td>0.0</td>\n",
              "      <td>0.0</td>\n",
              "      <td>0.0</td>\n",
              "    </tr>\n",
              "    <tr>\n",
              "      <th>1</th>\n",
              "      <td>0.087300</td>\n",
              "      <td>0.042254</td>\n",
              "      <td>0.285714</td>\n",
              "      <td>0.375</td>\n",
              "      <td>0.0</td>\n",
              "      <td>1.0</td>\n",
              "      <td>1.0</td>\n",
              "      <td>0.0</td>\n",
              "      <td>0.0</td>\n",
              "      <td>1.0</td>\n",
              "      <td>...</td>\n",
              "      <td>0.0</td>\n",
              "      <td>1.0</td>\n",
              "      <td>0.0</td>\n",
              "      <td>0.0</td>\n",
              "      <td>0.0</td>\n",
              "      <td>0.0</td>\n",
              "      <td>0.0</td>\n",
              "      <td>1.0</td>\n",
              "      <td>0.0</td>\n",
              "      <td>0.0</td>\n",
              "    </tr>\n",
              "    <tr>\n",
              "      <th>2</th>\n",
              "      <td>0.499666</td>\n",
              "      <td>0.253521</td>\n",
              "      <td>0.000000</td>\n",
              "      <td>0.000</td>\n",
              "      <td>1.0</td>\n",
              "      <td>0.0</td>\n",
              "      <td>0.0</td>\n",
              "      <td>1.0</td>\n",
              "      <td>0.0</td>\n",
              "      <td>0.0</td>\n",
              "      <td>...</td>\n",
              "      <td>0.0</td>\n",
              "      <td>1.0</td>\n",
              "      <td>0.0</td>\n",
              "      <td>0.0</td>\n",
              "      <td>0.0</td>\n",
              "      <td>0.0</td>\n",
              "      <td>0.0</td>\n",
              "      <td>1.0</td>\n",
              "      <td>0.0</td>\n",
              "      <td>0.0</td>\n",
              "    </tr>\n",
              "    <tr>\n",
              "      <th>3</th>\n",
              "      <td>0.779693</td>\n",
              "      <td>0.126761</td>\n",
              "      <td>0.000000</td>\n",
              "      <td>0.125</td>\n",
              "      <td>1.0</td>\n",
              "      <td>0.0</td>\n",
              "      <td>1.0</td>\n",
              "      <td>0.0</td>\n",
              "      <td>0.0</td>\n",
              "      <td>1.0</td>\n",
              "      <td>...</td>\n",
              "      <td>0.0</td>\n",
              "      <td>1.0</td>\n",
              "      <td>0.0</td>\n",
              "      <td>0.0</td>\n",
              "      <td>0.0</td>\n",
              "      <td>0.0</td>\n",
              "      <td>0.0</td>\n",
              "      <td>1.0</td>\n",
              "      <td>0.0</td>\n",
              "      <td>0.0</td>\n",
              "    </tr>\n",
              "    <tr>\n",
              "      <th>4</th>\n",
              "      <td>0.003781</td>\n",
              "      <td>0.000000</td>\n",
              "      <td>0.000000</td>\n",
              "      <td>0.625</td>\n",
              "      <td>1.0</td>\n",
              "      <td>0.0</td>\n",
              "      <td>1.0</td>\n",
              "      <td>0.0</td>\n",
              "      <td>0.0</td>\n",
              "      <td>1.0</td>\n",
              "      <td>...</td>\n",
              "      <td>0.0</td>\n",
              "      <td>1.0</td>\n",
              "      <td>0.0</td>\n",
              "      <td>0.0</td>\n",
              "      <td>0.0</td>\n",
              "      <td>0.0</td>\n",
              "      <td>0.0</td>\n",
              "      <td>1.0</td>\n",
              "      <td>0.0</td>\n",
              "      <td>0.0</td>\n",
              "    </tr>\n",
              "  </tbody>\n",
              "</table>\n",
              "<p>5 rows × 33 columns</p>\n",
              "</div>"
            ],
            "text/plain": [
              "         ID       Age  Work_Experience  Family_Size  Gender_Female  \\\n",
              "0  0.401023  0.323944         0.857143        0.250            0.0   \n",
              "1  0.087300  0.042254         0.285714        0.375            0.0   \n",
              "2  0.499666  0.253521         0.000000        0.000            1.0   \n",
              "3  0.779693  0.126761         0.000000        0.125            1.0   \n",
              "4  0.003781  0.000000         0.000000        0.625            1.0   \n",
              "\n",
              "   Gender_Male  Ever_Married_No  Ever_Married_Yes  Ever_Married_missing  \\\n",
              "0          1.0              0.0               1.0                   0.0   \n",
              "1          1.0              1.0               0.0                   0.0   \n",
              "2          0.0              0.0               1.0                   0.0   \n",
              "3          0.0              1.0               0.0                   0.0   \n",
              "4          0.0              1.0               0.0                   0.0   \n",
              "\n",
              "   Graduated_No  ...  Spending_Score_High  Spending_Score_Low  Var_1_Cat_1  \\\n",
              "0           1.0  ...                  0.0                 0.0          0.0   \n",
              "1           1.0  ...                  0.0                 1.0          0.0   \n",
              "2           0.0  ...                  0.0                 1.0          0.0   \n",
              "3           1.0  ...                  0.0                 1.0          0.0   \n",
              "4           1.0  ...                  0.0                 1.0          0.0   \n",
              "\n",
              "   Var_1_Cat_2  Var_1_Cat_3  Var_1_Cat_4  Var_1_Cat_5  Var_1_Cat_6  \\\n",
              "0          0.0          0.0          1.0          0.0          0.0   \n",
              "1          0.0          0.0          0.0          0.0          1.0   \n",
              "2          0.0          0.0          0.0          0.0          1.0   \n",
              "3          0.0          0.0          0.0          0.0          1.0   \n",
              "4          0.0          0.0          0.0          0.0          1.0   \n",
              "\n",
              "   Var_1_Cat_7  Var_1_missing  \n",
              "0          0.0            0.0  \n",
              "1          0.0            0.0  \n",
              "2          0.0            0.0  \n",
              "3          0.0            0.0  \n",
              "4          0.0            0.0  \n",
              "\n",
              "[5 rows x 33 columns]"
            ]
          },
          "execution_count": 76,
          "metadata": {},
          "output_type": "execute_result"
        }
      ],
      "source": [
        "test_X.head()"
      ]
    },
    {
      "cell_type": "markdown",
      "metadata": {
        "id": "fhJzCBA7P0f8"
      },
      "source": [
        "**Завдання 2. Важливо уважно прочитати все формулювання цього завдання до кінця!**\n",
        "\n",
        "Застосуйте методи ресемплингу даних SMOTE та SMOTE-Tomek з бібліотеки imbalanced-learn до тренувальної вибірки. В результаті у Вас має вийти 2 тренувальних набори: з апсемплингом зі SMOTE, та з ресамплингом з SMOTE-Tomek.\n",
        "\n",
        "Увага! В нашому наборі даних є як категоріальні дані, так і звичайні числові. Базовий SMOTE не буде правильно працювати з категоріальними даними, але є його модифікація, яка буде. Тому в цього завдання є 2 виконання\n",
        "\n",
        "  1. Застосувати SMOTE базовий лише на НЕкатегоріальних ознаках.\n",
        "\n",
        "  2. Переглянути інформацію про метод [SMOTENC](https://imbalanced-learn.org/dev/references/generated/imblearn.over_sampling.SMOTENC.html#imblearn.over_sampling.SMOTENC) і використати цей метод в цій задачі. За цей спосіб буде +3 бали за це завдання і він рекомендований для виконання.\n",
        "\n",
        "  **Підказка**: аби скористатись SMOTENC треба створити змінну, яка містить індекси ознак, які є категоріальними (їх номер серед колонок) і передати при ініціації екземпляра класу `SMOTENC(..., categorical_features=cat_feature_indeces)`.\n",
        "  \n",
        "  Ви також можете розглянути варіант використання варіації SMOTE, який працює ЛИШЕ з категоріальними ознаками [SMOTEN](https://imbalanced-learn.org/dev/references/generated/imblearn.over_sampling.SMOTEN.html)"
      ]
    },
    {
      "cell_type": "code",
      "execution_count": 77,
      "metadata": {},
      "outputs": [
        {
          "data": {
            "text/plain": [
              "(6454, 33)"
            ]
          },
          "execution_count": 77,
          "metadata": {},
          "output_type": "execute_result"
        }
      ],
      "source": [
        "train_X.shape"
      ]
    },
    {
      "cell_type": "code",
      "execution_count": 78,
      "metadata": {
        "id": "6NFUkQ_15HNX"
      },
      "outputs": [
        {
          "data": {
            "text/plain": [
              "(7256, 4)"
            ]
          },
          "execution_count": 78,
          "metadata": {},
          "output_type": "execute_result"
        }
      ],
      "source": [
        "from imblearn.over_sampling import SMOTE, SMOTENC\n",
        "\n",
        "smote = SMOTE(random_state=247)\n",
        "X_train_smote, Y_train_smote = smote.fit_resample(train_X[numeric_cols], train_targets)\n",
        "\n",
        "X_train_smote.shape"
      ]
    },
    {
      "cell_type": "code",
      "execution_count": 79,
      "metadata": {},
      "outputs": [
        {
          "data": {
            "text/plain": [
              "(7256, 33)"
            ]
          },
          "execution_count": 79,
          "metadata": {},
          "output_type": "execute_result"
        }
      ],
      "source": [
        "transformed_cols_ids = [col_id for col_id, col_name in enumerate(train_X.columns) if col_name in transformed_cols]\n",
        "\n",
        "smotenc = SMOTENC(random_state=247, categorical_features=transformed_cols_ids)\n",
        "X_train_smotenc, Y_train_smotenc = smotenc.fit_resample(train_X, train_targets)\n",
        "\n",
        "X_train_smotenc.shape"
      ]
    },
    {
      "cell_type": "code",
      "execution_count": 80,
      "metadata": {},
      "outputs": [
        {
          "data": {
            "text/plain": [
              "(5552, 33)"
            ]
          },
          "execution_count": 80,
          "metadata": {},
          "output_type": "execute_result"
        }
      ],
      "source": [
        "from imblearn.combine import SMOTETomek\n",
        "\n",
        "smote_tomek = SMOTETomek(random_state=247)\n",
        "X_train_smote_tomek, Y_train_smote_tomek = smote_tomek.fit_resample(train_X, train_targets)\n",
        "\n",
        "X_train_smote_tomek.shape"
      ]
    },
    {
      "cell_type": "markdown",
      "metadata": {
        "id": "ja4w_GgmT4D0"
      },
      "source": [
        "**Завдання 3**.\n",
        "  1. Навчіть модель логістичної регресії з використанням стратегії One-vs-Rest з логістичною регресією на оригінальних даних, збалансованих з SMOTE, збалансованих з Smote-Tomek.  \n",
        "  2. Виміряйте якість кожної з натренованих моделей використовуючи `sklearn.metrics.classification_report`.\n",
        "  3. Напишіть, яку метрику ви обрали для порівняння моделей.\n",
        "  4. Яка модель найкраща?\n",
        "  5. Якщо немає суттєвої різниці між моделями - напишіть свою гіпотезу, чому?"
      ]
    },
    {
      "cell_type": "code",
      "execution_count": 81,
      "metadata": {
        "id": "nxWVeRan5JBh"
      },
      "outputs": [],
      "source": [
        "from sklearn.multiclass import OneVsRestClassifier, OneVsOneClassifier\n",
        "from sklearn.linear_model import LogisticRegression\n",
        "from sklearn.metrics import classification_report\n",
        "\n",
        "\n",
        "log_reg = LogisticRegression(solver='liblinear')\n",
        "\n",
        "ovr_clf = OneVsRestClassifier(log_reg)"
      ]
    },
    {
      "cell_type": "code",
      "execution_count": 82,
      "metadata": {},
      "outputs": [],
      "source": [
        "def train_predict(model, X_train, Y_train, X_test=test_X, Y_test=test_targets):\n",
        "    \n",
        "    model.fit(X_train, Y_train)\n",
        "\n",
        "    predictions_train = model.predict(X_train)\n",
        "    predictions_test = model.predict(X_test)\n",
        "\n",
        "    print(\"Тренувальні данні\")\n",
        "    print(classification_report(Y_train, predictions_train))\n",
        "    print(\"---------------------------------------------------\")\n",
        "    print(\"Тестові данні\")\n",
        "    print(classification_report(Y_test, predictions_test))\n"
      ]
    },
    {
      "cell_type": "code",
      "execution_count": 83,
      "metadata": {},
      "outputs": [
        {
          "name": "stdout",
          "output_type": "stream",
          "text": [
            "Тренувальні данні\n",
            "              precision    recall  f1-score   support\n",
            "\n",
            "           A       0.43      0.50      0.46      1578\n",
            "           B       0.41      0.17      0.24      1486\n",
            "           C       0.51      0.63      0.56      1576\n",
            "           D       0.64      0.72      0.68      1814\n",
            "\n",
            "    accuracy                           0.52      6454\n",
            "   macro avg       0.50      0.51      0.49      6454\n",
            "weighted avg       0.50      0.52      0.50      6454\n",
            "\n",
            "---------------------------------------------------\n",
            "Тестові данні\n",
            "              precision    recall  f1-score   support\n",
            "\n",
            "           A       0.43      0.47      0.45       394\n",
            "           B       0.41      0.17      0.24       372\n",
            "           C       0.49      0.62      0.55       394\n",
            "           D       0.65      0.75      0.70       454\n",
            "\n",
            "    accuracy                           0.52      1614\n",
            "   macro avg       0.49      0.50      0.48      1614\n",
            "weighted avg       0.50      0.52      0.49      1614\n",
            "\n"
          ]
        }
      ],
      "source": [
        "res = train_predict(ovr_clf, train_X, train_targets)"
      ]
    },
    {
      "cell_type": "code",
      "execution_count": 84,
      "metadata": {},
      "outputs": [
        {
          "name": "stdout",
          "output_type": "stream",
          "text": [
            "Тренувальні данні\n",
            "              precision    recall  f1-score   support\n",
            "\n",
            "           A       0.34      0.30      0.32      1814\n",
            "           B       0.31      0.11      0.16      1814\n",
            "           C       0.39      0.47      0.42      1814\n",
            "           D       0.47      0.73      0.57      1814\n",
            "\n",
            "    accuracy                           0.40      7256\n",
            "   macro avg       0.38      0.40      0.37      7256\n",
            "weighted avg       0.38      0.40      0.37      7256\n",
            "\n",
            "---------------------------------------------------\n",
            "Тестові данні\n",
            "              precision    recall  f1-score   support\n",
            "\n",
            "           A       0.34      0.27      0.30       394\n",
            "           B       0.23      0.08      0.12       372\n",
            "           C       0.37      0.44      0.40       394\n",
            "           D       0.49      0.76      0.60       454\n",
            "\n",
            "    accuracy                           0.41      1614\n",
            "   macro avg       0.36      0.39      0.36      1614\n",
            "weighted avg       0.37      0.41      0.37      1614\n",
            "\n"
          ]
        }
      ],
      "source": [
        "res_smote = train_predict(ovr_clf, X_train_smote, Y_train_smote, test_X[numeric_cols], test_targets)"
      ]
    },
    {
      "cell_type": "code",
      "execution_count": 85,
      "metadata": {},
      "outputs": [
        {
          "name": "stdout",
          "output_type": "stream",
          "text": [
            "Тренувальні данні\n",
            "              precision    recall  f1-score   support\n",
            "\n",
            "           A       0.43      0.50      0.46      1814\n",
            "           B       0.42      0.25      0.31      1814\n",
            "           C       0.51      0.60      0.55      1814\n",
            "           D       0.64      0.68      0.66      1814\n",
            "\n",
            "    accuracy                           0.51      7256\n",
            "   macro avg       0.50      0.51      0.50      7256\n",
            "weighted avg       0.50      0.51      0.50      7256\n",
            "\n",
            "---------------------------------------------------\n",
            "Тестові данні\n",
            "              precision    recall  f1-score   support\n",
            "\n",
            "           A       0.42      0.47      0.44       394\n",
            "           B       0.37      0.23      0.28       372\n",
            "           C       0.50      0.57      0.53       394\n",
            "           D       0.67      0.72      0.69       454\n",
            "\n",
            "    accuracy                           0.51      1614\n",
            "   macro avg       0.49      0.50      0.49      1614\n",
            "weighted avg       0.50      0.51      0.50      1614\n",
            "\n"
          ]
        }
      ],
      "source": [
        "res_smotenc = train_predict(ovr_clf, X_train_smotenc, Y_train_smotenc)"
      ]
    },
    {
      "cell_type": "code",
      "execution_count": 86,
      "metadata": {},
      "outputs": [
        {
          "name": "stdout",
          "output_type": "stream",
          "text": [
            "Тренувальні данні\n",
            "              precision    recall  f1-score   support\n",
            "\n",
            "           A       0.47      0.55      0.51      1349\n",
            "           B       0.44      0.26      0.33      1359\n",
            "           C       0.55      0.65      0.60      1412\n",
            "           D       0.69      0.72      0.71      1432\n",
            "\n",
            "    accuracy                           0.55      5552\n",
            "   macro avg       0.54      0.55      0.53      5552\n",
            "weighted avg       0.54      0.55      0.54      5552\n",
            "\n",
            "---------------------------------------------------\n",
            "Тестові данні\n",
            "              precision    recall  f1-score   support\n",
            "\n",
            "           A       0.42      0.50      0.45       394\n",
            "           B       0.35      0.21      0.26       372\n",
            "           C       0.50      0.58      0.54       394\n",
            "           D       0.68      0.70      0.69       454\n",
            "\n",
            "    accuracy                           0.51      1614\n",
            "   macro avg       0.49      0.50      0.49      1614\n",
            "weighted avg       0.50      0.51      0.50      1614\n",
            "\n"
          ]
        }
      ],
      "source": [
        "res_smote_tomec = train_predict(ovr_clf, X_train_smote_tomek, Y_train_smote_tomek)"
      ]
    },
    {
      "cell_type": "markdown",
      "metadata": {},
      "source": [
        "Для оцінки якості моделей оберемо `macro avg f1-score`. \n",
        "\n",
        "Найгірше значення матрики у моделі навченої на збаланасованому методом `SMOTE` датасеті з без категоріальних ознак. Очевидно, це зумовлено тим, що у моделі замало ознак для виявлення залежності.\n",
        "\n",
        "Іші моделі мають приблизно однакові значення, 0.48 для незбалансованих даних та 0.49 для збалансованих методами `SMOTENC` та `SmoteTomek` на тестових даних. Між моделями немає значної різниці скоріщ за все через те, що початкова різниця між кількістю ексземплярів різних класів не була дуже великою"
      ]
    }
  ],
  "metadata": {
    "colab": {
      "provenance": []
    },
    "kernelspec": {
      "display_name": "Python 3",
      "name": "python3"
    },
    "language_info": {
      "codemirror_mode": {
        "name": "ipython",
        "version": 3
      },
      "file_extension": ".py",
      "mimetype": "text/x-python",
      "name": "python",
      "nbconvert_exporter": "python",
      "pygments_lexer": "ipython3",
      "version": "3.11.7"
    }
  },
  "nbformat": 4,
  "nbformat_minor": 0
}
