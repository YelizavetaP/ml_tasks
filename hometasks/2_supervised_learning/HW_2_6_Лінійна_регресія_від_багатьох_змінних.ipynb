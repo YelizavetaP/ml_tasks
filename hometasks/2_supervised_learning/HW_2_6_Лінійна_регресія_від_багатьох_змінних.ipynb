{
  "cells": [
    {
      "cell_type": "markdown",
      "metadata": {
        "id": "87fwNK3xoy5K"
      },
      "source": [
        "В цьому домашньому завданні ми з вами побудуємо повноцінне ML-рішення реальної ML-задачі. Ви вже маєте всі знання, які для цього потрібні. Дотримуйтесь інструкцій, та користуйтесь матеріалами лекцій, аби виконувати завдання. Тут інструкції будуть детальні, а в подільших завданнях - будуть ставати все менш детальними, аби ви вже починали самостійно структурувати ML-проєкт і до кінця курсу для вас розвʼязати будь-яку ML–задачу було eazy-breezy.\n",
        "\n",
        "## Dataset\n",
        "\n",
        "Будемо працювати з набором даних `cars.csv`, який описує автомобілі і їх ціну у індійських рупіях :) Мета - передбачити ціну авто за його характеристиками. Опис набору даних:\n",
        "\n",
        "| Назва рядка            | Опис                                                                                                                                                 |\n",
        "|------------------------|--------------------------------------------------------------------------------------------------------------------------------------------------------|\n",
        "| Car_ID                 | Унікальний ідентифікатор для кожного оголошення про автомобіль.                                                                                         |\n",
        "| Brand                  | Бренд або виробник автомобіля (наприклад, Toyota, Honda, Ford тощо).                                                                                     |\n",
        "| Model                  | Модель автомобіля (наприклад, Camry, Civic, Mustang тощо).                                                                                               |\n",
        "| Year                   | Рік виготовлення автомобіля.                                                                                                                            |\n",
        "| Kilometers_Driven      | Загальний пробіг автомобіля у кілометрах.                                                                                                               |\n",
        "| Fuel_Type              | Тип палива, який використовує автомобіль (наприклад, бензин, дизель, електро тощо).                                                                      |\n",
        "| Transmission           | Тип трансмісії автомобіля (наприклад, механічна, автоматична).                                                                                           |\n",
        "| Owner_Type             | Кількість попередніх власників автомобіля (наприклад, перший, другий, третій).                                                                           |\n",
        "| Mileage                | Паливна ефективність автомобіля у кілометрах на літр.                                                                                                   |\n",
        "| Engine                 | Об'єм двигуна автомобіля в кубічних сантиметрах (CC).                                                                                                   |\n",
        "| Power                  | Максимальна потужність автомобіля в кінських силах (bhp).                                                                                               |\n",
        "| Seats                  | Кількість місць в автомобілі.                                                                                                                           |\n",
        "| Price                  | Вартість автомобіля в INR (індійські рупії), що є цільовою змінною для прогнозування.                                                                   |"
      ]
    },
    {
      "cell_type": "markdown",
      "metadata": {
        "id": "52f35fee",
        "papermill": {
          "duration": 0.006069,
          "end_time": "2024-05-08T20:04:53.925383",
          "exception": false,
          "start_time": "2024-05-08T20:04:53.919314",
          "status": "completed"
        },
        "tags": []
      },
      "source": [
        "# Імпорти\n",
        "\n",
        "Для зручності рекомендую всі імпорти розмістити тут нагорі, аби коли ви перезавантажували ноутбук, одразу можна було в один запуск клітинки імпортувати всі потрібні бібліотеки."
      ]
    },
    {
      "cell_type": "code",
      "execution_count": 269,
      "metadata": {
        "execution": {
          "iopub.execute_input": "2024-05-08T20:04:53.940205Z",
          "iopub.status.busy": "2024-05-08T20:04:53.939265Z",
          "iopub.status.idle": "2024-05-08T20:04:56.366812Z",
          "shell.execute_reply": "2024-05-08T20:04:56.365880Z"
        },
        "id": "0a49b1bb",
        "papermill": {
          "duration": 2.43769,
          "end_time": "2024-05-08T20:04:56.369349",
          "exception": false,
          "start_time": "2024-05-08T20:04:53.931659",
          "status": "completed"
        },
        "tags": []
      },
      "outputs": [],
      "source": [
        "import pandas as pd\n",
        "import numpy as np\n",
        "import matplotlib.pyplot as plt\n",
        "import seaborn as sns\n",
        "\n",
        "from sklearn.model_selection import train_test_split\n",
        "from sklearn.linear_model import LinearRegression\n",
        "from sklearn.metrics import root_mean_squared_error\n",
        "from sklearn.preprocessing import OneHotEncoder\n",
        "from sklearn.preprocessing import MinMaxScaler, StandardScaler\n",
        "\n",
        "import statsmodels.api as sm\n",
        "\n"
      ]
    },
    {
      "cell_type": "markdown",
      "metadata": {
        "id": "mpKIfgg-FV98"
      },
      "source": [
        "# Знайомство з даними"
      ]
    },
    {
      "cell_type": "markdown",
      "metadata": {
        "id": "fc07024e",
        "papermill": {
          "duration": 0.006026,
          "end_time": "2024-05-08T20:04:56.381857",
          "exception": false,
          "start_time": "2024-05-08T20:04:56.375831",
          "status": "completed"
        },
        "tags": []
      },
      "source": [
        "**Завдання 1.** Завантажте набір даних `cars.csv` в pandas.DataFrame. Виведіть перші 5 записів."
      ]
    },
    {
      "cell_type": "code",
      "execution_count": 270,
      "metadata": {
        "id": "lKtSXyENfJxD"
      },
      "outputs": [
        {
          "data": {
            "text/html": [
              "<div>\n",
              "<style scoped>\n",
              "    .dataframe tbody tr th:only-of-type {\n",
              "        vertical-align: middle;\n",
              "    }\n",
              "\n",
              "    .dataframe tbody tr th {\n",
              "        vertical-align: top;\n",
              "    }\n",
              "\n",
              "    .dataframe thead th {\n",
              "        text-align: right;\n",
              "    }\n",
              "</style>\n",
              "<table border=\"1\" class=\"dataframe\">\n",
              "  <thead>\n",
              "    <tr style=\"text-align: right;\">\n",
              "      <th></th>\n",
              "      <th>Car_ID</th>\n",
              "      <th>Brand</th>\n",
              "      <th>Model</th>\n",
              "      <th>Year</th>\n",
              "      <th>Kilometers_Driven</th>\n",
              "      <th>Fuel_Type</th>\n",
              "      <th>Transmission</th>\n",
              "      <th>Owner_Type</th>\n",
              "      <th>Mileage</th>\n",
              "      <th>Engine</th>\n",
              "      <th>Power</th>\n",
              "      <th>Seats</th>\n",
              "      <th>Price</th>\n",
              "    </tr>\n",
              "  </thead>\n",
              "  <tbody>\n",
              "    <tr>\n",
              "      <th>0</th>\n",
              "      <td>1</td>\n",
              "      <td>Toyota</td>\n",
              "      <td>Corolla</td>\n",
              "      <td>2018</td>\n",
              "      <td>50000</td>\n",
              "      <td>Petrol</td>\n",
              "      <td>Manual</td>\n",
              "      <td>First</td>\n",
              "      <td>15</td>\n",
              "      <td>1498</td>\n",
              "      <td>108</td>\n",
              "      <td>5</td>\n",
              "      <td>800000</td>\n",
              "    </tr>\n",
              "    <tr>\n",
              "      <th>1</th>\n",
              "      <td>2</td>\n",
              "      <td>Honda</td>\n",
              "      <td>Civic</td>\n",
              "      <td>2019</td>\n",
              "      <td>40000</td>\n",
              "      <td>Petrol</td>\n",
              "      <td>Automatic</td>\n",
              "      <td>Second</td>\n",
              "      <td>17</td>\n",
              "      <td>1597</td>\n",
              "      <td>140</td>\n",
              "      <td>5</td>\n",
              "      <td>1000000</td>\n",
              "    </tr>\n",
              "    <tr>\n",
              "      <th>2</th>\n",
              "      <td>3</td>\n",
              "      <td>Ford</td>\n",
              "      <td>Mustang</td>\n",
              "      <td>2017</td>\n",
              "      <td>20000</td>\n",
              "      <td>Petrol</td>\n",
              "      <td>Automatic</td>\n",
              "      <td>First</td>\n",
              "      <td>10</td>\n",
              "      <td>4951</td>\n",
              "      <td>395</td>\n",
              "      <td>4</td>\n",
              "      <td>2500000</td>\n",
              "    </tr>\n",
              "    <tr>\n",
              "      <th>3</th>\n",
              "      <td>4</td>\n",
              "      <td>Maruti</td>\n",
              "      <td>Swift</td>\n",
              "      <td>2020</td>\n",
              "      <td>30000</td>\n",
              "      <td>Diesel</td>\n",
              "      <td>Manual</td>\n",
              "      <td>Third</td>\n",
              "      <td>23</td>\n",
              "      <td>1248</td>\n",
              "      <td>74</td>\n",
              "      <td>5</td>\n",
              "      <td>600000</td>\n",
              "    </tr>\n",
              "    <tr>\n",
              "      <th>4</th>\n",
              "      <td>5</td>\n",
              "      <td>Hyundai</td>\n",
              "      <td>Sonata</td>\n",
              "      <td>2016</td>\n",
              "      <td>60000</td>\n",
              "      <td>Diesel</td>\n",
              "      <td>Automatic</td>\n",
              "      <td>Second</td>\n",
              "      <td>18</td>\n",
              "      <td>1999</td>\n",
              "      <td>194</td>\n",
              "      <td>5</td>\n",
              "      <td>850000</td>\n",
              "    </tr>\n",
              "  </tbody>\n",
              "</table>\n",
              "</div>"
            ],
            "text/plain": [
              "   Car_ID    Brand    Model  Year  Kilometers_Driven Fuel_Type Transmission  \\\n",
              "0       1   Toyota  Corolla  2018              50000    Petrol       Manual   \n",
              "1       2    Honda    Civic  2019              40000    Petrol    Automatic   \n",
              "2       3     Ford  Mustang  2017              20000    Petrol    Automatic   \n",
              "3       4   Maruti    Swift  2020              30000    Diesel       Manual   \n",
              "4       5  Hyundai   Sonata  2016              60000    Diesel    Automatic   \n",
              "\n",
              "  Owner_Type  Mileage  Engine  Power  Seats    Price  \n",
              "0      First       15    1498    108      5   800000  \n",
              "1     Second       17    1597    140      5  1000000  \n",
              "2      First       10    4951    395      4  2500000  \n",
              "3      Third       23    1248     74      5   600000  \n",
              "4     Second       18    1999    194      5   850000  "
            ]
          },
          "execution_count": 270,
          "metadata": {},
          "output_type": "execute_result"
        }
      ],
      "source": [
        "cars_df = pd.read_csv('../../data/cars.csv')\n",
        "cars_df.head()"
      ]
    },
    {
      "cell_type": "markdown",
      "metadata": {
        "id": "BlayjhivF7Ha"
      },
      "source": [
        "**Завдання 2.** Виведіть типи даних колонок даних, а також дослідіть, які по факту типи даних мають записи в кожній колонці (тип `object` може містити різні типи даних) і скільки значень є в кожній категоріальній колонці.\n",
        "\n",
        "Напишіть висновок, скільки в наборі даних числових та категоріальних колонок кожного з трьох різних типів (бінарна, мільтикатегоріальна без порядку, мультикатегоріальна з порядком). Шаблон висновку\n",
        "\n",
        "```\n",
        "В наборі даних 10 числових і 10 категоріальних колонок з них\n",
        "- 2 бінарні (мають лише 2 значення)\n",
        "- 6 мультикатегоріальних (більше 2х значень) зі значеннями, для яких немає відношення порядку\n",
        "- 2 колонки, в яких можна встановити відношення порядку (наприклад Small<Medium<Large)\n",
        "```\n",
        "\n",
        "Якщо не знаєте, як це зробити з `pandas` - ось підказка, які методи можуть допомогти вам виконати це завдання\n",
        "\n",
        "- pandas.DataFrame.info()\n",
        "- pandas.DataFrame.dtypes\n",
        "- pandas.DataFrame.loc[...]\n",
        "- pandas.DataFrame.select_dtypes(...)\n",
        "- pandas.Series.unique()\n",
        "- pandas.Series.nunique()\n",
        "\n",
        "Детальніше ознайомитись з кожним ви можете в [документації](https://pandas.pydata.org/docs/reference/frame.html), або написати в окремій клітинці знак питання і назву методу (тільки приберіть це перед здачею, бо перегляд документації - не допомагає зрозуміти дані і хід думок, а Ваша робота - це як презентація замовнику зробленої задачі).\n"
      ]
    },
    {
      "cell_type": "code",
      "execution_count": 271,
      "metadata": {
        "id": "jRUUJd2CJW3s"
      },
      "outputs": [],
      "source": [
        "# приклад як викликати документацію, якщо у Вас pandas імпортований як pd\n",
        "# ?pd.DataFrame.info"
      ]
    },
    {
      "cell_type": "markdown",
      "metadata": {},
      "source": [
        "Подивимось які взагалі є колонки в датасеті і які в них типи даних"
      ]
    },
    {
      "cell_type": "code",
      "execution_count": 272,
      "metadata": {
        "id": "a9bTpxKtfL7H"
      },
      "outputs": [
        {
          "name": "stdout",
          "output_type": "stream",
          "text": [
            "<class 'pandas.core.frame.DataFrame'>\n",
            "RangeIndex: 100 entries, 0 to 99\n",
            "Data columns (total 13 columns):\n",
            " #   Column             Non-Null Count  Dtype \n",
            "---  ------             --------------  ----- \n",
            " 0   Car_ID             100 non-null    int64 \n",
            " 1   Brand              100 non-null    object\n",
            " 2   Model              100 non-null    object\n",
            " 3   Year               100 non-null    int64 \n",
            " 4   Kilometers_Driven  100 non-null    int64 \n",
            " 5   Fuel_Type          100 non-null    object\n",
            " 6   Transmission       100 non-null    object\n",
            " 7   Owner_Type         100 non-null    object\n",
            " 8   Mileage            100 non-null    int64 \n",
            " 9   Engine             100 non-null    int64 \n",
            " 10  Power              100 non-null    int64 \n",
            " 11  Seats              100 non-null    int64 \n",
            " 12  Price              100 non-null    int64 \n",
            "dtypes: int64(8), object(5)\n",
            "memory usage: 10.3+ KB\n"
          ]
        }
      ],
      "source": [
        "cars_df.info()"
      ]
    },
    {
      "cell_type": "markdown",
      "metadata": {},
      "source": [
        "Виведемо окремо числові та категоріальні колонки"
      ]
    },
    {
      "cell_type": "code",
      "execution_count": 273,
      "metadata": {},
      "outputs": [
        {
          "data": {
            "text/plain": [
              "Index(['Car_ID', 'Year', 'Kilometers_Driven', 'Mileage', 'Engine', 'Power',\n",
              "       'Seats', 'Price'],\n",
              "      dtype='object')"
            ]
          },
          "execution_count": 273,
          "metadata": {},
          "output_type": "execute_result"
        }
      ],
      "source": [
        "cars_df.select_dtypes(include='number').columns"
      ]
    },
    {
      "cell_type": "code",
      "execution_count": 274,
      "metadata": {},
      "outputs": [
        {
          "data": {
            "text/plain": [
              "Index(['Brand', 'Model', 'Fuel_Type', 'Transmission', 'Owner_Type'], dtype='object')"
            ]
          },
          "execution_count": 274,
          "metadata": {},
          "output_type": "execute_result"
        }
      ],
      "source": [
        "cars_df.select_dtypes(include='object').columns\n"
      ]
    },
    {
      "cell_type": "markdown",
      "metadata": {},
      "source": [
        "Має мо 5 категоріальних колонок: `Brand`, `Model`, `Fuel_Type`, `Transmission`, `Owner_Type`.\n",
        "\n",
        "Подивимось як виглядають дані в них та скільки унікальних значень в кожній з них"
      ]
    },
    {
      "cell_type": "code",
      "execution_count": 275,
      "metadata": {},
      "outputs": [
        {
          "data": {
            "text/html": [
              "<div>\n",
              "<style scoped>\n",
              "    .dataframe tbody tr th:only-of-type {\n",
              "        vertical-align: middle;\n",
              "    }\n",
              "\n",
              "    .dataframe tbody tr th {\n",
              "        vertical-align: top;\n",
              "    }\n",
              "\n",
              "    .dataframe thead th {\n",
              "        text-align: right;\n",
              "    }\n",
              "</style>\n",
              "<table border=\"1\" class=\"dataframe\">\n",
              "  <thead>\n",
              "    <tr style=\"text-align: right;\">\n",
              "      <th></th>\n",
              "      <th>Brand</th>\n",
              "      <th>Model</th>\n",
              "      <th>Fuel_Type</th>\n",
              "      <th>Transmission</th>\n",
              "      <th>Owner_Type</th>\n",
              "    </tr>\n",
              "  </thead>\n",
              "  <tbody>\n",
              "    <tr>\n",
              "      <th>0</th>\n",
              "      <td>Toyota</td>\n",
              "      <td>Corolla</td>\n",
              "      <td>Petrol</td>\n",
              "      <td>Manual</td>\n",
              "      <td>First</td>\n",
              "    </tr>\n",
              "    <tr>\n",
              "      <th>1</th>\n",
              "      <td>Honda</td>\n",
              "      <td>Civic</td>\n",
              "      <td>Petrol</td>\n",
              "      <td>Automatic</td>\n",
              "      <td>Second</td>\n",
              "    </tr>\n",
              "    <tr>\n",
              "      <th>2</th>\n",
              "      <td>Ford</td>\n",
              "      <td>Mustang</td>\n",
              "      <td>Petrol</td>\n",
              "      <td>Automatic</td>\n",
              "      <td>First</td>\n",
              "    </tr>\n",
              "    <tr>\n",
              "      <th>3</th>\n",
              "      <td>Maruti</td>\n",
              "      <td>Swift</td>\n",
              "      <td>Diesel</td>\n",
              "      <td>Manual</td>\n",
              "      <td>Third</td>\n",
              "    </tr>\n",
              "    <tr>\n",
              "      <th>4</th>\n",
              "      <td>Hyundai</td>\n",
              "      <td>Sonata</td>\n",
              "      <td>Diesel</td>\n",
              "      <td>Automatic</td>\n",
              "      <td>Second</td>\n",
              "    </tr>\n",
              "    <tr>\n",
              "      <th>...</th>\n",
              "      <td>...</td>\n",
              "      <td>...</td>\n",
              "      <td>...</td>\n",
              "      <td>...</td>\n",
              "      <td>...</td>\n",
              "    </tr>\n",
              "    <tr>\n",
              "      <th>95</th>\n",
              "      <td>Mercedes</td>\n",
              "      <td>C-Class</td>\n",
              "      <td>Diesel</td>\n",
              "      <td>Automatic</td>\n",
              "      <td>First</td>\n",
              "    </tr>\n",
              "    <tr>\n",
              "      <th>96</th>\n",
              "      <td>Toyota</td>\n",
              "      <td>Innova Crysta</td>\n",
              "      <td>Diesel</td>\n",
              "      <td>Manual</td>\n",
              "      <td>Second</td>\n",
              "    </tr>\n",
              "    <tr>\n",
              "      <th>97</th>\n",
              "      <td>Ford</td>\n",
              "      <td>EcoSport</td>\n",
              "      <td>Petrol</td>\n",
              "      <td>Manual</td>\n",
              "      <td>Third</td>\n",
              "    </tr>\n",
              "    <tr>\n",
              "      <th>98</th>\n",
              "      <td>Hyundai</td>\n",
              "      <td>Verna</td>\n",
              "      <td>Petrol</td>\n",
              "      <td>Automatic</td>\n",
              "      <td>Second</td>\n",
              "    </tr>\n",
              "    <tr>\n",
              "      <th>99</th>\n",
              "      <td>Tata</td>\n",
              "      <td>Altroz</td>\n",
              "      <td>Petrol</td>\n",
              "      <td>Manual</td>\n",
              "      <td>First</td>\n",
              "    </tr>\n",
              "  </tbody>\n",
              "</table>\n",
              "<p>100 rows × 5 columns</p>\n",
              "</div>"
            ],
            "text/plain": [
              "       Brand          Model Fuel_Type Transmission Owner_Type\n",
              "0     Toyota        Corolla    Petrol       Manual      First\n",
              "1      Honda          Civic    Petrol    Automatic     Second\n",
              "2       Ford        Mustang    Petrol    Automatic      First\n",
              "3     Maruti          Swift    Diesel       Manual      Third\n",
              "4    Hyundai         Sonata    Diesel    Automatic     Second\n",
              "..       ...            ...       ...          ...        ...\n",
              "95  Mercedes        C-Class    Diesel    Automatic      First\n",
              "96    Toyota  Innova Crysta    Diesel       Manual     Second\n",
              "97      Ford       EcoSport    Petrol       Manual      Third\n",
              "98   Hyundai          Verna    Petrol    Automatic     Second\n",
              "99      Tata         Altroz    Petrol       Manual      First\n",
              "\n",
              "[100 rows x 5 columns]"
            ]
          },
          "execution_count": 275,
          "metadata": {},
          "output_type": "execute_result"
        }
      ],
      "source": [
        "cars_df.select_dtypes(include='object')"
      ]
    },
    {
      "cell_type": "code",
      "execution_count": 276,
      "metadata": {},
      "outputs": [
        {
          "name": "stdout",
          "output_type": "stream",
          "text": [
            "Колонка Brand має 11 унікальних значень:\n",
            " ['Toyota' 'Honda' 'Ford' 'Maruti' 'Hyundai' 'Tata' 'Mahindra' 'Volkswagen'\n",
            " 'Audi' 'BMW' 'Mercedes']\n"
          ]
        }
      ],
      "source": [
        "print(f'Колонка Brand має {cars_df.Brand.nunique()} унікальних значень:\\n {cars_df.Brand.unique()}')"
      ]
    },
    {
      "cell_type": "code",
      "execution_count": 277,
      "metadata": {},
      "outputs": [
        {
          "name": "stdout",
          "output_type": "stream",
          "text": [
            "Колонка Model має 58 унікальних значень:\n",
            " ['Corolla' 'Civic' 'Mustang' 'Swift' 'Sonata' 'Nexon' 'Scorpio' 'Polo'\n",
            " 'A4' 'X1' 'C-Class' 'Endeavour' 'Creta' 'Harrier' 'Ertiga' 'City'\n",
            " 'Tiguan' 'Q3' '5 Series' 'GLC' 'Innova' 'Figo' 'Verna' 'Altroz' 'Thar'\n",
            " 'Passat' 'A6' 'X3' 'E-Class' 'Fortuner' 'Aspire' 'Elantra' 'Safari'\n",
            " 'Vitara' 'WR-V' 'Ameo' 'A3' '7 Series' 'GLE' 'Yaris' 'Ranger' 'Santro'\n",
            " 'Tigor' 'S-Cross' 'BR-V' 'T-Roc' 'Q7' 'X5' 'GLA' 'Camry' 'Venue' 'Tiago'\n",
            " 'XUV300' 'Vento' 'A5' '3 Series' 'Innova Crysta' 'EcoSport']\n"
          ]
        }
      ],
      "source": [
        "print(f'Колонка Model має {cars_df.Model.nunique()} унікальних значень:\\n {cars_df.Model.unique()}')\n"
      ]
    },
    {
      "cell_type": "code",
      "execution_count": 278,
      "metadata": {},
      "outputs": [
        {
          "name": "stdout",
          "output_type": "stream",
          "text": [
            "Колонка Fuel_Type має 2 унікальних значень:\n",
            " ['Petrol' 'Diesel']\n"
          ]
        }
      ],
      "source": [
        "print(f'Колонка Fuel_Type має {cars_df.Fuel_Type.nunique()} унікальних значень:\\n {cars_df.Fuel_Type.unique()}')\n"
      ]
    },
    {
      "cell_type": "code",
      "execution_count": 279,
      "metadata": {},
      "outputs": [
        {
          "name": "stdout",
          "output_type": "stream",
          "text": [
            "Колонка Transmission має 2 унікальних значень:\n",
            " ['Manual' 'Automatic']\n"
          ]
        }
      ],
      "source": [
        "print(f'Колонка Transmission має {cars_df.Transmission.nunique()} унікальних значень:\\n {cars_df.Transmission.unique()}')\n"
      ]
    },
    {
      "cell_type": "code",
      "execution_count": 280,
      "metadata": {},
      "outputs": [
        {
          "name": "stdout",
          "output_type": "stream",
          "text": [
            "Колонка Owner_Type має 3 унікальних значень:\n",
            " ['First' 'Second' 'Third']\n"
          ]
        }
      ],
      "source": [
        "print(f'Колонка Owner_Type має {cars_df.Owner_Type.nunique()} унікальних значень:\\n {cars_df.Owner_Type.unique()}')\n"
      ]
    },
    {
      "cell_type": "markdown",
      "metadata": {},
      "source": [
        "В наборі даних 8 числових і 5 категоріальних колонок з них\n",
        "- 2 бінарні (мають лише 2 значення) (`Fuel_Type`, `Transmission`)\n",
        "- 2 мультикатегоріальні (більше 2х значень) зі значеннями, для яких немає відношення порядку (`Brand`, `Model`)\n",
        "- 1 колонка, в якії можна встановити відношення порядку (наприклад Small<Medium<Large) (`Owner_Type`)"
      ]
    },
    {
      "cell_type": "markdown",
      "metadata": {
        "id": "feZvNdSXO-tn"
      },
      "source": [
        "**Завдання 3**. Розділіть дані на тренувальні і тест. Відведіть в тест 20%, поставте `random_state=12`. Ми будемо передбачати колонку `Price` - тож, вона є цільовою змінною. В результаті у Вас має бути 4 набори даних `X_train, X_test, y_train, y_test`.\n",
        "\n",
        "Надалі ми всюди тренуємо методи для кодування, масштабування та саму модель тільки на тренувальних даних X_train (та y_train для моделі), а на тестувальних лише використовуємо вже навчені методи для кодування, масштабування і модель викликаючи в них `transform()` (для методів обробки даних) або `predict()` (для моделі).\n",
        "\n",
        "І так само треба робити завжди."
      ]
    },
    {
      "cell_type": "code",
      "execution_count": 281,
      "metadata": {},
      "outputs": [],
      "source": [
        "target = cars_df.Price\n",
        "inputs = cars_df.drop('Price', axis=1)"
      ]
    },
    {
      "cell_type": "code",
      "execution_count": 282,
      "metadata": {
        "id": "lkugT6mmfM2p"
      },
      "outputs": [],
      "source": [
        "X_train, X_test, Y_train, Y_test = train_test_split(inputs, target, test_size=0.2,  random_state=12)"
      ]
    },
    {
      "cell_type": "markdown",
      "metadata": {
        "id": "EvzXSbIxKBwR"
      },
      "source": [
        "**Завдання 4**. Кодуємо категоріальні колонки.\n",
        "\n",
        "1. Закодуйте колонки з бінарними значеннями `Fuel_Type` і `Transmission` так, аби вони були у чисельному представленні і містили лише 0 так 1. Приклад був у лекції. Значення 1 нехай буде у категорії, яка містить більше значень в колонці.\n",
        "\n",
        "2. Закодуйте колонку `Brand` з використанням `sklearn.preprocessing.OneHotEncoder` аналогічно до того, як ми робили це в лекції. Увага! Ми робимо виклик методу `Encoder.fit()` на тренувальних даних `X_train`, а на тестувальних тільки викликаємо `Encoder.transform()`. Додайте закодовані значення в набори даних `X_train`, `X_test`.\n",
        "\n",
        "3. Колонку `Owner_Type` з використанням `sklearn.preprocessing.OrdinalEncoder` я закодую для вас. Проаналізуйте, що відбувається.\n",
        "\n",
        "Колонка `Model` містять забагато значень для кодування в тому вигляді, як вона є зараз, з огляду на невелику кількість даних. Якщо ви бачите, як можна згрупувати значення в цій колонці скоротивши кількість унікальних значень до 3-5, то можете виконати ще цю трансформацію, використати цю колонку в моделі і отримати додаткову практику і бал, якщо все буде зроблено правильно. А якщо неправильно - то фідбек на Вашу роботу :)"
      ]
    },
    {
      "cell_type": "code",
      "execution_count": 283,
      "metadata": {},
      "outputs": [
        {
          "data": {
            "text/plain": [
              "Fuel_Type\n",
              "Petrol    41\n",
              "Diesel    39\n",
              "Name: count, dtype: int64"
            ]
          },
          "execution_count": 283,
          "metadata": {},
          "output_type": "execute_result"
        }
      ],
      "source": [
        "# Кодування колонки Fuel_Type\n",
        "X_train.Fuel_Type.value_counts()"
      ]
    },
    {
      "cell_type": "code",
      "execution_count": 284,
      "metadata": {
        "id": "oKrg78cYfzBh"
      },
      "outputs": [],
      "source": [
        "fuel_type_codes = {'Diesel' : 0, 'Petrol' : 1}\n",
        "X_train['Fuel_code'] = X_train.Fuel_Type.map(fuel_type_codes)\n",
        "X_test['Fuel_code'] = X_test.Fuel_Type.map(fuel_type_codes)\n"
      ]
    },
    {
      "cell_type": "code",
      "execution_count": 285,
      "metadata": {},
      "outputs": [
        {
          "data": {
            "text/plain": [
              "Transmission\n",
              "Automatic    49\n",
              "Manual       31\n",
              "Name: count, dtype: int64"
            ]
          },
          "execution_count": 285,
          "metadata": {},
          "output_type": "execute_result"
        }
      ],
      "source": [
        "# Кодування колонки Transmission\n",
        "X_train.Transmission.value_counts()"
      ]
    },
    {
      "cell_type": "code",
      "execution_count": 286,
      "metadata": {},
      "outputs": [],
      "source": [
        "transmission_codes = {'Manual' : 0, 'Automatic' : 1}\n",
        "X_train['Transmission_code'] = X_train.Transmission.map(transmission_codes)\n",
        "X_test['Transmission_code'] = X_test.Transmission.map(transmission_codes)\n"
      ]
    },
    {
      "cell_type": "code",
      "execution_count": 287,
      "metadata": {},
      "outputs": [
        {
          "data": {
            "text/plain": [
              "[array(['Audi', 'BMW', 'Ford', 'Honda', 'Hyundai', 'Mahindra', 'Maruti',\n",
              "        'Mercedes', 'Tata', 'Toyota', 'Volkswagen'], dtype=object)]"
            ]
          },
          "execution_count": 287,
          "metadata": {},
          "output_type": "execute_result"
        }
      ],
      "source": [
        "# Кодування колонки Brand\n",
        "enc = OneHotEncoder().fit(X_train[['Brand']])\n",
        "enc.categories_"
      ]
    },
    {
      "cell_type": "code",
      "execution_count": 288,
      "metadata": {},
      "outputs": [
        {
          "data": {
            "text/plain": [
              "array([[1., 0., 0., 0., 0., 0., 0., 0., 0., 0., 0.],\n",
              "       [0., 0., 0., 0., 1., 0., 0., 0., 0., 0., 0.],\n",
              "       [0., 0., 0., 0., 0., 0., 0., 0., 0., 0., 1.],\n",
              "       [0., 0., 0., 0., 0., 0., 1., 0., 0., 0., 0.],\n",
              "       [0., 0., 1., 0., 0., 0., 0., 0., 0., 0., 0.],\n",
              "       [0., 0., 0., 0., 1., 0., 0., 0., 0., 0., 0.],\n",
              "       [0., 0., 0., 0., 1., 0., 0., 0., 0., 0., 0.],\n",
              "       [0., 0., 0., 1., 0., 0., 0., 0., 0., 0., 0.],\n",
              "       [0., 0., 1., 0., 0., 0., 0., 0., 0., 0., 0.],\n",
              "       [0., 0., 0., 0., 1., 0., 0., 0., 0., 0., 0.]])"
            ]
          },
          "execution_count": 288,
          "metadata": {},
          "output_type": "execute_result"
        }
      ],
      "source": [
        "one_hot_brand_train = enc.transform(X_train[['Brand']]).toarray()\n",
        "one_hot_brand_test = enc.transform(X_test[['Brand']]).toarray()\n",
        "one_hot_brand_test[:10]"
      ]
    },
    {
      "cell_type": "code",
      "execution_count": 289,
      "metadata": {},
      "outputs": [],
      "source": [
        "X_train[enc.categories_[0]] = one_hot_brand_train\n",
        "X_test[enc.categories_[0]] = one_hot_brand_test\n"
      ]
    },
    {
      "cell_type": "code",
      "execution_count": 290,
      "metadata": {
        "id": "tU3uA6kNOkzb"
      },
      "outputs": [],
      "source": [
        "from sklearn.preprocessing import OrdinalEncoder\n",
        "\n",
        "ordenc = OrdinalEncoder(categories=[['First', 'Second', 'Third']]) # визначаємо порядок категорій\n",
        "ordenc.fit(X_train[['Owner_Type']])\n",
        "\n",
        "X_train['Owner_Type_Codes'] = ordenc.transform(X_train[['Owner_Type']])\n",
        "X_test['Owner_Type_Codes'] = ordenc.transform(X_test[['Owner_Type']])"
      ]
    },
    {
      "cell_type": "code",
      "execution_count": 291,
      "metadata": {},
      "outputs": [
        {
          "data": {
            "text/html": [
              "<div>\n",
              "<style scoped>\n",
              "    .dataframe tbody tr th:only-of-type {\n",
              "        vertical-align: middle;\n",
              "    }\n",
              "\n",
              "    .dataframe tbody tr th {\n",
              "        vertical-align: top;\n",
              "    }\n",
              "\n",
              "    .dataframe thead th {\n",
              "        text-align: right;\n",
              "    }\n",
              "</style>\n",
              "<table border=\"1\" class=\"dataframe\">\n",
              "  <thead>\n",
              "    <tr style=\"text-align: right;\">\n",
              "      <th></th>\n",
              "      <th>Car_ID</th>\n",
              "      <th>Brand</th>\n",
              "      <th>Model</th>\n",
              "      <th>Year</th>\n",
              "      <th>Kilometers_Driven</th>\n",
              "      <th>Fuel_Type</th>\n",
              "      <th>Transmission</th>\n",
              "      <th>Owner_Type</th>\n",
              "      <th>Mileage</th>\n",
              "      <th>Engine</th>\n",
              "      <th>Power</th>\n",
              "      <th>Seats</th>\n",
              "      <th>Fuel_code</th>\n",
              "      <th>Transmission_code</th>\n",
              "      <th>Audi</th>\n",
              "      <th>BMW</th>\n",
              "      <th>Ford</th>\n",
              "      <th>Honda</th>\n",
              "      <th>Hyundai</th>\n",
              "      <th>Mahindra</th>\n",
              "      <th>Maruti</th>\n",
              "      <th>Mercedes</th>\n",
              "      <th>Tata</th>\n",
              "      <th>Toyota</th>\n",
              "      <th>Volkswagen</th>\n",
              "      <th>Owner_Type_Codes</th>\n",
              "    </tr>\n",
              "  </thead>\n",
              "  <tbody>\n",
              "    <tr>\n",
              "      <th>83</th>\n",
              "      <td>84</td>\n",
              "      <td>Volkswagen</td>\n",
              "      <td>T-Roc</td>\n",
              "      <td>2019</td>\n",
              "      <td>22000</td>\n",
              "      <td>Petrol</td>\n",
              "      <td>Automatic</td>\n",
              "      <td>Second</td>\n",
              "      <td>18</td>\n",
              "      <td>1498</td>\n",
              "      <td>148</td>\n",
              "      <td>5</td>\n",
              "      <td>1</td>\n",
              "      <td>1</td>\n",
              "      <td>0.0</td>\n",
              "      <td>0.0</td>\n",
              "      <td>0.0</td>\n",
              "      <td>0.0</td>\n",
              "      <td>0.0</td>\n",
              "      <td>0.0</td>\n",
              "      <td>0.0</td>\n",
              "      <td>0.0</td>\n",
              "      <td>0.0</td>\n",
              "      <td>0.0</td>\n",
              "      <td>1.0</td>\n",
              "      <td>1.0</td>\n",
              "    </tr>\n",
              "    <tr>\n",
              "      <th>55</th>\n",
              "      <td>56</td>\n",
              "      <td>Audi</td>\n",
              "      <td>A5</td>\n",
              "      <td>2018</td>\n",
              "      <td>28000</td>\n",
              "      <td>Diesel</td>\n",
              "      <td>Automatic</td>\n",
              "      <td>First</td>\n",
              "      <td>17</td>\n",
              "      <td>1968</td>\n",
              "      <td>187</td>\n",
              "      <td>5</td>\n",
              "      <td>0</td>\n",
              "      <td>1</td>\n",
              "      <td>1.0</td>\n",
              "      <td>0.0</td>\n",
              "      <td>0.0</td>\n",
              "      <td>0.0</td>\n",
              "      <td>0.0</td>\n",
              "      <td>0.0</td>\n",
              "      <td>0.0</td>\n",
              "      <td>0.0</td>\n",
              "      <td>0.0</td>\n",
              "      <td>0.0</td>\n",
              "      <td>0.0</td>\n",
              "      <td>0.0</td>\n",
              "    </tr>\n",
              "    <tr>\n",
              "      <th>26</th>\n",
              "      <td>27</td>\n",
              "      <td>Audi</td>\n",
              "      <td>A6</td>\n",
              "      <td>2018</td>\n",
              "      <td>28000</td>\n",
              "      <td>Petrol</td>\n",
              "      <td>Automatic</td>\n",
              "      <td>First</td>\n",
              "      <td>15</td>\n",
              "      <td>1984</td>\n",
              "      <td>241</td>\n",
              "      <td>5</td>\n",
              "      <td>1</td>\n",
              "      <td>1</td>\n",
              "      <td>1.0</td>\n",
              "      <td>0.0</td>\n",
              "      <td>0.0</td>\n",
              "      <td>0.0</td>\n",
              "      <td>0.0</td>\n",
              "      <td>0.0</td>\n",
              "      <td>0.0</td>\n",
              "      <td>0.0</td>\n",
              "      <td>0.0</td>\n",
              "      <td>0.0</td>\n",
              "      <td>0.0</td>\n",
              "      <td>0.0</td>\n",
              "    </tr>\n",
              "    <tr>\n",
              "      <th>54</th>\n",
              "      <td>55</td>\n",
              "      <td>Volkswagen</td>\n",
              "      <td>Vento</td>\n",
              "      <td>2017</td>\n",
              "      <td>32000</td>\n",
              "      <td>Petrol</td>\n",
              "      <td>Manual</td>\n",
              "      <td>Second</td>\n",
              "      <td>18</td>\n",
              "      <td>1598</td>\n",
              "      <td>103</td>\n",
              "      <td>5</td>\n",
              "      <td>1</td>\n",
              "      <td>0</td>\n",
              "      <td>0.0</td>\n",
              "      <td>0.0</td>\n",
              "      <td>0.0</td>\n",
              "      <td>0.0</td>\n",
              "      <td>0.0</td>\n",
              "      <td>0.0</td>\n",
              "      <td>0.0</td>\n",
              "      <td>0.0</td>\n",
              "      <td>0.0</td>\n",
              "      <td>0.0</td>\n",
              "      <td>1.0</td>\n",
              "      <td>1.0</td>\n",
              "    </tr>\n",
              "    <tr>\n",
              "      <th>19</th>\n",
              "      <td>20</td>\n",
              "      <td>Mercedes</td>\n",
              "      <td>GLC</td>\n",
              "      <td>2017</td>\n",
              "      <td>26000</td>\n",
              "      <td>Petrol</td>\n",
              "      <td>Automatic</td>\n",
              "      <td>Second</td>\n",
              "      <td>12</td>\n",
              "      <td>1991</td>\n",
              "      <td>241</td>\n",
              "      <td>5</td>\n",
              "      <td>1</td>\n",
              "      <td>1</td>\n",
              "      <td>0.0</td>\n",
              "      <td>0.0</td>\n",
              "      <td>0.0</td>\n",
              "      <td>0.0</td>\n",
              "      <td>0.0</td>\n",
              "      <td>0.0</td>\n",
              "      <td>0.0</td>\n",
              "      <td>1.0</td>\n",
              "      <td>0.0</td>\n",
              "      <td>0.0</td>\n",
              "      <td>0.0</td>\n",
              "      <td>1.0</td>\n",
              "    </tr>\n",
              "  </tbody>\n",
              "</table>\n",
              "</div>"
            ],
            "text/plain": [
              "    Car_ID       Brand  Model  Year  Kilometers_Driven Fuel_Type Transmission  \\\n",
              "83      84  Volkswagen  T-Roc  2019              22000    Petrol    Automatic   \n",
              "55      56        Audi     A5  2018              28000    Diesel    Automatic   \n",
              "26      27        Audi     A6  2018              28000    Petrol    Automatic   \n",
              "54      55  Volkswagen  Vento  2017              32000    Petrol       Manual   \n",
              "19      20    Mercedes    GLC  2017              26000    Petrol    Automatic   \n",
              "\n",
              "   Owner_Type  Mileage  Engine  Power  Seats  Fuel_code  Transmission_code  \\\n",
              "83     Second       18    1498    148      5          1                  1   \n",
              "55      First       17    1968    187      5          0                  1   \n",
              "26      First       15    1984    241      5          1                  1   \n",
              "54     Second       18    1598    103      5          1                  0   \n",
              "19     Second       12    1991    241      5          1                  1   \n",
              "\n",
              "    Audi  BMW  Ford  Honda  Hyundai  Mahindra  Maruti  Mercedes  Tata  Toyota  \\\n",
              "83   0.0  0.0   0.0    0.0      0.0       0.0     0.0       0.0   0.0     0.0   \n",
              "55   1.0  0.0   0.0    0.0      0.0       0.0     0.0       0.0   0.0     0.0   \n",
              "26   1.0  0.0   0.0    0.0      0.0       0.0     0.0       0.0   0.0     0.0   \n",
              "54   0.0  0.0   0.0    0.0      0.0       0.0     0.0       0.0   0.0     0.0   \n",
              "19   0.0  0.0   0.0    0.0      0.0       0.0     0.0       1.0   0.0     0.0   \n",
              "\n",
              "    Volkswagen  Owner_Type_Codes  \n",
              "83         1.0               1.0  \n",
              "55         0.0               0.0  \n",
              "26         0.0               0.0  \n",
              "54         1.0               1.0  \n",
              "19         0.0               1.0  "
            ]
          },
          "execution_count": 291,
          "metadata": {},
          "output_type": "execute_result"
        }
      ],
      "source": [
        "X_train.head()"
      ]
    },
    {
      "cell_type": "code",
      "execution_count": 292,
      "metadata": {},
      "outputs": [
        {
          "data": {
            "text/html": [
              "<div>\n",
              "<style scoped>\n",
              "    .dataframe tbody tr th:only-of-type {\n",
              "        vertical-align: middle;\n",
              "    }\n",
              "\n",
              "    .dataframe tbody tr th {\n",
              "        vertical-align: top;\n",
              "    }\n",
              "\n",
              "    .dataframe thead th {\n",
              "        text-align: right;\n",
              "    }\n",
              "</style>\n",
              "<table border=\"1\" class=\"dataframe\">\n",
              "  <thead>\n",
              "    <tr style=\"text-align: right;\">\n",
              "      <th></th>\n",
              "      <th>Car_ID</th>\n",
              "      <th>Brand</th>\n",
              "      <th>Model</th>\n",
              "      <th>Year</th>\n",
              "      <th>Kilometers_Driven</th>\n",
              "      <th>Fuel_Type</th>\n",
              "      <th>Transmission</th>\n",
              "      <th>Owner_Type</th>\n",
              "      <th>Mileage</th>\n",
              "      <th>Engine</th>\n",
              "      <th>Power</th>\n",
              "      <th>Seats</th>\n",
              "      <th>Fuel_code</th>\n",
              "      <th>Transmission_code</th>\n",
              "      <th>Audi</th>\n",
              "      <th>BMW</th>\n",
              "      <th>Ford</th>\n",
              "      <th>Honda</th>\n",
              "      <th>Hyundai</th>\n",
              "      <th>Mahindra</th>\n",
              "      <th>Maruti</th>\n",
              "      <th>Mercedes</th>\n",
              "      <th>Tata</th>\n",
              "      <th>Toyota</th>\n",
              "      <th>Volkswagen</th>\n",
              "      <th>Owner_Type_Codes</th>\n",
              "    </tr>\n",
              "  </thead>\n",
              "  <tbody>\n",
              "    <tr>\n",
              "      <th>17</th>\n",
              "      <td>18</td>\n",
              "      <td>Audi</td>\n",
              "      <td>Q3</td>\n",
              "      <td>2016</td>\n",
              "      <td>38000</td>\n",
              "      <td>Petrol</td>\n",
              "      <td>Automatic</td>\n",
              "      <td>Second</td>\n",
              "      <td>15</td>\n",
              "      <td>1395</td>\n",
              "      <td>148</td>\n",
              "      <td>5</td>\n",
              "      <td>1</td>\n",
              "      <td>1</td>\n",
              "      <td>1.0</td>\n",
              "      <td>0.0</td>\n",
              "      <td>0.0</td>\n",
              "      <td>0.0</td>\n",
              "      <td>0.0</td>\n",
              "      <td>0.0</td>\n",
              "      <td>0.0</td>\n",
              "      <td>0.0</td>\n",
              "      <td>0.0</td>\n",
              "      <td>0.0</td>\n",
              "      <td>0.0</td>\n",
              "      <td>1.0</td>\n",
              "    </tr>\n",
              "    <tr>\n",
              "      <th>41</th>\n",
              "      <td>42</td>\n",
              "      <td>Hyundai</td>\n",
              "      <td>Santro</td>\n",
              "      <td>2019</td>\n",
              "      <td>26000</td>\n",
              "      <td>Petrol</td>\n",
              "      <td>Manual</td>\n",
              "      <td>Third</td>\n",
              "      <td>20</td>\n",
              "      <td>1086</td>\n",
              "      <td>68</td>\n",
              "      <td>5</td>\n",
              "      <td>1</td>\n",
              "      <td>0</td>\n",
              "      <td>0.0</td>\n",
              "      <td>0.0</td>\n",
              "      <td>0.0</td>\n",
              "      <td>0.0</td>\n",
              "      <td>1.0</td>\n",
              "      <td>0.0</td>\n",
              "      <td>0.0</td>\n",
              "      <td>0.0</td>\n",
              "      <td>0.0</td>\n",
              "      <td>0.0</td>\n",
              "      <td>0.0</td>\n",
              "      <td>2.0</td>\n",
              "    </tr>\n",
              "    <tr>\n",
              "      <th>92</th>\n",
              "      <td>93</td>\n",
              "      <td>Volkswagen</td>\n",
              "      <td>Vento</td>\n",
              "      <td>2017</td>\n",
              "      <td>32000</td>\n",
              "      <td>Petrol</td>\n",
              "      <td>Manual</td>\n",
              "      <td>Second</td>\n",
              "      <td>18</td>\n",
              "      <td>1598</td>\n",
              "      <td>103</td>\n",
              "      <td>5</td>\n",
              "      <td>1</td>\n",
              "      <td>0</td>\n",
              "      <td>0.0</td>\n",
              "      <td>0.0</td>\n",
              "      <td>0.0</td>\n",
              "      <td>0.0</td>\n",
              "      <td>0.0</td>\n",
              "      <td>0.0</td>\n",
              "      <td>0.0</td>\n",
              "      <td>0.0</td>\n",
              "      <td>0.0</td>\n",
              "      <td>0.0</td>\n",
              "      <td>1.0</td>\n",
              "      <td>1.0</td>\n",
              "    </tr>\n",
              "    <tr>\n",
              "      <th>14</th>\n",
              "      <td>15</td>\n",
              "      <td>Maruti</td>\n",
              "      <td>Ertiga</td>\n",
              "      <td>2020</td>\n",
              "      <td>18000</td>\n",
              "      <td>Petrol</td>\n",
              "      <td>Manual</td>\n",
              "      <td>First</td>\n",
              "      <td>19</td>\n",
              "      <td>1462</td>\n",
              "      <td>103</td>\n",
              "      <td>7</td>\n",
              "      <td>1</td>\n",
              "      <td>0</td>\n",
              "      <td>0.0</td>\n",
              "      <td>0.0</td>\n",
              "      <td>0.0</td>\n",
              "      <td>0.0</td>\n",
              "      <td>0.0</td>\n",
              "      <td>0.0</td>\n",
              "      <td>1.0</td>\n",
              "      <td>0.0</td>\n",
              "      <td>0.0</td>\n",
              "      <td>0.0</td>\n",
              "      <td>0.0</td>\n",
              "      <td>0.0</td>\n",
              "    </tr>\n",
              "    <tr>\n",
              "      <th>68</th>\n",
              "      <td>69</td>\n",
              "      <td>Ford</td>\n",
              "      <td>Aspire</td>\n",
              "      <td>2019</td>\n",
              "      <td>26000</td>\n",
              "      <td>Petrol</td>\n",
              "      <td>Manual</td>\n",
              "      <td>Third</td>\n",
              "      <td>20</td>\n",
              "      <td>1194</td>\n",
              "      <td>94</td>\n",
              "      <td>5</td>\n",
              "      <td>1</td>\n",
              "      <td>0</td>\n",
              "      <td>0.0</td>\n",
              "      <td>0.0</td>\n",
              "      <td>1.0</td>\n",
              "      <td>0.0</td>\n",
              "      <td>0.0</td>\n",
              "      <td>0.0</td>\n",
              "      <td>0.0</td>\n",
              "      <td>0.0</td>\n",
              "      <td>0.0</td>\n",
              "      <td>0.0</td>\n",
              "      <td>0.0</td>\n",
              "      <td>2.0</td>\n",
              "    </tr>\n",
              "  </tbody>\n",
              "</table>\n",
              "</div>"
            ],
            "text/plain": [
              "    Car_ID       Brand   Model  Year  Kilometers_Driven Fuel_Type  \\\n",
              "17      18        Audi      Q3  2016              38000    Petrol   \n",
              "41      42     Hyundai  Santro  2019              26000    Petrol   \n",
              "92      93  Volkswagen   Vento  2017              32000    Petrol   \n",
              "14      15      Maruti  Ertiga  2020              18000    Petrol   \n",
              "68      69        Ford  Aspire  2019              26000    Petrol   \n",
              "\n",
              "   Transmission Owner_Type  Mileage  Engine  Power  Seats  Fuel_code  \\\n",
              "17    Automatic     Second       15    1395    148      5          1   \n",
              "41       Manual      Third       20    1086     68      5          1   \n",
              "92       Manual     Second       18    1598    103      5          1   \n",
              "14       Manual      First       19    1462    103      7          1   \n",
              "68       Manual      Third       20    1194     94      5          1   \n",
              "\n",
              "    Transmission_code  Audi  BMW  Ford  Honda  Hyundai  Mahindra  Maruti  \\\n",
              "17                  1   1.0  0.0   0.0    0.0      0.0       0.0     0.0   \n",
              "41                  0   0.0  0.0   0.0    0.0      1.0       0.0     0.0   \n",
              "92                  0   0.0  0.0   0.0    0.0      0.0       0.0     0.0   \n",
              "14                  0   0.0  0.0   0.0    0.0      0.0       0.0     1.0   \n",
              "68                  0   0.0  0.0   1.0    0.0      0.0       0.0     0.0   \n",
              "\n",
              "    Mercedes  Tata  Toyota  Volkswagen  Owner_Type_Codes  \n",
              "17       0.0   0.0     0.0         0.0               1.0  \n",
              "41       0.0   0.0     0.0         0.0               2.0  \n",
              "92       0.0   0.0     0.0         1.0               1.0  \n",
              "14       0.0   0.0     0.0         0.0               0.0  \n",
              "68       0.0   0.0     0.0         0.0               2.0  "
            ]
          },
          "execution_count": 292,
          "metadata": {},
          "output_type": "execute_result"
        }
      ],
      "source": [
        "X_test.head()"
      ]
    },
    {
      "cell_type": "markdown",
      "metadata": {
        "id": "P-woc2oUSZu4"
      },
      "source": [
        "Очікуваний результат після трансформацій:"
      ]
    },
    {
      "cell_type": "code",
      "execution_count": 293,
      "metadata": {
        "colab": {
          "base_uri": "https://localhost:8080/",
          "height": 432
        },
        "id": "brxPGShISEhz",
        "outputId": "ae807da8-6694-4951-8c8c-69d1e96733d0"
      },
      "outputs": [
        {
          "data": {
            "text/html": [
              "<div>\n",
              "<style scoped>\n",
              "    .dataframe tbody tr th:only-of-type {\n",
              "        vertical-align: middle;\n",
              "    }\n",
              "\n",
              "    .dataframe tbody tr th {\n",
              "        vertical-align: top;\n",
              "    }\n",
              "\n",
              "    .dataframe thead th {\n",
              "        text-align: right;\n",
              "    }\n",
              "</style>\n",
              "<table border=\"1\" class=\"dataframe\">\n",
              "  <thead>\n",
              "    <tr style=\"text-align: right;\">\n",
              "      <th></th>\n",
              "      <th>Car_ID</th>\n",
              "      <th>Brand</th>\n",
              "      <th>Model</th>\n",
              "      <th>Year</th>\n",
              "      <th>Kilometers_Driven</th>\n",
              "      <th>Fuel_Type</th>\n",
              "      <th>Transmission</th>\n",
              "      <th>Owner_Type</th>\n",
              "      <th>Mileage</th>\n",
              "      <th>Engine</th>\n",
              "      <th>Power</th>\n",
              "      <th>Seats</th>\n",
              "      <th>Fuel_code</th>\n",
              "      <th>Transmission_code</th>\n",
              "      <th>Audi</th>\n",
              "      <th>BMW</th>\n",
              "      <th>Ford</th>\n",
              "      <th>Honda</th>\n",
              "      <th>Hyundai</th>\n",
              "      <th>Mahindra</th>\n",
              "      <th>Maruti</th>\n",
              "      <th>Mercedes</th>\n",
              "      <th>Tata</th>\n",
              "      <th>Toyota</th>\n",
              "      <th>Volkswagen</th>\n",
              "      <th>Owner_Type_Codes</th>\n",
              "    </tr>\n",
              "  </thead>\n",
              "  <tbody>\n",
              "    <tr>\n",
              "      <th>83</th>\n",
              "      <td>84</td>\n",
              "      <td>Volkswagen</td>\n",
              "      <td>T-Roc</td>\n",
              "      <td>2019</td>\n",
              "      <td>22000</td>\n",
              "      <td>Petrol</td>\n",
              "      <td>Automatic</td>\n",
              "      <td>Second</td>\n",
              "      <td>18</td>\n",
              "      <td>1498</td>\n",
              "      <td>148</td>\n",
              "      <td>5</td>\n",
              "      <td>1</td>\n",
              "      <td>1</td>\n",
              "      <td>0.0</td>\n",
              "      <td>0.0</td>\n",
              "      <td>0.0</td>\n",
              "      <td>0.0</td>\n",
              "      <td>0.0</td>\n",
              "      <td>0.0</td>\n",
              "      <td>0.0</td>\n",
              "      <td>0.0</td>\n",
              "      <td>0.0</td>\n",
              "      <td>0.0</td>\n",
              "      <td>1.0</td>\n",
              "      <td>1.0</td>\n",
              "    </tr>\n",
              "    <tr>\n",
              "      <th>55</th>\n",
              "      <td>56</td>\n",
              "      <td>Audi</td>\n",
              "      <td>A5</td>\n",
              "      <td>2018</td>\n",
              "      <td>28000</td>\n",
              "      <td>Diesel</td>\n",
              "      <td>Automatic</td>\n",
              "      <td>First</td>\n",
              "      <td>17</td>\n",
              "      <td>1968</td>\n",
              "      <td>187</td>\n",
              "      <td>5</td>\n",
              "      <td>0</td>\n",
              "      <td>1</td>\n",
              "      <td>1.0</td>\n",
              "      <td>0.0</td>\n",
              "      <td>0.0</td>\n",
              "      <td>0.0</td>\n",
              "      <td>0.0</td>\n",
              "      <td>0.0</td>\n",
              "      <td>0.0</td>\n",
              "      <td>0.0</td>\n",
              "      <td>0.0</td>\n",
              "      <td>0.0</td>\n",
              "      <td>0.0</td>\n",
              "      <td>0.0</td>\n",
              "    </tr>\n",
              "    <tr>\n",
              "      <th>26</th>\n",
              "      <td>27</td>\n",
              "      <td>Audi</td>\n",
              "      <td>A6</td>\n",
              "      <td>2018</td>\n",
              "      <td>28000</td>\n",
              "      <td>Petrol</td>\n",
              "      <td>Automatic</td>\n",
              "      <td>First</td>\n",
              "      <td>15</td>\n",
              "      <td>1984</td>\n",
              "      <td>241</td>\n",
              "      <td>5</td>\n",
              "      <td>1</td>\n",
              "      <td>1</td>\n",
              "      <td>1.0</td>\n",
              "      <td>0.0</td>\n",
              "      <td>0.0</td>\n",
              "      <td>0.0</td>\n",
              "      <td>0.0</td>\n",
              "      <td>0.0</td>\n",
              "      <td>0.0</td>\n",
              "      <td>0.0</td>\n",
              "      <td>0.0</td>\n",
              "      <td>0.0</td>\n",
              "      <td>0.0</td>\n",
              "      <td>0.0</td>\n",
              "    </tr>\n",
              "    <tr>\n",
              "      <th>54</th>\n",
              "      <td>55</td>\n",
              "      <td>Volkswagen</td>\n",
              "      <td>Vento</td>\n",
              "      <td>2017</td>\n",
              "      <td>32000</td>\n",
              "      <td>Petrol</td>\n",
              "      <td>Manual</td>\n",
              "      <td>Second</td>\n",
              "      <td>18</td>\n",
              "      <td>1598</td>\n",
              "      <td>103</td>\n",
              "      <td>5</td>\n",
              "      <td>1</td>\n",
              "      <td>0</td>\n",
              "      <td>0.0</td>\n",
              "      <td>0.0</td>\n",
              "      <td>0.0</td>\n",
              "      <td>0.0</td>\n",
              "      <td>0.0</td>\n",
              "      <td>0.0</td>\n",
              "      <td>0.0</td>\n",
              "      <td>0.0</td>\n",
              "      <td>0.0</td>\n",
              "      <td>0.0</td>\n",
              "      <td>1.0</td>\n",
              "      <td>1.0</td>\n",
              "    </tr>\n",
              "    <tr>\n",
              "      <th>19</th>\n",
              "      <td>20</td>\n",
              "      <td>Mercedes</td>\n",
              "      <td>GLC</td>\n",
              "      <td>2017</td>\n",
              "      <td>26000</td>\n",
              "      <td>Petrol</td>\n",
              "      <td>Automatic</td>\n",
              "      <td>Second</td>\n",
              "      <td>12</td>\n",
              "      <td>1991</td>\n",
              "      <td>241</td>\n",
              "      <td>5</td>\n",
              "      <td>1</td>\n",
              "      <td>1</td>\n",
              "      <td>0.0</td>\n",
              "      <td>0.0</td>\n",
              "      <td>0.0</td>\n",
              "      <td>0.0</td>\n",
              "      <td>0.0</td>\n",
              "      <td>0.0</td>\n",
              "      <td>0.0</td>\n",
              "      <td>1.0</td>\n",
              "      <td>0.0</td>\n",
              "      <td>0.0</td>\n",
              "      <td>0.0</td>\n",
              "      <td>1.0</td>\n",
              "    </tr>\n",
              "  </tbody>\n",
              "</table>\n",
              "</div>"
            ],
            "text/plain": [
              "    Car_ID       Brand  Model  Year  Kilometers_Driven Fuel_Type Transmission  \\\n",
              "83      84  Volkswagen  T-Roc  2019              22000    Petrol    Automatic   \n",
              "55      56        Audi     A5  2018              28000    Diesel    Automatic   \n",
              "26      27        Audi     A6  2018              28000    Petrol    Automatic   \n",
              "54      55  Volkswagen  Vento  2017              32000    Petrol       Manual   \n",
              "19      20    Mercedes    GLC  2017              26000    Petrol    Automatic   \n",
              "\n",
              "   Owner_Type  Mileage  Engine  Power  Seats  Fuel_code  Transmission_code  \\\n",
              "83     Second       18    1498    148      5          1                  1   \n",
              "55      First       17    1968    187      5          0                  1   \n",
              "26      First       15    1984    241      5          1                  1   \n",
              "54     Second       18    1598    103      5          1                  0   \n",
              "19     Second       12    1991    241      5          1                  1   \n",
              "\n",
              "    Audi  BMW  Ford  Honda  Hyundai  Mahindra  Maruti  Mercedes  Tata  Toyota  \\\n",
              "83   0.0  0.0   0.0    0.0      0.0       0.0     0.0       0.0   0.0     0.0   \n",
              "55   1.0  0.0   0.0    0.0      0.0       0.0     0.0       0.0   0.0     0.0   \n",
              "26   1.0  0.0   0.0    0.0      0.0       0.0     0.0       0.0   0.0     0.0   \n",
              "54   0.0  0.0   0.0    0.0      0.0       0.0     0.0       0.0   0.0     0.0   \n",
              "19   0.0  0.0   0.0    0.0      0.0       0.0     0.0       1.0   0.0     0.0   \n",
              "\n",
              "    Volkswagen  Owner_Type_Codes  \n",
              "83         1.0               1.0  \n",
              "55         0.0               0.0  \n",
              "26         0.0               0.0  \n",
              "54         1.0               1.0  \n",
              "19         0.0               1.0  "
            ]
          },
          "metadata": {},
          "output_type": "display_data"
        },
        {
          "data": {
            "text/html": [
              "<div>\n",
              "<style scoped>\n",
              "    .dataframe tbody tr th:only-of-type {\n",
              "        vertical-align: middle;\n",
              "    }\n",
              "\n",
              "    .dataframe tbody tr th {\n",
              "        vertical-align: top;\n",
              "    }\n",
              "\n",
              "    .dataframe thead th {\n",
              "        text-align: right;\n",
              "    }\n",
              "</style>\n",
              "<table border=\"1\" class=\"dataframe\">\n",
              "  <thead>\n",
              "    <tr style=\"text-align: right;\">\n",
              "      <th></th>\n",
              "      <th>Car_ID</th>\n",
              "      <th>Brand</th>\n",
              "      <th>Model</th>\n",
              "      <th>Year</th>\n",
              "      <th>Kilometers_Driven</th>\n",
              "      <th>Fuel_Type</th>\n",
              "      <th>Transmission</th>\n",
              "      <th>Owner_Type</th>\n",
              "      <th>Mileage</th>\n",
              "      <th>Engine</th>\n",
              "      <th>Power</th>\n",
              "      <th>Seats</th>\n",
              "      <th>Fuel_code</th>\n",
              "      <th>Transmission_code</th>\n",
              "      <th>Audi</th>\n",
              "      <th>BMW</th>\n",
              "      <th>Ford</th>\n",
              "      <th>Honda</th>\n",
              "      <th>Hyundai</th>\n",
              "      <th>Mahindra</th>\n",
              "      <th>Maruti</th>\n",
              "      <th>Mercedes</th>\n",
              "      <th>Tata</th>\n",
              "      <th>Toyota</th>\n",
              "      <th>Volkswagen</th>\n",
              "      <th>Owner_Type_Codes</th>\n",
              "    </tr>\n",
              "  </thead>\n",
              "  <tbody>\n",
              "    <tr>\n",
              "      <th>17</th>\n",
              "      <td>18</td>\n",
              "      <td>Audi</td>\n",
              "      <td>Q3</td>\n",
              "      <td>2016</td>\n",
              "      <td>38000</td>\n",
              "      <td>Petrol</td>\n",
              "      <td>Automatic</td>\n",
              "      <td>Second</td>\n",
              "      <td>15</td>\n",
              "      <td>1395</td>\n",
              "      <td>148</td>\n",
              "      <td>5</td>\n",
              "      <td>1</td>\n",
              "      <td>1</td>\n",
              "      <td>1.0</td>\n",
              "      <td>0.0</td>\n",
              "      <td>0.0</td>\n",
              "      <td>0.0</td>\n",
              "      <td>0.0</td>\n",
              "      <td>0.0</td>\n",
              "      <td>0.0</td>\n",
              "      <td>0.0</td>\n",
              "      <td>0.0</td>\n",
              "      <td>0.0</td>\n",
              "      <td>0.0</td>\n",
              "      <td>1.0</td>\n",
              "    </tr>\n",
              "    <tr>\n",
              "      <th>41</th>\n",
              "      <td>42</td>\n",
              "      <td>Hyundai</td>\n",
              "      <td>Santro</td>\n",
              "      <td>2019</td>\n",
              "      <td>26000</td>\n",
              "      <td>Petrol</td>\n",
              "      <td>Manual</td>\n",
              "      <td>Third</td>\n",
              "      <td>20</td>\n",
              "      <td>1086</td>\n",
              "      <td>68</td>\n",
              "      <td>5</td>\n",
              "      <td>1</td>\n",
              "      <td>0</td>\n",
              "      <td>0.0</td>\n",
              "      <td>0.0</td>\n",
              "      <td>0.0</td>\n",
              "      <td>0.0</td>\n",
              "      <td>1.0</td>\n",
              "      <td>0.0</td>\n",
              "      <td>0.0</td>\n",
              "      <td>0.0</td>\n",
              "      <td>0.0</td>\n",
              "      <td>0.0</td>\n",
              "      <td>0.0</td>\n",
              "      <td>2.0</td>\n",
              "    </tr>\n",
              "    <tr>\n",
              "      <th>92</th>\n",
              "      <td>93</td>\n",
              "      <td>Volkswagen</td>\n",
              "      <td>Vento</td>\n",
              "      <td>2017</td>\n",
              "      <td>32000</td>\n",
              "      <td>Petrol</td>\n",
              "      <td>Manual</td>\n",
              "      <td>Second</td>\n",
              "      <td>18</td>\n",
              "      <td>1598</td>\n",
              "      <td>103</td>\n",
              "      <td>5</td>\n",
              "      <td>1</td>\n",
              "      <td>0</td>\n",
              "      <td>0.0</td>\n",
              "      <td>0.0</td>\n",
              "      <td>0.0</td>\n",
              "      <td>0.0</td>\n",
              "      <td>0.0</td>\n",
              "      <td>0.0</td>\n",
              "      <td>0.0</td>\n",
              "      <td>0.0</td>\n",
              "      <td>0.0</td>\n",
              "      <td>0.0</td>\n",
              "      <td>1.0</td>\n",
              "      <td>1.0</td>\n",
              "    </tr>\n",
              "    <tr>\n",
              "      <th>14</th>\n",
              "      <td>15</td>\n",
              "      <td>Maruti</td>\n",
              "      <td>Ertiga</td>\n",
              "      <td>2020</td>\n",
              "      <td>18000</td>\n",
              "      <td>Petrol</td>\n",
              "      <td>Manual</td>\n",
              "      <td>First</td>\n",
              "      <td>19</td>\n",
              "      <td>1462</td>\n",
              "      <td>103</td>\n",
              "      <td>7</td>\n",
              "      <td>1</td>\n",
              "      <td>0</td>\n",
              "      <td>0.0</td>\n",
              "      <td>0.0</td>\n",
              "      <td>0.0</td>\n",
              "      <td>0.0</td>\n",
              "      <td>0.0</td>\n",
              "      <td>0.0</td>\n",
              "      <td>1.0</td>\n",
              "      <td>0.0</td>\n",
              "      <td>0.0</td>\n",
              "      <td>0.0</td>\n",
              "      <td>0.0</td>\n",
              "      <td>0.0</td>\n",
              "    </tr>\n",
              "    <tr>\n",
              "      <th>68</th>\n",
              "      <td>69</td>\n",
              "      <td>Ford</td>\n",
              "      <td>Aspire</td>\n",
              "      <td>2019</td>\n",
              "      <td>26000</td>\n",
              "      <td>Petrol</td>\n",
              "      <td>Manual</td>\n",
              "      <td>Third</td>\n",
              "      <td>20</td>\n",
              "      <td>1194</td>\n",
              "      <td>94</td>\n",
              "      <td>5</td>\n",
              "      <td>1</td>\n",
              "      <td>0</td>\n",
              "      <td>0.0</td>\n",
              "      <td>0.0</td>\n",
              "      <td>1.0</td>\n",
              "      <td>0.0</td>\n",
              "      <td>0.0</td>\n",
              "      <td>0.0</td>\n",
              "      <td>0.0</td>\n",
              "      <td>0.0</td>\n",
              "      <td>0.0</td>\n",
              "      <td>0.0</td>\n",
              "      <td>0.0</td>\n",
              "      <td>2.0</td>\n",
              "    </tr>\n",
              "  </tbody>\n",
              "</table>\n",
              "</div>"
            ],
            "text/plain": [
              "    Car_ID       Brand   Model  Year  Kilometers_Driven Fuel_Type  \\\n",
              "17      18        Audi      Q3  2016              38000    Petrol   \n",
              "41      42     Hyundai  Santro  2019              26000    Petrol   \n",
              "92      93  Volkswagen   Vento  2017              32000    Petrol   \n",
              "14      15      Maruti  Ertiga  2020              18000    Petrol   \n",
              "68      69        Ford  Aspire  2019              26000    Petrol   \n",
              "\n",
              "   Transmission Owner_Type  Mileage  Engine  Power  Seats  Fuel_code  \\\n",
              "17    Automatic     Second       15    1395    148      5          1   \n",
              "41       Manual      Third       20    1086     68      5          1   \n",
              "92       Manual     Second       18    1598    103      5          1   \n",
              "14       Manual      First       19    1462    103      7          1   \n",
              "68       Manual      Third       20    1194     94      5          1   \n",
              "\n",
              "    Transmission_code  Audi  BMW  Ford  Honda  Hyundai  Mahindra  Maruti  \\\n",
              "17                  1   1.0  0.0   0.0    0.0      0.0       0.0     0.0   \n",
              "41                  0   0.0  0.0   0.0    0.0      1.0       0.0     0.0   \n",
              "92                  0   0.0  0.0   0.0    0.0      0.0       0.0     0.0   \n",
              "14                  0   0.0  0.0   0.0    0.0      0.0       0.0     1.0   \n",
              "68                  0   0.0  0.0   1.0    0.0      0.0       0.0     0.0   \n",
              "\n",
              "    Mercedes  Tata  Toyota  Volkswagen  Owner_Type_Codes  \n",
              "17       0.0   0.0     0.0         0.0               1.0  \n",
              "41       0.0   0.0     0.0         0.0               2.0  \n",
              "92       0.0   0.0     0.0         1.0               1.0  \n",
              "14       0.0   0.0     0.0         0.0               0.0  \n",
              "68       0.0   0.0     0.0         0.0               2.0  "
            ]
          },
          "metadata": {},
          "output_type": "display_data"
        },
        {
          "data": {
            "text/plain": [
              "(None, None)"
            ]
          },
          "execution_count": 293,
          "metadata": {},
          "output_type": "execute_result"
        }
      ],
      "source": [
        "pd.set_option('display.max_columns', 100)\n",
        "display(X_train.head()), display(X_test.head())"
      ]
    },
    {
      "cell_type": "markdown",
      "metadata": {
        "id": "wHDyZp9QSnsF"
      },
      "source": [
        "**Завдання 5.** Оберіть лише числові колонки з `X_train` (можна для цього використати `pandas.select_dtypes(...)` або видалити всі НЕчислові дані, вони нам вже не потрібні), обʼєднайте ці дані з `y_train` (зручно з `pandas.concat([df1, df2], axis=1)`), побудуйте для цих даних матрицю кореляції і проаналізуйте її. Напишіть висновок, які колонки корелюють з цільовою змінною на більш ніж 0.5 за модулем (може бути як позитивна, так і негативна кореляція)."
      ]
    },
    {
      "cell_type": "code",
      "execution_count": 294,
      "metadata": {
        "id": "0EIv0cVVf05Z"
      },
      "outputs": [],
      "source": [
        "# Видаляємо нечислові колонки даних\n",
        "cols_to_drop = X_train.select_dtypes(include='object')\n",
        "X_train = X_train.drop(cols_to_drop, axis=1)\n",
        "X_test = X_test.drop(cols_to_drop, axis=1)"
      ]
    },
    {
      "cell_type": "code",
      "execution_count": 295,
      "metadata": {},
      "outputs": [
        {
          "data": {
            "text/html": [
              "<div>\n",
              "<style scoped>\n",
              "    .dataframe tbody tr th:only-of-type {\n",
              "        vertical-align: middle;\n",
              "    }\n",
              "\n",
              "    .dataframe tbody tr th {\n",
              "        vertical-align: top;\n",
              "    }\n",
              "\n",
              "    .dataframe thead th {\n",
              "        text-align: right;\n",
              "    }\n",
              "</style>\n",
              "<table border=\"1\" class=\"dataframe\">\n",
              "  <thead>\n",
              "    <tr style=\"text-align: right;\">\n",
              "      <th></th>\n",
              "      <th>Car_ID</th>\n",
              "      <th>Year</th>\n",
              "      <th>Kilometers_Driven</th>\n",
              "      <th>Mileage</th>\n",
              "      <th>Engine</th>\n",
              "      <th>Power</th>\n",
              "      <th>Seats</th>\n",
              "      <th>Fuel_code</th>\n",
              "      <th>Transmission_code</th>\n",
              "      <th>Audi</th>\n",
              "      <th>BMW</th>\n",
              "      <th>Ford</th>\n",
              "      <th>Honda</th>\n",
              "      <th>Hyundai</th>\n",
              "      <th>Mahindra</th>\n",
              "      <th>Maruti</th>\n",
              "      <th>Mercedes</th>\n",
              "      <th>Tata</th>\n",
              "      <th>Toyota</th>\n",
              "      <th>Volkswagen</th>\n",
              "      <th>Owner_Type_Codes</th>\n",
              "      <th>Price</th>\n",
              "    </tr>\n",
              "  </thead>\n",
              "  <tbody>\n",
              "    <tr>\n",
              "      <th>83</th>\n",
              "      <td>84</td>\n",
              "      <td>2019</td>\n",
              "      <td>22000</td>\n",
              "      <td>18</td>\n",
              "      <td>1498</td>\n",
              "      <td>148</td>\n",
              "      <td>5</td>\n",
              "      <td>1</td>\n",
              "      <td>1</td>\n",
              "      <td>0.0</td>\n",
              "      <td>0.0</td>\n",
              "      <td>0.0</td>\n",
              "      <td>0.0</td>\n",
              "      <td>0.0</td>\n",
              "      <td>0.0</td>\n",
              "      <td>0.0</td>\n",
              "      <td>0.0</td>\n",
              "      <td>0.0</td>\n",
              "      <td>0.0</td>\n",
              "      <td>1.0</td>\n",
              "      <td>1.0</td>\n",
              "      <td>1600000</td>\n",
              "    </tr>\n",
              "    <tr>\n",
              "      <th>55</th>\n",
              "      <td>56</td>\n",
              "      <td>2018</td>\n",
              "      <td>28000</td>\n",
              "      <td>17</td>\n",
              "      <td>1968</td>\n",
              "      <td>187</td>\n",
              "      <td>5</td>\n",
              "      <td>0</td>\n",
              "      <td>1</td>\n",
              "      <td>1.0</td>\n",
              "      <td>0.0</td>\n",
              "      <td>0.0</td>\n",
              "      <td>0.0</td>\n",
              "      <td>0.0</td>\n",
              "      <td>0.0</td>\n",
              "      <td>0.0</td>\n",
              "      <td>0.0</td>\n",
              "      <td>0.0</td>\n",
              "      <td>0.0</td>\n",
              "      <td>0.0</td>\n",
              "      <td>0.0</td>\n",
              "      <td>2600000</td>\n",
              "    </tr>\n",
              "    <tr>\n",
              "      <th>26</th>\n",
              "      <td>27</td>\n",
              "      <td>2018</td>\n",
              "      <td>28000</td>\n",
              "      <td>15</td>\n",
              "      <td>1984</td>\n",
              "      <td>241</td>\n",
              "      <td>5</td>\n",
              "      <td>1</td>\n",
              "      <td>1</td>\n",
              "      <td>1.0</td>\n",
              "      <td>0.0</td>\n",
              "      <td>0.0</td>\n",
              "      <td>0.0</td>\n",
              "      <td>0.0</td>\n",
              "      <td>0.0</td>\n",
              "      <td>0.0</td>\n",
              "      <td>0.0</td>\n",
              "      <td>0.0</td>\n",
              "      <td>0.0</td>\n",
              "      <td>0.0</td>\n",
              "      <td>0.0</td>\n",
              "      <td>3200000</td>\n",
              "    </tr>\n",
              "    <tr>\n",
              "      <th>54</th>\n",
              "      <td>55</td>\n",
              "      <td>2017</td>\n",
              "      <td>32000</td>\n",
              "      <td>18</td>\n",
              "      <td>1598</td>\n",
              "      <td>103</td>\n",
              "      <td>5</td>\n",
              "      <td>1</td>\n",
              "      <td>0</td>\n",
              "      <td>0.0</td>\n",
              "      <td>0.0</td>\n",
              "      <td>0.0</td>\n",
              "      <td>0.0</td>\n",
              "      <td>0.0</td>\n",
              "      <td>0.0</td>\n",
              "      <td>0.0</td>\n",
              "      <td>0.0</td>\n",
              "      <td>0.0</td>\n",
              "      <td>0.0</td>\n",
              "      <td>1.0</td>\n",
              "      <td>1.0</td>\n",
              "      <td>650000</td>\n",
              "    </tr>\n",
              "    <tr>\n",
              "      <th>19</th>\n",
              "      <td>20</td>\n",
              "      <td>2017</td>\n",
              "      <td>26000</td>\n",
              "      <td>12</td>\n",
              "      <td>1991</td>\n",
              "      <td>241</td>\n",
              "      <td>5</td>\n",
              "      <td>1</td>\n",
              "      <td>1</td>\n",
              "      <td>0.0</td>\n",
              "      <td>0.0</td>\n",
              "      <td>0.0</td>\n",
              "      <td>0.0</td>\n",
              "      <td>0.0</td>\n",
              "      <td>0.0</td>\n",
              "      <td>0.0</td>\n",
              "      <td>1.0</td>\n",
              "      <td>0.0</td>\n",
              "      <td>0.0</td>\n",
              "      <td>0.0</td>\n",
              "      <td>1.0</td>\n",
              "      <td>2500000</td>\n",
              "    </tr>\n",
              "  </tbody>\n",
              "</table>\n",
              "</div>"
            ],
            "text/plain": [
              "    Car_ID  Year  Kilometers_Driven  Mileage  Engine  Power  Seats  Fuel_code  \\\n",
              "83      84  2019              22000       18    1498    148      5          1   \n",
              "55      56  2018              28000       17    1968    187      5          0   \n",
              "26      27  2018              28000       15    1984    241      5          1   \n",
              "54      55  2017              32000       18    1598    103      5          1   \n",
              "19      20  2017              26000       12    1991    241      5          1   \n",
              "\n",
              "    Transmission_code  Audi  BMW  Ford  Honda  Hyundai  Mahindra  Maruti  \\\n",
              "83                  1   0.0  0.0   0.0    0.0      0.0       0.0     0.0   \n",
              "55                  1   1.0  0.0   0.0    0.0      0.0       0.0     0.0   \n",
              "26                  1   1.0  0.0   0.0    0.0      0.0       0.0     0.0   \n",
              "54                  0   0.0  0.0   0.0    0.0      0.0       0.0     0.0   \n",
              "19                  1   0.0  0.0   0.0    0.0      0.0       0.0     0.0   \n",
              "\n",
              "    Mercedes  Tata  Toyota  Volkswagen  Owner_Type_Codes    Price  \n",
              "83       0.0   0.0     0.0         1.0               1.0  1600000  \n",
              "55       0.0   0.0     0.0         0.0               0.0  2600000  \n",
              "26       0.0   0.0     0.0         0.0               0.0  3200000  \n",
              "54       0.0   0.0     0.0         1.0               1.0   650000  \n",
              "19       1.0   0.0     0.0         0.0               1.0  2500000  "
            ]
          },
          "execution_count": 295,
          "metadata": {},
          "output_type": "execute_result"
        }
      ],
      "source": [
        "# Об'єднуємо дані з цільовою змінною\n",
        "train_XY = pd.concat([X_train, Y_train], axis=1)\n",
        "train_XY.head()"
      ]
    },
    {
      "cell_type": "code",
      "execution_count": 296,
      "metadata": {},
      "outputs": [
        {
          "data": {
            "text/html": [
              "<div>\n",
              "<style scoped>\n",
              "    .dataframe tbody tr th:only-of-type {\n",
              "        vertical-align: middle;\n",
              "    }\n",
              "\n",
              "    .dataframe tbody tr th {\n",
              "        vertical-align: top;\n",
              "    }\n",
              "\n",
              "    .dataframe thead th {\n",
              "        text-align: right;\n",
              "    }\n",
              "</style>\n",
              "<table border=\"1\" class=\"dataframe\">\n",
              "  <thead>\n",
              "    <tr style=\"text-align: right;\">\n",
              "      <th></th>\n",
              "      <th>Car_ID</th>\n",
              "      <th>Year</th>\n",
              "      <th>Kilometers_Driven</th>\n",
              "      <th>Mileage</th>\n",
              "      <th>Engine</th>\n",
              "      <th>Power</th>\n",
              "      <th>Seats</th>\n",
              "      <th>Fuel_code</th>\n",
              "      <th>Transmission_code</th>\n",
              "      <th>Audi</th>\n",
              "      <th>BMW</th>\n",
              "      <th>Ford</th>\n",
              "      <th>Honda</th>\n",
              "      <th>Hyundai</th>\n",
              "      <th>Mahindra</th>\n",
              "      <th>Maruti</th>\n",
              "      <th>Mercedes</th>\n",
              "      <th>Tata</th>\n",
              "      <th>Toyota</th>\n",
              "      <th>Volkswagen</th>\n",
              "      <th>Owner_Type_Codes</th>\n",
              "      <th>Price</th>\n",
              "    </tr>\n",
              "  </thead>\n",
              "  <tbody>\n",
              "    <tr>\n",
              "      <th>Car_ID</th>\n",
              "      <td>1.000000</td>\n",
              "      <td>0.137027</td>\n",
              "      <td>-0.356614</td>\n",
              "      <td>0.100891</td>\n",
              "      <td>-0.089284</td>\n",
              "      <td>-0.006319</td>\n",
              "      <td>-0.063793</td>\n",
              "      <td>0.090537</td>\n",
              "      <td>-0.084381</td>\n",
              "      <td>0.089473</td>\n",
              "      <td>0.048335</td>\n",
              "      <td>-0.020240</td>\n",
              "      <td>-0.050809</td>\n",
              "      <td>0.016831</td>\n",
              "      <td>0.006797</td>\n",
              "      <td>-0.054463</td>\n",
              "      <td>-0.045431</td>\n",
              "      <td>-0.032926</td>\n",
              "      <td>0.011350</td>\n",
              "      <td>0.020129</td>\n",
              "      <td>0.038923</td>\n",
              "      <td>0.025560</td>\n",
              "    </tr>\n",
              "    <tr>\n",
              "      <th>Year</th>\n",
              "      <td>0.137027</td>\n",
              "      <td>1.000000</td>\n",
              "      <td>-0.708525</td>\n",
              "      <td>0.278559</td>\n",
              "      <td>-0.392764</td>\n",
              "      <td>-0.248442</td>\n",
              "      <td>-0.278755</td>\n",
              "      <td>0.248515</td>\n",
              "      <td>-0.200603</td>\n",
              "      <td>-0.256523</td>\n",
              "      <td>0.202517</td>\n",
              "      <td>-0.150454</td>\n",
              "      <td>-0.037437</td>\n",
              "      <td>-0.092099</td>\n",
              "      <td>0.181669</td>\n",
              "      <td>0.285094</td>\n",
              "      <td>-0.115157</td>\n",
              "      <td>0.248715</td>\n",
              "      <td>-0.219346</td>\n",
              "      <td>0.018255</td>\n",
              "      <td>-0.014499</td>\n",
              "      <td>-0.233769</td>\n",
              "    </tr>\n",
              "    <tr>\n",
              "      <th>Kilometers_Driven</th>\n",
              "      <td>-0.356614</td>\n",
              "      <td>-0.708525</td>\n",
              "      <td>1.000000</td>\n",
              "      <td>-0.126621</td>\n",
              "      <td>0.101219</td>\n",
              "      <td>-0.060803</td>\n",
              "      <td>0.403656</td>\n",
              "      <td>-0.332351</td>\n",
              "      <td>-0.066491</td>\n",
              "      <td>0.095879</td>\n",
              "      <td>-0.247042</td>\n",
              "      <td>-0.009761</td>\n",
              "      <td>0.057372</td>\n",
              "      <td>0.154362</td>\n",
              "      <td>-0.040344</td>\n",
              "      <td>-0.190420</td>\n",
              "      <td>-0.091731</td>\n",
              "      <td>0.030399</td>\n",
              "      <td>0.368519</td>\n",
              "      <td>-0.137675</td>\n",
              "      <td>-0.001772</td>\n",
              "      <td>-0.083951</td>\n",
              "    </tr>\n",
              "    <tr>\n",
              "      <th>Mileage</th>\n",
              "      <td>0.100891</td>\n",
              "      <td>0.278559</td>\n",
              "      <td>-0.126621</td>\n",
              "      <td>1.000000</td>\n",
              "      <td>-0.710516</td>\n",
              "      <td>-0.684705</td>\n",
              "      <td>-0.178619</td>\n",
              "      <td>-0.070112</td>\n",
              "      <td>-0.399164</td>\n",
              "      <td>-0.152701</td>\n",
              "      <td>-0.134105</td>\n",
              "      <td>-0.296480</td>\n",
              "      <td>0.358630</td>\n",
              "      <td>0.217406</td>\n",
              "      <td>0.029427</td>\n",
              "      <td>0.116389</td>\n",
              "      <td>-0.238489</td>\n",
              "      <td>0.347678</td>\n",
              "      <td>-0.201565</td>\n",
              "      <td>0.085114</td>\n",
              "      <td>0.026624</td>\n",
              "      <td>-0.638404</td>\n",
              "    </tr>\n",
              "    <tr>\n",
              "      <th>Engine</th>\n",
              "      <td>-0.089284</td>\n",
              "      <td>-0.392764</td>\n",
              "      <td>0.101219</td>\n",
              "      <td>-0.710516</td>\n",
              "      <td>1.000000</td>\n",
              "      <td>0.801638</td>\n",
              "      <td>0.167326</td>\n",
              "      <td>-0.174455</td>\n",
              "      <td>0.456296</td>\n",
              "      <td>0.085153</td>\n",
              "      <td>0.287119</td>\n",
              "      <td>0.184231</td>\n",
              "      <td>-0.154491</td>\n",
              "      <td>-0.182213</td>\n",
              "      <td>-0.024973</td>\n",
              "      <td>-0.193257</td>\n",
              "      <td>0.163871</td>\n",
              "      <td>-0.340051</td>\n",
              "      <td>0.234889</td>\n",
              "      <td>-0.165115</td>\n",
              "      <td>-0.196106</td>\n",
              "      <td>0.710561</td>\n",
              "    </tr>\n",
              "  </tbody>\n",
              "</table>\n",
              "</div>"
            ],
            "text/plain": [
              "                     Car_ID      Year  Kilometers_Driven   Mileage    Engine  \\\n",
              "Car_ID             1.000000  0.137027          -0.356614  0.100891 -0.089284   \n",
              "Year               0.137027  1.000000          -0.708525  0.278559 -0.392764   \n",
              "Kilometers_Driven -0.356614 -0.708525           1.000000 -0.126621  0.101219   \n",
              "Mileage            0.100891  0.278559          -0.126621  1.000000 -0.710516   \n",
              "Engine            -0.089284 -0.392764           0.101219 -0.710516  1.000000   \n",
              "\n",
              "                      Power     Seats  Fuel_code  Transmission_code      Audi  \\\n",
              "Car_ID            -0.006319 -0.063793   0.090537          -0.084381  0.089473   \n",
              "Year              -0.248442 -0.278755   0.248515          -0.200603 -0.256523   \n",
              "Kilometers_Driven -0.060803  0.403656  -0.332351          -0.066491  0.095879   \n",
              "Mileage           -0.684705 -0.178619  -0.070112          -0.399164 -0.152701   \n",
              "Engine             0.801638  0.167326  -0.174455           0.456296  0.085153   \n",
              "\n",
              "                        BMW      Ford     Honda   Hyundai  Mahindra    Maruti  \\\n",
              "Car_ID             0.048335 -0.020240 -0.050809  0.016831  0.006797 -0.054463   \n",
              "Year               0.202517 -0.150454 -0.037437 -0.092099  0.181669  0.285094   \n",
              "Kilometers_Driven -0.247042 -0.009761  0.057372  0.154362 -0.040344 -0.190420   \n",
              "Mileage           -0.134105 -0.296480  0.358630  0.217406  0.029427  0.116389   \n",
              "Engine             0.287119  0.184231 -0.154491 -0.182213 -0.024973 -0.193257   \n",
              "\n",
              "                   Mercedes      Tata    Toyota  Volkswagen  Owner_Type_Codes  \\\n",
              "Car_ID            -0.045431 -0.032926  0.011350    0.020129          0.038923   \n",
              "Year              -0.115157  0.248715 -0.219346    0.018255         -0.014499   \n",
              "Kilometers_Driven -0.091731  0.030399  0.368519   -0.137675         -0.001772   \n",
              "Mileage           -0.238489  0.347678 -0.201565    0.085114          0.026624   \n",
              "Engine             0.163871 -0.340051  0.234889   -0.165115         -0.196106   \n",
              "\n",
              "                      Price  \n",
              "Car_ID             0.025560  \n",
              "Year              -0.233769  \n",
              "Kilometers_Driven -0.083951  \n",
              "Mileage           -0.638404  \n",
              "Engine             0.710561  "
            ]
          },
          "execution_count": 296,
          "metadata": {},
          "output_type": "execute_result"
        }
      ],
      "source": [
        "# Будуємо матрицю корелції та виводимо її візуалізацію\n",
        "corr_df = train_XY.corr()\n",
        "corr_df.head()"
      ]
    },
    {
      "cell_type": "code",
      "execution_count": 297,
      "metadata": {},
      "outputs": [
        {
          "data": {
            "image/png": "[encoded data removed]",
            "text/plain": [
              "<Figure size 1000x1000 with 2 Axes>"
            ]
          },
          "metadata": {},
          "output_type": "display_data"
        }
      ],
      "source": [
        "plt.figure(figsize = (10,10))\n",
        "sns.heatmap(data = corr_df*100, annot = True, cmap = \"RdYlGn\", cbar = True, fmt='.0f')\n",
        "plt.show()"
      ]
    },
    {
      "cell_type": "code",
      "execution_count": 298,
      "metadata": {},
      "outputs": [
        {
          "data": {
            "image/png": "[encoded data removed]",
            "text/plain": [
              "<Figure size 1000x500 with 2 Axes>"
            ]
          },
          "metadata": {},
          "output_type": "display_data"
        }
      ],
      "source": [
        "# Переглядаємо матрицю тільки для значень більше 0.5\n",
        "plt.figure(figsize = (10,5))\n",
        "sns.heatmap(data = corr_df[(np.abs(corr_df) >= 0.5) & (np.abs(corr_df) < 0.99)]*100, annot = True, cmap = \"RdYlGn\", cbar = True, fmt='.0f')\n",
        "plt.show()"
      ]
    },
    {
      "cell_type": "code",
      "execution_count": 299,
      "metadata": {},
      "outputs": [
        {
          "data": {
            "text/plain": [
              "Power                0.849137\n",
              "Engine               0.710561\n",
              "Transmission_code    0.680731\n",
              "Mileage             -0.638404\n",
              "Car_ID                    NaN\n",
              "Year                      NaN\n",
              "Kilometers_Driven         NaN\n",
              "Seats                     NaN\n",
              "Fuel_code                 NaN\n",
              "Audi                      NaN\n",
              "BMW                       NaN\n",
              "Ford                      NaN\n",
              "Honda                     NaN\n",
              "Hyundai                   NaN\n",
              "Mahindra                  NaN\n",
              "Maruti                    NaN\n",
              "Mercedes                  NaN\n",
              "Tata                      NaN\n",
              "Toyota                    NaN\n",
              "Volkswagen                NaN\n",
              "Owner_Type_Codes          NaN\n",
              "Price                     NaN\n",
              "dtype: float64"
            ]
          },
          "execution_count": 299,
          "metadata": {},
          "output_type": "execute_result"
        }
      ],
      "source": [
        "# Виводимо колонки що найбільше корелюють з цільовою змінною Price\n",
        "corr_df[(np.abs(corr_df) >= 0.5) & (np.abs(corr_df) <= 0.99)].unstack().sort_values(ascending = False).Price\n"
      ]
    },
    {
      "cell_type": "markdown",
      "metadata": {},
      "source": [
        "Найбільшу корелцію з цільовою змінною `Price` мають колонки\n",
        "\n",
        "* Power - `0.849137`\n",
        "* Engine - `0.710561`\n",
        "* Transmission_code - `0.680731`\n",
        "* Mileage - `-0.638404`"
      ]
    },
    {
      "cell_type": "markdown",
      "metadata": {
        "id": "G7BZ3pD-USgU"
      },
      "source": [
        "**Завдання 6**. Тренуємо лінійну регресію.\n",
        "0. Видаліть усі НЕчислові колонки з `X_train`, `X_test`, якщо ще цього не зробили.\n",
        "1. Натренуйте лінійну регресую з `sklearn` на усіх числових даних тренувального набору `X_train`.\n",
        "2. Зробіть передбачення на  `X_train`, `X_test`. Знайдіть і виведіть root mean squared error відхилення передбачення від справжніх значень цільової змінної.\n",
        "3. Побудуйте графік розсіювання передбачень проти реальних даних цільової змінної для тренувального і тестувального наборів даних. Що можете сказати про якість моделі?"
      ]
    },
    {
      "cell_type": "code",
      "execution_count": 300,
      "metadata": {
        "id": "SElx21B4f3VY"
      },
      "outputs": [
        {
          "data": {
            "text/plain": [
              "array([2189574.86554523,  184953.1916545 ,  607518.78411261,\n",
              "        473200.58591096,  549564.67982538])"
            ]
          },
          "execution_count": 300,
          "metadata": {},
          "output_type": "execute_result"
        }
      ],
      "source": [
        "# навчаємо модель та робимо передбачення\n",
        "model = LinearRegression().fit(X_train, Y_train)\n",
        "\n",
        "predictions_train = model.predict(X_train)\n",
        "predictions_test = model.predict(X_test)\n",
        "\n",
        "predictions_test[:5]"
      ]
    },
    {
      "cell_type": "code",
      "execution_count": 301,
      "metadata": {},
      "outputs": [
        {
          "data": {
            "text/plain": [
              "(210293.57828151857, 258181.561120329)"
            ]
          },
          "execution_count": 301,
          "metadata": {},
          "output_type": "execute_result"
        }
      ],
      "source": [
        "# розраховуємо loss\n",
        "rmse_train = root_mean_squared_error(Y_train, predictions_train)\n",
        "rmse_test = root_mean_squared_error(Y_test, predictions_test)\n",
        "rmse_train, rmse_test"
      ]
    },
    {
      "cell_type": "code",
      "execution_count": 302,
      "metadata": {},
      "outputs": [
        {
          "data": {
            "image/png": "[encoded data removed]",
            "text/plain": [
              "<Figure size 640x480 with 1 Axes>"
            ]
          },
          "metadata": {},
          "output_type": "display_data"
        }
      ],
      "source": [
        "plt.scatter(Y_train, predictions_train , color='blue', label='Train Data')\n",
        "plt.scatter(Y_test, predictions_test, color='red', label=\"Test Data\")\n",
        "plt.legend()\n",
        "plt.xlabel('Target')\n",
        "plt.ylabel('Prediction')\n",
        "plt.title('Передбаченн для тренувальної вибарки')\n",
        "plt.grid(True)"
      ]
    },
    {
      "cell_type": "markdown",
      "metadata": {},
      "source": [
        "Модель робить наближені передбачення до очікуваних значень, проте для деяких екземпляпів вони відрізнються від target. Також маємо доволі великі значення мохибок, але для точніших восновкіх їх потрібно порівняти із похибками інших моделей"
      ]
    },
    {
      "cell_type": "markdown",
      "metadata": {
        "id": "0LcACfQ3W3VP"
      },
      "source": [
        "**Завдання 7**. Ми хочемо проаналізувати як впливає кожен чинник на цілову змінну. Для цього давайте промасштабуємо наші дані.\n",
        "1. Зробіть масштабування незалежних змінних використовуючи `StandardScaler`. Тренуємо на тренувальних даних, а на тестувальних лише викликаємо `transform`.\n",
        "\n",
        "2. Натренуйте модель на відмасштабованих даних і перегляньте коефіцієнти моделі. Які колонки є найвпливовішими на формування передбачення з точки зору коефіцієнтів? Проаналізуйте напрям дії найважливіших коефіцієнтів. Чи це логічно з точки зору значення відповідних змінних, що вони впливають на цільову змінну саме в напрямі збільшення / зменшення?"
      ]
    },
    {
      "cell_type": "code",
      "execution_count": 303,
      "metadata": {
        "id": "HA-l3vUWf6Af"
      },
      "outputs": [
        {
          "data": {
            "text/plain": [
              "(array([5.3162500e+01, 2.0183625e+03, 2.8362500e+04, 1.7062500e+01,\n",
              "        1.9107375e+03, 1.6688750e+02, 5.2250000e+00]),\n",
              " array([7.99036094e+02, 1.25609375e+00, 8.40810938e+07, 1.16335937e+01,\n",
              "        4.31270294e+05, 6.62974984e+03, 5.49375000e-01]))"
            ]
          },
          "execution_count": 303,
          "metadata": {},
          "output_type": "execute_result"
        }
      ],
      "source": [
        "# Тренуємо scaler на числових даних та дивимось параметри\n",
        "cols_to_scale = inputs.select_dtypes(include='number').columns\n",
        "scaler = StandardScaler().fit(X_train[cols_to_scale])\n",
        "scaler.mean_, scaler.var_"
      ]
    },
    {
      "cell_type": "code",
      "execution_count": 304,
      "metadata": {},
      "outputs": [
        {
          "data": {
            "text/plain": [
              "array([[ 1.09092769,  0.56881254, -0.69387081,  0.27486176, -0.62849114,\n",
              "        -0.23196684, -0.30356247],\n",
              "       [ 0.10038127, -0.32344242, -0.03953291, -0.01832412,  0.08719579,\n",
              "         0.24701168, -0.30356247],\n",
              "       [-0.92554181, -0.32344242, -0.03953291, -0.60469588,  0.1115596 ,\n",
              "         0.9102127 , -0.30356247]])"
            ]
          },
          "execution_count": 304,
          "metadata": {},
          "output_type": "execute_result"
        }
      ],
      "source": [
        "# Масштабуємо числові дані тренувального набору даних\n",
        "scaled_X_train = scaler.transform(X_train[cols_to_scale])\n",
        "scaled_X_test = scaler.transform(X_test[cols_to_scale])\n",
        "\n",
        "scaled_X_train[:3]"
      ]
    },
    {
      "cell_type": "code",
      "execution_count": 305,
      "metadata": {},
      "outputs": [
        {
          "data": {
            "text/plain": [
              "array([[1., 1., 0., 0., 0., 0., 0., 0., 0., 0., 0., 0., 1., 1.],\n",
              "       [0., 1., 1., 0., 0., 0., 0., 0., 0., 0., 0., 0., 0., 0.],\n",
              "       [1., 1., 1., 0., 0., 0., 0., 0., 0., 0., 0., 0., 0., 0.]])"
            ]
          },
          "execution_count": 305,
          "metadata": {},
          "output_type": "execute_result"
        }
      ],
      "source": [
        "# Дізсаємо дані категоріальних колонок\n",
        "cat_cols = ['Fuel_code', 'Transmission_code'] + enc.categories_[0].tolist() + ['Owner_Type_Codes']\n",
        "X_train_cat_data = X_train[cat_cols].values\n",
        "X_test_cat_data = X_test[cat_cols].values\n",
        "\n",
        "X_train_cat_data[:3]"
      ]
    },
    {
      "cell_type": "code",
      "execution_count": 306,
      "metadata": {},
      "outputs": [],
      "source": [
        "# Поєднуємо числові та категоріальні колонки\n",
        "X_train_scaled = np.concatenate((scaled_X_train, X_train_cat_data), axis=1)\n",
        "X_test_scaled = np.concatenate((scaled_X_test, X_test_cat_data), axis=1)\n"
      ]
    },
    {
      "cell_type": "code",
      "execution_count": 307,
      "metadata": {},
      "outputs": [
        {
          "data": {
            "text/plain": [
              "(210293.5782815185, 258181.56112032756)"
            ]
          },
          "execution_count": 307,
          "metadata": {},
          "output_type": "execute_result"
        }
      ],
      "source": [
        "# навчаємо модель та робимо передбачення\n",
        "model = LinearRegression().fit(X_train_scaled, Y_train)\n",
        "\n",
        "predictions_train_scaled = model.predict(X_train_scaled)\n",
        "predictions_test_scaled = model.predict(X_test_scaled)\n",
        "\n",
        "# розраховуємо loss\n",
        "rmse_train = root_mean_squared_error(Y_train, predictions_train_scaled)\n",
        "rmse_test = root_mean_squared_error(Y_test, predictions_test_scaled)\n",
        "rmse_train, rmse_test"
      ]
    },
    {
      "cell_type": "code",
      "execution_count": 308,
      "metadata": {},
      "outputs": [
        {
          "data": {
            "text/html": [
              "<div>\n",
              "<style scoped>\n",
              "    .dataframe tbody tr th:only-of-type {\n",
              "        vertical-align: middle;\n",
              "    }\n",
              "\n",
              "    .dataframe tbody tr th {\n",
              "        vertical-align: top;\n",
              "    }\n",
              "\n",
              "    .dataframe thead th {\n",
              "        text-align: right;\n",
              "    }\n",
              "</style>\n",
              "<table border=\"1\" class=\"dataframe\">\n",
              "  <thead>\n",
              "    <tr style=\"text-align: right;\">\n",
              "      <th></th>\n",
              "      <th>feature</th>\n",
              "      <th>weight</th>\n",
              "    </tr>\n",
              "  </thead>\n",
              "  <tbody>\n",
              "    <tr>\n",
              "      <th>21</th>\n",
              "      <td>1</td>\n",
              "      <td>1.601956e+06</td>\n",
              "    </tr>\n",
              "    <tr>\n",
              "      <th>9</th>\n",
              "      <td>Audi</td>\n",
              "      <td>7.569974e+05</td>\n",
              "    </tr>\n",
              "    <tr>\n",
              "      <th>16</th>\n",
              "      <td>Mercedes</td>\n",
              "      <td>7.364157e+05</td>\n",
              "    </tr>\n",
              "    <tr>\n",
              "      <th>10</th>\n",
              "      <td>BMW</td>\n",
              "      <td>7.312208e+05</td>\n",
              "    </tr>\n",
              "    <tr>\n",
              "      <th>5</th>\n",
              "      <td>Power</td>\n",
              "      <td>4.967692e+05</td>\n",
              "    </tr>\n",
              "    <tr>\n",
              "      <th>8</th>\n",
              "      <td>Transmission_code</td>\n",
              "      <td>2.395294e+05</td>\n",
              "    </tr>\n",
              "    <tr>\n",
              "      <th>18</th>\n",
              "      <td>Toyota</td>\n",
              "      <td>1.243492e+05</td>\n",
              "    </tr>\n",
              "    <tr>\n",
              "      <th>20</th>\n",
              "      <td>Owner_Type_Codes</td>\n",
              "      <td>6.476399e+04</td>\n",
              "    </tr>\n",
              "    <tr>\n",
              "      <th>0</th>\n",
              "      <td>Car_ID</td>\n",
              "      <td>5.608685e+03</td>\n",
              "    </tr>\n",
              "    <tr>\n",
              "      <th>6</th>\n",
              "      <td>Seats</td>\n",
              "      <td>-2.148925e+03</td>\n",
              "    </tr>\n",
              "    <tr>\n",
              "      <th>1</th>\n",
              "      <td>Year</td>\n",
              "      <td>-8.765646e+03</td>\n",
              "    </tr>\n",
              "    <tr>\n",
              "      <th>4</th>\n",
              "      <td>Engine</td>\n",
              "      <td>-2.137745e+04</td>\n",
              "    </tr>\n",
              "    <tr>\n",
              "      <th>2</th>\n",
              "      <td>Kilometers_Driven</td>\n",
              "      <td>-9.439872e+04</td>\n",
              "    </tr>\n",
              "    <tr>\n",
              "      <th>17</th>\n",
              "      <td>Tata</td>\n",
              "      <td>-1.278903e+05</td>\n",
              "    </tr>\n",
              "    <tr>\n",
              "      <th>3</th>\n",
              "      <td>Mileage</td>\n",
              "      <td>-1.317155e+05</td>\n",
              "    </tr>\n",
              "    <tr>\n",
              "      <th>12</th>\n",
              "      <td>Honda</td>\n",
              "      <td>-1.875805e+05</td>\n",
              "    </tr>\n",
              "    <tr>\n",
              "      <th>19</th>\n",
              "      <td>Volkswagen</td>\n",
              "      <td>-2.573503e+05</td>\n",
              "    </tr>\n",
              "    <tr>\n",
              "      <th>11</th>\n",
              "      <td>Ford</td>\n",
              "      <td>-3.024399e+05</td>\n",
              "    </tr>\n",
              "    <tr>\n",
              "      <th>7</th>\n",
              "      <td>Fuel_code</td>\n",
              "      <td>-3.678110e+05</td>\n",
              "    </tr>\n",
              "    <tr>\n",
              "      <th>15</th>\n",
              "      <td>Maruti</td>\n",
              "      <td>-3.921028e+05</td>\n",
              "    </tr>\n",
              "    <tr>\n",
              "      <th>13</th>\n",
              "      <td>Hyundai</td>\n",
              "      <td>-5.065820e+05</td>\n",
              "    </tr>\n",
              "    <tr>\n",
              "      <th>14</th>\n",
              "      <td>Mahindra</td>\n",
              "      <td>-5.750372e+05</td>\n",
              "    </tr>\n",
              "  </tbody>\n",
              "</table>\n",
              "</div>"
            ],
            "text/plain": [
              "              feature        weight\n",
              "21                  1  1.601956e+06\n",
              "9                Audi  7.569974e+05\n",
              "16           Mercedes  7.364157e+05\n",
              "10                BMW  7.312208e+05\n",
              "5               Power  4.967692e+05\n",
              "8   Transmission_code  2.395294e+05\n",
              "18             Toyota  1.243492e+05\n",
              "20   Owner_Type_Codes  6.476399e+04\n",
              "0              Car_ID  5.608685e+03\n",
              "6               Seats -2.148925e+03\n",
              "1                Year -8.765646e+03\n",
              "4              Engine -2.137745e+04\n",
              "2   Kilometers_Driven -9.439872e+04\n",
              "17               Tata -1.278903e+05\n",
              "3             Mileage -1.317155e+05\n",
              "12              Honda -1.875805e+05\n",
              "19         Volkswagen -2.573503e+05\n",
              "11               Ford -3.024399e+05\n",
              "7           Fuel_code -3.678110e+05\n",
              "15             Maruti -3.921028e+05\n",
              "13            Hyundai -5.065820e+05\n",
              "14           Mahindra -5.750372e+05"
            ]
          },
          "execution_count": 308,
          "metadata": {},
          "output_type": "execute_result"
        }
      ],
      "source": [
        "weights_df = pd.DataFrame({\n",
        "    'feature': np.append(cols_to_scale.tolist() + cat_cols, 1),\n",
        "    'weight': np.append(model.coef_, model.intercept_)\n",
        "})\n",
        "weights_df.sort_values('weight', ascending=False)"
      ]
    },
    {
      "cell_type": "markdown",
      "metadata": {},
      "source": [
        "З точки зору коефіцієнтв найвпливовішими є колнки \n",
        "\n",
        "\n",
        "* `Audi`\t7.569974e+05 - якщо значення колонки 1 ціна збільшується\n",
        "* `Mercedes`\t7.364157e+05 - якщо значення колонки 1 ціна збільшується\n",
        "* `BMW`\t7.312208e+05 - якщо значення колонки 1 ціна збільшується\n",
        "* `Power`\t4.967692e+05 - зі збільшенням потіжності автомобіля ціна збільшується\n",
        "* `Transmission_code`\t2.395294e+05 - якщо тип трансмісії 'Automatic' ціна більше ніж коли 'Manual'\n",
        "\n",
        "* `Fuel_code`\t-3.678110e+05 - якщо тип палива 'Petrol' ціна нижча ніж коли 'Diesel'\n",
        "* `Maruti`\t-3.921028e+05 - якщо значення колонки 1 ціна зменшуєтьс\n",
        "* `Hyundai`\t-5.065820e+05 - якщо значення колонки 1 ціна зменшуєтьс\n",
        "* `Mahindra`\t-5.750372e+05 - якщо значення колонки 1 ціна зменшуєтьс\n",
        "\n",
        "\n",
        "Напрямок впливу для всіх розглнутих зміних виглядає логічно, бренди Audi, Mercedes та BMW дорожчі ніж Maruri, Hyundai, Mahindra.\n",
        "Тип трансмісії 'Automatic' дорожчий ніж 'Manual', а тип палива 'Diesel' дорожчий за 'Petrol'"
      ]
    },
    {
      "cell_type": "markdown",
      "metadata": {
        "id": "WNNkfnrHr7wL"
      },
      "source": [
        "**Завдання 8.** На тих самих відмасштабованих даних натренуйте модель з `statsmodels`. Виведіть звіт і проаналізуйте p-value коефіцієнтів. Які ознаки є стат значущими на рівні значущості 0.05? Напишіть їх список."
      ]
    },
    {
      "cell_type": "code",
      "execution_count": 365,
      "metadata": {
        "id": "hcYoViyff7zE"
      },
      "outputs": [
        {
          "data": {
            "text/plain": [
              "array([[ 1.09092769,  0.56881254, -0.69387081, ...,  0.        ,\n",
              "         1.        ,  1.        ],\n",
              "       [ 0.10038127, -0.32344242, -0.03953291, ...,  0.        ,\n",
              "         0.        ,  0.        ],\n",
              "       [-0.92554181, -0.32344242, -0.03953291, ...,  0.        ,\n",
              "         0.        ,  0.        ],\n",
              "       ...,\n",
              "       [-1.63307497, -0.32344242,  1.81442446, ...,  0.        ,\n",
              "         0.        ,  1.        ],\n",
              "       [-0.89016515,  0.56881254, -0.69387081, ...,  0.        ,\n",
              "         0.        ,  1.        ],\n",
              "       [ 0.80791442,  0.56881254, -0.69387081, ...,  0.        ,\n",
              "         0.        ,  0.        ]])"
            ]
          },
          "execution_count": 365,
          "metadata": {},
          "output_type": "execute_result"
        }
      ],
      "source": [
        "model = sm.OLS(Y_train, sm.add_constant(X_train_scaled))\n",
        "results = model.fit()\n",
        "\n",
        "results.params"
      ]
    },
    {
      "cell_type": "code",
      "execution_count": 310,
      "metadata": {},
      "outputs": [
        {
          "data": {
            "text/plain": [
              "const            intercept\n",
              "x1                  Car_ID\n",
              "x2                    Year\n",
              "x3       Kilometers_Driven\n",
              "x4                 Mileage\n",
              "x5                  Engine\n",
              "x6                   Power\n",
              "x7                   Seats\n",
              "x8               Fuel_code\n",
              "x9       Transmission_code\n",
              "x10                   Audi\n",
              "x11                    BMW\n",
              "x12                   Ford\n",
              "x13                  Honda\n",
              "x14                Hyundai\n",
              "x15               Mahindra\n",
              "x16                 Maruti\n",
              "x17               Mercedes\n",
              "x18                   Tata\n",
              "x19                 Toyota\n",
              "x20             Volkswagen\n",
              "x21       Owner_Type_Codes\n",
              "dtype: object"
            ]
          },
          "execution_count": 310,
          "metadata": {},
          "output_type": "execute_result"
        }
      ],
      "source": [
        "# Так як масштабовані дані не містять назв колонок створимо датафрем з відповіністю xi з результатів моделі назвам оригінальних колонок для кращого легшого розуміння результатів\n",
        "param_names = results.params.index\n",
        "new_param_names = ['intercept'] + cols_to_scale.tolist() + cat_cols # replace with your desired names\n",
        "name_map = dict(zip(param_names, new_param_names))\n",
        "\n",
        "df = pd.Series(name_map)\n",
        "df"
      ]
    },
    {
      "cell_type": "code",
      "execution_count": 311,
      "metadata": {},
      "outputs": [
        {
          "name": "stdout",
          "output_type": "stream",
          "text": [
            "                            OLS Regression Results                            \n",
            "==============================================================================\n",
            "Dep. Variable:                  Price   R-squared:                       0.959\n",
            "Model:                            OLS   Adj. R-squared:                  0.945\n",
            "Method:                 Least Squares   F-statistic:                     68.35\n",
            "Date:                Sun, 02 Jun 2024   Prob (F-statistic):           2.01e-33\n",
            "Time:                        19:50:54   Log-Likelihood:                -1094.0\n",
            "No. Observations:                  80   AIC:                             2230.\n",
            "Df Residuals:                      59   BIC:                             2280.\n",
            "Df Model:                          20                                         \n",
            "Covariance Type:            nonrobust                                         \n",
            "==============================================================================\n",
            "                 coef    std err          t      P>|t|      [0.025      0.975]\n",
            "------------------------------------------------------------------------------\n",
            "const       1.468e+06   7.26e+04     20.235      0.000    1.32e+06    1.61e+06\n",
            "x1          5608.6854   3.37e+04      0.166      0.869   -6.19e+04    7.31e+04\n",
            "x2         -8765.6457   6.09e+04     -0.144      0.886   -1.31e+05    1.13e+05\n",
            "x3          -9.44e+04   6.51e+04     -1.449      0.153   -2.25e+05    3.59e+04\n",
            "x4         -1.317e+05   5.83e+04     -2.259      0.028   -2.48e+05    -1.5e+04\n",
            "x5         -2.138e+04   7.29e+04     -0.293      0.770   -1.67e+05    1.24e+05\n",
            "x6          4.968e+05   7.54e+04      6.588      0.000    3.46e+05    6.48e+05\n",
            "x7         -2148.9245   4.22e+04     -0.051      0.960   -8.66e+04    8.23e+04\n",
            "x8         -3.678e+05   9.14e+04     -4.026      0.000   -5.51e+05   -1.85e+05\n",
            "x9          2.395e+05   9.03e+04      2.653      0.010    5.89e+04     4.2e+05\n",
            "x10         8.905e+05   1.05e+05      8.443      0.000    6.79e+05     1.1e+06\n",
            "x11         8.647e+05   1.04e+05      8.346      0.000    6.57e+05    1.07e+06\n",
            "x12        -1.689e+05   1.08e+05     -1.559      0.124   -3.86e+05    4.79e+04\n",
            "x13        -5.408e+04   1.38e+05     -0.392      0.697    -3.3e+05    2.22e+05\n",
            "x14        -3.731e+05    1.1e+05     -3.392      0.001   -5.93e+05   -1.53e+05\n",
            "x15        -4.415e+05    1.3e+05     -3.397      0.001   -7.02e+05   -1.81e+05\n",
            "x16        -2.586e+05   1.17e+05     -2.202      0.032   -4.94e+05   -2.36e+04\n",
            "x17         8.699e+05   1.03e+05      8.442      0.000    6.64e+05    1.08e+06\n",
            "x18         5605.9737   1.19e+05      0.047      0.962   -2.32e+05    2.43e+05\n",
            "x19         2.578e+05   1.17e+05      2.200      0.032    2.33e+04    4.92e+05\n",
            "x20        -1.239e+05   1.08e+05     -1.144      0.257   -3.41e+05    9.28e+04\n",
            "x21         6.476e+04   7.26e+04      0.892      0.376   -8.06e+04     2.1e+05\n",
            "==============================================================================\n",
            "Omnibus:                        0.187   Durbin-Watson:                   2.053\n",
            "Prob(Omnibus):                  0.911   Jarque-Bera (JB):                0.311\n",
            "Skew:                           0.104   Prob(JB):                        0.856\n",
            "Kurtosis:                       2.776   Cond. No.                     3.19e+16\n",
            "==============================================================================\n",
            "\n",
            "Notes:\n",
            "[1] Standard Errors assume that the covariance matrix of the errors is correctly specified.\n",
            "[2] The smallest eigenvalue is 2.3e-31. This might indicate that there are\n",
            "strong multicollinearity problems or that the design matrix is singular.\n"
          ]
        }
      ],
      "source": [
        "print(results.summary())"
      ]
    },
    {
      "cell_type": "code",
      "execution_count": 319,
      "metadata": {},
      "outputs": [
        {
          "data": {
            "text/plain": [
              "const    3.150436e-28\n",
              "x4       2.760048e-02\n",
              "x6       1.343837e-08\n",
              "x8       1.639420e-04\n",
              "x9       1.022962e-02\n",
              "x10      9.805822e-12\n",
              "x11      1.425094e-11\n",
              "x14      1.245777e-03\n",
              "x15      1.226570e-03\n",
              "x16      3.155922e-02\n",
              "x17      9.836836e-12\n",
              "x19      3.174811e-02\n",
              "dtype: float64"
            ]
          },
          "execution_count": 319,
          "metadata": {},
          "output_type": "execute_result"
        }
      ],
      "source": [
        "results.pvalues[results.pvalues<=0.05]"
      ]
    },
    {
      "cell_type": "markdown",
      "metadata": {},
      "source": [
        "p-value менше рівня стат. значущості 0.05 для коефіцієнті:\n",
        "\n",
        "x4, x6, x8, x9, x10, x11, x14, x15, x16, x17, x19"
      ]
    },
    {
      "cell_type": "code",
      "execution_count": 360,
      "metadata": {},
      "outputs": [
        {
          "data": {
            "text/plain": [
              "array(['Mileage', 'Power', 'Fuel_code', 'Transmission_code', 'Audi',\n",
              "       'BMW', 'Hyundai', 'Mahindra', 'Maruti', 'Mercedes', 'Toyota'],\n",
              "      dtype=object)"
            ]
          },
          "execution_count": 360,
          "metadata": {},
          "output_type": "execute_result"
        }
      ],
      "source": [
        "cols = results.pvalues[results.pvalues<0.05].index\n",
        "filtered_cols = df.loc[df.index.isin(cols)].drop('const', axis=0)\n",
        "filtered_cols.values"
      ]
    },
    {
      "cell_type": "markdown",
      "metadata": {},
      "source": [
        "Отже найбільш стат. значущими є колонки '`Mileage`', '`Power`', '`Fuel_code`', '`Transmission_code`', '`Audi`',\n",
        "       '`BMW`', '`Hyundai`', '`Mahindra`', '`Maruti`', '`Mercedes`', '`Toyota`'."
      ]
    },
    {
      "cell_type": "markdown",
      "metadata": {
        "id": "pvOdCEVccfcM"
      },
      "source": [
        "**Завдання 9**. Натренуйте лінійну регресію з `statsmodels` тільки на ознаках, які виявлись стат. значущими в попередньому завданні. Проаналізуйте показники моделі. Чи значно змінились R2 і Adj. R-squared?"
      ]
    },
    {
      "cell_type": "code",
      "execution_count": 347,
      "metadata": {},
      "outputs": [
        {
          "data": {
            "text/html": [
              "<div>\n",
              "<style scoped>\n",
              "    .dataframe tbody tr th:only-of-type {\n",
              "        vertical-align: middle;\n",
              "    }\n",
              "\n",
              "    .dataframe tbody tr th {\n",
              "        vertical-align: top;\n",
              "    }\n",
              "\n",
              "    .dataframe thead th {\n",
              "        text-align: right;\n",
              "    }\n",
              "</style>\n",
              "<table border=\"1\" class=\"dataframe\">\n",
              "  <thead>\n",
              "    <tr style=\"text-align: right;\">\n",
              "      <th></th>\n",
              "      <th>Mileage</th>\n",
              "      <th>Power</th>\n",
              "      <th>Fuel_code</th>\n",
              "      <th>Transmission_code</th>\n",
              "      <th>Audi</th>\n",
              "      <th>BMW</th>\n",
              "      <th>Hyundai</th>\n",
              "      <th>Mahindra</th>\n",
              "      <th>Maruti</th>\n",
              "      <th>Mercedes</th>\n",
              "      <th>Toyota</th>\n",
              "    </tr>\n",
              "  </thead>\n",
              "  <tbody>\n",
              "    <tr>\n",
              "      <th>0</th>\n",
              "      <td>0.274862</td>\n",
              "      <td>-0.231967</td>\n",
              "      <td>1.0</td>\n",
              "      <td>1.0</td>\n",
              "      <td>0.0</td>\n",
              "      <td>0.0</td>\n",
              "      <td>0.0</td>\n",
              "      <td>0.0</td>\n",
              "      <td>0.0</td>\n",
              "      <td>0.0</td>\n",
              "      <td>0.0</td>\n",
              "    </tr>\n",
              "    <tr>\n",
              "      <th>1</th>\n",
              "      <td>-0.018324</td>\n",
              "      <td>0.247012</td>\n",
              "      <td>0.0</td>\n",
              "      <td>1.0</td>\n",
              "      <td>1.0</td>\n",
              "      <td>0.0</td>\n",
              "      <td>0.0</td>\n",
              "      <td>0.0</td>\n",
              "      <td>0.0</td>\n",
              "      <td>0.0</td>\n",
              "      <td>0.0</td>\n",
              "    </tr>\n",
              "    <tr>\n",
              "      <th>2</th>\n",
              "      <td>-0.604696</td>\n",
              "      <td>0.910213</td>\n",
              "      <td>1.0</td>\n",
              "      <td>1.0</td>\n",
              "      <td>1.0</td>\n",
              "      <td>0.0</td>\n",
              "      <td>0.0</td>\n",
              "      <td>0.0</td>\n",
              "      <td>0.0</td>\n",
              "      <td>0.0</td>\n",
              "      <td>0.0</td>\n",
              "    </tr>\n",
              "    <tr>\n",
              "      <th>3</th>\n",
              "      <td>0.274862</td>\n",
              "      <td>-0.784634</td>\n",
              "      <td>1.0</td>\n",
              "      <td>0.0</td>\n",
              "      <td>0.0</td>\n",
              "      <td>0.0</td>\n",
              "      <td>0.0</td>\n",
              "      <td>0.0</td>\n",
              "      <td>0.0</td>\n",
              "      <td>0.0</td>\n",
              "      <td>0.0</td>\n",
              "    </tr>\n",
              "    <tr>\n",
              "      <th>4</th>\n",
              "      <td>-1.484254</td>\n",
              "      <td>0.910213</td>\n",
              "      <td>1.0</td>\n",
              "      <td>1.0</td>\n",
              "      <td>0.0</td>\n",
              "      <td>0.0</td>\n",
              "      <td>0.0</td>\n",
              "      <td>0.0</td>\n",
              "      <td>0.0</td>\n",
              "      <td>1.0</td>\n",
              "      <td>0.0</td>\n",
              "    </tr>\n",
              "  </tbody>\n",
              "</table>\n",
              "</div>"
            ],
            "text/plain": [
              "    Mileage     Power  Fuel_code  Transmission_code  Audi  BMW  Hyundai  \\\n",
              "0  0.274862 -0.231967        1.0                1.0   0.0  0.0      0.0   \n",
              "1 -0.018324  0.247012        0.0                1.0   1.0  0.0      0.0   \n",
              "2 -0.604696  0.910213        1.0                1.0   1.0  0.0      0.0   \n",
              "3  0.274862 -0.784634        1.0                0.0   0.0  0.0      0.0   \n",
              "4 -1.484254  0.910213        1.0                1.0   0.0  0.0      0.0   \n",
              "\n",
              "   Mahindra  Maruti  Mercedes  Toyota  \n",
              "0       0.0     0.0       0.0     0.0  \n",
              "1       0.0     0.0       0.0     0.0  \n",
              "2       0.0     0.0       0.0     0.0  \n",
              "3       0.0     0.0       0.0     0.0  \n",
              "4       0.0     0.0       1.0     0.0  "
            ]
          },
          "execution_count": 347,
          "metadata": {},
          "output_type": "execute_result"
        }
      ],
      "source": [
        "X_train_scaled_under05 = pd.DataFrame(X_train_scaled, columns=X_train.columns.values)[filtered_cols.values]\n",
        "X_train_scaled_under05.head()"
      ]
    },
    {
      "cell_type": "code",
      "execution_count": 366,
      "metadata": {
        "id": "2uE1DqiCf85H"
      },
      "outputs": [
        {
          "data": {
            "text/plain": [
              "const    1.347926e+06\n",
              "x1      -9.871469e+04\n",
              "x2       4.626079e+05\n",
              "x3      -2.644347e+05\n",
              "x4       2.546451e+05\n",
              "x5       9.664675e+05\n",
              "x6       1.060240e+06\n",
              "x7      -3.073476e+05\n",
              "x8      -2.859407e+05\n",
              "x9      -1.178075e+05\n",
              "x10      1.017277e+06\n",
              "x11      2.597025e+05\n",
              "dtype: float64"
            ]
          },
          "execution_count": 366,
          "metadata": {},
          "output_type": "execute_result"
        }
      ],
      "source": [
        "model_under05 = sm.OLS( Y_train, sm.add_constant(X_train_scaled_under05.values)).fit()\n",
        "model_under05.params\n"
      ]
    },
    {
      "cell_type": "code",
      "execution_count": 367,
      "metadata": {},
      "outputs": [
        {
          "name": "stdout",
          "output_type": "stream",
          "text": [
            "                            OLS Regression Results                            \n",
            "==============================================================================\n",
            "Dep. Variable:                  Price   R-squared:                       0.954\n",
            "Model:                            OLS   Adj. R-squared:                  0.947\n",
            "Method:                 Least Squares   F-statistic:                     129.2\n",
            "Date:                Sun, 02 Jun 2024   Prob (F-statistic):           4.53e-41\n",
            "Time:                        22:14:37   Log-Likelihood:                -1098.0\n",
            "No. Observations:                  80   AIC:                             2220.\n",
            "Df Residuals:                      68   BIC:                             2248.\n",
            "Df Model:                          11                                         \n",
            "Covariance Type:            nonrobust                                         \n",
            "==============================================================================\n",
            "                 coef    std err          t      P>|t|      [0.025      0.975]\n",
            "------------------------------------------------------------------------------\n",
            "const       1.348e+06   6.68e+04     20.180      0.000    1.21e+06    1.48e+06\n",
            "x1         -9.871e+04   4.01e+04     -2.461      0.016   -1.79e+05   -1.87e+04\n",
            "x2          4.626e+05   4.63e+04      9.986      0.000     3.7e+05    5.55e+05\n",
            "x3         -2.644e+05   5.69e+04     -4.650      0.000   -3.78e+05   -1.51e+05\n",
            "x4          2.546e+05   7.51e+04      3.392      0.001    1.05e+05    4.04e+05\n",
            "x5          9.665e+05   1.05e+05      9.234      0.000    7.58e+05    1.18e+06\n",
            "x6           1.06e+06   1.05e+05     10.079      0.000     8.5e+05    1.27e+06\n",
            "x7         -3.073e+05   1.11e+05     -2.776      0.007   -5.28e+05   -8.64e+04\n",
            "x8         -2.859e+05   1.33e+05     -2.156      0.035   -5.51e+05   -2.13e+04\n",
            "x9         -1.178e+05   1.19e+05     -0.991      0.325   -3.55e+05    1.19e+05\n",
            "x10         1.017e+06   1.03e+05      9.890      0.000    8.12e+05    1.22e+06\n",
            "x11         2.597e+05   1.01e+05      2.570      0.012    5.81e+04    4.61e+05\n",
            "==============================================================================\n",
            "Omnibus:                        0.359   Durbin-Watson:                   1.845\n",
            "Prob(Omnibus):                  0.836   Jarque-Bera (JB):                0.479\n",
            "Skew:                           0.145   Prob(JB):                        0.787\n",
            "Kurtosis:                       2.755   Cond. No.                         8.75\n",
            "==============================================================================\n",
            "\n",
            "Notes:\n",
            "[1] Standard Errors assume that the covariance matrix of the errors is correctly specified.\n"
          ]
        }
      ],
      "source": [
        "print(model_under05.summary())"
      ]
    },
    {
      "cell_type": "markdown",
      "metadata": {},
      "source": [
        "Показники попередньої моделі:\n",
        "\n",
        "\n",
        "* R-squared:                       0.959\n",
        "* Adj. R-squared:                  0.945\n",
        "\n",
        "Показника нової моделі:\n",
        "\n",
        "* R-squared:                   0.954\n",
        "* Adj. R-squared:              0.947\n",
        "\n",
        "Значення коефіцієнта детермінації R-squared трохи зменшилось, проте досі є доволі високим\n",
        "\n",
        "Значення Adj. R-squared трохи збільшилось"
      ]
    },
    {
      "cell_type": "markdown",
      "metadata": {
        "id": "q-AJSrlxdx-p"
      },
      "source": [
        "**Завдання 10**. Натренуйте лінійну регресію з `statsmodels` на усіх ознаках з масштабованого `X_train`, у яких p_value в завданні 7 менше за `0.25`. Ми таким чином помʼякшили критерій відбору ознак. Проаналізуйте показники моделі. Чи значно змінились R2 і Adj. R-squared порівняно з завданням 7? Яку модель з останніх 3х завдань ви б лишили для використання?"
      ]
    },
    {
      "cell_type": "code",
      "execution_count": 361,
      "metadata": {
        "id": "nBVF4b-bgAdz"
      },
      "outputs": [
        {
          "data": {
            "text/plain": [
              "array(['Kilometers_Driven', 'Mileage', 'Power', 'Fuel_code',\n",
              "       'Transmission_code', 'Audi', 'BMW', 'Ford', 'Hyundai', 'Mahindra',\n",
              "       'Maruti', 'Mercedes', 'Toyota'], dtype=object)"
            ]
          },
          "execution_count": 361,
          "metadata": {},
          "output_type": "execute_result"
        }
      ],
      "source": [
        "cols = results.pvalues[results.pvalues<0.25].index\n",
        "filtered_cols_under25 = df.loc[df.index.isin(cols)].drop('const', axis=0)\n",
        "filtered_cols_under25.values"
      ]
    },
    {
      "cell_type": "code",
      "execution_count": 362,
      "metadata": {},
      "outputs": [
        {
          "data": {
            "text/html": [
              "<div>\n",
              "<style scoped>\n",
              "    .dataframe tbody tr th:only-of-type {\n",
              "        vertical-align: middle;\n",
              "    }\n",
              "\n",
              "    .dataframe tbody tr th {\n",
              "        vertical-align: top;\n",
              "    }\n",
              "\n",
              "    .dataframe thead th {\n",
              "        text-align: right;\n",
              "    }\n",
              "</style>\n",
              "<table border=\"1\" class=\"dataframe\">\n",
              "  <thead>\n",
              "    <tr style=\"text-align: right;\">\n",
              "      <th></th>\n",
              "      <th>Kilometers_Driven</th>\n",
              "      <th>Mileage</th>\n",
              "      <th>Power</th>\n",
              "      <th>Fuel_code</th>\n",
              "      <th>Transmission_code</th>\n",
              "      <th>Audi</th>\n",
              "      <th>BMW</th>\n",
              "      <th>Ford</th>\n",
              "      <th>Hyundai</th>\n",
              "      <th>Mahindra</th>\n",
              "      <th>Maruti</th>\n",
              "      <th>Mercedes</th>\n",
              "      <th>Toyota</th>\n",
              "    </tr>\n",
              "  </thead>\n",
              "  <tbody>\n",
              "    <tr>\n",
              "      <th>0</th>\n",
              "      <td>-0.693871</td>\n",
              "      <td>0.274862</td>\n",
              "      <td>-0.231967</td>\n",
              "      <td>1.0</td>\n",
              "      <td>1.0</td>\n",
              "      <td>0.0</td>\n",
              "      <td>0.0</td>\n",
              "      <td>0.0</td>\n",
              "      <td>0.0</td>\n",
              "      <td>0.0</td>\n",
              "      <td>0.0</td>\n",
              "      <td>0.0</td>\n",
              "      <td>0.0</td>\n",
              "    </tr>\n",
              "    <tr>\n",
              "      <th>1</th>\n",
              "      <td>-0.039533</td>\n",
              "      <td>-0.018324</td>\n",
              "      <td>0.247012</td>\n",
              "      <td>0.0</td>\n",
              "      <td>1.0</td>\n",
              "      <td>1.0</td>\n",
              "      <td>0.0</td>\n",
              "      <td>0.0</td>\n",
              "      <td>0.0</td>\n",
              "      <td>0.0</td>\n",
              "      <td>0.0</td>\n",
              "      <td>0.0</td>\n",
              "      <td>0.0</td>\n",
              "    </tr>\n",
              "    <tr>\n",
              "      <th>2</th>\n",
              "      <td>-0.039533</td>\n",
              "      <td>-0.604696</td>\n",
              "      <td>0.910213</td>\n",
              "      <td>1.0</td>\n",
              "      <td>1.0</td>\n",
              "      <td>1.0</td>\n",
              "      <td>0.0</td>\n",
              "      <td>0.0</td>\n",
              "      <td>0.0</td>\n",
              "      <td>0.0</td>\n",
              "      <td>0.0</td>\n",
              "      <td>0.0</td>\n",
              "      <td>0.0</td>\n",
              "    </tr>\n",
              "    <tr>\n",
              "      <th>3</th>\n",
              "      <td>0.396692</td>\n",
              "      <td>0.274862</td>\n",
              "      <td>-0.784634</td>\n",
              "      <td>1.0</td>\n",
              "      <td>0.0</td>\n",
              "      <td>0.0</td>\n",
              "      <td>0.0</td>\n",
              "      <td>0.0</td>\n",
              "      <td>0.0</td>\n",
              "      <td>0.0</td>\n",
              "      <td>0.0</td>\n",
              "      <td>0.0</td>\n",
              "      <td>0.0</td>\n",
              "    </tr>\n",
              "    <tr>\n",
              "      <th>4</th>\n",
              "      <td>-0.257646</td>\n",
              "      <td>-1.484254</td>\n",
              "      <td>0.910213</td>\n",
              "      <td>1.0</td>\n",
              "      <td>1.0</td>\n",
              "      <td>0.0</td>\n",
              "      <td>0.0</td>\n",
              "      <td>0.0</td>\n",
              "      <td>0.0</td>\n",
              "      <td>0.0</td>\n",
              "      <td>0.0</td>\n",
              "      <td>1.0</td>\n",
              "      <td>0.0</td>\n",
              "    </tr>\n",
              "  </tbody>\n",
              "</table>\n",
              "</div>"
            ],
            "text/plain": [
              "   Kilometers_Driven   Mileage     Power  Fuel_code  Transmission_code  Audi  \\\n",
              "0          -0.693871  0.274862 -0.231967        1.0                1.0   0.0   \n",
              "1          -0.039533 -0.018324  0.247012        0.0                1.0   1.0   \n",
              "2          -0.039533 -0.604696  0.910213        1.0                1.0   1.0   \n",
              "3           0.396692  0.274862 -0.784634        1.0                0.0   0.0   \n",
              "4          -0.257646 -1.484254  0.910213        1.0                1.0   0.0   \n",
              "\n",
              "   BMW  Ford  Hyundai  Mahindra  Maruti  Mercedes  Toyota  \n",
              "0  0.0   0.0      0.0       0.0     0.0       0.0     0.0  \n",
              "1  0.0   0.0      0.0       0.0     0.0       0.0     0.0  \n",
              "2  0.0   0.0      0.0       0.0     0.0       0.0     0.0  \n",
              "3  0.0   0.0      0.0       0.0     0.0       0.0     0.0  \n",
              "4  0.0   0.0      0.0       0.0     0.0       1.0     0.0  "
            ]
          },
          "execution_count": 362,
          "metadata": {},
          "output_type": "execute_result"
        }
      ],
      "source": [
        "X_train_scaled_under25 = pd.DataFrame(X_train_scaled, columns=X_train.columns.values)[filtered_cols_under25.values]\n",
        "X_train_scaled_under25.head()"
      ]
    },
    {
      "cell_type": "code",
      "execution_count": 368,
      "metadata": {},
      "outputs": [
        {
          "data": {
            "text/plain": [
              "const    1.410132e+06\n",
              "x1      -7.811157e+04\n",
              "x2      -1.218583e+05\n",
              "x3       4.667184e+05\n",
              "x4      -3.238180e+05\n",
              "x5       2.356203e+05\n",
              "x6       9.629063e+05\n",
              "x7       9.762323e+05\n",
              "x8      -5.119183e+04\n",
              "x9      -2.646967e+05\n",
              "x10     -3.520439e+05\n",
              "x11     -1.685536e+05\n",
              "x12      9.616181e+05\n",
              "x13      3.095612e+05\n",
              "dtype: float64"
            ]
          },
          "execution_count": 368,
          "metadata": {},
          "output_type": "execute_result"
        }
      ],
      "source": [
        "model_under25 = sm.OLS( Y_train, sm.add_constant(X_train_scaled_under25.values)).fit()\n",
        "model_under25.params"
      ]
    },
    {
      "cell_type": "code",
      "execution_count": 369,
      "metadata": {},
      "outputs": [
        {
          "name": "stdout",
          "output_type": "stream",
          "text": [
            "                            OLS Regression Results                            \n",
            "==============================================================================\n",
            "Dep. Variable:                  Price   R-squared:                       0.958\n",
            "Model:                            OLS   Adj. R-squared:                  0.950\n",
            "Method:                 Least Squares   F-statistic:                     115.3\n",
            "Date:                Sun, 02 Jun 2024   Prob (F-statistic):           4.40e-40\n",
            "Time:                        22:15:00   Log-Likelihood:                -1094.8\n",
            "No. Observations:                  80   AIC:                             2218.\n",
            "Df Residuals:                      66   BIC:                             2251.\n",
            "Df Model:                          13                                         \n",
            "Covariance Type:            nonrobust                                         \n",
            "==============================================================================\n",
            "                 coef    std err          t      P>|t|      [0.025      0.975]\n",
            "------------------------------------------------------------------------------\n",
            "const        1.41e+06   8.43e+04     16.718      0.000    1.24e+06    1.58e+06\n",
            "x1         -7.811e+04   3.37e+04     -2.318      0.024   -1.45e+05   -1.08e+04\n",
            "x2         -1.219e+05   4.25e+04     -2.869      0.006   -2.07e+05    -3.7e+04\n",
            "x3          4.667e+05   4.69e+04      9.947      0.000    3.73e+05     5.6e+05\n",
            "x4         -3.238e+05   6.11e+04     -5.303      0.000   -4.46e+05   -2.02e+05\n",
            "x5          2.356e+05   7.52e+04      3.133      0.003    8.55e+04    3.86e+05\n",
            "x6          9.629e+05   1.12e+05      8.635      0.000     7.4e+05    1.19e+06\n",
            "x7          9.762e+05   1.19e+05      8.227      0.000    7.39e+05    1.21e+06\n",
            "x8         -5.119e+04   1.15e+05     -0.446      0.657    -2.8e+05    1.78e+05\n",
            "x9         -2.647e+05   1.12e+05     -2.372      0.021   -4.88e+05   -4.19e+04\n",
            "x10         -3.52e+05   1.37e+05     -2.574      0.012   -6.25e+05    -7.9e+04\n",
            "x11        -1.686e+05    1.2e+05     -1.405      0.165   -4.08e+05     7.1e+04\n",
            "x12         9.616e+05   1.14e+05      8.402      0.000    7.33e+05    1.19e+06\n",
            "x13         3.096e+05   1.12e+05      2.753      0.008    8.51e+04    5.34e+05\n",
            "==============================================================================\n",
            "Omnibus:                        0.255   Durbin-Watson:                   2.000\n",
            "Prob(Omnibus):                  0.880   Jarque-Bera (JB):                0.384\n",
            "Skew:                           0.120   Prob(JB):                        0.825\n",
            "Kurtosis:                       2.761   Cond. No.                         11.7\n",
            "==============================================================================\n",
            "\n",
            "Notes:\n",
            "[1] Standard Errors assume that the covariance matrix of the errors is correctly specified.\n"
          ]
        }
      ],
      "source": [
        "print(model_under25.summary())"
      ]
    },
    {
      "cell_type": "markdown",
      "metadata": {},
      "source": [
        "Показники попередньої моделі:\n",
        "\n",
        "\n",
        "* R-squared:                       0.959\n",
        "* Adj. R-squared:                  0.945\n",
        "\n",
        "Показника нової моделі:\n",
        "\n",
        "* R-squared (uncentered):                   0.958\n",
        "* Adj. R-squared (uncentered):              0.950\n",
        "\n",
        "Значення коефіцієнта детермінації R-squared майже не змінилось\n",
        "\n",
        "Значення Adj. R-squared трохи збільшилось\n",
        "\n",
        "Для використання можна залишити останню модель, так як значення R-squared, хоч і зовсім трохи, менше ніж у першої моделі і все одно є доволі високим, і значення Adj. R-squared є найбіьлшим з усіх трьох моделей"
      ]
    }
  ],
  "metadata": {
    "colab": {
      "provenance": []
    },
    "kernelspec": {
      "display_name": "Python 3",
      "name": "python3"
    },
    "language_info": {
      "codemirror_mode": {
        "name": "ipython",
        "version": 3
      },
      "file_extension": ".py",
      "mimetype": "text/x-python",
      "name": "python",
      "nbconvert_exporter": "python",
      "pygments_lexer": "ipython3",
      "version": "3.11.7"
    }
  },
  "nbformat": 4,
  "nbformat_minor": 0
}
