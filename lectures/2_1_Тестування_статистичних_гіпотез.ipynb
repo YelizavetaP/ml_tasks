{
  "cells": [
    {
      "cell_type": "code",
      "execution_count": null,
      "id": "f6e78310",
      "metadata": {
        "ExecuteTime": {
          "end_time": "2024-01-12T12:55:41.194553Z",
          "start_time": "2024-01-12T12:55:33.123673Z"
        },
        "id": "f6e78310"
      },
      "outputs": [],
      "source": [
        "!pip install statsmodels --quiet"
      ]
    },
    {
      "cell_type": "markdown",
      "id": "bb40a0b3",
      "metadata": {
        "id": "bb40a0b3"
      },
      "source": [
        "# Z-test"
      ]
    },
    {
      "cell_type": "code",
      "execution_count": 1,
      "id": "2b0f49d0",
      "metadata": {
        "ExecuteTime": {
          "end_time": "2024-01-12T12:56:03.785615Z",
          "start_time": "2024-01-12T12:56:03.782331Z"
        },
        "id": "2b0f49d0"
      },
      "outputs": [],
      "source": [
        "import numpy as np\n",
        "from statsmodels.stats.weightstats import ztest"
      ]
    },
    {
      "cell_type": "markdown",
      "id": "9cdfbc15",
      "metadata": {
        "id": "9cdfbc15"
      },
      "source": [
        "## На одній вибірці"
      ]
    },
    {
      "cell_type": "markdown",
      "id": "425bb019",
      "metadata": {
        "ExecuteTime": {
          "end_time": "2021-11-18T22:11:26.527037Z",
          "start_time": "2021-11-18T22:11:26.434988Z"
        },
        "id": "425bb019"
      },
      "source": [
        "Згенеруємо випадковий масив із 50 чисел, що мають середнє значення 110 і стандартне відхилення 15, аналогічно до даних IQ, які ми припускаємо в задачі."
      ]
    },
    {
      "cell_type": "code",
      "execution_count": 23,
      "id": "5112b1fe",
      "metadata": {},
      "outputs": [],
      "source": [
        "mean_iq = 110\n",
        "sd_iq = 15\n",
        "alpha = 0.05\n",
        "null_mean_iq = 100\n",
        "sample_size = 50"
      ]
    },
    {
      "cell_type": "code",
      "execution_count": 33,
      "id": "c39b4a39",
      "metadata": {
        "ExecuteTime": {
          "end_time": "2024-01-12T13:21:29.067478Z",
          "start_time": "2024-01-12T13:21:29.064169Z"
        },
        "id": "c39b4a39"
      },
      "outputs": [],
      "source": [
        "# генеруємо дані\n",
        "data = np.random.randn(sample_size) * sd_iq + mean_iq"
      ]
    },
    {
      "cell_type": "code",
      "execution_count": null,
      "id": "1f7c3d14",
      "metadata": {
        "ExecuteTime": {
          "end_time": "2024-01-12T13:22:04.550800Z",
          "start_time": "2024-01-12T13:22:04.547316Z"
        },
        "id": "1f7c3d14"
      },
      "outputs": [],
      "source": [
        "# альтернативно можна згенерувати дані\n",
        "# data = np.random.normal(mean_iq, sd_iq, sample_size)"
      ]
    },
    {
      "cell_type": "code",
      "execution_count": 34,
      "id": "3b4aa6e3",
      "metadata": {
        "ExecuteTime": {
          "end_time": "2024-01-12T13:22:05.115172Z",
          "start_time": "2024-01-12T13:22:05.109729Z"
        },
        "colab": {
          "base_uri": "https://localhost:8080/"
        },
        "id": "3b4aa6e3",
        "outputId": "7f20c97b-812c-4e0f-971c-c30cfa15f1ca"
      },
      "outputs": [
        {
          "name": "stdout",
          "output_type": "stream",
          "text": [
            "Середнє вибірки: 107.99\n",
            "Стандартне відхилення вибірки: 17.46\n"
          ]
        }
      ],
      "source": [
        "# перевірка результатів\n",
        "\n",
        "print(\"Середнє вибірки: {:.2f}\".format(np.mean(data)))\n",
        "print(\"Стандартне відхилення вибірки: {:.2f}\".format(np.std(data)))"
      ]
    },
    {
      "cell_type": "code",
      "execution_count": 35,
      "id": "6278f27d",
      "metadata": {
        "ExecuteTime": {
          "end_time": "2024-01-12T13:13:22.394519Z",
          "start_time": "2024-01-12T13:13:22.386187Z"
        },
        "colab": {
          "base_uri": "https://localhost:8080/"
        },
        "id": "6278f27d",
        "outputId": "f1adf8a1-4575-47de-fe62-972798be71bf"
      },
      "outputs": [
        {
          "data": {
            "text/plain": [
              "array([ 99.10587161,  88.96397539,  96.80889499, 100.5341728 ,\n",
              "       104.33490886,  94.50249722,  96.36199938,  73.69463344,\n",
              "       109.55717223,  91.34130998, 125.41639678, 118.94427766,\n",
              "       114.08896444,  98.98751278,  93.83498105,  92.55816951,\n",
              "        93.5012093 , 130.35615043, 110.44967246, 103.4420898 ,\n",
              "       102.45817406,  84.02735294, 101.37993537, 106.71785488,\n",
              "       111.08912214, 105.94477279, 139.15456221, 122.21336054,\n",
              "        70.25753009,  94.93900283, 154.13786192, 135.07063153,\n",
              "        80.09756764, 106.30628527, 121.29272584,  97.7414799 ,\n",
              "        93.22195428,  97.11490675, 112.69298145, 127.01251931,\n",
              "       131.05980591, 132.77250566, 120.40232605, 124.84218055,\n",
              "       109.62986481, 134.46385693, 105.8526114 ,  95.20644006,\n",
              "       131.56491426, 113.93865131])"
            ]
          },
          "execution_count": 35,
          "metadata": {},
          "output_type": "execute_result"
        }
      ],
      "source": [
        "data"
      ]
    },
    {
      "cell_type": "markdown",
      "id": "d7fcf34b",
      "metadata": {
        "ExecuteTime": {
          "end_time": "2021-11-18T22:13:57.648731Z",
          "start_time": "2021-11-18T22:13:57.643927Z"
        },
        "id": "d7fcf34b"
      },
      "source": [
        "Тепер проводимо тест. У цій функції ми передали дані, у параметрі значення ми передали середнє значення в нульовій гіпотезі, в альтернативній гіпотезі ми перевіряємо, чи більше середнє значення"
      ]
    },
    {
      "cell_type": "code",
      "execution_count": 36,
      "id": "c0040f5a",
      "metadata": {
        "ExecuteTime": {
          "end_time": "2024-01-12T13:13:25.778819Z",
          "start_time": "2024-01-12T13:13:25.773057Z"
        },
        "id": "c0040f5a"
      },
      "outputs": [],
      "source": [
        "# дані, середнє ген сукупності (Н0), умова альтернативи\n",
        "ztest_Score, p_value = ztest(data, value=null_mean_iq, alternative='larger')"
      ]
    },
    {
      "cell_type": "code",
      "execution_count": 37,
      "id": "0b3b3c77",
      "metadata": {
        "ExecuteTime": {
          "end_time": "2024-01-12T13:13:26.225879Z",
          "start_time": "2024-01-12T13:13:26.220267Z"
        },
        "colab": {
          "base_uri": "https://localhost:8080/"
        },
        "id": "0b3b3c77",
        "outputId": "ecb7d98a-55af-48b6-cd63-23da2a8eb21e"
      },
      "outputs": [
        {
          "data": {
            "text/plain": [
              "(3.2016551072068484, 0.0006832024491998074)"
            ]
          },
          "execution_count": 37,
          "metadata": {},
          "output_type": "execute_result"
        }
      ],
      "source": [
        "ztest_Score, p_value"
      ]
    },
    {
      "cell_type": "markdown",
      "id": "bda82122",
      "metadata": {
        "ExecuteTime": {
          "end_time": "2021-11-18T22:14:40.100021Z",
          "start_time": "2021-11-18T22:14:40.094813Z"
        },
        "id": "bda82122"
      },
      "source": [
        "Функція виводить p_value і z-score, що відповідають цьому значенню, ми порівнюємо p-значення з альфа, якщо воно більше альфа, то ми не приймаємо нульову гіпотезу, інакше ми її відхиляємо."
      ]
    },
    {
      "cell_type": "code",
      "execution_count": 38,
      "id": "c662cf02",
      "metadata": {
        "ExecuteTime": {
          "end_time": "2024-01-12T13:13:27.745012Z",
          "start_time": "2024-01-12T13:13:27.740749Z"
        },
        "colab": {
          "base_uri": "https://localhost:8080/"
        },
        "id": "c662cf02",
        "outputId": "3e3edc0b-111f-40cc-d078-7692238fad8d"
      },
      "outputs": [
        {
          "name": "stdout",
          "output_type": "stream",
          "text": [
            "Відхилити H0\n"
          ]
        }
      ],
      "source": [
        "if(p_value < alpha):\n",
        "    print('Відхилити H0')\n",
        "else: \n",
        "    print('H0 не може бути відхилена')"
      ]
    },
    {
      "cell_type": "markdown",
      "id": "e76e73e1",
      "metadata": {
        "id": "e76e73e1"
      },
      "source": [
        "## На двох вибірках"
      ]
    },
    {
      "cell_type": "markdown",
      "id": "2451ba9b",
      "metadata": {
        "id": "2451ba9b"
      },
      "source": [
        "Порівняємо рівні IQ у двох різних містах."
      ]
    },
    {
      "cell_type": "code",
      "execution_count": 39,
      "id": "5220d17e",
      "metadata": {
        "ExecuteTime": {
          "end_time": "2022-12-07T21:57:11.987942Z",
          "start_time": "2022-12-07T21:57:11.970770Z"
        },
        "id": "5220d17e"
      },
      "outputs": [],
      "source": [
        "# IQ в двох містах\n",
        "cityA = [82, 84, 85, 89, 91, 91, 92, 94, 99, 99,\n",
        "         105, 109, 109, 109, 110, 112, 112, 113, 114, 114]\n",
        "\n",
        "cityB = [90, 91, 91, 91, 95, 95, 99, 99, 108, 109,\n",
        "         109, 114, 115, 116, 117, 117, 128, 129, 130, 133]"
      ]
    },
    {
      "cell_type": "code",
      "execution_count": 40,
      "id": "037eda6a",
      "metadata": {
        "ExecuteTime": {
          "end_time": "2022-12-07T21:57:42.355858Z",
          "start_time": "2022-12-07T21:57:42.349712Z"
        },
        "colab": {
          "base_uri": "https://localhost:8080/"
        },
        "id": "037eda6a",
        "outputId": "7fb9af19-1abf-4fd8-bd85-892c6f8e97e2"
      },
      "outputs": [
        {
          "data": {
            "text/plain": [
              "(100.65, 108.8)"
            ]
          },
          "execution_count": 40,
          "metadata": {},
          "output_type": "execute_result"
        }
      ],
      "source": [
        "np.mean(cityA), np.mean(cityB)"
      ]
    },
    {
      "cell_type": "markdown",
      "id": "29f9d1ba",
      "metadata": {
        "ExecuteTime": {
          "end_time": "2021-11-18T22:29:17.895822Z",
          "start_time": "2021-11-18T22:29:17.861475Z"
        },
        "id": "29f9d1ba"
      },
      "source": [
        "Виконуємо тест."
      ]
    },
    {
      "cell_type": "markdown",
      "id": "09a3e103",
      "metadata": {
        "id": "09a3e103"
      },
      "source": [
        "Важливий параметр методу ztest:\n",
        "- value : float  \n",
        "    In the one sample case, value is the mean of x1 under the Null\n",
        "    hypothesis.\n",
        "    In the two sample case, value is the difference between mean of x1 and\n",
        "    mean of x2 under the Null hypothesis. The test statistic is\n",
        "    `x1_mean - x2_mean - value`.\n",
        "    \n",
        "Метод z-test вертає\n",
        "\n",
        "- tstat : float,\n",
        "    test statistic\n",
        "- pvalue : float,\n",
        "    pvalue of the t-test"
      ]
    },
    {
      "cell_type": "code",
      "execution_count": 41,
      "id": "1072f324",
      "metadata": {
        "ExecuteTime": {
          "end_time": "2022-12-07T21:59:24.319268Z",
          "start_time": "2022-12-07T21:59:24.313768Z"
        },
        "colab": {
          "base_uri": "https://localhost:8080/"
        },
        "id": "1072f324",
        "outputId": "0c19a5a7-264d-4e2e-cd55-8bb17e5f0756"
      },
      "outputs": [
        {
          "data": {
            "text/plain": [
              "(-1.9953236073282115, 0.046007596761332065)"
            ]
          },
          "execution_count": 41,
          "metadata": {},
          "output_type": "execute_result"
        }
      ],
      "source": [
        "ztest(cityA, cityB, value=0)"
      ]
    },
    {
      "cell_type": "markdown",
      "id": "c8dd37db",
      "metadata": {
        "ExecuteTime": {
          "end_time": "2021-11-18T22:36:43.559957Z",
          "start_time": "2021-11-18T22:36:43.506713Z"
        },
        "id": "c8dd37db"
      },
      "source": [
        "Статистика для двох вибірок z-критерію становить -1.9953, а відповідне p-value дорівнює 0.0460.\n",
        "\n",
        "Оскільки p-value < 0.05, у нас є достатньо доказів, щоб відкинути нульову гіпотезу. Іншими словами, середній рівень IQ значно різниться між двома містами."
      ]
    }
  ],
  "metadata": {
    "colab": {
      "provenance": []
    },
    "kernelspec": {
      "display_name": "Python 3 (ipykernel)",
      "language": "python",
      "name": "python3"
    },
    "language_info": {
      "codemirror_mode": {
        "name": "ipython",
        "version": 3
      },
      "file_extension": ".py",
      "mimetype": "text/x-python",
      "name": "python",
      "nbconvert_exporter": "python",
      "pygments_lexer": "ipython3",
      "version": "3.11.7"
    },
    "toc": {
      "base_numbering": 1,
      "nav_menu": {},
      "number_sections": true,
      "sideBar": true,
      "skip_h1_title": false,
      "title_cell": "Table of Contents",
      "title_sidebar": "Contents",
      "toc_cell": false,
      "toc_position": {
        "height": "calc(100% - 180px)",
        "left": "10px",
        "top": "150px",
        "width": "358.398px"
      },
      "toc_section_display": true,
      "toc_window_display": true
    },
    "vscode": {
      "interpreter": {
        "hash": "a6511e6b41b26ba86cca7483749cf4dd15bf137a2672e550741a656e19bba82e"
      }
    }
  },
  "nbformat": 4,
  "nbformat_minor": 5
}
