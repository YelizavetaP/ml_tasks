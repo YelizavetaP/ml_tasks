{
 "cells": [
  {
   "cell_type": "markdown",
   "id": "e9fc0fb9",
   "metadata": {},
   "source": [
    "Порівняння цін різних мовних моделей\n",
    "Сайт, де можна обрати модель за ціною для ваших проєктів, тестових завдань і домашок:\n",
    "\n",
    "https://huggingface.co/spaces/philschmid/llm-pricing"
   ]
  }
 ],
 "metadata": {
  "language_info": {
   "name": "python"
  }
 },
 "nbformat": 4,
 "nbformat_minor": 5
}
