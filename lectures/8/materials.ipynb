{
 "cells": [
  {
   "cell_type": "markdown",
   "id": "3a94e9b5",
   "metadata": {},
   "source": [
    "Приклади тестових завдань на посаду Data Scientist/ML Eng\n",
    "Зібрала для вас тестові завдання на аналітика даних. В деяких випадках також є рішення учасників наставництва. Рекомендовано до перегляду і можна парочку вирішити та навіть зробити окремий проєкт)\n",
    "\n",
    "https://drive.google.com/drive/folders/1mr59uK5xOZyXS9O-cpn5wZDeIlorfNVR?usp=drive_link"
   ]
  },
  {
   "cell_type": "markdown",
   "id": "594cdcd9",
   "metadata": {},
   "source": [
    "Співбесіда на ML Engineer/Data Scientist. 250+ запитань\n",
    "У нас є 2 версії цього документу. Використовуйте ту, яка зручніша.\n",
    "\n",
    "Новіша версія - розбита по темам, в форматі таблиці, можна створити окремий view і зручно сортувати питання, відмічати, які пройдені, а які - ні.\n",
    "https://hannapylieva.notion.site/1f794835849480df82bfc66a9ee921fe?v=1f794835849481779e33000c47490263&pvs=4\n",
    "\n",
    "Старша - тут розбивка на умовні рівні Junior, Middle та Senior, взята з DOU. Питання ми доповнювали тими, які зустрічали випускники цієї програми. Але розбивка по рівням Junior, Middle, Senior не всюди, на мій погляд, коректна, тому було прийнято рішення переробити на повний перелік з прописаними темами в п.1\n",
    "\n",
    "https://hannapylieva.notion.site/ML-Engineer-250-Junior-Middle-Senior-a0ffc32774124bc7b527bd0c4de6da2c?pvs=4"
   ]
  },
  {
   "cell_type": "markdown",
   "id": "5f5fc607",
   "metadata": {},
   "source": [
    "Платформи для пошуку роботи в компанії і фрілансу\n",
    "https://hannapylieva.notion.site/10a94835849480d6baf6cc56d6fdab5e"
   ]
  },
  {
   "cell_type": "markdown",
   "id": "464c3bdb",
   "metadata": {},
   "source": [
    "Приклади резюме\n",
    "За посиланням можна знайти приклади резюме моїх учнів і клієнтів\n",
    "\n",
    "https://drive.google.com/drive/folders/1S535H_5R4dArkaADzx5LjDAfat0WVNo4?usp=sharing"
   ]
  }
 ],
 "metadata": {
  "language_info": {
   "name": "python"
  }
 },
 "nbformat": 4,
 "nbformat_minor": 5
}
