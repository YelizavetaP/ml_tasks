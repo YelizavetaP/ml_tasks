{
 "cells": [
  {
   "cell_type": "markdown",
   "id": "91ddfed5",
   "metadata": {},
   "source": [
    "Стаття про алгоритми кластеризації\n",
    "https://medium.com/data-science/the-5-clustering-algorithms-data-scientists-need-to-know-a36d136ef68"
   ]
  }
 ],
 "metadata": {
  "language_info": {
   "name": "python"
  }
 },
 "nbformat": 4,
 "nbformat_minor": 5
}
