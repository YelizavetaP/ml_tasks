{
  "cells": [
    {
      "cell_type": "markdown",
      "metadata": {
        "id": "HyqdaH-nPE6j"
      },
      "source": [
        "В цьому ноутбуці ми проведемо дослідницький аналіз даних про історичні платежі по кредитам клієнтами.\n",
        "\n",
        "[Опис колонок в даних тут.](https://drive.google.com/file/d/1Yp2aOdC33QFAVfTyxav_gKGwi4M9VN1Z/view?usp=sharing)\n",
        "\n",
        "Цільова змінна TARGET тут має наступне значення: 1 – клієнт із труднощами з оплатою: він/вона прострочив платіж понад X днів принаймні одного з перших Y платежів кредиту в нашій вибірці, 0 – усі інші випадки\n",
        "\n",
        "Задача - виявити, яким клієнтам видавати кредит, а яким - не варто, бо вони з високою імовірністю його не повернуть.\n",
        "\n",
        "Дані взяті з [Kaggle](https://www.kaggle.com/datasets/gauravduttakiit/loan-defaulter). Прошу використовувати саме ті, які надані в нашому курсі, аби нам бути впевненими, що ми точно працюємо з одними і тими ж даними."
      ]
    },
    {
      "cell_type": "markdown",
      "metadata": {
        "id": "xBxqzN1eJHO0"
      },
      "source": [
        "# Імпорт необхідних бібліотек"
      ]
    },
    {
      "cell_type": "code",
      "execution_count": 1,
      "metadata": {
        "execution": {
          "iopub.execute_input": "2021-07-13T08:25:13.705346Z",
          "iopub.status.busy": "2021-07-13T08:25:13.705053Z",
          "iopub.status.idle": "2021-07-13T08:25:14.62265Z",
          "shell.execute_reply": "2021-07-13T08:25:14.622037Z",
          "shell.execute_reply.started": "2021-07-13T08:25:13.705321Z"
        },
        "id": "EFrTCGKmJHO1",
        "trusted": true
      },
      "outputs": [],
      "source": [
        "import numpy as np\n",
        "import pandas as pd\n",
        "import matplotlib.pyplot as plt\n",
        "import seaborn as sns\n",
        "\n",
        "pd.set_option('display.max.rows', 30)\n",
        "pd.set_option('display.max.columns', 130)\n",
        "pd.set_option('float_format','{:.2f}'.format )"
      ]
    },
    {
      "cell_type": "markdown",
      "metadata": {
        "id": "UqkFbukQJHO1"
      },
      "source": [
        "# Імпорт даних"
      ]
    },
    {
      "cell_type": "markdown",
      "metadata": {
        "id": "UVZF6gws2aZo"
      },
      "source": [
        "Вмонтуємо наш диск, якщо Ви працюєте в Google Colab. Якщо працюєте локально, пропустіть наступну клітинку."
      ]
    },
    {
      "cell_type": "code",
      "execution_count": 2,
      "metadata": {
        "id": "UPDUbZtYW8S5"
      },
      "outputs": [],
      "source": [
        "# from google.colab import drive\n",
        "# drive.mount('/content/drive')"
      ]
    },
    {
      "cell_type": "markdown",
      "metadata": {
        "id": "Ke1f9Q2N2ndh"
      },
      "source": [
        "Знайдемо, де лежать наші файли з даними. В мене вони знаходяться тут:"
      ]
    },
    {
      "cell_type": "code",
      "execution_count": 3,
      "metadata": {
        "colab": {
          "base_uri": "https://localhost:8080/"
        },
        "id": "zWZKk7wwXDah",
        "outputId": "76409b45-5278-406b-9895-1cdfdf46b9d8"
      },
      "outputs": [
        {
          "name": "stdout",
          "output_type": "stream",
          "text": [
            " Volume in drive C has no label.\n",
            " Volume Serial Number is 0A0C-9CD6\n",
            "\n",
            " Directory of C:\\Users\\ASUS\\Desktop\\ML\\ml_tasks\n",
            "\n",
            "02.05.2024  20:10    <DIR>          .\n",
            "02.05.2024  20:10    <DIR>          ..\n",
            "02.05.2024  20:11                 5 .gitignore\n",
            "02.05.2024  20:13    <DIR>          data\n",
            "02.05.2024  19:59    <DIR>          hometasks\n",
            "02.05.2024  19:59    <DIR>          lectures\n",
            "28.04.2024  00:53                10 README.md\n",
            "               2 File(s)             15 bytes\n",
            "               5 Dir(s)  28�541�808�640 bytes free\n"
          ]
        }
      ],
      "source": [
        "ls C:\\Users\\ASUS\\Desktop\\ML\\ml_tasks"
      ]
    },
    {
      "cell_type": "markdown",
      "metadata": {
        "id": "oScYfqRkPjzI"
      },
      "source": [
        "Якщо треба зчитати опис, то робимо це аналогічно."
      ]
    },
    {
      "cell_type": "markdown",
      "metadata": {
        "id": "2hucePnm2rlZ"
      },
      "source": [
        "Зчитуємо дані."
      ]
    },
    {
      "cell_type": "code",
      "execution_count": 4,
      "metadata": {
        "execution": {
          "iopub.execute_input": "2021-07-13T08:25:14.62397Z",
          "iopub.status.busy": "2021-07-13T08:25:14.623608Z",
          "iopub.status.idle": "2021-07-13T08:25:20.157433Z",
          "shell.execute_reply": "2021-07-13T08:25:20.156773Z",
          "shell.execute_reply.started": "2021-07-13T08:25:14.623945Z"
        },
        "id": "Yi1QKBE5JHO1",
        "trusted": true
      },
      "outputs": [],
      "source": [
        "df = pd.read_csv('../data/application_data.csv.zip')"
      ]
    },
    {
      "cell_type": "code",
      "execution_count": 5,
      "metadata": {
        "colab": {
          "base_uri": "https://localhost:8080/",
          "height": 295
        },
        "execution": {
          "iopub.execute_input": "2021-07-13T08:25:20.159076Z",
          "iopub.status.busy": "2021-07-13T08:25:20.158721Z",
          "iopub.status.idle": "2021-07-13T08:25:20.237509Z",
          "shell.execute_reply": "2021-07-13T08:25:20.236919Z",
          "shell.execute_reply.started": "2021-07-13T08:25:20.15905Z"
        },
        "id": "0d078OkxJHO2",
        "outputId": "4b082751-a884-482b-8dc1-cd45a45d019c",
        "trusted": true
      },
      "outputs": [
        {
          "data": {
            "text/html": [
              "<div>\n",
              "<style scoped>\n",
              "    .dataframe tbody tr th:only-of-type {\n",
              "        vertical-align: middle;\n",
              "    }\n",
              "\n",
              "    .dataframe tbody tr th {\n",
              "        vertical-align: top;\n",
              "    }\n",
              "\n",
              "    .dataframe thead th {\n",
              "        text-align: right;\n",
              "    }\n",
              "</style>\n",
              "<table border=\"1\" class=\"dataframe\">\n",
              "  <thead>\n",
              "    <tr style=\"text-align: right;\">\n",
              "      <th></th>\n",
              "      <th>SK_ID_CURR</th>\n",
              "      <th>TARGET</th>\n",
              "      <th>NAME_CONTRACT_TYPE</th>\n",
              "      <th>CODE_GENDER</th>\n",
              "      <th>FLAG_OWN_CAR</th>\n",
              "      <th>FLAG_OWN_REALTY</th>\n",
              "      <th>CNT_CHILDREN</th>\n",
              "      <th>AMT_INCOME_TOTAL</th>\n",
              "      <th>AMT_CREDIT</th>\n",
              "      <th>AMT_ANNUITY</th>\n",
              "      <th>AMT_GOODS_PRICE</th>\n",
              "      <th>NAME_TYPE_SUITE</th>\n",
              "      <th>NAME_INCOME_TYPE</th>\n",
              "      <th>NAME_EDUCATION_TYPE</th>\n",
              "      <th>NAME_FAMILY_STATUS</th>\n",
              "      <th>NAME_HOUSING_TYPE</th>\n",
              "      <th>REGION_POPULATION_RELATIVE</th>\n",
              "      <th>DAYS_BIRTH</th>\n",
              "      <th>DAYS_EMPLOYED</th>\n",
              "      <th>DAYS_REGISTRATION</th>\n",
              "      <th>DAYS_ID_PUBLISH</th>\n",
              "      <th>OWN_CAR_AGE</th>\n",
              "      <th>FLAG_MOBIL</th>\n",
              "      <th>FLAG_EMP_PHONE</th>\n",
              "      <th>FLAG_WORK_PHONE</th>\n",
              "      <th>FLAG_CONT_MOBILE</th>\n",
              "      <th>FLAG_PHONE</th>\n",
              "      <th>FLAG_EMAIL</th>\n",
              "      <th>OCCUPATION_TYPE</th>\n",
              "      <th>CNT_FAM_MEMBERS</th>\n",
              "      <th>REGION_RATING_CLIENT</th>\n",
              "      <th>REGION_RATING_CLIENT_W_CITY</th>\n",
              "      <th>WEEKDAY_APPR_PROCESS_START</th>\n",
              "      <th>HOUR_APPR_PROCESS_START</th>\n",
              "      <th>REG_REGION_NOT_LIVE_REGION</th>\n",
              "      <th>REG_REGION_NOT_WORK_REGION</th>\n",
              "      <th>LIVE_REGION_NOT_WORK_REGION</th>\n",
              "      <th>REG_CITY_NOT_LIVE_CITY</th>\n",
              "      <th>REG_CITY_NOT_WORK_CITY</th>\n",
              "      <th>LIVE_CITY_NOT_WORK_CITY</th>\n",
              "      <th>ORGANIZATION_TYPE</th>\n",
              "      <th>EXT_SOURCE_1</th>\n",
              "      <th>EXT_SOURCE_2</th>\n",
              "      <th>EXT_SOURCE_3</th>\n",
              "      <th>APARTMENTS_AVG</th>\n",
              "      <th>BASEMENTAREA_AVG</th>\n",
              "      <th>YEARS_BEGINEXPLUATATION_AVG</th>\n",
              "      <th>YEARS_BUILD_AVG</th>\n",
              "      <th>COMMONAREA_AVG</th>\n",
              "      <th>ELEVATORS_AVG</th>\n",
              "      <th>ENTRANCES_AVG</th>\n",
              "      <th>FLOORSMAX_AVG</th>\n",
              "      <th>FLOORSMIN_AVG</th>\n",
              "      <th>LANDAREA_AVG</th>\n",
              "      <th>LIVINGAPARTMENTS_AVG</th>\n",
              "      <th>LIVINGAREA_AVG</th>\n",
              "      <th>NONLIVINGAPARTMENTS_AVG</th>\n",
              "      <th>NONLIVINGAREA_AVG</th>\n",
              "      <th>APARTMENTS_MODE</th>\n",
              "      <th>BASEMENTAREA_MODE</th>\n",
              "      <th>YEARS_BEGINEXPLUATATION_MODE</th>\n",
              "      <th>YEARS_BUILD_MODE</th>\n",
              "      <th>COMMONAREA_MODE</th>\n",
              "      <th>ELEVATORS_MODE</th>\n",
              "      <th>ENTRANCES_MODE</th>\n",
              "      <th>FLOORSMAX_MODE</th>\n",
              "      <th>FLOORSMIN_MODE</th>\n",
              "      <th>LANDAREA_MODE</th>\n",
              "      <th>LIVINGAPARTMENTS_MODE</th>\n",
              "      <th>LIVINGAREA_MODE</th>\n",
              "      <th>NONLIVINGAPARTMENTS_MODE</th>\n",
              "      <th>NONLIVINGAREA_MODE</th>\n",
              "      <th>APARTMENTS_MEDI</th>\n",
              "      <th>BASEMENTAREA_MEDI</th>\n",
              "      <th>YEARS_BEGINEXPLUATATION_MEDI</th>\n",
              "      <th>YEARS_BUILD_MEDI</th>\n",
              "      <th>COMMONAREA_MEDI</th>\n",
              "      <th>ELEVATORS_MEDI</th>\n",
              "      <th>ENTRANCES_MEDI</th>\n",
              "      <th>FLOORSMAX_MEDI</th>\n",
              "      <th>FLOORSMIN_MEDI</th>\n",
              "      <th>LANDAREA_MEDI</th>\n",
              "      <th>LIVINGAPARTMENTS_MEDI</th>\n",
              "      <th>LIVINGAREA_MEDI</th>\n",
              "      <th>NONLIVINGAPARTMENTS_MEDI</th>\n",
              "      <th>NONLIVINGAREA_MEDI</th>\n",
              "      <th>FONDKAPREMONT_MODE</th>\n",
              "      <th>HOUSETYPE_MODE</th>\n",
              "      <th>TOTALAREA_MODE</th>\n",
              "      <th>WALLSMATERIAL_MODE</th>\n",
              "      <th>EMERGENCYSTATE_MODE</th>\n",
              "      <th>OBS_30_CNT_SOCIAL_CIRCLE</th>\n",
              "      <th>DEF_30_CNT_SOCIAL_CIRCLE</th>\n",
              "      <th>OBS_60_CNT_SOCIAL_CIRCLE</th>\n",
              "      <th>DEF_60_CNT_SOCIAL_CIRCLE</th>\n",
              "      <th>DAYS_LAST_PHONE_CHANGE</th>\n",
              "      <th>FLAG_DOCUMENT_2</th>\n",
              "      <th>FLAG_DOCUMENT_3</th>\n",
              "      <th>FLAG_DOCUMENT_4</th>\n",
              "      <th>FLAG_DOCUMENT_5</th>\n",
              "      <th>FLAG_DOCUMENT_6</th>\n",
              "      <th>FLAG_DOCUMENT_7</th>\n",
              "      <th>FLAG_DOCUMENT_8</th>\n",
              "      <th>FLAG_DOCUMENT_9</th>\n",
              "      <th>FLAG_DOCUMENT_10</th>\n",
              "      <th>FLAG_DOCUMENT_11</th>\n",
              "      <th>FLAG_DOCUMENT_12</th>\n",
              "      <th>FLAG_DOCUMENT_13</th>\n",
              "      <th>FLAG_DOCUMENT_14</th>\n",
              "      <th>FLAG_DOCUMENT_15</th>\n",
              "      <th>FLAG_DOCUMENT_16</th>\n",
              "      <th>FLAG_DOCUMENT_17</th>\n",
              "      <th>FLAG_DOCUMENT_18</th>\n",
              "      <th>FLAG_DOCUMENT_19</th>\n",
              "      <th>FLAG_DOCUMENT_20</th>\n",
              "      <th>FLAG_DOCUMENT_21</th>\n",
              "      <th>AMT_REQ_CREDIT_BUREAU_HOUR</th>\n",
              "      <th>AMT_REQ_CREDIT_BUREAU_DAY</th>\n",
              "      <th>AMT_REQ_CREDIT_BUREAU_WEEK</th>\n",
              "      <th>AMT_REQ_CREDIT_BUREAU_MON</th>\n",
              "      <th>AMT_REQ_CREDIT_BUREAU_QRT</th>\n",
              "      <th>AMT_REQ_CREDIT_BUREAU_YEAR</th>\n",
              "    </tr>\n",
              "  </thead>\n",
              "  <tbody>\n",
              "    <tr>\n",
              "      <th>0</th>\n",
              "      <td>100002</td>\n",
              "      <td>1</td>\n",
              "      <td>Cash loans</td>\n",
              "      <td>M</td>\n",
              "      <td>N</td>\n",
              "      <td>Y</td>\n",
              "      <td>0</td>\n",
              "      <td>202500.00</td>\n",
              "      <td>406597.50</td>\n",
              "      <td>24700.50</td>\n",
              "      <td>351000.00</td>\n",
              "      <td>Unaccompanied</td>\n",
              "      <td>Working</td>\n",
              "      <td>Secondary / secondary special</td>\n",
              "      <td>Single / not married</td>\n",
              "      <td>House / apartment</td>\n",
              "      <td>0.02</td>\n",
              "      <td>-9461</td>\n",
              "      <td>-637</td>\n",
              "      <td>-3648.00</td>\n",
              "      <td>-2120</td>\n",
              "      <td>NaN</td>\n",
              "      <td>1</td>\n",
              "      <td>1</td>\n",
              "      <td>0</td>\n",
              "      <td>1</td>\n",
              "      <td>1</td>\n",
              "      <td>0</td>\n",
              "      <td>Laborers</td>\n",
              "      <td>1.00</td>\n",
              "      <td>2</td>\n",
              "      <td>2</td>\n",
              "      <td>WEDNESDAY</td>\n",
              "      <td>10</td>\n",
              "      <td>0</td>\n",
              "      <td>0</td>\n",
              "      <td>0</td>\n",
              "      <td>0</td>\n",
              "      <td>0</td>\n",
              "      <td>0</td>\n",
              "      <td>Business Entity Type 3</td>\n",
              "      <td>0.08</td>\n",
              "      <td>0.26</td>\n",
              "      <td>0.14</td>\n",
              "      <td>0.02</td>\n",
              "      <td>0.04</td>\n",
              "      <td>0.97</td>\n",
              "      <td>0.62</td>\n",
              "      <td>0.01</td>\n",
              "      <td>0.00</td>\n",
              "      <td>0.07</td>\n",
              "      <td>0.08</td>\n",
              "      <td>0.12</td>\n",
              "      <td>0.04</td>\n",
              "      <td>0.02</td>\n",
              "      <td>0.02</td>\n",
              "      <td>0.00</td>\n",
              "      <td>0.00</td>\n",
              "      <td>0.03</td>\n",
              "      <td>0.04</td>\n",
              "      <td>0.97</td>\n",
              "      <td>0.63</td>\n",
              "      <td>0.01</td>\n",
              "      <td>0.00</td>\n",
              "      <td>0.07</td>\n",
              "      <td>0.08</td>\n",
              "      <td>0.12</td>\n",
              "      <td>0.04</td>\n",
              "      <td>0.02</td>\n",
              "      <td>0.02</td>\n",
              "      <td>0.00</td>\n",
              "      <td>0.00</td>\n",
              "      <td>0.03</td>\n",
              "      <td>0.04</td>\n",
              "      <td>0.97</td>\n",
              "      <td>0.62</td>\n",
              "      <td>0.01</td>\n",
              "      <td>0.00</td>\n",
              "      <td>0.07</td>\n",
              "      <td>0.08</td>\n",
              "      <td>0.12</td>\n",
              "      <td>0.04</td>\n",
              "      <td>0.02</td>\n",
              "      <td>0.02</td>\n",
              "      <td>0.00</td>\n",
              "      <td>0.00</td>\n",
              "      <td>reg oper account</td>\n",
              "      <td>block of flats</td>\n",
              "      <td>0.01</td>\n",
              "      <td>Stone, brick</td>\n",
              "      <td>No</td>\n",
              "      <td>2.00</td>\n",
              "      <td>2.00</td>\n",
              "      <td>2.00</td>\n",
              "      <td>2.00</td>\n",
              "      <td>-1134.00</td>\n",
              "      <td>0</td>\n",
              "      <td>1</td>\n",
              "      <td>0</td>\n",
              "      <td>0</td>\n",
              "      <td>0</td>\n",
              "      <td>0</td>\n",
              "      <td>0</td>\n",
              "      <td>0</td>\n",
              "      <td>0</td>\n",
              "      <td>0</td>\n",
              "      <td>0</td>\n",
              "      <td>0</td>\n",
              "      <td>0</td>\n",
              "      <td>0</td>\n",
              "      <td>0</td>\n",
              "      <td>0</td>\n",
              "      <td>0</td>\n",
              "      <td>0</td>\n",
              "      <td>0</td>\n",
              "      <td>0</td>\n",
              "      <td>0.00</td>\n",
              "      <td>0.00</td>\n",
              "      <td>0.00</td>\n",
              "      <td>0.00</td>\n",
              "      <td>0.00</td>\n",
              "      <td>1.00</td>\n",
              "    </tr>\n",
              "    <tr>\n",
              "      <th>1</th>\n",
              "      <td>100003</td>\n",
              "      <td>0</td>\n",
              "      <td>Cash loans</td>\n",
              "      <td>F</td>\n",
              "      <td>N</td>\n",
              "      <td>N</td>\n",
              "      <td>0</td>\n",
              "      <td>270000.00</td>\n",
              "      <td>1293502.50</td>\n",
              "      <td>35698.50</td>\n",
              "      <td>1129500.00</td>\n",
              "      <td>Family</td>\n",
              "      <td>State servant</td>\n",
              "      <td>Higher education</td>\n",
              "      <td>Married</td>\n",
              "      <td>House / apartment</td>\n",
              "      <td>0.00</td>\n",
              "      <td>-16765</td>\n",
              "      <td>-1188</td>\n",
              "      <td>-1186.00</td>\n",
              "      <td>-291</td>\n",
              "      <td>NaN</td>\n",
              "      <td>1</td>\n",
              "      <td>1</td>\n",
              "      <td>0</td>\n",
              "      <td>1</td>\n",
              "      <td>1</td>\n",
              "      <td>0</td>\n",
              "      <td>Core staff</td>\n",
              "      <td>2.00</td>\n",
              "      <td>1</td>\n",
              "      <td>1</td>\n",
              "      <td>MONDAY</td>\n",
              "      <td>11</td>\n",
              "      <td>0</td>\n",
              "      <td>0</td>\n",
              "      <td>0</td>\n",
              "      <td>0</td>\n",
              "      <td>0</td>\n",
              "      <td>0</td>\n",
              "      <td>School</td>\n",
              "      <td>0.31</td>\n",
              "      <td>0.62</td>\n",
              "      <td>NaN</td>\n",
              "      <td>0.10</td>\n",
              "      <td>0.05</td>\n",
              "      <td>0.99</td>\n",
              "      <td>0.80</td>\n",
              "      <td>0.06</td>\n",
              "      <td>0.08</td>\n",
              "      <td>0.03</td>\n",
              "      <td>0.29</td>\n",
              "      <td>0.33</td>\n",
              "      <td>0.01</td>\n",
              "      <td>0.08</td>\n",
              "      <td>0.05</td>\n",
              "      <td>0.00</td>\n",
              "      <td>0.01</td>\n",
              "      <td>0.09</td>\n",
              "      <td>0.05</td>\n",
              "      <td>0.99</td>\n",
              "      <td>0.80</td>\n",
              "      <td>0.05</td>\n",
              "      <td>0.08</td>\n",
              "      <td>0.03</td>\n",
              "      <td>0.29</td>\n",
              "      <td>0.33</td>\n",
              "      <td>0.01</td>\n",
              "      <td>0.08</td>\n",
              "      <td>0.06</td>\n",
              "      <td>0.00</td>\n",
              "      <td>0.00</td>\n",
              "      <td>0.10</td>\n",
              "      <td>0.05</td>\n",
              "      <td>0.99</td>\n",
              "      <td>0.80</td>\n",
              "      <td>0.06</td>\n",
              "      <td>0.08</td>\n",
              "      <td>0.03</td>\n",
              "      <td>0.29</td>\n",
              "      <td>0.33</td>\n",
              "      <td>0.01</td>\n",
              "      <td>0.08</td>\n",
              "      <td>0.06</td>\n",
              "      <td>0.00</td>\n",
              "      <td>0.01</td>\n",
              "      <td>reg oper account</td>\n",
              "      <td>block of flats</td>\n",
              "      <td>0.07</td>\n",
              "      <td>Block</td>\n",
              "      <td>No</td>\n",
              "      <td>1.00</td>\n",
              "      <td>0.00</td>\n",
              "      <td>1.00</td>\n",
              "      <td>0.00</td>\n",
              "      <td>-828.00</td>\n",
              "      <td>0</td>\n",
              "      <td>1</td>\n",
              "      <td>0</td>\n",
              "      <td>0</td>\n",
              "      <td>0</td>\n",
              "      <td>0</td>\n",
              "      <td>0</td>\n",
              "      <td>0</td>\n",
              "      <td>0</td>\n",
              "      <td>0</td>\n",
              "      <td>0</td>\n",
              "      <td>0</td>\n",
              "      <td>0</td>\n",
              "      <td>0</td>\n",
              "      <td>0</td>\n",
              "      <td>0</td>\n",
              "      <td>0</td>\n",
              "      <td>0</td>\n",
              "      <td>0</td>\n",
              "      <td>0</td>\n",
              "      <td>0.00</td>\n",
              "      <td>0.00</td>\n",
              "      <td>0.00</td>\n",
              "      <td>0.00</td>\n",
              "      <td>0.00</td>\n",
              "      <td>0.00</td>\n",
              "    </tr>\n",
              "    <tr>\n",
              "      <th>2</th>\n",
              "      <td>100004</td>\n",
              "      <td>0</td>\n",
              "      <td>Revolving loans</td>\n",
              "      <td>M</td>\n",
              "      <td>Y</td>\n",
              "      <td>Y</td>\n",
              "      <td>0</td>\n",
              "      <td>67500.00</td>\n",
              "      <td>135000.00</td>\n",
              "      <td>6750.00</td>\n",
              "      <td>135000.00</td>\n",
              "      <td>Unaccompanied</td>\n",
              "      <td>Working</td>\n",
              "      <td>Secondary / secondary special</td>\n",
              "      <td>Single / not married</td>\n",
              "      <td>House / apartment</td>\n",
              "      <td>0.01</td>\n",
              "      <td>-19046</td>\n",
              "      <td>-225</td>\n",
              "      <td>-4260.00</td>\n",
              "      <td>-2531</td>\n",
              "      <td>26.00</td>\n",
              "      <td>1</td>\n",
              "      <td>1</td>\n",
              "      <td>1</td>\n",
              "      <td>1</td>\n",
              "      <td>1</td>\n",
              "      <td>0</td>\n",
              "      <td>Laborers</td>\n",
              "      <td>1.00</td>\n",
              "      <td>2</td>\n",
              "      <td>2</td>\n",
              "      <td>MONDAY</td>\n",
              "      <td>9</td>\n",
              "      <td>0</td>\n",
              "      <td>0</td>\n",
              "      <td>0</td>\n",
              "      <td>0</td>\n",
              "      <td>0</td>\n",
              "      <td>0</td>\n",
              "      <td>Government</td>\n",
              "      <td>NaN</td>\n",
              "      <td>0.56</td>\n",
              "      <td>0.73</td>\n",
              "      <td>NaN</td>\n",
              "      <td>NaN</td>\n",
              "      <td>NaN</td>\n",
              "      <td>NaN</td>\n",
              "      <td>NaN</td>\n",
              "      <td>NaN</td>\n",
              "      <td>NaN</td>\n",
              "      <td>NaN</td>\n",
              "      <td>NaN</td>\n",
              "      <td>NaN</td>\n",
              "      <td>NaN</td>\n",
              "      <td>NaN</td>\n",
              "      <td>NaN</td>\n",
              "      <td>NaN</td>\n",
              "      <td>NaN</td>\n",
              "      <td>NaN</td>\n",
              "      <td>NaN</td>\n",
              "      <td>NaN</td>\n",
              "      <td>NaN</td>\n",
              "      <td>NaN</td>\n",
              "      <td>NaN</td>\n",
              "      <td>NaN</td>\n",
              "      <td>NaN</td>\n",
              "      <td>NaN</td>\n",
              "      <td>NaN</td>\n",
              "      <td>NaN</td>\n",
              "      <td>NaN</td>\n",
              "      <td>NaN</td>\n",
              "      <td>NaN</td>\n",
              "      <td>NaN</td>\n",
              "      <td>NaN</td>\n",
              "      <td>NaN</td>\n",
              "      <td>NaN</td>\n",
              "      <td>NaN</td>\n",
              "      <td>NaN</td>\n",
              "      <td>NaN</td>\n",
              "      <td>NaN</td>\n",
              "      <td>NaN</td>\n",
              "      <td>NaN</td>\n",
              "      <td>NaN</td>\n",
              "      <td>NaN</td>\n",
              "      <td>NaN</td>\n",
              "      <td>NaN</td>\n",
              "      <td>NaN</td>\n",
              "      <td>NaN</td>\n",
              "      <td>NaN</td>\n",
              "      <td>NaN</td>\n",
              "      <td>0.00</td>\n",
              "      <td>0.00</td>\n",
              "      <td>0.00</td>\n",
              "      <td>0.00</td>\n",
              "      <td>-815.00</td>\n",
              "      <td>0</td>\n",
              "      <td>0</td>\n",
              "      <td>0</td>\n",
              "      <td>0</td>\n",
              "      <td>0</td>\n",
              "      <td>0</td>\n",
              "      <td>0</td>\n",
              "      <td>0</td>\n",
              "      <td>0</td>\n",
              "      <td>0</td>\n",
              "      <td>0</td>\n",
              "      <td>0</td>\n",
              "      <td>0</td>\n",
              "      <td>0</td>\n",
              "      <td>0</td>\n",
              "      <td>0</td>\n",
              "      <td>0</td>\n",
              "      <td>0</td>\n",
              "      <td>0</td>\n",
              "      <td>0</td>\n",
              "      <td>0.00</td>\n",
              "      <td>0.00</td>\n",
              "      <td>0.00</td>\n",
              "      <td>0.00</td>\n",
              "      <td>0.00</td>\n",
              "      <td>0.00</td>\n",
              "    </tr>\n",
              "    <tr>\n",
              "      <th>3</th>\n",
              "      <td>100006</td>\n",
              "      <td>0</td>\n",
              "      <td>Cash loans</td>\n",
              "      <td>F</td>\n",
              "      <td>N</td>\n",
              "      <td>Y</td>\n",
              "      <td>0</td>\n",
              "      <td>135000.00</td>\n",
              "      <td>312682.50</td>\n",
              "      <td>29686.50</td>\n",
              "      <td>297000.00</td>\n",
              "      <td>Unaccompanied</td>\n",
              "      <td>Working</td>\n",
              "      <td>Secondary / secondary special</td>\n",
              "      <td>Civil marriage</td>\n",
              "      <td>House / apartment</td>\n",
              "      <td>0.01</td>\n",
              "      <td>-19005</td>\n",
              "      <td>-3039</td>\n",
              "      <td>-9833.00</td>\n",
              "      <td>-2437</td>\n",
              "      <td>NaN</td>\n",
              "      <td>1</td>\n",
              "      <td>1</td>\n",
              "      <td>0</td>\n",
              "      <td>1</td>\n",
              "      <td>0</td>\n",
              "      <td>0</td>\n",
              "      <td>Laborers</td>\n",
              "      <td>2.00</td>\n",
              "      <td>2</td>\n",
              "      <td>2</td>\n",
              "      <td>WEDNESDAY</td>\n",
              "      <td>17</td>\n",
              "      <td>0</td>\n",
              "      <td>0</td>\n",
              "      <td>0</td>\n",
              "      <td>0</td>\n",
              "      <td>0</td>\n",
              "      <td>0</td>\n",
              "      <td>Business Entity Type 3</td>\n",
              "      <td>NaN</td>\n",
              "      <td>0.65</td>\n",
              "      <td>NaN</td>\n",
              "      <td>NaN</td>\n",
              "      <td>NaN</td>\n",
              "      <td>NaN</td>\n",
              "      <td>NaN</td>\n",
              "      <td>NaN</td>\n",
              "      <td>NaN</td>\n",
              "      <td>NaN</td>\n",
              "      <td>NaN</td>\n",
              "      <td>NaN</td>\n",
              "      <td>NaN</td>\n",
              "      <td>NaN</td>\n",
              "      <td>NaN</td>\n",
              "      <td>NaN</td>\n",
              "      <td>NaN</td>\n",
              "      <td>NaN</td>\n",
              "      <td>NaN</td>\n",
              "      <td>NaN</td>\n",
              "      <td>NaN</td>\n",
              "      <td>NaN</td>\n",
              "      <td>NaN</td>\n",
              "      <td>NaN</td>\n",
              "      <td>NaN</td>\n",
              "      <td>NaN</td>\n",
              "      <td>NaN</td>\n",
              "      <td>NaN</td>\n",
              "      <td>NaN</td>\n",
              "      <td>NaN</td>\n",
              "      <td>NaN</td>\n",
              "      <td>NaN</td>\n",
              "      <td>NaN</td>\n",
              "      <td>NaN</td>\n",
              "      <td>NaN</td>\n",
              "      <td>NaN</td>\n",
              "      <td>NaN</td>\n",
              "      <td>NaN</td>\n",
              "      <td>NaN</td>\n",
              "      <td>NaN</td>\n",
              "      <td>NaN</td>\n",
              "      <td>NaN</td>\n",
              "      <td>NaN</td>\n",
              "      <td>NaN</td>\n",
              "      <td>NaN</td>\n",
              "      <td>NaN</td>\n",
              "      <td>NaN</td>\n",
              "      <td>NaN</td>\n",
              "      <td>NaN</td>\n",
              "      <td>NaN</td>\n",
              "      <td>2.00</td>\n",
              "      <td>0.00</td>\n",
              "      <td>2.00</td>\n",
              "      <td>0.00</td>\n",
              "      <td>-617.00</td>\n",
              "      <td>0</td>\n",
              "      <td>1</td>\n",
              "      <td>0</td>\n",
              "      <td>0</td>\n",
              "      <td>0</td>\n",
              "      <td>0</td>\n",
              "      <td>0</td>\n",
              "      <td>0</td>\n",
              "      <td>0</td>\n",
              "      <td>0</td>\n",
              "      <td>0</td>\n",
              "      <td>0</td>\n",
              "      <td>0</td>\n",
              "      <td>0</td>\n",
              "      <td>0</td>\n",
              "      <td>0</td>\n",
              "      <td>0</td>\n",
              "      <td>0</td>\n",
              "      <td>0</td>\n",
              "      <td>0</td>\n",
              "      <td>NaN</td>\n",
              "      <td>NaN</td>\n",
              "      <td>NaN</td>\n",
              "      <td>NaN</td>\n",
              "      <td>NaN</td>\n",
              "      <td>NaN</td>\n",
              "    </tr>\n",
              "    <tr>\n",
              "      <th>4</th>\n",
              "      <td>100007</td>\n",
              "      <td>0</td>\n",
              "      <td>Cash loans</td>\n",
              "      <td>M</td>\n",
              "      <td>N</td>\n",
              "      <td>Y</td>\n",
              "      <td>0</td>\n",
              "      <td>121500.00</td>\n",
              "      <td>513000.00</td>\n",
              "      <td>21865.50</td>\n",
              "      <td>513000.00</td>\n",
              "      <td>Unaccompanied</td>\n",
              "      <td>Working</td>\n",
              "      <td>Secondary / secondary special</td>\n",
              "      <td>Single / not married</td>\n",
              "      <td>House / apartment</td>\n",
              "      <td>0.03</td>\n",
              "      <td>-19932</td>\n",
              "      <td>-3038</td>\n",
              "      <td>-4311.00</td>\n",
              "      <td>-3458</td>\n",
              "      <td>NaN</td>\n",
              "      <td>1</td>\n",
              "      <td>1</td>\n",
              "      <td>0</td>\n",
              "      <td>1</td>\n",
              "      <td>0</td>\n",
              "      <td>0</td>\n",
              "      <td>Core staff</td>\n",
              "      <td>1.00</td>\n",
              "      <td>2</td>\n",
              "      <td>2</td>\n",
              "      <td>THURSDAY</td>\n",
              "      <td>11</td>\n",
              "      <td>0</td>\n",
              "      <td>0</td>\n",
              "      <td>0</td>\n",
              "      <td>0</td>\n",
              "      <td>1</td>\n",
              "      <td>1</td>\n",
              "      <td>Religion</td>\n",
              "      <td>NaN</td>\n",
              "      <td>0.32</td>\n",
              "      <td>NaN</td>\n",
              "      <td>NaN</td>\n",
              "      <td>NaN</td>\n",
              "      <td>NaN</td>\n",
              "      <td>NaN</td>\n",
              "      <td>NaN</td>\n",
              "      <td>NaN</td>\n",
              "      <td>NaN</td>\n",
              "      <td>NaN</td>\n",
              "      <td>NaN</td>\n",
              "      <td>NaN</td>\n",
              "      <td>NaN</td>\n",
              "      <td>NaN</td>\n",
              "      <td>NaN</td>\n",
              "      <td>NaN</td>\n",
              "      <td>NaN</td>\n",
              "      <td>NaN</td>\n",
              "      <td>NaN</td>\n",
              "      <td>NaN</td>\n",
              "      <td>NaN</td>\n",
              "      <td>NaN</td>\n",
              "      <td>NaN</td>\n",
              "      <td>NaN</td>\n",
              "      <td>NaN</td>\n",
              "      <td>NaN</td>\n",
              "      <td>NaN</td>\n",
              "      <td>NaN</td>\n",
              "      <td>NaN</td>\n",
              "      <td>NaN</td>\n",
              "      <td>NaN</td>\n",
              "      <td>NaN</td>\n",
              "      <td>NaN</td>\n",
              "      <td>NaN</td>\n",
              "      <td>NaN</td>\n",
              "      <td>NaN</td>\n",
              "      <td>NaN</td>\n",
              "      <td>NaN</td>\n",
              "      <td>NaN</td>\n",
              "      <td>NaN</td>\n",
              "      <td>NaN</td>\n",
              "      <td>NaN</td>\n",
              "      <td>NaN</td>\n",
              "      <td>NaN</td>\n",
              "      <td>NaN</td>\n",
              "      <td>NaN</td>\n",
              "      <td>NaN</td>\n",
              "      <td>NaN</td>\n",
              "      <td>NaN</td>\n",
              "      <td>0.00</td>\n",
              "      <td>0.00</td>\n",
              "      <td>0.00</td>\n",
              "      <td>0.00</td>\n",
              "      <td>-1106.00</td>\n",
              "      <td>0</td>\n",
              "      <td>0</td>\n",
              "      <td>0</td>\n",
              "      <td>0</td>\n",
              "      <td>0</td>\n",
              "      <td>0</td>\n",
              "      <td>1</td>\n",
              "      <td>0</td>\n",
              "      <td>0</td>\n",
              "      <td>0</td>\n",
              "      <td>0</td>\n",
              "      <td>0</td>\n",
              "      <td>0</td>\n",
              "      <td>0</td>\n",
              "      <td>0</td>\n",
              "      <td>0</td>\n",
              "      <td>0</td>\n",
              "      <td>0</td>\n",
              "      <td>0</td>\n",
              "      <td>0</td>\n",
              "      <td>0.00</td>\n",
              "      <td>0.00</td>\n",
              "      <td>0.00</td>\n",
              "      <td>0.00</td>\n",
              "      <td>0.00</td>\n",
              "      <td>0.00</td>\n",
              "    </tr>\n",
              "  </tbody>\n",
              "</table>\n",
              "</div>"
            ],
            "text/plain": [
              "   SK_ID_CURR  TARGET NAME_CONTRACT_TYPE CODE_GENDER FLAG_OWN_CAR  \\\n",
              "0      100002       1         Cash loans           M            N   \n",
              "1      100003       0         Cash loans           F            N   \n",
              "2      100004       0    Revolving loans           M            Y   \n",
              "3      100006       0         Cash loans           F            N   \n",
              "4      100007       0         Cash loans           M            N   \n",
              "\n",
              "  FLAG_OWN_REALTY  CNT_CHILDREN  AMT_INCOME_TOTAL  AMT_CREDIT  AMT_ANNUITY  \\\n",
              "0               Y             0         202500.00   406597.50     24700.50   \n",
              "1               N             0         270000.00  1293502.50     35698.50   \n",
              "2               Y             0          67500.00   135000.00      6750.00   \n",
              "3               Y             0         135000.00   312682.50     29686.50   \n",
              "4               Y             0         121500.00   513000.00     21865.50   \n",
              "\n",
              "   AMT_GOODS_PRICE NAME_TYPE_SUITE NAME_INCOME_TYPE  \\\n",
              "0        351000.00   Unaccompanied          Working   \n",
              "1       1129500.00          Family    State servant   \n",
              "2        135000.00   Unaccompanied          Working   \n",
              "3        297000.00   Unaccompanied          Working   \n",
              "4        513000.00   Unaccompanied          Working   \n",
              "\n",
              "             NAME_EDUCATION_TYPE    NAME_FAMILY_STATUS  NAME_HOUSING_TYPE  \\\n",
              "0  Secondary / secondary special  Single / not married  House / apartment   \n",
              "1               Higher education               Married  House / apartment   \n",
              "2  Secondary / secondary special  Single / not married  House / apartment   \n",
              "3  Secondary / secondary special        Civil marriage  House / apartment   \n",
              "4  Secondary / secondary special  Single / not married  House / apartment   \n",
              "\n",
              "   REGION_POPULATION_RELATIVE  DAYS_BIRTH  DAYS_EMPLOYED  DAYS_REGISTRATION  \\\n",
              "0                        0.02       -9461           -637           -3648.00   \n",
              "1                        0.00      -16765          -1188           -1186.00   \n",
              "2                        0.01      -19046           -225           -4260.00   \n",
              "3                        0.01      -19005          -3039           -9833.00   \n",
              "4                        0.03      -19932          -3038           -4311.00   \n",
              "\n",
              "   DAYS_ID_PUBLISH  OWN_CAR_AGE  FLAG_MOBIL  FLAG_EMP_PHONE  FLAG_WORK_PHONE  \\\n",
              "0            -2120          NaN           1               1                0   \n",
              "1             -291          NaN           1               1                0   \n",
              "2            -2531        26.00           1               1                1   \n",
              "3            -2437          NaN           1               1                0   \n",
              "4            -3458          NaN           1               1                0   \n",
              "\n",
              "   FLAG_CONT_MOBILE  FLAG_PHONE  FLAG_EMAIL OCCUPATION_TYPE  CNT_FAM_MEMBERS  \\\n",
              "0                 1           1           0        Laborers             1.00   \n",
              "1                 1           1           0      Core staff             2.00   \n",
              "2                 1           1           0        Laborers             1.00   \n",
              "3                 1           0           0        Laborers             2.00   \n",
              "4                 1           0           0      Core staff             1.00   \n",
              "\n",
              "   REGION_RATING_CLIENT  REGION_RATING_CLIENT_W_CITY  \\\n",
              "0                     2                            2   \n",
              "1                     1                            1   \n",
              "2                     2                            2   \n",
              "3                     2                            2   \n",
              "4                     2                            2   \n",
              "\n",
              "  WEEKDAY_APPR_PROCESS_START  HOUR_APPR_PROCESS_START  \\\n",
              "0                  WEDNESDAY                       10   \n",
              "1                     MONDAY                       11   \n",
              "2                     MONDAY                        9   \n",
              "3                  WEDNESDAY                       17   \n",
              "4                   THURSDAY                       11   \n",
              "\n",
              "   REG_REGION_NOT_LIVE_REGION  REG_REGION_NOT_WORK_REGION  \\\n",
              "0                           0                           0   \n",
              "1                           0                           0   \n",
              "2                           0                           0   \n",
              "3                           0                           0   \n",
              "4                           0                           0   \n",
              "\n",
              "   LIVE_REGION_NOT_WORK_REGION  REG_CITY_NOT_LIVE_CITY  \\\n",
              "0                            0                       0   \n",
              "1                            0                       0   \n",
              "2                            0                       0   \n",
              "3                            0                       0   \n",
              "4                            0                       0   \n",
              "\n",
              "   REG_CITY_NOT_WORK_CITY  LIVE_CITY_NOT_WORK_CITY       ORGANIZATION_TYPE  \\\n",
              "0                       0                        0  Business Entity Type 3   \n",
              "1                       0                        0                  School   \n",
              "2                       0                        0              Government   \n",
              "3                       0                        0  Business Entity Type 3   \n",
              "4                       1                        1                Religion   \n",
              "\n",
              "   EXT_SOURCE_1  EXT_SOURCE_2  EXT_SOURCE_3  APARTMENTS_AVG  BASEMENTAREA_AVG  \\\n",
              "0          0.08          0.26          0.14            0.02              0.04   \n",
              "1          0.31          0.62           NaN            0.10              0.05   \n",
              "2           NaN          0.56          0.73             NaN               NaN   \n",
              "3           NaN          0.65           NaN             NaN               NaN   \n",
              "4           NaN          0.32           NaN             NaN               NaN   \n",
              "\n",
              "   YEARS_BEGINEXPLUATATION_AVG  YEARS_BUILD_AVG  COMMONAREA_AVG  \\\n",
              "0                         0.97             0.62            0.01   \n",
              "1                         0.99             0.80            0.06   \n",
              "2                          NaN              NaN             NaN   \n",
              "3                          NaN              NaN             NaN   \n",
              "4                          NaN              NaN             NaN   \n",
              "\n",
              "   ELEVATORS_AVG  ENTRANCES_AVG  FLOORSMAX_AVG  FLOORSMIN_AVG  LANDAREA_AVG  \\\n",
              "0           0.00           0.07           0.08           0.12          0.04   \n",
              "1           0.08           0.03           0.29           0.33          0.01   \n",
              "2            NaN            NaN            NaN            NaN           NaN   \n",
              "3            NaN            NaN            NaN            NaN           NaN   \n",
              "4            NaN            NaN            NaN            NaN           NaN   \n",
              "\n",
              "   LIVINGAPARTMENTS_AVG  LIVINGAREA_AVG  NONLIVINGAPARTMENTS_AVG  \\\n",
              "0                  0.02            0.02                     0.00   \n",
              "1                  0.08            0.05                     0.00   \n",
              "2                   NaN             NaN                      NaN   \n",
              "3                   NaN             NaN                      NaN   \n",
              "4                   NaN             NaN                      NaN   \n",
              "\n",
              "   NONLIVINGAREA_AVG  APARTMENTS_MODE  BASEMENTAREA_MODE  \\\n",
              "0               0.00             0.03               0.04   \n",
              "1               0.01             0.09               0.05   \n",
              "2                NaN              NaN                NaN   \n",
              "3                NaN              NaN                NaN   \n",
              "4                NaN              NaN                NaN   \n",
              "\n",
              "   YEARS_BEGINEXPLUATATION_MODE  YEARS_BUILD_MODE  COMMONAREA_MODE  \\\n",
              "0                          0.97              0.63             0.01   \n",
              "1                          0.99              0.80             0.05   \n",
              "2                           NaN               NaN              NaN   \n",
              "3                           NaN               NaN              NaN   \n",
              "4                           NaN               NaN              NaN   \n",
              "\n",
              "   ELEVATORS_MODE  ENTRANCES_MODE  FLOORSMAX_MODE  FLOORSMIN_MODE  \\\n",
              "0            0.00            0.07            0.08            0.12   \n",
              "1            0.08            0.03            0.29            0.33   \n",
              "2             NaN             NaN             NaN             NaN   \n",
              "3             NaN             NaN             NaN             NaN   \n",
              "4             NaN             NaN             NaN             NaN   \n",
              "\n",
              "   LANDAREA_MODE  LIVINGAPARTMENTS_MODE  LIVINGAREA_MODE  \\\n",
              "0           0.04                   0.02             0.02   \n",
              "1           0.01                   0.08             0.06   \n",
              "2            NaN                    NaN              NaN   \n",
              "3            NaN                    NaN              NaN   \n",
              "4            NaN                    NaN              NaN   \n",
              "\n",
              "   NONLIVINGAPARTMENTS_MODE  NONLIVINGAREA_MODE  APARTMENTS_MEDI  \\\n",
              "0                      0.00                0.00             0.03   \n",
              "1                      0.00                0.00             0.10   \n",
              "2                       NaN                 NaN              NaN   \n",
              "3                       NaN                 NaN              NaN   \n",
              "4                       NaN                 NaN              NaN   \n",
              "\n",
              "   BASEMENTAREA_MEDI  YEARS_BEGINEXPLUATATION_MEDI  YEARS_BUILD_MEDI  \\\n",
              "0               0.04                          0.97              0.62   \n",
              "1               0.05                          0.99              0.80   \n",
              "2                NaN                           NaN               NaN   \n",
              "3                NaN                           NaN               NaN   \n",
              "4                NaN                           NaN               NaN   \n",
              "\n",
              "   COMMONAREA_MEDI  ELEVATORS_MEDI  ENTRANCES_MEDI  FLOORSMAX_MEDI  \\\n",
              "0             0.01            0.00            0.07            0.08   \n",
              "1             0.06            0.08            0.03            0.29   \n",
              "2              NaN             NaN             NaN             NaN   \n",
              "3              NaN             NaN             NaN             NaN   \n",
              "4              NaN             NaN             NaN             NaN   \n",
              "\n",
              "   FLOORSMIN_MEDI  LANDAREA_MEDI  LIVINGAPARTMENTS_MEDI  LIVINGAREA_MEDI  \\\n",
              "0            0.12           0.04                   0.02             0.02   \n",
              "1            0.33           0.01                   0.08             0.06   \n",
              "2             NaN            NaN                    NaN              NaN   \n",
              "3             NaN            NaN                    NaN              NaN   \n",
              "4             NaN            NaN                    NaN              NaN   \n",
              "\n",
              "   NONLIVINGAPARTMENTS_MEDI  NONLIVINGAREA_MEDI FONDKAPREMONT_MODE  \\\n",
              "0                      0.00                0.00   reg oper account   \n",
              "1                      0.00                0.01   reg oper account   \n",
              "2                       NaN                 NaN                NaN   \n",
              "3                       NaN                 NaN                NaN   \n",
              "4                       NaN                 NaN                NaN   \n",
              "\n",
              "   HOUSETYPE_MODE  TOTALAREA_MODE WALLSMATERIAL_MODE EMERGENCYSTATE_MODE  \\\n",
              "0  block of flats            0.01       Stone, brick                  No   \n",
              "1  block of flats            0.07              Block                  No   \n",
              "2             NaN             NaN                NaN                 NaN   \n",
              "3             NaN             NaN                NaN                 NaN   \n",
              "4             NaN             NaN                NaN                 NaN   \n",
              "\n",
              "   OBS_30_CNT_SOCIAL_CIRCLE  DEF_30_CNT_SOCIAL_CIRCLE  \\\n",
              "0                      2.00                      2.00   \n",
              "1                      1.00                      0.00   \n",
              "2                      0.00                      0.00   \n",
              "3                      2.00                      0.00   \n",
              "4                      0.00                      0.00   \n",
              "\n",
              "   OBS_60_CNT_SOCIAL_CIRCLE  DEF_60_CNT_SOCIAL_CIRCLE  DAYS_LAST_PHONE_CHANGE  \\\n",
              "0                      2.00                      2.00                -1134.00   \n",
              "1                      1.00                      0.00                 -828.00   \n",
              "2                      0.00                      0.00                 -815.00   \n",
              "3                      2.00                      0.00                 -617.00   \n",
              "4                      0.00                      0.00                -1106.00   \n",
              "\n",
              "   FLAG_DOCUMENT_2  FLAG_DOCUMENT_3  FLAG_DOCUMENT_4  FLAG_DOCUMENT_5  \\\n",
              "0                0                1                0                0   \n",
              "1                0                1                0                0   \n",
              "2                0                0                0                0   \n",
              "3                0                1                0                0   \n",
              "4                0                0                0                0   \n",
              "\n",
              "   FLAG_DOCUMENT_6  FLAG_DOCUMENT_7  FLAG_DOCUMENT_8  FLAG_DOCUMENT_9  \\\n",
              "0                0                0                0                0   \n",
              "1                0                0                0                0   \n",
              "2                0                0                0                0   \n",
              "3                0                0                0                0   \n",
              "4                0                0                1                0   \n",
              "\n",
              "   FLAG_DOCUMENT_10  FLAG_DOCUMENT_11  FLAG_DOCUMENT_12  FLAG_DOCUMENT_13  \\\n",
              "0                 0                 0                 0                 0   \n",
              "1                 0                 0                 0                 0   \n",
              "2                 0                 0                 0                 0   \n",
              "3                 0                 0                 0                 0   \n",
              "4                 0                 0                 0                 0   \n",
              "\n",
              "   FLAG_DOCUMENT_14  FLAG_DOCUMENT_15  FLAG_DOCUMENT_16  FLAG_DOCUMENT_17  \\\n",
              "0                 0                 0                 0                 0   \n",
              "1                 0                 0                 0                 0   \n",
              "2                 0                 0                 0                 0   \n",
              "3                 0                 0                 0                 0   \n",
              "4                 0                 0                 0                 0   \n",
              "\n",
              "   FLAG_DOCUMENT_18  FLAG_DOCUMENT_19  FLAG_DOCUMENT_20  FLAG_DOCUMENT_21  \\\n",
              "0                 0                 0                 0                 0   \n",
              "1                 0                 0                 0                 0   \n",
              "2                 0                 0                 0                 0   \n",
              "3                 0                 0                 0                 0   \n",
              "4                 0                 0                 0                 0   \n",
              "\n",
              "   AMT_REQ_CREDIT_BUREAU_HOUR  AMT_REQ_CREDIT_BUREAU_DAY  \\\n",
              "0                        0.00                       0.00   \n",
              "1                        0.00                       0.00   \n",
              "2                        0.00                       0.00   \n",
              "3                         NaN                        NaN   \n",
              "4                        0.00                       0.00   \n",
              "\n",
              "   AMT_REQ_CREDIT_BUREAU_WEEK  AMT_REQ_CREDIT_BUREAU_MON  \\\n",
              "0                        0.00                       0.00   \n",
              "1                        0.00                       0.00   \n",
              "2                        0.00                       0.00   \n",
              "3                         NaN                        NaN   \n",
              "4                        0.00                       0.00   \n",
              "\n",
              "   AMT_REQ_CREDIT_BUREAU_QRT  AMT_REQ_CREDIT_BUREAU_YEAR  \n",
              "0                       0.00                        1.00  \n",
              "1                       0.00                        0.00  \n",
              "2                       0.00                        0.00  \n",
              "3                        NaN                         NaN  \n",
              "4                       0.00                        0.00  "
            ]
          },
          "execution_count": 5,
          "metadata": {},
          "output_type": "execute_result"
        }
      ],
      "source": [
        "# Огляд декількох записів з датафрейму\n",
        "df.head()"
      ]
    },
    {
      "cell_type": "markdown",
      "metadata": {
        "id": "JOoyJ7GeJHO2"
      },
      "source": [
        "# Перевірка структури даних"
      ]
    },
    {
      "cell_type": "code",
      "execution_count": 6,
      "metadata": {
        "colab": {
          "base_uri": "https://localhost:8080/"
        },
        "execution": {
          "iopub.execute_input": "2021-07-13T08:25:20.238974Z",
          "iopub.status.busy": "2021-07-13T08:25:20.238598Z",
          "iopub.status.idle": "2021-07-13T08:25:20.744842Z",
          "shell.execute_reply": "2021-07-13T08:25:20.743944Z",
          "shell.execute_reply.started": "2021-07-13T08:25:20.238946Z"
        },
        "id": "cGp-gCtuJHO3",
        "outputId": "0db13a6a-fcff-4faf-b874-dcf6a0aa6b42",
        "trusted": true
      },
      "outputs": [
        {
          "name": "stdout",
          "output_type": "stream",
          "text": [
            "<class 'pandas.core.frame.DataFrame'>\n",
            "RangeIndex: 307511 entries, 0 to 307510\n",
            "Data columns (total 122 columns):\n",
            " #    Column                        Non-Null Count   Dtype  \n",
            "---   ------                        --------------   -----  \n",
            " 0    SK_ID_CURR                    307511 non-null  int64  \n",
            " 1    TARGET                        307511 non-null  int64  \n",
            " 2    NAME_CONTRACT_TYPE            307511 non-null  object \n",
            " 3    CODE_GENDER                   307511 non-null  object \n",
            " 4    FLAG_OWN_CAR                  307511 non-null  object \n",
            " 5    FLAG_OWN_REALTY               307511 non-null  object \n",
            " 6    CNT_CHILDREN                  307511 non-null  int64  \n",
            " 7    AMT_INCOME_TOTAL              307511 non-null  float64\n",
            " 8    AMT_CREDIT                    307511 non-null  float64\n",
            " 9    AMT_ANNUITY                   307499 non-null  float64\n",
            " 10   AMT_GOODS_PRICE               307233 non-null  float64\n",
            " 11   NAME_TYPE_SUITE               306219 non-null  object \n",
            " 12   NAME_INCOME_TYPE              307511 non-null  object \n",
            " 13   NAME_EDUCATION_TYPE           307511 non-null  object \n",
            " 14   NAME_FAMILY_STATUS            307511 non-null  object \n",
            " 15   NAME_HOUSING_TYPE             307511 non-null  object \n",
            " 16   REGION_POPULATION_RELATIVE    307511 non-null  float64\n",
            " 17   DAYS_BIRTH                    307511 non-null  int64  \n",
            " 18   DAYS_EMPLOYED                 307511 non-null  int64  \n",
            " 19   DAYS_REGISTRATION             307511 non-null  float64\n",
            " 20   DAYS_ID_PUBLISH               307511 non-null  int64  \n",
            " 21   OWN_CAR_AGE                   104582 non-null  float64\n",
            " 22   FLAG_MOBIL                    307511 non-null  int64  \n",
            " 23   FLAG_EMP_PHONE                307511 non-null  int64  \n",
            " 24   FLAG_WORK_PHONE               307511 non-null  int64  \n",
            " 25   FLAG_CONT_MOBILE              307511 non-null  int64  \n",
            " 26   FLAG_PHONE                    307511 non-null  int64  \n",
            " 27   FLAG_EMAIL                    307511 non-null  int64  \n",
            " 28   OCCUPATION_TYPE               211120 non-null  object \n",
            " 29   CNT_FAM_MEMBERS               307509 non-null  float64\n",
            " 30   REGION_RATING_CLIENT          307511 non-null  int64  \n",
            " 31   REGION_RATING_CLIENT_W_CITY   307511 non-null  int64  \n",
            " 32   WEEKDAY_APPR_PROCESS_START    307511 non-null  object \n",
            " 33   HOUR_APPR_PROCESS_START       307511 non-null  int64  \n",
            " 34   REG_REGION_NOT_LIVE_REGION    307511 non-null  int64  \n",
            " 35   REG_REGION_NOT_WORK_REGION    307511 non-null  int64  \n",
            " 36   LIVE_REGION_NOT_WORK_REGION   307511 non-null  int64  \n",
            " 37   REG_CITY_NOT_LIVE_CITY        307511 non-null  int64  \n",
            " 38   REG_CITY_NOT_WORK_CITY        307511 non-null  int64  \n",
            " 39   LIVE_CITY_NOT_WORK_CITY       307511 non-null  int64  \n",
            " 40   ORGANIZATION_TYPE             307511 non-null  object \n",
            " 41   EXT_SOURCE_1                  134133 non-null  float64\n",
            " 42   EXT_SOURCE_2                  306851 non-null  float64\n",
            " 43   EXT_SOURCE_3                  246546 non-null  float64\n",
            " 44   APARTMENTS_AVG                151450 non-null  float64\n",
            " 45   BASEMENTAREA_AVG              127568 non-null  float64\n",
            " 46   YEARS_BEGINEXPLUATATION_AVG   157504 non-null  float64\n",
            " 47   YEARS_BUILD_AVG               103023 non-null  float64\n",
            " 48   COMMONAREA_AVG                92646 non-null   float64\n",
            " 49   ELEVATORS_AVG                 143620 non-null  float64\n",
            " 50   ENTRANCES_AVG                 152683 non-null  float64\n",
            " 51   FLOORSMAX_AVG                 154491 non-null  float64\n",
            " 52   FLOORSMIN_AVG                 98869 non-null   float64\n",
            " 53   LANDAREA_AVG                  124921 non-null  float64\n",
            " 54   LIVINGAPARTMENTS_AVG          97312 non-null   float64\n",
            " 55   LIVINGAREA_AVG                153161 non-null  float64\n",
            " 56   NONLIVINGAPARTMENTS_AVG       93997 non-null   float64\n",
            " 57   NONLIVINGAREA_AVG             137829 non-null  float64\n",
            " 58   APARTMENTS_MODE               151450 non-null  float64\n",
            " 59   BASEMENTAREA_MODE             127568 non-null  float64\n",
            " 60   YEARS_BEGINEXPLUATATION_MODE  157504 non-null  float64\n",
            " 61   YEARS_BUILD_MODE              103023 non-null  float64\n",
            " 62   COMMONAREA_MODE               92646 non-null   float64\n",
            " 63   ELEVATORS_MODE                143620 non-null  float64\n",
            " 64   ENTRANCES_MODE                152683 non-null  float64\n",
            " 65   FLOORSMAX_MODE                154491 non-null  float64\n",
            " 66   FLOORSMIN_MODE                98869 non-null   float64\n",
            " 67   LANDAREA_MODE                 124921 non-null  float64\n",
            " 68   LIVINGAPARTMENTS_MODE         97312 non-null   float64\n",
            " 69   LIVINGAREA_MODE               153161 non-null  float64\n",
            " 70   NONLIVINGAPARTMENTS_MODE      93997 non-null   float64\n",
            " 71   NONLIVINGAREA_MODE            137829 non-null  float64\n",
            " 72   APARTMENTS_MEDI               151450 non-null  float64\n",
            " 73   BASEMENTAREA_MEDI             127568 non-null  float64\n",
            " 74   YEARS_BEGINEXPLUATATION_MEDI  157504 non-null  float64\n",
            " 75   YEARS_BUILD_MEDI              103023 non-null  float64\n",
            " 76   COMMONAREA_MEDI               92646 non-null   float64\n",
            " 77   ELEVATORS_MEDI                143620 non-null  float64\n",
            " 78   ENTRANCES_MEDI                152683 non-null  float64\n",
            " 79   FLOORSMAX_MEDI                154491 non-null  float64\n",
            " 80   FLOORSMIN_MEDI                98869 non-null   float64\n",
            " 81   LANDAREA_MEDI                 124921 non-null  float64\n",
            " 82   LIVINGAPARTMENTS_MEDI         97312 non-null   float64\n",
            " 83   LIVINGAREA_MEDI               153161 non-null  float64\n",
            " 84   NONLIVINGAPARTMENTS_MEDI      93997 non-null   float64\n",
            " 85   NONLIVINGAREA_MEDI            137829 non-null  float64\n",
            " 86   FONDKAPREMONT_MODE            97216 non-null   object \n",
            " 87   HOUSETYPE_MODE                153214 non-null  object \n",
            " 88   TOTALAREA_MODE                159080 non-null  float64\n",
            " 89   WALLSMATERIAL_MODE            151170 non-null  object \n",
            " 90   EMERGENCYSTATE_MODE           161756 non-null  object \n",
            " 91   OBS_30_CNT_SOCIAL_CIRCLE      306490 non-null  float64\n",
            " 92   DEF_30_CNT_SOCIAL_CIRCLE      306490 non-null  float64\n",
            " 93   OBS_60_CNT_SOCIAL_CIRCLE      306490 non-null  float64\n",
            " 94   DEF_60_CNT_SOCIAL_CIRCLE      306490 non-null  float64\n",
            " 95   DAYS_LAST_PHONE_CHANGE        307510 non-null  float64\n",
            " 96   FLAG_DOCUMENT_2               307511 non-null  int64  \n",
            " 97   FLAG_DOCUMENT_3               307511 non-null  int64  \n",
            " 98   FLAG_DOCUMENT_4               307511 non-null  int64  \n",
            " 99   FLAG_DOCUMENT_5               307511 non-null  int64  \n",
            " 100  FLAG_DOCUMENT_6               307511 non-null  int64  \n",
            " 101  FLAG_DOCUMENT_7               307511 non-null  int64  \n",
            " 102  FLAG_DOCUMENT_8               307511 non-null  int64  \n",
            " 103  FLAG_DOCUMENT_9               307511 non-null  int64  \n",
            " 104  FLAG_DOCUMENT_10              307511 non-null  int64  \n",
            " 105  FLAG_DOCUMENT_11              307511 non-null  int64  \n",
            " 106  FLAG_DOCUMENT_12              307511 non-null  int64  \n",
            " 107  FLAG_DOCUMENT_13              307511 non-null  int64  \n",
            " 108  FLAG_DOCUMENT_14              307511 non-null  int64  \n",
            " 109  FLAG_DOCUMENT_15              307511 non-null  int64  \n",
            " 110  FLAG_DOCUMENT_16              307511 non-null  int64  \n",
            " 111  FLAG_DOCUMENT_17              307511 non-null  int64  \n",
            " 112  FLAG_DOCUMENT_18              307511 non-null  int64  \n",
            " 113  FLAG_DOCUMENT_19              307511 non-null  int64  \n",
            " 114  FLAG_DOCUMENT_20              307511 non-null  int64  \n",
            " 115  FLAG_DOCUMENT_21              307511 non-null  int64  \n",
            " 116  AMT_REQ_CREDIT_BUREAU_HOUR    265992 non-null  float64\n",
            " 117  AMT_REQ_CREDIT_BUREAU_DAY     265992 non-null  float64\n",
            " 118  AMT_REQ_CREDIT_BUREAU_WEEK    265992 non-null  float64\n",
            " 119  AMT_REQ_CREDIT_BUREAU_MON     265992 non-null  float64\n",
            " 120  AMT_REQ_CREDIT_BUREAU_QRT     265992 non-null  float64\n",
            " 121  AMT_REQ_CREDIT_BUREAU_YEAR    265992 non-null  float64\n",
            "dtypes: float64(65), int64(41), object(16)\n",
            "memory usage: 286.2+ MB\n"
          ]
        }
      ],
      "source": [
        "df.info(verbose=True, show_counts=True)\n",
        "# show_counts=True - shows the number of null values in each column\n",
        "# verbose=True - shows the data type of each column "
      ]
    },
    {
      "cell_type": "code",
      "execution_count": 7,
      "metadata": {
        "colab": {
          "base_uri": "https://localhost:8080/"
        },
        "execution": {
          "iopub.execute_input": "2021-07-13T08:25:20.746238Z",
          "iopub.status.busy": "2021-07-13T08:25:20.74596Z",
          "iopub.status.idle": "2021-07-13T08:25:20.752196Z",
          "shell.execute_reply": "2021-07-13T08:25:20.751091Z",
          "shell.execute_reply.started": "2021-07-13T08:25:20.746211Z"
        },
        "id": "cpydzGOcJHO3",
        "outputId": "6408dc25-2863-425f-b32e-bcfd7a072fbb",
        "trusted": true
      },
      "outputs": [
        {
          "data": {
            "text/plain": [
              "(307511, 122)"
            ]
          },
          "execution_count": 7,
          "metadata": {},
          "output_type": "execute_result"
        }
      ],
      "source": [
        "df.shape"
      ]
    },
    {
      "cell_type": "markdown",
      "metadata": {
        "id": "X49HeIauJHO3"
      },
      "source": [
        "Маємо ~307k рядків та 122 колонки."
      ]
    },
    {
      "cell_type": "markdown",
      "metadata": {
        "id": "CVlarW6CJHO4"
      },
      "source": [
        "## Статистичний звіт для числових змінних"
      ]
    },
    {
      "cell_type": "code",
      "execution_count": 8,
      "metadata": {
        "colab": {
          "base_uri": "https://localhost:8080/",
          "height": 320
        },
        "execution": {
          "iopub.execute_input": "2021-07-13T08:25:20.753877Z",
          "iopub.status.busy": "2021-07-13T08:25:20.75355Z",
          "iopub.status.idle": "2021-07-13T08:25:22.001214Z",
          "shell.execute_reply": "2021-07-13T08:25:22.000539Z",
          "shell.execute_reply.started": "2021-07-13T08:25:20.753839Z"
        },
        "id": "S6d_epH3JHO4",
        "outputId": "ad0d9374-7aee-4f4b-d548-887d7a58068e",
        "trusted": true
      },
      "outputs": [
        {
          "data": {
            "text/html": [
              "<div>\n",
              "<style scoped>\n",
              "    .dataframe tbody tr th:only-of-type {\n",
              "        vertical-align: middle;\n",
              "    }\n",
              "\n",
              "    .dataframe tbody tr th {\n",
              "        vertical-align: top;\n",
              "    }\n",
              "\n",
              "    .dataframe thead th {\n",
              "        text-align: right;\n",
              "    }\n",
              "</style>\n",
              "<table border=\"1\" class=\"dataframe\">\n",
              "  <thead>\n",
              "    <tr style=\"text-align: right;\">\n",
              "      <th></th>\n",
              "      <th>SK_ID_CURR</th>\n",
              "      <th>TARGET</th>\n",
              "      <th>CNT_CHILDREN</th>\n",
              "      <th>AMT_INCOME_TOTAL</th>\n",
              "      <th>AMT_CREDIT</th>\n",
              "      <th>AMT_ANNUITY</th>\n",
              "      <th>AMT_GOODS_PRICE</th>\n",
              "      <th>REGION_POPULATION_RELATIVE</th>\n",
              "      <th>DAYS_BIRTH</th>\n",
              "      <th>DAYS_EMPLOYED</th>\n",
              "      <th>DAYS_REGISTRATION</th>\n",
              "      <th>DAYS_ID_PUBLISH</th>\n",
              "      <th>OWN_CAR_AGE</th>\n",
              "      <th>FLAG_MOBIL</th>\n",
              "      <th>FLAG_EMP_PHONE</th>\n",
              "      <th>FLAG_WORK_PHONE</th>\n",
              "      <th>FLAG_CONT_MOBILE</th>\n",
              "      <th>FLAG_PHONE</th>\n",
              "      <th>FLAG_EMAIL</th>\n",
              "      <th>CNT_FAM_MEMBERS</th>\n",
              "      <th>REGION_RATING_CLIENT</th>\n",
              "      <th>REGION_RATING_CLIENT_W_CITY</th>\n",
              "      <th>HOUR_APPR_PROCESS_START</th>\n",
              "      <th>REG_REGION_NOT_LIVE_REGION</th>\n",
              "      <th>REG_REGION_NOT_WORK_REGION</th>\n",
              "      <th>LIVE_REGION_NOT_WORK_REGION</th>\n",
              "      <th>REG_CITY_NOT_LIVE_CITY</th>\n",
              "      <th>REG_CITY_NOT_WORK_CITY</th>\n",
              "      <th>LIVE_CITY_NOT_WORK_CITY</th>\n",
              "      <th>EXT_SOURCE_1</th>\n",
              "      <th>EXT_SOURCE_2</th>\n",
              "      <th>EXT_SOURCE_3</th>\n",
              "      <th>APARTMENTS_AVG</th>\n",
              "      <th>BASEMENTAREA_AVG</th>\n",
              "      <th>YEARS_BEGINEXPLUATATION_AVG</th>\n",
              "      <th>YEARS_BUILD_AVG</th>\n",
              "      <th>COMMONAREA_AVG</th>\n",
              "      <th>ELEVATORS_AVG</th>\n",
              "      <th>ENTRANCES_AVG</th>\n",
              "      <th>FLOORSMAX_AVG</th>\n",
              "      <th>FLOORSMIN_AVG</th>\n",
              "      <th>LANDAREA_AVG</th>\n",
              "      <th>LIVINGAPARTMENTS_AVG</th>\n",
              "      <th>LIVINGAREA_AVG</th>\n",
              "      <th>NONLIVINGAPARTMENTS_AVG</th>\n",
              "      <th>NONLIVINGAREA_AVG</th>\n",
              "      <th>APARTMENTS_MODE</th>\n",
              "      <th>BASEMENTAREA_MODE</th>\n",
              "      <th>YEARS_BEGINEXPLUATATION_MODE</th>\n",
              "      <th>YEARS_BUILD_MODE</th>\n",
              "      <th>COMMONAREA_MODE</th>\n",
              "      <th>ELEVATORS_MODE</th>\n",
              "      <th>ENTRANCES_MODE</th>\n",
              "      <th>FLOORSMAX_MODE</th>\n",
              "      <th>FLOORSMIN_MODE</th>\n",
              "      <th>LANDAREA_MODE</th>\n",
              "      <th>LIVINGAPARTMENTS_MODE</th>\n",
              "      <th>LIVINGAREA_MODE</th>\n",
              "      <th>NONLIVINGAPARTMENTS_MODE</th>\n",
              "      <th>NONLIVINGAREA_MODE</th>\n",
              "      <th>APARTMENTS_MEDI</th>\n",
              "      <th>BASEMENTAREA_MEDI</th>\n",
              "      <th>YEARS_BEGINEXPLUATATION_MEDI</th>\n",
              "      <th>YEARS_BUILD_MEDI</th>\n",
              "      <th>COMMONAREA_MEDI</th>\n",
              "      <th>ELEVATORS_MEDI</th>\n",
              "      <th>ENTRANCES_MEDI</th>\n",
              "      <th>FLOORSMAX_MEDI</th>\n",
              "      <th>FLOORSMIN_MEDI</th>\n",
              "      <th>LANDAREA_MEDI</th>\n",
              "      <th>LIVINGAPARTMENTS_MEDI</th>\n",
              "      <th>LIVINGAREA_MEDI</th>\n",
              "      <th>NONLIVINGAPARTMENTS_MEDI</th>\n",
              "      <th>NONLIVINGAREA_MEDI</th>\n",
              "      <th>TOTALAREA_MODE</th>\n",
              "      <th>OBS_30_CNT_SOCIAL_CIRCLE</th>\n",
              "      <th>DEF_30_CNT_SOCIAL_CIRCLE</th>\n",
              "      <th>OBS_60_CNT_SOCIAL_CIRCLE</th>\n",
              "      <th>DEF_60_CNT_SOCIAL_CIRCLE</th>\n",
              "      <th>DAYS_LAST_PHONE_CHANGE</th>\n",
              "      <th>FLAG_DOCUMENT_2</th>\n",
              "      <th>FLAG_DOCUMENT_3</th>\n",
              "      <th>FLAG_DOCUMENT_4</th>\n",
              "      <th>FLAG_DOCUMENT_5</th>\n",
              "      <th>FLAG_DOCUMENT_6</th>\n",
              "      <th>FLAG_DOCUMENT_7</th>\n",
              "      <th>FLAG_DOCUMENT_8</th>\n",
              "      <th>FLAG_DOCUMENT_9</th>\n",
              "      <th>FLAG_DOCUMENT_10</th>\n",
              "      <th>FLAG_DOCUMENT_11</th>\n",
              "      <th>FLAG_DOCUMENT_12</th>\n",
              "      <th>FLAG_DOCUMENT_13</th>\n",
              "      <th>FLAG_DOCUMENT_14</th>\n",
              "      <th>FLAG_DOCUMENT_15</th>\n",
              "      <th>FLAG_DOCUMENT_16</th>\n",
              "      <th>FLAG_DOCUMENT_17</th>\n",
              "      <th>FLAG_DOCUMENT_18</th>\n",
              "      <th>FLAG_DOCUMENT_19</th>\n",
              "      <th>FLAG_DOCUMENT_20</th>\n",
              "      <th>FLAG_DOCUMENT_21</th>\n",
              "      <th>AMT_REQ_CREDIT_BUREAU_HOUR</th>\n",
              "      <th>AMT_REQ_CREDIT_BUREAU_DAY</th>\n",
              "      <th>AMT_REQ_CREDIT_BUREAU_WEEK</th>\n",
              "      <th>AMT_REQ_CREDIT_BUREAU_MON</th>\n",
              "      <th>AMT_REQ_CREDIT_BUREAU_QRT</th>\n",
              "      <th>AMT_REQ_CREDIT_BUREAU_YEAR</th>\n",
              "    </tr>\n",
              "  </thead>\n",
              "  <tbody>\n",
              "    <tr>\n",
              "      <th>count</th>\n",
              "      <td>307511.00</td>\n",
              "      <td>307511.00</td>\n",
              "      <td>307511.00</td>\n",
              "      <td>307511.00</td>\n",
              "      <td>307511.00</td>\n",
              "      <td>307499.00</td>\n",
              "      <td>307233.00</td>\n",
              "      <td>307511.00</td>\n",
              "      <td>307511.00</td>\n",
              "      <td>307511.00</td>\n",
              "      <td>307511.00</td>\n",
              "      <td>307511.00</td>\n",
              "      <td>104582.00</td>\n",
              "      <td>307511.00</td>\n",
              "      <td>307511.00</td>\n",
              "      <td>307511.00</td>\n",
              "      <td>307511.00</td>\n",
              "      <td>307511.00</td>\n",
              "      <td>307511.00</td>\n",
              "      <td>307509.00</td>\n",
              "      <td>307511.00</td>\n",
              "      <td>307511.00</td>\n",
              "      <td>307511.00</td>\n",
              "      <td>307511.00</td>\n",
              "      <td>307511.00</td>\n",
              "      <td>307511.00</td>\n",
              "      <td>307511.00</td>\n",
              "      <td>307511.00</td>\n",
              "      <td>307511.00</td>\n",
              "      <td>134133.00</td>\n",
              "      <td>306851.00</td>\n",
              "      <td>246546.00</td>\n",
              "      <td>151450.00</td>\n",
              "      <td>127568.00</td>\n",
              "      <td>157504.00</td>\n",
              "      <td>103023.00</td>\n",
              "      <td>92646.00</td>\n",
              "      <td>143620.00</td>\n",
              "      <td>152683.00</td>\n",
              "      <td>154491.00</td>\n",
              "      <td>98869.00</td>\n",
              "      <td>124921.00</td>\n",
              "      <td>97312.00</td>\n",
              "      <td>153161.00</td>\n",
              "      <td>93997.00</td>\n",
              "      <td>137829.00</td>\n",
              "      <td>151450.00</td>\n",
              "      <td>127568.00</td>\n",
              "      <td>157504.00</td>\n",
              "      <td>103023.00</td>\n",
              "      <td>92646.00</td>\n",
              "      <td>143620.00</td>\n",
              "      <td>152683.00</td>\n",
              "      <td>154491.00</td>\n",
              "      <td>98869.00</td>\n",
              "      <td>124921.00</td>\n",
              "      <td>97312.00</td>\n",
              "      <td>153161.00</td>\n",
              "      <td>93997.00</td>\n",
              "      <td>137829.00</td>\n",
              "      <td>151450.00</td>\n",
              "      <td>127568.00</td>\n",
              "      <td>157504.00</td>\n",
              "      <td>103023.00</td>\n",
              "      <td>92646.00</td>\n",
              "      <td>143620.00</td>\n",
              "      <td>152683.00</td>\n",
              "      <td>154491.00</td>\n",
              "      <td>98869.00</td>\n",
              "      <td>124921.00</td>\n",
              "      <td>97312.00</td>\n",
              "      <td>153161.00</td>\n",
              "      <td>93997.00</td>\n",
              "      <td>137829.00</td>\n",
              "      <td>159080.00</td>\n",
              "      <td>306490.00</td>\n",
              "      <td>306490.00</td>\n",
              "      <td>306490.00</td>\n",
              "      <td>306490.00</td>\n",
              "      <td>307510.00</td>\n",
              "      <td>307511.00</td>\n",
              "      <td>307511.00</td>\n",
              "      <td>307511.00</td>\n",
              "      <td>307511.00</td>\n",
              "      <td>307511.00</td>\n",
              "      <td>307511.00</td>\n",
              "      <td>307511.00</td>\n",
              "      <td>307511.00</td>\n",
              "      <td>307511.00</td>\n",
              "      <td>307511.00</td>\n",
              "      <td>307511.00</td>\n",
              "      <td>307511.00</td>\n",
              "      <td>307511.00</td>\n",
              "      <td>307511.00</td>\n",
              "      <td>307511.00</td>\n",
              "      <td>307511.00</td>\n",
              "      <td>307511.00</td>\n",
              "      <td>307511.00</td>\n",
              "      <td>307511.00</td>\n",
              "      <td>307511.00</td>\n",
              "      <td>265992.00</td>\n",
              "      <td>265992.00</td>\n",
              "      <td>265992.00</td>\n",
              "      <td>265992.00</td>\n",
              "      <td>265992.00</td>\n",
              "      <td>265992.00</td>\n",
              "    </tr>\n",
              "    <tr>\n",
              "      <th>mean</th>\n",
              "      <td>278180.52</td>\n",
              "      <td>0.08</td>\n",
              "      <td>0.42</td>\n",
              "      <td>168797.92</td>\n",
              "      <td>599026.00</td>\n",
              "      <td>27108.57</td>\n",
              "      <td>538396.21</td>\n",
              "      <td>0.02</td>\n",
              "      <td>-16037.00</td>\n",
              "      <td>63815.05</td>\n",
              "      <td>-4986.12</td>\n",
              "      <td>-2994.20</td>\n",
              "      <td>12.06</td>\n",
              "      <td>1.00</td>\n",
              "      <td>0.82</td>\n",
              "      <td>0.20</td>\n",
              "      <td>1.00</td>\n",
              "      <td>0.28</td>\n",
              "      <td>0.06</td>\n",
              "      <td>2.15</td>\n",
              "      <td>2.05</td>\n",
              "      <td>2.03</td>\n",
              "      <td>12.06</td>\n",
              "      <td>0.02</td>\n",
              "      <td>0.05</td>\n",
              "      <td>0.04</td>\n",
              "      <td>0.08</td>\n",
              "      <td>0.23</td>\n",
              "      <td>0.18</td>\n",
              "      <td>0.50</td>\n",
              "      <td>0.51</td>\n",
              "      <td>0.51</td>\n",
              "      <td>0.12</td>\n",
              "      <td>0.09</td>\n",
              "      <td>0.98</td>\n",
              "      <td>0.75</td>\n",
              "      <td>0.04</td>\n",
              "      <td>0.08</td>\n",
              "      <td>0.15</td>\n",
              "      <td>0.23</td>\n",
              "      <td>0.23</td>\n",
              "      <td>0.07</td>\n",
              "      <td>0.10</td>\n",
              "      <td>0.11</td>\n",
              "      <td>0.01</td>\n",
              "      <td>0.03</td>\n",
              "      <td>0.11</td>\n",
              "      <td>0.09</td>\n",
              "      <td>0.98</td>\n",
              "      <td>0.76</td>\n",
              "      <td>0.04</td>\n",
              "      <td>0.07</td>\n",
              "      <td>0.15</td>\n",
              "      <td>0.22</td>\n",
              "      <td>0.23</td>\n",
              "      <td>0.06</td>\n",
              "      <td>0.11</td>\n",
              "      <td>0.11</td>\n",
              "      <td>0.01</td>\n",
              "      <td>0.03</td>\n",
              "      <td>0.12</td>\n",
              "      <td>0.09</td>\n",
              "      <td>0.98</td>\n",
              "      <td>0.76</td>\n",
              "      <td>0.04</td>\n",
              "      <td>0.08</td>\n",
              "      <td>0.15</td>\n",
              "      <td>0.23</td>\n",
              "      <td>0.23</td>\n",
              "      <td>0.07</td>\n",
              "      <td>0.10</td>\n",
              "      <td>0.11</td>\n",
              "      <td>0.01</td>\n",
              "      <td>0.03</td>\n",
              "      <td>0.10</td>\n",
              "      <td>1.42</td>\n",
              "      <td>0.14</td>\n",
              "      <td>1.41</td>\n",
              "      <td>0.10</td>\n",
              "      <td>-962.86</td>\n",
              "      <td>0.00</td>\n",
              "      <td>0.71</td>\n",
              "      <td>0.00</td>\n",
              "      <td>0.02</td>\n",
              "      <td>0.09</td>\n",
              "      <td>0.00</td>\n",
              "      <td>0.08</td>\n",
              "      <td>0.00</td>\n",
              "      <td>0.00</td>\n",
              "      <td>0.00</td>\n",
              "      <td>0.00</td>\n",
              "      <td>0.00</td>\n",
              "      <td>0.00</td>\n",
              "      <td>0.00</td>\n",
              "      <td>0.01</td>\n",
              "      <td>0.00</td>\n",
              "      <td>0.01</td>\n",
              "      <td>0.00</td>\n",
              "      <td>0.00</td>\n",
              "      <td>0.00</td>\n",
              "      <td>0.01</td>\n",
              "      <td>0.01</td>\n",
              "      <td>0.03</td>\n",
              "      <td>0.27</td>\n",
              "      <td>0.27</td>\n",
              "      <td>1.90</td>\n",
              "    </tr>\n",
              "    <tr>\n",
              "      <th>std</th>\n",
              "      <td>102790.18</td>\n",
              "      <td>0.27</td>\n",
              "      <td>0.72</td>\n",
              "      <td>237123.15</td>\n",
              "      <td>402490.78</td>\n",
              "      <td>14493.74</td>\n",
              "      <td>369446.46</td>\n",
              "      <td>0.01</td>\n",
              "      <td>4363.99</td>\n",
              "      <td>141275.77</td>\n",
              "      <td>3522.89</td>\n",
              "      <td>1509.45</td>\n",
              "      <td>11.94</td>\n",
              "      <td>0.00</td>\n",
              "      <td>0.38</td>\n",
              "      <td>0.40</td>\n",
              "      <td>0.04</td>\n",
              "      <td>0.45</td>\n",
              "      <td>0.23</td>\n",
              "      <td>0.91</td>\n",
              "      <td>0.51</td>\n",
              "      <td>0.50</td>\n",
              "      <td>3.27</td>\n",
              "      <td>0.12</td>\n",
              "      <td>0.22</td>\n",
              "      <td>0.20</td>\n",
              "      <td>0.27</td>\n",
              "      <td>0.42</td>\n",
              "      <td>0.38</td>\n",
              "      <td>0.21</td>\n",
              "      <td>0.19</td>\n",
              "      <td>0.19</td>\n",
              "      <td>0.11</td>\n",
              "      <td>0.08</td>\n",
              "      <td>0.06</td>\n",
              "      <td>0.11</td>\n",
              "      <td>0.08</td>\n",
              "      <td>0.13</td>\n",
              "      <td>0.10</td>\n",
              "      <td>0.14</td>\n",
              "      <td>0.16</td>\n",
              "      <td>0.08</td>\n",
              "      <td>0.09</td>\n",
              "      <td>0.11</td>\n",
              "      <td>0.05</td>\n",
              "      <td>0.07</td>\n",
              "      <td>0.11</td>\n",
              "      <td>0.08</td>\n",
              "      <td>0.06</td>\n",
              "      <td>0.11</td>\n",
              "      <td>0.07</td>\n",
              "      <td>0.13</td>\n",
              "      <td>0.10</td>\n",
              "      <td>0.14</td>\n",
              "      <td>0.16</td>\n",
              "      <td>0.08</td>\n",
              "      <td>0.10</td>\n",
              "      <td>0.11</td>\n",
              "      <td>0.05</td>\n",
              "      <td>0.07</td>\n",
              "      <td>0.11</td>\n",
              "      <td>0.08</td>\n",
              "      <td>0.06</td>\n",
              "      <td>0.11</td>\n",
              "      <td>0.08</td>\n",
              "      <td>0.13</td>\n",
              "      <td>0.10</td>\n",
              "      <td>0.15</td>\n",
              "      <td>0.16</td>\n",
              "      <td>0.08</td>\n",
              "      <td>0.09</td>\n",
              "      <td>0.11</td>\n",
              "      <td>0.05</td>\n",
              "      <td>0.07</td>\n",
              "      <td>0.11</td>\n",
              "      <td>2.40</td>\n",
              "      <td>0.45</td>\n",
              "      <td>2.38</td>\n",
              "      <td>0.36</td>\n",
              "      <td>826.81</td>\n",
              "      <td>0.01</td>\n",
              "      <td>0.45</td>\n",
              "      <td>0.01</td>\n",
              "      <td>0.12</td>\n",
              "      <td>0.28</td>\n",
              "      <td>0.01</td>\n",
              "      <td>0.27</td>\n",
              "      <td>0.06</td>\n",
              "      <td>0.00</td>\n",
              "      <td>0.06</td>\n",
              "      <td>0.00</td>\n",
              "      <td>0.06</td>\n",
              "      <td>0.05</td>\n",
              "      <td>0.03</td>\n",
              "      <td>0.10</td>\n",
              "      <td>0.02</td>\n",
              "      <td>0.09</td>\n",
              "      <td>0.02</td>\n",
              "      <td>0.02</td>\n",
              "      <td>0.02</td>\n",
              "      <td>0.08</td>\n",
              "      <td>0.11</td>\n",
              "      <td>0.20</td>\n",
              "      <td>0.92</td>\n",
              "      <td>0.79</td>\n",
              "      <td>1.87</td>\n",
              "    </tr>\n",
              "    <tr>\n",
              "      <th>min</th>\n",
              "      <td>100002.00</td>\n",
              "      <td>0.00</td>\n",
              "      <td>0.00</td>\n",
              "      <td>25650.00</td>\n",
              "      <td>45000.00</td>\n",
              "      <td>1615.50</td>\n",
              "      <td>40500.00</td>\n",
              "      <td>0.00</td>\n",
              "      <td>-25229.00</td>\n",
              "      <td>-17912.00</td>\n",
              "      <td>-24672.00</td>\n",
              "      <td>-7197.00</td>\n",
              "      <td>0.00</td>\n",
              "      <td>0.00</td>\n",
              "      <td>0.00</td>\n",
              "      <td>0.00</td>\n",
              "      <td>0.00</td>\n",
              "      <td>0.00</td>\n",
              "      <td>0.00</td>\n",
              "      <td>1.00</td>\n",
              "      <td>1.00</td>\n",
              "      <td>1.00</td>\n",
              "      <td>0.00</td>\n",
              "      <td>0.00</td>\n",
              "      <td>0.00</td>\n",
              "      <td>0.00</td>\n",
              "      <td>0.00</td>\n",
              "      <td>0.00</td>\n",
              "      <td>0.00</td>\n",
              "      <td>0.01</td>\n",
              "      <td>0.00</td>\n",
              "      <td>0.00</td>\n",
              "      <td>0.00</td>\n",
              "      <td>0.00</td>\n",
              "      <td>0.00</td>\n",
              "      <td>0.00</td>\n",
              "      <td>0.00</td>\n",
              "      <td>0.00</td>\n",
              "      <td>0.00</td>\n",
              "      <td>0.00</td>\n",
              "      <td>0.00</td>\n",
              "      <td>0.00</td>\n",
              "      <td>0.00</td>\n",
              "      <td>0.00</td>\n",
              "      <td>0.00</td>\n",
              "      <td>0.00</td>\n",
              "      <td>0.00</td>\n",
              "      <td>0.00</td>\n",
              "      <td>0.00</td>\n",
              "      <td>0.00</td>\n",
              "      <td>0.00</td>\n",
              "      <td>0.00</td>\n",
              "      <td>0.00</td>\n",
              "      <td>0.00</td>\n",
              "      <td>0.00</td>\n",
              "      <td>0.00</td>\n",
              "      <td>0.00</td>\n",
              "      <td>0.00</td>\n",
              "      <td>0.00</td>\n",
              "      <td>0.00</td>\n",
              "      <td>0.00</td>\n",
              "      <td>0.00</td>\n",
              "      <td>0.00</td>\n",
              "      <td>0.00</td>\n",
              "      <td>0.00</td>\n",
              "      <td>0.00</td>\n",
              "      <td>0.00</td>\n",
              "      <td>0.00</td>\n",
              "      <td>0.00</td>\n",
              "      <td>0.00</td>\n",
              "      <td>0.00</td>\n",
              "      <td>0.00</td>\n",
              "      <td>0.00</td>\n",
              "      <td>0.00</td>\n",
              "      <td>0.00</td>\n",
              "      <td>0.00</td>\n",
              "      <td>0.00</td>\n",
              "      <td>0.00</td>\n",
              "      <td>0.00</td>\n",
              "      <td>-4292.00</td>\n",
              "      <td>0.00</td>\n",
              "      <td>0.00</td>\n",
              "      <td>0.00</td>\n",
              "      <td>0.00</td>\n",
              "      <td>0.00</td>\n",
              "      <td>0.00</td>\n",
              "      <td>0.00</td>\n",
              "      <td>0.00</td>\n",
              "      <td>0.00</td>\n",
              "      <td>0.00</td>\n",
              "      <td>0.00</td>\n",
              "      <td>0.00</td>\n",
              "      <td>0.00</td>\n",
              "      <td>0.00</td>\n",
              "      <td>0.00</td>\n",
              "      <td>0.00</td>\n",
              "      <td>0.00</td>\n",
              "      <td>0.00</td>\n",
              "      <td>0.00</td>\n",
              "      <td>0.00</td>\n",
              "      <td>0.00</td>\n",
              "      <td>0.00</td>\n",
              "      <td>0.00</td>\n",
              "      <td>0.00</td>\n",
              "      <td>0.00</td>\n",
              "      <td>0.00</td>\n",
              "    </tr>\n",
              "    <tr>\n",
              "      <th>25%</th>\n",
              "      <td>189145.50</td>\n",
              "      <td>0.00</td>\n",
              "      <td>0.00</td>\n",
              "      <td>112500.00</td>\n",
              "      <td>270000.00</td>\n",
              "      <td>16524.00</td>\n",
              "      <td>238500.00</td>\n",
              "      <td>0.01</td>\n",
              "      <td>-19682.00</td>\n",
              "      <td>-2760.00</td>\n",
              "      <td>-7479.50</td>\n",
              "      <td>-4299.00</td>\n",
              "      <td>5.00</td>\n",
              "      <td>1.00</td>\n",
              "      <td>1.00</td>\n",
              "      <td>0.00</td>\n",
              "      <td>1.00</td>\n",
              "      <td>0.00</td>\n",
              "      <td>0.00</td>\n",
              "      <td>2.00</td>\n",
              "      <td>2.00</td>\n",
              "      <td>2.00</td>\n",
              "      <td>10.00</td>\n",
              "      <td>0.00</td>\n",
              "      <td>0.00</td>\n",
              "      <td>0.00</td>\n",
              "      <td>0.00</td>\n",
              "      <td>0.00</td>\n",
              "      <td>0.00</td>\n",
              "      <td>0.33</td>\n",
              "      <td>0.39</td>\n",
              "      <td>0.37</td>\n",
              "      <td>0.06</td>\n",
              "      <td>0.04</td>\n",
              "      <td>0.98</td>\n",
              "      <td>0.69</td>\n",
              "      <td>0.01</td>\n",
              "      <td>0.00</td>\n",
              "      <td>0.07</td>\n",
              "      <td>0.17</td>\n",
              "      <td>0.08</td>\n",
              "      <td>0.02</td>\n",
              "      <td>0.05</td>\n",
              "      <td>0.05</td>\n",
              "      <td>0.00</td>\n",
              "      <td>0.00</td>\n",
              "      <td>0.05</td>\n",
              "      <td>0.04</td>\n",
              "      <td>0.98</td>\n",
              "      <td>0.70</td>\n",
              "      <td>0.01</td>\n",
              "      <td>0.00</td>\n",
              "      <td>0.07</td>\n",
              "      <td>0.17</td>\n",
              "      <td>0.08</td>\n",
              "      <td>0.02</td>\n",
              "      <td>0.05</td>\n",
              "      <td>0.04</td>\n",
              "      <td>0.00</td>\n",
              "      <td>0.00</td>\n",
              "      <td>0.06</td>\n",
              "      <td>0.04</td>\n",
              "      <td>0.98</td>\n",
              "      <td>0.69</td>\n",
              "      <td>0.01</td>\n",
              "      <td>0.00</td>\n",
              "      <td>0.07</td>\n",
              "      <td>0.17</td>\n",
              "      <td>0.08</td>\n",
              "      <td>0.02</td>\n",
              "      <td>0.05</td>\n",
              "      <td>0.05</td>\n",
              "      <td>0.00</td>\n",
              "      <td>0.00</td>\n",
              "      <td>0.04</td>\n",
              "      <td>0.00</td>\n",
              "      <td>0.00</td>\n",
              "      <td>0.00</td>\n",
              "      <td>0.00</td>\n",
              "      <td>-1570.00</td>\n",
              "      <td>0.00</td>\n",
              "      <td>0.00</td>\n",
              "      <td>0.00</td>\n",
              "      <td>0.00</td>\n",
              "      <td>0.00</td>\n",
              "      <td>0.00</td>\n",
              "      <td>0.00</td>\n",
              "      <td>0.00</td>\n",
              "      <td>0.00</td>\n",
              "      <td>0.00</td>\n",
              "      <td>0.00</td>\n",
              "      <td>0.00</td>\n",
              "      <td>0.00</td>\n",
              "      <td>0.00</td>\n",
              "      <td>0.00</td>\n",
              "      <td>0.00</td>\n",
              "      <td>0.00</td>\n",
              "      <td>0.00</td>\n",
              "      <td>0.00</td>\n",
              "      <td>0.00</td>\n",
              "      <td>0.00</td>\n",
              "      <td>0.00</td>\n",
              "      <td>0.00</td>\n",
              "      <td>0.00</td>\n",
              "      <td>0.00</td>\n",
              "      <td>0.00</td>\n",
              "    </tr>\n",
              "    <tr>\n",
              "      <th>50%</th>\n",
              "      <td>278202.00</td>\n",
              "      <td>0.00</td>\n",
              "      <td>0.00</td>\n",
              "      <td>147150.00</td>\n",
              "      <td>513531.00</td>\n",
              "      <td>24903.00</td>\n",
              "      <td>450000.00</td>\n",
              "      <td>0.02</td>\n",
              "      <td>-15750.00</td>\n",
              "      <td>-1213.00</td>\n",
              "      <td>-4504.00</td>\n",
              "      <td>-3254.00</td>\n",
              "      <td>9.00</td>\n",
              "      <td>1.00</td>\n",
              "      <td>1.00</td>\n",
              "      <td>0.00</td>\n",
              "      <td>1.00</td>\n",
              "      <td>0.00</td>\n",
              "      <td>0.00</td>\n",
              "      <td>2.00</td>\n",
              "      <td>2.00</td>\n",
              "      <td>2.00</td>\n",
              "      <td>12.00</td>\n",
              "      <td>0.00</td>\n",
              "      <td>0.00</td>\n",
              "      <td>0.00</td>\n",
              "      <td>0.00</td>\n",
              "      <td>0.00</td>\n",
              "      <td>0.00</td>\n",
              "      <td>0.51</td>\n",
              "      <td>0.57</td>\n",
              "      <td>0.54</td>\n",
              "      <td>0.09</td>\n",
              "      <td>0.08</td>\n",
              "      <td>0.98</td>\n",
              "      <td>0.76</td>\n",
              "      <td>0.02</td>\n",
              "      <td>0.00</td>\n",
              "      <td>0.14</td>\n",
              "      <td>0.17</td>\n",
              "      <td>0.21</td>\n",
              "      <td>0.05</td>\n",
              "      <td>0.08</td>\n",
              "      <td>0.07</td>\n",
              "      <td>0.00</td>\n",
              "      <td>0.00</td>\n",
              "      <td>0.08</td>\n",
              "      <td>0.07</td>\n",
              "      <td>0.98</td>\n",
              "      <td>0.76</td>\n",
              "      <td>0.02</td>\n",
              "      <td>0.00</td>\n",
              "      <td>0.14</td>\n",
              "      <td>0.17</td>\n",
              "      <td>0.21</td>\n",
              "      <td>0.05</td>\n",
              "      <td>0.08</td>\n",
              "      <td>0.07</td>\n",
              "      <td>0.00</td>\n",
              "      <td>0.00</td>\n",
              "      <td>0.09</td>\n",
              "      <td>0.08</td>\n",
              "      <td>0.98</td>\n",
              "      <td>0.76</td>\n",
              "      <td>0.02</td>\n",
              "      <td>0.00</td>\n",
              "      <td>0.14</td>\n",
              "      <td>0.17</td>\n",
              "      <td>0.21</td>\n",
              "      <td>0.05</td>\n",
              "      <td>0.08</td>\n",
              "      <td>0.07</td>\n",
              "      <td>0.00</td>\n",
              "      <td>0.00</td>\n",
              "      <td>0.07</td>\n",
              "      <td>0.00</td>\n",
              "      <td>0.00</td>\n",
              "      <td>0.00</td>\n",
              "      <td>0.00</td>\n",
              "      <td>-757.00</td>\n",
              "      <td>0.00</td>\n",
              "      <td>1.00</td>\n",
              "      <td>0.00</td>\n",
              "      <td>0.00</td>\n",
              "      <td>0.00</td>\n",
              "      <td>0.00</td>\n",
              "      <td>0.00</td>\n",
              "      <td>0.00</td>\n",
              "      <td>0.00</td>\n",
              "      <td>0.00</td>\n",
              "      <td>0.00</td>\n",
              "      <td>0.00</td>\n",
              "      <td>0.00</td>\n",
              "      <td>0.00</td>\n",
              "      <td>0.00</td>\n",
              "      <td>0.00</td>\n",
              "      <td>0.00</td>\n",
              "      <td>0.00</td>\n",
              "      <td>0.00</td>\n",
              "      <td>0.00</td>\n",
              "      <td>0.00</td>\n",
              "      <td>0.00</td>\n",
              "      <td>0.00</td>\n",
              "      <td>0.00</td>\n",
              "      <td>0.00</td>\n",
              "      <td>1.00</td>\n",
              "    </tr>\n",
              "    <tr>\n",
              "      <th>75%</th>\n",
              "      <td>367142.50</td>\n",
              "      <td>0.00</td>\n",
              "      <td>1.00</td>\n",
              "      <td>202500.00</td>\n",
              "      <td>808650.00</td>\n",
              "      <td>34596.00</td>\n",
              "      <td>679500.00</td>\n",
              "      <td>0.03</td>\n",
              "      <td>-12413.00</td>\n",
              "      <td>-289.00</td>\n",
              "      <td>-2010.00</td>\n",
              "      <td>-1720.00</td>\n",
              "      <td>15.00</td>\n",
              "      <td>1.00</td>\n",
              "      <td>1.00</td>\n",
              "      <td>0.00</td>\n",
              "      <td>1.00</td>\n",
              "      <td>1.00</td>\n",
              "      <td>0.00</td>\n",
              "      <td>3.00</td>\n",
              "      <td>2.00</td>\n",
              "      <td>2.00</td>\n",
              "      <td>14.00</td>\n",
              "      <td>0.00</td>\n",
              "      <td>0.00</td>\n",
              "      <td>0.00</td>\n",
              "      <td>0.00</td>\n",
              "      <td>0.00</td>\n",
              "      <td>0.00</td>\n",
              "      <td>0.68</td>\n",
              "      <td>0.66</td>\n",
              "      <td>0.67</td>\n",
              "      <td>0.15</td>\n",
              "      <td>0.11</td>\n",
              "      <td>0.99</td>\n",
              "      <td>0.82</td>\n",
              "      <td>0.05</td>\n",
              "      <td>0.12</td>\n",
              "      <td>0.21</td>\n",
              "      <td>0.33</td>\n",
              "      <td>0.38</td>\n",
              "      <td>0.09</td>\n",
              "      <td>0.12</td>\n",
              "      <td>0.13</td>\n",
              "      <td>0.00</td>\n",
              "      <td>0.03</td>\n",
              "      <td>0.14</td>\n",
              "      <td>0.11</td>\n",
              "      <td>0.99</td>\n",
              "      <td>0.82</td>\n",
              "      <td>0.05</td>\n",
              "      <td>0.12</td>\n",
              "      <td>0.21</td>\n",
              "      <td>0.33</td>\n",
              "      <td>0.38</td>\n",
              "      <td>0.08</td>\n",
              "      <td>0.13</td>\n",
              "      <td>0.13</td>\n",
              "      <td>0.00</td>\n",
              "      <td>0.02</td>\n",
              "      <td>0.15</td>\n",
              "      <td>0.11</td>\n",
              "      <td>0.99</td>\n",
              "      <td>0.83</td>\n",
              "      <td>0.05</td>\n",
              "      <td>0.12</td>\n",
              "      <td>0.21</td>\n",
              "      <td>0.33</td>\n",
              "      <td>0.38</td>\n",
              "      <td>0.09</td>\n",
              "      <td>0.12</td>\n",
              "      <td>0.13</td>\n",
              "      <td>0.00</td>\n",
              "      <td>0.03</td>\n",
              "      <td>0.13</td>\n",
              "      <td>2.00</td>\n",
              "      <td>0.00</td>\n",
              "      <td>2.00</td>\n",
              "      <td>0.00</td>\n",
              "      <td>-274.00</td>\n",
              "      <td>0.00</td>\n",
              "      <td>1.00</td>\n",
              "      <td>0.00</td>\n",
              "      <td>0.00</td>\n",
              "      <td>0.00</td>\n",
              "      <td>0.00</td>\n",
              "      <td>0.00</td>\n",
              "      <td>0.00</td>\n",
              "      <td>0.00</td>\n",
              "      <td>0.00</td>\n",
              "      <td>0.00</td>\n",
              "      <td>0.00</td>\n",
              "      <td>0.00</td>\n",
              "      <td>0.00</td>\n",
              "      <td>0.00</td>\n",
              "      <td>0.00</td>\n",
              "      <td>0.00</td>\n",
              "      <td>0.00</td>\n",
              "      <td>0.00</td>\n",
              "      <td>0.00</td>\n",
              "      <td>0.00</td>\n",
              "      <td>0.00</td>\n",
              "      <td>0.00</td>\n",
              "      <td>0.00</td>\n",
              "      <td>0.00</td>\n",
              "      <td>3.00</td>\n",
              "    </tr>\n",
              "    <tr>\n",
              "      <th>max</th>\n",
              "      <td>456255.00</td>\n",
              "      <td>1.00</td>\n",
              "      <td>19.00</td>\n",
              "      <td>117000000.00</td>\n",
              "      <td>4050000.00</td>\n",
              "      <td>258025.50</td>\n",
              "      <td>4050000.00</td>\n",
              "      <td>0.07</td>\n",
              "      <td>-7489.00</td>\n",
              "      <td>365243.00</td>\n",
              "      <td>0.00</td>\n",
              "      <td>0.00</td>\n",
              "      <td>91.00</td>\n",
              "      <td>1.00</td>\n",
              "      <td>1.00</td>\n",
              "      <td>1.00</td>\n",
              "      <td>1.00</td>\n",
              "      <td>1.00</td>\n",
              "      <td>1.00</td>\n",
              "      <td>20.00</td>\n",
              "      <td>3.00</td>\n",
              "      <td>3.00</td>\n",
              "      <td>23.00</td>\n",
              "      <td>1.00</td>\n",
              "      <td>1.00</td>\n",
              "      <td>1.00</td>\n",
              "      <td>1.00</td>\n",
              "      <td>1.00</td>\n",
              "      <td>1.00</td>\n",
              "      <td>0.96</td>\n",
              "      <td>0.85</td>\n",
              "      <td>0.90</td>\n",
              "      <td>1.00</td>\n",
              "      <td>1.00</td>\n",
              "      <td>1.00</td>\n",
              "      <td>1.00</td>\n",
              "      <td>1.00</td>\n",
              "      <td>1.00</td>\n",
              "      <td>1.00</td>\n",
              "      <td>1.00</td>\n",
              "      <td>1.00</td>\n",
              "      <td>1.00</td>\n",
              "      <td>1.00</td>\n",
              "      <td>1.00</td>\n",
              "      <td>1.00</td>\n",
              "      <td>1.00</td>\n",
              "      <td>1.00</td>\n",
              "      <td>1.00</td>\n",
              "      <td>1.00</td>\n",
              "      <td>1.00</td>\n",
              "      <td>1.00</td>\n",
              "      <td>1.00</td>\n",
              "      <td>1.00</td>\n",
              "      <td>1.00</td>\n",
              "      <td>1.00</td>\n",
              "      <td>1.00</td>\n",
              "      <td>1.00</td>\n",
              "      <td>1.00</td>\n",
              "      <td>1.00</td>\n",
              "      <td>1.00</td>\n",
              "      <td>1.00</td>\n",
              "      <td>1.00</td>\n",
              "      <td>1.00</td>\n",
              "      <td>1.00</td>\n",
              "      <td>1.00</td>\n",
              "      <td>1.00</td>\n",
              "      <td>1.00</td>\n",
              "      <td>1.00</td>\n",
              "      <td>1.00</td>\n",
              "      <td>1.00</td>\n",
              "      <td>1.00</td>\n",
              "      <td>1.00</td>\n",
              "      <td>1.00</td>\n",
              "      <td>1.00</td>\n",
              "      <td>1.00</td>\n",
              "      <td>348.00</td>\n",
              "      <td>34.00</td>\n",
              "      <td>344.00</td>\n",
              "      <td>24.00</td>\n",
              "      <td>0.00</td>\n",
              "      <td>1.00</td>\n",
              "      <td>1.00</td>\n",
              "      <td>1.00</td>\n",
              "      <td>1.00</td>\n",
              "      <td>1.00</td>\n",
              "      <td>1.00</td>\n",
              "      <td>1.00</td>\n",
              "      <td>1.00</td>\n",
              "      <td>1.00</td>\n",
              "      <td>1.00</td>\n",
              "      <td>1.00</td>\n",
              "      <td>1.00</td>\n",
              "      <td>1.00</td>\n",
              "      <td>1.00</td>\n",
              "      <td>1.00</td>\n",
              "      <td>1.00</td>\n",
              "      <td>1.00</td>\n",
              "      <td>1.00</td>\n",
              "      <td>1.00</td>\n",
              "      <td>1.00</td>\n",
              "      <td>4.00</td>\n",
              "      <td>9.00</td>\n",
              "      <td>8.00</td>\n",
              "      <td>27.00</td>\n",
              "      <td>261.00</td>\n",
              "      <td>25.00</td>\n",
              "    </tr>\n",
              "  </tbody>\n",
              "</table>\n",
              "</div>"
            ],
            "text/plain": [
              "       SK_ID_CURR    TARGET  CNT_CHILDREN  AMT_INCOME_TOTAL  AMT_CREDIT  \\\n",
              "count   307511.00 307511.00     307511.00         307511.00   307511.00   \n",
              "mean    278180.52      0.08          0.42         168797.92   599026.00   \n",
              "std     102790.18      0.27          0.72         237123.15   402490.78   \n",
              "min     100002.00      0.00          0.00          25650.00    45000.00   \n",
              "25%     189145.50      0.00          0.00         112500.00   270000.00   \n",
              "50%     278202.00      0.00          0.00         147150.00   513531.00   \n",
              "75%     367142.50      0.00          1.00         202500.00   808650.00   \n",
              "max     456255.00      1.00         19.00      117000000.00  4050000.00   \n",
              "\n",
              "       AMT_ANNUITY  AMT_GOODS_PRICE  REGION_POPULATION_RELATIVE  DAYS_BIRTH  \\\n",
              "count    307499.00        307233.00                   307511.00   307511.00   \n",
              "mean      27108.57        538396.21                        0.02   -16037.00   \n",
              "std       14493.74        369446.46                        0.01     4363.99   \n",
              "min        1615.50         40500.00                        0.00   -25229.00   \n",
              "25%       16524.00        238500.00                        0.01   -19682.00   \n",
              "50%       24903.00        450000.00                        0.02   -15750.00   \n",
              "75%       34596.00        679500.00                        0.03   -12413.00   \n",
              "max      258025.50       4050000.00                        0.07    -7489.00   \n",
              "\n",
              "       DAYS_EMPLOYED  DAYS_REGISTRATION  DAYS_ID_PUBLISH  OWN_CAR_AGE  \\\n",
              "count      307511.00          307511.00        307511.00    104582.00   \n",
              "mean        63815.05           -4986.12         -2994.20        12.06   \n",
              "std        141275.77            3522.89          1509.45        11.94   \n",
              "min        -17912.00          -24672.00         -7197.00         0.00   \n",
              "25%         -2760.00           -7479.50         -4299.00         5.00   \n",
              "50%         -1213.00           -4504.00         -3254.00         9.00   \n",
              "75%          -289.00           -2010.00         -1720.00        15.00   \n",
              "max        365243.00               0.00             0.00        91.00   \n",
              "\n",
              "       FLAG_MOBIL  FLAG_EMP_PHONE  FLAG_WORK_PHONE  FLAG_CONT_MOBILE  \\\n",
              "count   307511.00       307511.00        307511.00         307511.00   \n",
              "mean         1.00            0.82             0.20              1.00   \n",
              "std          0.00            0.38             0.40              0.04   \n",
              "min          0.00            0.00             0.00              0.00   \n",
              "25%          1.00            1.00             0.00              1.00   \n",
              "50%          1.00            1.00             0.00              1.00   \n",
              "75%          1.00            1.00             0.00              1.00   \n",
              "max          1.00            1.00             1.00              1.00   \n",
              "\n",
              "       FLAG_PHONE  FLAG_EMAIL  CNT_FAM_MEMBERS  REGION_RATING_CLIENT  \\\n",
              "count   307511.00   307511.00        307509.00             307511.00   \n",
              "mean         0.28        0.06             2.15                  2.05   \n",
              "std          0.45        0.23             0.91                  0.51   \n",
              "min          0.00        0.00             1.00                  1.00   \n",
              "25%          0.00        0.00             2.00                  2.00   \n",
              "50%          0.00        0.00             2.00                  2.00   \n",
              "75%          1.00        0.00             3.00                  2.00   \n",
              "max          1.00        1.00            20.00                  3.00   \n",
              "\n",
              "       REGION_RATING_CLIENT_W_CITY  HOUR_APPR_PROCESS_START  \\\n",
              "count                    307511.00                307511.00   \n",
              "mean                          2.03                    12.06   \n",
              "std                           0.50                     3.27   \n",
              "min                           1.00                     0.00   \n",
              "25%                           2.00                    10.00   \n",
              "50%                           2.00                    12.00   \n",
              "75%                           2.00                    14.00   \n",
              "max                           3.00                    23.00   \n",
              "\n",
              "       REG_REGION_NOT_LIVE_REGION  REG_REGION_NOT_WORK_REGION  \\\n",
              "count                   307511.00                   307511.00   \n",
              "mean                         0.02                        0.05   \n",
              "std                          0.12                        0.22   \n",
              "min                          0.00                        0.00   \n",
              "25%                          0.00                        0.00   \n",
              "50%                          0.00                        0.00   \n",
              "75%                          0.00                        0.00   \n",
              "max                          1.00                        1.00   \n",
              "\n",
              "       LIVE_REGION_NOT_WORK_REGION  REG_CITY_NOT_LIVE_CITY  \\\n",
              "count                    307511.00               307511.00   \n",
              "mean                          0.04                    0.08   \n",
              "std                           0.20                    0.27   \n",
              "min                           0.00                    0.00   \n",
              "25%                           0.00                    0.00   \n",
              "50%                           0.00                    0.00   \n",
              "75%                           0.00                    0.00   \n",
              "max                           1.00                    1.00   \n",
              "\n",
              "       REG_CITY_NOT_WORK_CITY  LIVE_CITY_NOT_WORK_CITY  EXT_SOURCE_1  \\\n",
              "count               307511.00                307511.00     134133.00   \n",
              "mean                     0.23                     0.18          0.50   \n",
              "std                      0.42                     0.38          0.21   \n",
              "min                      0.00                     0.00          0.01   \n",
              "25%                      0.00                     0.00          0.33   \n",
              "50%                      0.00                     0.00          0.51   \n",
              "75%                      0.00                     0.00          0.68   \n",
              "max                      1.00                     1.00          0.96   \n",
              "\n",
              "       EXT_SOURCE_2  EXT_SOURCE_3  APARTMENTS_AVG  BASEMENTAREA_AVG  \\\n",
              "count     306851.00     246546.00       151450.00         127568.00   \n",
              "mean           0.51          0.51            0.12              0.09   \n",
              "std            0.19          0.19            0.11              0.08   \n",
              "min            0.00          0.00            0.00              0.00   \n",
              "25%            0.39          0.37            0.06              0.04   \n",
              "50%            0.57          0.54            0.09              0.08   \n",
              "75%            0.66          0.67            0.15              0.11   \n",
              "max            0.85          0.90            1.00              1.00   \n",
              "\n",
              "       YEARS_BEGINEXPLUATATION_AVG  YEARS_BUILD_AVG  COMMONAREA_AVG  \\\n",
              "count                    157504.00        103023.00        92646.00   \n",
              "mean                          0.98             0.75            0.04   \n",
              "std                           0.06             0.11            0.08   \n",
              "min                           0.00             0.00            0.00   \n",
              "25%                           0.98             0.69            0.01   \n",
              "50%                           0.98             0.76            0.02   \n",
              "75%                           0.99             0.82            0.05   \n",
              "max                           1.00             1.00            1.00   \n",
              "\n",
              "       ELEVATORS_AVG  ENTRANCES_AVG  FLOORSMAX_AVG  FLOORSMIN_AVG  \\\n",
              "count      143620.00      152683.00      154491.00       98869.00   \n",
              "mean            0.08           0.15           0.23           0.23   \n",
              "std             0.13           0.10           0.14           0.16   \n",
              "min             0.00           0.00           0.00           0.00   \n",
              "25%             0.00           0.07           0.17           0.08   \n",
              "50%             0.00           0.14           0.17           0.21   \n",
              "75%             0.12           0.21           0.33           0.38   \n",
              "max             1.00           1.00           1.00           1.00   \n",
              "\n",
              "       LANDAREA_AVG  LIVINGAPARTMENTS_AVG  LIVINGAREA_AVG  \\\n",
              "count     124921.00              97312.00       153161.00   \n",
              "mean           0.07                  0.10            0.11   \n",
              "std            0.08                  0.09            0.11   \n",
              "min            0.00                  0.00            0.00   \n",
              "25%            0.02                  0.05            0.05   \n",
              "50%            0.05                  0.08            0.07   \n",
              "75%            0.09                  0.12            0.13   \n",
              "max            1.00                  1.00            1.00   \n",
              "\n",
              "       NONLIVINGAPARTMENTS_AVG  NONLIVINGAREA_AVG  APARTMENTS_MODE  \\\n",
              "count                 93997.00          137829.00        151450.00   \n",
              "mean                      0.01               0.03             0.11   \n",
              "std                       0.05               0.07             0.11   \n",
              "min                       0.00               0.00             0.00   \n",
              "25%                       0.00               0.00             0.05   \n",
              "50%                       0.00               0.00             0.08   \n",
              "75%                       0.00               0.03             0.14   \n",
              "max                       1.00               1.00             1.00   \n",
              "\n",
              "       BASEMENTAREA_MODE  YEARS_BEGINEXPLUATATION_MODE  YEARS_BUILD_MODE  \\\n",
              "count          127568.00                     157504.00         103023.00   \n",
              "mean                0.09                          0.98              0.76   \n",
              "std                 0.08                          0.06              0.11   \n",
              "min                 0.00                          0.00              0.00   \n",
              "25%                 0.04                          0.98              0.70   \n",
              "50%                 0.07                          0.98              0.76   \n",
              "75%                 0.11                          0.99              0.82   \n",
              "max                 1.00                          1.00              1.00   \n",
              "\n",
              "       COMMONAREA_MODE  ELEVATORS_MODE  ENTRANCES_MODE  FLOORSMAX_MODE  \\\n",
              "count         92646.00       143620.00       152683.00       154491.00   \n",
              "mean              0.04            0.07            0.15            0.22   \n",
              "std               0.07            0.13            0.10            0.14   \n",
              "min               0.00            0.00            0.00            0.00   \n",
              "25%               0.01            0.00            0.07            0.17   \n",
              "50%               0.02            0.00            0.14            0.17   \n",
              "75%               0.05            0.12            0.21            0.33   \n",
              "max               1.00            1.00            1.00            1.00   \n",
              "\n",
              "       FLOORSMIN_MODE  LANDAREA_MODE  LIVINGAPARTMENTS_MODE  LIVINGAREA_MODE  \\\n",
              "count        98869.00      124921.00               97312.00        153161.00   \n",
              "mean             0.23           0.06                   0.11             0.11   \n",
              "std              0.16           0.08                   0.10             0.11   \n",
              "min              0.00           0.00                   0.00             0.00   \n",
              "25%              0.08           0.02                   0.05             0.04   \n",
              "50%              0.21           0.05                   0.08             0.07   \n",
              "75%              0.38           0.08                   0.13             0.13   \n",
              "max              1.00           1.00                   1.00             1.00   \n",
              "\n",
              "       NONLIVINGAPARTMENTS_MODE  NONLIVINGAREA_MODE  APARTMENTS_MEDI  \\\n",
              "count                  93997.00           137829.00        151450.00   \n",
              "mean                       0.01                0.03             0.12   \n",
              "std                        0.05                0.07             0.11   \n",
              "min                        0.00                0.00             0.00   \n",
              "25%                        0.00                0.00             0.06   \n",
              "50%                        0.00                0.00             0.09   \n",
              "75%                        0.00                0.02             0.15   \n",
              "max                        1.00                1.00             1.00   \n",
              "\n",
              "       BASEMENTAREA_MEDI  YEARS_BEGINEXPLUATATION_MEDI  YEARS_BUILD_MEDI  \\\n",
              "count          127568.00                     157504.00         103023.00   \n",
              "mean                0.09                          0.98              0.76   \n",
              "std                 0.08                          0.06              0.11   \n",
              "min                 0.00                          0.00              0.00   \n",
              "25%                 0.04                          0.98              0.69   \n",
              "50%                 0.08                          0.98              0.76   \n",
              "75%                 0.11                          0.99              0.83   \n",
              "max                 1.00                          1.00              1.00   \n",
              "\n",
              "       COMMONAREA_MEDI  ELEVATORS_MEDI  ENTRANCES_MEDI  FLOORSMAX_MEDI  \\\n",
              "count         92646.00       143620.00       152683.00       154491.00   \n",
              "mean              0.04            0.08            0.15            0.23   \n",
              "std               0.08            0.13            0.10            0.15   \n",
              "min               0.00            0.00            0.00            0.00   \n",
              "25%               0.01            0.00            0.07            0.17   \n",
              "50%               0.02            0.00            0.14            0.17   \n",
              "75%               0.05            0.12            0.21            0.33   \n",
              "max               1.00            1.00            1.00            1.00   \n",
              "\n",
              "       FLOORSMIN_MEDI  LANDAREA_MEDI  LIVINGAPARTMENTS_MEDI  LIVINGAREA_MEDI  \\\n",
              "count        98869.00      124921.00               97312.00        153161.00   \n",
              "mean             0.23           0.07                   0.10             0.11   \n",
              "std              0.16           0.08                   0.09             0.11   \n",
              "min              0.00           0.00                   0.00             0.00   \n",
              "25%              0.08           0.02                   0.05             0.05   \n",
              "50%              0.21           0.05                   0.08             0.07   \n",
              "75%              0.38           0.09                   0.12             0.13   \n",
              "max              1.00           1.00                   1.00             1.00   \n",
              "\n",
              "       NONLIVINGAPARTMENTS_MEDI  NONLIVINGAREA_MEDI  TOTALAREA_MODE  \\\n",
              "count                  93997.00           137829.00       159080.00   \n",
              "mean                       0.01                0.03            0.10   \n",
              "std                        0.05                0.07            0.11   \n",
              "min                        0.00                0.00            0.00   \n",
              "25%                        0.00                0.00            0.04   \n",
              "50%                        0.00                0.00            0.07   \n",
              "75%                        0.00                0.03            0.13   \n",
              "max                        1.00                1.00            1.00   \n",
              "\n",
              "       OBS_30_CNT_SOCIAL_CIRCLE  DEF_30_CNT_SOCIAL_CIRCLE  \\\n",
              "count                 306490.00                 306490.00   \n",
              "mean                       1.42                      0.14   \n",
              "std                        2.40                      0.45   \n",
              "min                        0.00                      0.00   \n",
              "25%                        0.00                      0.00   \n",
              "50%                        0.00                      0.00   \n",
              "75%                        2.00                      0.00   \n",
              "max                      348.00                     34.00   \n",
              "\n",
              "       OBS_60_CNT_SOCIAL_CIRCLE  DEF_60_CNT_SOCIAL_CIRCLE  \\\n",
              "count                 306490.00                 306490.00   \n",
              "mean                       1.41                      0.10   \n",
              "std                        2.38                      0.36   \n",
              "min                        0.00                      0.00   \n",
              "25%                        0.00                      0.00   \n",
              "50%                        0.00                      0.00   \n",
              "75%                        2.00                      0.00   \n",
              "max                      344.00                     24.00   \n",
              "\n",
              "       DAYS_LAST_PHONE_CHANGE  FLAG_DOCUMENT_2  FLAG_DOCUMENT_3  \\\n",
              "count               307510.00        307511.00        307511.00   \n",
              "mean                  -962.86             0.00             0.71   \n",
              "std                    826.81             0.01             0.45   \n",
              "min                  -4292.00             0.00             0.00   \n",
              "25%                  -1570.00             0.00             0.00   \n",
              "50%                   -757.00             0.00             1.00   \n",
              "75%                   -274.00             0.00             1.00   \n",
              "max                      0.00             1.00             1.00   \n",
              "\n",
              "       FLAG_DOCUMENT_4  FLAG_DOCUMENT_5  FLAG_DOCUMENT_6  FLAG_DOCUMENT_7  \\\n",
              "count        307511.00        307511.00        307511.00        307511.00   \n",
              "mean              0.00             0.02             0.09             0.00   \n",
              "std               0.01             0.12             0.28             0.01   \n",
              "min               0.00             0.00             0.00             0.00   \n",
              "25%               0.00             0.00             0.00             0.00   \n",
              "50%               0.00             0.00             0.00             0.00   \n",
              "75%               0.00             0.00             0.00             0.00   \n",
              "max               1.00             1.00             1.00             1.00   \n",
              "\n",
              "       FLAG_DOCUMENT_8  FLAG_DOCUMENT_9  FLAG_DOCUMENT_10  FLAG_DOCUMENT_11  \\\n",
              "count        307511.00        307511.00         307511.00         307511.00   \n",
              "mean              0.08             0.00              0.00              0.00   \n",
              "std               0.27             0.06              0.00              0.06   \n",
              "min               0.00             0.00              0.00              0.00   \n",
              "25%               0.00             0.00              0.00              0.00   \n",
              "50%               0.00             0.00              0.00              0.00   \n",
              "75%               0.00             0.00              0.00              0.00   \n",
              "max               1.00             1.00              1.00              1.00   \n",
              "\n",
              "       FLAG_DOCUMENT_12  FLAG_DOCUMENT_13  FLAG_DOCUMENT_14  FLAG_DOCUMENT_15  \\\n",
              "count         307511.00         307511.00         307511.00         307511.00   \n",
              "mean               0.00              0.00              0.00              0.00   \n",
              "std                0.00              0.06              0.05              0.03   \n",
              "min                0.00              0.00              0.00              0.00   \n",
              "25%                0.00              0.00              0.00              0.00   \n",
              "50%                0.00              0.00              0.00              0.00   \n",
              "75%                0.00              0.00              0.00              0.00   \n",
              "max                1.00              1.00              1.00              1.00   \n",
              "\n",
              "       FLAG_DOCUMENT_16  FLAG_DOCUMENT_17  FLAG_DOCUMENT_18  FLAG_DOCUMENT_19  \\\n",
              "count         307511.00         307511.00         307511.00         307511.00   \n",
              "mean               0.01              0.00              0.01              0.00   \n",
              "std                0.10              0.02              0.09              0.02   \n",
              "min                0.00              0.00              0.00              0.00   \n",
              "25%                0.00              0.00              0.00              0.00   \n",
              "50%                0.00              0.00              0.00              0.00   \n",
              "75%                0.00              0.00              0.00              0.00   \n",
              "max                1.00              1.00              1.00              1.00   \n",
              "\n",
              "       FLAG_DOCUMENT_20  FLAG_DOCUMENT_21  AMT_REQ_CREDIT_BUREAU_HOUR  \\\n",
              "count         307511.00         307511.00                   265992.00   \n",
              "mean               0.00              0.00                        0.01   \n",
              "std                0.02              0.02                        0.08   \n",
              "min                0.00              0.00                        0.00   \n",
              "25%                0.00              0.00                        0.00   \n",
              "50%                0.00              0.00                        0.00   \n",
              "75%                0.00              0.00                        0.00   \n",
              "max                1.00              1.00                        4.00   \n",
              "\n",
              "       AMT_REQ_CREDIT_BUREAU_DAY  AMT_REQ_CREDIT_BUREAU_WEEK  \\\n",
              "count                  265992.00                   265992.00   \n",
              "mean                        0.01                        0.03   \n",
              "std                         0.11                        0.20   \n",
              "min                         0.00                        0.00   \n",
              "25%                         0.00                        0.00   \n",
              "50%                         0.00                        0.00   \n",
              "75%                         0.00                        0.00   \n",
              "max                         9.00                        8.00   \n",
              "\n",
              "       AMT_REQ_CREDIT_BUREAU_MON  AMT_REQ_CREDIT_BUREAU_QRT  \\\n",
              "count                  265992.00                  265992.00   \n",
              "mean                        0.27                       0.27   \n",
              "std                         0.92                       0.79   \n",
              "min                         0.00                       0.00   \n",
              "25%                         0.00                       0.00   \n",
              "50%                         0.00                       0.00   \n",
              "75%                         0.00                       0.00   \n",
              "max                        27.00                     261.00   \n",
              "\n",
              "       AMT_REQ_CREDIT_BUREAU_YEAR  \n",
              "count                   265992.00  \n",
              "mean                         1.90  \n",
              "std                          1.87  \n",
              "min                          0.00  \n",
              "25%                          0.00  \n",
              "50%                          1.00  \n",
              "75%                          3.00  \n",
              "max                         25.00  "
            ]
          },
          "execution_count": 8,
          "metadata": {},
          "output_type": "execute_result"
        }
      ],
      "source": [
        "df.describe()"
      ]
    },
    {
      "cell_type": "markdown",
      "metadata": {
        "id": "2cu2dRrmJHO4"
      },
      "source": [
        "# Аналіз категоріальних змінних"
      ]
    },
    {
      "cell_type": "code",
      "execution_count": 9,
      "metadata": {
        "colab": {
          "base_uri": "https://localhost:8080/"
        },
        "execution": {
          "iopub.execute_input": "2021-07-13T08:25:22.002494Z",
          "iopub.status.busy": "2021-07-13T08:25:22.002111Z",
          "iopub.status.idle": "2021-07-13T08:25:22.045101Z",
          "shell.execute_reply": "2021-07-13T08:25:22.044381Z",
          "shell.execute_reply.started": "2021-07-13T08:25:22.002459Z"
        },
        "id": "pP3aCeYEJHO4",
        "outputId": "43ef3d42-b3e4-4b6d-f5f1-f90b42df1965",
        "trusted": true
      },
      "outputs": [
        {
          "data": {
            "text/plain": [
              "Index(['NAME_CONTRACT_TYPE', 'CODE_GENDER', 'FLAG_OWN_CAR', 'FLAG_OWN_REALTY',\n",
              "       'NAME_TYPE_SUITE', 'NAME_INCOME_TYPE', 'NAME_EDUCATION_TYPE',\n",
              "       'NAME_FAMILY_STATUS', 'NAME_HOUSING_TYPE', 'OCCUPATION_TYPE',\n",
              "       'WEEKDAY_APPR_PROCESS_START', 'ORGANIZATION_TYPE', 'FONDKAPREMONT_MODE',\n",
              "       'HOUSETYPE_MODE', 'WALLSMATERIAL_MODE', 'EMERGENCYSTATE_MODE'],\n",
              "      dtype='object')"
            ]
          },
          "execution_count": 9,
          "metadata": {},
          "output_type": "execute_result"
        }
      ],
      "source": [
        "df.select_dtypes(include='object').columns\n",
        "# df.select_dtypes(include='object') - повертає df тільки з обраних колонок"
      ]
    },
    {
      "cell_type": "code",
      "execution_count": 10,
      "metadata": {
        "colab": {
          "base_uri": "https://localhost:8080/"
        },
        "execution": {
          "iopub.execute_input": "2021-07-13T08:25:22.047597Z",
          "iopub.status.busy": "2021-07-13T08:25:22.047332Z",
          "iopub.status.idle": "2021-07-13T08:25:22.08876Z",
          "shell.execute_reply": "2021-07-13T08:25:22.087939Z",
          "shell.execute_reply.started": "2021-07-13T08:25:22.047572Z"
        },
        "id": "l80TNKrxJHO4",
        "outputId": "8119b5b6-8069-4f2e-c8b6-e4083fc3833e",
        "trusted": true
      },
      "outputs": [
        {
          "data": {
            "text/plain": [
              "16"
            ]
          },
          "execution_count": 10,
          "metadata": {},
          "output_type": "execute_result"
        }
      ],
      "source": [
        "len(df.select_dtypes(include='object').columns)"
      ]
    },
    {
      "cell_type": "markdown",
      "metadata": {
        "id": "cR-wTxeeJHO5"
      },
      "source": [
        "Дані містять 16 `categorical` змінних"
      ]
    },
    {
      "cell_type": "markdown",
      "metadata": {
        "id": "mndn7f-AJHO5"
      },
      "source": [
        "# Аналіз числових змінних"
      ]
    },
    {
      "cell_type": "code",
      "execution_count": 11,
      "metadata": {
        "id": "2DgxDoX7c-a-"
      },
      "outputs": [],
      "source": [
        "number_df = df.select_dtypes(include='number')"
      ]
    },
    {
      "cell_type": "code",
      "execution_count": 12,
      "metadata": {
        "colab": {
          "base_uri": "https://localhost:8080/"
        },
        "execution": {
          "iopub.execute_input": "2021-07-13T08:25:22.090731Z",
          "iopub.status.busy": "2021-07-13T08:25:22.090444Z",
          "iopub.status.idle": "2021-07-13T08:25:22.167607Z",
          "shell.execute_reply": "2021-07-13T08:25:22.166565Z",
          "shell.execute_reply.started": "2021-07-13T08:25:22.090705Z"
        },
        "id": "aWKKRjVtJHO5",
        "outputId": "7f2a5cf1-f668-41a1-e126-736c7e1479ee",
        "trusted": true
      },
      "outputs": [
        {
          "data": {
            "text/plain": [
              "Index(['SK_ID_CURR', 'TARGET', 'CNT_CHILDREN', 'AMT_INCOME_TOTAL',\n",
              "       'AMT_CREDIT', 'AMT_ANNUITY', 'AMT_GOODS_PRICE',\n",
              "       'REGION_POPULATION_RELATIVE', 'DAYS_BIRTH', 'DAYS_EMPLOYED',\n",
              "       ...\n",
              "       'FLAG_DOCUMENT_18', 'FLAG_DOCUMENT_19', 'FLAG_DOCUMENT_20',\n",
              "       'FLAG_DOCUMENT_21', 'AMT_REQ_CREDIT_BUREAU_HOUR',\n",
              "       'AMT_REQ_CREDIT_BUREAU_DAY', 'AMT_REQ_CREDIT_BUREAU_WEEK',\n",
              "       'AMT_REQ_CREDIT_BUREAU_MON', 'AMT_REQ_CREDIT_BUREAU_QRT',\n",
              "       'AMT_REQ_CREDIT_BUREAU_YEAR'],\n",
              "      dtype='object', length=106)"
            ]
          },
          "execution_count": 12,
          "metadata": {},
          "output_type": "execute_result"
        }
      ],
      "source": [
        "number_df.columns"
      ]
    },
    {
      "cell_type": "code",
      "execution_count": 13,
      "metadata": {
        "colab": {
          "base_uri": "https://localhost:8080/"
        },
        "execution": {
          "iopub.execute_input": "2021-07-13T08:25:22.169414Z",
          "iopub.status.busy": "2021-07-13T08:25:22.169097Z",
          "iopub.status.idle": "2021-07-13T08:25:22.250794Z",
          "shell.execute_reply": "2021-07-13T08:25:22.249835Z",
          "shell.execute_reply.started": "2021-07-13T08:25:22.169386Z"
        },
        "id": "0Gw5f2RdJHO5",
        "outputId": "bcd083fa-44b0-4bb4-fc40-3bdcfa550ba1",
        "scrolled": true,
        "trusted": true
      },
      "outputs": [
        {
          "data": {
            "text/plain": [
              "106"
            ]
          },
          "execution_count": 13,
          "metadata": {},
          "output_type": "execute_result"
        }
      ],
      "source": [
        "# Перевірка кількості числових змінних\n",
        "len(number_df.columns)"
      ]
    },
    {
      "cell_type": "markdown",
      "metadata": {
        "id": "0W8cbgnHJHO5"
      },
      "source": [
        "Дані міятять 106 `numerical` змінних"
      ]
    },
    {
      "cell_type": "code",
      "execution_count": 14,
      "metadata": {
        "colab": {
          "base_uri": "https://localhost:8080/",
          "height": 226
        },
        "execution": {
          "iopub.execute_input": "2021-07-13T08:25:22.252582Z",
          "iopub.status.busy": "2021-07-13T08:25:22.252286Z",
          "iopub.status.idle": "2021-07-13T08:25:22.425276Z",
          "shell.execute_reply": "2021-07-13T08:25:22.424372Z",
          "shell.execute_reply.started": "2021-07-13T08:25:22.252556Z"
        },
        "id": "4jn0WVzNJHO5",
        "outputId": "4bf0cef4-f099-46ec-ec37-9992d94998cc",
        "scrolled": true,
        "trusted": true
      },
      "outputs": [
        {
          "data": {
            "text/html": [
              "<div>\n",
              "<style scoped>\n",
              "    .dataframe tbody tr th:only-of-type {\n",
              "        vertical-align: middle;\n",
              "    }\n",
              "\n",
              "    .dataframe tbody tr th {\n",
              "        vertical-align: top;\n",
              "    }\n",
              "\n",
              "    .dataframe thead th {\n",
              "        text-align: right;\n",
              "    }\n",
              "</style>\n",
              "<table border=\"1\" class=\"dataframe\">\n",
              "  <thead>\n",
              "    <tr style=\"text-align: right;\">\n",
              "      <th></th>\n",
              "      <th>SK_ID_CURR</th>\n",
              "      <th>TARGET</th>\n",
              "      <th>CNT_CHILDREN</th>\n",
              "      <th>AMT_INCOME_TOTAL</th>\n",
              "      <th>AMT_CREDIT</th>\n",
              "      <th>AMT_ANNUITY</th>\n",
              "      <th>AMT_GOODS_PRICE</th>\n",
              "      <th>REGION_POPULATION_RELATIVE</th>\n",
              "      <th>DAYS_BIRTH</th>\n",
              "      <th>DAYS_EMPLOYED</th>\n",
              "      <th>DAYS_REGISTRATION</th>\n",
              "      <th>DAYS_ID_PUBLISH</th>\n",
              "      <th>OWN_CAR_AGE</th>\n",
              "      <th>FLAG_MOBIL</th>\n",
              "      <th>FLAG_EMP_PHONE</th>\n",
              "      <th>FLAG_WORK_PHONE</th>\n",
              "      <th>FLAG_CONT_MOBILE</th>\n",
              "      <th>FLAG_PHONE</th>\n",
              "      <th>FLAG_EMAIL</th>\n",
              "      <th>CNT_FAM_MEMBERS</th>\n",
              "      <th>REGION_RATING_CLIENT</th>\n",
              "      <th>REGION_RATING_CLIENT_W_CITY</th>\n",
              "      <th>HOUR_APPR_PROCESS_START</th>\n",
              "      <th>REG_REGION_NOT_LIVE_REGION</th>\n",
              "      <th>REG_REGION_NOT_WORK_REGION</th>\n",
              "      <th>LIVE_REGION_NOT_WORK_REGION</th>\n",
              "      <th>REG_CITY_NOT_LIVE_CITY</th>\n",
              "      <th>REG_CITY_NOT_WORK_CITY</th>\n",
              "      <th>LIVE_CITY_NOT_WORK_CITY</th>\n",
              "      <th>EXT_SOURCE_1</th>\n",
              "      <th>EXT_SOURCE_2</th>\n",
              "      <th>EXT_SOURCE_3</th>\n",
              "      <th>APARTMENTS_AVG</th>\n",
              "      <th>BASEMENTAREA_AVG</th>\n",
              "      <th>YEARS_BEGINEXPLUATATION_AVG</th>\n",
              "      <th>YEARS_BUILD_AVG</th>\n",
              "      <th>COMMONAREA_AVG</th>\n",
              "      <th>ELEVATORS_AVG</th>\n",
              "      <th>ENTRANCES_AVG</th>\n",
              "      <th>FLOORSMAX_AVG</th>\n",
              "      <th>FLOORSMIN_AVG</th>\n",
              "      <th>LANDAREA_AVG</th>\n",
              "      <th>LIVINGAPARTMENTS_AVG</th>\n",
              "      <th>LIVINGAREA_AVG</th>\n",
              "      <th>NONLIVINGAPARTMENTS_AVG</th>\n",
              "      <th>NONLIVINGAREA_AVG</th>\n",
              "      <th>APARTMENTS_MODE</th>\n",
              "      <th>BASEMENTAREA_MODE</th>\n",
              "      <th>YEARS_BEGINEXPLUATATION_MODE</th>\n",
              "      <th>YEARS_BUILD_MODE</th>\n",
              "      <th>COMMONAREA_MODE</th>\n",
              "      <th>ELEVATORS_MODE</th>\n",
              "      <th>ENTRANCES_MODE</th>\n",
              "      <th>FLOORSMAX_MODE</th>\n",
              "      <th>FLOORSMIN_MODE</th>\n",
              "      <th>LANDAREA_MODE</th>\n",
              "      <th>LIVINGAPARTMENTS_MODE</th>\n",
              "      <th>LIVINGAREA_MODE</th>\n",
              "      <th>NONLIVINGAPARTMENTS_MODE</th>\n",
              "      <th>NONLIVINGAREA_MODE</th>\n",
              "      <th>APARTMENTS_MEDI</th>\n",
              "      <th>BASEMENTAREA_MEDI</th>\n",
              "      <th>YEARS_BEGINEXPLUATATION_MEDI</th>\n",
              "      <th>YEARS_BUILD_MEDI</th>\n",
              "      <th>COMMONAREA_MEDI</th>\n",
              "      <th>ELEVATORS_MEDI</th>\n",
              "      <th>ENTRANCES_MEDI</th>\n",
              "      <th>FLOORSMAX_MEDI</th>\n",
              "      <th>FLOORSMIN_MEDI</th>\n",
              "      <th>LANDAREA_MEDI</th>\n",
              "      <th>LIVINGAPARTMENTS_MEDI</th>\n",
              "      <th>LIVINGAREA_MEDI</th>\n",
              "      <th>NONLIVINGAPARTMENTS_MEDI</th>\n",
              "      <th>NONLIVINGAREA_MEDI</th>\n",
              "      <th>TOTALAREA_MODE</th>\n",
              "      <th>OBS_30_CNT_SOCIAL_CIRCLE</th>\n",
              "      <th>DEF_30_CNT_SOCIAL_CIRCLE</th>\n",
              "      <th>OBS_60_CNT_SOCIAL_CIRCLE</th>\n",
              "      <th>DEF_60_CNT_SOCIAL_CIRCLE</th>\n",
              "      <th>DAYS_LAST_PHONE_CHANGE</th>\n",
              "      <th>FLAG_DOCUMENT_2</th>\n",
              "      <th>FLAG_DOCUMENT_3</th>\n",
              "      <th>FLAG_DOCUMENT_4</th>\n",
              "      <th>FLAG_DOCUMENT_5</th>\n",
              "      <th>FLAG_DOCUMENT_6</th>\n",
              "      <th>FLAG_DOCUMENT_7</th>\n",
              "      <th>FLAG_DOCUMENT_8</th>\n",
              "      <th>FLAG_DOCUMENT_9</th>\n",
              "      <th>FLAG_DOCUMENT_10</th>\n",
              "      <th>FLAG_DOCUMENT_11</th>\n",
              "      <th>FLAG_DOCUMENT_12</th>\n",
              "      <th>FLAG_DOCUMENT_13</th>\n",
              "      <th>FLAG_DOCUMENT_14</th>\n",
              "      <th>FLAG_DOCUMENT_15</th>\n",
              "      <th>FLAG_DOCUMENT_16</th>\n",
              "      <th>FLAG_DOCUMENT_17</th>\n",
              "      <th>FLAG_DOCUMENT_18</th>\n",
              "      <th>FLAG_DOCUMENT_19</th>\n",
              "      <th>FLAG_DOCUMENT_20</th>\n",
              "      <th>FLAG_DOCUMENT_21</th>\n",
              "      <th>AMT_REQ_CREDIT_BUREAU_HOUR</th>\n",
              "      <th>AMT_REQ_CREDIT_BUREAU_DAY</th>\n",
              "      <th>AMT_REQ_CREDIT_BUREAU_WEEK</th>\n",
              "      <th>AMT_REQ_CREDIT_BUREAU_MON</th>\n",
              "      <th>AMT_REQ_CREDIT_BUREAU_QRT</th>\n",
              "      <th>AMT_REQ_CREDIT_BUREAU_YEAR</th>\n",
              "    </tr>\n",
              "  </thead>\n",
              "  <tbody>\n",
              "    <tr>\n",
              "      <th>0</th>\n",
              "      <td>100002</td>\n",
              "      <td>1</td>\n",
              "      <td>0</td>\n",
              "      <td>202500.00</td>\n",
              "      <td>406597.50</td>\n",
              "      <td>24700.50</td>\n",
              "      <td>351000.00</td>\n",
              "      <td>0.02</td>\n",
              "      <td>-9461</td>\n",
              "      <td>-637</td>\n",
              "      <td>-3648.00</td>\n",
              "      <td>-2120</td>\n",
              "      <td>NaN</td>\n",
              "      <td>1</td>\n",
              "      <td>1</td>\n",
              "      <td>0</td>\n",
              "      <td>1</td>\n",
              "      <td>1</td>\n",
              "      <td>0</td>\n",
              "      <td>1.00</td>\n",
              "      <td>2</td>\n",
              "      <td>2</td>\n",
              "      <td>10</td>\n",
              "      <td>0</td>\n",
              "      <td>0</td>\n",
              "      <td>0</td>\n",
              "      <td>0</td>\n",
              "      <td>0</td>\n",
              "      <td>0</td>\n",
              "      <td>0.08</td>\n",
              "      <td>0.26</td>\n",
              "      <td>0.14</td>\n",
              "      <td>0.02</td>\n",
              "      <td>0.04</td>\n",
              "      <td>0.97</td>\n",
              "      <td>0.62</td>\n",
              "      <td>0.01</td>\n",
              "      <td>0.00</td>\n",
              "      <td>0.07</td>\n",
              "      <td>0.08</td>\n",
              "      <td>0.12</td>\n",
              "      <td>0.04</td>\n",
              "      <td>0.02</td>\n",
              "      <td>0.02</td>\n",
              "      <td>0.00</td>\n",
              "      <td>0.00</td>\n",
              "      <td>0.03</td>\n",
              "      <td>0.04</td>\n",
              "      <td>0.97</td>\n",
              "      <td>0.63</td>\n",
              "      <td>0.01</td>\n",
              "      <td>0.00</td>\n",
              "      <td>0.07</td>\n",
              "      <td>0.08</td>\n",
              "      <td>0.12</td>\n",
              "      <td>0.04</td>\n",
              "      <td>0.02</td>\n",
              "      <td>0.02</td>\n",
              "      <td>0.00</td>\n",
              "      <td>0.00</td>\n",
              "      <td>0.03</td>\n",
              "      <td>0.04</td>\n",
              "      <td>0.97</td>\n",
              "      <td>0.62</td>\n",
              "      <td>0.01</td>\n",
              "      <td>0.00</td>\n",
              "      <td>0.07</td>\n",
              "      <td>0.08</td>\n",
              "      <td>0.12</td>\n",
              "      <td>0.04</td>\n",
              "      <td>0.02</td>\n",
              "      <td>0.02</td>\n",
              "      <td>0.00</td>\n",
              "      <td>0.00</td>\n",
              "      <td>0.01</td>\n",
              "      <td>2.00</td>\n",
              "      <td>2.00</td>\n",
              "      <td>2.00</td>\n",
              "      <td>2.00</td>\n",
              "      <td>-1134.00</td>\n",
              "      <td>0</td>\n",
              "      <td>1</td>\n",
              "      <td>0</td>\n",
              "      <td>0</td>\n",
              "      <td>0</td>\n",
              "      <td>0</td>\n",
              "      <td>0</td>\n",
              "      <td>0</td>\n",
              "      <td>0</td>\n",
              "      <td>0</td>\n",
              "      <td>0</td>\n",
              "      <td>0</td>\n",
              "      <td>0</td>\n",
              "      <td>0</td>\n",
              "      <td>0</td>\n",
              "      <td>0</td>\n",
              "      <td>0</td>\n",
              "      <td>0</td>\n",
              "      <td>0</td>\n",
              "      <td>0</td>\n",
              "      <td>0.00</td>\n",
              "      <td>0.00</td>\n",
              "      <td>0.00</td>\n",
              "      <td>0.00</td>\n",
              "      <td>0.00</td>\n",
              "      <td>1.00</td>\n",
              "    </tr>\n",
              "    <tr>\n",
              "      <th>1</th>\n",
              "      <td>100003</td>\n",
              "      <td>0</td>\n",
              "      <td>0</td>\n",
              "      <td>270000.00</td>\n",
              "      <td>1293502.50</td>\n",
              "      <td>35698.50</td>\n",
              "      <td>1129500.00</td>\n",
              "      <td>0.00</td>\n",
              "      <td>-16765</td>\n",
              "      <td>-1188</td>\n",
              "      <td>-1186.00</td>\n",
              "      <td>-291</td>\n",
              "      <td>NaN</td>\n",
              "      <td>1</td>\n",
              "      <td>1</td>\n",
              "      <td>0</td>\n",
              "      <td>1</td>\n",
              "      <td>1</td>\n",
              "      <td>0</td>\n",
              "      <td>2.00</td>\n",
              "      <td>1</td>\n",
              "      <td>1</td>\n",
              "      <td>11</td>\n",
              "      <td>0</td>\n",
              "      <td>0</td>\n",
              "      <td>0</td>\n",
              "      <td>0</td>\n",
              "      <td>0</td>\n",
              "      <td>0</td>\n",
              "      <td>0.31</td>\n",
              "      <td>0.62</td>\n",
              "      <td>NaN</td>\n",
              "      <td>0.10</td>\n",
              "      <td>0.05</td>\n",
              "      <td>0.99</td>\n",
              "      <td>0.80</td>\n",
              "      <td>0.06</td>\n",
              "      <td>0.08</td>\n",
              "      <td>0.03</td>\n",
              "      <td>0.29</td>\n",
              "      <td>0.33</td>\n",
              "      <td>0.01</td>\n",
              "      <td>0.08</td>\n",
              "      <td>0.05</td>\n",
              "      <td>0.00</td>\n",
              "      <td>0.01</td>\n",
              "      <td>0.09</td>\n",
              "      <td>0.05</td>\n",
              "      <td>0.99</td>\n",
              "      <td>0.80</td>\n",
              "      <td>0.05</td>\n",
              "      <td>0.08</td>\n",
              "      <td>0.03</td>\n",
              "      <td>0.29</td>\n",
              "      <td>0.33</td>\n",
              "      <td>0.01</td>\n",
              "      <td>0.08</td>\n",
              "      <td>0.06</td>\n",
              "      <td>0.00</td>\n",
              "      <td>0.00</td>\n",
              "      <td>0.10</td>\n",
              "      <td>0.05</td>\n",
              "      <td>0.99</td>\n",
              "      <td>0.80</td>\n",
              "      <td>0.06</td>\n",
              "      <td>0.08</td>\n",
              "      <td>0.03</td>\n",
              "      <td>0.29</td>\n",
              "      <td>0.33</td>\n",
              "      <td>0.01</td>\n",
              "      <td>0.08</td>\n",
              "      <td>0.06</td>\n",
              "      <td>0.00</td>\n",
              "      <td>0.01</td>\n",
              "      <td>0.07</td>\n",
              "      <td>1.00</td>\n",
              "      <td>0.00</td>\n",
              "      <td>1.00</td>\n",
              "      <td>0.00</td>\n",
              "      <td>-828.00</td>\n",
              "      <td>0</td>\n",
              "      <td>1</td>\n",
              "      <td>0</td>\n",
              "      <td>0</td>\n",
              "      <td>0</td>\n",
              "      <td>0</td>\n",
              "      <td>0</td>\n",
              "      <td>0</td>\n",
              "      <td>0</td>\n",
              "      <td>0</td>\n",
              "      <td>0</td>\n",
              "      <td>0</td>\n",
              "      <td>0</td>\n",
              "      <td>0</td>\n",
              "      <td>0</td>\n",
              "      <td>0</td>\n",
              "      <td>0</td>\n",
              "      <td>0</td>\n",
              "      <td>0</td>\n",
              "      <td>0</td>\n",
              "      <td>0.00</td>\n",
              "      <td>0.00</td>\n",
              "      <td>0.00</td>\n",
              "      <td>0.00</td>\n",
              "      <td>0.00</td>\n",
              "      <td>0.00</td>\n",
              "    </tr>\n",
              "    <tr>\n",
              "      <th>2</th>\n",
              "      <td>100004</td>\n",
              "      <td>0</td>\n",
              "      <td>0</td>\n",
              "      <td>67500.00</td>\n",
              "      <td>135000.00</td>\n",
              "      <td>6750.00</td>\n",
              "      <td>135000.00</td>\n",
              "      <td>0.01</td>\n",
              "      <td>-19046</td>\n",
              "      <td>-225</td>\n",
              "      <td>-4260.00</td>\n",
              "      <td>-2531</td>\n",
              "      <td>26.00</td>\n",
              "      <td>1</td>\n",
              "      <td>1</td>\n",
              "      <td>1</td>\n",
              "      <td>1</td>\n",
              "      <td>1</td>\n",
              "      <td>0</td>\n",
              "      <td>1.00</td>\n",
              "      <td>2</td>\n",
              "      <td>2</td>\n",
              "      <td>9</td>\n",
              "      <td>0</td>\n",
              "      <td>0</td>\n",
              "      <td>0</td>\n",
              "      <td>0</td>\n",
              "      <td>0</td>\n",
              "      <td>0</td>\n",
              "      <td>NaN</td>\n",
              "      <td>0.56</td>\n",
              "      <td>0.73</td>\n",
              "      <td>NaN</td>\n",
              "      <td>NaN</td>\n",
              "      <td>NaN</td>\n",
              "      <td>NaN</td>\n",
              "      <td>NaN</td>\n",
              "      <td>NaN</td>\n",
              "      <td>NaN</td>\n",
              "      <td>NaN</td>\n",
              "      <td>NaN</td>\n",
              "      <td>NaN</td>\n",
              "      <td>NaN</td>\n",
              "      <td>NaN</td>\n",
              "      <td>NaN</td>\n",
              "      <td>NaN</td>\n",
              "      <td>NaN</td>\n",
              "      <td>NaN</td>\n",
              "      <td>NaN</td>\n",
              "      <td>NaN</td>\n",
              "      <td>NaN</td>\n",
              "      <td>NaN</td>\n",
              "      <td>NaN</td>\n",
              "      <td>NaN</td>\n",
              "      <td>NaN</td>\n",
              "      <td>NaN</td>\n",
              "      <td>NaN</td>\n",
              "      <td>NaN</td>\n",
              "      <td>NaN</td>\n",
              "      <td>NaN</td>\n",
              "      <td>NaN</td>\n",
              "      <td>NaN</td>\n",
              "      <td>NaN</td>\n",
              "      <td>NaN</td>\n",
              "      <td>NaN</td>\n",
              "      <td>NaN</td>\n",
              "      <td>NaN</td>\n",
              "      <td>NaN</td>\n",
              "      <td>NaN</td>\n",
              "      <td>NaN</td>\n",
              "      <td>NaN</td>\n",
              "      <td>NaN</td>\n",
              "      <td>NaN</td>\n",
              "      <td>NaN</td>\n",
              "      <td>NaN</td>\n",
              "      <td>0.00</td>\n",
              "      <td>0.00</td>\n",
              "      <td>0.00</td>\n",
              "      <td>0.00</td>\n",
              "      <td>-815.00</td>\n",
              "      <td>0</td>\n",
              "      <td>0</td>\n",
              "      <td>0</td>\n",
              "      <td>0</td>\n",
              "      <td>0</td>\n",
              "      <td>0</td>\n",
              "      <td>0</td>\n",
              "      <td>0</td>\n",
              "      <td>0</td>\n",
              "      <td>0</td>\n",
              "      <td>0</td>\n",
              "      <td>0</td>\n",
              "      <td>0</td>\n",
              "      <td>0</td>\n",
              "      <td>0</td>\n",
              "      <td>0</td>\n",
              "      <td>0</td>\n",
              "      <td>0</td>\n",
              "      <td>0</td>\n",
              "      <td>0</td>\n",
              "      <td>0.00</td>\n",
              "      <td>0.00</td>\n",
              "      <td>0.00</td>\n",
              "      <td>0.00</td>\n",
              "      <td>0.00</td>\n",
              "      <td>0.00</td>\n",
              "    </tr>\n",
              "    <tr>\n",
              "      <th>3</th>\n",
              "      <td>100006</td>\n",
              "      <td>0</td>\n",
              "      <td>0</td>\n",
              "      <td>135000.00</td>\n",
              "      <td>312682.50</td>\n",
              "      <td>29686.50</td>\n",
              "      <td>297000.00</td>\n",
              "      <td>0.01</td>\n",
              "      <td>-19005</td>\n",
              "      <td>-3039</td>\n",
              "      <td>-9833.00</td>\n",
              "      <td>-2437</td>\n",
              "      <td>NaN</td>\n",
              "      <td>1</td>\n",
              "      <td>1</td>\n",
              "      <td>0</td>\n",
              "      <td>1</td>\n",
              "      <td>0</td>\n",
              "      <td>0</td>\n",
              "      <td>2.00</td>\n",
              "      <td>2</td>\n",
              "      <td>2</td>\n",
              "      <td>17</td>\n",
              "      <td>0</td>\n",
              "      <td>0</td>\n",
              "      <td>0</td>\n",
              "      <td>0</td>\n",
              "      <td>0</td>\n",
              "      <td>0</td>\n",
              "      <td>NaN</td>\n",
              "      <td>0.65</td>\n",
              "      <td>NaN</td>\n",
              "      <td>NaN</td>\n",
              "      <td>NaN</td>\n",
              "      <td>NaN</td>\n",
              "      <td>NaN</td>\n",
              "      <td>NaN</td>\n",
              "      <td>NaN</td>\n",
              "      <td>NaN</td>\n",
              "      <td>NaN</td>\n",
              "      <td>NaN</td>\n",
              "      <td>NaN</td>\n",
              "      <td>NaN</td>\n",
              "      <td>NaN</td>\n",
              "      <td>NaN</td>\n",
              "      <td>NaN</td>\n",
              "      <td>NaN</td>\n",
              "      <td>NaN</td>\n",
              "      <td>NaN</td>\n",
              "      <td>NaN</td>\n",
              "      <td>NaN</td>\n",
              "      <td>NaN</td>\n",
              "      <td>NaN</td>\n",
              "      <td>NaN</td>\n",
              "      <td>NaN</td>\n",
              "      <td>NaN</td>\n",
              "      <td>NaN</td>\n",
              "      <td>NaN</td>\n",
              "      <td>NaN</td>\n",
              "      <td>NaN</td>\n",
              "      <td>NaN</td>\n",
              "      <td>NaN</td>\n",
              "      <td>NaN</td>\n",
              "      <td>NaN</td>\n",
              "      <td>NaN</td>\n",
              "      <td>NaN</td>\n",
              "      <td>NaN</td>\n",
              "      <td>NaN</td>\n",
              "      <td>NaN</td>\n",
              "      <td>NaN</td>\n",
              "      <td>NaN</td>\n",
              "      <td>NaN</td>\n",
              "      <td>NaN</td>\n",
              "      <td>NaN</td>\n",
              "      <td>NaN</td>\n",
              "      <td>2.00</td>\n",
              "      <td>0.00</td>\n",
              "      <td>2.00</td>\n",
              "      <td>0.00</td>\n",
              "      <td>-617.00</td>\n",
              "      <td>0</td>\n",
              "      <td>1</td>\n",
              "      <td>0</td>\n",
              "      <td>0</td>\n",
              "      <td>0</td>\n",
              "      <td>0</td>\n",
              "      <td>0</td>\n",
              "      <td>0</td>\n",
              "      <td>0</td>\n",
              "      <td>0</td>\n",
              "      <td>0</td>\n",
              "      <td>0</td>\n",
              "      <td>0</td>\n",
              "      <td>0</td>\n",
              "      <td>0</td>\n",
              "      <td>0</td>\n",
              "      <td>0</td>\n",
              "      <td>0</td>\n",
              "      <td>0</td>\n",
              "      <td>0</td>\n",
              "      <td>NaN</td>\n",
              "      <td>NaN</td>\n",
              "      <td>NaN</td>\n",
              "      <td>NaN</td>\n",
              "      <td>NaN</td>\n",
              "      <td>NaN</td>\n",
              "    </tr>\n",
              "    <tr>\n",
              "      <th>4</th>\n",
              "      <td>100007</td>\n",
              "      <td>0</td>\n",
              "      <td>0</td>\n",
              "      <td>121500.00</td>\n",
              "      <td>513000.00</td>\n",
              "      <td>21865.50</td>\n",
              "      <td>513000.00</td>\n",
              "      <td>0.03</td>\n",
              "      <td>-19932</td>\n",
              "      <td>-3038</td>\n",
              "      <td>-4311.00</td>\n",
              "      <td>-3458</td>\n",
              "      <td>NaN</td>\n",
              "      <td>1</td>\n",
              "      <td>1</td>\n",
              "      <td>0</td>\n",
              "      <td>1</td>\n",
              "      <td>0</td>\n",
              "      <td>0</td>\n",
              "      <td>1.00</td>\n",
              "      <td>2</td>\n",
              "      <td>2</td>\n",
              "      <td>11</td>\n",
              "      <td>0</td>\n",
              "      <td>0</td>\n",
              "      <td>0</td>\n",
              "      <td>0</td>\n",
              "      <td>1</td>\n",
              "      <td>1</td>\n",
              "      <td>NaN</td>\n",
              "      <td>0.32</td>\n",
              "      <td>NaN</td>\n",
              "      <td>NaN</td>\n",
              "      <td>NaN</td>\n",
              "      <td>NaN</td>\n",
              "      <td>NaN</td>\n",
              "      <td>NaN</td>\n",
              "      <td>NaN</td>\n",
              "      <td>NaN</td>\n",
              "      <td>NaN</td>\n",
              "      <td>NaN</td>\n",
              "      <td>NaN</td>\n",
              "      <td>NaN</td>\n",
              "      <td>NaN</td>\n",
              "      <td>NaN</td>\n",
              "      <td>NaN</td>\n",
              "      <td>NaN</td>\n",
              "      <td>NaN</td>\n",
              "      <td>NaN</td>\n",
              "      <td>NaN</td>\n",
              "      <td>NaN</td>\n",
              "      <td>NaN</td>\n",
              "      <td>NaN</td>\n",
              "      <td>NaN</td>\n",
              "      <td>NaN</td>\n",
              "      <td>NaN</td>\n",
              "      <td>NaN</td>\n",
              "      <td>NaN</td>\n",
              "      <td>NaN</td>\n",
              "      <td>NaN</td>\n",
              "      <td>NaN</td>\n",
              "      <td>NaN</td>\n",
              "      <td>NaN</td>\n",
              "      <td>NaN</td>\n",
              "      <td>NaN</td>\n",
              "      <td>NaN</td>\n",
              "      <td>NaN</td>\n",
              "      <td>NaN</td>\n",
              "      <td>NaN</td>\n",
              "      <td>NaN</td>\n",
              "      <td>NaN</td>\n",
              "      <td>NaN</td>\n",
              "      <td>NaN</td>\n",
              "      <td>NaN</td>\n",
              "      <td>NaN</td>\n",
              "      <td>0.00</td>\n",
              "      <td>0.00</td>\n",
              "      <td>0.00</td>\n",
              "      <td>0.00</td>\n",
              "      <td>-1106.00</td>\n",
              "      <td>0</td>\n",
              "      <td>0</td>\n",
              "      <td>0</td>\n",
              "      <td>0</td>\n",
              "      <td>0</td>\n",
              "      <td>0</td>\n",
              "      <td>1</td>\n",
              "      <td>0</td>\n",
              "      <td>0</td>\n",
              "      <td>0</td>\n",
              "      <td>0</td>\n",
              "      <td>0</td>\n",
              "      <td>0</td>\n",
              "      <td>0</td>\n",
              "      <td>0</td>\n",
              "      <td>0</td>\n",
              "      <td>0</td>\n",
              "      <td>0</td>\n",
              "      <td>0</td>\n",
              "      <td>0</td>\n",
              "      <td>0.00</td>\n",
              "      <td>0.00</td>\n",
              "      <td>0.00</td>\n",
              "      <td>0.00</td>\n",
              "      <td>0.00</td>\n",
              "      <td>0.00</td>\n",
              "    </tr>\n",
              "  </tbody>\n",
              "</table>\n",
              "</div>"
            ],
            "text/plain": [
              "   SK_ID_CURR  TARGET  CNT_CHILDREN  AMT_INCOME_TOTAL  AMT_CREDIT  \\\n",
              "0      100002       1             0         202500.00   406597.50   \n",
              "1      100003       0             0         270000.00  1293502.50   \n",
              "2      100004       0             0          67500.00   135000.00   \n",
              "3      100006       0             0         135000.00   312682.50   \n",
              "4      100007       0             0         121500.00   513000.00   \n",
              "\n",
              "   AMT_ANNUITY  AMT_GOODS_PRICE  REGION_POPULATION_RELATIVE  DAYS_BIRTH  \\\n",
              "0     24700.50        351000.00                        0.02       -9461   \n",
              "1     35698.50       1129500.00                        0.00      -16765   \n",
              "2      6750.00        135000.00                        0.01      -19046   \n",
              "3     29686.50        297000.00                        0.01      -19005   \n",
              "4     21865.50        513000.00                        0.03      -19932   \n",
              "\n",
              "   DAYS_EMPLOYED  DAYS_REGISTRATION  DAYS_ID_PUBLISH  OWN_CAR_AGE  FLAG_MOBIL  \\\n",
              "0           -637           -3648.00            -2120          NaN           1   \n",
              "1          -1188           -1186.00             -291          NaN           1   \n",
              "2           -225           -4260.00            -2531        26.00           1   \n",
              "3          -3039           -9833.00            -2437          NaN           1   \n",
              "4          -3038           -4311.00            -3458          NaN           1   \n",
              "\n",
              "   FLAG_EMP_PHONE  FLAG_WORK_PHONE  FLAG_CONT_MOBILE  FLAG_PHONE  FLAG_EMAIL  \\\n",
              "0               1                0                 1           1           0   \n",
              "1               1                0                 1           1           0   \n",
              "2               1                1                 1           1           0   \n",
              "3               1                0                 1           0           0   \n",
              "4               1                0                 1           0           0   \n",
              "\n",
              "   CNT_FAM_MEMBERS  REGION_RATING_CLIENT  REGION_RATING_CLIENT_W_CITY  \\\n",
              "0             1.00                     2                            2   \n",
              "1             2.00                     1                            1   \n",
              "2             1.00                     2                            2   \n",
              "3             2.00                     2                            2   \n",
              "4             1.00                     2                            2   \n",
              "\n",
              "   HOUR_APPR_PROCESS_START  REG_REGION_NOT_LIVE_REGION  \\\n",
              "0                       10                           0   \n",
              "1                       11                           0   \n",
              "2                        9                           0   \n",
              "3                       17                           0   \n",
              "4                       11                           0   \n",
              "\n",
              "   REG_REGION_NOT_WORK_REGION  LIVE_REGION_NOT_WORK_REGION  \\\n",
              "0                           0                            0   \n",
              "1                           0                            0   \n",
              "2                           0                            0   \n",
              "3                           0                            0   \n",
              "4                           0                            0   \n",
              "\n",
              "   REG_CITY_NOT_LIVE_CITY  REG_CITY_NOT_WORK_CITY  LIVE_CITY_NOT_WORK_CITY  \\\n",
              "0                       0                       0                        0   \n",
              "1                       0                       0                        0   \n",
              "2                       0                       0                        0   \n",
              "3                       0                       0                        0   \n",
              "4                       0                       1                        1   \n",
              "\n",
              "   EXT_SOURCE_1  EXT_SOURCE_2  EXT_SOURCE_3  APARTMENTS_AVG  BASEMENTAREA_AVG  \\\n",
              "0          0.08          0.26          0.14            0.02              0.04   \n",
              "1          0.31          0.62           NaN            0.10              0.05   \n",
              "2           NaN          0.56          0.73             NaN               NaN   \n",
              "3           NaN          0.65           NaN             NaN               NaN   \n",
              "4           NaN          0.32           NaN             NaN               NaN   \n",
              "\n",
              "   YEARS_BEGINEXPLUATATION_AVG  YEARS_BUILD_AVG  COMMONAREA_AVG  \\\n",
              "0                         0.97             0.62            0.01   \n",
              "1                         0.99             0.80            0.06   \n",
              "2                          NaN              NaN             NaN   \n",
              "3                          NaN              NaN             NaN   \n",
              "4                          NaN              NaN             NaN   \n",
              "\n",
              "   ELEVATORS_AVG  ENTRANCES_AVG  FLOORSMAX_AVG  FLOORSMIN_AVG  LANDAREA_AVG  \\\n",
              "0           0.00           0.07           0.08           0.12          0.04   \n",
              "1           0.08           0.03           0.29           0.33          0.01   \n",
              "2            NaN            NaN            NaN            NaN           NaN   \n",
              "3            NaN            NaN            NaN            NaN           NaN   \n",
              "4            NaN            NaN            NaN            NaN           NaN   \n",
              "\n",
              "   LIVINGAPARTMENTS_AVG  LIVINGAREA_AVG  NONLIVINGAPARTMENTS_AVG  \\\n",
              "0                  0.02            0.02                     0.00   \n",
              "1                  0.08            0.05                     0.00   \n",
              "2                   NaN             NaN                      NaN   \n",
              "3                   NaN             NaN                      NaN   \n",
              "4                   NaN             NaN                      NaN   \n",
              "\n",
              "   NONLIVINGAREA_AVG  APARTMENTS_MODE  BASEMENTAREA_MODE  \\\n",
              "0               0.00             0.03               0.04   \n",
              "1               0.01             0.09               0.05   \n",
              "2                NaN              NaN                NaN   \n",
              "3                NaN              NaN                NaN   \n",
              "4                NaN              NaN                NaN   \n",
              "\n",
              "   YEARS_BEGINEXPLUATATION_MODE  YEARS_BUILD_MODE  COMMONAREA_MODE  \\\n",
              "0                          0.97              0.63             0.01   \n",
              "1                          0.99              0.80             0.05   \n",
              "2                           NaN               NaN              NaN   \n",
              "3                           NaN               NaN              NaN   \n",
              "4                           NaN               NaN              NaN   \n",
              "\n",
              "   ELEVATORS_MODE  ENTRANCES_MODE  FLOORSMAX_MODE  FLOORSMIN_MODE  \\\n",
              "0            0.00            0.07            0.08            0.12   \n",
              "1            0.08            0.03            0.29            0.33   \n",
              "2             NaN             NaN             NaN             NaN   \n",
              "3             NaN             NaN             NaN             NaN   \n",
              "4             NaN             NaN             NaN             NaN   \n",
              "\n",
              "   LANDAREA_MODE  LIVINGAPARTMENTS_MODE  LIVINGAREA_MODE  \\\n",
              "0           0.04                   0.02             0.02   \n",
              "1           0.01                   0.08             0.06   \n",
              "2            NaN                    NaN              NaN   \n",
              "3            NaN                    NaN              NaN   \n",
              "4            NaN                    NaN              NaN   \n",
              "\n",
              "   NONLIVINGAPARTMENTS_MODE  NONLIVINGAREA_MODE  APARTMENTS_MEDI  \\\n",
              "0                      0.00                0.00             0.03   \n",
              "1                      0.00                0.00             0.10   \n",
              "2                       NaN                 NaN              NaN   \n",
              "3                       NaN                 NaN              NaN   \n",
              "4                       NaN                 NaN              NaN   \n",
              "\n",
              "   BASEMENTAREA_MEDI  YEARS_BEGINEXPLUATATION_MEDI  YEARS_BUILD_MEDI  \\\n",
              "0               0.04                          0.97              0.62   \n",
              "1               0.05                          0.99              0.80   \n",
              "2                NaN                           NaN               NaN   \n",
              "3                NaN                           NaN               NaN   \n",
              "4                NaN                           NaN               NaN   \n",
              "\n",
              "   COMMONAREA_MEDI  ELEVATORS_MEDI  ENTRANCES_MEDI  FLOORSMAX_MEDI  \\\n",
              "0             0.01            0.00            0.07            0.08   \n",
              "1             0.06            0.08            0.03            0.29   \n",
              "2              NaN             NaN             NaN             NaN   \n",
              "3              NaN             NaN             NaN             NaN   \n",
              "4              NaN             NaN             NaN             NaN   \n",
              "\n",
              "   FLOORSMIN_MEDI  LANDAREA_MEDI  LIVINGAPARTMENTS_MEDI  LIVINGAREA_MEDI  \\\n",
              "0            0.12           0.04                   0.02             0.02   \n",
              "1            0.33           0.01                   0.08             0.06   \n",
              "2             NaN            NaN                    NaN              NaN   \n",
              "3             NaN            NaN                    NaN              NaN   \n",
              "4             NaN            NaN                    NaN              NaN   \n",
              "\n",
              "   NONLIVINGAPARTMENTS_MEDI  NONLIVINGAREA_MEDI  TOTALAREA_MODE  \\\n",
              "0                      0.00                0.00            0.01   \n",
              "1                      0.00                0.01            0.07   \n",
              "2                       NaN                 NaN             NaN   \n",
              "3                       NaN                 NaN             NaN   \n",
              "4                       NaN                 NaN             NaN   \n",
              "\n",
              "   OBS_30_CNT_SOCIAL_CIRCLE  DEF_30_CNT_SOCIAL_CIRCLE  \\\n",
              "0                      2.00                      2.00   \n",
              "1                      1.00                      0.00   \n",
              "2                      0.00                      0.00   \n",
              "3                      2.00                      0.00   \n",
              "4                      0.00                      0.00   \n",
              "\n",
              "   OBS_60_CNT_SOCIAL_CIRCLE  DEF_60_CNT_SOCIAL_CIRCLE  DAYS_LAST_PHONE_CHANGE  \\\n",
              "0                      2.00                      2.00                -1134.00   \n",
              "1                      1.00                      0.00                 -828.00   \n",
              "2                      0.00                      0.00                 -815.00   \n",
              "3                      2.00                      0.00                 -617.00   \n",
              "4                      0.00                      0.00                -1106.00   \n",
              "\n",
              "   FLAG_DOCUMENT_2  FLAG_DOCUMENT_3  FLAG_DOCUMENT_4  FLAG_DOCUMENT_5  \\\n",
              "0                0                1                0                0   \n",
              "1                0                1                0                0   \n",
              "2                0                0                0                0   \n",
              "3                0                1                0                0   \n",
              "4                0                0                0                0   \n",
              "\n",
              "   FLAG_DOCUMENT_6  FLAG_DOCUMENT_7  FLAG_DOCUMENT_8  FLAG_DOCUMENT_9  \\\n",
              "0                0                0                0                0   \n",
              "1                0                0                0                0   \n",
              "2                0                0                0                0   \n",
              "3                0                0                0                0   \n",
              "4                0                0                1                0   \n",
              "\n",
              "   FLAG_DOCUMENT_10  FLAG_DOCUMENT_11  FLAG_DOCUMENT_12  FLAG_DOCUMENT_13  \\\n",
              "0                 0                 0                 0                 0   \n",
              "1                 0                 0                 0                 0   \n",
              "2                 0                 0                 0                 0   \n",
              "3                 0                 0                 0                 0   \n",
              "4                 0                 0                 0                 0   \n",
              "\n",
              "   FLAG_DOCUMENT_14  FLAG_DOCUMENT_15  FLAG_DOCUMENT_16  FLAG_DOCUMENT_17  \\\n",
              "0                 0                 0                 0                 0   \n",
              "1                 0                 0                 0                 0   \n",
              "2                 0                 0                 0                 0   \n",
              "3                 0                 0                 0                 0   \n",
              "4                 0                 0                 0                 0   \n",
              "\n",
              "   FLAG_DOCUMENT_18  FLAG_DOCUMENT_19  FLAG_DOCUMENT_20  FLAG_DOCUMENT_21  \\\n",
              "0                 0                 0                 0                 0   \n",
              "1                 0                 0                 0                 0   \n",
              "2                 0                 0                 0                 0   \n",
              "3                 0                 0                 0                 0   \n",
              "4                 0                 0                 0                 0   \n",
              "\n",
              "   AMT_REQ_CREDIT_BUREAU_HOUR  AMT_REQ_CREDIT_BUREAU_DAY  \\\n",
              "0                        0.00                       0.00   \n",
              "1                        0.00                       0.00   \n",
              "2                        0.00                       0.00   \n",
              "3                         NaN                        NaN   \n",
              "4                        0.00                       0.00   \n",
              "\n",
              "   AMT_REQ_CREDIT_BUREAU_WEEK  AMT_REQ_CREDIT_BUREAU_MON  \\\n",
              "0                        0.00                       0.00   \n",
              "1                        0.00                       0.00   \n",
              "2                        0.00                       0.00   \n",
              "3                         NaN                        NaN   \n",
              "4                        0.00                       0.00   \n",
              "\n",
              "   AMT_REQ_CREDIT_BUREAU_QRT  AMT_REQ_CREDIT_BUREAU_YEAR  \n",
              "0                       0.00                        1.00  \n",
              "1                       0.00                        0.00  \n",
              "2                       0.00                        0.00  \n",
              "3                        NaN                         NaN  \n",
              "4                       0.00                        0.00  "
            ]
          },
          "execution_count": 14,
          "metadata": {},
          "output_type": "execute_result"
        }
      ],
      "source": [
        "number_df.head()"
      ]
    },
    {
      "cell_type": "markdown",
      "metadata": {
        "id": "QChGGf3jJHO5"
      },
      "source": [
        "# Робота з некоректними типами даних"
      ]
    },
    {
      "cell_type": "markdown",
      "metadata": {
        "id": "LnRPrSqcJHO6"
      },
      "source": [
        "Перевірка, чи немає у нас стовпця з неправильним типом даних"
      ]
    },
    {
      "cell_type": "code",
      "execution_count": 15,
      "metadata": {
        "colab": {
          "base_uri": "https://localhost:8080/"
        },
        "execution": {
          "iopub.execute_input": "2021-07-13T08:25:22.426668Z",
          "iopub.status.busy": "2021-07-13T08:25:22.426394Z",
          "iopub.status.idle": "2021-07-13T08:25:22.437809Z",
          "shell.execute_reply": "2021-07-13T08:25:22.436796Z",
          "shell.execute_reply.started": "2021-07-13T08:25:22.426641Z"
        },
        "id": "d5kI_qq2JHO6",
        "outputId": "e49220f2-21ed-43a2-b8bb-1aebe81ac37e",
        "trusted": true
      },
      "outputs": [
        {
          "data": {
            "text/plain": [
              "SK_ID_CURR                      int64\n",
              "TARGET                          int64\n",
              "NAME_CONTRACT_TYPE             object\n",
              "CODE_GENDER                    object\n",
              "FLAG_OWN_CAR                   object\n",
              "                               ...   \n",
              "AMT_REQ_CREDIT_BUREAU_DAY     float64\n",
              "AMT_REQ_CREDIT_BUREAU_WEEK    float64\n",
              "AMT_REQ_CREDIT_BUREAU_MON     float64\n",
              "AMT_REQ_CREDIT_BUREAU_QRT     float64\n",
              "AMT_REQ_CREDIT_BUREAU_YEAR    float64\n",
              "Length: 122, dtype: object"
            ]
          },
          "execution_count": 15,
          "metadata": {},
          "output_type": "execute_result"
        }
      ],
      "source": [
        "df.dtypes"
      ]
    },
    {
      "cell_type": "markdown",
      "metadata": {
        "id": "vGIKONcJJHO6"
      },
      "source": [
        "Дивлячись на дані та відповідні їм типи даних, можна змінити тип стовпчика SKU."
      ]
    },
    {
      "cell_type": "code",
      "execution_count": 16,
      "metadata": {
        "id": "nBsdubuedm_2"
      },
      "outputs": [],
      "source": [
        "df.SK_ID_CURR = df['SK_ID_CURR'].astype('str')"
      ]
    },
    {
      "cell_type": "code",
      "execution_count": 17,
      "metadata": {},
      "outputs": [
        {
          "data": {
            "text/plain": [
              "SK_ID_CURR                     object\n",
              "TARGET                          int64\n",
              "NAME_CONTRACT_TYPE             object\n",
              "CODE_GENDER                    object\n",
              "FLAG_OWN_CAR                   object\n",
              "                               ...   \n",
              "AMT_REQ_CREDIT_BUREAU_DAY     float64\n",
              "AMT_REQ_CREDIT_BUREAU_WEEK    float64\n",
              "AMT_REQ_CREDIT_BUREAU_MON     float64\n",
              "AMT_REQ_CREDIT_BUREAU_QRT     float64\n",
              "AMT_REQ_CREDIT_BUREAU_YEAR    float64\n",
              "Length: 122, dtype: object"
            ]
          },
          "execution_count": 17,
          "metadata": {},
          "output_type": "execute_result"
        }
      ],
      "source": [
        "df.dtypes"
      ]
    },
    {
      "cell_type": "code",
      "execution_count": 18,
      "metadata": {},
      "outputs": [
        {
          "data": {
            "text/plain": [
              "FLAG_DOCUMENT_2\n",
              "0    307498\n",
              "1        13\n",
              "Name: count, dtype: int64"
            ]
          },
          "execution_count": 18,
          "metadata": {},
          "output_type": "execute_result"
        }
      ],
      "source": [
        "df['FLAG_DOCUMENT_2'].value_counts()"
      ]
    },
    {
      "cell_type": "markdown",
      "metadata": {
        "id": "N6iqMw3tdzD7"
      },
      "source": [
        "Також ми можемо змінити всі стовпці `flag` на тип даних, який є більш економний для зберігання."
      ]
    },
    {
      "cell_type": "markdown",
      "metadata": {
        "id": "NcsS7h8ogdTo"
      },
      "source": [
        "Ось скільки пам'яті в Мб займають наші дані зараз."
      ]
    },
    {
      "cell_type": "code",
      "execution_count": 19,
      "metadata": {
        "colab": {
          "base_uri": "https://localhost:8080/"
        },
        "id": "-ipM8FQGeOoK",
        "outputId": "8a531353-3417-4c5d-bbd7-2b6625c5c8be"
      },
      "outputs": [
        {
          "data": {
            "text/plain": [
              "286.22710037231445"
            ]
          },
          "execution_count": 19,
          "metadata": {},
          "output_type": "execute_result"
        }
      ],
      "source": [
        "df.memory_usage().sum()/1024/1024"
      ]
    },
    {
      "cell_type": "code",
      "execution_count": 20,
      "metadata": {
        "colab": {
          "base_uri": "https://localhost:8080/"
        },
        "id": "bxELPJwf-ndw",
        "outputId": "d9700bd1-413d-404a-d4d7-ab45142d85b3"
      },
      "outputs": [
        {
          "data": {
            "text/plain": [
              "Index                             132\n",
              "SK_ID_CURR                    2460088\n",
              "TARGET                        2460088\n",
              "NAME_CONTRACT_TYPE            2460088\n",
              "CODE_GENDER                   2460088\n",
              "                               ...   \n",
              "AMT_REQ_CREDIT_BUREAU_DAY     2460088\n",
              "AMT_REQ_CREDIT_BUREAU_WEEK    2460088\n",
              "AMT_REQ_CREDIT_BUREAU_MON     2460088\n",
              "AMT_REQ_CREDIT_BUREAU_QRT     2460088\n",
              "AMT_REQ_CREDIT_BUREAU_YEAR    2460088\n",
              "Length: 123, dtype: int64"
            ]
          },
          "execution_count": 20,
          "metadata": {},
          "output_type": "execute_result"
        }
      ],
      "source": [
        "df.memory_usage()"
      ]
    },
    {
      "cell_type": "code",
      "execution_count": 21,
      "metadata": {
        "colab": {
          "base_uri": "https://localhost:8080/",
          "height": 226
        },
        "id": "_PAwJI-ifQuS",
        "outputId": "066d2d8c-15cf-4198-e88d-3755bb3b4df7"
      },
      "outputs": [
        {
          "data": {
            "text/plain": [
              "False"
            ]
          },
          "execution_count": 21,
          "metadata": {},
          "output_type": "execute_result"
        }
      ],
      "source": [
        "'flag' in 'SK_ID_CURR'.lower()"
      ]
    },
    {
      "cell_type": "code",
      "execution_count": 22,
      "metadata": {
        "id": "IwutODE3d83T"
      },
      "outputs": [
        {
          "name": "stdout",
          "output_type": "stream",
          "text": [
            "[False, False, False, False, True, True, False, False, False, False, False, False, False, False, False, False, False, False, False, False, False, False, True, True, True, True, True, True, False, False, False, False, False, False, False, False, False, False, False, False, False, False, False, False, False, False, False, False, False, False, False, False, False, False, False, False, False, False, False, False, False, False, False, False, False, False, False, False, False, False, False, False, False, False, False, False, False, False, False, False, False, False, False, False, False, False, False, False, False, False, False, False, False, False, False, False, True, True, True, True, True, True, True, True, True, True, True, True, True, True, True, True, True, True, True, True, False, False, False, False, False, False]\n"
          ]
        }
      ],
      "source": [
        "# створюємо boolean маску\n",
        "flag_cols = ['flag' in col.lower() for col in df.columns]\n",
        "print(flag_cols)"
      ]
    },
    {
      "cell_type": "code",
      "execution_count": 23,
      "metadata": {
        "colab": {
          "base_uri": "https://localhost:8080/"
        },
        "id": "ecM5t39GeGwc",
        "outputId": "d54ccbe7-db9a-4b1f-ee49-3205ca3dab22"
      },
      "outputs": [
        {
          "data": {
            "text/plain": [
              "Index(['FLAG_OWN_CAR', 'FLAG_OWN_REALTY', 'FLAG_MOBIL', 'FLAG_EMP_PHONE',\n",
              "       'FLAG_WORK_PHONE', 'FLAG_CONT_MOBILE', 'FLAG_PHONE', 'FLAG_EMAIL',\n",
              "       'FLAG_DOCUMENT_2', 'FLAG_DOCUMENT_3', 'FLAG_DOCUMENT_4',\n",
              "       'FLAG_DOCUMENT_5', 'FLAG_DOCUMENT_6', 'FLAG_DOCUMENT_7',\n",
              "       'FLAG_DOCUMENT_8', 'FLAG_DOCUMENT_9', 'FLAG_DOCUMENT_10',\n",
              "       'FLAG_DOCUMENT_11', 'FLAG_DOCUMENT_12', 'FLAG_DOCUMENT_13',\n",
              "       'FLAG_DOCUMENT_14', 'FLAG_DOCUMENT_15', 'FLAG_DOCUMENT_16',\n",
              "       'FLAG_DOCUMENT_17', 'FLAG_DOCUMENT_18', 'FLAG_DOCUMENT_19',\n",
              "       'FLAG_DOCUMENT_20', 'FLAG_DOCUMENT_21'],\n",
              "      dtype='object')"
            ]
          },
          "execution_count": 23,
          "metadata": {},
          "output_type": "execute_result"
        }
      ],
      "source": [
        "df.columns[flag_cols]"
      ]
    },
    {
      "cell_type": "code",
      "execution_count": 24,
      "metadata": {},
      "outputs": [
        {
          "data": {
            "text/html": [
              "<div>\n",
              "<style scoped>\n",
              "    .dataframe tbody tr th:only-of-type {\n",
              "        vertical-align: middle;\n",
              "    }\n",
              "\n",
              "    .dataframe tbody tr th {\n",
              "        vertical-align: top;\n",
              "    }\n",
              "\n",
              "    .dataframe thead th {\n",
              "        text-align: right;\n",
              "    }\n",
              "</style>\n",
              "<table border=\"1\" class=\"dataframe\">\n",
              "  <thead>\n",
              "    <tr style=\"text-align: right;\">\n",
              "      <th></th>\n",
              "      <th>FLAG_OWN_CAR</th>\n",
              "      <th>FLAG_OWN_REALTY</th>\n",
              "      <th>FLAG_MOBIL</th>\n",
              "      <th>FLAG_EMP_PHONE</th>\n",
              "      <th>FLAG_WORK_PHONE</th>\n",
              "      <th>FLAG_CONT_MOBILE</th>\n",
              "      <th>FLAG_PHONE</th>\n",
              "      <th>FLAG_EMAIL</th>\n",
              "      <th>FLAG_DOCUMENT_2</th>\n",
              "      <th>FLAG_DOCUMENT_3</th>\n",
              "      <th>FLAG_DOCUMENT_4</th>\n",
              "      <th>FLAG_DOCUMENT_5</th>\n",
              "      <th>FLAG_DOCUMENT_6</th>\n",
              "      <th>FLAG_DOCUMENT_7</th>\n",
              "      <th>FLAG_DOCUMENT_8</th>\n",
              "      <th>FLAG_DOCUMENT_9</th>\n",
              "      <th>FLAG_DOCUMENT_10</th>\n",
              "      <th>FLAG_DOCUMENT_11</th>\n",
              "      <th>FLAG_DOCUMENT_12</th>\n",
              "      <th>FLAG_DOCUMENT_13</th>\n",
              "      <th>FLAG_DOCUMENT_14</th>\n",
              "      <th>FLAG_DOCUMENT_15</th>\n",
              "      <th>FLAG_DOCUMENT_16</th>\n",
              "      <th>FLAG_DOCUMENT_17</th>\n",
              "      <th>FLAG_DOCUMENT_18</th>\n",
              "      <th>FLAG_DOCUMENT_19</th>\n",
              "      <th>FLAG_DOCUMENT_20</th>\n",
              "      <th>FLAG_DOCUMENT_21</th>\n",
              "    </tr>\n",
              "  </thead>\n",
              "  <tbody>\n",
              "    <tr>\n",
              "      <th>0</th>\n",
              "      <td>N</td>\n",
              "      <td>Y</td>\n",
              "      <td>1</td>\n",
              "      <td>1</td>\n",
              "      <td>0</td>\n",
              "      <td>1</td>\n",
              "      <td>1</td>\n",
              "      <td>0</td>\n",
              "      <td>0</td>\n",
              "      <td>1</td>\n",
              "      <td>0</td>\n",
              "      <td>0</td>\n",
              "      <td>0</td>\n",
              "      <td>0</td>\n",
              "      <td>0</td>\n",
              "      <td>0</td>\n",
              "      <td>0</td>\n",
              "      <td>0</td>\n",
              "      <td>0</td>\n",
              "      <td>0</td>\n",
              "      <td>0</td>\n",
              "      <td>0</td>\n",
              "      <td>0</td>\n",
              "      <td>0</td>\n",
              "      <td>0</td>\n",
              "      <td>0</td>\n",
              "      <td>0</td>\n",
              "      <td>0</td>\n",
              "    </tr>\n",
              "    <tr>\n",
              "      <th>1</th>\n",
              "      <td>N</td>\n",
              "      <td>N</td>\n",
              "      <td>1</td>\n",
              "      <td>1</td>\n",
              "      <td>0</td>\n",
              "      <td>1</td>\n",
              "      <td>1</td>\n",
              "      <td>0</td>\n",
              "      <td>0</td>\n",
              "      <td>1</td>\n",
              "      <td>0</td>\n",
              "      <td>0</td>\n",
              "      <td>0</td>\n",
              "      <td>0</td>\n",
              "      <td>0</td>\n",
              "      <td>0</td>\n",
              "      <td>0</td>\n",
              "      <td>0</td>\n",
              "      <td>0</td>\n",
              "      <td>0</td>\n",
              "      <td>0</td>\n",
              "      <td>0</td>\n",
              "      <td>0</td>\n",
              "      <td>0</td>\n",
              "      <td>0</td>\n",
              "      <td>0</td>\n",
              "      <td>0</td>\n",
              "      <td>0</td>\n",
              "    </tr>\n",
              "    <tr>\n",
              "      <th>2</th>\n",
              "      <td>Y</td>\n",
              "      <td>Y</td>\n",
              "      <td>1</td>\n",
              "      <td>1</td>\n",
              "      <td>1</td>\n",
              "      <td>1</td>\n",
              "      <td>1</td>\n",
              "      <td>0</td>\n",
              "      <td>0</td>\n",
              "      <td>0</td>\n",
              "      <td>0</td>\n",
              "      <td>0</td>\n",
              "      <td>0</td>\n",
              "      <td>0</td>\n",
              "      <td>0</td>\n",
              "      <td>0</td>\n",
              "      <td>0</td>\n",
              "      <td>0</td>\n",
              "      <td>0</td>\n",
              "      <td>0</td>\n",
              "      <td>0</td>\n",
              "      <td>0</td>\n",
              "      <td>0</td>\n",
              "      <td>0</td>\n",
              "      <td>0</td>\n",
              "      <td>0</td>\n",
              "      <td>0</td>\n",
              "      <td>0</td>\n",
              "    </tr>\n",
              "    <tr>\n",
              "      <th>3</th>\n",
              "      <td>N</td>\n",
              "      <td>Y</td>\n",
              "      <td>1</td>\n",
              "      <td>1</td>\n",
              "      <td>0</td>\n",
              "      <td>1</td>\n",
              "      <td>0</td>\n",
              "      <td>0</td>\n",
              "      <td>0</td>\n",
              "      <td>1</td>\n",
              "      <td>0</td>\n",
              "      <td>0</td>\n",
              "      <td>0</td>\n",
              "      <td>0</td>\n",
              "      <td>0</td>\n",
              "      <td>0</td>\n",
              "      <td>0</td>\n",
              "      <td>0</td>\n",
              "      <td>0</td>\n",
              "      <td>0</td>\n",
              "      <td>0</td>\n",
              "      <td>0</td>\n",
              "      <td>0</td>\n",
              "      <td>0</td>\n",
              "      <td>0</td>\n",
              "      <td>0</td>\n",
              "      <td>0</td>\n",
              "      <td>0</td>\n",
              "    </tr>\n",
              "    <tr>\n",
              "      <th>4</th>\n",
              "      <td>N</td>\n",
              "      <td>Y</td>\n",
              "      <td>1</td>\n",
              "      <td>1</td>\n",
              "      <td>0</td>\n",
              "      <td>1</td>\n",
              "      <td>0</td>\n",
              "      <td>0</td>\n",
              "      <td>0</td>\n",
              "      <td>0</td>\n",
              "      <td>0</td>\n",
              "      <td>0</td>\n",
              "      <td>0</td>\n",
              "      <td>0</td>\n",
              "      <td>1</td>\n",
              "      <td>0</td>\n",
              "      <td>0</td>\n",
              "      <td>0</td>\n",
              "      <td>0</td>\n",
              "      <td>0</td>\n",
              "      <td>0</td>\n",
              "      <td>0</td>\n",
              "      <td>0</td>\n",
              "      <td>0</td>\n",
              "      <td>0</td>\n",
              "      <td>0</td>\n",
              "      <td>0</td>\n",
              "      <td>0</td>\n",
              "    </tr>\n",
              "  </tbody>\n",
              "</table>\n",
              "</div>"
            ],
            "text/plain": [
              "  FLAG_OWN_CAR FLAG_OWN_REALTY  FLAG_MOBIL  FLAG_EMP_PHONE  FLAG_WORK_PHONE  \\\n",
              "0            N               Y           1               1                0   \n",
              "1            N               N           1               1                0   \n",
              "2            Y               Y           1               1                1   \n",
              "3            N               Y           1               1                0   \n",
              "4            N               Y           1               1                0   \n",
              "\n",
              "   FLAG_CONT_MOBILE  FLAG_PHONE  FLAG_EMAIL  FLAG_DOCUMENT_2  FLAG_DOCUMENT_3  \\\n",
              "0                 1           1           0                0                1   \n",
              "1                 1           1           0                0                1   \n",
              "2                 1           1           0                0                0   \n",
              "3                 1           0           0                0                1   \n",
              "4                 1           0           0                0                0   \n",
              "\n",
              "   FLAG_DOCUMENT_4  FLAG_DOCUMENT_5  FLAG_DOCUMENT_6  FLAG_DOCUMENT_7  \\\n",
              "0                0                0                0                0   \n",
              "1                0                0                0                0   \n",
              "2                0                0                0                0   \n",
              "3                0                0                0                0   \n",
              "4                0                0                0                0   \n",
              "\n",
              "   FLAG_DOCUMENT_8  FLAG_DOCUMENT_9  FLAG_DOCUMENT_10  FLAG_DOCUMENT_11  \\\n",
              "0                0                0                 0                 0   \n",
              "1                0                0                 0                 0   \n",
              "2                0                0                 0                 0   \n",
              "3                0                0                 0                 0   \n",
              "4                1                0                 0                 0   \n",
              "\n",
              "   FLAG_DOCUMENT_12  FLAG_DOCUMENT_13  FLAG_DOCUMENT_14  FLAG_DOCUMENT_15  \\\n",
              "0                 0                 0                 0                 0   \n",
              "1                 0                 0                 0                 0   \n",
              "2                 0                 0                 0                 0   \n",
              "3                 0                 0                 0                 0   \n",
              "4                 0                 0                 0                 0   \n",
              "\n",
              "   FLAG_DOCUMENT_16  FLAG_DOCUMENT_17  FLAG_DOCUMENT_18  FLAG_DOCUMENT_19  \\\n",
              "0                 0                 0                 0                 0   \n",
              "1                 0                 0                 0                 0   \n",
              "2                 0                 0                 0                 0   \n",
              "3                 0                 0                 0                 0   \n",
              "4                 0                 0                 0                 0   \n",
              "\n",
              "   FLAG_DOCUMENT_20  FLAG_DOCUMENT_21  \n",
              "0                 0                 0  \n",
              "1                 0                 0  \n",
              "2                 0                 0  \n",
              "3                 0                 0  \n",
              "4                 0                 0  "
            ]
          },
          "execution_count": 24,
          "metadata": {},
          "output_type": "execute_result"
        }
      ],
      "source": [
        "df[df.columns[flag_cols]].head()"
      ]
    },
    {
      "cell_type": "code",
      "execution_count": 25,
      "metadata": {},
      "outputs": [
        {
          "data": {
            "text/plain": [
              "FLAG_OWN_CAR        2\n",
              "FLAG_OWN_REALTY     2\n",
              "FLAG_MOBIL          2\n",
              "FLAG_EMP_PHONE      2\n",
              "FLAG_WORK_PHONE     2\n",
              "FLAG_CONT_MOBILE    2\n",
              "FLAG_PHONE          2\n",
              "FLAG_EMAIL          2\n",
              "FLAG_DOCUMENT_2     2\n",
              "FLAG_DOCUMENT_3     2\n",
              "FLAG_DOCUMENT_4     2\n",
              "FLAG_DOCUMENT_5     2\n",
              "FLAG_DOCUMENT_6     2\n",
              "FLAG_DOCUMENT_7     2\n",
              "FLAG_DOCUMENT_8     2\n",
              "FLAG_DOCUMENT_9     2\n",
              "FLAG_DOCUMENT_10    2\n",
              "FLAG_DOCUMENT_11    2\n",
              "FLAG_DOCUMENT_12    2\n",
              "FLAG_DOCUMENT_13    2\n",
              "FLAG_DOCUMENT_14    2\n",
              "FLAG_DOCUMENT_15    2\n",
              "FLAG_DOCUMENT_16    2\n",
              "FLAG_DOCUMENT_17    2\n",
              "FLAG_DOCUMENT_18    2\n",
              "FLAG_DOCUMENT_19    2\n",
              "FLAG_DOCUMENT_20    2\n",
              "FLAG_DOCUMENT_21    2\n",
              "dtype: int64"
            ]
          },
          "execution_count": 25,
          "metadata": {},
          "output_type": "execute_result"
        }
      ],
      "source": [
        "df[df.columns[flag_cols]].nunique()\n"
      ]
    },
    {
      "cell_type": "markdown",
      "metadata": {
        "id": "6cGeY6wVfAFF"
      },
      "source": [
        "Типи даних в pandas взяті з numpy, і ось тут список всіх типів даних в numpy:\n",
        "\n",
        "https://numpy.org/doc/stable/user/basics.types.html\n",
        "\n",
        "Кожен тип даних займає певну кількість байт у пам'яті. Давайте з'ясуємо, скільки займає 1 тип int8 та 1 тип int64 і скільки пам'яті ми заощадимо, якщо змінимо тип."
      ]
    },
    {
      "cell_type": "code",
      "execution_count": 26,
      "metadata": {
        "id": "8TWm4JWme-9_"
      },
      "outputs": [],
      "source": [
        "from sys import getsizeof"
      ]
    },
    {
      "cell_type": "code",
      "execution_count": 27,
      "metadata": {
        "colab": {
          "base_uri": "https://localhost:8080/"
        },
        "id": "LKHLb97lfoOX",
        "outputId": "709f8f12-32b1-46e9-a4be-8b65dc1ddfa7"
      },
      "outputs": [
        {
          "data": {
            "text/plain": [
              "25"
            ]
          },
          "execution_count": 27,
          "metadata": {},
          "output_type": "execute_result"
        }
      ],
      "source": [
        "getsizeof(np.int8(1))"
      ]
    },
    {
      "cell_type": "code",
      "execution_count": 28,
      "metadata": {
        "colab": {
          "base_uri": "https://localhost:8080/"
        },
        "id": "m5kRatWcfXCi",
        "outputId": "b7f18a84-8d62-4b4f-abed-3e0eec645963"
      },
      "outputs": [
        {
          "data": {
            "text/plain": [
              "32"
            ]
          },
          "execution_count": 28,
          "metadata": {},
          "output_type": "execute_result"
        }
      ],
      "source": [
        "getsizeof(np.int64(1))"
      ]
    },
    {
      "cell_type": "code",
      "execution_count": 29,
      "metadata": {
        "colab": {
          "base_uri": "https://localhost:8080/"
        },
        "id": "hf6vMkEtfvbG",
        "outputId": "aa97d38c-6d6e-4c82-92f9-cc849dc4602c"
      },
      "outputs": [
        {
          "data": {
            "text/plain": [
              "57.48000717163086"
            ]
          },
          "execution_count": 29,
          "metadata": {},
          "output_type": "execute_result"
        }
      ],
      "source": [
        "(32-25)*df.shape[0]*sum(flag_cols)/1024/1024"
      ]
    },
    {
      "cell_type": "markdown",
      "metadata": {
        "id": "2QCw34JagYt3"
      },
      "source": [
        "Отже, ми можемо потенційно заощадити 57 Мб пам'яті! І трансформувати наш фрейм даних буде простіше. Давайте змінимо тип.\n"
      ]
    },
    {
      "cell_type": "code",
      "execution_count": 30,
      "metadata": {},
      "outputs": [
        {
          "name": "stdout",
          "output_type": "stream",
          "text": [
            "<class 'pandas.core.frame.DataFrame'>\n",
            "RangeIndex: 307511 entries, 0 to 307510\n",
            "Columns: 122 entries, SK_ID_CURR to AMT_REQ_CREDIT_BUREAU_YEAR\n",
            "dtypes: float64(65), int64(40), object(17)\n",
            "memory usage: 286.2+ MB\n"
          ]
        }
      ],
      "source": [
        "df.info()"
      ]
    },
    {
      "cell_type": "code",
      "execution_count": 31,
      "metadata": {},
      "outputs": [
        {
          "data": {
            "text/html": [
              "<div>\n",
              "<style scoped>\n",
              "    .dataframe tbody tr th:only-of-type {\n",
              "        vertical-align: middle;\n",
              "    }\n",
              "\n",
              "    .dataframe tbody tr th {\n",
              "        vertical-align: top;\n",
              "    }\n",
              "\n",
              "    .dataframe thead th {\n",
              "        text-align: right;\n",
              "    }\n",
              "</style>\n",
              "<table border=\"1\" class=\"dataframe\">\n",
              "  <thead>\n",
              "    <tr style=\"text-align: right;\">\n",
              "      <th></th>\n",
              "      <th>FLAG_OWN_REALTY</th>\n",
              "      <th>FLAG_OWN_CAR</th>\n",
              "    </tr>\n",
              "  </thead>\n",
              "  <tbody>\n",
              "    <tr>\n",
              "      <th>0</th>\n",
              "      <td>Y</td>\n",
              "      <td>N</td>\n",
              "    </tr>\n",
              "    <tr>\n",
              "      <th>1</th>\n",
              "      <td>N</td>\n",
              "      <td>N</td>\n",
              "    </tr>\n",
              "    <tr>\n",
              "      <th>2</th>\n",
              "      <td>Y</td>\n",
              "      <td>Y</td>\n",
              "    </tr>\n",
              "    <tr>\n",
              "      <th>3</th>\n",
              "      <td>Y</td>\n",
              "      <td>N</td>\n",
              "    </tr>\n",
              "    <tr>\n",
              "      <th>4</th>\n",
              "      <td>Y</td>\n",
              "      <td>N</td>\n",
              "    </tr>\n",
              "  </tbody>\n",
              "</table>\n",
              "</div>"
            ],
            "text/plain": [
              "  FLAG_OWN_REALTY FLAG_OWN_CAR\n",
              "0               Y            N\n",
              "1               N            N\n",
              "2               Y            Y\n",
              "3               Y            N\n",
              "4               Y            N"
            ]
          },
          "execution_count": 31,
          "metadata": {},
          "output_type": "execute_result"
        }
      ],
      "source": [
        "# флаг колонки з строковими значеннями\n",
        "str_flag_cols = ['FLAG_OWN_REALTY', 'FLAG_OWN_CAR']\n",
        "df[str_flag_cols].head()"
      ]
    },
    {
      "cell_type": "code",
      "execution_count": 32,
      "metadata": {},
      "outputs": [],
      "source": [
        "for col in str_flag_cols:\n",
        "    df[col] = np.where(df[col] == 'Y', 1, 0)"
      ]
    },
    {
      "cell_type": "code",
      "execution_count": 33,
      "metadata": {},
      "outputs": [
        {
          "data": {
            "text/html": [
              "<div>\n",
              "<style scoped>\n",
              "    .dataframe tbody tr th:only-of-type {\n",
              "        vertical-align: middle;\n",
              "    }\n",
              "\n",
              "    .dataframe tbody tr th {\n",
              "        vertical-align: top;\n",
              "    }\n",
              "\n",
              "    .dataframe thead th {\n",
              "        text-align: right;\n",
              "    }\n",
              "</style>\n",
              "<table border=\"1\" class=\"dataframe\">\n",
              "  <thead>\n",
              "    <tr style=\"text-align: right;\">\n",
              "      <th></th>\n",
              "      <th>FLAG_OWN_REALTY</th>\n",
              "      <th>FLAG_OWN_CAR</th>\n",
              "    </tr>\n",
              "  </thead>\n",
              "  <tbody>\n",
              "    <tr>\n",
              "      <th>0</th>\n",
              "      <td>1</td>\n",
              "      <td>0</td>\n",
              "    </tr>\n",
              "    <tr>\n",
              "      <th>1</th>\n",
              "      <td>0</td>\n",
              "      <td>0</td>\n",
              "    </tr>\n",
              "    <tr>\n",
              "      <th>2</th>\n",
              "      <td>1</td>\n",
              "      <td>1</td>\n",
              "    </tr>\n",
              "    <tr>\n",
              "      <th>3</th>\n",
              "      <td>1</td>\n",
              "      <td>0</td>\n",
              "    </tr>\n",
              "    <tr>\n",
              "      <th>4</th>\n",
              "      <td>1</td>\n",
              "      <td>0</td>\n",
              "    </tr>\n",
              "  </tbody>\n",
              "</table>\n",
              "</div>"
            ],
            "text/plain": [
              "   FLAG_OWN_REALTY  FLAG_OWN_CAR\n",
              "0                1             0\n",
              "1                0             0\n",
              "2                1             1\n",
              "3                1             0\n",
              "4                1             0"
            ]
          },
          "execution_count": 33,
          "metadata": {},
          "output_type": "execute_result"
        }
      ],
      "source": [
        "df[str_flag_cols].head()"
      ]
    },
    {
      "cell_type": "code",
      "execution_count": 34,
      "metadata": {},
      "outputs": [
        {
          "data": {
            "text/plain": [
              "FLAG_OWN_REALTY    2\n",
              "FLAG_OWN_CAR       2\n",
              "dtype: int64"
            ]
          },
          "execution_count": 34,
          "metadata": {},
          "output_type": "execute_result"
        }
      ],
      "source": [
        "df[str_flag_cols].nunique()"
      ]
    },
    {
      "cell_type": "code",
      "execution_count": 35,
      "metadata": {},
      "outputs": [],
      "source": [
        "df[df.columns[flag_cols]] = df[df.columns[flag_cols]].astype(np.int8)"
      ]
    },
    {
      "cell_type": "code",
      "execution_count": 36,
      "metadata": {},
      "outputs": [
        {
          "data": {
            "text/plain": [
              "228.7470932006836"
            ]
          },
          "execution_count": 36,
          "metadata": {},
          "output_type": "execute_result"
        }
      ],
      "source": [
        "df.memory_usage().sum()/1024/1024"
      ]
    },
    {
      "cell_type": "code",
      "execution_count": 37,
      "metadata": {},
      "outputs": [
        {
          "name": "stdout",
          "output_type": "stream",
          "text": [
            "<class 'pandas.core.frame.DataFrame'>\n",
            "RangeIndex: 307511 entries, 0 to 307510\n",
            "Columns: 122 entries, SK_ID_CURR to AMT_REQ_CREDIT_BUREAU_YEAR\n",
            "dtypes: float64(65), int64(14), int8(28), object(15)\n",
            "memory usage: 228.7+ MB\n"
          ]
        }
      ],
      "source": [
        "df.info()"
      ]
    },
    {
      "cell_type": "markdown",
      "metadata": {
        "id": "OFzUNjBNJHO6"
      },
      "source": [
        "# Робота з пропущеними значеннями"
      ]
    },
    {
      "cell_type": "markdown",
      "metadata": {
        "id": "M4zMalCr4VOL"
      },
      "source": [
        "Найпростіше емпіричне правило для опрацювання пропущених значень: якщо пропущених значень більше за 40% - видаляємо колонку, якщо менше за 40% - аналізуємо, як можна заповнити і чи треба.\n",
        "\n",
        "Зазвичай, якщо відсоток пропущених даних більший за 10 і немає чіткої (яка значно виділяється) моди (найчастішого) значення в даних, то лишаємо дані як є до використання методів машинного навчання. Далі якщо метод вимагає заповення пропущених значень, можемо експериментувати із заповеннями. Також хорошою практикою є створити окрему колонку-флаг (0/1), яка вказує, де були пропущені значення - це буде додаткова ознака для моделі.\n"
      ]
    },
    {
      "cell_type": "markdown",
      "metadata": {
        "id": "gozIWOQGJHO6"
      },
      "source": [
        "Перевіримо, чи немає null-значень в нашому наборі даних"
      ]
    },
    {
      "cell_type": "code",
      "execution_count": 38,
      "metadata": {
        "colab": {
          "base_uri": "https://localhost:8080/"
        },
        "execution": {
          "iopub.execute_input": "2021-07-13T08:25:22.531885Z",
          "iopub.status.busy": "2021-07-13T08:25:22.531538Z",
          "iopub.status.idle": "2021-07-13T08:25:22.991604Z",
          "shell.execute_reply": "2021-07-13T08:25:22.990736Z",
          "shell.execute_reply.started": "2021-07-13T08:25:22.531847Z"
        },
        "id": "_XDVLOs1JHO6",
        "outputId": "a9b3ea8b-455b-4b27-817f-14b1904249fa",
        "trusted": true
      },
      "outputs": [
        {
          "data": {
            "text/plain": [
              "True"
            ]
          },
          "execution_count": 38,
          "metadata": {},
          "output_type": "execute_result"
        }
      ],
      "source": [
        "df.isnull().values.any()"
      ]
    },
    {
      "cell_type": "markdown",
      "metadata": {
        "id": "o76CTh7eJHO7"
      },
      "source": [
        "Порахуємо загальну кількість null-значень в наборі даних"
      ]
    },
    {
      "cell_type": "code",
      "execution_count": 39,
      "metadata": {
        "colab": {
          "base_uri": "https://localhost:8080/"
        },
        "execution": {
          "iopub.execute_input": "2021-07-13T08:25:22.993202Z",
          "iopub.status.busy": "2021-07-13T08:25:22.992721Z",
          "iopub.status.idle": "2021-07-13T08:25:23.471931Z",
          "shell.execute_reply": "2021-07-13T08:25:23.471048Z",
          "shell.execute_reply.started": "2021-07-13T08:25:22.993132Z"
        },
        "id": "KsSWN9F8JHO7",
        "outputId": "2d4625c9-67f5-49e7-caeb-6fd2c6d7947b",
        "trusted": true
      },
      "outputs": [
        {
          "data": {
            "text/plain": [
              "9152465"
            ]
          },
          "execution_count": 39,
          "metadata": {},
          "output_type": "execute_result"
        }
      ],
      "source": [
        "df.isnull().values.sum()"
      ]
    },
    {
      "cell_type": "markdown",
      "metadata": {
        "id": "L3f7Be4RJHO7"
      },
      "source": [
        "Сформуємо список із стовпців з null-значеннями"
      ]
    },
    {
      "cell_type": "code",
      "execution_count": 40,
      "metadata": {},
      "outputs": [
        {
          "data": {
            "text/plain": [
              "SK_ID_CURR                    False\n",
              "TARGET                        False\n",
              "NAME_CONTRACT_TYPE            False\n",
              "CODE_GENDER                   False\n",
              "FLAG_OWN_CAR                  False\n",
              "                              ...  \n",
              "AMT_REQ_CREDIT_BUREAU_DAY      True\n",
              "AMT_REQ_CREDIT_BUREAU_WEEK     True\n",
              "AMT_REQ_CREDIT_BUREAU_MON      True\n",
              "AMT_REQ_CREDIT_BUREAU_QRT      True\n",
              "AMT_REQ_CREDIT_BUREAU_YEAR     True\n",
              "Length: 122, dtype: bool"
            ]
          },
          "execution_count": 40,
          "metadata": {},
          "output_type": "execute_result"
        }
      ],
      "source": [
        "df.isnull().any()"
      ]
    },
    {
      "cell_type": "code",
      "execution_count": 41,
      "metadata": {
        "colab": {
          "base_uri": "https://localhost:8080/"
        },
        "execution": {
          "iopub.execute_input": "2021-07-13T08:25:23.473588Z",
          "iopub.status.busy": "2021-07-13T08:25:23.473197Z",
          "iopub.status.idle": "2021-07-13T08:25:23.901028Z",
          "shell.execute_reply": "2021-07-13T08:25:23.900166Z",
          "shell.execute_reply.started": "2021-07-13T08:25:23.473548Z"
        },
        "id": "f3tbvutrJHO7",
        "outputId": "827e232e-5903-4a05-b010-9996342034ec",
        "trusted": true
      },
      "outputs": [
        {
          "data": {
            "text/plain": [
              "Index(['AMT_ANNUITY', 'AMT_GOODS_PRICE', 'NAME_TYPE_SUITE', 'OWN_CAR_AGE',\n",
              "       'OCCUPATION_TYPE', 'CNT_FAM_MEMBERS', 'EXT_SOURCE_1', 'EXT_SOURCE_2',\n",
              "       'EXT_SOURCE_3', 'APARTMENTS_AVG', 'BASEMENTAREA_AVG',\n",
              "       'YEARS_BEGINEXPLUATATION_AVG', 'YEARS_BUILD_AVG', 'COMMONAREA_AVG',\n",
              "       'ELEVATORS_AVG', 'ENTRANCES_AVG', 'FLOORSMAX_AVG', 'FLOORSMIN_AVG',\n",
              "       'LANDAREA_AVG', 'LIVINGAPARTMENTS_AVG', 'LIVINGAREA_AVG',\n",
              "       'NONLIVINGAPARTMENTS_AVG', 'NONLIVINGAREA_AVG', 'APARTMENTS_MODE',\n",
              "       'BASEMENTAREA_MODE', 'YEARS_BEGINEXPLUATATION_MODE', 'YEARS_BUILD_MODE',\n",
              "       'COMMONAREA_MODE', 'ELEVATORS_MODE', 'ENTRANCES_MODE', 'FLOORSMAX_MODE',\n",
              "       'FLOORSMIN_MODE', 'LANDAREA_MODE', 'LIVINGAPARTMENTS_MODE',\n",
              "       'LIVINGAREA_MODE', 'NONLIVINGAPARTMENTS_MODE', 'NONLIVINGAREA_MODE',\n",
              "       'APARTMENTS_MEDI', 'BASEMENTAREA_MEDI', 'YEARS_BEGINEXPLUATATION_MEDI',\n",
              "       'YEARS_BUILD_MEDI', 'COMMONAREA_MEDI', 'ELEVATORS_MEDI',\n",
              "       'ENTRANCES_MEDI', 'FLOORSMAX_MEDI', 'FLOORSMIN_MEDI', 'LANDAREA_MEDI',\n",
              "       'LIVINGAPARTMENTS_MEDI', 'LIVINGAREA_MEDI', 'NONLIVINGAPARTMENTS_MEDI',\n",
              "       'NONLIVINGAREA_MEDI', 'FONDKAPREMONT_MODE', 'HOUSETYPE_MODE',\n",
              "       'TOTALAREA_MODE', 'WALLSMATERIAL_MODE', 'EMERGENCYSTATE_MODE',\n",
              "       'OBS_30_CNT_SOCIAL_CIRCLE', 'DEF_30_CNT_SOCIAL_CIRCLE',\n",
              "       'OBS_60_CNT_SOCIAL_CIRCLE', 'DEF_60_CNT_SOCIAL_CIRCLE',\n",
              "       'DAYS_LAST_PHONE_CHANGE', 'AMT_REQ_CREDIT_BUREAU_HOUR',\n",
              "       'AMT_REQ_CREDIT_BUREAU_DAY', 'AMT_REQ_CREDIT_BUREAU_WEEK',\n",
              "       'AMT_REQ_CREDIT_BUREAU_MON', 'AMT_REQ_CREDIT_BUREAU_QRT',\n",
              "       'AMT_REQ_CREDIT_BUREAU_YEAR'],\n",
              "      dtype='object')"
            ]
          },
          "execution_count": 41,
          "metadata": {},
          "output_type": "execute_result"
        }
      ],
      "source": [
        "df.columns[df.isnull().any()]"
      ]
    },
    {
      "cell_type": "code",
      "execution_count": 42,
      "metadata": {
        "colab": {
          "base_uri": "https://localhost:8080/"
        },
        "execution": {
          "iopub.execute_input": "2021-07-13T08:25:23.902325Z",
          "iopub.status.busy": "2021-07-13T08:25:23.902068Z",
          "iopub.status.idle": "2021-07-13T08:25:24.327355Z",
          "shell.execute_reply": "2021-07-13T08:25:24.326419Z",
          "shell.execute_reply.started": "2021-07-13T08:25:23.902301Z"
        },
        "id": "PVmjCdxpJHO7",
        "outputId": "db15a188-deb5-4305-b118-95cb17925461",
        "scrolled": true,
        "trusted": true
      },
      "outputs": [
        {
          "data": {
            "text/plain": [
              "67"
            ]
          },
          "execution_count": 42,
          "metadata": {},
          "output_type": "execute_result"
        }
      ],
      "source": [
        "len(df.columns[df.isnull().any()])"
      ]
    },
    {
      "cell_type": "markdown",
      "metadata": {
        "id": "lY7iWOSxJHO7"
      },
      "source": [
        "Усього `67` стовпців мають одне або більше NULL-значень в даних"
      ]
    },
    {
      "cell_type": "markdown",
      "metadata": {
        "id": "6w0-3IioJHO7"
      },
      "source": [
        "## Кількість та відсоток пропущених значень у стовпцях"
      ]
    },
    {
      "cell_type": "code",
      "execution_count": 43,
      "metadata": {},
      "outputs": [
        {
          "data": {
            "text/plain": [
              "pandas.core.series.Series"
            ]
          },
          "execution_count": 43,
          "metadata": {},
          "output_type": "execute_result"
        }
      ],
      "source": [
        "type(df.select_dtypes(exclude='object').head(10).sum())"
      ]
    },
    {
      "cell_type": "code",
      "execution_count": 44,
      "metadata": {
        "execution": {
          "iopub.execute_input": "2021-07-13T08:25:24.329002Z",
          "iopub.status.busy": "2021-07-13T08:25:24.328626Z",
          "iopub.status.idle": "2021-07-13T08:25:25.282233Z",
          "shell.execute_reply": "2021-07-13T08:25:25.281356Z",
          "shell.execute_reply.started": "2021-07-13T08:25:24.328963Z"
        },
        "id": "PtfvMyDkJHPB",
        "trusted": true
      },
      "outputs": [],
      "source": [
        "null_count = df.isnull().sum()\n",
        "null_percentage = round((df.isnull().sum()/df.shape[0])*100, 2)"
      ]
    },
    {
      "cell_type": "code",
      "execution_count": 45,
      "metadata": {
        "colab": {
          "base_uri": "https://localhost:8080/"
        },
        "id": "kr8Zmq9MEpJm",
        "outputId": "70f79c47-fb94-47a6-f9fc-7e8a8bfb0b2a"
      },
      "outputs": [
        {
          "data": {
            "text/plain": [
              "307511"
            ]
          },
          "execution_count": 45,
          "metadata": {},
          "output_type": "execute_result"
        }
      ],
      "source": [
        "df.shape[0]"
      ]
    },
    {
      "cell_type": "code",
      "execution_count": 46,
      "metadata": {
        "execution": {
          "iopub.execute_input": "2021-07-13T08:25:25.283981Z",
          "iopub.status.busy": "2021-07-13T08:25:25.283586Z",
          "iopub.status.idle": "2021-07-13T08:25:25.292971Z",
          "shell.execute_reply": "2021-07-13T08:25:25.292007Z",
          "shell.execute_reply.started": "2021-07-13T08:25:25.283934Z"
        },
        "id": "uXmpXKf4JHPB",
        "trusted": true
      },
      "outputs": [
        {
          "data": {
            "text/html": [
              "<div>\n",
              "<style scoped>\n",
              "    .dataframe tbody tr th:only-of-type {\n",
              "        vertical-align: middle;\n",
              "    }\n",
              "\n",
              "    .dataframe tbody tr th {\n",
              "        vertical-align: top;\n",
              "    }\n",
              "\n",
              "    .dataframe thead th {\n",
              "        text-align: right;\n",
              "    }\n",
              "</style>\n",
              "<table border=\"1\" class=\"dataframe\">\n",
              "  <thead>\n",
              "    <tr style=\"text-align: right;\">\n",
              "      <th></th>\n",
              "      <th>column_name</th>\n",
              "      <th>null_count</th>\n",
              "      <th>null_percentage</th>\n",
              "    </tr>\n",
              "  </thead>\n",
              "  <tbody>\n",
              "    <tr>\n",
              "      <th>0</th>\n",
              "      <td>SK_ID_CURR</td>\n",
              "      <td>0</td>\n",
              "      <td>0.00</td>\n",
              "    </tr>\n",
              "    <tr>\n",
              "      <th>1</th>\n",
              "      <td>TARGET</td>\n",
              "      <td>0</td>\n",
              "      <td>0.00</td>\n",
              "    </tr>\n",
              "    <tr>\n",
              "      <th>2</th>\n",
              "      <td>NAME_CONTRACT_TYPE</td>\n",
              "      <td>0</td>\n",
              "      <td>0.00</td>\n",
              "    </tr>\n",
              "    <tr>\n",
              "      <th>3</th>\n",
              "      <td>CODE_GENDER</td>\n",
              "      <td>0</td>\n",
              "      <td>0.00</td>\n",
              "    </tr>\n",
              "    <tr>\n",
              "      <th>4</th>\n",
              "      <td>FLAG_OWN_CAR</td>\n",
              "      <td>0</td>\n",
              "      <td>0.00</td>\n",
              "    </tr>\n",
              "    <tr>\n",
              "      <th>...</th>\n",
              "      <td>...</td>\n",
              "      <td>...</td>\n",
              "      <td>...</td>\n",
              "    </tr>\n",
              "    <tr>\n",
              "      <th>117</th>\n",
              "      <td>AMT_REQ_CREDIT_BUREAU_DAY</td>\n",
              "      <td>41519</td>\n",
              "      <td>13.50</td>\n",
              "    </tr>\n",
              "    <tr>\n",
              "      <th>118</th>\n",
              "      <td>AMT_REQ_CREDIT_BUREAU_WEEK</td>\n",
              "      <td>41519</td>\n",
              "      <td>13.50</td>\n",
              "    </tr>\n",
              "    <tr>\n",
              "      <th>119</th>\n",
              "      <td>AMT_REQ_CREDIT_BUREAU_MON</td>\n",
              "      <td>41519</td>\n",
              "      <td>13.50</td>\n",
              "    </tr>\n",
              "    <tr>\n",
              "      <th>120</th>\n",
              "      <td>AMT_REQ_CREDIT_BUREAU_QRT</td>\n",
              "      <td>41519</td>\n",
              "      <td>13.50</td>\n",
              "    </tr>\n",
              "    <tr>\n",
              "      <th>121</th>\n",
              "      <td>AMT_REQ_CREDIT_BUREAU_YEAR</td>\n",
              "      <td>41519</td>\n",
              "      <td>13.50</td>\n",
              "    </tr>\n",
              "  </tbody>\n",
              "</table>\n",
              "<p>122 rows × 3 columns</p>\n",
              "</div>"
            ],
            "text/plain": [
              "                    column_name  null_count  null_percentage\n",
              "0                    SK_ID_CURR           0             0.00\n",
              "1                        TARGET           0             0.00\n",
              "2            NAME_CONTRACT_TYPE           0             0.00\n",
              "3                   CODE_GENDER           0             0.00\n",
              "4                  FLAG_OWN_CAR           0             0.00\n",
              "..                          ...         ...              ...\n",
              "117   AMT_REQ_CREDIT_BUREAU_DAY       41519            13.50\n",
              "118  AMT_REQ_CREDIT_BUREAU_WEEK       41519            13.50\n",
              "119   AMT_REQ_CREDIT_BUREAU_MON       41519            13.50\n",
              "120   AMT_REQ_CREDIT_BUREAU_QRT       41519            13.50\n",
              "121  AMT_REQ_CREDIT_BUREAU_YEAR       41519            13.50\n",
              "\n",
              "[122 rows x 3 columns]"
            ]
          },
          "execution_count": 46,
          "metadata": {},
          "output_type": "execute_result"
        }
      ],
      "source": [
        "null_df = pd.DataFrame({'column_name' : df.columns,'null_count' : null_count,'null_percentage': null_percentage})\n",
        "# null_df\n",
        "null_df.reset_index(drop = True, inplace = True)\n",
        "null_df\n"
      ]
    },
    {
      "cell_type": "code",
      "execution_count": 47,
      "metadata": {
        "colab": {
          "base_uri": "https://localhost:8080/",
          "height": 1000
        },
        "execution": {
          "iopub.execute_input": "2021-07-13T08:25:25.295491Z",
          "iopub.status.busy": "2021-07-13T08:25:25.295097Z",
          "iopub.status.idle": "2021-07-13T08:25:25.320404Z",
          "shell.execute_reply": "2021-07-13T08:25:25.319721Z",
          "shell.execute_reply.started": "2021-07-13T08:25:25.295455Z"
        },
        "id": "sMoDxIndJHPB",
        "outputId": "fecdfa5f-293d-45df-eaea-36d32f1bfa1f",
        "trusted": true
      },
      "outputs": [
        {
          "data": {
            "text/html": [
              "<div>\n",
              "<style scoped>\n",
              "    .dataframe tbody tr th:only-of-type {\n",
              "        vertical-align: middle;\n",
              "    }\n",
              "\n",
              "    .dataframe tbody tr th {\n",
              "        vertical-align: top;\n",
              "    }\n",
              "\n",
              "    .dataframe thead th {\n",
              "        text-align: right;\n",
              "    }\n",
              "</style>\n",
              "<table border=\"1\" class=\"dataframe\">\n",
              "  <thead>\n",
              "    <tr style=\"text-align: right;\">\n",
              "      <th></th>\n",
              "      <th>column_name</th>\n",
              "      <th>null_count</th>\n",
              "      <th>null_percentage</th>\n",
              "    </tr>\n",
              "  </thead>\n",
              "  <tbody>\n",
              "    <tr>\n",
              "      <th>76</th>\n",
              "      <td>COMMONAREA_MEDI</td>\n",
              "      <td>214865</td>\n",
              "      <td>69.87</td>\n",
              "    </tr>\n",
              "    <tr>\n",
              "      <th>48</th>\n",
              "      <td>COMMONAREA_AVG</td>\n",
              "      <td>214865</td>\n",
              "      <td>69.87</td>\n",
              "    </tr>\n",
              "    <tr>\n",
              "      <th>62</th>\n",
              "      <td>COMMONAREA_MODE</td>\n",
              "      <td>214865</td>\n",
              "      <td>69.87</td>\n",
              "    </tr>\n",
              "    <tr>\n",
              "      <th>70</th>\n",
              "      <td>NONLIVINGAPARTMENTS_MODE</td>\n",
              "      <td>213514</td>\n",
              "      <td>69.43</td>\n",
              "    </tr>\n",
              "    <tr>\n",
              "      <th>56</th>\n",
              "      <td>NONLIVINGAPARTMENTS_AVG</td>\n",
              "      <td>213514</td>\n",
              "      <td>69.43</td>\n",
              "    </tr>\n",
              "    <tr>\n",
              "      <th>...</th>\n",
              "      <td>...</td>\n",
              "      <td>...</td>\n",
              "      <td>...</td>\n",
              "    </tr>\n",
              "    <tr>\n",
              "      <th>14</th>\n",
              "      <td>NAME_FAMILY_STATUS</td>\n",
              "      <td>0</td>\n",
              "      <td>0.00</td>\n",
              "    </tr>\n",
              "    <tr>\n",
              "      <th>13</th>\n",
              "      <td>NAME_EDUCATION_TYPE</td>\n",
              "      <td>0</td>\n",
              "      <td>0.00</td>\n",
              "    </tr>\n",
              "    <tr>\n",
              "      <th>12</th>\n",
              "      <td>NAME_INCOME_TYPE</td>\n",
              "      <td>0</td>\n",
              "      <td>0.00</td>\n",
              "    </tr>\n",
              "    <tr>\n",
              "      <th>9</th>\n",
              "      <td>AMT_ANNUITY</td>\n",
              "      <td>12</td>\n",
              "      <td>0.00</td>\n",
              "    </tr>\n",
              "    <tr>\n",
              "      <th>0</th>\n",
              "      <td>SK_ID_CURR</td>\n",
              "      <td>0</td>\n",
              "      <td>0.00</td>\n",
              "    </tr>\n",
              "  </tbody>\n",
              "</table>\n",
              "<p>122 rows × 3 columns</p>\n",
              "</div>"
            ],
            "text/plain": [
              "                 column_name  null_count  null_percentage\n",
              "76           COMMONAREA_MEDI      214865            69.87\n",
              "48            COMMONAREA_AVG      214865            69.87\n",
              "62           COMMONAREA_MODE      214865            69.87\n",
              "70  NONLIVINGAPARTMENTS_MODE      213514            69.43\n",
              "56   NONLIVINGAPARTMENTS_AVG      213514            69.43\n",
              "..                       ...         ...              ...\n",
              "14        NAME_FAMILY_STATUS           0             0.00\n",
              "13       NAME_EDUCATION_TYPE           0             0.00\n",
              "12          NAME_INCOME_TYPE           0             0.00\n",
              "9                AMT_ANNUITY          12             0.00\n",
              "0                 SK_ID_CURR           0             0.00\n",
              "\n",
              "[122 rows x 3 columns]"
            ]
          },
          "execution_count": 47,
          "metadata": {},
          "output_type": "execute_result"
        }
      ],
      "source": [
        "null_df.sort_values(by = 'null_percentage', ascending = False)"
      ]
    },
    {
      "cell_type": "markdown",
      "metadata": {
        "id": "rVgRZYTLJHPB"
      },
      "source": [
        "## Видалення стовпців з NULL значеннями > 40%"
      ]
    },
    {
      "cell_type": "markdown",
      "metadata": {
        "id": "PxvYVHrWJHPB"
      },
      "source": [
        "Сформуємо список стовпців з NULL значеннями > 40% у список. Ми видалимо ці стовпці з датафрейму, оскільки в них занадто багато пропущених значень."
      ]
    },
    {
      "cell_type": "code",
      "execution_count": 48,
      "metadata": {
        "execution": {
          "iopub.execute_input": "2021-07-13T08:25:25.321766Z",
          "iopub.status.busy": "2021-07-13T08:25:25.321411Z",
          "iopub.status.idle": "2021-07-13T08:25:25.330563Z",
          "shell.execute_reply": "2021-07-13T08:25:25.329577Z",
          "shell.execute_reply.started": "2021-07-13T08:25:25.321739Z"
        },
        "id": "1X06jQS9JHPB",
        "trusted": true
      },
      "outputs": [],
      "source": [
        "cols_to_delete = null_df[null_df['null_percentage'] > 40].column_name.to_list()\n"
      ]
    },
    {
      "cell_type": "code",
      "execution_count": 49,
      "metadata": {
        "colab": {
          "base_uri": "https://localhost:8080/"
        },
        "execution": {
          "iopub.execute_input": "2021-07-13T08:25:25.348835Z",
          "iopub.status.busy": "2021-07-13T08:25:25.348549Z",
          "iopub.status.idle": "2021-07-13T08:25:25.353936Z",
          "shell.execute_reply": "2021-07-13T08:25:25.35302Z",
          "shell.execute_reply.started": "2021-07-13T08:25:25.348806Z"
        },
        "id": "GdvFHBJVJHPC",
        "outputId": "9a7fe9da-9d13-4aa0-bc4b-fad5a35e603b",
        "trusted": true
      },
      "outputs": [
        {
          "data": {
            "text/plain": [
              "['OWN_CAR_AGE',\n",
              " 'EXT_SOURCE_1',\n",
              " 'APARTMENTS_AVG',\n",
              " 'BASEMENTAREA_AVG',\n",
              " 'YEARS_BEGINEXPLUATATION_AVG',\n",
              " 'YEARS_BUILD_AVG',\n",
              " 'COMMONAREA_AVG',\n",
              " 'ELEVATORS_AVG',\n",
              " 'ENTRANCES_AVG',\n",
              " 'FLOORSMAX_AVG',\n",
              " 'FLOORSMIN_AVG',\n",
              " 'LANDAREA_AVG',\n",
              " 'LIVINGAPARTMENTS_AVG',\n",
              " 'LIVINGAREA_AVG',\n",
              " 'NONLIVINGAPARTMENTS_AVG',\n",
              " 'NONLIVINGAREA_AVG',\n",
              " 'APARTMENTS_MODE',\n",
              " 'BASEMENTAREA_MODE',\n",
              " 'YEARS_BEGINEXPLUATATION_MODE',\n",
              " 'YEARS_BUILD_MODE',\n",
              " 'COMMONAREA_MODE',\n",
              " 'ELEVATORS_MODE',\n",
              " 'ENTRANCES_MODE',\n",
              " 'FLOORSMAX_MODE',\n",
              " 'FLOORSMIN_MODE',\n",
              " 'LANDAREA_MODE',\n",
              " 'LIVINGAPARTMENTS_MODE',\n",
              " 'LIVINGAREA_MODE',\n",
              " 'NONLIVINGAPARTMENTS_MODE',\n",
              " 'NONLIVINGAREA_MODE',\n",
              " 'APARTMENTS_MEDI',\n",
              " 'BASEMENTAREA_MEDI',\n",
              " 'YEARS_BEGINEXPLUATATION_MEDI',\n",
              " 'YEARS_BUILD_MEDI',\n",
              " 'COMMONAREA_MEDI',\n",
              " 'ELEVATORS_MEDI',\n",
              " 'ENTRANCES_MEDI',\n",
              " 'FLOORSMAX_MEDI',\n",
              " 'FLOORSMIN_MEDI',\n",
              " 'LANDAREA_MEDI',\n",
              " 'LIVINGAPARTMENTS_MEDI',\n",
              " 'LIVINGAREA_MEDI',\n",
              " 'NONLIVINGAPARTMENTS_MEDI',\n",
              " 'NONLIVINGAREA_MEDI',\n",
              " 'FONDKAPREMONT_MODE',\n",
              " 'HOUSETYPE_MODE',\n",
              " 'TOTALAREA_MODE',\n",
              " 'WALLSMATERIAL_MODE',\n",
              " 'EMERGENCYSTATE_MODE']"
            ]
          },
          "execution_count": 49,
          "metadata": {},
          "output_type": "execute_result"
        }
      ],
      "source": [
        "cols_to_delete"
      ]
    },
    {
      "cell_type": "markdown",
      "metadata": {
        "id": "zZDMfF-zJHPC"
      },
      "source": [
        "Всього потрібно видалити `49` стовпців. Видалення їх з основного датафрейму **`df`**"
      ]
    },
    {
      "cell_type": "code",
      "execution_count": 50,
      "metadata": {
        "execution": {
          "iopub.execute_input": "2021-07-13T08:25:25.356427Z",
          "iopub.status.busy": "2021-07-13T08:25:25.356126Z",
          "iopub.status.idle": "2021-07-13T08:25:25.431792Z",
          "shell.execute_reply": "2021-07-13T08:25:25.431084Z",
          "shell.execute_reply.started": "2021-07-13T08:25:25.356402Z"
        },
        "id": "t1oTE8lTJHPC",
        "trusted": true
      },
      "outputs": [
        {
          "data": {
            "text/plain": [
              "49"
            ]
          },
          "execution_count": 50,
          "metadata": {},
          "output_type": "execute_result"
        }
      ],
      "source": [
        "len(cols_to_delete)"
      ]
    },
    {
      "cell_type": "code",
      "execution_count": 51,
      "metadata": {},
      "outputs": [],
      "source": [
        "df.drop(columns = cols_to_delete, inplace = True)"
      ]
    },
    {
      "cell_type": "markdown",
      "metadata": {
        "id": "5spy57mRJHPC"
      },
      "source": [
        "Перевірка підрахунку стовпців після видалення. Мало б залишитись лише `73` стовпці"
      ]
    },
    {
      "cell_type": "code",
      "execution_count": 52,
      "metadata": {
        "colab": {
          "base_uri": "https://localhost:8080/"
        },
        "execution": {
          "iopub.execute_input": "2021-07-13T08:25:25.433002Z",
          "iopub.status.busy": "2021-07-13T08:25:25.432778Z",
          "iopub.status.idle": "2021-07-13T08:25:25.43874Z",
          "shell.execute_reply": "2021-07-13T08:25:25.437813Z",
          "shell.execute_reply.started": "2021-07-13T08:25:25.432979Z"
        },
        "id": "3ePhhPJlJHPC",
        "outputId": "037792b3-e3cd-4cd6-8273-12a6bcbaea5d",
        "trusted": true
      },
      "outputs": [
        {
          "data": {
            "text/plain": [
              "(307511, 73)"
            ]
          },
          "execution_count": 52,
          "metadata": {},
          "output_type": "execute_result"
        }
      ],
      "source": [
        "df.shape"
      ]
    },
    {
      "cell_type": "markdown",
      "metadata": {
        "id": "OFYObMBZJHPC"
      },
      "source": [
        "## Перевірка стовпців з NULL значеннями < 40%"
      ]
    },
    {
      "cell_type": "markdown",
      "metadata": {
        "id": "wfH4zj-AJHPC"
      },
      "source": [
        "Створення датафрейму `null_df_under40` зі стовпцями, де відсоток пропущених значеннь менше 40%"
      ]
    },
    {
      "cell_type": "code",
      "execution_count": 53,
      "metadata": {
        "execution": {
          "iopub.execute_input": "2021-07-13T08:25:25.440618Z",
          "iopub.status.busy": "2021-07-13T08:25:25.440206Z",
          "iopub.status.idle": "2021-07-13T08:25:25.449377Z",
          "shell.execute_reply": "2021-07-13T08:25:25.448579Z",
          "shell.execute_reply.started": "2021-07-13T08:25:25.440566Z"
        },
        "id": "OPB6RSGEJHPD",
        "trusted": true
      },
      "outputs": [],
      "source": [
        "null_df_under40  = null_df[null_df['null_percentage'] < 40]"
      ]
    },
    {
      "cell_type": "code",
      "execution_count": 54,
      "metadata": {
        "colab": {
          "base_uri": "https://localhost:8080/",
          "height": 1000
        },
        "execution": {
          "iopub.execute_input": "2021-07-13T08:25:25.451079Z",
          "iopub.status.busy": "2021-07-13T08:25:25.450697Z",
          "iopub.status.idle": "2021-07-13T08:25:25.475249Z",
          "shell.execute_reply": "2021-07-13T08:25:25.474417Z",
          "shell.execute_reply.started": "2021-07-13T08:25:25.45104Z"
        },
        "id": "OBCOEyG1JHPD",
        "outputId": "6b1cfdd1-138f-4285-af13-edab91c7dafd",
        "trusted": true
      },
      "outputs": [
        {
          "data": {
            "text/html": [
              "<div>\n",
              "<style scoped>\n",
              "    .dataframe tbody tr th:only-of-type {\n",
              "        vertical-align: middle;\n",
              "    }\n",
              "\n",
              "    .dataframe tbody tr th {\n",
              "        vertical-align: top;\n",
              "    }\n",
              "\n",
              "    .dataframe thead th {\n",
              "        text-align: right;\n",
              "    }\n",
              "</style>\n",
              "<table border=\"1\" class=\"dataframe\">\n",
              "  <thead>\n",
              "    <tr style=\"text-align: right;\">\n",
              "      <th></th>\n",
              "      <th>column_name</th>\n",
              "      <th>null_count</th>\n",
              "      <th>null_percentage</th>\n",
              "    </tr>\n",
              "  </thead>\n",
              "  <tbody>\n",
              "    <tr>\n",
              "      <th>28</th>\n",
              "      <td>OCCUPATION_TYPE</td>\n",
              "      <td>96391</td>\n",
              "      <td>31.35</td>\n",
              "    </tr>\n",
              "    <tr>\n",
              "      <th>43</th>\n",
              "      <td>EXT_SOURCE_3</td>\n",
              "      <td>60965</td>\n",
              "      <td>19.83</td>\n",
              "    </tr>\n",
              "    <tr>\n",
              "      <th>121</th>\n",
              "      <td>AMT_REQ_CREDIT_BUREAU_YEAR</td>\n",
              "      <td>41519</td>\n",
              "      <td>13.50</td>\n",
              "    </tr>\n",
              "    <tr>\n",
              "      <th>120</th>\n",
              "      <td>AMT_REQ_CREDIT_BUREAU_QRT</td>\n",
              "      <td>41519</td>\n",
              "      <td>13.50</td>\n",
              "    </tr>\n",
              "    <tr>\n",
              "      <th>119</th>\n",
              "      <td>AMT_REQ_CREDIT_BUREAU_MON</td>\n",
              "      <td>41519</td>\n",
              "      <td>13.50</td>\n",
              "    </tr>\n",
              "    <tr>\n",
              "      <th>118</th>\n",
              "      <td>AMT_REQ_CREDIT_BUREAU_WEEK</td>\n",
              "      <td>41519</td>\n",
              "      <td>13.50</td>\n",
              "    </tr>\n",
              "    <tr>\n",
              "      <th>117</th>\n",
              "      <td>AMT_REQ_CREDIT_BUREAU_DAY</td>\n",
              "      <td>41519</td>\n",
              "      <td>13.50</td>\n",
              "    </tr>\n",
              "    <tr>\n",
              "      <th>116</th>\n",
              "      <td>AMT_REQ_CREDIT_BUREAU_HOUR</td>\n",
              "      <td>41519</td>\n",
              "      <td>13.50</td>\n",
              "    </tr>\n",
              "    <tr>\n",
              "      <th>11</th>\n",
              "      <td>NAME_TYPE_SUITE</td>\n",
              "      <td>1292</td>\n",
              "      <td>0.42</td>\n",
              "    </tr>\n",
              "    <tr>\n",
              "      <th>91</th>\n",
              "      <td>OBS_30_CNT_SOCIAL_CIRCLE</td>\n",
              "      <td>1021</td>\n",
              "      <td>0.33</td>\n",
              "    </tr>\n",
              "    <tr>\n",
              "      <th>92</th>\n",
              "      <td>DEF_30_CNT_SOCIAL_CIRCLE</td>\n",
              "      <td>1021</td>\n",
              "      <td>0.33</td>\n",
              "    </tr>\n",
              "    <tr>\n",
              "      <th>93</th>\n",
              "      <td>OBS_60_CNT_SOCIAL_CIRCLE</td>\n",
              "      <td>1021</td>\n",
              "      <td>0.33</td>\n",
              "    </tr>\n",
              "    <tr>\n",
              "      <th>94</th>\n",
              "      <td>DEF_60_CNT_SOCIAL_CIRCLE</td>\n",
              "      <td>1021</td>\n",
              "      <td>0.33</td>\n",
              "    </tr>\n",
              "    <tr>\n",
              "      <th>42</th>\n",
              "      <td>EXT_SOURCE_2</td>\n",
              "      <td>660</td>\n",
              "      <td>0.21</td>\n",
              "    </tr>\n",
              "    <tr>\n",
              "      <th>10</th>\n",
              "      <td>AMT_GOODS_PRICE</td>\n",
              "      <td>278</td>\n",
              "      <td>0.09</td>\n",
              "    </tr>\n",
              "    <tr>\n",
              "      <th>101</th>\n",
              "      <td>FLAG_DOCUMENT_7</td>\n",
              "      <td>0</td>\n",
              "      <td>0.00</td>\n",
              "    </tr>\n",
              "    <tr>\n",
              "      <th>95</th>\n",
              "      <td>DAYS_LAST_PHONE_CHANGE</td>\n",
              "      <td>1</td>\n",
              "      <td>0.00</td>\n",
              "    </tr>\n",
              "    <tr>\n",
              "      <th>96</th>\n",
              "      <td>FLAG_DOCUMENT_2</td>\n",
              "      <td>0</td>\n",
              "      <td>0.00</td>\n",
              "    </tr>\n",
              "    <tr>\n",
              "      <th>97</th>\n",
              "      <td>FLAG_DOCUMENT_3</td>\n",
              "      <td>0</td>\n",
              "      <td>0.00</td>\n",
              "    </tr>\n",
              "    <tr>\n",
              "      <th>98</th>\n",
              "      <td>FLAG_DOCUMENT_4</td>\n",
              "      <td>0</td>\n",
              "      <td>0.00</td>\n",
              "    </tr>\n",
              "  </tbody>\n",
              "</table>\n",
              "</div>"
            ],
            "text/plain": [
              "                    column_name  null_count  null_percentage\n",
              "28              OCCUPATION_TYPE       96391            31.35\n",
              "43                 EXT_SOURCE_3       60965            19.83\n",
              "121  AMT_REQ_CREDIT_BUREAU_YEAR       41519            13.50\n",
              "120   AMT_REQ_CREDIT_BUREAU_QRT       41519            13.50\n",
              "119   AMT_REQ_CREDIT_BUREAU_MON       41519            13.50\n",
              "118  AMT_REQ_CREDIT_BUREAU_WEEK       41519            13.50\n",
              "117   AMT_REQ_CREDIT_BUREAU_DAY       41519            13.50\n",
              "116  AMT_REQ_CREDIT_BUREAU_HOUR       41519            13.50\n",
              "11              NAME_TYPE_SUITE        1292             0.42\n",
              "91     OBS_30_CNT_SOCIAL_CIRCLE        1021             0.33\n",
              "92     DEF_30_CNT_SOCIAL_CIRCLE        1021             0.33\n",
              "93     OBS_60_CNT_SOCIAL_CIRCLE        1021             0.33\n",
              "94     DEF_60_CNT_SOCIAL_CIRCLE        1021             0.33\n",
              "42                 EXT_SOURCE_2         660             0.21\n",
              "10              AMT_GOODS_PRICE         278             0.09\n",
              "101             FLAG_DOCUMENT_7           0             0.00\n",
              "95       DAYS_LAST_PHONE_CHANGE           1             0.00\n",
              "96              FLAG_DOCUMENT_2           0             0.00\n",
              "97              FLAG_DOCUMENT_3           0             0.00\n",
              "98              FLAG_DOCUMENT_4           0             0.00"
            ]
          },
          "execution_count": 54,
          "metadata": {},
          "output_type": "execute_result"
        }
      ],
      "source": [
        "null_df_under40.sort_values(by = 'null_percentage', ascending = False).head(20)"
      ]
    },
    {
      "cell_type": "markdown",
      "metadata": {
        "id": "P--lfIpL3Gpt"
      },
      "source": [
        "Опрацюємо кожну з колонок."
      ]
    },
    {
      "cell_type": "markdown",
      "metadata": {
        "id": "CuwEkOngJHPD"
      },
      "source": [
        "### Аналіз стовпця `OCCUPATION_TYPE`\n",
        "\n",
        "- нульові значення = 31.35%"
      ]
    },
    {
      "cell_type": "code",
      "execution_count": 55,
      "metadata": {
        "colab": {
          "base_uri": "https://localhost:8080/"
        },
        "execution": {
          "iopub.execute_input": "2021-07-13T08:25:25.476563Z",
          "iopub.status.busy": "2021-07-13T08:25:25.476327Z",
          "iopub.status.idle": "2021-07-13T08:25:25.542625Z",
          "shell.execute_reply": "2021-07-13T08:25:25.541836Z",
          "shell.execute_reply.started": "2021-07-13T08:25:25.47654Z"
        },
        "id": "_ALKgHvtJHPD",
        "outputId": "5db3c319-447a-4311-f755-fa4d1eb6790b",
        "scrolled": true,
        "trusted": true
      },
      "outputs": [
        {
          "data": {
            "text/plain": [
              "OCCUPATION_TYPE\n",
              "Laborers                 55186\n",
              "Sales staff              32102\n",
              "Core staff               27570\n",
              "Managers                 21371\n",
              "Drivers                  18603\n",
              "High skill tech staff    11380\n",
              "Accountants               9813\n",
              "Medicine staff            8537\n",
              "Security staff            6721\n",
              "Cooking staff             5946\n",
              "Cleaning staff            4653\n",
              "Private service staff     2652\n",
              "Low-skill Laborers        2093\n",
              "Waiters/barmen staff      1348\n",
              "Secretaries               1305\n",
              "Realty agents              751\n",
              "HR staff                   563\n",
              "IT staff                   526\n",
              "Name: count, dtype: int64"
            ]
          },
          "execution_count": 55,
          "metadata": {},
          "output_type": "execute_result"
        }
      ],
      "source": [
        "df['OCCUPATION_TYPE'].value_counts()"
      ]
    },
    {
      "cell_type": "markdown",
      "metadata": {
        "id": "R3XxyBEHJHPD"
      },
      "source": [
        "Заміна NULL-значень на категорією `Unknown`"
      ]
    },
    {
      "cell_type": "code",
      "execution_count": 56,
      "metadata": {
        "execution": {
          "iopub.execute_input": "2021-07-13T08:25:25.544045Z",
          "iopub.status.busy": "2021-07-13T08:25:25.543598Z",
          "iopub.status.idle": "2021-07-13T08:25:25.58032Z",
          "shell.execute_reply": "2021-07-13T08:25:25.579575Z",
          "shell.execute_reply.started": "2021-07-13T08:25:25.544013Z"
        },
        "id": "Yt6WuOd8JHPE",
        "trusted": true
      },
      "outputs": [],
      "source": [
        "df['OCCUPATION_TYPE'].fillna(value = 'Unknown', inplace = True)"
      ]
    },
    {
      "cell_type": "code",
      "execution_count": 57,
      "metadata": {
        "colab": {
          "base_uri": "https://localhost:8080/",
          "height": 598
        },
        "execution": {
          "iopub.execute_input": "2021-07-13T08:25:25.581889Z",
          "iopub.status.busy": "2021-07-13T08:25:25.58144Z",
          "iopub.status.idle": "2021-07-13T08:25:26.169224Z",
          "shell.execute_reply": "2021-07-13T08:25:26.168388Z",
          "shell.execute_reply.started": "2021-07-13T08:25:25.581849Z"
        },
        "id": "-JfsvKOXJHPE",
        "outputId": "8d197ca9-298e-4adf-c241-e95484db66b5",
        "trusted": true
      },
      "outputs": [
        {
          "data": {
            "image/png": "[encoded data removed]",
            "text/plain": [
              "<Figure size 1000x500 with 1 Axes>"
            ]
          },
          "metadata": {},
          "output_type": "display_data"
        }
      ],
      "source": [
        "plt.figure(figsize=(10, 5))\n",
        "sns.countplot(data=df, x = 'OCCUPATION_TYPE')\n",
        "plt.xticks(rotation = 90)\n",
        "plt.show()"
      ]
    },
    {
      "cell_type": "markdown",
      "metadata": {
        "id": "NUCHCfQ_JHPE"
      },
      "source": [
        "**Спостереження**\n",
        "- Якщо поглянути на графік, то найбільшу кількість заявників на кредит мають `Laborers`\n",
        "- Для імпутації краще залишити дані як є (пропущені значення становлять 31,35%) і не проводити імпутацію за якоюсь константою, як-от мода або мін/макс медіана, якщо це числовий стовпчик, оскільки це може викривити дані в подальших розрахунках.\n",
        "\n",
        "Існує також можливість імпутації за допомогою більш \"розумних\" методів, але ми вивчимо їх пізніше, а зараз ми робимо те, що можемо, за допомогою деяких найпростіших перетворень."
      ]
    },
    {
      "cell_type": "markdown",
      "metadata": {
        "id": "unKx5lozJHPE"
      },
      "source": [
        "### Аналіз стовпця `EXT_SOURCE_3`\n",
        "\n",
        "- пропущені значення = 19.83%"
      ]
    },
    {
      "cell_type": "code",
      "execution_count": 58,
      "metadata": {
        "colab": {
          "base_uri": "https://localhost:8080/"
        },
        "execution": {
          "iopub.execute_input": "2021-07-13T08:25:26.170719Z",
          "iopub.status.busy": "2021-07-13T08:25:26.170402Z",
          "iopub.status.idle": "2021-07-13T08:25:26.183998Z",
          "shell.execute_reply": "2021-07-13T08:25:26.183219Z",
          "shell.execute_reply.started": "2021-07-13T08:25:26.170694Z"
        },
        "id": "mJspZKQsJHPE",
        "outputId": "c36f662b-be94-4395-f238-440b382c4747",
        "trusted": true
      },
      "outputs": [
        {
          "data": {
            "text/plain": [
              "EXT_SOURCE_3\n",
              "0.75    1460\n",
              "0.71    1315\n",
              "0.69    1276\n",
              "0.67    1191\n",
              "0.65    1154\n",
              "        ... \n",
              "0.02       1\n",
              "0.02       1\n",
              "0.02       1\n",
              "0.01       1\n",
              "0.04       1\n",
              "Name: count, Length: 814, dtype: int64"
            ]
          },
          "execution_count": 58,
          "metadata": {},
          "output_type": "execute_result"
        }
      ],
      "source": [
        "df.EXT_SOURCE_3.value_counts()"
      ]
    },
    {
      "cell_type": "code",
      "execution_count": 59,
      "metadata": {
        "colab": {
          "base_uri": "https://localhost:8080/",
          "height": 411
        },
        "execution": {
          "iopub.execute_input": "2021-07-13T08:25:26.18534Z",
          "iopub.status.busy": "2021-07-13T08:25:26.18506Z",
          "iopub.status.idle": "2021-07-13T08:25:26.28829Z",
          "shell.execute_reply": "2021-07-13T08:25:26.287264Z",
          "shell.execute_reply.started": "2021-07-13T08:25:26.185314Z"
        },
        "id": "UX_K2CEBJHPE",
        "outputId": "7e523efd-e78b-4c9b-e457-3d12a291e98b",
        "trusted": true
      },
      "outputs": [
        {
          "data": {
            "image/png": "[encoded data removed]",
            "text/plain": [
              "<Figure size 640x480 with 1 Axes>"
            ]
          },
          "metadata": {},
          "output_type": "display_data"
        }
      ],
      "source": [
        "sns.boxplot(x = df['EXT_SOURCE_3'])\n",
        "plt.show()"
      ]
    },
    {
      "cell_type": "markdown",
      "metadata": {
        "id": "tcorUP0XJHPF"
      },
      "source": [
        "Отримання процентильних значень для `EXT_SOURCE_3`"
      ]
    },
    {
      "cell_type": "code",
      "execution_count": 60,
      "metadata": {
        "colab": {
          "base_uri": "https://localhost:8080/"
        },
        "execution": {
          "iopub.execute_input": "2021-07-13T08:25:26.289784Z",
          "iopub.status.busy": "2021-07-13T08:25:26.289453Z",
          "iopub.status.idle": "2021-07-13T08:25:26.305374Z",
          "shell.execute_reply": "2021-07-13T08:25:26.30462Z",
          "shell.execute_reply.started": "2021-07-13T08:25:26.289756Z"
        },
        "id": "-8MjkiMfJHPF",
        "outputId": "a0a7480f-e618-4a18-c600-7cb60deb7ef1",
        "trusted": true
      },
      "outputs": [
        {
          "data": {
            "text/plain": [
              "0.01   0.06\n",
              "0.25   0.37\n",
              "0.50   0.54\n",
              "0.75   0.67\n",
              "1.00   0.90\n",
              "Name: EXT_SOURCE_3, dtype: float64"
            ]
          },
          "execution_count": 60,
          "metadata": {},
          "output_type": "execute_result"
        }
      ],
      "source": [
        "df.EXT_SOURCE_3.quantile(q=[0.01, 0.25, 0.5, 0.75, 1])"
      ]
    },
    {
      "cell_type": "code",
      "execution_count": 61,
      "metadata": {},
      "outputs": [
        {
          "data": {
            "text/plain": [
              "count   246546.00\n",
              "mean         0.51\n",
              "std          0.19\n",
              "min          0.00\n",
              "25%          0.37\n",
              "50%          0.54\n",
              "75%          0.67\n",
              "max          0.90\n",
              "Name: EXT_SOURCE_3, dtype: float64"
            ]
          },
          "execution_count": 61,
          "metadata": {},
          "output_type": "execute_result"
        }
      ],
      "source": [
        "df.EXT_SOURCE_3.describe()"
      ]
    },
    {
      "cell_type": "markdown",
      "metadata": {
        "id": "W7quC6YOJHPF"
      },
      "source": [
        "Найбільш повторюване значення в `EXT_SOURCE_3"
      ]
    },
    {
      "cell_type": "code",
      "execution_count": 62,
      "metadata": {},
      "outputs": [
        {
          "data": {
            "text/plain": [
              "0.746300213050371"
            ]
          },
          "execution_count": 62,
          "metadata": {},
          "output_type": "execute_result"
        }
      ],
      "source": [
        "df.EXT_SOURCE_3.mode()[0]"
      ]
    },
    {
      "cell_type": "markdown",
      "metadata": {
        "id": "HZlWxfPgJHPF"
      },
      "source": [
        "Перевірка середнього значення `EXT_SOURCE_3`"
      ]
    },
    {
      "cell_type": "code",
      "execution_count": 63,
      "metadata": {
        "colab": {
          "base_uri": "https://localhost:8080/"
        },
        "execution": {
          "iopub.execute_input": "2021-07-13T08:25:26.317315Z",
          "iopub.status.busy": "2021-07-13T08:25:26.316911Z",
          "iopub.status.idle": "2021-07-13T08:25:26.325212Z",
          "shell.execute_reply": "2021-07-13T08:25:26.324117Z",
          "shell.execute_reply.started": "2021-07-13T08:25:26.317278Z"
        },
        "id": "PSyDOGrAJHPF",
        "outputId": "a84a50ae-ef84-45b4-c9a7-30d23b4cb9cf",
        "trusted": true
      },
      "outputs": [
        {
          "data": {
            "text/plain": [
              "0.5108529061799658"
            ]
          },
          "execution_count": 63,
          "metadata": {},
          "output_type": "execute_result"
        }
      ],
      "source": [
        "df.EXT_SOURCE_3.mean()"
      ]
    },
    {
      "cell_type": "markdown",
      "metadata": {
        "id": "pXpJRdfzJHPG"
      },
      "source": [
        "**Спостереження**\n",
        "-  Дивлячись на діагараму розмаху, медіана становить 0,535276\n",
        "-  Найчастіше повторюване значення - 0,74630\n",
        "-  Середнє значення - 0,51085\n",
        "-  Хоча середнє та медіана є ближчими і можуть бути використані для імплікації, оскільки відсутнє відсоткове значення є більшим (19,83%), краще залишити дані як є і не проводити імплікації. Якщо метод вимагає імплікації, ми можемо імплікувати дані за допомогою медіани і створити ще один стовпчик, в якому буде позначено, які значення були імпліковані."
      ]
    },
    {
      "cell_type": "markdown",
      "metadata": {
        "id": "tTIM9m2nJHPG"
      },
      "source": [
        "# ДЗ 1. Аналіз стовпців `AMT_REQ_CREDIT_BUREAU` з пропущеними значеннями\n",
        "\n",
        "Виведіть середнє, моду, медіану та відсоток відсутніх даних для настуних колонок:\n",
        "\n",
        "-  `AMT_REQ_CREDIT_BUREAU_YEAR`\n",
        "-\t`AMT_REQ_CREDIT_BUREAU_QRT`\n",
        "-\t`AMT_REQ_CREDIT_BUREAU_MON`\n",
        "-\t`AMT_REQ_CREDIT_BUREAU_WEEK`\n",
        "-\t`AMT_REQ_CREDIT_BUREAU_DAY`\n",
        "-\t`AMT_REQ_CREDIT_BUREAU_HOUR`\n",
        "\n",
        "На основі виведених даних напишіть висновок про те, чи варто заповнювати пусті значення і якщо так, то яким чином?"
      ]
    },
    {
      "cell_type": "code",
      "execution_count": 64,
      "metadata": {},
      "outputs": [],
      "source": [
        "cols_to_analyze = ['AMT_REQ_CREDIT_BUREAU_YEAR', 'AMT_REQ_CREDIT_BUREAU_QRT', \n",
        "                   'AMT_REQ_CREDIT_BUREAU_MON', 'AMT_REQ_CREDIT_BUREAU_WEEK', \n",
        "                   'AMT_REQ_CREDIT_BUREAU_DAY', 'AMT_REQ_CREDIT_BUREAU_HOUR']\n",
        "# cols_to_analyze = null_df[(null_df['null_percentage'] < 40) & (null_df['null_percentage'] > 1)].column_name.to_list()"
      ]
    },
    {
      "cell_type": "code",
      "execution_count": 65,
      "metadata": {
        "id": "1hP4Ep9rRuXU"
      },
      "outputs": [],
      "source": [
        "# Варіант 1\n",
        "def analyze_missing_under40(col_name):\n",
        "\n",
        "    mean, mode, median = df[col_name].mean(), df[col_name].mode()[0], df[col_name].median()\n",
        "    col_null_percentage = null_df[null_df.column_name == col_name].null_percentage.iloc[0]\n",
        "    \n",
        "    return round(mean, 3), mode, median, col_null_percentage"
      ]
    },
    {
      "cell_type": "code",
      "execution_count": 66,
      "metadata": {},
      "outputs": [
        {
          "name": "stdout",
          "output_type": "stream",
          "text": [
            "Для колонки AMT_REQ_CREDIT_BUREAU_YEAR:\n",
            "Середнє: 1.9, Мода: 0.0, Медіана: 1.0, % пропущених значень: 13.5 \n",
            "\n",
            "Для колонки AMT_REQ_CREDIT_BUREAU_QRT:\n",
            "Середнє: 0.265, Мода: 0.0, Медіана: 0.0, % пропущених значень: 13.5 \n",
            "\n",
            "Для колонки AMT_REQ_CREDIT_BUREAU_MON:\n",
            "Середнє: 0.267, Мода: 0.0, Медіана: 0.0, % пропущених значень: 13.5 \n",
            "\n",
            "Для колонки AMT_REQ_CREDIT_BUREAU_WEEK:\n",
            "Середнє: 0.034, Мода: 0.0, Медіана: 0.0, % пропущених значень: 13.5 \n",
            "\n",
            "Для колонки AMT_REQ_CREDIT_BUREAU_DAY:\n",
            "Середнє: 0.007, Мода: 0.0, Медіана: 0.0, % пропущених значень: 13.5 \n",
            "\n",
            "Для колонки AMT_REQ_CREDIT_BUREAU_HOUR:\n",
            "Середнє: 0.006, Мода: 0.0, Медіана: 0.0, % пропущених значень: 13.5 \n",
            "\n"
          ]
        }
      ],
      "source": [
        "for col in cols_to_analyze:\n",
        "    res = analyze_missing_under40(col)\n",
        "    # print(f'Для колонки {col}:\\nСереднє значення: {res[0]}\\nМода: {res[1]}\\nМедіана: {res[2]}\\nВідсоток пропущених значень: {res[3]} \\n')\n",
        "    print(f'Для колонки {col}:\\nСереднє: {res[0]}, Мода: {res[1]}, Медіана: {res[2]}, % пропущених значень: {res[3]} \\n')\n"
      ]
    },
    {
      "cell_type": "code",
      "execution_count": 67,
      "metadata": {},
      "outputs": [
        {
          "data": {
            "text/html": [
              "<div>\n",
              "<style scoped>\n",
              "    .dataframe tbody tr th:only-of-type {\n",
              "        vertical-align: middle;\n",
              "    }\n",
              "\n",
              "    .dataframe tbody tr th {\n",
              "        vertical-align: top;\n",
              "    }\n",
              "\n",
              "    .dataframe thead th {\n",
              "        text-align: right;\n",
              "    }\n",
              "</style>\n",
              "<table border=\"1\" class=\"dataframe\">\n",
              "  <thead>\n",
              "    <tr style=\"text-align: right;\">\n",
              "      <th></th>\n",
              "      <th>column_name</th>\n",
              "      <th>null_percentage</th>\n",
              "    </tr>\n",
              "  </thead>\n",
              "  <tbody>\n",
              "    <tr>\n",
              "      <th>116</th>\n",
              "      <td>AMT_REQ_CREDIT_BUREAU_HOUR</td>\n",
              "      <td>13.50</td>\n",
              "    </tr>\n",
              "    <tr>\n",
              "      <th>117</th>\n",
              "      <td>AMT_REQ_CREDIT_BUREAU_DAY</td>\n",
              "      <td>13.50</td>\n",
              "    </tr>\n",
              "    <tr>\n",
              "      <th>118</th>\n",
              "      <td>AMT_REQ_CREDIT_BUREAU_WEEK</td>\n",
              "      <td>13.50</td>\n",
              "    </tr>\n",
              "    <tr>\n",
              "      <th>119</th>\n",
              "      <td>AMT_REQ_CREDIT_BUREAU_MON</td>\n",
              "      <td>13.50</td>\n",
              "    </tr>\n",
              "    <tr>\n",
              "      <th>120</th>\n",
              "      <td>AMT_REQ_CREDIT_BUREAU_QRT</td>\n",
              "      <td>13.50</td>\n",
              "    </tr>\n",
              "    <tr>\n",
              "      <th>121</th>\n",
              "      <td>AMT_REQ_CREDIT_BUREAU_YEAR</td>\n",
              "      <td>13.50</td>\n",
              "    </tr>\n",
              "  </tbody>\n",
              "</table>\n",
              "</div>"
            ],
            "text/plain": [
              "                    column_name  null_percentage\n",
              "116  AMT_REQ_CREDIT_BUREAU_HOUR            13.50\n",
              "117   AMT_REQ_CREDIT_BUREAU_DAY            13.50\n",
              "118  AMT_REQ_CREDIT_BUREAU_WEEK            13.50\n",
              "119   AMT_REQ_CREDIT_BUREAU_MON            13.50\n",
              "120   AMT_REQ_CREDIT_BUREAU_QRT            13.50\n",
              "121  AMT_REQ_CREDIT_BUREAU_YEAR            13.50"
            ]
          },
          "execution_count": 67,
          "metadata": {},
          "output_type": "execute_result"
        }
      ],
      "source": [
        "# Варіант 2\n",
        "# Відбираємо відсоток пропущених згачень для обраних колонок\n",
        "null_df[null_df.column_name.isin(cols_to_analyze)][['column_name','null_percentage']]"
      ]
    },
    {
      "cell_type": "code",
      "execution_count": 70,
      "metadata": {},
      "outputs": [
        {
          "data": {
            "text/html": [
              "<div>\n",
              "<style scoped>\n",
              "    .dataframe tbody tr th:only-of-type {\n",
              "        vertical-align: middle;\n",
              "    }\n",
              "\n",
              "    .dataframe tbody tr th {\n",
              "        vertical-align: top;\n",
              "    }\n",
              "\n",
              "    .dataframe thead th {\n",
              "        text-align: right;\n",
              "    }\n",
              "</style>\n",
              "<table border=\"1\" class=\"dataframe\">\n",
              "  <thead>\n",
              "    <tr style=\"text-align: right;\">\n",
              "      <th></th>\n",
              "      <th>mean</th>\n",
              "      <th>median</th>\n",
              "      <th>mode</th>\n",
              "    </tr>\n",
              "  </thead>\n",
              "  <tbody>\n",
              "    <tr>\n",
              "      <th>AMT_REQ_CREDIT_BUREAU_YEAR</th>\n",
              "      <td>1.90</td>\n",
              "      <td>1.00</td>\n",
              "      <td>0.00</td>\n",
              "    </tr>\n",
              "    <tr>\n",
              "      <th>AMT_REQ_CREDIT_BUREAU_QRT</th>\n",
              "      <td>0.27</td>\n",
              "      <td>0.00</td>\n",
              "      <td>0.00</td>\n",
              "    </tr>\n",
              "    <tr>\n",
              "      <th>AMT_REQ_CREDIT_BUREAU_MON</th>\n",
              "      <td>0.27</td>\n",
              "      <td>0.00</td>\n",
              "      <td>0.00</td>\n",
              "    </tr>\n",
              "    <tr>\n",
              "      <th>AMT_REQ_CREDIT_BUREAU_WEEK</th>\n",
              "      <td>0.03</td>\n",
              "      <td>0.00</td>\n",
              "      <td>0.00</td>\n",
              "    </tr>\n",
              "    <tr>\n",
              "      <th>AMT_REQ_CREDIT_BUREAU_DAY</th>\n",
              "      <td>0.01</td>\n",
              "      <td>0.00</td>\n",
              "      <td>0.00</td>\n",
              "    </tr>\n",
              "    <tr>\n",
              "      <th>AMT_REQ_CREDIT_BUREAU_HOUR</th>\n",
              "      <td>0.01</td>\n",
              "      <td>0.00</td>\n",
              "      <td>0.00</td>\n",
              "    </tr>\n",
              "  </tbody>\n",
              "</table>\n",
              "</div>"
            ],
            "text/plain": [
              "                            mean  median  mode\n",
              "AMT_REQ_CREDIT_BUREAU_YEAR  1.90    1.00  0.00\n",
              "AMT_REQ_CREDIT_BUREAU_QRT   0.27    0.00  0.00\n",
              "AMT_REQ_CREDIT_BUREAU_MON   0.27    0.00  0.00\n",
              "AMT_REQ_CREDIT_BUREAU_WEEK  0.03    0.00  0.00\n",
              "AMT_REQ_CREDIT_BUREAU_DAY   0.01    0.00  0.00\n",
              "AMT_REQ_CREDIT_BUREAU_HOUR  0.01    0.00  0.00"
            ]
          },
          "execution_count": 70,
          "metadata": {},
          "output_type": "execute_result"
        }
      ],
      "source": [
        "# Застосовуємо describe() для обраних колонок df та відбираємо колонки з середнім та меданою в новий датафрейм info_df\n",
        "info_df = df[cols_to_analyze].describe().T[['mean', '50%']]\n",
        "info_df = info_df.rename(columns={'50%': 'median'})\n",
        "# Рахуємо моду для обраних колонок\n",
        "mode = df[cols_to_analyze].mode().T\n",
        "# Додаємо колонку з модою до отриманого df\n",
        "info_df['mode'] = mode\n",
        "info_df"
      ]
    },
    {
      "cell_type": "code",
      "execution_count": 72,
      "metadata": {},
      "outputs": [
        {
          "data": {
            "text/html": [
              "<div>\n",
              "<style scoped>\n",
              "    .dataframe tbody tr th:only-of-type {\n",
              "        vertical-align: middle;\n",
              "    }\n",
              "\n",
              "    .dataframe tbody tr th {\n",
              "        vertical-align: top;\n",
              "    }\n",
              "\n",
              "    .dataframe thead th {\n",
              "        text-align: right;\n",
              "    }\n",
              "</style>\n",
              "<table border=\"1\" class=\"dataframe\">\n",
              "  <thead>\n",
              "    <tr style=\"text-align: right;\">\n",
              "      <th></th>\n",
              "      <th>count</th>\n",
              "      <th>mean</th>\n",
              "      <th>std</th>\n",
              "      <th>min</th>\n",
              "      <th>25%</th>\n",
              "      <th>50%</th>\n",
              "      <th>75%</th>\n",
              "      <th>max</th>\n",
              "    </tr>\n",
              "  </thead>\n",
              "  <tbody>\n",
              "    <tr>\n",
              "      <th>AMT_REQ_CREDIT_BUREAU_YEAR</th>\n",
              "      <td>265992.00</td>\n",
              "      <td>1.90</td>\n",
              "      <td>1.87</td>\n",
              "      <td>0.00</td>\n",
              "      <td>0.00</td>\n",
              "      <td>1.00</td>\n",
              "      <td>3.00</td>\n",
              "      <td>25.00</td>\n",
              "    </tr>\n",
              "    <tr>\n",
              "      <th>AMT_REQ_CREDIT_BUREAU_QRT</th>\n",
              "      <td>265992.00</td>\n",
              "      <td>0.27</td>\n",
              "      <td>0.79</td>\n",
              "      <td>0.00</td>\n",
              "      <td>0.00</td>\n",
              "      <td>0.00</td>\n",
              "      <td>0.00</td>\n",
              "      <td>261.00</td>\n",
              "    </tr>\n",
              "    <tr>\n",
              "      <th>AMT_REQ_CREDIT_BUREAU_MON</th>\n",
              "      <td>265992.00</td>\n",
              "      <td>0.27</td>\n",
              "      <td>0.92</td>\n",
              "      <td>0.00</td>\n",
              "      <td>0.00</td>\n",
              "      <td>0.00</td>\n",
              "      <td>0.00</td>\n",
              "      <td>27.00</td>\n",
              "    </tr>\n",
              "    <tr>\n",
              "      <th>AMT_REQ_CREDIT_BUREAU_WEEK</th>\n",
              "      <td>265992.00</td>\n",
              "      <td>0.03</td>\n",
              "      <td>0.20</td>\n",
              "      <td>0.00</td>\n",
              "      <td>0.00</td>\n",
              "      <td>0.00</td>\n",
              "      <td>0.00</td>\n",
              "      <td>8.00</td>\n",
              "    </tr>\n",
              "    <tr>\n",
              "      <th>AMT_REQ_CREDIT_BUREAU_DAY</th>\n",
              "      <td>265992.00</td>\n",
              "      <td>0.01</td>\n",
              "      <td>0.11</td>\n",
              "      <td>0.00</td>\n",
              "      <td>0.00</td>\n",
              "      <td>0.00</td>\n",
              "      <td>0.00</td>\n",
              "      <td>9.00</td>\n",
              "    </tr>\n",
              "    <tr>\n",
              "      <th>AMT_REQ_CREDIT_BUREAU_HOUR</th>\n",
              "      <td>265992.00</td>\n",
              "      <td>0.01</td>\n",
              "      <td>0.08</td>\n",
              "      <td>0.00</td>\n",
              "      <td>0.00</td>\n",
              "      <td>0.00</td>\n",
              "      <td>0.00</td>\n",
              "      <td>4.00</td>\n",
              "    </tr>\n",
              "  </tbody>\n",
              "</table>\n",
              "</div>"
            ],
            "text/plain": [
              "                               count  mean  std  min  25%  50%  75%    max\n",
              "AMT_REQ_CREDIT_BUREAU_YEAR 265992.00  1.90 1.87 0.00 0.00 1.00 3.00  25.00\n",
              "AMT_REQ_CREDIT_BUREAU_QRT  265992.00  0.27 0.79 0.00 0.00 0.00 0.00 261.00\n",
              "AMT_REQ_CREDIT_BUREAU_MON  265992.00  0.27 0.92 0.00 0.00 0.00 0.00  27.00\n",
              "AMT_REQ_CREDIT_BUREAU_WEEK 265992.00  0.03 0.20 0.00 0.00 0.00 0.00   8.00\n",
              "AMT_REQ_CREDIT_BUREAU_DAY  265992.00  0.01 0.11 0.00 0.00 0.00 0.00   9.00\n",
              "AMT_REQ_CREDIT_BUREAU_HOUR 265992.00  0.01 0.08 0.00 0.00 0.00 0.00   4.00"
            ]
          },
          "execution_count": 72,
          "metadata": {},
          "output_type": "execute_result"
        }
      ],
      "source": [
        "df[cols_to_analyze].describe().T"
      ]
    },
    {
      "cell_type": "markdown",
      "metadata": {},
      "source": [
        "### Висновок до ДЗ 1\n",
        "\n",
        "Для всіх колонок крім `AMT_REQ_CREDIT_BUREAU_YEAR` мода та медіана однакові а середнє значення хоч і відрізняється, доволі близьке до них, тому можна використати моду для імплікації. Для `AMT_REQ_CREDIT_BUREAU_YEAR`  мода, медіана і середнє відрізнються, але зважвючи що максимальне значення становить `25` при 75-ому персентилі `3`, можна зробити висновок що, скоріш за все, данні містять викиди, і тому можна було б також застосувати моду для заповненн пропусків. Проте відсоток пропущених значень для всіх колонок є доволі високим і становить '13.5%', і заповнення всіх пропусків константою може викривити дані, тому, можливо, доцільніше буде застосувати більш складні методи заповнення пропусків, так як повне видалення пропусків для всіх колонок може призвести до значної втрати даних."
      ]
    },
    {
      "cell_type": "markdown",
      "metadata": {
        "id": "3aZg3tGzJHPH"
      },
      "source": [
        "## Перевірка стовпців зі значеннями NULL > 0% та < 1%"
      ]
    },
    {
      "cell_type": "markdown",
      "metadata": {
        "id": "qM33jrAcJHPH"
      },
      "source": [
        "Створення датафрейму `null_df_under1` з відсотком пропущених значень > 0% та < 1% у кожному стовпці"
      ]
    },
    {
      "cell_type": "code",
      "execution_count": 70,
      "metadata": {
        "execution": {
          "iopub.execute_input": "2021-07-13T08:25:26.448877Z",
          "iopub.status.busy": "2021-07-13T08:25:26.448637Z",
          "iopub.status.idle": "2021-07-13T08:25:26.453681Z",
          "shell.execute_reply": "2021-07-13T08:25:26.452999Z",
          "shell.execute_reply.started": "2021-07-13T08:25:26.448853Z"
        },
        "id": "BSuxThMaJHPH",
        "trusted": true
      },
      "outputs": [],
      "source": [
        "null_df_under1 = null_df[(null_df['null_percentage'] > 0) & (null_df['null_percentage'] < 1)]"
      ]
    },
    {
      "cell_type": "code",
      "execution_count": 71,
      "metadata": {
        "colab": {
          "base_uri": "https://localhost:8080/",
          "height": 269
        },
        "execution": {
          "iopub.execute_input": "2021-07-13T08:25:26.455005Z",
          "iopub.status.busy": "2021-07-13T08:25:26.454556Z",
          "iopub.status.idle": "2021-07-13T08:25:26.473616Z",
          "shell.execute_reply": "2021-07-13T08:25:26.472642Z",
          "shell.execute_reply.started": "2021-07-13T08:25:26.45497Z"
        },
        "id": "KjJxXxiZJHPH",
        "outputId": "de918e25-3dc9-4785-e556-bf0d7b8db437",
        "trusted": true
      },
      "outputs": [
        {
          "data": {
            "text/html": [
              "<div>\n",
              "<style scoped>\n",
              "    .dataframe tbody tr th:only-of-type {\n",
              "        vertical-align: middle;\n",
              "    }\n",
              "\n",
              "    .dataframe tbody tr th {\n",
              "        vertical-align: top;\n",
              "    }\n",
              "\n",
              "    .dataframe thead th {\n",
              "        text-align: right;\n",
              "    }\n",
              "</style>\n",
              "<table border=\"1\" class=\"dataframe\">\n",
              "  <thead>\n",
              "    <tr style=\"text-align: right;\">\n",
              "      <th></th>\n",
              "      <th>column_name</th>\n",
              "      <th>null_count</th>\n",
              "      <th>null_percentage</th>\n",
              "    </tr>\n",
              "  </thead>\n",
              "  <tbody>\n",
              "    <tr>\n",
              "      <th>11</th>\n",
              "      <td>NAME_TYPE_SUITE</td>\n",
              "      <td>1292</td>\n",
              "      <td>0.42</td>\n",
              "    </tr>\n",
              "    <tr>\n",
              "      <th>91</th>\n",
              "      <td>OBS_30_CNT_SOCIAL_CIRCLE</td>\n",
              "      <td>1021</td>\n",
              "      <td>0.33</td>\n",
              "    </tr>\n",
              "    <tr>\n",
              "      <th>92</th>\n",
              "      <td>DEF_30_CNT_SOCIAL_CIRCLE</td>\n",
              "      <td>1021</td>\n",
              "      <td>0.33</td>\n",
              "    </tr>\n",
              "    <tr>\n",
              "      <th>93</th>\n",
              "      <td>OBS_60_CNT_SOCIAL_CIRCLE</td>\n",
              "      <td>1021</td>\n",
              "      <td>0.33</td>\n",
              "    </tr>\n",
              "    <tr>\n",
              "      <th>94</th>\n",
              "      <td>DEF_60_CNT_SOCIAL_CIRCLE</td>\n",
              "      <td>1021</td>\n",
              "      <td>0.33</td>\n",
              "    </tr>\n",
              "    <tr>\n",
              "      <th>42</th>\n",
              "      <td>EXT_SOURCE_2</td>\n",
              "      <td>660</td>\n",
              "      <td>0.21</td>\n",
              "    </tr>\n",
              "    <tr>\n",
              "      <th>10</th>\n",
              "      <td>AMT_GOODS_PRICE</td>\n",
              "      <td>278</td>\n",
              "      <td>0.09</td>\n",
              "    </tr>\n",
              "  </tbody>\n",
              "</table>\n",
              "</div>"
            ],
            "text/plain": [
              "                 column_name  null_count  null_percentage\n",
              "11           NAME_TYPE_SUITE        1292             0.42\n",
              "91  OBS_30_CNT_SOCIAL_CIRCLE        1021             0.33\n",
              "92  DEF_30_CNT_SOCIAL_CIRCLE        1021             0.33\n",
              "93  OBS_60_CNT_SOCIAL_CIRCLE        1021             0.33\n",
              "94  DEF_60_CNT_SOCIAL_CIRCLE        1021             0.33\n",
              "42              EXT_SOURCE_2         660             0.21\n",
              "10           AMT_GOODS_PRICE         278             0.09"
            ]
          },
          "execution_count": 71,
          "metadata": {},
          "output_type": "execute_result"
        }
      ],
      "source": [
        "null_df_under1.sort_values(by = 'null_percentage', ascending = False)"
      ]
    },
    {
      "cell_type": "markdown",
      "metadata": {
        "id": "pW8vYIhOJHPH"
      },
      "source": [
        "### Аналіз стовпця `NAME_TYPE_SUITE`"
      ]
    },
    {
      "cell_type": "code",
      "execution_count": 72,
      "metadata": {
        "colab": {
          "base_uri": "https://localhost:8080/",
          "height": 81
        },
        "id": "XBxkfzre_NN-",
        "outputId": "c89c063d-e46e-42bc-95fc-7ce02f16c7e9"
      },
      "outputs": [
        {
          "data": {
            "text/html": [
              "<div>\n",
              "<style scoped>\n",
              "    .dataframe tbody tr th:only-of-type {\n",
              "        vertical-align: middle;\n",
              "    }\n",
              "\n",
              "    .dataframe tbody tr th {\n",
              "        vertical-align: top;\n",
              "    }\n",
              "\n",
              "    .dataframe thead th {\n",
              "        text-align: right;\n",
              "    }\n",
              "</style>\n",
              "<table border=\"1\" class=\"dataframe\">\n",
              "  <thead>\n",
              "    <tr style=\"text-align: right;\">\n",
              "      <th></th>\n",
              "      <th>column_name</th>\n",
              "      <th>null_count</th>\n",
              "      <th>null_percentage</th>\n",
              "    </tr>\n",
              "  </thead>\n",
              "  <tbody>\n",
              "    <tr>\n",
              "      <th>11</th>\n",
              "      <td>NAME_TYPE_SUITE</td>\n",
              "      <td>1292</td>\n",
              "      <td>0.42</td>\n",
              "    </tr>\n",
              "  </tbody>\n",
              "</table>\n",
              "</div>"
            ],
            "text/plain": [
              "        column_name  null_count  null_percentage\n",
              "11  NAME_TYPE_SUITE        1292             0.42"
            ]
          },
          "execution_count": 72,
          "metadata": {},
          "output_type": "execute_result"
        }
      ],
      "source": [
        "null_df_under1[null_df_under1.column_name == 'NAME_TYPE_SUITE']"
      ]
    },
    {
      "cell_type": "code",
      "execution_count": 73,
      "metadata": {
        "colab": {
          "base_uri": "https://localhost:8080/"
        },
        "execution": {
          "iopub.execute_input": "2021-07-13T08:25:26.474932Z",
          "iopub.status.busy": "2021-07-13T08:25:26.474667Z",
          "iopub.status.idle": "2021-07-13T08:25:26.55107Z",
          "shell.execute_reply": "2021-07-13T08:25:26.550214Z",
          "shell.execute_reply.started": "2021-07-13T08:25:26.474908Z"
        },
        "id": "leQMIzE1JHPI",
        "outputId": "bb87a2d3-1b3f-454f-d4ea-530be59e32d0",
        "scrolled": true,
        "trusted": true
      },
      "outputs": [
        {
          "data": {
            "text/plain": [
              "NAME_TYPE_SUITE\n",
              "Unaccompanied      248526\n",
              "Family              40149\n",
              "Spouse, partner     11370\n",
              "Children             3267\n",
              "Other_B              1770\n",
              "Other_A               866\n",
              "Group of people       271\n",
              "Name: count, dtype: int64"
            ]
          },
          "execution_count": 73,
          "metadata": {},
          "output_type": "execute_result"
        }
      ],
      "source": [
        "df['NAME_TYPE_SUITE'].value_counts()"
      ]
    },
    {
      "cell_type": "code",
      "execution_count": 74,
      "metadata": {
        "colab": {
          "base_uri": "https://localhost:8080/",
          "height": 563
        },
        "execution": {
          "iopub.execute_input": "2021-07-13T08:25:26.552492Z",
          "iopub.status.busy": "2021-07-13T08:25:26.55223Z",
          "iopub.status.idle": "2021-07-13T08:25:27.03497Z",
          "shell.execute_reply": "2021-07-13T08:25:27.033996Z",
          "shell.execute_reply.started": "2021-07-13T08:25:26.552466Z"
        },
        "id": "By7LCmMRJHPI",
        "outputId": "fb2f0cf0-a92f-4a5c-ffcc-555aaf4fcabd",
        "trusted": true
      },
      "outputs": [
        {
          "data": {
            "image/png": "[encoded data removed]",
            "text/plain": [
              "<Figure size 1000x500 with 1 Axes>"
            ]
          },
          "metadata": {},
          "output_type": "display_data"
        }
      ],
      "source": [
        "plt.figure(figsize = (10,5))\n",
        "sns.countplot(data = df, x = \"NAME_TYPE_SUITE\")\n",
        "plt.xticks(rotation = 90)\n",
        "plt.show()"
      ]
    },
    {
      "cell_type": "markdown",
      "metadata": {
        "id": "amtb69ZYJHPI"
      },
      "source": [
        "**Спостереження**\n",
        "-   Дивлячись на графік, категорія `Unaccompanied` має найбільшу кількість заявників на отримання кредиту. Отже, більшість позичальників наважуються звертатися за кредитом без супроводу.\n",
        "- Ми можемо продовжити і вказати `Unaccompanied` у датафреймі, але я б віддала перевагу другому варіанту.\n",
        "- Ми також могли заповнити дані зі значенням \"NA\", оскільки цей стовпець є категоріальним.\n",
        "- Так само, якщо в стовпці відсутні менше 1% даних, ми можемо видалити відсутні значення. Але якщо ми видалимо всі дані в усіх стовпцях, які мають <=1% відсутніх даних, ми можемо видалити забагато даних. Тому я переважно зберігаю дані, наскільки можу."
      ]
    },
    {
      "cell_type": "code",
      "execution_count": 75,
      "metadata": {
        "id": "Npc-SFPG0n0E"
      },
      "outputs": [],
      "source": [
        "df['NAME_TYPE_SUITE'].fillna('NA', inplace=True)"
      ]
    },
    {
      "cell_type": "code",
      "execution_count": 76,
      "metadata": {},
      "outputs": [
        {
          "data": {
            "image/png": "[encoded data removed]",
            "text/plain": [
              "<Figure size 1000x500 with 1 Axes>"
            ]
          },
          "metadata": {},
          "output_type": "display_data"
        }
      ],
      "source": [
        "plt.figure(figsize = (10,5))\n",
        "sns.countplot(data = df, x = \"NAME_TYPE_SUITE\")\n",
        "plt.xticks(rotation = 90)\n",
        "plt.show()"
      ]
    },
    {
      "cell_type": "markdown",
      "metadata": {
        "id": "-xDa-2KNJHPI"
      },
      "source": [
        "### Analysis of `OBS_30_CNT_SOCIAL_CIRCLE` column"
      ]
    },
    {
      "cell_type": "code",
      "execution_count": 77,
      "metadata": {
        "colab": {
          "base_uri": "https://localhost:8080/",
          "height": 81
        },
        "id": "Yd4LalNK_GaB",
        "outputId": "16083f8c-57d2-4400-880f-e959b763d466"
      },
      "outputs": [
        {
          "data": {
            "text/html": [
              "<div>\n",
              "<style scoped>\n",
              "    .dataframe tbody tr th:only-of-type {\n",
              "        vertical-align: middle;\n",
              "    }\n",
              "\n",
              "    .dataframe tbody tr th {\n",
              "        vertical-align: top;\n",
              "    }\n",
              "\n",
              "    .dataframe thead th {\n",
              "        text-align: right;\n",
              "    }\n",
              "</style>\n",
              "<table border=\"1\" class=\"dataframe\">\n",
              "  <thead>\n",
              "    <tr style=\"text-align: right;\">\n",
              "      <th></th>\n",
              "      <th>column_name</th>\n",
              "      <th>null_count</th>\n",
              "      <th>null_percentage</th>\n",
              "    </tr>\n",
              "  </thead>\n",
              "  <tbody>\n",
              "    <tr>\n",
              "      <th>91</th>\n",
              "      <td>OBS_30_CNT_SOCIAL_CIRCLE</td>\n",
              "      <td>1021</td>\n",
              "      <td>0.33</td>\n",
              "    </tr>\n",
              "  </tbody>\n",
              "</table>\n",
              "</div>"
            ],
            "text/plain": [
              "                 column_name  null_count  null_percentage\n",
              "91  OBS_30_CNT_SOCIAL_CIRCLE        1021             0.33"
            ]
          },
          "execution_count": 77,
          "metadata": {},
          "output_type": "execute_result"
        }
      ],
      "source": [
        "null_df_under1[null_df_under1.column_name == 'OBS_30_CNT_SOCIAL_CIRCLE']"
      ]
    },
    {
      "cell_type": "code",
      "execution_count": 78,
      "metadata": {
        "colab": {
          "base_uri": "https://localhost:8080/"
        },
        "execution": {
          "iopub.execute_input": "2021-07-13T08:25:27.036414Z",
          "iopub.status.busy": "2021-07-13T08:25:27.036137Z",
          "iopub.status.idle": "2021-07-13T08:25:27.049287Z",
          "shell.execute_reply": "2021-07-13T08:25:27.048385Z",
          "shell.execute_reply.started": "2021-07-13T08:25:27.036388Z"
        },
        "id": "Vcg25JXUJHPI",
        "outputId": "6ec9d94c-8b0d-4ba3-c960-e543dfd6d2f2",
        "trusted": true
      },
      "outputs": [
        {
          "data": {
            "text/plain": [
              "OBS_30_CNT_SOCIAL_CIRCLE\n",
              "0.00    163910\n",
              "1.00     48783\n",
              "2.00     29808\n",
              "3.00     20322\n",
              "4.00     14143\n",
              "5.00      9553\n",
              "6.00      6453\n",
              "7.00      4390\n",
              "8.00      2967\n",
              "9.00      2003\n",
              "Name: count, dtype: int64"
            ]
          },
          "execution_count": 78,
          "metadata": {},
          "output_type": "execute_result"
        }
      ],
      "source": [
        "df.OBS_30_CNT_SOCIAL_CIRCLE.value_counts().head(10)"
      ]
    },
    {
      "cell_type": "code",
      "execution_count": 79,
      "metadata": {
        "colab": {
          "base_uri": "https://localhost:8080/",
          "height": 411
        },
        "execution": {
          "iopub.execute_input": "2021-07-13T08:25:27.051142Z",
          "iopub.status.busy": "2021-07-13T08:25:27.050796Z",
          "iopub.status.idle": "2021-07-13T08:25:27.202939Z",
          "shell.execute_reply": "2021-07-13T08:25:27.202186Z",
          "shell.execute_reply.started": "2021-07-13T08:25:27.051105Z"
        },
        "id": "bIlBhfh3JHPI",
        "outputId": "02853817-aa2c-4154-8506-6bb5eec5c250",
        "trusted": true
      },
      "outputs": [
        {
          "data": {
            "image/png": "[encoded data removed]",
            "text/plain": [
              "<Figure size 640x480 with 1 Axes>"
            ]
          },
          "metadata": {},
          "output_type": "display_data"
        }
      ],
      "source": [
        "sns.boxplot(df.OBS_30_CNT_SOCIAL_CIRCLE)\n",
        "plt.show()"
      ]
    },
    {
      "cell_type": "markdown",
      "metadata": {
        "id": "K7UICjm7JHPJ"
      },
      "source": [
        "Getting percentile values for `OBS_30_CNT_SOCIAL_CIRCLE`"
      ]
    },
    {
      "cell_type": "code",
      "execution_count": 80,
      "metadata": {
        "colab": {
          "base_uri": "https://localhost:8080/"
        },
        "execution": {
          "iopub.execute_input": "2021-07-13T08:25:27.204357Z",
          "iopub.status.busy": "2021-07-13T08:25:27.204056Z",
          "iopub.status.idle": "2021-07-13T08:25:27.219769Z",
          "shell.execute_reply": "2021-07-13T08:25:27.218843Z",
          "shell.execute_reply.started": "2021-07-13T08:25:27.204333Z"
        },
        "id": "t4Wt1qUjJHPJ",
        "outputId": "c5eeae47-1697-491a-c9b3-6acf6b9f2573",
        "trusted": true
      },
      "outputs": [
        {
          "data": {
            "text/plain": [
              "0.25     0.00\n",
              "0.50     0.00\n",
              "0.75     2.00\n",
              "1.00   348.00\n",
              "Name: OBS_30_CNT_SOCIAL_CIRCLE, dtype: float64"
            ]
          },
          "execution_count": 80,
          "metadata": {},
          "output_type": "execute_result"
        }
      ],
      "source": [
        "df.OBS_30_CNT_SOCIAL_CIRCLE.quantile(q = [0.25,0.5,0.75,1])"
      ]
    },
    {
      "cell_type": "markdown",
      "metadata": {
        "id": "N9VDMbtOJHPJ"
      },
      "source": [
        "Most recurring value in `OBS_30_CNT_SOCIAL_CIRCLE`"
      ]
    },
    {
      "cell_type": "code",
      "execution_count": 81,
      "metadata": {
        "colab": {
          "base_uri": "https://localhost:8080/"
        },
        "execution": {
          "iopub.execute_input": "2021-07-13T08:25:27.221422Z",
          "iopub.status.busy": "2021-07-13T08:25:27.221055Z",
          "iopub.status.idle": "2021-07-13T08:25:27.233883Z",
          "shell.execute_reply": "2021-07-13T08:25:27.233018Z",
          "shell.execute_reply.started": "2021-07-13T08:25:27.221387Z"
        },
        "id": "yAOzFSW_JHPJ",
        "outputId": "04487f93-60fe-4457-ced5-585ca247be2a",
        "trusted": true
      },
      "outputs": [
        {
          "data": {
            "text/plain": [
              "0.0"
            ]
          },
          "execution_count": 81,
          "metadata": {},
          "output_type": "execute_result"
        }
      ],
      "source": [
        "df.OBS_30_CNT_SOCIAL_CIRCLE.mode()[0]"
      ]
    },
    {
      "cell_type": "markdown",
      "metadata": {
        "id": "g0BvAET4JHPJ"
      },
      "source": [
        "Checking the average value of `OBS_30_CNT_SOCIAL_CIRCLE`"
      ]
    },
    {
      "cell_type": "code",
      "execution_count": 82,
      "metadata": {
        "colab": {
          "base_uri": "https://localhost:8080/"
        },
        "execution": {
          "iopub.execute_input": "2021-07-13T08:25:27.235307Z",
          "iopub.status.busy": "2021-07-13T08:25:27.235051Z",
          "iopub.status.idle": "2021-07-13T08:25:27.241062Z",
          "shell.execute_reply": "2021-07-13T08:25:27.240057Z",
          "shell.execute_reply.started": "2021-07-13T08:25:27.235284Z"
        },
        "id": "W0BJi_yPJHPJ",
        "outputId": "657633f2-77ef-4f74-f4bd-d47379c0babe",
        "trusted": true
      },
      "outputs": [
        {
          "data": {
            "text/plain": [
              "1.4222454239942575"
            ]
          },
          "execution_count": 82,
          "metadata": {},
          "output_type": "execute_result"
        }
      ],
      "source": [
        "df.OBS_30_CNT_SOCIAL_CIRCLE.mean()"
      ]
    },
    {
      "cell_type": "markdown",
      "metadata": {
        "id": "lLhbxe0CJHPJ"
      },
      "source": [
        "**Спостереження**\n",
        "- Дивлячись на боксплот, медіана становить 0,0\n",
        "- Найчастіше повторюване значення становить 0,0\n",
        "- Середнє значення 1,4222\n",
        "- Є два виброси: 50 і 350.\n",
        "- Середнє значення та мода близькі (відносно рангу даних у цьому стовпці) і можуть бути використані для імпутації. Це не призведе до зміщення, оскільки відсоток відсутнього значення невеликий (0,33%)"
      ]
    },
    {
      "cell_type": "code",
      "execution_count": 83,
      "metadata": {
        "id": "vVdBYg-u0wSs"
      },
      "outputs": [],
      "source": [
        "df['OBS_30_CNT_SOCIAL_CIRCLE'].fillna(df['OBS_30_CNT_SOCIAL_CIRCLE'].median(), inplace=True)"
      ]
    },
    {
      "cell_type": "markdown",
      "metadata": {
        "id": "dG_J1FMt7kUc"
      },
      "source": [
        "# ДЗ 2. Аналіз і заповнення пустих значень у колонках з малим відсотком пропущених\n",
        "\n",
        "За прикладом вище проведіть аналіз пропущених значень в колонках\n",
        "- DEF_30_CNT_SOCIAL_CIRCLE\n",
        "- EXT_SOURCE_2\n",
        "- OBS_60_CNT_SOCIAL_CIRCLE\n",
        "- DEF_60_CNT_SOCIAL_CIRCLE\n",
        "- AMT_GOODS_PRICE\n",
        "\n",
        "Для швидшого аналізу рекомендую написати фукнцію, яку Ви зможете викликати для кожної з колонок.\n",
        "\n",
        "Зробіть висновок, що робити з пропущеними значеннями в кожному випадку і виконанайте ту дію, яку зазначили."
      ]
    },
    {
      "cell_type": "code",
      "execution_count": 84,
      "metadata": {},
      "outputs": [],
      "source": [
        "def show(col_name):\n",
        "    plt.figure(figsize=(10, 5))\n",
        "    sns.boxplot(x = df[col_name])\n",
        "    plt.show()\n"
      ]
    },
    {
      "cell_type": "code",
      "execution_count": 85,
      "metadata": {},
      "outputs": [],
      "source": [
        "def describe_col(col_name):\n",
        "    print('Відсоток пропущених значень: ', null_df[null_df.column_name == col_name].null_percentage.iloc[0], sep='\\n')\n",
        "    print()\n",
        "    print('value_counts: ', df[col_name].value_counts().head(10), sep='\\n')\n",
        "    print()\n",
        "    \n",
        "    show(col_name)\n",
        "    print(df[col_name].describe())\n",
        "    print('Мода: ', df[col_name].mode()[0])\n",
        "    "
      ]
    },
    {
      "cell_type": "markdown",
      "metadata": {},
      "source": [
        "#### `DEF_30_CNT_SOCIAL_CIRCLE`"
      ]
    },
    {
      "cell_type": "code",
      "execution_count": 86,
      "metadata": {},
      "outputs": [
        {
          "name": "stdout",
          "output_type": "stream",
          "text": [
            "Відсоток пропущених значень: \n",
            "0.33\n",
            "\n",
            "value_counts: \n",
            "DEF_30_CNT_SOCIAL_CIRCLE\n",
            "0.00     271324\n",
            "1.00      28328\n",
            "2.00       5323\n",
            "3.00       1192\n",
            "4.00        253\n",
            "5.00         56\n",
            "6.00         11\n",
            "7.00          1\n",
            "34.00         1\n",
            "8.00          1\n",
            "Name: count, dtype: int64\n",
            "\n"
          ]
        },
        {
          "data": {
            "image/png": "[encoded data removed]",
            "text/plain": [
              "<Figure size 1000x500 with 1 Axes>"
            ]
          },
          "metadata": {},
          "output_type": "display_data"
        },
        {
          "name": "stdout",
          "output_type": "stream",
          "text": [
            "count   306490.00\n",
            "mean         0.14\n",
            "std          0.45\n",
            "min          0.00\n",
            "25%          0.00\n",
            "50%          0.00\n",
            "75%          0.00\n",
            "max         34.00\n",
            "Name: DEF_30_CNT_SOCIAL_CIRCLE, dtype: float64\n",
            "Мода:  0.0\n"
          ]
        }
      ],
      "source": [
        "describe_col('DEF_30_CNT_SOCIAL_CIRCLE')"
      ]
    },
    {
      "cell_type": "markdown",
      "metadata": {},
      "source": [
        "**Спостереження**\n",
        "- Дивлячись на боксплот, медіана становить 0,0\n",
        "- Найчастіше повторюване значення становить 0,0\n",
        "- Середнє значення 1,4\n",
        "- Є 9 вибросів, в які входять значення від 1 до 34.\n",
        "- Середнє значення та мода близькі (відносно рангу даних у цьому стовпці) і можуть бути використані для імпутації. Це не призведе до зміщення, оскільки відсоток відсутнього значення невеликий (0,33%)"
      ]
    },
    {
      "cell_type": "markdown",
      "metadata": {},
      "source": [
        "#### `EXT_SOURCE_2`"
      ]
    },
    {
      "cell_type": "code",
      "execution_count": 87,
      "metadata": {},
      "outputs": [
        {
          "name": "stdout",
          "output_type": "stream",
          "text": [
            "Відсоток пропущених значень: \n",
            "0.21\n",
            "\n",
            "value_counts: \n",
            "EXT_SOURCE_2\n",
            "0.29    721\n",
            "0.26    417\n",
            "0.27    343\n",
            "0.16    322\n",
            "0.27    306\n",
            "0.27    244\n",
            "0.26    243\n",
            "0.16    238\n",
            "0.16    234\n",
            "0.16    184\n",
            "Name: count, dtype: int64\n",
            "\n"
          ]
        },
        {
          "data": {
            "image/png": "[encoded data removed]",
            "text/plain": [
              "<Figure size 1000x500 with 1 Axes>"
            ]
          },
          "metadata": {},
          "output_type": "display_data"
        },
        {
          "name": "stdout",
          "output_type": "stream",
          "text": [
            "count   306851.00\n",
            "mean         0.51\n",
            "std          0.19\n",
            "min          0.00\n",
            "25%          0.39\n",
            "50%          0.57\n",
            "75%          0.66\n",
            "max          0.85\n",
            "Name: EXT_SOURCE_2, dtype: float64\n",
            "Мода:  0.2858978721410488\n"
          ]
        }
      ],
      "source": [
        "describe_col('EXT_SOURCE_2')"
      ]
    },
    {
      "cell_type": "markdown",
      "metadata": {},
      "source": [
        "#### `OBS_60_CNT_SOCIAL_CIRCLE`"
      ]
    },
    {
      "cell_type": "code",
      "execution_count": 88,
      "metadata": {},
      "outputs": [
        {
          "name": "stdout",
          "output_type": "stream",
          "text": [
            "Відсоток пропущених значень: \n",
            "0.33\n",
            "\n",
            "value_counts: \n",
            "OBS_60_CNT_SOCIAL_CIRCLE\n",
            "0.00    164666\n",
            "1.00     48870\n",
            "2.00     29766\n",
            "3.00     20215\n",
            "4.00     13946\n",
            "5.00      9463\n",
            "6.00      6349\n",
            "7.00      4344\n",
            "8.00      2886\n",
            "9.00      1959\n",
            "Name: count, dtype: int64\n",
            "\n"
          ]
        },
        {
          "data": {
            "image/png": "[encoded data removed]",
            "text/plain": [
              "<Figure size 1000x500 with 1 Axes>"
            ]
          },
          "metadata": {},
          "output_type": "display_data"
        },
        {
          "name": "stdout",
          "output_type": "stream",
          "text": [
            "count   306490.00\n",
            "mean         1.41\n",
            "std          2.38\n",
            "min          0.00\n",
            "25%          0.00\n",
            "50%          0.00\n",
            "75%          2.00\n",
            "max        344.00\n",
            "Name: OBS_60_CNT_SOCIAL_CIRCLE, dtype: float64\n",
            "Мода:  0.0\n"
          ]
        }
      ],
      "source": [
        "describe_col('OBS_60_CNT_SOCIAL_CIRCLE')"
      ]
    },
    {
      "cell_type": "markdown",
      "metadata": {},
      "source": [
        "#### `DEF_60_CNT_SOCIAL_CIRCLE`"
      ]
    },
    {
      "cell_type": "code",
      "execution_count": 89,
      "metadata": {},
      "outputs": [
        {
          "name": "stdout",
          "output_type": "stream",
          "text": [
            "Відсоток пропущених значень: \n",
            "0.33\n",
            "\n",
            "value_counts: \n",
            "DEF_60_CNT_SOCIAL_CIRCLE\n",
            "0.00     280721\n",
            "1.00      21841\n",
            "2.00       3170\n",
            "3.00        598\n",
            "4.00        135\n",
            "5.00         20\n",
            "6.00          3\n",
            "7.00          1\n",
            "24.00         1\n",
            "Name: count, dtype: int64\n",
            "\n"
          ]
        },
        {
          "data": {
            "image/png": "[encoded data removed]",
            "text/plain": [
              "<Figure size 1000x500 with 1 Axes>"
            ]
          },
          "metadata": {},
          "output_type": "display_data"
        },
        {
          "name": "stdout",
          "output_type": "stream",
          "text": [
            "count   306490.00\n",
            "mean         0.10\n",
            "std          0.36\n",
            "min          0.00\n",
            "25%          0.00\n",
            "50%          0.00\n",
            "75%          0.00\n",
            "max         24.00\n",
            "Name: DEF_60_CNT_SOCIAL_CIRCLE, dtype: float64\n",
            "Мода:  0.0\n"
          ]
        }
      ],
      "source": [
        "describe_col('DEF_60_CNT_SOCIAL_CIRCLE')"
      ]
    },
    {
      "cell_type": "markdown",
      "metadata": {},
      "source": [
        "#### `AMT_GOODS_PRICE`"
      ]
    },
    {
      "cell_type": "code",
      "execution_count": 90,
      "metadata": {},
      "outputs": [
        {
          "name": "stdout",
          "output_type": "stream",
          "text": [
            "Відсоток пропущених значень: \n",
            "0.09\n",
            "\n",
            "value_counts: \n",
            "AMT_GOODS_PRICE\n",
            "450000.00     26022\n",
            "225000.00     25282\n",
            "675000.00     24962\n",
            "900000.00     15416\n",
            "270000.00     11428\n",
            "180000.00     10123\n",
            "454500.00      9157\n",
            "1125000.00     9050\n",
            "135000.00      8206\n",
            "315000.00      5225\n",
            "Name: count, dtype: int64\n",
            "\n"
          ]
        },
        {
          "data": {
            "image/png": "[encoded data removed]",
            "text/plain": [
              "<Figure size 1000x500 with 1 Axes>"
            ]
          },
          "metadata": {},
          "output_type": "display_data"
        },
        {
          "name": "stdout",
          "output_type": "stream",
          "text": [
            "count    307233.00\n",
            "mean     538396.21\n",
            "std      369446.46\n",
            "min       40500.00\n",
            "25%      238500.00\n",
            "50%      450000.00\n",
            "75%      679500.00\n",
            "max     4050000.00\n",
            "Name: AMT_GOODS_PRICE, dtype: float64\n",
            "Мода:  450000.0\n"
          ]
        }
      ],
      "source": [
        "describe_col('AMT_GOODS_PRICE')"
      ]
    },
    {
      "cell_type": "markdown",
      "metadata": {
        "id": "HaLbzQSSJHPR"
      },
      "source": [
        "# Робота з неправильними/невідомими значеннями даних"
      ]
    },
    {
      "cell_type": "markdown",
      "metadata": {
        "id": "y3JDgPD5JHPR"
      },
      "source": [
        "### Аналіз стовпця `CODE_GENDER`"
      ]
    },
    {
      "cell_type": "markdown",
      "metadata": {
        "id": "GYFDkp-uJHPR"
      },
      "source": [
        "Перевірка діапазону значень"
      ]
    },
    {
      "cell_type": "code",
      "execution_count": 91,
      "metadata": {
        "colab": {
          "base_uri": "https://localhost:8080/"
        },
        "execution": {
          "iopub.execute_input": "2021-07-13T08:25:28.365335Z",
          "iopub.status.busy": "2021-07-13T08:25:28.364978Z",
          "iopub.status.idle": "2021-07-13T08:25:28.435592Z",
          "shell.execute_reply": "2021-07-13T08:25:28.434775Z",
          "shell.execute_reply.started": "2021-07-13T08:25:28.365298Z"
        },
        "id": "Dx-4yNbiJHPR",
        "outputId": "d3552b80-d8a6-424e-a803-30858e6ae059",
        "trusted": true
      },
      "outputs": [
        {
          "data": {
            "text/plain": [
              "CODE_GENDER\n",
              "F      202448\n",
              "M      105059\n",
              "XNA         4\n",
              "Name: count, dtype: int64"
            ]
          },
          "execution_count": 91,
          "metadata": {},
          "output_type": "execute_result"
        }
      ],
      "source": [
        "df['CODE_GENDER'].value_counts()"
      ]
    },
    {
      "cell_type": "markdown",
      "metadata": {
        "id": "lJJZXgSVJHPR"
      },
      "source": [
        "Стать має бути тільки чоловіча або жіноча. Значення `XNA` може вказувати на те, що значення не було надано заявником або пропущено кредитним спеціалістом, який перевіряє заявку"
      ]
    },
    {
      "cell_type": "code",
      "execution_count": 92,
      "metadata": {
        "colab": {
          "base_uri": "https://localhost:8080/",
          "height": 247
        },
        "execution": {
          "iopub.execute_input": "2021-07-13T08:25:28.437102Z",
          "iopub.status.busy": "2021-07-13T08:25:28.436753Z",
          "iopub.status.idle": "2021-07-13T08:25:28.520439Z",
          "shell.execute_reply": "2021-07-13T08:25:28.519772Z",
          "shell.execute_reply.started": "2021-07-13T08:25:28.437074Z"
        },
        "id": "RbVikpxsJHPS",
        "outputId": "0d51dbe5-0632-435e-f56b-968e1c9d917e",
        "trusted": true
      },
      "outputs": [
        {
          "data": {
            "text/html": [
              "<div>\n",
              "<style scoped>\n",
              "    .dataframe tbody tr th:only-of-type {\n",
              "        vertical-align: middle;\n",
              "    }\n",
              "\n",
              "    .dataframe tbody tr th {\n",
              "        vertical-align: top;\n",
              "    }\n",
              "\n",
              "    .dataframe thead th {\n",
              "        text-align: right;\n",
              "    }\n",
              "</style>\n",
              "<table border=\"1\" class=\"dataframe\">\n",
              "  <thead>\n",
              "    <tr style=\"text-align: right;\">\n",
              "      <th></th>\n",
              "      <th>SK_ID_CURR</th>\n",
              "      <th>TARGET</th>\n",
              "      <th>NAME_CONTRACT_TYPE</th>\n",
              "      <th>CODE_GENDER</th>\n",
              "      <th>FLAG_OWN_CAR</th>\n",
              "      <th>FLAG_OWN_REALTY</th>\n",
              "      <th>CNT_CHILDREN</th>\n",
              "      <th>AMT_INCOME_TOTAL</th>\n",
              "      <th>AMT_CREDIT</th>\n",
              "      <th>AMT_ANNUITY</th>\n",
              "      <th>AMT_GOODS_PRICE</th>\n",
              "      <th>NAME_TYPE_SUITE</th>\n",
              "      <th>NAME_INCOME_TYPE</th>\n",
              "      <th>NAME_EDUCATION_TYPE</th>\n",
              "      <th>NAME_FAMILY_STATUS</th>\n",
              "      <th>NAME_HOUSING_TYPE</th>\n",
              "      <th>REGION_POPULATION_RELATIVE</th>\n",
              "      <th>DAYS_BIRTH</th>\n",
              "      <th>DAYS_EMPLOYED</th>\n",
              "      <th>DAYS_REGISTRATION</th>\n",
              "      <th>DAYS_ID_PUBLISH</th>\n",
              "      <th>FLAG_MOBIL</th>\n",
              "      <th>FLAG_EMP_PHONE</th>\n",
              "      <th>FLAG_WORK_PHONE</th>\n",
              "      <th>FLAG_CONT_MOBILE</th>\n",
              "      <th>FLAG_PHONE</th>\n",
              "      <th>FLAG_EMAIL</th>\n",
              "      <th>OCCUPATION_TYPE</th>\n",
              "      <th>CNT_FAM_MEMBERS</th>\n",
              "      <th>REGION_RATING_CLIENT</th>\n",
              "      <th>REGION_RATING_CLIENT_W_CITY</th>\n",
              "      <th>WEEKDAY_APPR_PROCESS_START</th>\n",
              "      <th>HOUR_APPR_PROCESS_START</th>\n",
              "      <th>REG_REGION_NOT_LIVE_REGION</th>\n",
              "      <th>REG_REGION_NOT_WORK_REGION</th>\n",
              "      <th>LIVE_REGION_NOT_WORK_REGION</th>\n",
              "      <th>REG_CITY_NOT_LIVE_CITY</th>\n",
              "      <th>REG_CITY_NOT_WORK_CITY</th>\n",
              "      <th>LIVE_CITY_NOT_WORK_CITY</th>\n",
              "      <th>ORGANIZATION_TYPE</th>\n",
              "      <th>EXT_SOURCE_2</th>\n",
              "      <th>EXT_SOURCE_3</th>\n",
              "      <th>OBS_30_CNT_SOCIAL_CIRCLE</th>\n",
              "      <th>DEF_30_CNT_SOCIAL_CIRCLE</th>\n",
              "      <th>OBS_60_CNT_SOCIAL_CIRCLE</th>\n",
              "      <th>DEF_60_CNT_SOCIAL_CIRCLE</th>\n",
              "      <th>DAYS_LAST_PHONE_CHANGE</th>\n",
              "      <th>FLAG_DOCUMENT_2</th>\n",
              "      <th>FLAG_DOCUMENT_3</th>\n",
              "      <th>FLAG_DOCUMENT_4</th>\n",
              "      <th>FLAG_DOCUMENT_5</th>\n",
              "      <th>FLAG_DOCUMENT_6</th>\n",
              "      <th>FLAG_DOCUMENT_7</th>\n",
              "      <th>FLAG_DOCUMENT_8</th>\n",
              "      <th>FLAG_DOCUMENT_9</th>\n",
              "      <th>FLAG_DOCUMENT_10</th>\n",
              "      <th>FLAG_DOCUMENT_11</th>\n",
              "      <th>FLAG_DOCUMENT_12</th>\n",
              "      <th>FLAG_DOCUMENT_13</th>\n",
              "      <th>FLAG_DOCUMENT_14</th>\n",
              "      <th>FLAG_DOCUMENT_15</th>\n",
              "      <th>FLAG_DOCUMENT_16</th>\n",
              "      <th>FLAG_DOCUMENT_17</th>\n",
              "      <th>FLAG_DOCUMENT_18</th>\n",
              "      <th>FLAG_DOCUMENT_19</th>\n",
              "      <th>FLAG_DOCUMENT_20</th>\n",
              "      <th>FLAG_DOCUMENT_21</th>\n",
              "      <th>AMT_REQ_CREDIT_BUREAU_HOUR</th>\n",
              "      <th>AMT_REQ_CREDIT_BUREAU_DAY</th>\n",
              "      <th>AMT_REQ_CREDIT_BUREAU_WEEK</th>\n",
              "      <th>AMT_REQ_CREDIT_BUREAU_MON</th>\n",
              "      <th>AMT_REQ_CREDIT_BUREAU_QRT</th>\n",
              "      <th>AMT_REQ_CREDIT_BUREAU_YEAR</th>\n",
              "    </tr>\n",
              "  </thead>\n",
              "  <tbody>\n",
              "    <tr>\n",
              "      <th>35657</th>\n",
              "      <td>141289</td>\n",
              "      <td>0</td>\n",
              "      <td>Revolving loans</td>\n",
              "      <td>XNA</td>\n",
              "      <td>1</td>\n",
              "      <td>1</td>\n",
              "      <td>0</td>\n",
              "      <td>207000.00</td>\n",
              "      <td>382500.00</td>\n",
              "      <td>19125.00</td>\n",
              "      <td>337500.00</td>\n",
              "      <td>Unaccompanied</td>\n",
              "      <td>Working</td>\n",
              "      <td>Secondary / secondary special</td>\n",
              "      <td>Married</td>\n",
              "      <td>Municipal apartment</td>\n",
              "      <td>0.02</td>\n",
              "      <td>-20232</td>\n",
              "      <td>-10044</td>\n",
              "      <td>-10024.00</td>\n",
              "      <td>-3537</td>\n",
              "      <td>1</td>\n",
              "      <td>1</td>\n",
              "      <td>1</td>\n",
              "      <td>1</td>\n",
              "      <td>1</td>\n",
              "      <td>0</td>\n",
              "      <td>Unknown</td>\n",
              "      <td>2.00</td>\n",
              "      <td>3</td>\n",
              "      <td>3</td>\n",
              "      <td>TUESDAY</td>\n",
              "      <td>10</td>\n",
              "      <td>0</td>\n",
              "      <td>0</td>\n",
              "      <td>0</td>\n",
              "      <td>0</td>\n",
              "      <td>0</td>\n",
              "      <td>0</td>\n",
              "      <td>Business Entity Type 1</td>\n",
              "      <td>0.30</td>\n",
              "      <td>0.46</td>\n",
              "      <td>0.00</td>\n",
              "      <td>0.00</td>\n",
              "      <td>0.00</td>\n",
              "      <td>0.00</td>\n",
              "      <td>-286.00</td>\n",
              "      <td>0</td>\n",
              "      <td>0</td>\n",
              "      <td>0</td>\n",
              "      <td>0</td>\n",
              "      <td>0</td>\n",
              "      <td>0</td>\n",
              "      <td>0</td>\n",
              "      <td>0</td>\n",
              "      <td>0</td>\n",
              "      <td>0</td>\n",
              "      <td>0</td>\n",
              "      <td>0</td>\n",
              "      <td>0</td>\n",
              "      <td>0</td>\n",
              "      <td>0</td>\n",
              "      <td>0</td>\n",
              "      <td>0</td>\n",
              "      <td>0</td>\n",
              "      <td>0</td>\n",
              "      <td>0</td>\n",
              "      <td>0.00</td>\n",
              "      <td>0.00</td>\n",
              "      <td>0.00</td>\n",
              "      <td>0.00</td>\n",
              "      <td>0.00</td>\n",
              "      <td>1.00</td>\n",
              "    </tr>\n",
              "    <tr>\n",
              "      <th>38566</th>\n",
              "      <td>144669</td>\n",
              "      <td>0</td>\n",
              "      <td>Revolving loans</td>\n",
              "      <td>XNA</td>\n",
              "      <td>0</td>\n",
              "      <td>1</td>\n",
              "      <td>2</td>\n",
              "      <td>157500.00</td>\n",
              "      <td>270000.00</td>\n",
              "      <td>13500.00</td>\n",
              "      <td>225000.00</td>\n",
              "      <td>Family</td>\n",
              "      <td>Working</td>\n",
              "      <td>Secondary / secondary special</td>\n",
              "      <td>Married</td>\n",
              "      <td>House / apartment</td>\n",
              "      <td>0.03</td>\n",
              "      <td>-13717</td>\n",
              "      <td>-2797</td>\n",
              "      <td>-2241.00</td>\n",
              "      <td>-4659</td>\n",
              "      <td>1</td>\n",
              "      <td>1</td>\n",
              "      <td>1</td>\n",
              "      <td>1</td>\n",
              "      <td>1</td>\n",
              "      <td>0</td>\n",
              "      <td>Low-skill Laborers</td>\n",
              "      <td>4.00</td>\n",
              "      <td>2</td>\n",
              "      <td>2</td>\n",
              "      <td>FRIDAY</td>\n",
              "      <td>16</td>\n",
              "      <td>0</td>\n",
              "      <td>0</td>\n",
              "      <td>0</td>\n",
              "      <td>0</td>\n",
              "      <td>0</td>\n",
              "      <td>0</td>\n",
              "      <td>Industry: type 3</td>\n",
              "      <td>0.71</td>\n",
              "      <td>0.31</td>\n",
              "      <td>0.00</td>\n",
              "      <td>0.00</td>\n",
              "      <td>0.00</td>\n",
              "      <td>0.00</td>\n",
              "      <td>-493.00</td>\n",
              "      <td>0</td>\n",
              "      <td>0</td>\n",
              "      <td>0</td>\n",
              "      <td>0</td>\n",
              "      <td>0</td>\n",
              "      <td>0</td>\n",
              "      <td>0</td>\n",
              "      <td>0</td>\n",
              "      <td>0</td>\n",
              "      <td>0</td>\n",
              "      <td>0</td>\n",
              "      <td>0</td>\n",
              "      <td>0</td>\n",
              "      <td>0</td>\n",
              "      <td>0</td>\n",
              "      <td>0</td>\n",
              "      <td>0</td>\n",
              "      <td>0</td>\n",
              "      <td>0</td>\n",
              "      <td>0</td>\n",
              "      <td>0.00</td>\n",
              "      <td>0.00</td>\n",
              "      <td>0.00</td>\n",
              "      <td>3.00</td>\n",
              "      <td>0.00</td>\n",
              "      <td>4.00</td>\n",
              "    </tr>\n",
              "    <tr>\n",
              "      <th>83382</th>\n",
              "      <td>196708</td>\n",
              "      <td>0</td>\n",
              "      <td>Revolving loans</td>\n",
              "      <td>XNA</td>\n",
              "      <td>0</td>\n",
              "      <td>1</td>\n",
              "      <td>1</td>\n",
              "      <td>135000.00</td>\n",
              "      <td>405000.00</td>\n",
              "      <td>20250.00</td>\n",
              "      <td>225000.00</td>\n",
              "      <td>Unaccompanied</td>\n",
              "      <td>Working</td>\n",
              "      <td>Higher education</td>\n",
              "      <td>Married</td>\n",
              "      <td>House / apartment</td>\n",
              "      <td>0.04</td>\n",
              "      <td>-10647</td>\n",
              "      <td>-1228</td>\n",
              "      <td>-183.00</td>\n",
              "      <td>-1671</td>\n",
              "      <td>1</td>\n",
              "      <td>1</td>\n",
              "      <td>1</td>\n",
              "      <td>1</td>\n",
              "      <td>1</td>\n",
              "      <td>0</td>\n",
              "      <td>Core staff</td>\n",
              "      <td>3.00</td>\n",
              "      <td>2</td>\n",
              "      <td>2</td>\n",
              "      <td>THURSDAY</td>\n",
              "      <td>15</td>\n",
              "      <td>0</td>\n",
              "      <td>0</td>\n",
              "      <td>0</td>\n",
              "      <td>0</td>\n",
              "      <td>0</td>\n",
              "      <td>0</td>\n",
              "      <td>Kindergarten</td>\n",
              "      <td>0.66</td>\n",
              "      <td>0.08</td>\n",
              "      <td>7.00</td>\n",
              "      <td>1.00</td>\n",
              "      <td>7.00</td>\n",
              "      <td>1.00</td>\n",
              "      <td>-851.00</td>\n",
              "      <td>0</td>\n",
              "      <td>0</td>\n",
              "      <td>0</td>\n",
              "      <td>0</td>\n",
              "      <td>0</td>\n",
              "      <td>0</td>\n",
              "      <td>0</td>\n",
              "      <td>0</td>\n",
              "      <td>0</td>\n",
              "      <td>0</td>\n",
              "      <td>0</td>\n",
              "      <td>0</td>\n",
              "      <td>0</td>\n",
              "      <td>0</td>\n",
              "      <td>0</td>\n",
              "      <td>0</td>\n",
              "      <td>0</td>\n",
              "      <td>0</td>\n",
              "      <td>0</td>\n",
              "      <td>0</td>\n",
              "      <td>0.00</td>\n",
              "      <td>0.00</td>\n",
              "      <td>0.00</td>\n",
              "      <td>0.00</td>\n",
              "      <td>0.00</td>\n",
              "      <td>3.00</td>\n",
              "    </tr>\n",
              "    <tr>\n",
              "      <th>189640</th>\n",
              "      <td>319880</td>\n",
              "      <td>0</td>\n",
              "      <td>Revolving loans</td>\n",
              "      <td>XNA</td>\n",
              "      <td>1</td>\n",
              "      <td>1</td>\n",
              "      <td>0</td>\n",
              "      <td>247500.00</td>\n",
              "      <td>540000.00</td>\n",
              "      <td>27000.00</td>\n",
              "      <td>900000.00</td>\n",
              "      <td>Unaccompanied</td>\n",
              "      <td>Commercial associate</td>\n",
              "      <td>Incomplete higher</td>\n",
              "      <td>Civil marriage</td>\n",
              "      <td>House / apartment</td>\n",
              "      <td>0.04</td>\n",
              "      <td>-9649</td>\n",
              "      <td>-2293</td>\n",
              "      <td>-4099.00</td>\n",
              "      <td>-2326</td>\n",
              "      <td>1</td>\n",
              "      <td>1</td>\n",
              "      <td>1</td>\n",
              "      <td>1</td>\n",
              "      <td>1</td>\n",
              "      <td>0</td>\n",
              "      <td>Unknown</td>\n",
              "      <td>2.00</td>\n",
              "      <td>2</td>\n",
              "      <td>2</td>\n",
              "      <td>FRIDAY</td>\n",
              "      <td>15</td>\n",
              "      <td>0</td>\n",
              "      <td>0</td>\n",
              "      <td>0</td>\n",
              "      <td>0</td>\n",
              "      <td>0</td>\n",
              "      <td>0</td>\n",
              "      <td>Medicine</td>\n",
              "      <td>0.66</td>\n",
              "      <td>0.36</td>\n",
              "      <td>10.00</td>\n",
              "      <td>4.00</td>\n",
              "      <td>10.00</td>\n",
              "      <td>4.00</td>\n",
              "      <td>-1681.00</td>\n",
              "      <td>0</td>\n",
              "      <td>0</td>\n",
              "      <td>0</td>\n",
              "      <td>0</td>\n",
              "      <td>0</td>\n",
              "      <td>0</td>\n",
              "      <td>0</td>\n",
              "      <td>0</td>\n",
              "      <td>0</td>\n",
              "      <td>0</td>\n",
              "      <td>0</td>\n",
              "      <td>0</td>\n",
              "      <td>0</td>\n",
              "      <td>0</td>\n",
              "      <td>0</td>\n",
              "      <td>0</td>\n",
              "      <td>0</td>\n",
              "      <td>0</td>\n",
              "      <td>0</td>\n",
              "      <td>0</td>\n",
              "      <td>0.00</td>\n",
              "      <td>0.00</td>\n",
              "      <td>0.00</td>\n",
              "      <td>0.00</td>\n",
              "      <td>1.00</td>\n",
              "      <td>6.00</td>\n",
              "    </tr>\n",
              "  </tbody>\n",
              "</table>\n",
              "</div>"
            ],
            "text/plain": [
              "       SK_ID_CURR  TARGET NAME_CONTRACT_TYPE CODE_GENDER  FLAG_OWN_CAR  \\\n",
              "35657      141289       0    Revolving loans         XNA             1   \n",
              "38566      144669       0    Revolving loans         XNA             0   \n",
              "83382      196708       0    Revolving loans         XNA             0   \n",
              "189640     319880       0    Revolving loans         XNA             1   \n",
              "\n",
              "        FLAG_OWN_REALTY  CNT_CHILDREN  AMT_INCOME_TOTAL  AMT_CREDIT  \\\n",
              "35657                 1             0         207000.00   382500.00   \n",
              "38566                 1             2         157500.00   270000.00   \n",
              "83382                 1             1         135000.00   405000.00   \n",
              "189640                1             0         247500.00   540000.00   \n",
              "\n",
              "        AMT_ANNUITY  AMT_GOODS_PRICE NAME_TYPE_SUITE      NAME_INCOME_TYPE  \\\n",
              "35657      19125.00        337500.00   Unaccompanied               Working   \n",
              "38566      13500.00        225000.00          Family               Working   \n",
              "83382      20250.00        225000.00   Unaccompanied               Working   \n",
              "189640     27000.00        900000.00   Unaccompanied  Commercial associate   \n",
              "\n",
              "                  NAME_EDUCATION_TYPE NAME_FAMILY_STATUS    NAME_HOUSING_TYPE  \\\n",
              "35657   Secondary / secondary special            Married  Municipal apartment   \n",
              "38566   Secondary / secondary special            Married    House / apartment   \n",
              "83382                Higher education            Married    House / apartment   \n",
              "189640              Incomplete higher     Civil marriage    House / apartment   \n",
              "\n",
              "        REGION_POPULATION_RELATIVE  DAYS_BIRTH  DAYS_EMPLOYED  \\\n",
              "35657                         0.02      -20232         -10044   \n",
              "38566                         0.03      -13717          -2797   \n",
              "83382                         0.04      -10647          -1228   \n",
              "189640                        0.04       -9649          -2293   \n",
              "\n",
              "        DAYS_REGISTRATION  DAYS_ID_PUBLISH  FLAG_MOBIL  FLAG_EMP_PHONE  \\\n",
              "35657           -10024.00            -3537           1               1   \n",
              "38566            -2241.00            -4659           1               1   \n",
              "83382             -183.00            -1671           1               1   \n",
              "189640           -4099.00            -2326           1               1   \n",
              "\n",
              "        FLAG_WORK_PHONE  FLAG_CONT_MOBILE  FLAG_PHONE  FLAG_EMAIL  \\\n",
              "35657                 1                 1           1           0   \n",
              "38566                 1                 1           1           0   \n",
              "83382                 1                 1           1           0   \n",
              "189640                1                 1           1           0   \n",
              "\n",
              "           OCCUPATION_TYPE  CNT_FAM_MEMBERS  REGION_RATING_CLIENT  \\\n",
              "35657              Unknown             2.00                     3   \n",
              "38566   Low-skill Laborers             4.00                     2   \n",
              "83382           Core staff             3.00                     2   \n",
              "189640             Unknown             2.00                     2   \n",
              "\n",
              "        REGION_RATING_CLIENT_W_CITY WEEKDAY_APPR_PROCESS_START  \\\n",
              "35657                             3                    TUESDAY   \n",
              "38566                             2                     FRIDAY   \n",
              "83382                             2                   THURSDAY   \n",
              "189640                            2                     FRIDAY   \n",
              "\n",
              "        HOUR_APPR_PROCESS_START  REG_REGION_NOT_LIVE_REGION  \\\n",
              "35657                        10                           0   \n",
              "38566                        16                           0   \n",
              "83382                        15                           0   \n",
              "189640                       15                           0   \n",
              "\n",
              "        REG_REGION_NOT_WORK_REGION  LIVE_REGION_NOT_WORK_REGION  \\\n",
              "35657                            0                            0   \n",
              "38566                            0                            0   \n",
              "83382                            0                            0   \n",
              "189640                           0                            0   \n",
              "\n",
              "        REG_CITY_NOT_LIVE_CITY  REG_CITY_NOT_WORK_CITY  \\\n",
              "35657                        0                       0   \n",
              "38566                        0                       0   \n",
              "83382                        0                       0   \n",
              "189640                       0                       0   \n",
              "\n",
              "        LIVE_CITY_NOT_WORK_CITY       ORGANIZATION_TYPE  EXT_SOURCE_2  \\\n",
              "35657                         0  Business Entity Type 1          0.30   \n",
              "38566                         0        Industry: type 3          0.71   \n",
              "83382                         0            Kindergarten          0.66   \n",
              "189640                        0                Medicine          0.66   \n",
              "\n",
              "        EXT_SOURCE_3  OBS_30_CNT_SOCIAL_CIRCLE  DEF_30_CNT_SOCIAL_CIRCLE  \\\n",
              "35657           0.46                      0.00                      0.00   \n",
              "38566           0.31                      0.00                      0.00   \n",
              "83382           0.08                      7.00                      1.00   \n",
              "189640          0.36                     10.00                      4.00   \n",
              "\n",
              "        OBS_60_CNT_SOCIAL_CIRCLE  DEF_60_CNT_SOCIAL_CIRCLE  \\\n",
              "35657                       0.00                      0.00   \n",
              "38566                       0.00                      0.00   \n",
              "83382                       7.00                      1.00   \n",
              "189640                     10.00                      4.00   \n",
              "\n",
              "        DAYS_LAST_PHONE_CHANGE  FLAG_DOCUMENT_2  FLAG_DOCUMENT_3  \\\n",
              "35657                  -286.00                0                0   \n",
              "38566                  -493.00                0                0   \n",
              "83382                  -851.00                0                0   \n",
              "189640                -1681.00                0                0   \n",
              "\n",
              "        FLAG_DOCUMENT_4  FLAG_DOCUMENT_5  FLAG_DOCUMENT_6  FLAG_DOCUMENT_7  \\\n",
              "35657                 0                0                0                0   \n",
              "38566                 0                0                0                0   \n",
              "83382                 0                0                0                0   \n",
              "189640                0                0                0                0   \n",
              "\n",
              "        FLAG_DOCUMENT_8  FLAG_DOCUMENT_9  FLAG_DOCUMENT_10  FLAG_DOCUMENT_11  \\\n",
              "35657                 0                0                 0                 0   \n",
              "38566                 0                0                 0                 0   \n",
              "83382                 0                0                 0                 0   \n",
              "189640                0                0                 0                 0   \n",
              "\n",
              "        FLAG_DOCUMENT_12  FLAG_DOCUMENT_13  FLAG_DOCUMENT_14  \\\n",
              "35657                  0                 0                 0   \n",
              "38566                  0                 0                 0   \n",
              "83382                  0                 0                 0   \n",
              "189640                 0                 0                 0   \n",
              "\n",
              "        FLAG_DOCUMENT_15  FLAG_DOCUMENT_16  FLAG_DOCUMENT_17  \\\n",
              "35657                  0                 0                 0   \n",
              "38566                  0                 0                 0   \n",
              "83382                  0                 0                 0   \n",
              "189640                 0                 0                 0   \n",
              "\n",
              "        FLAG_DOCUMENT_18  FLAG_DOCUMENT_19  FLAG_DOCUMENT_20  \\\n",
              "35657                  0                 0                 0   \n",
              "38566                  0                 0                 0   \n",
              "83382                  0                 0                 0   \n",
              "189640                 0                 0                 0   \n",
              "\n",
              "        FLAG_DOCUMENT_21  AMT_REQ_CREDIT_BUREAU_HOUR  \\\n",
              "35657                  0                        0.00   \n",
              "38566                  0                        0.00   \n",
              "83382                  0                        0.00   \n",
              "189640                 0                        0.00   \n",
              "\n",
              "        AMT_REQ_CREDIT_BUREAU_DAY  AMT_REQ_CREDIT_BUREAU_WEEK  \\\n",
              "35657                        0.00                        0.00   \n",
              "38566                        0.00                        0.00   \n",
              "83382                        0.00                        0.00   \n",
              "189640                       0.00                        0.00   \n",
              "\n",
              "        AMT_REQ_CREDIT_BUREAU_MON  AMT_REQ_CREDIT_BUREAU_QRT  \\\n",
              "35657                        0.00                       0.00   \n",
              "38566                        3.00                       0.00   \n",
              "83382                        0.00                       0.00   \n",
              "189640                       0.00                       1.00   \n",
              "\n",
              "        AMT_REQ_CREDIT_BUREAU_YEAR  \n",
              "35657                         1.00  \n",
              "38566                         4.00  \n",
              "83382                         3.00  \n",
              "189640                        6.00  "
            ]
          },
          "execution_count": 92,
          "metadata": {},
          "output_type": "execute_result"
        }
      ],
      "source": [
        "df[df['CODE_GENDER'] == 'XNA']"
      ]
    },
    {
      "cell_type": "markdown",
      "metadata": {
        "id": "gCPNXkdVJHPS"
      },
      "source": [
        "Оскільки дані виглядають достовірними, ми перевіримо можливість застосування методу імпутації.\n",
        "- Заявників-жінок удвічі більше, ніж заявників-чоловіків\n",
        "- Отже, ми прирівняємо `CODE_GENDER` до 'F'"
      ]
    },
    {
      "cell_type": "code",
      "execution_count": 93,
      "metadata": {
        "id": "ARGWkCPJBTJ3"
      },
      "outputs": [],
      "source": [
        "df['CODE_GENDER_CHANGED'] = df['CODE_GENDER'].apply(lambda x: 1 if x == 'XNA' else 0)"
      ]
    },
    {
      "cell_type": "code",
      "execution_count": 94,
      "metadata": {
        "execution": {
          "iopub.execute_input": "2021-07-13T08:25:28.521843Z",
          "iopub.status.busy": "2021-07-13T08:25:28.521468Z",
          "iopub.status.idle": "2021-07-13T08:25:28.597151Z",
          "shell.execute_reply": "2021-07-13T08:25:28.596516Z",
          "shell.execute_reply.started": "2021-07-13T08:25:28.521808Z"
        },
        "id": "wGarONYlJHPS",
        "trusted": true
      },
      "outputs": [],
      "source": [
        "df['CODE_GENDER'] = df['CODE_GENDER'].apply(lambda x: 'F' if x == 'XNA' else x)"
      ]
    },
    {
      "cell_type": "markdown",
      "metadata": {
        "id": "x-geGeRyJHPS"
      },
      "source": [
        "Перевірка, чи вилучено `XNA"
      ]
    },
    {
      "cell_type": "code",
      "execution_count": 95,
      "metadata": {
        "colab": {
          "base_uri": "https://localhost:8080/"
        },
        "execution": {
          "iopub.execute_input": "2021-07-13T08:25:28.598422Z",
          "iopub.status.busy": "2021-07-13T08:25:28.598048Z",
          "iopub.status.idle": "2021-07-13T08:25:28.665286Z",
          "shell.execute_reply": "2021-07-13T08:25:28.664436Z",
          "shell.execute_reply.started": "2021-07-13T08:25:28.598388Z"
        },
        "id": "0r5la0FaJHPS",
        "outputId": "12326b07-f39a-4905-f1e3-eee6f2718ceb",
        "trusted": true
      },
      "outputs": [
        {
          "data": {
            "text/plain": [
              "CODE_GENDER\n",
              "F    202452\n",
              "M    105059\n",
              "Name: count, dtype: int64"
            ]
          },
          "execution_count": 95,
          "metadata": {},
          "output_type": "execute_result"
        }
      ],
      "source": [
        "df['CODE_GENDER'].value_counts()"
      ]
    },
    {
      "cell_type": "markdown",
      "metadata": {
        "id": "N0efvoRJJHPS"
      },
      "source": [
        "### Аналіз стовпця `DAYS_BIRTH`"
      ]
    },
    {
      "cell_type": "code",
      "execution_count": 96,
      "metadata": {
        "colab": {
          "base_uri": "https://localhost:8080/"
        },
        "execution": {
          "iopub.execute_input": "2021-07-13T08:25:28.66681Z",
          "iopub.status.busy": "2021-07-13T08:25:28.666454Z",
          "iopub.status.idle": "2021-07-13T08:25:28.684847Z",
          "shell.execute_reply": "2021-07-13T08:25:28.684106Z",
          "shell.execute_reply.started": "2021-07-13T08:25:28.666751Z"
        },
        "id": "c-1VbHfpJHPS",
        "outputId": "1fc95f08-6804-4bc7-e894-5c0ef207cc28",
        "trusted": true
      },
      "outputs": [
        {
          "data": {
            "text/plain": [
              "DAYS_BIRTH\n",
              "-13749    43\n",
              "-13481    42\n",
              "-18248    41\n",
              "-10020    41\n",
              "-15771    40\n",
              "Name: count, dtype: int64"
            ]
          },
          "execution_count": 96,
          "metadata": {},
          "output_type": "execute_result"
        }
      ],
      "source": [
        "df['DAYS_BIRTH'].value_counts().head()"
      ]
    },
    {
      "cell_type": "markdown",
      "metadata": {
        "id": "ukXQRDLSJHPT"
      },
      "source": [
        "Існує ~17K+ унікальних записів, всі з яких, схоже, мають від'ємні значення"
      ]
    },
    {
      "cell_type": "code",
      "execution_count": 97,
      "metadata": {
        "colab": {
          "base_uri": "https://localhost:8080/"
        },
        "execution": {
          "iopub.execute_input": "2021-07-13T08:25:28.686169Z",
          "iopub.status.busy": "2021-07-13T08:25:28.685915Z",
          "iopub.status.idle": "2021-07-13T08:25:28.697794Z",
          "shell.execute_reply": "2021-07-13T08:25:28.696775Z",
          "shell.execute_reply.started": "2021-07-13T08:25:28.686129Z"
        },
        "id": "_N6p6CxeJHPT",
        "outputId": "0ab67ce6-5f7f-4d11-d5ee-5908c742f14b",
        "trusted": true
      },
      "outputs": [
        {
          "data": {
            "text/plain": [
              "array([ -9461, -16765, -19046, ...,  -7951,  -7857, -25061], dtype=int64)"
            ]
          },
          "execution_count": 97,
          "metadata": {},
          "output_type": "execute_result"
        }
      ],
      "source": [
        "df['DAYS_BIRTH'].unique()"
      ]
    },
    {
      "cell_type": "code",
      "execution_count": 98,
      "metadata": {
        "colab": {
          "base_uri": "https://localhost:8080/"
        },
        "execution": {
          "iopub.execute_input": "2021-07-13T08:25:28.699566Z",
          "iopub.status.busy": "2021-07-13T08:25:28.699211Z",
          "iopub.status.idle": "2021-07-13T08:25:28.710623Z",
          "shell.execute_reply": "2021-07-13T08:25:28.709791Z",
          "shell.execute_reply.started": "2021-07-13T08:25:28.69953Z"
        },
        "id": "pn-BF0zqJHPT",
        "outputId": "7be5a4bf-f97c-4364-9fbe-ff9231b11ea3",
        "trusted": true
      },
      "outputs": [
        {
          "data": {
            "text/plain": [
              "17460"
            ]
          },
          "execution_count": 98,
          "metadata": {},
          "output_type": "execute_result"
        }
      ],
      "source": [
        "df['DAYS_BIRTH'].nunique()"
      ]
    },
    {
      "cell_type": "code",
      "execution_count": 99,
      "metadata": {
        "colab": {
          "base_uri": "https://localhost:8080/"
        },
        "id": "QxkJMq4-1yMW",
        "outputId": "fac3e60a-269b-4b98-ca9a-350e76f3403d"
      },
      "outputs": [
        {
          "data": {
            "text/plain": [
              "count   307511.00\n",
              "mean    -16037.00\n",
              "std       4363.99\n",
              "min     -25229.00\n",
              "25%     -19682.00\n",
              "50%     -15750.00\n",
              "75%     -12413.00\n",
              "max      -7489.00\n",
              "Name: DAYS_BIRTH, dtype: float64"
            ]
          },
          "execution_count": 99,
          "metadata": {},
          "output_type": "execute_result"
        }
      ],
      "source": [
        "df['DAYS_BIRTH'].describe()"
      ]
    },
    {
      "cell_type": "markdown",
      "metadata": {
        "id": "oTBDKa4ZJHPT"
      },
      "source": [
        "Перетворення `Days Birth` на додатні дні"
      ]
    },
    {
      "cell_type": "code",
      "execution_count": 100,
      "metadata": {
        "execution": {
          "iopub.execute_input": "2021-07-13T08:25:28.712635Z",
          "iopub.status.busy": "2021-07-13T08:25:28.711966Z",
          "iopub.status.idle": "2021-07-13T08:25:28.913986Z",
          "shell.execute_reply": "2021-07-13T08:25:28.913298Z",
          "shell.execute_reply.started": "2021-07-13T08:25:28.712597Z"
        },
        "id": "S6hKknXQJHPT",
        "trusted": true
      },
      "outputs": [],
      "source": [
        "df['DAYS_BIRTH'] = df['DAYS_BIRTH'].apply(lambda x: -x if x < 0 else x)"
      ]
    },
    {
      "cell_type": "code",
      "execution_count": 101,
      "metadata": {
        "colab": {
          "base_uri": "https://localhost:8080/"
        },
        "execution": {
          "iopub.execute_input": "2021-07-13T08:25:28.915492Z",
          "iopub.status.busy": "2021-07-13T08:25:28.915081Z",
          "iopub.status.idle": "2021-07-13T08:25:28.928864Z",
          "shell.execute_reply": "2021-07-13T08:25:28.928025Z",
          "shell.execute_reply.started": "2021-07-13T08:25:28.915454Z"
        },
        "id": "2Dd7lam9JHPT",
        "outputId": "1890efe4-077e-4594-aad4-d58eeef2c14f",
        "trusted": true
      },
      "outputs": [
        {
          "data": {
            "text/plain": [
              "count   307511.00\n",
              "mean     16037.00\n",
              "std       4363.99\n",
              "min       7489.00\n",
              "25%      12413.00\n",
              "50%      15750.00\n",
              "75%      19682.00\n",
              "max      25229.00\n",
              "Name: DAYS_BIRTH, dtype: float64"
            ]
          },
          "execution_count": 101,
          "metadata": {},
          "output_type": "execute_result"
        }
      ],
      "source": [
        "df['DAYS_BIRTH'].describe()"
      ]
    },
    {
      "cell_type": "markdown",
      "metadata": {
        "id": "qOH46JY4JHPT"
      },
      "source": [
        "Всі дні в `DAYS_BIRTH` мають додатні значення - це може бути зручніше для аналізу."
      ]
    },
    {
      "cell_type": "markdown",
      "metadata": {
        "id": "o_j3DUq3JHPU"
      },
      "source": [
        "#### Створимо нову колонку `YEARS_BIRTH` для зручності аналізу"
      ]
    },
    {
      "cell_type": "code",
      "execution_count": 102,
      "metadata": {
        "execution": {
          "iopub.execute_input": "2021-07-13T08:25:28.930223Z",
          "iopub.status.busy": "2021-07-13T08:25:28.929921Z",
          "iopub.status.idle": "2021-07-13T08:25:29.1837Z",
          "shell.execute_reply": "2021-07-13T08:25:29.182989Z",
          "shell.execute_reply.started": "2021-07-13T08:25:28.930187Z"
        },
        "id": "iND0ywGSJHPU",
        "trusted": true
      },
      "outputs": [],
      "source": [
        "df['YEARS_BIRTH'] = df['DAYS_BIRTH'].apply(lambda x: round(x/365))"
      ]
    },
    {
      "cell_type": "markdown",
      "metadata": {
        "id": "aJFaC0dYJHPU"
      },
      "source": [
        "### Аналіз стовпця `NAME_FAMILY_STATUS`"
      ]
    },
    {
      "cell_type": "markdown",
      "metadata": {
        "id": "trK-ImjIJHPU"
      },
      "source": [
        "Перевірка діапазону значень"
      ]
    },
    {
      "cell_type": "code",
      "execution_count": 103,
      "metadata": {
        "colab": {
          "base_uri": "https://localhost:8080/"
        },
        "execution": {
          "iopub.execute_input": "2021-07-13T08:25:29.185106Z",
          "iopub.status.busy": "2021-07-13T08:25:29.184785Z",
          "iopub.status.idle": "2021-07-13T08:25:29.26025Z",
          "shell.execute_reply": "2021-07-13T08:25:29.259396Z",
          "shell.execute_reply.started": "2021-07-13T08:25:29.185078Z"
        },
        "id": "sLVwDuxOJHPU",
        "outputId": "affdbb71-247e-423f-f176-5056d8fc045e",
        "trusted": true
      },
      "outputs": [
        {
          "data": {
            "text/plain": [
              "NAME_FAMILY_STATUS\n",
              "Married                 196432\n",
              "Single / not married     45444\n",
              "Civil marriage           29775\n",
              "Separated                19770\n",
              "Widow                    16088\n",
              "Unknown                      2\n",
              "Name: count, dtype: int64"
            ]
          },
          "execution_count": 103,
          "metadata": {},
          "output_type": "execute_result"
        }
      ],
      "source": [
        "df['NAME_FAMILY_STATUS'].value_counts()"
      ]
    },
    {
      "cell_type": "markdown",
      "metadata": {
        "id": "ecdc39WeJHPU"
      },
      "source": [
        "Стать має бути тільки чоловіча або жіноча. Значення `Unknown` може означати, що значення не було вказане заявником або пропущене кредитним спеціалістом, який перевіряє заявку"
      ]
    },
    {
      "cell_type": "code",
      "execution_count": 104,
      "metadata": {
        "colab": {
          "base_uri": "https://localhost:8080/",
          "height": 167
        },
        "execution": {
          "iopub.execute_input": "2021-07-13T08:25:29.261824Z",
          "iopub.status.busy": "2021-07-13T08:25:29.261534Z",
          "iopub.status.idle": "2021-07-13T08:25:29.43657Z",
          "shell.execute_reply": "2021-07-13T08:25:29.435521Z",
          "shell.execute_reply.started": "2021-07-13T08:25:29.261799Z"
        },
        "id": "YD92lyfDJHPV",
        "outputId": "d7c300d9-f6f3-4021-c854-392572e30875",
        "trusted": true
      },
      "outputs": [
        {
          "data": {
            "text/html": [
              "<div>\n",
              "<style scoped>\n",
              "    .dataframe tbody tr th:only-of-type {\n",
              "        vertical-align: middle;\n",
              "    }\n",
              "\n",
              "    .dataframe tbody tr th {\n",
              "        vertical-align: top;\n",
              "    }\n",
              "\n",
              "    .dataframe thead th {\n",
              "        text-align: right;\n",
              "    }\n",
              "</style>\n",
              "<table border=\"1\" class=\"dataframe\">\n",
              "  <thead>\n",
              "    <tr style=\"text-align: right;\">\n",
              "      <th></th>\n",
              "      <th>SK_ID_CURR</th>\n",
              "      <th>TARGET</th>\n",
              "      <th>NAME_CONTRACT_TYPE</th>\n",
              "      <th>CODE_GENDER</th>\n",
              "      <th>FLAG_OWN_CAR</th>\n",
              "      <th>FLAG_OWN_REALTY</th>\n",
              "      <th>CNT_CHILDREN</th>\n",
              "      <th>AMT_INCOME_TOTAL</th>\n",
              "      <th>AMT_CREDIT</th>\n",
              "      <th>AMT_ANNUITY</th>\n",
              "      <th>AMT_GOODS_PRICE</th>\n",
              "      <th>NAME_TYPE_SUITE</th>\n",
              "      <th>NAME_INCOME_TYPE</th>\n",
              "      <th>NAME_EDUCATION_TYPE</th>\n",
              "      <th>NAME_FAMILY_STATUS</th>\n",
              "      <th>NAME_HOUSING_TYPE</th>\n",
              "      <th>REGION_POPULATION_RELATIVE</th>\n",
              "      <th>DAYS_BIRTH</th>\n",
              "      <th>DAYS_EMPLOYED</th>\n",
              "      <th>DAYS_REGISTRATION</th>\n",
              "      <th>DAYS_ID_PUBLISH</th>\n",
              "      <th>FLAG_MOBIL</th>\n",
              "      <th>FLAG_EMP_PHONE</th>\n",
              "      <th>FLAG_WORK_PHONE</th>\n",
              "      <th>FLAG_CONT_MOBILE</th>\n",
              "      <th>FLAG_PHONE</th>\n",
              "      <th>FLAG_EMAIL</th>\n",
              "      <th>OCCUPATION_TYPE</th>\n",
              "      <th>CNT_FAM_MEMBERS</th>\n",
              "      <th>REGION_RATING_CLIENT</th>\n",
              "      <th>REGION_RATING_CLIENT_W_CITY</th>\n",
              "      <th>WEEKDAY_APPR_PROCESS_START</th>\n",
              "      <th>HOUR_APPR_PROCESS_START</th>\n",
              "      <th>REG_REGION_NOT_LIVE_REGION</th>\n",
              "      <th>REG_REGION_NOT_WORK_REGION</th>\n",
              "      <th>LIVE_REGION_NOT_WORK_REGION</th>\n",
              "      <th>REG_CITY_NOT_LIVE_CITY</th>\n",
              "      <th>REG_CITY_NOT_WORK_CITY</th>\n",
              "      <th>LIVE_CITY_NOT_WORK_CITY</th>\n",
              "      <th>ORGANIZATION_TYPE</th>\n",
              "      <th>EXT_SOURCE_2</th>\n",
              "      <th>EXT_SOURCE_3</th>\n",
              "      <th>OBS_30_CNT_SOCIAL_CIRCLE</th>\n",
              "      <th>DEF_30_CNT_SOCIAL_CIRCLE</th>\n",
              "      <th>OBS_60_CNT_SOCIAL_CIRCLE</th>\n",
              "      <th>DEF_60_CNT_SOCIAL_CIRCLE</th>\n",
              "      <th>DAYS_LAST_PHONE_CHANGE</th>\n",
              "      <th>FLAG_DOCUMENT_2</th>\n",
              "      <th>FLAG_DOCUMENT_3</th>\n",
              "      <th>FLAG_DOCUMENT_4</th>\n",
              "      <th>FLAG_DOCUMENT_5</th>\n",
              "      <th>FLAG_DOCUMENT_6</th>\n",
              "      <th>FLAG_DOCUMENT_7</th>\n",
              "      <th>FLAG_DOCUMENT_8</th>\n",
              "      <th>FLAG_DOCUMENT_9</th>\n",
              "      <th>FLAG_DOCUMENT_10</th>\n",
              "      <th>FLAG_DOCUMENT_11</th>\n",
              "      <th>FLAG_DOCUMENT_12</th>\n",
              "      <th>FLAG_DOCUMENT_13</th>\n",
              "      <th>FLAG_DOCUMENT_14</th>\n",
              "      <th>FLAG_DOCUMENT_15</th>\n",
              "      <th>FLAG_DOCUMENT_16</th>\n",
              "      <th>FLAG_DOCUMENT_17</th>\n",
              "      <th>FLAG_DOCUMENT_18</th>\n",
              "      <th>FLAG_DOCUMENT_19</th>\n",
              "      <th>FLAG_DOCUMENT_20</th>\n",
              "      <th>FLAG_DOCUMENT_21</th>\n",
              "      <th>AMT_REQ_CREDIT_BUREAU_HOUR</th>\n",
              "      <th>AMT_REQ_CREDIT_BUREAU_DAY</th>\n",
              "      <th>AMT_REQ_CREDIT_BUREAU_WEEK</th>\n",
              "      <th>AMT_REQ_CREDIT_BUREAU_MON</th>\n",
              "      <th>AMT_REQ_CREDIT_BUREAU_QRT</th>\n",
              "      <th>AMT_REQ_CREDIT_BUREAU_YEAR</th>\n",
              "      <th>CODE_GENDER_CHANGED</th>\n",
              "      <th>YEARS_BIRTH</th>\n",
              "    </tr>\n",
              "  </thead>\n",
              "  <tbody>\n",
              "    <tr>\n",
              "      <th>41982</th>\n",
              "      <td>148605</td>\n",
              "      <td>0</td>\n",
              "      <td>Revolving loans</td>\n",
              "      <td>M</td>\n",
              "      <td>0</td>\n",
              "      <td>1</td>\n",
              "      <td>0</td>\n",
              "      <td>450000.00</td>\n",
              "      <td>675000.00</td>\n",
              "      <td>33750.00</td>\n",
              "      <td>NaN</td>\n",
              "      <td>NA</td>\n",
              "      <td>Commercial associate</td>\n",
              "      <td>Lower secondary</td>\n",
              "      <td>Unknown</td>\n",
              "      <td>Municipal apartment</td>\n",
              "      <td>0.02</td>\n",
              "      <td>12396</td>\n",
              "      <td>-1161</td>\n",
              "      <td>-3265.00</td>\n",
              "      <td>-4489</td>\n",
              "      <td>1</td>\n",
              "      <td>1</td>\n",
              "      <td>1</td>\n",
              "      <td>1</td>\n",
              "      <td>1</td>\n",
              "      <td>0</td>\n",
              "      <td>Managers</td>\n",
              "      <td>NaN</td>\n",
              "      <td>2</td>\n",
              "      <td>2</td>\n",
              "      <td>THURSDAY</td>\n",
              "      <td>15</td>\n",
              "      <td>0</td>\n",
              "      <td>1</td>\n",
              "      <td>1</td>\n",
              "      <td>0</td>\n",
              "      <td>1</td>\n",
              "      <td>1</td>\n",
              "      <td>Insurance</td>\n",
              "      <td>0.70</td>\n",
              "      <td>NaN</td>\n",
              "      <td>3.00</td>\n",
              "      <td>0.00</td>\n",
              "      <td>3.00</td>\n",
              "      <td>0.00</td>\n",
              "      <td>-876.00</td>\n",
              "      <td>0</td>\n",
              "      <td>0</td>\n",
              "      <td>0</td>\n",
              "      <td>1</td>\n",
              "      <td>0</td>\n",
              "      <td>0</td>\n",
              "      <td>0</td>\n",
              "      <td>0</td>\n",
              "      <td>0</td>\n",
              "      <td>0</td>\n",
              "      <td>0</td>\n",
              "      <td>0</td>\n",
              "      <td>0</td>\n",
              "      <td>0</td>\n",
              "      <td>0</td>\n",
              "      <td>0</td>\n",
              "      <td>0</td>\n",
              "      <td>0</td>\n",
              "      <td>0</td>\n",
              "      <td>0</td>\n",
              "      <td>NaN</td>\n",
              "      <td>NaN</td>\n",
              "      <td>NaN</td>\n",
              "      <td>NaN</td>\n",
              "      <td>NaN</td>\n",
              "      <td>NaN</td>\n",
              "      <td>0</td>\n",
              "      <td>34</td>\n",
              "    </tr>\n",
              "    <tr>\n",
              "      <th>187348</th>\n",
              "      <td>317181</td>\n",
              "      <td>0</td>\n",
              "      <td>Revolving loans</td>\n",
              "      <td>F</td>\n",
              "      <td>0</td>\n",
              "      <td>1</td>\n",
              "      <td>0</td>\n",
              "      <td>202500.00</td>\n",
              "      <td>585000.00</td>\n",
              "      <td>29250.00</td>\n",
              "      <td>NaN</td>\n",
              "      <td>NA</td>\n",
              "      <td>Commercial associate</td>\n",
              "      <td>Higher education</td>\n",
              "      <td>Unknown</td>\n",
              "      <td>House / apartment</td>\n",
              "      <td>0.03</td>\n",
              "      <td>12844</td>\n",
              "      <td>-232</td>\n",
              "      <td>-1597.00</td>\n",
              "      <td>-1571</td>\n",
              "      <td>1</td>\n",
              "      <td>1</td>\n",
              "      <td>0</td>\n",
              "      <td>1</td>\n",
              "      <td>0</td>\n",
              "      <td>0</td>\n",
              "      <td>Accountants</td>\n",
              "      <td>NaN</td>\n",
              "      <td>2</td>\n",
              "      <td>2</td>\n",
              "      <td>FRIDAY</td>\n",
              "      <td>14</td>\n",
              "      <td>0</td>\n",
              "      <td>0</td>\n",
              "      <td>0</td>\n",
              "      <td>0</td>\n",
              "      <td>0</td>\n",
              "      <td>0</td>\n",
              "      <td>Business Entity Type 2</td>\n",
              "      <td>0.65</td>\n",
              "      <td>0.67</td>\n",
              "      <td>1.00</td>\n",
              "      <td>0.00</td>\n",
              "      <td>1.00</td>\n",
              "      <td>0.00</td>\n",
              "      <td>-654.00</td>\n",
              "      <td>0</td>\n",
              "      <td>0</td>\n",
              "      <td>0</td>\n",
              "      <td>0</td>\n",
              "      <td>0</td>\n",
              "      <td>1</td>\n",
              "      <td>0</td>\n",
              "      <td>0</td>\n",
              "      <td>0</td>\n",
              "      <td>0</td>\n",
              "      <td>0</td>\n",
              "      <td>0</td>\n",
              "      <td>0</td>\n",
              "      <td>0</td>\n",
              "      <td>0</td>\n",
              "      <td>0</td>\n",
              "      <td>0</td>\n",
              "      <td>0</td>\n",
              "      <td>0</td>\n",
              "      <td>0</td>\n",
              "      <td>0.00</td>\n",
              "      <td>0.00</td>\n",
              "      <td>0.00</td>\n",
              "      <td>0.00</td>\n",
              "      <td>0.00</td>\n",
              "      <td>1.00</td>\n",
              "      <td>0</td>\n",
              "      <td>35</td>\n",
              "    </tr>\n",
              "  </tbody>\n",
              "</table>\n",
              "</div>"
            ],
            "text/plain": [
              "       SK_ID_CURR  TARGET NAME_CONTRACT_TYPE CODE_GENDER  FLAG_OWN_CAR  \\\n",
              "41982      148605       0    Revolving loans           M             0   \n",
              "187348     317181       0    Revolving loans           F             0   \n",
              "\n",
              "        FLAG_OWN_REALTY  CNT_CHILDREN  AMT_INCOME_TOTAL  AMT_CREDIT  \\\n",
              "41982                 1             0         450000.00   675000.00   \n",
              "187348                1             0         202500.00   585000.00   \n",
              "\n",
              "        AMT_ANNUITY  AMT_GOODS_PRICE NAME_TYPE_SUITE      NAME_INCOME_TYPE  \\\n",
              "41982      33750.00              NaN              NA  Commercial associate   \n",
              "187348     29250.00              NaN              NA  Commercial associate   \n",
              "\n",
              "       NAME_EDUCATION_TYPE NAME_FAMILY_STATUS    NAME_HOUSING_TYPE  \\\n",
              "41982      Lower secondary            Unknown  Municipal apartment   \n",
              "187348    Higher education            Unknown    House / apartment   \n",
              "\n",
              "        REGION_POPULATION_RELATIVE  DAYS_BIRTH  DAYS_EMPLOYED  \\\n",
              "41982                         0.02       12396          -1161   \n",
              "187348                        0.03       12844           -232   \n",
              "\n",
              "        DAYS_REGISTRATION  DAYS_ID_PUBLISH  FLAG_MOBIL  FLAG_EMP_PHONE  \\\n",
              "41982            -3265.00            -4489           1               1   \n",
              "187348           -1597.00            -1571           1               1   \n",
              "\n",
              "        FLAG_WORK_PHONE  FLAG_CONT_MOBILE  FLAG_PHONE  FLAG_EMAIL  \\\n",
              "41982                 1                 1           1           0   \n",
              "187348                0                 1           0           0   \n",
              "\n",
              "       OCCUPATION_TYPE  CNT_FAM_MEMBERS  REGION_RATING_CLIENT  \\\n",
              "41982         Managers              NaN                     2   \n",
              "187348     Accountants              NaN                     2   \n",
              "\n",
              "        REGION_RATING_CLIENT_W_CITY WEEKDAY_APPR_PROCESS_START  \\\n",
              "41982                             2                   THURSDAY   \n",
              "187348                            2                     FRIDAY   \n",
              "\n",
              "        HOUR_APPR_PROCESS_START  REG_REGION_NOT_LIVE_REGION  \\\n",
              "41982                        15                           0   \n",
              "187348                       14                           0   \n",
              "\n",
              "        REG_REGION_NOT_WORK_REGION  LIVE_REGION_NOT_WORK_REGION  \\\n",
              "41982                            1                            1   \n",
              "187348                           0                            0   \n",
              "\n",
              "        REG_CITY_NOT_LIVE_CITY  REG_CITY_NOT_WORK_CITY  \\\n",
              "41982                        0                       1   \n",
              "187348                       0                       0   \n",
              "\n",
              "        LIVE_CITY_NOT_WORK_CITY       ORGANIZATION_TYPE  EXT_SOURCE_2  \\\n",
              "41982                         1               Insurance          0.70   \n",
              "187348                        0  Business Entity Type 2          0.65   \n",
              "\n",
              "        EXT_SOURCE_3  OBS_30_CNT_SOCIAL_CIRCLE  DEF_30_CNT_SOCIAL_CIRCLE  \\\n",
              "41982            NaN                      3.00                      0.00   \n",
              "187348          0.67                      1.00                      0.00   \n",
              "\n",
              "        OBS_60_CNT_SOCIAL_CIRCLE  DEF_60_CNT_SOCIAL_CIRCLE  \\\n",
              "41982                       3.00                      0.00   \n",
              "187348                      1.00                      0.00   \n",
              "\n",
              "        DAYS_LAST_PHONE_CHANGE  FLAG_DOCUMENT_2  FLAG_DOCUMENT_3  \\\n",
              "41982                  -876.00                0                0   \n",
              "187348                 -654.00                0                0   \n",
              "\n",
              "        FLAG_DOCUMENT_4  FLAG_DOCUMENT_5  FLAG_DOCUMENT_6  FLAG_DOCUMENT_7  \\\n",
              "41982                 0                1                0                0   \n",
              "187348                0                0                0                1   \n",
              "\n",
              "        FLAG_DOCUMENT_8  FLAG_DOCUMENT_9  FLAG_DOCUMENT_10  FLAG_DOCUMENT_11  \\\n",
              "41982                 0                0                 0                 0   \n",
              "187348                0                0                 0                 0   \n",
              "\n",
              "        FLAG_DOCUMENT_12  FLAG_DOCUMENT_13  FLAG_DOCUMENT_14  \\\n",
              "41982                  0                 0                 0   \n",
              "187348                 0                 0                 0   \n",
              "\n",
              "        FLAG_DOCUMENT_15  FLAG_DOCUMENT_16  FLAG_DOCUMENT_17  \\\n",
              "41982                  0                 0                 0   \n",
              "187348                 0                 0                 0   \n",
              "\n",
              "        FLAG_DOCUMENT_18  FLAG_DOCUMENT_19  FLAG_DOCUMENT_20  \\\n",
              "41982                  0                 0                 0   \n",
              "187348                 0                 0                 0   \n",
              "\n",
              "        FLAG_DOCUMENT_21  AMT_REQ_CREDIT_BUREAU_HOUR  \\\n",
              "41982                  0                         NaN   \n",
              "187348                 0                        0.00   \n",
              "\n",
              "        AMT_REQ_CREDIT_BUREAU_DAY  AMT_REQ_CREDIT_BUREAU_WEEK  \\\n",
              "41982                         NaN                         NaN   \n",
              "187348                       0.00                        0.00   \n",
              "\n",
              "        AMT_REQ_CREDIT_BUREAU_MON  AMT_REQ_CREDIT_BUREAU_QRT  \\\n",
              "41982                         NaN                        NaN   \n",
              "187348                       0.00                       0.00   \n",
              "\n",
              "        AMT_REQ_CREDIT_BUREAU_YEAR  CODE_GENDER_CHANGED  YEARS_BIRTH  \n",
              "41982                          NaN                    0           34  \n",
              "187348                        1.00                    0           35  "
            ]
          },
          "execution_count": 104,
          "metadata": {},
          "output_type": "execute_result"
        }
      ],
      "source": [
        "df[df['NAME_FAMILY_STATUS'] == 'Unknown']"
      ]
    },
    {
      "cell_type": "code",
      "execution_count": 105,
      "metadata": {
        "colab": {
          "base_uri": "https://localhost:8080/"
        },
        "execution": {
          "iopub.execute_input": "2021-07-13T08:25:29.43823Z",
          "iopub.status.busy": "2021-07-13T08:25:29.437924Z",
          "iopub.status.idle": "2021-07-13T08:25:29.517576Z",
          "shell.execute_reply": "2021-07-13T08:25:29.516642Z",
          "shell.execute_reply.started": "2021-07-13T08:25:29.438203Z"
        },
        "id": "q9DW3Vz5JHPV",
        "outputId": "98290270-7434-413a-c2bf-42d7b1cf2f49",
        "trusted": true
      },
      "outputs": [
        {
          "data": {
            "text/plain": [
              "NAME_FAMILY_STATUS\n",
              "Married                63.88\n",
              "Single / not married   14.78\n",
              "Civil marriage          9.68\n",
              "Separated               6.43\n",
              "Widow                   5.23\n",
              "Unknown                 0.00\n",
              "Name: proportion, dtype: float64"
            ]
          },
          "execution_count": 105,
          "metadata": {},
          "output_type": "execute_result"
        }
      ],
      "source": [
        "df['NAME_FAMILY_STATUS'].value_counts(normalize = True) * 100"
      ]
    },
    {
      "cell_type": "markdown",
      "metadata": {
        "id": "5UJd_gUJJHPV"
      },
      "source": [
        "Оскільки дані виглядають достовірними, ми продовжимо перевірку методу імплікації.\n",
        "- Одружені заявники складають понад 63% заявників.\n",
        "- Отже, ми прирівняємо `NAME_FAMILY_STATUS` до `Married`."
      ]
    },
    {
      "cell_type": "code",
      "execution_count": 106,
      "metadata": {
        "execution": {
          "iopub.execute_input": "2021-07-13T08:25:29.520421Z",
          "iopub.status.busy": "2021-07-13T08:25:29.519677Z",
          "iopub.status.idle": "2021-07-13T08:25:29.602066Z",
          "shell.execute_reply": "2021-07-13T08:25:29.601309Z",
          "shell.execute_reply.started": "2021-07-13T08:25:29.520389Z"
        },
        "id": "ZsuheF9IJHPV",
        "trusted": true
      },
      "outputs": [],
      "source": [
        "df['NAME_FAMILY_STATUS'] = df['NAME_FAMILY_STATUS'].apply(lambda x: 'Married' if x == 'Unknown' else x)"
      ]
    },
    {
      "cell_type": "markdown",
      "metadata": {
        "id": "fOLZqNmhJHPW"
      },
      "source": [
        "Перевірка чи вилучено `Unknown`"
      ]
    },
    {
      "cell_type": "code",
      "execution_count": 107,
      "metadata": {
        "colab": {
          "base_uri": "https://localhost:8080/"
        },
        "execution": {
          "iopub.execute_input": "2021-07-13T08:25:29.603415Z",
          "iopub.status.busy": "2021-07-13T08:25:29.603131Z",
          "iopub.status.idle": "2021-07-13T08:25:29.681984Z",
          "shell.execute_reply": "2021-07-13T08:25:29.681223Z",
          "shell.execute_reply.started": "2021-07-13T08:25:29.603389Z"
        },
        "id": "EmVGhlrkJHPW",
        "outputId": "8b65c540-6644-4fe2-e5ae-1045544e5435",
        "scrolled": true,
        "trusted": true
      },
      "outputs": [
        {
          "data": {
            "text/plain": [
              "NAME_FAMILY_STATUS\n",
              "Married                 196434\n",
              "Single / not married     45444\n",
              "Civil marriage           29775\n",
              "Separated                19770\n",
              "Widow                    16088\n",
              "Name: count, dtype: int64"
            ]
          },
          "execution_count": 107,
          "metadata": {},
          "output_type": "execute_result"
        }
      ],
      "source": [
        "df['NAME_FAMILY_STATUS'].value_counts()"
      ]
    },
    {
      "cell_type": "markdown",
      "metadata": {
        "id": "QRuMuf45JHPW"
      },
      "source": [
        "### Аналіз стовпця`DAYS_EMPLOYED`"
      ]
    },
    {
      "cell_type": "code",
      "execution_count": 108,
      "metadata": {
        "colab": {
          "base_uri": "https://localhost:8080/"
        },
        "execution": {
          "iopub.execute_input": "2021-07-13T08:25:29.683469Z",
          "iopub.status.busy": "2021-07-13T08:25:29.683221Z",
          "iopub.status.idle": "2021-07-13T08:25:29.696411Z",
          "shell.execute_reply": "2021-07-13T08:25:29.695634Z",
          "shell.execute_reply.started": "2021-07-13T08:25:29.683446Z"
        },
        "id": "fPQDevgTJHPW",
        "outputId": "ff39f746-6a5d-40f3-9d8e-94086b079202",
        "trusted": true
      },
      "outputs": [
        {
          "data": {
            "text/plain": [
              "DAYS_EMPLOYED\n",
              " 365243    55374\n",
              "-200         156\n",
              "-224         152\n",
              "-230         151\n",
              "-199         151\n",
              "Name: count, dtype: int64"
            ]
          },
          "execution_count": 108,
          "metadata": {},
          "output_type": "execute_result"
        }
      ],
      "source": [
        "df['DAYS_EMPLOYED'].value_counts().head()"
      ]
    },
    {
      "cell_type": "code",
      "execution_count": 109,
      "metadata": {
        "colab": {
          "base_uri": "https://localhost:8080/"
        },
        "execution": {
          "iopub.execute_input": "2021-07-13T08:25:29.697671Z",
          "iopub.status.busy": "2021-07-13T08:25:29.69744Z",
          "iopub.status.idle": "2021-07-13T08:25:29.714068Z",
          "shell.execute_reply": "2021-07-13T08:25:29.713241Z",
          "shell.execute_reply.started": "2021-07-13T08:25:29.697649Z"
        },
        "id": "-CLA0E4uJHPW",
        "outputId": "6d3bc298-c9b4-42ae-8573-6c01abb971ee",
        "trusted": true
      },
      "outputs": [
        {
          "data": {
            "text/plain": [
              "DAYS_EMPLOYED\n",
              " 365243   18.01\n",
              "-200       0.05\n",
              "-224       0.05\n",
              "-230       0.05\n",
              "-199       0.05\n",
              "           ... \n",
              "-13961     0.00\n",
              "-11827     0.00\n",
              "-10176     0.00\n",
              "-9459      0.00\n",
              "-8694      0.00\n",
              "Name: proportion, Length: 12574, dtype: float64"
            ]
          },
          "execution_count": 109,
          "metadata": {},
          "output_type": "execute_result"
        }
      ],
      "source": [
        "df['DAYS_EMPLOYED'].value_counts(normalize = True) * 100"
      ]
    },
    {
      "cell_type": "code",
      "execution_count": 110,
      "metadata": {
        "colab": {
          "base_uri": "https://localhost:8080/"
        },
        "execution": {
          "iopub.execute_input": "2021-07-13T08:25:29.715664Z",
          "iopub.status.busy": "2021-07-13T08:25:29.715328Z",
          "iopub.status.idle": "2021-07-13T08:25:29.802848Z",
          "shell.execute_reply": "2021-07-13T08:25:29.802182Z",
          "shell.execute_reply.started": "2021-07-13T08:25:29.715629Z"
        },
        "id": "ysASCbt_JHPW",
        "outputId": "09b4cb43-ac33-444d-ed45-f5902b402605",
        "trusted": true
      },
      "outputs": [
        {
          "data": {
            "text/plain": [
              "252137"
            ]
          },
          "execution_count": 110,
          "metadata": {},
          "output_type": "execute_result"
        }
      ],
      "source": [
        "len(df[df['DAYS_EMPLOYED'] < 365243])"
      ]
    },
    {
      "cell_type": "code",
      "execution_count": 111,
      "metadata": {
        "colab": {
          "base_uri": "https://localhost:8080/"
        },
        "execution": {
          "iopub.execute_input": "2021-07-13T08:25:29.804471Z",
          "iopub.status.busy": "2021-07-13T08:25:29.804083Z",
          "iopub.status.idle": "2021-07-13T08:25:29.898408Z",
          "shell.execute_reply": "2021-07-13T08:25:29.897352Z",
          "shell.execute_reply.started": "2021-07-13T08:25:29.804431Z"
        },
        "id": "IxLasWYWJHPW",
        "outputId": "ec9df093-f548-4633-e438-fcd249e03672",
        "scrolled": true,
        "trusted": true
      },
      "outputs": [
        {
          "data": {
            "text/plain": [
              "DAYS_EMPLOYED\n",
              "-200      156\n",
              "-224      152\n",
              "-199      151\n",
              "-230      151\n",
              "-212      150\n",
              "         ... \n",
              "-13961      1\n",
              "-11827      1\n",
              "-10176      1\n",
              "-9459       1\n",
              "-8694       1\n",
              "Name: count, Length: 12573, dtype: int64"
            ]
          },
          "execution_count": 111,
          "metadata": {},
          "output_type": "execute_result"
        }
      ],
      "source": [
        "df[df['DAYS_EMPLOYED'] < 365243].DAYS_EMPLOYED.value_counts()"
      ]
    },
    {
      "cell_type": "code",
      "execution_count": 112,
      "metadata": {
        "colab": {
          "base_uri": "https://localhost:8080/"
        },
        "execution": {
          "iopub.execute_input": "2021-07-13T08:25:29.900112Z",
          "iopub.status.busy": "2021-07-13T08:25:29.899717Z",
          "iopub.status.idle": "2021-07-13T08:25:29.911054Z",
          "shell.execute_reply": "2021-07-13T08:25:29.90995Z",
          "shell.execute_reply.started": "2021-07-13T08:25:29.900071Z"
        },
        "id": "R-hw_Ez5JHPW",
        "outputId": "555ae638-62de-408a-c2f5-19ae11f709df",
        "trusted": true
      },
      "outputs": [
        {
          "data": {
            "text/plain": [
              "array([  -637,  -1188,   -225, ..., -12971, -11084,  -8694], dtype=int64)"
            ]
          },
          "execution_count": 112,
          "metadata": {},
          "output_type": "execute_result"
        }
      ],
      "source": [
        "df['DAYS_EMPLOYED'].unique()"
      ]
    },
    {
      "cell_type": "code",
      "execution_count": 113,
      "metadata": {
        "colab": {
          "base_uri": "https://localhost:8080/"
        },
        "execution": {
          "iopub.execute_input": "2021-07-13T08:25:29.912472Z",
          "iopub.status.busy": "2021-07-13T08:25:29.912148Z",
          "iopub.status.idle": "2021-07-13T08:25:29.922745Z",
          "shell.execute_reply": "2021-07-13T08:25:29.921923Z",
          "shell.execute_reply.started": "2021-07-13T08:25:29.912444Z"
        },
        "id": "FknGLWlIJHPX",
        "outputId": "d9c6121b-63ff-4cb4-b5a5-1b278f5dd61e",
        "trusted": true
      },
      "outputs": [
        {
          "data": {
            "text/plain": [
              "12574"
            ]
          },
          "execution_count": 113,
          "metadata": {},
          "output_type": "execute_result"
        }
      ],
      "source": [
        "df['DAYS_EMPLOYED'].nunique()"
      ]
    },
    {
      "cell_type": "markdown",
      "metadata": {
        "id": "N2Om6HRhJHPX"
      },
      "source": [
        "**Спостереження**\n",
        "- Існує ~55K+ записів, для яких `DAYS_EMPLOYED` дорівнює 365243 дням\n",
        "- Решта 252K+ записів мають від'ємне значення днів\n",
        "- Існує 12 574 унікальних значень для `DAYS_EMPLOYED"
      ]
    },
    {
      "cell_type": "markdown",
      "metadata": {
        "id": "UkOSkVYKJHPX"
      },
      "source": [
        " - Колонка `DAYS_EMPLOYED` вказує на те, за скільки днів до подачі заявки особа почала поточну роботу, заявник/кредитний спеціаліст повинен ввести від'ємні значення, щоб вказати дні, що передують даті подачі заявки.<br>\n",
        " - Ми конвертуємо від'ємні значення в `DAYS_EMPLOYED` в додатні дні, щоб стандартизувати дні під час використання в розрахунках"
      ]
    },
    {
      "cell_type": "code",
      "execution_count": 114,
      "metadata": {
        "execution": {
          "iopub.execute_input": "2021-07-13T08:25:29.924099Z",
          "iopub.status.busy": "2021-07-13T08:25:29.92384Z",
          "iopub.status.idle": "2021-07-13T08:25:30.150509Z",
          "shell.execute_reply": "2021-07-13T08:25:30.149635Z",
          "shell.execute_reply.started": "2021-07-13T08:25:29.924074Z"
        },
        "id": "gCls1Y5kJHPX",
        "trusted": true
      },
      "outputs": [],
      "source": [
        "df['DAYS_EMPLOYED'] = df['DAYS_EMPLOYED'].apply(lambda x: -x if x < 0 else x)"
      ]
    },
    {
      "cell_type": "code",
      "execution_count": 115,
      "metadata": {
        "colab": {
          "base_uri": "https://localhost:8080/"
        },
        "execution": {
          "iopub.execute_input": "2021-07-13T08:25:30.15191Z",
          "iopub.status.busy": "2021-07-13T08:25:30.151645Z",
          "iopub.status.idle": "2021-07-13T08:25:30.162808Z",
          "shell.execute_reply": "2021-07-13T08:25:30.161956Z",
          "shell.execute_reply.started": "2021-07-13T08:25:30.151886Z"
        },
        "id": "wj8ei28dJHPX",
        "outputId": "6af23d08-bee4-4b81-8e7e-e8f968e6643b",
        "scrolled": true,
        "trusted": true
      },
      "outputs": [
        {
          "data": {
            "text/plain": [
              "DAYS_EMPLOYED\n",
              "365243    55374\n",
              "200         156\n",
              "224         152\n",
              "230         151\n",
              "199         151\n",
              "Name: count, dtype: int64"
            ]
          },
          "execution_count": 115,
          "metadata": {},
          "output_type": "execute_result"
        }
      ],
      "source": [
        "df['DAYS_EMPLOYED'].value_counts().head()"
      ]
    },
    {
      "cell_type": "markdown",
      "metadata": {
        "id": "aels9geJJHPX"
      },
      "source": [
        "Ми бачимо, що всі дні в `DAYS_EMPLOYED` мають додатні значення."
      ]
    },
    {
      "cell_type": "markdown",
      "metadata": {
        "id": "ZaxGfjAlJHPX"
      },
      "source": [
        "**Для ~55K+ записів, для яких `DAYS_EMPLOYED` становить 365243 дні**\n",
        "- Конвертуючи це в роки, ми отримуємо 1000 років, які фізично неможливо використати для працевлаштування заявника\n",
        "- Це відповідає 18% даних і не може бути аномалією\n",
        "- Вони можуть бути або \"пенсіонерами\", або \"безробітними\", і, дивлячись на дані, наш висновок є правильним\n",
        "\n",
        "> Є два способи впоратися з цим\n",
        ">> 1) Ми залишаємо дані такими, якими вони є, і враховуємо це під час аналізу АБО  <br>\n",
        ">> 2) Ми розраховуємо середню кількість днів зайнятості без урахування цієї категорії та вписуємо її замість 365243 днів для пенсіонерів. <br>\n",
        ">> Для безробітних кількість днів зайнятості може дорівнювати 0\n",
        "\n",
        "*Примітка*\n",
        " - Під час розрахунків у цьому стовпчику ми повинні враховувати цей сценарій, оскільки інакше він спотворює наші результати"
      ]
    },
    {
      "cell_type": "code",
      "execution_count": 120,
      "metadata": {},
      "outputs": [
        {
          "data": {
            "text/plain": [
              "NAME_INCOME_TYPE\n",
              "Pensioner     55352\n",
              "Unemployed       22\n",
              "Name: count, dtype: int64"
            ]
          },
          "execution_count": 120,
          "metadata": {},
          "output_type": "execute_result"
        }
      ],
      "source": [
        "df[df['DAYS_EMPLOYED'] == 365243].NAME_INCOME_TYPE.value_counts()"
      ]
    },
    {
      "cell_type": "code",
      "execution_count": 116,
      "metadata": {
        "id": "DuuuNDcOD-Pn"
      },
      "outputs": [],
      "source": [
        "days_median = df[df['DAYS_EMPLOYED'] != 365243].DAYS_EMPLOYED.median()"
      ]
    },
    {
      "cell_type": "code",
      "execution_count": 117,
      "metadata": {
        "id": "SFymh6rnEjR4"
      },
      "outputs": [],
      "source": [
        "df_days_employed = df['DAYS_EMPLOYED'].apply(lambda x: days_median if x==365243 else x)"
      ]
    },
    {
      "cell_type": "code",
      "execution_count": 118,
      "metadata": {
        "colab": {
          "base_uri": "https://localhost:8080/",
          "height": 447
        },
        "id": "vAmPH2wPEzqI",
        "outputId": "c11258a5-12d6-4b7c-88b5-b1fbd9a78ea3"
      },
      "outputs": [
        {
          "data": {
            "text/plain": [
              "<Axes: >"
            ]
          },
          "execution_count": 118,
          "metadata": {},
          "output_type": "execute_result"
        },
        {
          "data": {
            "image/png": "[encoded data removed]",
            "text/plain": [
              "<Figure size 640x480 with 1 Axes>"
            ]
          },
          "metadata": {},
          "output_type": "display_data"
        }
      ],
      "source": [
        "df_days_employed.hist(bins=20)"
      ]
    },
    {
      "cell_type": "code",
      "execution_count": 121,
      "metadata": {
        "colab": {
          "base_uri": "https://localhost:8080/",
          "height": 447
        },
        "id": "A2RrOjtcDvst",
        "outputId": "4046f956-3db4-4898-e8c3-c48565cbc6af"
      },
      "outputs": [
        {
          "data": {
            "text/plain": [
              "<Axes: >"
            ]
          },
          "execution_count": 121,
          "metadata": {},
          "output_type": "execute_result"
        },
        {
          "data": {
            "image/png": "[encoded data removed]",
            "text/plain": [
              "<Figure size 640x480 with 1 Axes>"
            ]
          },
          "metadata": {},
          "output_type": "display_data"
        }
      ],
      "source": [
        "df[df['DAYS_EMPLOYED'] != 365243].DAYS_EMPLOYED.hist(bins=20)"
      ]
    },
    {
      "cell_type": "code",
      "execution_count": null,
      "metadata": {
        "colab": {
          "base_uri": "https://localhost:8080/"
        },
        "execution": {
          "iopub.execute_input": "2021-07-13T08:25:30.164463Z",
          "iopub.status.busy": "2021-07-13T08:25:30.164077Z",
          "iopub.status.idle": "2021-07-13T08:25:30.213299Z",
          "shell.execute_reply": "2021-07-13T08:25:30.212449Z",
          "shell.execute_reply.started": "2021-07-13T08:25:30.164426Z"
        },
        "id": "Id7j-Zt-JHPa",
        "outputId": "e25568d4-7d01-4180-ef4d-039a7ca10eaa",
        "scrolled": true,
        "trusted": true
      },
      "outputs": [],
      "source": [
        "df[df['DAYS_EMPLOYED'] == 365243].NAME_INCOME_TYPE.value_counts()"
      ]
    },
    {
      "cell_type": "markdown",
      "metadata": {
        "id": "K7oUnfOwJHPb"
      },
      "source": [
        "#### Створимо нову колонку `YEARS_EMPLOYED` для зручності аналізу"
      ]
    },
    {
      "cell_type": "code",
      "execution_count": null,
      "metadata": {
        "execution": {
          "iopub.execute_input": "2021-07-13T08:25:30.214529Z",
          "iopub.status.busy": "2021-07-13T08:25:30.214283Z",
          "iopub.status.idle": "2021-07-13T08:25:30.468461Z",
          "shell.execute_reply": "2021-07-13T08:25:30.467637Z",
          "shell.execute_reply.started": "2021-07-13T08:25:30.214506Z"
        },
        "id": "NBSZDEf3JHPb",
        "trusted": true
      },
      "outputs": [],
      "source": [
        "df['YEARS_EMPLOYED'] = df['DAYS_EMPLOYED'].apply(lambda x: round(x/365))"
      ]
    },
    {
      "cell_type": "markdown",
      "metadata": {
        "id": "KcdbgupkJHPb"
      },
      "source": [
        "### Аналіз стовпця `DAYS_REGISTRATION`"
      ]
    },
    {
      "cell_type": "code",
      "execution_count": null,
      "metadata": {
        "colab": {
          "base_uri": "https://localhost:8080/"
        },
        "execution": {
          "iopub.execute_input": "2021-07-13T08:25:30.469953Z",
          "iopub.status.busy": "2021-07-13T08:25:30.469657Z",
          "iopub.status.idle": "2021-07-13T08:25:30.487727Z",
          "shell.execute_reply": "2021-07-13T08:25:30.48681Z",
          "shell.execute_reply.started": "2021-07-13T08:25:30.469925Z"
        },
        "id": "H-twPu03JHPb",
        "outputId": "ca3d69ab-859f-45c6-995c-4cf068cf06ec",
        "trusted": true
      },
      "outputs": [],
      "source": [
        "df['DAYS_REGISTRATION'].value_counts().head()"
      ]
    },
    {
      "cell_type": "code",
      "execution_count": null,
      "metadata": {
        "colab": {
          "base_uri": "https://localhost:8080/"
        },
        "execution": {
          "iopub.execute_input": "2021-07-13T08:25:30.489025Z",
          "iopub.status.busy": "2021-07-13T08:25:30.488784Z",
          "iopub.status.idle": "2021-07-13T08:25:30.504588Z",
          "shell.execute_reply": "2021-07-13T08:25:30.50385Z",
          "shell.execute_reply.started": "2021-07-13T08:25:30.489002Z"
        },
        "id": "IiW-Nt6GJHPb",
        "outputId": "b58f293d-187e-4b44-8adc-5048b2c0e5c5",
        "trusted": true
      },
      "outputs": [],
      "source": [
        "df['DAYS_REGISTRATION'].value_counts(normalize = True).head()"
      ]
    },
    {
      "cell_type": "code",
      "execution_count": null,
      "metadata": {
        "colab": {
          "base_uri": "https://localhost:8080/"
        },
        "execution": {
          "iopub.execute_input": "2021-07-13T08:25:30.505873Z",
          "iopub.status.busy": "2021-07-13T08:25:30.505607Z",
          "iopub.status.idle": "2021-07-13T08:25:30.51694Z",
          "shell.execute_reply": "2021-07-13T08:25:30.51625Z",
          "shell.execute_reply.started": "2021-07-13T08:25:30.505849Z"
        },
        "id": "1MRPAIQgJHPb",
        "outputId": "68c24410-ad6d-4ada-f151-0ff57344fda1",
        "trusted": true
      },
      "outputs": [],
      "source": [
        "df['DAYS_REGISTRATION'].unique()"
      ]
    },
    {
      "cell_type": "code",
      "execution_count": null,
      "metadata": {
        "colab": {
          "base_uri": "https://localhost:8080/"
        },
        "execution": {
          "iopub.execute_input": "2021-07-13T08:25:30.518001Z",
          "iopub.status.busy": "2021-07-13T08:25:30.517729Z",
          "iopub.status.idle": "2021-07-13T08:25:30.531235Z",
          "shell.execute_reply": "2021-07-13T08:25:30.530354Z",
          "shell.execute_reply.started": "2021-07-13T08:25:30.517976Z"
        },
        "id": "uol-wmWkJHPc",
        "outputId": "2ba123ff-a0f5-4405-c849-54529f5f4f0d",
        "trusted": true
      },
      "outputs": [],
      "source": [
        "df['DAYS_REGISTRATION'].nunique()"
      ]
    },
    {
      "cell_type": "markdown",
      "metadata": {
        "id": "3NXwum7sJHPc"
      },
      "source": [
        "Перетворення `DAYS_REGISTRATION` в додатні дні"
      ]
    },
    {
      "cell_type": "code",
      "execution_count": null,
      "metadata": {
        "execution": {
          "iopub.execute_input": "2021-07-13T08:25:30.53259Z",
          "iopub.status.busy": "2021-07-13T08:25:30.532337Z",
          "iopub.status.idle": "2021-07-13T08:25:30.676246Z",
          "shell.execute_reply": "2021-07-13T08:25:30.675284Z",
          "shell.execute_reply.started": "2021-07-13T08:25:30.532566Z"
        },
        "id": "-Y6Ay6r8JHPc",
        "trusted": true
      },
      "outputs": [],
      "source": [
        "df['DAYS_REGISTRATION'] = df['DAYS_REGISTRATION'].apply(lambda x: -x if x < 0 else x)"
      ]
    },
    {
      "cell_type": "code",
      "execution_count": null,
      "metadata": {
        "colab": {
          "base_uri": "https://localhost:8080/"
        },
        "execution": {
          "iopub.execute_input": "2021-07-13T08:25:30.677594Z",
          "iopub.status.busy": "2021-07-13T08:25:30.677344Z",
          "iopub.status.idle": "2021-07-13T08:25:30.69357Z",
          "shell.execute_reply": "2021-07-13T08:25:30.692478Z",
          "shell.execute_reply.started": "2021-07-13T08:25:30.67757Z"
        },
        "id": "ZYNBXSEfJHPc",
        "outputId": "87eec370-ad18-4751-d0f3-9e4c8a54c4e8",
        "scrolled": true,
        "trusted": true
      },
      "outputs": [],
      "source": [
        "df['DAYS_REGISTRATION'].value_counts().head()"
      ]
    },
    {
      "cell_type": "markdown",
      "metadata": {
        "id": "GVDY6OQgJHPc"
      },
      "source": [
        "Всі дні в `DAYS_REGISTRATION` мають додатні значення"
      ]
    },
    {
      "cell_type": "markdown",
      "metadata": {
        "id": "-5Yo-vlUJHPc"
      },
      "source": [
        "#### Створимо нову колонку `YEARS_REGISTRATION` для зручності аналізу"
      ]
    },
    {
      "cell_type": "code",
      "execution_count": null,
      "metadata": {
        "execution": {
          "iopub.execute_input": "2021-07-13T08:25:30.695015Z",
          "iopub.status.busy": "2021-07-13T08:25:30.694762Z",
          "iopub.status.idle": "2021-07-13T08:25:30.960949Z",
          "shell.execute_reply": "2021-07-13T08:25:30.960113Z",
          "shell.execute_reply.started": "2021-07-13T08:25:30.694991Z"
        },
        "id": "jX77yKqoJHPd",
        "trusted": true
      },
      "outputs": [],
      "source": [
        "df['YEARS_REGISTRATION'] = df['DAYS_REGISTRATION'].apply(lambda x: round(x/365))"
      ]
    },
    {
      "cell_type": "markdown",
      "metadata": {
        "id": "2C6YvsX0JHPd"
      },
      "source": [
        "### Аналіз стовпця `DAYS_ID_PUBLISH`"
      ]
    },
    {
      "cell_type": "code",
      "execution_count": null,
      "metadata": {
        "colab": {
          "base_uri": "https://localhost:8080/"
        },
        "execution": {
          "iopub.execute_input": "2021-07-13T08:25:30.962464Z",
          "iopub.status.busy": "2021-07-13T08:25:30.962122Z",
          "iopub.status.idle": "2021-07-13T08:25:30.974064Z",
          "shell.execute_reply": "2021-07-13T08:25:30.972949Z",
          "shell.execute_reply.started": "2021-07-13T08:25:30.962436Z"
        },
        "id": "2dAsh5WoJHPd",
        "outputId": "a2069f53-b12b-487e-bc3b-de1ee945e2aa",
        "trusted": true
      },
      "outputs": [],
      "source": [
        "df['DAYS_ID_PUBLISH'].value_counts().head()"
      ]
    },
    {
      "cell_type": "code",
      "execution_count": null,
      "metadata": {
        "colab": {
          "base_uri": "https://localhost:8080/"
        },
        "execution": {
          "iopub.execute_input": "2021-07-13T08:25:30.975579Z",
          "iopub.status.busy": "2021-07-13T08:25:30.975304Z",
          "iopub.status.idle": "2021-07-13T08:25:30.987779Z",
          "shell.execute_reply": "2021-07-13T08:25:30.98675Z",
          "shell.execute_reply.started": "2021-07-13T08:25:30.975556Z"
        },
        "id": "67pBVwlQJHPd",
        "outputId": "acd35566-e788-4526-b9d3-d4954b5928c3",
        "trusted": true
      },
      "outputs": [],
      "source": [
        "df['DAYS_ID_PUBLISH'].value_counts(normalize = True).head()"
      ]
    },
    {
      "cell_type": "code",
      "execution_count": null,
      "metadata": {
        "colab": {
          "base_uri": "https://localhost:8080/"
        },
        "execution": {
          "iopub.execute_input": "2021-07-13T08:25:30.989506Z",
          "iopub.status.busy": "2021-07-13T08:25:30.989099Z",
          "iopub.status.idle": "2021-07-13T08:25:30.999056Z",
          "shell.execute_reply": "2021-07-13T08:25:30.998083Z",
          "shell.execute_reply.started": "2021-07-13T08:25:30.989468Z"
        },
        "id": "l6ygiLBRJHPd",
        "outputId": "e1027aec-cd33-4fc7-8352-0f0fc9c32576",
        "trusted": true
      },
      "outputs": [],
      "source": [
        "df['DAYS_ID_PUBLISH'].unique()"
      ]
    },
    {
      "cell_type": "code",
      "execution_count": null,
      "metadata": {
        "colab": {
          "base_uri": "https://localhost:8080/"
        },
        "execution": {
          "iopub.execute_input": "2021-07-13T08:25:31.000681Z",
          "iopub.status.busy": "2021-07-13T08:25:31.000384Z",
          "iopub.status.idle": "2021-07-13T08:25:31.011016Z",
          "shell.execute_reply": "2021-07-13T08:25:31.010055Z",
          "shell.execute_reply.started": "2021-07-13T08:25:31.000655Z"
        },
        "id": "pASF0-y4JHPd",
        "outputId": "cfc2e33f-e90b-474c-d495-6923d75b5fa5",
        "trusted": true
      },
      "outputs": [],
      "source": [
        "df['DAYS_ID_PUBLISH'].nunique()"
      ]
    },
    {
      "cell_type": "markdown",
      "metadata": {
        "id": "_N6za7UdJHPe"
      },
      "source": [
        "Перетворення `DAYS_ID_PUBLISH` в додатні дні"
      ]
    },
    {
      "cell_type": "code",
      "execution_count": null,
      "metadata": {
        "execution": {
          "iopub.execute_input": "2021-07-13T08:25:31.012577Z",
          "iopub.status.busy": "2021-07-13T08:25:31.012311Z",
          "iopub.status.idle": "2021-07-13T08:25:31.219081Z",
          "shell.execute_reply": "2021-07-13T08:25:31.218246Z",
          "shell.execute_reply.started": "2021-07-13T08:25:31.012552Z"
        },
        "id": "cF9ixiX0JHPe",
        "trusted": true
      },
      "outputs": [],
      "source": [
        "df['DAYS_ID_PUBLISH'] = df['DAYS_ID_PUBLISH'].apply(lambda x: -x if x < 0 else x)"
      ]
    },
    {
      "cell_type": "code",
      "execution_count": null,
      "metadata": {
        "colab": {
          "base_uri": "https://localhost:8080/"
        },
        "execution": {
          "iopub.execute_input": "2021-07-13T08:25:31.220765Z",
          "iopub.status.busy": "2021-07-13T08:25:31.220374Z",
          "iopub.status.idle": "2021-07-13T08:25:31.233453Z",
          "shell.execute_reply": "2021-07-13T08:25:31.232642Z",
          "shell.execute_reply.started": "2021-07-13T08:25:31.220723Z"
        },
        "id": "KjmYjypIJHPe",
        "outputId": "68df3683-ac93-4949-b3de-e4cd589f1199",
        "scrolled": true,
        "trusted": true
      },
      "outputs": [],
      "source": [
        "df['DAYS_ID_PUBLISH'].value_counts().head()"
      ]
    },
    {
      "cell_type": "markdown",
      "metadata": {
        "id": "uQQY8JEcJHPe"
      },
      "source": [
        "Всі дні в `DAYS_ID_PUBLISH` мають додатні значення"
      ]
    },
    {
      "cell_type": "markdown",
      "metadata": {
        "id": "PvcKc7NHJHPe"
      },
      "source": [
        "#### Створимо нову колонку `YEARS_ID_PUBLISH` для зручності аналізу"
      ]
    },
    {
      "cell_type": "code",
      "execution_count": null,
      "metadata": {
        "execution": {
          "iopub.execute_input": "2021-07-13T08:25:31.234858Z",
          "iopub.status.busy": "2021-07-13T08:25:31.234613Z",
          "iopub.status.idle": "2021-07-13T08:25:31.49972Z",
          "shell.execute_reply": "2021-07-13T08:25:31.498913Z",
          "shell.execute_reply.started": "2021-07-13T08:25:31.234829Z"
        },
        "id": "fwCUWsBDJHPe",
        "trusted": true
      },
      "outputs": [],
      "source": [
        "df['YEARS_ID_PUBLISH'] = df['DAYS_ID_PUBLISH'].apply(lambda x: round(x/365))"
      ]
    },
    {
      "cell_type": "markdown",
      "metadata": {
        "id": "f0hnZpqHJHPe"
      },
      "source": [
        "### Аналіз стовпця `DAYS_LAST_PHONE_CHANGE`"
      ]
    },
    {
      "cell_type": "code",
      "execution_count": null,
      "metadata": {
        "colab": {
          "base_uri": "https://localhost:8080/"
        },
        "execution": {
          "iopub.execute_input": "2021-07-13T08:25:31.501432Z",
          "iopub.status.busy": "2021-07-13T08:25:31.50106Z",
          "iopub.status.idle": "2021-07-13T08:25:31.517178Z",
          "shell.execute_reply": "2021-07-13T08:25:31.51641Z",
          "shell.execute_reply.started": "2021-07-13T08:25:31.501395Z"
        },
        "id": "HIPeGeqNJHPf",
        "outputId": "cfc1a5a5-6282-419b-d291-bb1df2a3e3a6",
        "trusted": true
      },
      "outputs": [],
      "source": [
        "df['DAYS_LAST_PHONE_CHANGE'].value_counts().head()"
      ]
    },
    {
      "cell_type": "code",
      "execution_count": null,
      "metadata": {
        "execution": {
          "iopub.execute_input": "2021-07-13T08:25:31.518868Z",
          "iopub.status.busy": "2021-07-13T08:25:31.518482Z",
          "iopub.status.idle": "2021-07-13T08:25:31.534055Z",
          "shell.execute_reply": "2021-07-13T08:25:31.533072Z",
          "shell.execute_reply.started": "2021-07-13T08:25:31.518813Z"
        },
        "id": "aNtmP0THJHPf",
        "trusted": true
      },
      "outputs": [],
      "source": [
        "df['DAYS_LAST_PHONE_CHANGE'].value_counts(normalize = True).head()"
      ]
    },
    {
      "cell_type": "code",
      "execution_count": null,
      "metadata": {
        "execution": {
          "iopub.execute_input": "2021-07-13T08:25:31.535899Z",
          "iopub.status.busy": "2021-07-13T08:25:31.535536Z",
          "iopub.status.idle": "2021-07-13T08:25:31.545621Z",
          "shell.execute_reply": "2021-07-13T08:25:31.544746Z",
          "shell.execute_reply.started": "2021-07-13T08:25:31.535862Z"
        },
        "id": "QHtkhw_VJHPf",
        "trusted": true
      },
      "outputs": [],
      "source": [
        "df['DAYS_LAST_PHONE_CHANGE'].unique()"
      ]
    },
    {
      "cell_type": "code",
      "execution_count": null,
      "metadata": {
        "execution": {
          "iopub.execute_input": "2021-07-13T08:25:31.546848Z",
          "iopub.status.busy": "2021-07-13T08:25:31.546615Z",
          "iopub.status.idle": "2021-07-13T08:25:31.55963Z",
          "shell.execute_reply": "2021-07-13T08:25:31.558776Z",
          "shell.execute_reply.started": "2021-07-13T08:25:31.546825Z"
        },
        "id": "4fYE99TBJHPf",
        "trusted": true
      },
      "outputs": [],
      "source": [
        "df['DAYS_LAST_PHONE_CHANGE'].nunique()"
      ]
    },
    {
      "cell_type": "markdown",
      "metadata": {
        "id": "E7j9n51gJHPf"
      },
      "source": [
        "Перетворення `DAYS_LAST_PHONE_CHANGE` в додатні дні"
      ]
    },
    {
      "cell_type": "code",
      "execution_count": null,
      "metadata": {
        "execution": {
          "iopub.execute_input": "2021-07-13T08:25:31.561784Z",
          "iopub.status.busy": "2021-07-13T08:25:31.561049Z",
          "iopub.status.idle": "2021-07-13T08:25:31.704445Z",
          "shell.execute_reply": "2021-07-13T08:25:31.703582Z",
          "shell.execute_reply.started": "2021-07-13T08:25:31.561746Z"
        },
        "id": "Rjtdu65JJHPf",
        "trusted": true
      },
      "outputs": [],
      "source": [
        "df['DAYS_LAST_PHONE_CHANGE'] = df['DAYS_LAST_PHONE_CHANGE'].apply(lambda x: -x if x < 0 else x)"
      ]
    },
    {
      "cell_type": "code",
      "execution_count": null,
      "metadata": {
        "colab": {
          "base_uri": "https://localhost:8080/"
        },
        "execution": {
          "iopub.execute_input": "2021-07-13T08:25:31.705787Z",
          "iopub.status.busy": "2021-07-13T08:25:31.705543Z",
          "iopub.status.idle": "2021-07-13T08:25:31.720562Z",
          "shell.execute_reply": "2021-07-13T08:25:31.719714Z",
          "shell.execute_reply.started": "2021-07-13T08:25:31.705763Z"
        },
        "id": "DlMd0qO5JHPf",
        "outputId": "9023d26e-35a1-4f13-aadb-d3e55f912be5",
        "scrolled": true,
        "trusted": true
      },
      "outputs": [],
      "source": [
        "df['DAYS_LAST_PHONE_CHANGE'].value_counts().head()"
      ]
    },
    {
      "cell_type": "markdown",
      "metadata": {
        "id": "XW0OxUImJHPf"
      },
      "source": [
        "Всі дні в `DAYS_LAST_PHONE_CHANGE` мають додатні значення"
      ]
    },
    {
      "cell_type": "markdown",
      "metadata": {
        "id": "y9zKqcRQJHPg"
      },
      "source": [
        "#### Створення нової колонки `YEARS_LAST_PHONE_CHANGE` для зручності аналізу"
      ]
    },
    {
      "cell_type": "code",
      "execution_count": null,
      "metadata": {
        "execution": {
          "iopub.execute_input": "2021-07-13T08:25:31.722262Z",
          "iopub.status.busy": "2021-07-13T08:25:31.721825Z",
          "iopub.status.idle": "2021-07-13T08:25:32.0418Z",
          "shell.execute_reply": "2021-07-13T08:25:32.04114Z",
          "shell.execute_reply.started": "2021-07-13T08:25:31.722222Z"
        },
        "id": "jJeVfoClJHPg",
        "trusted": true
      },
      "outputs": [],
      "source": [
        "df['YEARS_LAST_PHONE_CHANGE'] = df['DAYS_LAST_PHONE_CHANGE'].apply(lambda x: round(x/365,0))"
      ]
    },
    {
      "cell_type": "markdown",
      "metadata": {
        "id": "D7F_F42bJHPg"
      },
      "source": [
        "# Функції для автоматизації"
      ]
    },
    {
      "cell_type": "markdown",
      "metadata": {
        "id": "sr7ni3l7JHPg"
      },
      "source": [
        "### Створення функції `age_cat` для категоризації даних, що містять інформацію про роки"
      ]
    },
    {
      "cell_type": "code",
      "execution_count": null,
      "metadata": {
        "execution": {
          "iopub.execute_input": "2021-07-13T08:25:32.050353Z",
          "iopub.status.busy": "2021-07-13T08:25:32.049944Z",
          "iopub.status.idle": "2021-07-13T08:25:32.062121Z",
          "shell.execute_reply": "2021-07-13T08:25:32.061519Z",
          "shell.execute_reply.started": "2021-07-13T08:25:32.050326Z"
        },
        "id": "0M2B0CrYJHPg",
        "trusted": true
      },
      "outputs": [],
      "source": [
        "def age_cat(years):\n",
        "    if years <= 20:\n",
        "        return '0-20'\n",
        "    elif years > 20 and years <= 30:\n",
        "        return '20-30'\n",
        "    elif years > 30 and years <= 40:\n",
        "        return '30-40'\n",
        "    elif years > 40 and years <= 50:\n",
        "        return '40-50'\n",
        "    elif years > 50 and years <= 60:\n",
        "        return '50-60'\n",
        "    elif years > 60 and years <= 70:\n",
        "        return '60-70'\n",
        "    elif years > 70:\n",
        "        return '70+'"
      ]
    },
    {
      "cell_type": "markdown",
      "metadata": {
        "id": "oTHvaOfzJHPg"
      },
      "source": [
        "### Одномірний (категоріальний vs цільовий) та двомірний (категоріальний vs категоріальний) аналіз (гістограма) - категоріальні стовпчики"
      ]
    },
    {
      "cell_type": "code",
      "execution_count": null,
      "metadata": {
        "id": "iORGhYObtbsS"
      },
      "outputs": [],
      "source": [
        "import matplotlib.pyplot as plt\n",
        "\n",
        "\n",
        "def bi_cat_countplot(df, column, hue_column):\n",
        "    unique_hue_values = df[hue_column].unique()\n",
        "    fig, axes = plt.subplots(nrows=1, ncols=2)\n",
        "    fig.set_size_inches(14,6)\n",
        "\n",
        "    pltname = f'Нормалізований розподіл значень за категорією: {column}'\n",
        "    proportions = df.groupby(hue_column)[column].value_counts(normalize=True)\n",
        "    proportions = (proportions*100).round(2)\n",
        "    ax = proportions.unstack(hue_column).sort_values(\n",
        "        by=unique_hue_values[0], ascending=False\n",
        "        ).plot.bar(ax=axes[0], title=pltname)\n",
        "\n",
        "    # анотація значень в барплоті\n",
        "    for container in ax.containers:\n",
        "        ax.bar_label(container, fmt='{:,.1f}%')\n",
        "\n",
        "    pltname = f'Кількість даних за категорією: {column}'\n",
        "    counts = df.groupby(hue_column)[column].value_counts()\n",
        "    ax = counts.unstack(hue_column).sort_values(\n",
        "        by=unique_hue_values[0], ascending=False\n",
        "        ).plot.bar(ax=axes[1], title=pltname)\n",
        "\n",
        "    for container in ax.containers:\n",
        "      ax.bar_label(container)\n",
        "\n",
        "\n",
        "def uni_cat_target_compare(df, column):\n",
        "    bi_cat_countplot(df, column, hue_column='TARGET')\n"
      ]
    },
    {
      "cell_type": "markdown",
      "metadata": {
        "id": "PLxaIzbSJHPh"
      },
      "source": [
        "### Обчислення мінімального та максимального діапазону відхилень для числових стовпців"
      ]
    },
    {
      "cell_type": "code",
      "execution_count": null,
      "metadata": {
        "execution": {
          "iopub.execute_input": "2021-07-13T08:25:32.101362Z",
          "iopub.status.busy": "2021-07-13T08:25:32.10072Z",
          "iopub.status.idle": "2021-07-13T08:25:32.113197Z",
          "shell.execute_reply": "2021-07-13T08:25:32.112459Z",
          "shell.execute_reply.started": "2021-07-13T08:25:32.101324Z"
        },
        "id": "PTsvq9Q1JHPi",
        "trusted": true
      },
      "outputs": [],
      "source": [
        "def outlier_range(dataset,column):\n",
        "    Q1 = dataset[column].quantile(0.25)\n",
        "    Q3 = dataset[column].quantile(0.75)\n",
        "    IQR = Q3 - Q1\n",
        "    Min_value = (Q1 - 1.5 * IQR)\n",
        "    Max_value = (Q3 + 1.5 * IQR)\n",
        "    return Max_value"
      ]
    },
    {
      "cell_type": "markdown",
      "metadata": {
        "id": "jhThQ65UJHPk"
      },
      "source": [
        "### Робота з викидами для числових стовпців"
      ]
    },
    {
      "cell_type": "code",
      "execution_count": null,
      "metadata": {
        "id": "-XQDIjWkDixb"
      },
      "outputs": [],
      "source": [
        "import warnings\n",
        "\n",
        "def dist_box(dataset, column):\n",
        "    with warnings.catch_warnings():\n",
        "      warnings.simplefilter(\"ignore\")\n",
        "\n",
        "      plt.figure(figsize=(16,6))\n",
        "\n",
        "      plt.subplot(1,2,1)\n",
        "      sns.distplot(dataset[column], color = 'purple')\n",
        "      pltname = 'Графік розподілу для ' + column\n",
        "      plt.ticklabel_format(style='plain', axis='x')\n",
        "      plt.title(pltname)\n",
        "\n",
        "      plt.subplot(1,2,2)\n",
        "      red_diamond = dict(markerfacecolor='r', marker='D')\n",
        "      sns.boxplot(y = column, data = dataset, flierprops = red_diamond)\n",
        "      pltname = 'Боксплот для ' + column\n",
        "      plt.title(pltname)\n",
        "\n",
        "      plt.show()"
      ]
    },
    {
      "cell_type": "markdown",
      "metadata": {
        "id": "Q8gJ_32AJHPk"
      },
      "source": [
        "### Аналіз стовпця`CNT_CHILDREN`"
      ]
    },
    {
      "cell_type": "code",
      "execution_count": null,
      "metadata": {
        "execution": {
          "iopub.execute_input": "2021-07-13T08:25:32.190935Z",
          "iopub.status.busy": "2021-07-13T08:25:32.190488Z",
          "iopub.status.idle": "2021-07-13T08:25:32.205436Z",
          "shell.execute_reply": "2021-07-13T08:25:32.204605Z",
          "shell.execute_reply.started": "2021-07-13T08:25:32.190893Z"
        },
        "id": "2jraQBy9JHPk",
        "trusted": true
      },
      "outputs": [],
      "source": [
        "df['CNT_CHILDREN'].value_counts().sort_values(ascending = False);"
      ]
    },
    {
      "cell_type": "code",
      "execution_count": null,
      "metadata": {
        "colab": {
          "base_uri": "https://localhost:8080/"
        },
        "execution": {
          "iopub.execute_input": "2021-07-13T08:25:32.206784Z",
          "iopub.status.busy": "2021-07-13T08:25:32.206506Z",
          "iopub.status.idle": "2021-07-13T08:25:32.216669Z",
          "shell.execute_reply": "2021-07-13T08:25:32.215896Z",
          "shell.execute_reply.started": "2021-07-13T08:25:32.206759Z"
        },
        "id": "ZkfjWL_LJHPk",
        "outputId": "5e53ba4d-35ae-48b0-9c1b-79eeac1b1346",
        "trusted": true
      },
      "outputs": [],
      "source": [
        "(df['CNT_CHILDREN'].value_counts(normalize = True).sort_values(ascending = False) * 100).head()"
      ]
    },
    {
      "cell_type": "code",
      "execution_count": null,
      "metadata": {
        "colab": {
          "base_uri": "https://localhost:8080/",
          "height": 564
        },
        "id": "fXCcq5yBDqko",
        "outputId": "94071368-54be-43c4-c99f-d6beca6efce4"
      },
      "outputs": [],
      "source": [
        "dist_box(df,'CNT_CHILDREN')"
      ]
    },
    {
      "cell_type": "markdown",
      "metadata": {
        "id": "a6ulEqWZJHPl"
      },
      "source": [
        "Розрахуємо IQR (Inter Quartile range)"
      ]
    },
    {
      "cell_type": "code",
      "execution_count": null,
      "metadata": {
        "colab": {
          "base_uri": "https://localhost:8080/"
        },
        "execution": {
          "iopub.execute_input": "2021-07-13T08:25:33.945673Z",
          "iopub.status.busy": "2021-07-13T08:25:33.945409Z",
          "iopub.status.idle": "2021-07-13T08:25:33.95874Z",
          "shell.execute_reply": "2021-07-13T08:25:33.957805Z",
          "shell.execute_reply.started": "2021-07-13T08:25:33.945649Z"
        },
        "id": "aS5leqb2JHPl",
        "outputId": "95d7c877-0322-4d7a-ba1c-d6445cd51812",
        "trusted": true
      },
      "outputs": [],
      "source": [
        "Q1 = df['CNT_CHILDREN'].quantile(0.25)\n",
        "Q3 = df['CNT_CHILDREN'].quantile(0.75)\n",
        "IQR = Q3 - Q1\n",
        "print(IQR)"
      ]
    },
    {
      "cell_type": "code",
      "execution_count": null,
      "metadata": {
        "colab": {
          "base_uri": "https://localhost:8080/"
        },
        "id": "L-dxxGEQHVeD",
        "outputId": "843db397-9d3d-4307-fbb9-f1929986fd77"
      },
      "outputs": [],
      "source": [
        "Q1, Q3"
      ]
    },
    {
      "cell_type": "markdown",
      "metadata": {
        "id": "JZZvBiBTJHPl"
      },
      "source": [
        "Значення *до* (Q1 - 1,5 * IQR) та *після* (Q3 + 1,5 * IQR) є викидами"
      ]
    },
    {
      "cell_type": "code",
      "execution_count": null,
      "metadata": {
        "colab": {
          "base_uri": "https://localhost:8080/"
        },
        "execution": {
          "iopub.execute_input": "2021-07-13T08:25:33.959934Z",
          "iopub.status.busy": "2021-07-13T08:25:33.959676Z",
          "iopub.status.idle": "2021-07-13T08:25:33.964492Z",
          "shell.execute_reply": "2021-07-13T08:25:33.963709Z",
          "shell.execute_reply.started": "2021-07-13T08:25:33.95991Z"
        },
        "id": "w2pd56P8JHPl",
        "outputId": "02e10dee-6800-4dd3-c72f-ed0af6ebaaa0",
        "trusted": true
      },
      "outputs": [],
      "source": [
        "Min_value = (Q1 - 1.5 * IQR)\n",
        "Max_value = (Q3 + 1.5 * IQR)\n",
        "print(\"Мінімальне значення, до якого існують викиди: {}\".format(Min_value))\n",
        "print(\"Максимальне значення, після якого існують викиди: {}\".format(Max_value))"
      ]
    },
    {
      "cell_type": "code",
      "execution_count": null,
      "metadata": {
        "colab": {
          "base_uri": "https://localhost:8080/"
        },
        "id": "4UWC3cGjICGh",
        "outputId": "52227c89-1b0e-449a-a11e-3f8797d54d4e"
      },
      "outputs": [],
      "source": [
        "df[df['CNT_CHILDREN'].isin(range(10,20))].YEARS_BIRTH"
      ]
    },
    {
      "cell_type": "code",
      "execution_count": null,
      "metadata": {
        "colab": {
          "base_uri": "https://localhost:8080/",
          "height": 112
        },
        "id": "9zRoaIH6L_v-",
        "outputId": "8a8c0e47-3e51-448d-bd02-32b8ef879b28"
      },
      "outputs": [],
      "source": [
        "df[df['CNT_CHILDREN'].isin([10])][['SK_ID_CURR', 'CNT_CHILDREN', 'YEARS_BIRTH']]"
      ]
    },
    {
      "cell_type": "markdown",
      "metadata": {
        "id": "NcT5qv9LJHPl"
      },
      "source": [
        "**Спостереження**\n",
        "- Дивлячись на дані, ми бачимо, що кількість заявників, які мають більше 7 дітей, є дуже мінімальною (2 або 3 в кожній категорії)\n",
        "- Крім того, дивлячись на дані для заявників з 10 дітьми, заявники мають лише 31 й 41 рік відповідно. Це виглядає як одиничний випадок й може розглядатися як відхилення від норми\n",
        "- Як дистрибутивні, так і діаграми розмаху чітко показують, що значення, які перевищують значення 2.5, є відхиленнями від норми.\n",
        "\n",
        "**Висновок**\n",
        "- Заявники, які мають 3 або більше дітей, є випадками, що відхиляються від норми. Ми можемо надати спеціальний аналіз для цих випадків."
      ]
    },
    {
      "cell_type": "markdown",
      "metadata": {
        "id": "6cwlRBetJHPl"
      },
      "source": [
        "### Аналіз стовпця `AMT_INCOME_TOTAL`"
      ]
    },
    {
      "cell_type": "code",
      "execution_count": null,
      "metadata": {
        "colab": {
          "base_uri": "https://localhost:8080/"
        },
        "execution": {
          "iopub.execute_input": "2021-07-13T08:25:33.966068Z",
          "iopub.status.busy": "2021-07-13T08:25:33.965781Z",
          "iopub.status.idle": "2021-07-13T08:25:33.984149Z",
          "shell.execute_reply": "2021-07-13T08:25:33.983393Z",
          "shell.execute_reply.started": "2021-07-13T08:25:33.966042Z"
        },
        "id": "W5DyzI9IJHPm",
        "outputId": "1236f126-6af4-4d6c-d883-7c679e36346d",
        "trusted": true
      },
      "outputs": [],
      "source": [
        "df['AMT_INCOME_TOTAL'].value_counts().sort_values(ascending = False).head()"
      ]
    },
    {
      "cell_type": "code",
      "execution_count": null,
      "metadata": {
        "execution": {
          "iopub.execute_input": "2021-07-13T08:25:33.985593Z",
          "iopub.status.busy": "2021-07-13T08:25:33.985256Z",
          "iopub.status.idle": "2021-07-13T08:25:33.998653Z",
          "shell.execute_reply": "2021-07-13T08:25:33.997895Z",
          "shell.execute_reply.started": "2021-07-13T08:25:33.985559Z"
        },
        "id": "_cv3OhfnJHPm",
        "trusted": true
      },
      "outputs": [],
      "source": [
        "(df['AMT_INCOME_TOTAL'].value_counts(normalize = True).sort_values(ascending = False) * 100).head()"
      ]
    },
    {
      "cell_type": "code",
      "execution_count": null,
      "metadata": {
        "colab": {
          "base_uri": "https://localhost:8080/"
        },
        "execution": {
          "iopub.execute_input": "2021-07-13T08:25:34.000249Z",
          "iopub.status.busy": "2021-07-13T08:25:33.999879Z",
          "iopub.status.idle": "2021-07-13T08:25:34.020399Z",
          "shell.execute_reply": "2021-07-13T08:25:34.019487Z",
          "shell.execute_reply.started": "2021-07-13T08:25:34.00021Z"
        },
        "id": "C2JZLOYMJHPm",
        "outputId": "242be0cc-8137-457b-fe9b-2e3cf1bf2bed",
        "trusted": true
      },
      "outputs": [],
      "source": [
        "df['AMT_INCOME_TOTAL'].describe(percentiles = [0.75,0.99,0.999])"
      ]
    },
    {
      "cell_type": "markdown",
      "metadata": {
        "id": "2IaCmSNKJHPm"
      },
      "source": [
        "Побудуємо графік для `AMT_INCOME_TOTAL`"
      ]
    },
    {
      "cell_type": "code",
      "execution_count": null,
      "metadata": {
        "colab": {
          "base_uri": "https://localhost:8080/",
          "height": 564
        },
        "execution": {
          "iopub.execute_input": "2021-07-13T08:25:34.021761Z",
          "iopub.status.busy": "2021-07-13T08:25:34.021492Z",
          "iopub.status.idle": "2021-07-13T08:25:35.551749Z",
          "shell.execute_reply": "2021-07-13T08:25:35.550813Z",
          "shell.execute_reply.started": "2021-07-13T08:25:34.021724Z"
        },
        "id": "DpIlC7iXJHPm",
        "outputId": "06e9dae2-bbe4-482f-f3b6-902028c29f9f",
        "trusted": true
      },
      "outputs": [],
      "source": [
        "dist_box(df,'AMT_INCOME_TOTAL')"
      ]
    },
    {
      "cell_type": "markdown",
      "metadata": {
        "id": "eW36dwf4JHPm"
      },
      "source": [
        "- Графіки кінцевого результату дуже тонкі, й ми можемо спостерігати викид близько ~120 мільйонів.\n",
        "- Давайте побудуємо графік, розглядаючи лише дохід нижче 99,9% значення, тобто 900 тисяч."
      ]
    },
    {
      "cell_type": "code",
      "execution_count": null,
      "metadata": {
        "colab": {
          "base_uri": "https://localhost:8080/",
          "height": 503
        },
        "execution": {
          "iopub.execute_input": "2021-07-13T08:25:35.553166Z",
          "iopub.status.busy": "2021-07-13T08:25:35.552883Z",
          "iopub.status.idle": "2021-07-13T08:25:37.690172Z",
          "shell.execute_reply": "2021-07-13T08:25:37.689118Z",
          "shell.execute_reply.started": "2021-07-13T08:25:35.553125Z"
        },
        "id": "UED9OdRZJHPm",
        "outputId": "32d5badd-72a5-4966-b832-678e0128a020",
        "trusted": true
      },
      "outputs": [],
      "source": [
        "with warnings.catch_warnings():\n",
        "    warnings.simplefilter(\"ignore\")\n",
        "    plt.subplots(1,2 ,figsize = (20,8))\n",
        "\n",
        "    plt.subplot(121)\n",
        "    sns.distplot(df[df['AMT_INCOME_TOTAL'] < 900000].AMT_INCOME_TOTAL)\n",
        "    pltname = 'Distplot of ' + 'AMT_INCOME_TOTAL'\n",
        "    plt.title(pltname)\n",
        "\n",
        "    plt.subplot(122)\n",
        "    sns.boxplot(df[df['AMT_INCOME_TOTAL'] < 900000].AMT_INCOME_TOTAL)\n",
        "    pltname = 'Boxplot of ' + 'AMT_INCOME_TOTAL'\n",
        "    plt.title(pltname)\n",
        "\n",
        "    plt.tight_layout(pad = 4)\n",
        "    plt.show()"
      ]
    },
    {
      "cell_type": "markdown",
      "metadata": {
        "id": "IADafxmMJHPm"
      },
      "source": [
        "Тепер ми можемо чітко побачити розподіл і діапазон даних на обох графіках.\n",
        " - Це означає, що значення понад 900 тис. грн доходу явно є викидами"
      ]
    },
    {
      "cell_type": "code",
      "execution_count": null,
      "metadata": {
        "colab": {
          "base_uri": "https://localhost:8080/",
          "height": 313
        },
        "execution": {
          "iopub.execute_input": "2021-07-13T08:25:37.69196Z",
          "iopub.status.busy": "2021-07-13T08:25:37.691587Z",
          "iopub.status.idle": "2021-07-13T08:25:37.739717Z",
          "shell.execute_reply": "2021-07-13T08:25:37.738902Z",
          "shell.execute_reply.started": "2021-07-13T08:25:37.69192Z"
        },
        "id": "tufmGB63JHPn",
        "outputId": "a095fe9b-d166-4055-bd4b-b94874051f66",
        "trusted": true
      },
      "outputs": [],
      "source": [
        "df[df['AMT_INCOME_TOTAL'] > 900000].head()"
      ]
    },
    {
      "cell_type": "markdown",
      "metadata": {
        "id": "kDkGXaycJHPn"
      },
      "source": [
        "**Спостереження**\n",
        "- Дивлячись на дані, ми бачимо, що дохід понад 900 тис. грн (99,9% значення) є викидом\n",
        "- Як діаграма розподілу, так і діаграма розмаху чітко показують нам ту саму тенденцію\n",
        "\n",
        "**Висновок**\n",
        "- Апліканти з доходом понад 900 тис. грн (99,9% значення) є викидами"
      ]
    },
    {
      "cell_type": "markdown",
      "metadata": {
        "id": "leXOG-sp4QcY"
      },
      "source": [
        "# ДЗ 3. Аналіз викидів\n",
        "\n",
        "Подібно до прикладу, проаналізуйте на викиди колонок\n",
        "- `CNT_FAM_MEMBERS`\n",
        "- `AMT_ANNUITY`\n",
        "\n",
        "Зазначте, які значення в них можна вважати викидами."
      ]
    },
    {
      "cell_type": "code",
      "execution_count": null,
      "metadata": {
        "id": "s19WJUnySCXt"
      },
      "outputs": [],
      "source": []
    },
    {
      "cell_type": "markdown",
      "metadata": {
        "id": "Zo_9TX2VJHPt"
      },
      "source": [
        "# Розбиття на біни безперервних колонок для аналізу"
      ]
    },
    {
      "cell_type": "markdown",
      "metadata": {
        "id": "xohswyP5JHPt"
      },
      "source": [
        "### Категоризація стовпця `AMT_GOODS_PRICE"
      ]
    },
    {
      "cell_type": "code",
      "execution_count": null,
      "metadata": {
        "colab": {
          "base_uri": "https://localhost:8080/"
        },
        "execution": {
          "iopub.execute_input": "2021-07-13T08:25:53.475996Z",
          "iopub.status.busy": "2021-07-13T08:25:53.47573Z",
          "iopub.status.idle": "2021-07-13T08:25:53.488201Z",
          "shell.execute_reply": "2021-07-13T08:25:53.487244Z",
          "shell.execute_reply.started": "2021-07-13T08:25:53.475967Z"
        },
        "id": "N0LH0jNZJHPt",
        "outputId": "3f83af3d-5faa-422f-d6b9-c1badb66c3f3",
        "trusted": true
      },
      "outputs": [],
      "source": [
        "df['AMT_GOODS_PRICE'].value_counts().sort_values(ascending = False).head()"
      ]
    },
    {
      "cell_type": "code",
      "execution_count": null,
      "metadata": {
        "colab": {
          "base_uri": "https://localhost:8080/"
        },
        "execution": {
          "iopub.execute_input": "2021-07-13T08:25:53.489569Z",
          "iopub.status.busy": "2021-07-13T08:25:53.489326Z",
          "iopub.status.idle": "2021-07-13T08:25:53.503557Z",
          "shell.execute_reply": "2021-07-13T08:25:53.502862Z",
          "shell.execute_reply.started": "2021-07-13T08:25:53.489545Z"
        },
        "id": "1RNI2jpSJHPu",
        "outputId": "5dc6f387-dfcd-4b1a-eac7-d63559284aad",
        "trusted": true
      },
      "outputs": [],
      "source": [
        "(df['AMT_GOODS_PRICE'].value_counts(normalize = True).sort_values(ascending = False) * 100).head()"
      ]
    },
    {
      "cell_type": "markdown",
      "metadata": {
        "id": "DQ9KotV9JHPu"
      },
      "source": [
        "Подивимось статистичний звіт для `AMT_GOODS_PRICE"
      ]
    },
    {
      "cell_type": "code",
      "execution_count": null,
      "metadata": {
        "colab": {
          "base_uri": "https://localhost:8080/"
        },
        "execution": {
          "iopub.execute_input": "2021-07-13T08:25:53.505165Z",
          "iopub.status.busy": "2021-07-13T08:25:53.504779Z",
          "iopub.status.idle": "2021-07-13T08:25:53.524525Z",
          "shell.execute_reply": "2021-07-13T08:25:53.52368Z",
          "shell.execute_reply.started": "2021-07-13T08:25:53.505127Z"
        },
        "id": "er35sCfnJHPu",
        "outputId": "da4500b7-69d8-4779-9192-551fc1df20b4",
        "trusted": true
      },
      "outputs": [],
      "source": [
        "df['AMT_GOODS_PRICE'].describe(percentiles = [0.25,0.75,0.99,0.9999])"
      ]
    },
    {
      "cell_type": "markdown",
      "metadata": {
        "id": "ne1vmhbVJHPu"
      },
      "source": [
        "Розподілимо значення в `AMT_GOODS_PRICE` на 5 бінів і створимо новий стовпець `AMT_GOODS_PRICE_CATEGORY`."
      ]
    },
    {
      "cell_type": "code",
      "execution_count": null,
      "metadata": {
        "execution": {
          "iopub.execute_input": "2021-07-13T08:25:53.525931Z",
          "iopub.status.busy": "2021-07-13T08:25:53.525665Z",
          "iopub.status.idle": "2021-07-13T08:25:53.540286Z",
          "shell.execute_reply": "2021-07-13T08:25:53.539435Z",
          "shell.execute_reply.started": "2021-07-13T08:25:53.525905Z"
        },
        "id": "T7Lj0SnPJHPu",
        "trusted": true
      },
      "outputs": [],
      "source": [
        "df['AMT_GOODS_PRICE_CATEGORY'] = pd.cut(df['AMT_GOODS_PRICE'],\n",
        "                                        bins = 5, labels = ['very low', 'low', 'medium', 'high', 'very high'])"
      ]
    },
    {
      "cell_type": "markdown",
      "metadata": {
        "id": "zfNxz6Y9JHPu"
      },
      "source": [
        "Перевірка заповнення значень згідно з очікуванням"
      ]
    },
    {
      "cell_type": "code",
      "execution_count": null,
      "metadata": {
        "colab": {
          "base_uri": "https://localhost:8080/"
        },
        "execution": {
          "iopub.execute_input": "2021-07-13T08:25:53.541985Z",
          "iopub.status.busy": "2021-07-13T08:25:53.541576Z",
          "iopub.status.idle": "2021-07-13T08:25:53.552806Z",
          "shell.execute_reply": "2021-07-13T08:25:53.551842Z",
          "shell.execute_reply.started": "2021-07-13T08:25:53.541944Z"
        },
        "id": "kg3F8LwMJHPu",
        "outputId": "2d92e9ce-7ab0-47ae-878c-e9961a152a38",
        "trusted": true
      },
      "outputs": [],
      "source": [
        "df['AMT_GOODS_PRICE_CATEGORY'].value_counts()"
      ]
    },
    {
      "cell_type": "markdown",
      "metadata": {
        "id": "agiCFtlYJHPv"
      },
      "source": [
        "### Категоризація стовпця `YEARS_BIRTH`"
      ]
    },
    {
      "cell_type": "markdown",
      "metadata": {
        "id": "Y3cbER62JHPv"
      },
      "source": [
        "Ми будемо класифікувати `YEARS_BIRTH` замість `DAYS_BIRTH`, оскільки роки легше інтерпретувати, ніж дні"
      ]
    },
    {
      "cell_type": "code",
      "execution_count": null,
      "metadata": {
        "colab": {
          "base_uri": "https://localhost:8080/"
        },
        "execution": {
          "iopub.execute_input": "2021-07-13T08:25:53.554399Z",
          "iopub.status.busy": "2021-07-13T08:25:53.554064Z",
          "iopub.status.idle": "2021-07-13T08:25:53.564195Z",
          "shell.execute_reply": "2021-07-13T08:25:53.563232Z",
          "shell.execute_reply.started": "2021-07-13T08:25:53.554372Z"
        },
        "id": "xWDSYx5bJHPv",
        "outputId": "dd05ce98-0161-4e10-bfcc-9b6921c577b6",
        "trusted": true
      },
      "outputs": [],
      "source": [
        "df['YEARS_BIRTH'].value_counts().sort_values(ascending = False).head()"
      ]
    },
    {
      "cell_type": "code",
      "execution_count": null,
      "metadata": {
        "colab": {
          "base_uri": "https://localhost:8080/"
        },
        "execution": {
          "iopub.execute_input": "2021-07-13T08:25:53.56583Z",
          "iopub.status.busy": "2021-07-13T08:25:53.565374Z",
          "iopub.status.idle": "2021-07-13T08:25:53.577338Z",
          "shell.execute_reply": "2021-07-13T08:25:53.576392Z",
          "shell.execute_reply.started": "2021-07-13T08:25:53.565802Z"
        },
        "id": "v3IOovvgJHPv",
        "outputId": "faf014dd-19a3-4ed9-928e-26c02e38180e",
        "trusted": true
      },
      "outputs": [],
      "source": [
        "(df['YEARS_BIRTH'].value_counts(normalize = True).sort_values(ascending = False) * 100).head()"
      ]
    },
    {
      "cell_type": "markdown",
      "metadata": {
        "id": "BKURbIzhJHPv"
      },
      "source": [
        "Подивимось статистичний звіт для  `YEARS_BIRTH`"
      ]
    },
    {
      "cell_type": "code",
      "execution_count": null,
      "metadata": {
        "colab": {
          "base_uri": "https://localhost:8080/"
        },
        "execution": {
          "iopub.execute_input": "2021-07-13T08:25:53.578758Z",
          "iopub.status.busy": "2021-07-13T08:25:53.578492Z",
          "iopub.status.idle": "2021-07-13T08:25:53.600378Z",
          "shell.execute_reply": "2021-07-13T08:25:53.599417Z",
          "shell.execute_reply.started": "2021-07-13T08:25:53.578732Z"
        },
        "id": "kB_1xNXQJHPv",
        "outputId": "bd5c167c-b9d3-4b87-8742-d224ce4e20bf",
        "trusted": true
      },
      "outputs": [],
      "source": [
        "df['YEARS_BIRTH'].describe(percentiles = [0.25,0.75,0.99,0.9999])"
      ]
    },
    {
      "cell_type": "markdown",
      "metadata": {
        "id": "4vb0eeNjJHPw"
      },
      "source": [
        "Категоризуймо значення з `YEARS_BIRTH` у новий стовпець `YEARS_BIRTH_CATEGORY`."
      ]
    },
    {
      "cell_type": "code",
      "execution_count": null,
      "metadata": {
        "execution": {
          "iopub.execute_input": "2021-07-13T08:25:53.601852Z",
          "iopub.status.busy": "2021-07-13T08:25:53.601387Z",
          "iopub.status.idle": "2021-07-13T08:25:53.751381Z",
          "shell.execute_reply": "2021-07-13T08:25:53.750676Z",
          "shell.execute_reply.started": "2021-07-13T08:25:53.601807Z"
        },
        "id": "6OEtY5lJJHPw",
        "trusted": true
      },
      "outputs": [],
      "source": [
        "df['YEARS_BIRTH_CATEGORY'] = df['YEARS_BIRTH'].apply(age_cat)"
      ]
    },
    {
      "cell_type": "markdown",
      "metadata": {
        "id": "mO7bUT9SJHPw"
      },
      "source": [
        "Перевірка заповнення значень згідно з очікуванням"
      ]
    },
    {
      "cell_type": "code",
      "execution_count": null,
      "metadata": {
        "colab": {
          "base_uri": "https://localhost:8080/"
        },
        "execution": {
          "iopub.execute_input": "2021-07-13T08:25:53.752902Z",
          "iopub.status.busy": "2021-07-13T08:25:53.752456Z",
          "iopub.status.idle": "2021-07-13T08:25:53.831497Z",
          "shell.execute_reply": "2021-07-13T08:25:53.830449Z",
          "shell.execute_reply.started": "2021-07-13T08:25:53.752867Z"
        },
        "id": "UHcvHyM5JHPw",
        "outputId": "3c7d65cc-6e83-4e6e-dee3-162446bd0c54",
        "trusted": true
      },
      "outputs": [],
      "source": [
        "df['YEARS_BIRTH_CATEGORY'].value_counts().sort_values(ascending = False)"
      ]
    },
    {
      "cell_type": "markdown",
      "metadata": {
        "id": "qPq5ltD-JHPw"
      },
      "source": [
        "### Категоризація стовпця `YEARS_REGISTRATION`"
      ]
    },
    {
      "cell_type": "markdown",
      "metadata": {
        "id": "jZM35CjsJHPw"
      },
      "source": [
        "Ми будемо класифікувати `YEARS_REGISTRATION` замість `DAYS_REGISTRATION`, оскільки роки легше інтерпретувати, ніж дні"
      ]
    },
    {
      "cell_type": "code",
      "execution_count": null,
      "metadata": {
        "colab": {
          "base_uri": "https://localhost:8080/"
        },
        "execution": {
          "iopub.execute_input": "2021-07-13T08:25:53.833085Z",
          "iopub.status.busy": "2021-07-13T08:25:53.832787Z",
          "iopub.status.idle": "2021-07-13T08:25:53.847473Z",
          "shell.execute_reply": "2021-07-13T08:25:53.846594Z",
          "shell.execute_reply.started": "2021-07-13T08:25:53.83304Z"
        },
        "id": "h4W4FTgaJHPw",
        "outputId": "5a467af9-a462-44ec-ccd2-3beacfb7de23",
        "scrolled": true,
        "trusted": true
      },
      "outputs": [],
      "source": [
        "df['YEARS_REGISTRATION'].value_counts().sort_values(ascending = False).head()"
      ]
    },
    {
      "cell_type": "code",
      "execution_count": null,
      "metadata": {
        "colab": {
          "base_uri": "https://localhost:8080/"
        },
        "execution": {
          "iopub.execute_input": "2021-07-13T08:25:53.848731Z",
          "iopub.status.busy": "2021-07-13T08:25:53.848491Z",
          "iopub.status.idle": "2021-07-13T08:25:53.859476Z",
          "shell.execute_reply": "2021-07-13T08:25:53.858527Z",
          "shell.execute_reply.started": "2021-07-13T08:25:53.848709Z"
        },
        "id": "GyiLzF9fJHPw",
        "outputId": "d907262c-06f8-409b-a1c7-e24670f016e9",
        "trusted": true
      },
      "outputs": [],
      "source": [
        "(df['YEARS_REGISTRATION'].value_counts(normalize = True).sort_values(ascending = False) * 100).head()"
      ]
    },
    {
      "cell_type": "markdown",
      "metadata": {
        "id": "T6reK4pEJHPx"
      },
      "source": [
        "Подивимось статистичний звіт для `YEARS_REGISTRATION`"
      ]
    },
    {
      "cell_type": "code",
      "execution_count": null,
      "metadata": {
        "execution": {
          "iopub.execute_input": "2021-07-13T08:25:53.861497Z",
          "iopub.status.busy": "2021-07-13T08:25:53.860728Z",
          "iopub.status.idle": "2021-07-13T08:25:53.880946Z",
          "shell.execute_reply": "2021-07-13T08:25:53.880261Z",
          "shell.execute_reply.started": "2021-07-13T08:25:53.861457Z"
        },
        "id": "_JDc_C6dJHPx",
        "trusted": true
      },
      "outputs": [],
      "source": [
        "df['YEARS_REGISTRATION'].describe(percentiles = [0.25,0.75,0.99,0.9999])"
      ]
    },
    {
      "cell_type": "markdown",
      "metadata": {
        "id": "Aa5s1SdbJHPx"
      },
      "source": [
        "Категоризуймо значення з `YEARS_REGISTRATION` в новий стовпець `YEARS_REGISTRATION_CATEGORY`."
      ]
    },
    {
      "cell_type": "code",
      "execution_count": null,
      "metadata": {
        "execution": {
          "iopub.execute_input": "2021-07-13T08:25:53.882741Z",
          "iopub.status.busy": "2021-07-13T08:25:53.88209Z",
          "iopub.status.idle": "2021-07-13T08:25:53.987948Z",
          "shell.execute_reply": "2021-07-13T08:25:53.987134Z",
          "shell.execute_reply.started": "2021-07-13T08:25:53.882688Z"
        },
        "id": "nzrgfhkRJHPx",
        "trusted": true
      },
      "outputs": [],
      "source": [
        "df['YEARS_REGISTRATION_CATEGORY'] = df['YEARS_REGISTRATION'].apply(age_cat)"
      ]
    },
    {
      "cell_type": "markdown",
      "metadata": {
        "id": "_iyBdys-JHPx"
      },
      "source": [
        "Перевірка заповнення значень згідно з очікуванням"
      ]
    },
    {
      "cell_type": "code",
      "execution_count": null,
      "metadata": {
        "colab": {
          "base_uri": "https://localhost:8080/"
        },
        "execution": {
          "iopub.execute_input": "2021-07-13T08:25:53.98991Z",
          "iopub.status.busy": "2021-07-13T08:25:53.989305Z",
          "iopub.status.idle": "2021-07-13T08:25:54.067716Z",
          "shell.execute_reply": "2021-07-13T08:25:54.066508Z",
          "shell.execute_reply.started": "2021-07-13T08:25:53.989864Z"
        },
        "id": "dL37qo_LJHPx",
        "outputId": "49fd6148-7a0f-4216-e90d-c5eed1833f71",
        "trusted": true
      },
      "outputs": [],
      "source": [
        "df['YEARS_REGISTRATION_CATEGORY'].value_counts().sort_values(ascending = False)"
      ]
    },
    {
      "cell_type": "markdown",
      "metadata": {
        "id": "tMiyz1EU3Xuh"
      },
      "source": [
        "# Зберігання оновлених даних зі стисненням"
      ]
    },
    {
      "cell_type": "code",
      "execution_count": null,
      "metadata": {
        "id": "hikQxnWs3b12"
      },
      "outputs": [],
      "source": [
        "filename = \"drive/MyDrive/Machine Learning для людей/data/credit/application_data_processed\"\n",
        "compression_options = dict(method='zip', archive_name=f'{filename}.csv')\n",
        "df.to_csv(f'{filename}.zip', compression=compression_options, index=False)"
      ]
    },
    {
      "cell_type": "code",
      "execution_count": null,
      "metadata": {
        "id": "0UPV5B01A9FU"
      },
      "outputs": [],
      "source": [
        "# якщо Вам треба буде зчитати оновлені дані - замініть шлях на свій і можна зчитати їх тут\n",
        "# df = pd.read_csv('drive/MyDrive/Machine Learning для людей/data/credit/application_data_processed.zip')"
      ]
    },
    {
      "cell_type": "markdown",
      "metadata": {
        "id": "w7au9TY4JHPx"
      },
      "source": [
        "# Перевірка дисбалансу для цільового стовпця `TARGET`"
      ]
    },
    {
      "cell_type": "markdown",
      "metadata": {
        "id": "c-ap0K30JHPx"
      },
      "source": [
        "### Аналіз стовпця `TARGET`"
      ]
    },
    {
      "cell_type": "code",
      "execution_count": null,
      "metadata": {
        "colab": {
          "base_uri": "https://localhost:8080/"
        },
        "execution": {
          "iopub.execute_input": "2021-07-13T08:25:54.069943Z",
          "iopub.status.busy": "2021-07-13T08:25:54.069445Z",
          "iopub.status.idle": "2021-07-13T08:25:54.083614Z",
          "shell.execute_reply": "2021-07-13T08:25:54.082593Z",
          "shell.execute_reply.started": "2021-07-13T08:25:54.069904Z"
        },
        "id": "LBVMyCp1JHPx",
        "outputId": "7a3454c8-411e-40bc-d4f6-5f9f02e70940",
        "scrolled": true,
        "trusted": true
      },
      "outputs": [],
      "source": [
        "df['TARGET'].value_counts().sort_values(ascending = False)"
      ]
    },
    {
      "cell_type": "code",
      "execution_count": null,
      "metadata": {
        "colab": {
          "base_uri": "https://localhost:8080/"
        },
        "execution": {
          "iopub.execute_input": "2021-07-13T08:25:54.085398Z",
          "iopub.status.busy": "2021-07-13T08:25:54.085003Z",
          "iopub.status.idle": "2021-07-13T08:25:54.099123Z",
          "shell.execute_reply": "2021-07-13T08:25:54.098241Z",
          "shell.execute_reply.started": "2021-07-13T08:25:54.085361Z"
        },
        "id": "3FumF0IxJHPy",
        "outputId": "a5d1f2fe-2e75-49d0-9ace-14a4839005f7",
        "trusted": true
      },
      "outputs": [],
      "source": [
        "df['TARGET'].value_counts(normalize = True).sort_values(ascending = False) * 100"
      ]
    },
    {
      "cell_type": "code",
      "execution_count": null,
      "metadata": {
        "colab": {
          "base_uri": "https://localhost:8080/",
          "height": 487
        },
        "execution": {
          "iopub.execute_input": "2021-07-13T08:25:54.101197Z",
          "iopub.status.busy": "2021-07-13T08:25:54.100733Z",
          "iopub.status.idle": "2021-07-13T08:25:54.341542Z",
          "shell.execute_reply": "2021-07-13T08:25:54.340421Z",
          "shell.execute_reply.started": "2021-07-13T08:25:54.101142Z"
        },
        "id": "_tPbCEbFJHPy",
        "outputId": "6ceee294-79c7-4190-ed41-093e35c54ef2",
        "trusted": true
      },
      "outputs": [],
      "source": [
        "plt.figure(figsize = (10,5))\n",
        "sns.countplot(x = df['TARGET'], data = df)\n",
        "plt.title('Перевірка коефіцієнта дисбалансу змінної TARGET')\n",
        "plt.show()"
      ]
    },
    {
      "cell_type": "markdown",
      "metadata": {
        "id": "PIcHE2vEJHPy"
      },
      "source": [
        "**Спостереження**\n",
        "\n",
        "- Ми маємо дисбаланс у змінній `TARGET` на основі % спостережень\n",
        " - Значення `TARGET` 1 - це клієнт, який має труднощі з оплатою (прострочення платежу більше ніж на X днів принаймні за одним з перших Y платежів за кредитом). Це лише 8,07% даних\n",
        " - Значення `TARGET` 0 - всі інші випадки, окрім 1. Це 91,93% даних"
      ]
    },
    {
      "cell_type": "markdown",
      "metadata": {
        "id": "3qiMX3H4JHPy"
      },
      "source": [
        "# Розподіл даних на основі `TARGET`"
      ]
    },
    {
      "cell_type": "markdown",
      "metadata": {
        "id": "Q23HVbg6JHPy"
      },
      "source": [
        "### Створіть новий фрейм даних зі значенням `TARGET` 1\n",
        "- Значення `TARGET` 1 представляє клієнта з платіжними труднощами (він/вона прострочив платіж більш ніж на X днів принаймні по одному з перших Y платежів за кредитом). Це лише 8,07% даних"
      ]
    },
    {
      "cell_type": "code",
      "execution_count": null,
      "metadata": {
        "execution": {
          "iopub.execute_input": "2021-07-13T08:25:54.505025Z",
          "iopub.status.busy": "2021-07-13T08:25:54.50478Z",
          "iopub.status.idle": "2021-07-13T08:25:54.605812Z",
          "shell.execute_reply": "2021-07-13T08:25:54.605079Z",
          "shell.execute_reply.started": "2021-07-13T08:25:54.505Z"
        },
        "id": "0HYFHZqhJHPy",
        "trusted": true
      },
      "outputs": [],
      "source": [
        "df1 = df[df['TARGET'] == 1]"
      ]
    },
    {
      "cell_type": "code",
      "execution_count": null,
      "metadata": {
        "colab": {
          "base_uri": "https://localhost:8080/"
        },
        "execution": {
          "iopub.execute_input": "2021-07-13T08:25:54.607178Z",
          "iopub.status.busy": "2021-07-13T08:25:54.606917Z",
          "iopub.status.idle": "2021-07-13T08:25:54.614234Z",
          "shell.execute_reply": "2021-07-13T08:25:54.613339Z",
          "shell.execute_reply.started": "2021-07-13T08:25:54.607141Z"
        },
        "id": "Q1ZTg2NlJHPy",
        "outputId": "e58c0bb4-214d-47d2-ebf6-3d8fdc5dd26d",
        "scrolled": true,
        "trusted": true
      },
      "outputs": [],
      "source": [
        "df1.TARGET.value_counts()"
      ]
    },
    {
      "cell_type": "markdown",
      "metadata": {
        "id": "_3jIi-1AJHPy"
      },
      "source": [
        "### Створити новий фрейм даних зі значенням `TARGET` 0\n",
        "- Значення `TARGET` 0 представляє всі інші випадки, крім 1. Це 91.93% даних"
      ]
    },
    {
      "cell_type": "code",
      "execution_count": null,
      "metadata": {
        "execution": {
          "iopub.execute_input": "2021-07-13T08:25:54.615679Z",
          "iopub.status.busy": "2021-07-13T08:25:54.615405Z",
          "iopub.status.idle": "2021-07-13T08:25:54.711301Z",
          "shell.execute_reply": "2021-07-13T08:25:54.710446Z",
          "shell.execute_reply.started": "2021-07-13T08:25:54.615654Z"
        },
        "id": "AINiixEsJHPz",
        "trusted": true
      },
      "outputs": [],
      "source": [
        "df0 = df[df['TARGET'] == 0]"
      ]
    },
    {
      "cell_type": "code",
      "execution_count": null,
      "metadata": {
        "colab": {
          "base_uri": "https://localhost:8080/"
        },
        "execution": {
          "iopub.execute_input": "2021-07-13T08:25:54.712783Z",
          "iopub.status.busy": "2021-07-13T08:25:54.712512Z",
          "iopub.status.idle": "2021-07-13T08:25:54.721341Z",
          "shell.execute_reply": "2021-07-13T08:25:54.720463Z",
          "shell.execute_reply.started": "2021-07-13T08:25:54.712756Z"
        },
        "id": "GQXXvmnxJHPz",
        "outputId": "877791be-08df-40d8-a97f-78dc6c16b4d5",
        "scrolled": true,
        "trusted": true
      },
      "outputs": [],
      "source": [
        "df0.TARGET.value_counts()"
      ]
    },
    {
      "cell_type": "markdown",
      "metadata": {
        "id": "LS9xfYwxJHPz"
      },
      "source": [
        "# Одномірний аналіз категоріальних змінних"
      ]
    },
    {
      "cell_type": "markdown",
      "metadata": {
        "id": "syihRHkjJHPz"
      },
      "source": [
        "### Аналіз стовпця `NAME_CONTRACT_TYPE`"
      ]
    },
    {
      "cell_type": "code",
      "execution_count": null,
      "metadata": {
        "colab": {
          "base_uri": "https://localhost:8080/",
          "height": 659
        },
        "id": "92YoKIqLuZO2",
        "outputId": "b7bf8fdb-186c-48b6-c7fc-cc183771add0"
      },
      "outputs": [],
      "source": [
        "uni_cat_target_compare(df, 'NAME_CONTRACT_TYPE')"
      ]
    },
    {
      "cell_type": "markdown",
      "metadata": {
        "id": "DEcuDlN_JHP0"
      },
      "source": [
        "**Спостереження**\n",
        "\n",
        "- Дивлячись на гістограми, ми не бачимо суттєвих відмінностей у `NAME_CONTRACT_TYPE` між клієнтами, які мають труднощі з оплатою, та клієнтами, які платять вчасно\n",
        "\n",
        "**Висновок**\n",
        "- Колонка `NAME_CONTRACT_TYPE` не надає жодних переконливих доказів на користь клієнтів, які мають труднощі з оплатою АБО вчасно сплачують"
      ]
    },
    {
      "cell_type": "markdown",
      "metadata": {
        "id": "hl5TUMte6PS_"
      },
      "source": [
        "# ДЗ 4. Одновимірний аналіз категоріальної колонки\n",
        "\n",
        "Проведіть подібний аналіз для колонок\n",
        "- CODE_GENDER\n",
        "- FLAG_OWN_CAR\n",
        "- NAME_INCOME_TYPE\n",
        "\n",
        "Опціонально\n",
        "- NAME_EDUCATION_TYPE\n",
        "- NAME_FAMILY_STATUS\n",
        "\n",
        "\n",
        "Чи є вплив цих змінних на цільову та який саме?"
      ]
    },
    {
      "cell_type": "code",
      "execution_count": null,
      "metadata": {
        "id": "uBZErpy_SFj6"
      },
      "outputs": [],
      "source": []
    },
    {
      "cell_type": "markdown",
      "metadata": {
        "id": "IIKh4s1HJHP4"
      },
      "source": [
        "# Кореляційний аналіз числових змінних"
      ]
    },
    {
      "cell_type": "markdown",
      "metadata": {
        "id": "R6xVH3rxJHP5"
      },
      "source": [
        "### Побудова кореляційної матриці для випадків із платіжними труднощами"
      ]
    },
    {
      "cell_type": "code",
      "execution_count": null,
      "metadata": {
        "colab": {
          "base_uri": "https://localhost:8080/"
        },
        "execution": {
          "iopub.execute_input": "2021-07-13T08:26:03.968243Z",
          "iopub.status.busy": "2021-07-13T08:26:03.967822Z",
          "iopub.status.idle": "2021-07-13T08:26:03.980139Z",
          "shell.execute_reply": "2021-07-13T08:26:03.97919Z",
          "shell.execute_reply.started": "2021-07-13T08:26:03.968202Z"
        },
        "id": "-YPq2u3wJHP5",
        "outputId": "bf60f3cb-4a10-4655-9a45-66fc38dfc47b",
        "trusted": true
      },
      "outputs": [],
      "source": [
        "df1.select_dtypes(include='number').shape"
      ]
    },
    {
      "cell_type": "markdown",
      "metadata": {
        "id": "_EDelMSKJHP5"
      },
      "source": [
        "Є 67 числових стовпчиків. Створимо кореляційну матрицб `corr` для кращого перегляду результатів"
      ]
    },
    {
      "cell_type": "code",
      "execution_count": null,
      "metadata": {
        "execution": {
          "iopub.execute_input": "2021-07-13T08:26:03.981604Z",
          "iopub.status.busy": "2021-07-13T08:26:03.981291Z",
          "iopub.status.idle": "2021-07-13T08:26:04.291641Z",
          "shell.execute_reply": "2021-07-13T08:26:04.290717Z",
          "shell.execute_reply.started": "2021-07-13T08:26:03.981577Z"
        },
        "id": "PKhOMudRJHP5",
        "trusted": true
      },
      "outputs": [],
      "source": [
        "corr_df1 = df1.select_dtypes(include='number').corr()"
      ]
    },
    {
      "cell_type": "code",
      "execution_count": null,
      "metadata": {
        "colab": {
          "base_uri": "https://localhost:8080/",
          "height": 226
        },
        "execution": {
          "iopub.execute_input": "2021-07-13T08:26:04.293286Z",
          "iopub.status.busy": "2021-07-13T08:26:04.292976Z",
          "iopub.status.idle": "2021-07-13T08:26:04.340185Z",
          "shell.execute_reply": "2021-07-13T08:26:04.338987Z",
          "shell.execute_reply.started": "2021-07-13T08:26:04.293258Z"
        },
        "id": "qi47ZIDrJHP5",
        "outputId": "f2d632ef-b340-44be-f011-2640f36582b7",
        "trusted": true
      },
      "outputs": [],
      "source": [
        "corr_df1.head()"
      ]
    },
    {
      "cell_type": "markdown",
      "metadata": {
        "id": "lYq5ZkT5dxfo"
      },
      "source": [
        "Перегляд повної кореляційної матриці"
      ]
    },
    {
      "cell_type": "code",
      "execution_count": null,
      "metadata": {
        "colab": {
          "base_uri": "https://localhost:8080/",
          "height": 1000
        },
        "id": "KG-fS4QCdMuN",
        "outputId": "7965b1e2-aa64-4f9d-a898-40a7d86504b6"
      },
      "outputs": [],
      "source": [
        "plt.figure(figsize = (25,25))\n",
        "sns.heatmap(data = corr_df1*100, annot = True, cmap = \"RdYlGn\", cbar = True, fmt='.0f')\n",
        "plt.show()"
      ]
    },
    {
      "cell_type": "markdown",
      "metadata": {
        "id": "SP61WHAIJHP5"
      },
      "source": [
        "Створимо теплову карту для перегляду кореляцій вище 80% і 99,99%"
      ]
    },
    {
      "cell_type": "code",
      "execution_count": null,
      "metadata": {
        "colab": {
          "base_uri": "https://localhost:8080/",
          "height": 1000
        },
        "execution": {
          "iopub.execute_input": "2021-07-13T08:26:04.342001Z",
          "iopub.status.busy": "2021-07-13T08:26:04.341506Z",
          "iopub.status.idle": "2021-07-13T08:26:07.254747Z",
          "shell.execute_reply": "2021-07-13T08:26:07.253842Z",
          "shell.execute_reply.started": "2021-07-13T08:26:04.341962Z"
        },
        "id": "Rzm9SrBwJHP5",
        "outputId": "93417139-a520-4a49-96a9-4bd2ac0af115",
        "trusted": true
      },
      "outputs": [],
      "source": [
        "plt.figure(figsize = (25,25))\n",
        "sns.heatmap(data = corr_df1[(corr_df1 >= 0.8) & (corr_df1 < 0.99)], annot = True, cmap = \"RdYlGn\", cbar = True, fmt='.2f')\n",
        "plt.show()"
      ]
    },
    {
      "cell_type": "markdown",
      "metadata": {
        "id": "zJMd9nQJJHP5"
      },
      "source": [
        "### Подивимось на 10 найкращих кореляцій для випадків із платіжними труднощами"
      ]
    },
    {
      "cell_type": "code",
      "execution_count": null,
      "metadata": {
        "colab": {
          "base_uri": "https://localhost:8080/"
        },
        "execution": {
          "iopub.execute_input": "2021-07-13T08:26:07.2563Z",
          "iopub.status.busy": "2021-07-13T08:26:07.25601Z",
          "iopub.status.idle": "2021-07-13T08:26:07.267551Z",
          "shell.execute_reply": "2021-07-13T08:26:07.266684Z",
          "shell.execute_reply.started": "2021-07-13T08:26:07.256273Z"
        },
        "id": "yRK_-pRqJHP5",
        "outputId": "c1056ffb-60e7-42c6-8c67-0b6af0528f04",
        "trusted": true
      },
      "outputs": [],
      "source": [
        "corr_df1[corr_df1 <= 0.99].unstack().sort_values(ascending = False).head(22)"
      ]
    },
    {
      "cell_type": "markdown",
      "metadata": {
        "id": "AHrJvZf4JHP5"
      },
      "source": [
        "Оскільки у нас є комбінації, що повторюються, дивлячись на наведену вище таблицю і видаляючи дублі, ми отримуємо топ-10 кореляцій, як показано нижче:\n",
        "\n",
        "- AMT_GOODS_PRICE -              AMT_CREDIT                    0.98\n",
        "- REGION_RATING_CLIENT -         REGION_RATING_CLIENT_W_CITY   0.96\n",
        "- CNT_FAM_MEMBERS -              CNT_CHILDREN                  0.89\n",
        "- DEF_60_CNT_SOCIAL_CIRCLE -     DEF_30_CNT_SOCIAL_CIRCLE      0.87\n",
        "- REG_REGION_NOT_WORK_REGION -   LIVE_REGION_NOT_WORK_REGION   0.85\n",
        "- LIVE_CITY_NOT_WORK_CITY -      REG_CITY_NOT_WORK_CITY        0.78\n",
        "- AMT_ANNUITY -                  AMT_GOODS_PRICE               0.75\n",
        "- AMT_ANNUITY -                  AMT_CREDIT                    0.75\n",
        "- DAYS_EMPLOYED -                FLAG_DOCUMENT_6               0.62\n",
        "- DAYS_BIRTH -                   DAYS_EMPLOYED                 0.58"
      ]
    },
    {
      "cell_type": "markdown",
      "metadata": {
        "id": "BRinB6uQJHP6"
      },
      "source": [
        "### Побудова кореляційної матриці для випадків із вчасними платежеми"
      ]
    },
    {
      "cell_type": "code",
      "execution_count": null,
      "metadata": {
        "colab": {
          "base_uri": "https://localhost:8080/"
        },
        "execution": {
          "iopub.execute_input": "2021-07-13T08:26:07.26901Z",
          "iopub.status.busy": "2021-07-13T08:26:07.26873Z",
          "iopub.status.idle": "2021-07-13T08:26:07.340734Z",
          "shell.execute_reply": "2021-07-13T08:26:07.3395Z",
          "shell.execute_reply.started": "2021-07-13T08:26:07.268984Z"
        },
        "id": "ULI7f3lqJHP6",
        "outputId": "09695e80-fdc4-45e3-eba4-c811a54ace1e",
        "trusted": true
      },
      "outputs": [],
      "source": [
        "df0.select_dtypes(include='number').shape"
      ]
    },
    {
      "cell_type": "markdown",
      "metadata": {
        "id": "oKS6FpmqJHP6"
      },
      "source": [
        "Є 67 числових стовпчиків. Створимо кореляційну матрицю `corr` для кращого перегляду результатів"
      ]
    },
    {
      "cell_type": "code",
      "execution_count": null,
      "metadata": {
        "execution": {
          "iopub.execute_input": "2021-07-13T08:26:07.34286Z",
          "iopub.status.busy": "2021-07-13T08:26:07.34238Z",
          "iopub.status.idle": "2021-07-13T08:26:10.610574Z",
          "shell.execute_reply": "2021-07-13T08:26:10.609641Z",
          "shell.execute_reply.started": "2021-07-13T08:26:07.342807Z"
        },
        "id": "_zlQLDypJHP6",
        "trusted": true
      },
      "outputs": [],
      "source": [
        "corr_df0 = df0.select_dtypes(include='number').corr()"
      ]
    },
    {
      "cell_type": "code",
      "execution_count": null,
      "metadata": {
        "execution": {
          "iopub.execute_input": "2021-07-13T08:26:10.612063Z",
          "iopub.status.busy": "2021-07-13T08:26:10.61177Z",
          "iopub.status.idle": "2021-07-13T08:26:10.652338Z",
          "shell.execute_reply": "2021-07-13T08:26:10.651592Z",
          "shell.execute_reply.started": "2021-07-13T08:26:10.612035Z"
        },
        "id": "_EMF907BJHP6",
        "trusted": true
      },
      "outputs": [],
      "source": [
        "corr_df0.head()"
      ]
    },
    {
      "cell_type": "markdown",
      "metadata": {
        "id": "IHHXLRrLJHP6"
      },
      "source": [
        "Створимо теплову карту для перегляду кореляцій вище 80% і 99,99%"
      ]
    },
    {
      "cell_type": "code",
      "execution_count": null,
      "metadata": {
        "execution": {
          "iopub.execute_input": "2021-07-13T08:26:10.653901Z",
          "iopub.status.busy": "2021-07-13T08:26:10.653413Z",
          "iopub.status.idle": "2021-07-13T08:26:13.512329Z",
          "shell.execute_reply": "2021-07-13T08:26:13.511361Z",
          "shell.execute_reply.started": "2021-07-13T08:26:10.65387Z"
        },
        "id": "FRpbFbvGJHP6",
        "trusted": true
      },
      "outputs": [],
      "source": [
        "plt.figure(figsize = (25,25))\n",
        "sns.heatmap(data = corr_df0[(corr_df0 >= 0.8) & (corr_df0 < 0.9999)], annot = True, cmap = \"RdYlGn\", cbar = True, fmt='.2f')\n",
        "plt.show()"
      ]
    },
    {
      "cell_type": "markdown",
      "metadata": {
        "id": "RSqg1hp6JHP6"
      },
      "source": [
        "### Подивимось на 10 найкращих кореляцій для вчасних платежів"
      ]
    },
    {
      "cell_type": "code",
      "execution_count": null,
      "metadata": {
        "colab": {
          "base_uri": "https://localhost:8080/"
        },
        "execution": {
          "iopub.execute_input": "2021-07-13T08:26:13.514194Z",
          "iopub.status.busy": "2021-07-13T08:26:13.513807Z",
          "iopub.status.idle": "2021-07-13T08:26:13.527801Z",
          "shell.execute_reply": "2021-07-13T08:26:13.526987Z",
          "shell.execute_reply.started": "2021-07-13T08:26:13.51414Z"
        },
        "id": "JqDcwJKVJHP6",
        "outputId": "19df2070-b1ab-49e0-9758-611dd373ca4d",
        "trusted": true
      },
      "outputs": [],
      "source": [
        "corr_df0[corr_df0 <= 0.99].unstack().sort_values(ascending = False).head(28)"
      ]
    },
    {
      "cell_type": "markdown",
      "metadata": {
        "id": "k3vYhzabJHP6"
      },
      "source": [
        "Оскільки у нас є комбінації, що повторюються, дивлячись на наведену вище таблицю і видаляючи дублі, ми отримуємо топ-10 кореляцій, як показано нижче:\n",
        "\n",
        "- AMT_GOODS_PRICE              AMT_CREDIT                    0.99\n",
        "- REGION_RATING_CLIENT         REGION_RATING_CLIENT_W_CITY   0.95\n",
        "- CNT_FAM_MEMBERS              CNT_CHILDREN                  0.88\n",
        "- REG_REGION_NOT_WORK_REGION   LIVE_REGION_NOT_WORK_REGION   0.86\n",
        "- DEF_30_CNT_SOCIAL_CIRCLE     DEF_60_CNT_SOCIAL_CIRCLE      0.86\n",
        "- LIVE_CITY_NOT_WORK_CITY      REG_CITY_NOT_WORK_CITY        0.83\n",
        "- AMT_ANNUITY                  AMT_GOODS_PRICE               0.78\n",
        "- AMT_ANNUITY                  AMT_CREDIT                    0.77\n",
        "- DAYS_BIRTH                   DAYS_EMPLOYED                 0.63\n",
        "- DAYS_EMPLOYED                FLAG_DOCUMENT_6               0.60"
      ]
    },
    {
      "cell_type": "markdown",
      "metadata": {
        "id": "IKNUoYC6JHP6"
      },
      "source": [
        "### Порівняємо 10 найкращих кореляцій між випадками із платіжними труднощами та вчасними платежами"
      ]
    },
    {
      "cell_type": "markdown",
      "metadata": {
        "id": "FoYtw97xJHP7"
      },
      "source": [
        "**Спостереження**\n",
        "\n",
        "- Топ-10 кореляцій для Труднощів з оплатою та Вчасних платежів однакові, за винятком незначних відмінностей у відсотках кореляції\n",
        "- Найвища кореляція для комбінації `AMT_GOODS_PRICE` та `AMT_CREDIT`.\n",
        "- Для набору даних \"Труднощі з оплатою\" кореляція між `AMT_GOODS_PRICE` та `AMT_CREDIT` становить 0,98\n",
        "- Для набору даних \"Вчасні платежі\" кореляція між `AMT_GOODS_PRICE` та `AMT_CREDIT` становить 0,99"
      ]
    },
    {
      "cell_type": "markdown",
      "metadata": {
        "id": "zy42GysRJHP7"
      },
      "source": [
        "# Одновимірний аналіз числових змінних"
      ]
    },
    {
      "cell_type": "markdown",
      "metadata": {
        "id": "6B8GcprgJHP7"
      },
      "source": [
        "### Аналіз стовпця `AMT_CREDIT`"
      ]
    },
    {
      "cell_type": "markdown",
      "metadata": {
        "id": "cQvuANKNJHP7"
      },
      "source": [
        "#### Пошук викидів в `AMT_CREDIT` при випадках із платіжними труднощами"
      ]
    },
    {
      "cell_type": "markdown",
      "metadata": {
        "id": "3LT3M3qJJHP7"
      },
      "source": [
        "Розрахунок IQR (Inter Quartile range)"
      ]
    },
    {
      "cell_type": "code",
      "execution_count": null,
      "metadata": {
        "colab": {
          "base_uri": "https://localhost:8080/"
        },
        "execution": {
          "iopub.execute_input": "2021-07-13T08:26:13.529315Z",
          "iopub.status.busy": "2021-07-13T08:26:13.529053Z",
          "iopub.status.idle": "2021-07-13T08:26:13.537043Z",
          "shell.execute_reply": "2021-07-13T08:26:13.536132Z",
          "shell.execute_reply.started": "2021-07-13T08:26:13.529291Z"
        },
        "id": "1HdM18dnJHP7",
        "outputId": "9c8e82f9-6a6b-4a2f-bc6d-5134dfbfadb9",
        "trusted": true
      },
      "outputs": [],
      "source": [
        "Q1 = df1['AMT_CREDIT'].quantile(0.25)\n",
        "Q3 = df1['AMT_CREDIT'].quantile(0.75)\n",
        "IQR = Q3 - Q1\n",
        "print(IQR)"
      ]
    },
    {
      "cell_type": "markdown",
      "metadata": {
        "id": "FU-Gd6ZFJHP7"
      },
      "source": [
        "Значення *до* (Q1 - 1.5 * IQR) та *після* (Q3 + 1.5 * IQR) є викидами."
      ]
    },
    {
      "cell_type": "code",
      "execution_count": null,
      "metadata": {
        "colab": {
          "base_uri": "https://localhost:8080/"
        },
        "execution": {
          "iopub.execute_input": "2021-07-13T08:26:13.538531Z",
          "iopub.status.busy": "2021-07-13T08:26:13.538271Z",
          "iopub.status.idle": "2021-07-13T08:26:13.547198Z",
          "shell.execute_reply": "2021-07-13T08:26:13.546416Z",
          "shell.execute_reply.started": "2021-07-13T08:26:13.538505Z"
        },
        "id": "jfj5U9KzJHP7",
        "outputId": "61c3026b-fd01-487d-bbc1-8c19dc1e3998",
        "trusted": true
      },
      "outputs": [],
      "source": [
        "Min_value1 = (Q1 - 1.5 * IQR)\n",
        "Max_value1 = (Q3 + 1.5 * IQR)\n",
        "print(\"Мінімальне значення, до якого існують викиди: {}\".format(Min_value1))\n",
        "print(\"Максимальне значення, після якого існують викиди: {}\".format(Max_value1))"
      ]
    },
    {
      "cell_type": "markdown",
      "metadata": {
        "id": "dHjDC8ElJHP7"
      },
      "source": [
        "#### Пошук викидів в `AMT_CREDIT` при випадках із вчасними оплатами"
      ]
    },
    {
      "cell_type": "markdown",
      "metadata": {
        "id": "03NhamPtJHP7"
      },
      "source": [
        "Розрахунок IQR (Inter Quartile range)"
      ]
    },
    {
      "cell_type": "code",
      "execution_count": null,
      "metadata": {
        "colab": {
          "base_uri": "https://localhost:8080/"
        },
        "execution": {
          "iopub.execute_input": "2021-07-13T08:26:13.548594Z",
          "iopub.status.busy": "2021-07-13T08:26:13.548327Z",
          "iopub.status.idle": "2021-07-13T08:26:13.56888Z",
          "shell.execute_reply": "2021-07-13T08:26:13.568073Z",
          "shell.execute_reply.started": "2021-07-13T08:26:13.548568Z"
        },
        "id": "vEWZ4HlxJHP7",
        "outputId": "5a5c158a-7dd8-4004-9f0c-65ac3c7ae537",
        "trusted": true
      },
      "outputs": [],
      "source": [
        "Q1 = df0['AMT_CREDIT'].quantile(0.25)\n",
        "Q3 = df0['AMT_CREDIT'].quantile(0.75)\n",
        "IQR = Q3 - Q1\n",
        "print(IQR)"
      ]
    },
    {
      "cell_type": "markdown",
      "metadata": {
        "id": "YY0OuZYRJHP8"
      },
      "source": [
        "Значення *до* (Q1 - 1.5 * IQR) та *після* (Q3 + 1.5 * IQR) є викидами."
      ]
    },
    {
      "cell_type": "code",
      "execution_count": null,
      "metadata": {
        "colab": {
          "base_uri": "https://localhost:8080/"
        },
        "execution": {
          "iopub.execute_input": "2021-07-13T08:26:13.570396Z",
          "iopub.status.busy": "2021-07-13T08:26:13.569982Z",
          "iopub.status.idle": "2021-07-13T08:26:13.57529Z",
          "shell.execute_reply": "2021-07-13T08:26:13.574488Z",
          "shell.execute_reply.started": "2021-07-13T08:26:13.570365Z"
        },
        "id": "70Apb1KPJHP8",
        "outputId": "348a6398-719e-490f-e31b-c69f1f56d8ae",
        "trusted": true
      },
      "outputs": [],
      "source": [
        "Min_value0 = (Q1 - 1.5 * IQR)\n",
        "Max_value0 = (Q3 + 1.5 * IQR)\n",
        "print(\"Мінімальне значення, до якого існують викиди: {}\".format(Min_value0))\n",
        "print(\"Максимальне значення, після якого існують викиди: {}\".format(Max_value0))"
      ]
    },
    {
      "cell_type": "markdown",
      "metadata": {
        "id": "Qm4uazQCJHP_"
      },
      "source": [
        "Видалення викидів і побудова діаграми розподілу"
      ]
    },
    {
      "cell_type": "code",
      "execution_count": null,
      "metadata": {
        "id": "bURCDoMW1Obj"
      },
      "outputs": [],
      "source": [
        "def kde_no_outliers(df0, df1, Max_value0, Max_value1, column):\n",
        "  plt.figure(figsize = (14,6))\n",
        "  sns.kdeplot(df1[df1[column] <= Max_value1][column],label = 'Payment difficulties')\n",
        "  sns.kdeplot(df0[df0[column] <= Max_value0][column],label = 'On-Time Payments')\n",
        "  plt.ticklabel_format(style='plain', axis='x')\n",
        "  plt.xticks(rotation = 45)\n",
        "  plt.legend()\n",
        "  plt.show()"
      ]
    },
    {
      "cell_type": "code",
      "execution_count": null,
      "metadata": {
        "colab": {
          "base_uri": "https://localhost:8080/",
          "height": 596
        },
        "id": "Ks9P21L-02iz",
        "outputId": "1f9cb93d-9fa0-4f41-e8f6-f6a4064781d2"
      },
      "outputs": [],
      "source": [
        "kde_no_outliers(df0, df1, Max_value0, Max_value1, 'AMT_CREDIT')"
      ]
    },
    {
      "cell_type": "markdown",
      "metadata": {
        "id": "c9WMjjkzJHP_"
      },
      "source": [
        "**Спостереження**\n",
        "\n",
        "- Для `AMT_CREDIT` від 250000 до приблизно 650000 більше клієнтів мають труднощі з оплатою\n",
        "- Для `AMT_CREDIT` > 750000 більше клієнтів, які вчасно здійснюють платежі"
      ]
    },
    {
      "cell_type": "markdown",
      "metadata": {
        "id": "-pNqzCr11eAm"
      },
      "source": [
        "# ДЗ 5. Одновимірний аналіз числової колонки\n",
        "\n",
        " Проведіть подібний до прикладу одновимірний аналіз (виявлення викидів, їх усунення та побудова KDE  графіку) для числових змінних\n",
        "- `YEARS_BIRTH`\n",
        "- `AMT_GOODS_PRICE`\n",
        "- `DAYS_EMPLOYED`\n",
        "\n",
        "Опціонально\n",
        "- `CNT_CHILDREN`\n",
        "- `AMT_INCOME_TOTAL`\n",
        "\n",
        "Для цього винесіть функціонал для аналізу у функцію та викличіть функцію для кожної двійки змінних.\n",
        "\n",
        "Зробіть висновки з аналізу."
      ]
    },
    {
      "cell_type": "code",
      "execution_count": null,
      "metadata": {
        "id": "C_hCcdFbSIDJ"
      },
      "outputs": [],
      "source": []
    },
    {
      "cell_type": "markdown",
      "metadata": {
        "id": "3-Y4zbRaJHQK"
      },
      "source": [
        "# Двовимірний/Багатовимірний аналіз"
      ]
    },
    {
      "cell_type": "markdown",
      "metadata": {
        "id": "lsNsjjrkJHQK"
      },
      "source": [
        "## Неперервні vs неперервні змінні"
      ]
    },
    {
      "cell_type": "markdown",
      "metadata": {
        "id": "ra2xndMXJHQK"
      },
      "source": [
        "### Аналіз стовпця `AMT_GOODS_PRICE` vs `AMT_CREDIT`"
      ]
    },
    {
      "cell_type": "markdown",
      "metadata": {
        "id": "LYwM8FL5JHQK"
      },
      "source": [
        "**Пошук викидів для ствопця `AMT_GOODS_PRICE ` для групи із платіжними труднощами**"
      ]
    },
    {
      "cell_type": "code",
      "execution_count": null,
      "metadata": {
        "colab": {
          "base_uri": "https://localhost:8080/"
        },
        "execution": {
          "iopub.execute_input": "2021-07-13T08:26:24.379444Z",
          "iopub.status.busy": "2021-07-13T08:26:24.379138Z",
          "iopub.status.idle": "2021-07-13T08:26:24.388451Z",
          "shell.execute_reply": "2021-07-13T08:26:24.387539Z",
          "shell.execute_reply.started": "2021-07-13T08:26:24.379416Z"
        },
        "id": "CeySOfy_JHQK",
        "outputId": "e7c18b32-7c33-4f2c-f100-2a2e68d494e2",
        "trusted": true
      },
      "outputs": [],
      "source": [
        "max_value1_AMT_GOODS_PRICE = outlier_range(df1,'AMT_GOODS_PRICE')\n",
        "max_value1_AMT_GOODS_PRICE"
      ]
    },
    {
      "cell_type": "markdown",
      "metadata": {
        "id": "PVZcX88nJHQK"
      },
      "source": [
        "**Пошук викидів для ствопця `AMT_CREDIT` для групи із платіжними труднощами**"
      ]
    },
    {
      "cell_type": "code",
      "execution_count": null,
      "metadata": {
        "colab": {
          "base_uri": "https://localhost:8080/"
        },
        "execution": {
          "iopub.execute_input": "2021-07-13T08:26:24.390008Z",
          "iopub.status.busy": "2021-07-13T08:26:24.389726Z",
          "iopub.status.idle": "2021-07-13T08:26:24.4009Z",
          "shell.execute_reply": "2021-07-13T08:26:24.400054Z",
          "shell.execute_reply.started": "2021-07-13T08:26:24.38998Z"
        },
        "id": "iUmvvAk5JHQL",
        "outputId": "96752ab8-1036-4135-9a78-a499402aee4a",
        "scrolled": true,
        "trusted": true
      },
      "outputs": [],
      "source": [
        "max_value1_AMT_CREDIT = outlier_range(df1,'AMT_CREDIT')\n",
        "max_value1_AMT_CREDIT"
      ]
    },
    {
      "cell_type": "markdown",
      "metadata": {
        "id": "4u9E-ce5JHQL"
      },
      "source": [
        "**Пошук викидів для `AMT_GOODS_PRICE `для групи із вчасними оплатами**"
      ]
    },
    {
      "cell_type": "code",
      "execution_count": null,
      "metadata": {
        "colab": {
          "base_uri": "https://localhost:8080/"
        },
        "execution": {
          "iopub.execute_input": "2021-07-13T08:26:24.402513Z",
          "iopub.status.busy": "2021-07-13T08:26:24.40223Z",
          "iopub.status.idle": "2021-07-13T08:26:24.420653Z",
          "shell.execute_reply": "2021-07-13T08:26:24.42004Z",
          "shell.execute_reply.started": "2021-07-13T08:26:24.402486Z"
        },
        "id": "WGSAZCyIJHQL",
        "outputId": "4bedd552-60bb-4293-fe94-29422937eee6",
        "trusted": true
      },
      "outputs": [],
      "source": [
        "max_value0_AMT_GOODS_PRICE = outlier_range(df0,'AMT_GOODS_PRICE')\n",
        "max_value0_AMT_GOODS_PRICE"
      ]
    },
    {
      "cell_type": "markdown",
      "metadata": {
        "id": "yh8fFXRLJHQL"
      },
      "source": [
        "**Пошук викидів для `AMT_CREDIT `для групи із вчасними оплатами**"
      ]
    },
    {
      "cell_type": "code",
      "execution_count": null,
      "metadata": {
        "colab": {
          "base_uri": "https://localhost:8080/"
        },
        "execution": {
          "iopub.execute_input": "2021-07-13T08:26:24.421983Z",
          "iopub.status.busy": "2021-07-13T08:26:24.421507Z",
          "iopub.status.idle": "2021-07-13T08:26:24.435585Z",
          "shell.execute_reply": "2021-07-13T08:26:24.434964Z",
          "shell.execute_reply.started": "2021-07-13T08:26:24.421951Z"
        },
        "id": "JgmVhkIeJHQL",
        "outputId": "04a26278-6fc2-47eb-cbf6-372ca664c4d6",
        "scrolled": true,
        "trusted": true
      },
      "outputs": [],
      "source": [
        "max_value0_AMT_CREDIT = outlier_range(df0,'AMT_CREDIT')\n",
        "max_value0_AMT_CREDIT"
      ]
    },
    {
      "cell_type": "markdown",
      "metadata": {
        "id": "z3JOAzUzJHQL"
      },
      "source": [
        "Побудова діаграми розсіювання для порівняння з видаленими викидами"
      ]
    },
    {
      "cell_type": "code",
      "execution_count": null,
      "metadata": {
        "colab": {
          "base_uri": "https://localhost:8080/",
          "height": 525
        },
        "execution": {
          "iopub.execute_input": "2021-07-13T08:26:24.436924Z",
          "iopub.status.busy": "2021-07-13T08:26:24.436546Z",
          "iopub.status.idle": "2021-07-13T08:26:25.613324Z",
          "shell.execute_reply": "2021-07-13T08:26:25.612377Z",
          "shell.execute_reply.started": "2021-07-13T08:26:24.436885Z"
        },
        "id": "CV8cgUtfJHQL",
        "outputId": "16deab0a-6b7f-4b86-dc08-d7a9bf41beea",
        "trusted": true
      },
      "outputs": [],
      "source": [
        "plt.figure(figsize = (14, 6))\n",
        "\n",
        "plt.subplot(1,2,1)\n",
        "plt.title('Payment difficulties')\n",
        "sns.scatterplot(x = df1[df1['AMT_GOODS_PRICE'] < max_value1_AMT_GOODS_PRICE].AMT_GOODS_PRICE,\n",
        "                y = df1[df1['AMT_CREDIT'] < max_value1_AMT_CREDIT].AMT_CREDIT, data = df1)\n",
        "plt.ticklabel_format(style='plain', axis='x')\n",
        "plt.ticklabel_format(style='plain', axis='y')\n",
        "\n",
        "plt.subplot(1,2,2)\n",
        "plt.title('On-Time Payments')\n",
        "sns.scatterplot(x = df0[df0['AMT_GOODS_PRICE'] < max_value0_AMT_GOODS_PRICE].AMT_GOODS_PRICE,\n",
        "                y = df0[df0['AMT_CREDIT'] < max_value0_AMT_CREDIT].AMT_CREDIT, data = df0)\n",
        "plt.ticklabel_format(style='plain', axis='x')\n",
        "plt.ticklabel_format(style='plain', axis='y')\n",
        "\n",
        "plt.tight_layout(pad = 4)\n",
        "plt.show()"
      ]
    },
    {
      "cell_type": "markdown",
      "metadata": {
        "id": "vXo5IMVrJHQL"
      },
      "source": [
        "**Спостереження**\n",
        "- AMT_GOODS_PRICE та AMT_CREDIT мають сильну позитивну кореляцію. Це означає, що зі збільшенням ціни товару зростає і сума кредиту"
      ]
    },
    {
      "cell_type": "markdown",
      "metadata": {
        "id": "UCPW3VLJ6Qu5"
      },
      "source": [
        "# ДЗ 6. Кореляційний аналіз для пари числових змінних\n",
        "\n",
        "Проведіть подібний до прикладу кореляційний аналіз для пар змінних\n",
        "- AMT_ANNUITY і AMT_CREDIT\n",
        "- DAYS_EMPLOYED і AMT_INCOME_TOTAL\n",
        "- AMT_CREDIT і DAYS_BIRTH\n",
        "\n",
        "Для цього винесіть функціонал для аналізу у функцію та викличіть функцію для кожної двійки змінних.\n",
        "Зробіть висновок про наявність кореляції між змінними."
      ]
    },
    {
      "cell_type": "code",
      "execution_count": null,
      "metadata": {
        "id": "sLbglAgrSYEU"
      },
      "outputs": [],
      "source": []
    },
    {
      "cell_type": "markdown",
      "metadata": {
        "id": "kghtrtUzJHQQ"
      },
      "source": [
        "## Неперервні та категоріальні змінні"
      ]
    },
    {
      "cell_type": "code",
      "execution_count": null,
      "metadata": {
        "id": "zw3ZKDTMHeTx"
      },
      "outputs": [],
      "source": [
        "def draw_boxplot(df, categorical, continuous, max_continuous, title, hue_column, subplot_position):\n",
        "    \"\"\"\n",
        "    Малює блок-діаграму для заданого DataFrame, категоріальної та неперервної змінної.\n",
        "    \"\"\"\n",
        "    plt.subplot(1, 2, subplot_position)\n",
        "    plt.title(title)\n",
        "    red_diamond = dict(markerfacecolor='r', marker='D')\n",
        "    sns.boxplot(x=categorical,\n",
        "                y=df[df[continuous] < max_continuous][continuous],\n",
        "                data=df,\n",
        "                flierprops=red_diamond,\n",
        "                order=sorted(df[categorical].unique(), reverse=True),\n",
        "                hue=hue_column, hue_order=sorted(df[hue_column].unique(), reverse=True))\n",
        "    plt.ticklabel_format(style='plain', axis='y')\n",
        "    plt.xticks(rotation=90)\n",
        "\n",
        "def bi_boxplot(categorical, continuous, max_continuous1, max_continuous0, hue_column):\n",
        "    \"\"\"\n",
        "    Створює паралельні блок-діаграми для двох груп, визначених у наборі даних, на основі\n",
        "    категоріальної та неперервної змінної, виділяючи відмінності за допомогою відтінків.\n",
        "    \"\"\"\n",
        "    plt.figure(figsize=(16, 10))\n",
        "\n",
        "    # Графік для першо групи \"Труднощі з платежами\" (Payment Difficulties)\n",
        "    draw_boxplot(df1, categorical, continuous, max_continuous1, 'Payment Difficulties', hue_column, 1)\n",
        "\n",
        "    # Графік для другої групи \"Вчасні оплати\" (On-Time Payments)\n",
        "    draw_boxplot(df0, categorical, continuous, max_continuous0, 'On-Time Payments', hue_column, 2)\n",
        "\n",
        "    plt.tight_layout(pad=4)\n",
        "    plt.show()"
      ]
    },
    {
      "cell_type": "markdown",
      "metadata": {
        "id": "iePccbTpJHQQ"
      },
      "source": [
        "### Аналіз стовпців `AMT_CREDIT` vs `NAME_EDUCATION_TYPE` vs `CODE_GENDER`"
      ]
    },
    {
      "cell_type": "markdown",
      "metadata": {
        "id": "1jKOPc2iJHQQ"
      },
      "source": [
        "**Пошук викидів для `AMT_CREDIT `для групи із платіжними труднощами**"
      ]
    },
    {
      "cell_type": "code",
      "execution_count": null,
      "metadata": {
        "colab": {
          "base_uri": "https://localhost:8080/"
        },
        "execution": {
          "iopub.execute_input": "2021-07-13T08:26:30.380887Z",
          "iopub.status.busy": "2021-07-13T08:26:30.380438Z",
          "iopub.status.idle": "2021-07-13T08:26:30.38929Z",
          "shell.execute_reply": "2021-07-13T08:26:30.388377Z",
          "shell.execute_reply.started": "2021-07-13T08:26:30.380855Z"
        },
        "id": "66dFXt_SJHQQ",
        "outputId": "d440e7ee-5dfb-417a-f645-1b4cb30910ae",
        "scrolled": true,
        "trusted": true
      },
      "outputs": [],
      "source": [
        "max_value1_AMT_CREDIT = outlier_range(df1,'AMT_CREDIT')\n",
        "max_value1_AMT_CREDIT"
      ]
    },
    {
      "cell_type": "markdown",
      "metadata": {
        "id": "h3RWNU7AJHQQ"
      },
      "source": [
        "**Пошук викидів для `AMT_CREDIT ` для групи із вчасними платежами**"
      ]
    },
    {
      "cell_type": "code",
      "execution_count": null,
      "metadata": {
        "colab": {
          "base_uri": "https://localhost:8080/"
        },
        "execution": {
          "iopub.execute_input": "2021-07-13T08:26:30.390785Z",
          "iopub.status.busy": "2021-07-13T08:26:30.39049Z",
          "iopub.status.idle": "2021-07-13T08:26:30.410533Z",
          "shell.execute_reply": "2021-07-13T08:26:30.409609Z",
          "shell.execute_reply.started": "2021-07-13T08:26:30.390757Z"
        },
        "id": "zpOzlRasJHQQ",
        "outputId": "c47bad7a-77de-42ea-9d65-422ccd62e95f",
        "scrolled": true,
        "trusted": true
      },
      "outputs": [],
      "source": [
        "max_value0_AMT_CREDIT = outlier_range(df0,'AMT_CREDIT')\n",
        "max_value0_AMT_CREDIT"
      ]
    },
    {
      "cell_type": "markdown",
      "metadata": {
        "id": "pdg-KnEYJHQQ"
      },
      "source": [
        "**Клієнт з платіжними труднощами**"
      ]
    },
    {
      "cell_type": "code",
      "execution_count": null,
      "metadata": {
        "colab": {
          "base_uri": "https://localhost:8080/",
          "height": 237
        },
        "execution": {
          "iopub.execute_input": "2021-07-13T08:26:30.41214Z",
          "iopub.status.busy": "2021-07-13T08:26:30.411671Z",
          "iopub.status.idle": "2021-07-13T08:26:30.463017Z",
          "shell.execute_reply": "2021-07-13T08:26:30.461917Z",
          "shell.execute_reply.started": "2021-07-13T08:26:30.412106Z"
        },
        "id": "nIiVdaWQJHQQ",
        "outputId": "4e905237-d35f-4ea1-c874-f7168798ba04",
        "trusted": true
      },
      "outputs": [],
      "source": [
        "df1.groupby(by = ['NAME_EDUCATION_TYPE','CODE_GENDER']).AMT_CREDIT.describe().head()"
      ]
    },
    {
      "cell_type": "markdown",
      "metadata": {
        "id": "cTIuZB57JHQQ"
      },
      "source": [
        "**Клієнт зі вчасними платежами**"
      ]
    },
    {
      "cell_type": "code",
      "execution_count": null,
      "metadata": {
        "colab": {
          "base_uri": "https://localhost:8080/",
          "height": 237
        },
        "execution": {
          "iopub.execute_input": "2021-07-13T08:26:30.464874Z",
          "iopub.status.busy": "2021-07-13T08:26:30.464473Z",
          "iopub.status.idle": "2021-07-13T08:26:30.718895Z",
          "shell.execute_reply": "2021-07-13T08:26:30.717958Z",
          "shell.execute_reply.started": "2021-07-13T08:26:30.464833Z"
        },
        "id": "Fng8tderJHQQ",
        "outputId": "a8fe99d7-e8c7-401e-d545-8544d224ddeb",
        "trusted": true
      },
      "outputs": [],
      "source": [
        "df0.groupby(by = ['NAME_EDUCATION_TYPE','CODE_GENDER']).AMT_CREDIT.describe().head()"
      ]
    },
    {
      "cell_type": "code",
      "execution_count": null,
      "metadata": {
        "colab": {
          "base_uri": "https://localhost:8080/",
          "height": 945
        },
        "execution": {
          "iopub.execute_input": "2021-07-13T08:26:30.720478Z",
          "iopub.status.busy": "2021-07-13T08:26:30.720184Z",
          "iopub.status.idle": "2021-07-13T08:26:32.308336Z",
          "shell.execute_reply": "2021-07-13T08:26:32.307396Z",
          "shell.execute_reply.started": "2021-07-13T08:26:30.720449Z"
        },
        "id": "tswnw4z5JHQR",
        "outputId": "c1eebe76-686d-4101-b2f6-7c2c2b2526c2",
        "trusted": true
      },
      "outputs": [],
      "source": [
        "bi_boxplot('NAME_EDUCATION_TYPE','AMT_CREDIT',max_value1_AMT_CREDIT, max_value0_AMT_CREDIT, 'CODE_GENDER')"
      ]
    },
    {
      "cell_type": "markdown",
      "metadata": {
        "id": "eCAX7swfJHQR"
      },
      "source": [
        "\n",
        "**Спостереження**\n",
        "- Клієнти з \"академічним ступенем\" мають широкий діапазон кредитів для своєчасних платежів, тоді як для клієнтів з проблемами з оплатою цей діапазон значно нижчий\n",
        "- Якщо поглянути на зведену статистику, то клієнти з \"академічним ступенем\" та проблемами з оплатою беруть середній та медіанний кредит у значно більшому діапазоні, ніж клієнти з вчасною оплатою.\n",
        "- Клієнти-чоловіки з \"академічним ступенем\" завжди сплачують кредит вчасно"
      ]
    },
    {
      "cell_type": "markdown",
      "metadata": {
        "id": "fxFsqreB7h3V"
      },
      "source": [
        " # ДЗ 7. Кореляційний аналіз між двома категоріальними змінними і числовою\n",
        "\n",
        "Проведіть аналогічний кореляційний аналіз для трійок змінних\n",
        "\n",
        "- AMT_INCOME_TOTAL vs NAME_FAMILY_STATUS vs CODE_GENDER\n",
        "- AMT_INCOME_TOTAL vs YEARS_BIRTH_CATEGORY vs NAME_HOUSING_TYPE\n",
        "- AMT_GOODS_PRICE vs NAME_INCOME_TYPE vs CODE_GENDER\n",
        "- AMT_INCOME_TOTAL vs OCCUPATION_TYPE vs CODE_GENDER\n",
        "\n",
        "Можете також проаналізувати додатково свою трійку :)\n",
        "\n",
        "Для цього винесіть функціонал для аналізу у функцію та викличіть функцію для кожної трійки змінних.\n",
        "\n",
        "Зробіть висновок про наявність кореляції між змінними.\n"
      ]
    },
    {
      "cell_type": "code",
      "execution_count": null,
      "metadata": {
        "id": "-3KmXMxiSjYV"
      },
      "outputs": [],
      "source": []
    },
    {
      "cell_type": "markdown",
      "metadata": {
        "id": "FaQTvAHFJHQZ"
      },
      "source": [
        "## Залежності між категоріальними змінними"
      ]
    },
    {
      "cell_type": "markdown",
      "metadata": {
        "id": "1TiQhQJ0JHQZ"
      },
      "source": [
        "### Аналіз стовпців `NAME_INCOME_TYPE` vs `CODE_GENDER`"
      ]
    },
    {
      "cell_type": "code",
      "execution_count": null,
      "metadata": {
        "id": "kOzuOPQWMDJb"
      },
      "outputs": [],
      "source": [
        "def bi_countplot_target(df0, df1, column, hue_column):\n",
        "  group_name = f'Нормалізований розподіл значень за категорією: {column}'\n",
        "  print(group_name.upper())\n",
        "\n",
        "  pltname = 'Клієнт зі складнощами щодо платності'\n",
        "  unique_hue_values = df1[hue_column].unique()\n",
        "  fig, axes = plt.subplots(nrows=1, ncols=2)\n",
        "  fig.set_size_inches(14,4)\n",
        "\n",
        "  proportions = df1.groupby(hue_column)[column].value_counts(normalize=True)\n",
        "  proportions = (proportions*100).round(2)\n",
        "  ax = proportions.unstack(hue_column).sort_values(\n",
        "      by=unique_hue_values[0], ascending=False\n",
        "      ).plot.bar(ax=axes[0], title=pltname)\n",
        "\n",
        "  # анотація значень в барплоті\n",
        "  for container in ax.containers:\n",
        "      ax.bar_label(container, fmt='{:,.1f}%')\n",
        "\n",
        "  pltname = 'Клієнти зі своєчасними платежами'\n",
        "  unique_hue_values = df0[hue_column].unique()\n",
        "\n",
        "  proportions = df0.groupby(hue_column)[column].value_counts(normalize=True)\n",
        "  proportions = (proportions*100).round(2)\n",
        "  ax = proportions.unstack(hue_column).sort_values(\n",
        "      by=unique_hue_values[0], ascending=False\n",
        "      ).plot.bar(ax=axes[1], title=pltname)\n",
        "\n",
        "  for container in ax.containers:\n",
        "      ax.bar_label(container, fmt='{:,.1f}%')\n",
        "\n",
        "  plt.show()\n",
        "\n",
        "  # ---------------\n",
        "  group_name = f'Кількість значень за категорією: {column}'\n",
        "  print(group_name.upper())\n",
        "\n",
        "  pltname = 'Клієнт зі складнощами щодо платності'\n",
        "  unique_hue_values = df1[hue_column].unique()\n",
        "  fig, axes = plt.subplots(nrows=1, ncols=2)\n",
        "  fig.set_size_inches(14,4)\n",
        "\n",
        "  counts = df1.groupby(hue_column)[column].value_counts()\n",
        "  ax = counts.unstack(hue_column).sort_values(\n",
        "      by=unique_hue_values[0], ascending=False\n",
        "      ).plot.bar(ax=axes[0], title=pltname)\n",
        "\n",
        "  for container in ax.containers:\n",
        "    ax.bar_label(container)\n",
        "\n",
        "  pltname = 'Клієнти зі своєчасними платежами'\n",
        "  unique_hue_values = df0[hue_column].unique()\n",
        "\n",
        "  counts = df0.groupby(hue_column)[column].value_counts()\n",
        "  ax = counts.unstack(hue_column).sort_values(\n",
        "      by=unique_hue_values[0], ascending=False\n",
        "      ).plot.bar(ax=axes[1], title=pltname)\n",
        "\n",
        "  for container in ax.containers:\n",
        "    ax.bar_label(container)\n",
        "\n",
        "  plt.show()"
      ]
    },
    {
      "cell_type": "code",
      "execution_count": null,
      "metadata": {
        "colab": {
          "base_uri": "https://localhost:8080/",
          "height": 1000
        },
        "id": "KNfsCayKBzRI",
        "outputId": "a367e8cf-0b21-4264-d477-3c39ca7e1030"
      },
      "outputs": [],
      "source": [
        "bi_countplot_target(df0, df1, 'NAME_INCOME_TYPE','CODE_GENDER');"
      ]
    },
    {
      "cell_type": "markdown",
      "metadata": {
        "id": "24iYtbdwJHQZ"
      },
      "source": [
        "**Спостереження**\n",
        "- Серед клієнтів, які мають складнощі з платністю людей категорії \"Працюючі\" та \"Чоловіки\" відсотково значно більше, ніж серед клієнтів, які складнощів з платністю не мають.\n",
        "- Серед клієнтів, які мають складнощі з платністю людей категорії \"Працюючі\" та \"Жінки\" відсотково значно більше, ніж серед клієнтів, які складнощів з платністю не мають.\n",
        "- Оскільки за обома CODE_GENDER бачимо, що найбільший відсоток клієнтів мають NAME_INCOME_TYPE Working - важливо проаналізувати ще додаткові змінні, які можуть впливати на те, чи буде клієнт мати складнощі з платежами, адже група клієнтів NAME_INCOME_TYPE Working - є в цілому найбільшою в наших даних.\n",
        "- Клієнти категорії \"Бізнесмени\" та \"Студенти\" здійснюють платежі вчасно, хоча їхня історія невелика"
      ]
    },
    {
      "cell_type": "markdown",
      "metadata": {
        "id": "pO6n77Ds1g_e"
      },
      "source": [
        "# ДЗ 8. Аналіз взаємозалежностей між двома категоріальними змінними\n",
        "\n",
        "Проведіть подібний до прикладу аналіз залежностей між категоріальними змінними для пар змінних\n",
        "\n",
        "- NAME_EDUCATION_TYPE vs CODE_GENDER\n",
        "- NAME_FAMILY_STATUS vs OCCUPATION_TYPE\n",
        "- OCCUPATION_TYPE vs NAME_CONTRACT_TYPE\n",
        "\n",
        "Опишіть спостереження щодо того, чи є цікаві знахідки стосовно цільової змінної з цього аналізу."
      ]
    },
    {
      "cell_type": "code",
      "execution_count": null,
      "metadata": {
        "id": "7Mq2GDENSloc"
      },
      "outputs": [],
      "source": []
    },
    {
      "cell_type": "markdown",
      "metadata": {
        "id": "up78m6zz6WMo"
      },
      "source": [
        "***\n",
        "# ДЗ 9. Висновок з проведеного аналізу\n",
        "Напишіть Ваш висновок з проведеного ананлізу, яким категоріям осіб Ви б видали кредит? Категорія може бути, наприклад, люди з такою-то освітою, з таким-то доходом, з таким-то досвідом роботи."
      ]
    },
    {
      "cell_type": "markdown",
      "metadata": {
        "id": "pXl9YCDm6zhP"
      },
      "source": [
        "# Висновок: Категорії клієнтів, на яких слід орієнтуватися при наданні кредиту\n"
      ]
    },
    {
      "cell_type": "code",
      "execution_count": null,
      "metadata": {
        "id": "iHa5dnNjSnRe"
      },
      "outputs": [],
      "source": []
    }
  ],
  "metadata": {
    "colab": {
      "collapsed_sections": [
        "Q23HVbg6JHPy"
      ],
      "provenance": []
    },
    "kernelspec": {
      "display_name": "Python 3",
      "language": "python",
      "name": "python3"
    },
    "language_info": {
      "codemirror_mode": {
        "name": "ipython",
        "version": 3
      },
      "file_extension": ".py",
      "mimetype": "text/x-python",
      "name": "python",
      "nbconvert_exporter": "python",
      "pygments_lexer": "ipython3",
      "version": "3.11.7"
    }
  },
  "nbformat": 4,
  "nbformat_minor": 0
}
