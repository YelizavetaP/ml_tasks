{
 "cells": [
  {
   "cell_type": "markdown",
   "id": "4fe5172c",
   "metadata": {},
   "source": [
    "### 1.1 Книга зі статистики\n",
    "В якості додатковго матеріалу ділюсь із вами чудовою книгою зі статистики \"Beginning statistics\" від авторів Douglas S. Shafer та Zhiyi Zhang\n",
    "\n",
    "Книга є у форматі PDF  , що зручно для перегляду офлайн, а також можна переглядати книгу у веб-форматі і тут можна копіювати та легше перекладати фрагменти тексту:\n",
    "\n",
    "https://2012books.lardbucket.org/books/beginning-statistics/\n",
    "\n",
    "До речі, якщо підключите розширення для Google Chrome \"Google Translate\", тоді зможете перекладати текст книги в веб версії - зручно, якщо важкувати сприймати контент англійською.\n",
    "\n",
    "Книга ілюстративна та класна по наповненню і подачі, в ній є вправи після кожного розділу. Якщо прочитаєте її повністю - будете дуже класно розбиратись у статистиці 👌"
   ]
  },
  {
   "cell_type": "markdown",
   "id": "b02b055d",
   "metadata": {},
   "source": [
    "Підручники та книги зі статистики\n",
    "📘 Мій фаворит — ілюстрований класний підручник англійською\n",
    "\"Beginning Statistics\" — Shafer & Zhang\n",
    "✅ Дуже багато візуальних прикладів\n",
    "✅ Теорія + вправи для практики\n",
    "✅ Доступно онлайн і у PDF\n",
    "\n",
    "Онлайн: https://2012books.lardbucket.org/books/beginning-statistics/\n",
    "\n",
    "PDF: https://drive.google.com/file/d/1vIBqDbuY6UblUotDjHpnODaLQQQ0G7va/view\n",
    "\n",
    "📘 Ще один чудовий безкоштовний підручник онлайн англійською\n",
    "\"Statistics\" — OpenStax\n",
    "✅ Структурований матеріал з прикладами\n",
    "✅ Пояснення, вправи та приклади даних\n",
    "\n",
    "Онлайн: https://openstax.org/books/statistics/pages/preface\n",
    "\n",
    "Також OpenStax має підручники з інших напрямів математики для Data Science (алгебра, аналіз тощо):\n",
    "📚 https://openstax.org/subjects/math\n",
    "\n",
    "📘 \"Introduction to statistical learning with Python\" — Джеймс, Уиттон, Хасти, Тибширани\n",
    "\n",
    "✅ Один із найкращих підручників зі статистичного навчання\n",
    "✅ Теорія + Python-код + приклади\n",
    "✅ Підійде для просунутих учнів\n",
    "\n",
    "Переклад російською (PDF): https://drive.google.com/file/d/1ek4-nlz1pl-jOoSZmW4iR-Bctlk7B0zq/view?usp=sharing\n",
    "\n",
    "📘 Українські ресурси\n",
    "Університетський підручник зі статистики українською\n",
    "📖 Більш академічний стиль, підійде для поглибленого вивчення\n",
    "\n",
    "PDF: https://drive.google.com/file/d/1626xFDRKWVUNT1gNAYuGZdhNJiWByfzQ/view?usp=sharing\n",
    "\n",
    "📗 Не зовсім підручник, але корисне читання\n",
    "\"Мистецтво статистики\" — Девід Шпігелхальтер\n",
    "✅ Чудово пояснює важливість статистичного мислення\n",
    "❌ Але не містить вправ і не замінює підручник\n",
    "\n",
    "Українською: https://knigogo.top/knigi/mystetstvo-statystyky/\n",
    "\n",
    "🐱 Для зовсім базового ознайомлення\n",
    "\"Статистика і котики\" (російською)\n",
    "✅ Дуже базовий рівень, підходить для першого знайомства\n",
    "✅ Простий стиль\n",
    "\n",
    "PDF: https://drive.google.com/file/d/1PO3a0ZD1hc3nkBqEVM0gdmvYYsOoJSmx/view"
   ]
  },
  {
   "cell_type": "markdown",
   "id": "3bbbb3df",
   "metadata": {},
   "source": [
    "### 1.2 \n",
    "\n",
    "Великий огляд мір кореляції між категоріальними та неперервними змінними (англ.): https://medium.com/@outside2SDs/an-overview-of-correlation-measures-between-categorical-and-continuous-variables-4c7f85610365"
   ]
  }
 ],
 "metadata": {
  "language_info": {
   "name": "python"
  }
 },
 "nbformat": 4,
 "nbformat_minor": 5
}
