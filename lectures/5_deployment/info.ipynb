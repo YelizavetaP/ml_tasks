{
 "cells": [
  {
   "cell_type": "markdown",
   "id": "df32b6a3",
   "metadata": {},
   "source": [
    "streamlit repo: https://github.com/hpylieva/streamlit-iris-demo "
   ]
  },
  {
   "cell_type": "markdown",
   "id": "210489cd",
   "metadata": {},
   "source": [
    "Як розвинути почуття прекрасного в коді ML-спеціалісту\n",
    "\n",
    "https://hannapylieva.notion.site/ML-1e694835849480fb971ced44292ce617"
   ]
  },
  {
   "cell_type": "markdown",
   "id": "c68c614d",
   "metadata": {},
   "source": [
    "Деплой ML моделей: FastAPI vs Flask + Docker\n",
    "\n",
    "https://hannapylieva.notion.site/ML-FastAPI-vs-Flask-Docker-20f9483584948063bc61e1e334f6a236"
   ]
  },
  {
   "cell_type": "markdown",
   "id": "45814831",
   "metadata": {},
   "source": []
  }
 ],
 "metadata": {
  "language_info": {
   "name": "python"
  }
 },
 "nbformat": 4,
 "nbformat_minor": 5
}
