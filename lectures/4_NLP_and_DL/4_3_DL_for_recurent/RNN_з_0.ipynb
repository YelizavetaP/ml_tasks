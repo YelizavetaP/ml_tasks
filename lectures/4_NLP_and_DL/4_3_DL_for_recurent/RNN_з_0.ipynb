{
  "cells": [
    {
      "cell_type": "markdown",
      "metadata": {
        "id": "Bo2tHxpTJf5L"
      },
      "source": [
        "Класифікація імен за допомогою RNN на рівні символів\n",
        "==============================================================\n",
        "\n",
        "\n",
        "Ми будемо створювати та навчати базову рекурентну нейронну мережу (RNN) на рівні символів для класифікації слів.Побудуэмо RNN з нуля, аби зрозуміти, як вона працює, а також побачимо, як можна покращити модель.\n",
        "\n",
        "Рекурентна нейронна мережа на рівні символів читає слова як серію символів, видаючи прогноз та \"прихований стан\" (hidden state) на кожному кроці, передаючи свій попередній прихований стан на кожен наступний крок. Ми беремо фінальний прогноз як вихід, тобто, до якого класу належить слово.\n",
        "\n",
        "Конкретно, ми будемо навчатися на кількох тисячах прізвищ з 18 мов походження та прогнозувати, з якої мови походить ім'я на основі його написання:\n",
        "\n",
        "``` {.sourceCode .sh}\n",
        "$ python predict.py Hinton\n",
        "(-0.47) Шотландська\n",
        "(-1.52) Англійська\n",
        "(-3.57) Ірландська\n",
        "\n",
        "$ python predict.py Schmidhuber\n",
        "(-0.19) Німецька\n",
        "(-2.48) Чеська\n",
        "(-2.68) Голландська\n",
        "```\n",
        "\n",
        "Підготовка даних\n",
        "------------------\n",
        "\n",
        "Завантажимо дані names.zip та розпакуємо їх у поточний каталог.\n"
      ]
    },
    {
      "cell_type": "code",
      "source": [
        "!unzip names.zip"
      ],
      "metadata": {
        "colab": {
          "base_uri": "https://localhost:8080/"
        },
        "id": "v6ynYTP6JyJM",
        "outputId": "b9641168-9de9-4426-d5b3-8c0533aa51aa"
      },
      "execution_count": null,
      "outputs": [
        {
          "output_type": "stream",
          "name": "stdout",
          "text": [
            "Archive:  names.zip\n",
            "   creating: data/\n",
            "  inflating: data/eng-fra.txt        \n",
            "   creating: data/names/\n",
            "  inflating: data/names/Arabic.txt   \n",
            "  inflating: data/names/Chinese.txt  \n",
            "  inflating: data/names/Czech.txt    \n",
            "  inflating: data/names/Dutch.txt    \n",
            "  inflating: data/names/English.txt  \n",
            "  inflating: data/names/French.txt   \n",
            "  inflating: data/names/German.txt   \n",
            "  inflating: data/names/Greek.txt    \n",
            "  inflating: data/names/Irish.txt    \n",
            "  inflating: data/names/Italian.txt  \n",
            "  inflating: data/names/Japanese.txt  \n",
            "  inflating: data/names/Korean.txt   \n",
            "  inflating: data/names/Polish.txt   \n",
            "  inflating: data/names/Portuguese.txt  \n",
            "  inflating: data/names/Russian.txt  \n",
            "  inflating: data/names/Scottish.txt  \n",
            "  inflating: data/names/Spanish.txt  \n",
            "  inflating: data/names/Vietnamese.txt  \n"
          ]
        }
      ]
    },
    {
      "cell_type": "code",
      "source": [
        "!ls"
      ],
      "metadata": {
        "id": "u0FwI2ORJyiH"
      },
      "execution_count": null,
      "outputs": []
    },
    {
      "cell_type": "markdown",
      "source": [
        "У каталозі `data/names` містяться 18 текстових файлів, названих як `[Language].txt`. Кожен файл містить безліч імен, по одному імені на рядок, в основному романізованих (але нам все ще потрібно конвертувати імʼя з Unicode в ASCII).\n",
        "\n",
        "Конвертація імен із Unicode в ASCII часто необхідна в задачах машинного навчання для стандартизації даних. Імена з різних мов можуть містити діакритичні знаки або символи, які відрізняються від стандартної латиниці. Це може ускладнити обробку текстових даних, особливо якщо ви використовуєте алгоритми, які менш стійкі до варіацій символів або якщо ваша модель потребує одноманітного набору символів.\n",
        "\n",
        "Ми в результаті наступної попередньої обробки отримаємо словник списків імен за мовами, `{language: [names ...]}`. Загальні змінні \"category\" та \"line\" (для мови та імені в нашому випадку) використовуються для подальшої розширюваності."
      ],
      "metadata": {
        "id": "_dxKq25zJ0XY"
      }
    },
    {
      "cell_type": "code",
      "source": [
        "from io import open\n",
        "import glob\n",
        "import os\n",
        "\n",
        "# Знаходить всі файли за вказаним шляхом\n",
        "def findFiles(path): return glob.glob(path)\n",
        "\n",
        "print(findFiles('data/names/*.txt'))\n",
        "\n",
        "import unicodedata\n",
        "import string\n",
        "\n",
        "all_letters = string.ascii_letters + \" .,;'\"\n",
        "n_letters = len(all_letters)\n",
        "\n",
        "# Перетворює рядок Unicode в простий ASCII, дякуємо https://stackoverflow.com/a/518232/2809427\n",
        "def unicodeToAscii(s):\n",
        "    return ''.join(\n",
        "        c for c in unicodedata.normalize('NFD', s)\n",
        "        if unicodedata.category(c) != 'Mn'\n",
        "        and c in all_letters\n",
        "    )\n",
        "\n",
        "print(unicodeToAscii('Ślusàrski'))"
      ],
      "metadata": {
        "colab": {
          "base_uri": "https://localhost:8080/"
        },
        "id": "up0Jw9RecrNa",
        "outputId": "51e7cec1-585d-4f50-b249-22fb42a8078f"
      },
      "execution_count": null,
      "outputs": [
        {
          "output_type": "stream",
          "name": "stdout",
          "text": [
            "['data/names/Polish.txt', 'data/names/Korean.txt', 'data/names/Italian.txt', 'data/names/Dutch.txt', 'data/names/Russian.txt', 'data/names/Scottish.txt', 'data/names/French.txt', 'data/names/Czech.txt', 'data/names/Chinese.txt', 'data/names/Japanese.txt', 'data/names/Spanish.txt', 'data/names/English.txt', 'data/names/Irish.txt', 'data/names/Arabic.txt', 'data/names/German.txt', 'data/names/Portuguese.txt', 'data/names/Vietnamese.txt', 'data/names/Greek.txt']\n",
            "Slusarski\n"
          ]
        }
      ]
    },
    {
      "cell_type": "code",
      "execution_count": null,
      "metadata": {
        "id": "rQ52PAqPJf5N"
      },
      "outputs": [],
      "source": [
        "# Створюємо словник category_lines, список імен для кожної мови\n",
        "category_lines = {}\n",
        "all_categories = []\n",
        "\n",
        "# Читає файл і розділяє на рядки\n",
        "def readLines(filename):\n",
        "    lines = open(filename, encoding='utf-8').read().strip().split('\\n')\n",
        "    return [unicodeToAscii(line) for line in lines]\n",
        "\n",
        "# Проходимо по кожному файлу у вказаній директорії\n",
        "for filename in findFiles('data/names/*.txt'):\n",
        "    category = os.path.splitext(os.path.basename(filename))[0]  # Отримуємо назву категорії з імені файлу\n",
        "    all_categories.append(category)  # Додаємо категорію до списку всіх категорій\n",
        "    lines = readLines(filename)  # Читаємо всі рядки з файлу\n",
        "    category_lines[category] = lines  # Додаємо список імен до словника за категоріями\n",
        "\n",
        "n_categories = len(all_categories)  # Визначаємо кількість категорій"
      ]
    },
    {
      "cell_type": "markdown",
      "metadata": {
        "id": "v4_0LO8lJf5O"
      },
      "source": [
        "Тепер у нас є `category_lines`, словник, що відображає кожну категорію (мову) на список рядків (імен). Ми також створили `all_categories` (просто список мов) та `n_categories` для подальшого використання."
      ]
    },
    {
      "cell_type": "code",
      "source": [
        "# category_lines"
      ],
      "metadata": {
        "id": "Uixj6yszc40O"
      },
      "execution_count": null,
      "outputs": []
    },
    {
      "cell_type": "code",
      "execution_count": null,
      "metadata": {
        "colab": {
          "base_uri": "https://localhost:8080/"
        },
        "id": "xxLUUDfhJf5O",
        "outputId": "5f6e53b0-42ea-4dda-b57b-4078f71a5aa5"
      },
      "outputs": [
        {
          "output_type": "stream",
          "name": "stdout",
          "text": [
            "['Abandonato', 'Abatangelo', 'Abatantuono', 'Abate', 'Abategiovanni']\n"
          ]
        }
      ],
      "source": [
        "print(category_lines['Italian'][:5])"
      ]
    },
    {
      "cell_type": "code",
      "source": [
        "print(category_lines['Polish'][:5])"
      ],
      "metadata": {
        "colab": {
          "base_uri": "https://localhost:8080/"
        },
        "id": "4THYVO0rc-cr",
        "outputId": "398ae6c9-4da4-4b4a-87b5-2eccbfff34ab"
      },
      "execution_count": null,
      "outputs": [
        {
          "output_type": "stream",
          "name": "stdout",
          "text": [
            "['Adamczak', 'Adamczyk', 'Andrysiak', 'Auttenberg', 'Bartosz']\n"
          ]
        }
      ]
    },
    {
      "cell_type": "markdown",
      "source": [
        "Маємо 20 тис імен до слова:"
      ],
      "metadata": {
        "id": "279IyNpOFP0g"
      }
    },
    {
      "cell_type": "code",
      "source": [
        "sum(len(v) for v in category_lines.values())"
      ],
      "metadata": {
        "colab": {
          "base_uri": "https://localhost:8080/"
        },
        "id": "2BFdD5IhEx_s",
        "outputId": "0b32bc26-bf26-4ede-ca5e-11a2af2b2dfb"
      },
      "execution_count": null,
      "outputs": [
        {
          "output_type": "execute_result",
          "data": {
            "text/plain": [
              "20074"
            ]
          },
          "metadata": {},
          "execution_count": 8
        }
      ]
    },
    {
      "cell_type": "code",
      "source": [
        "{k: len(v) for k,v in category_lines.items()}"
      ],
      "metadata": {
        "colab": {
          "base_uri": "https://localhost:8080/"
        },
        "id": "IoXksc71dFMX",
        "outputId": "71560af2-0e09-489a-fdf6-eba1b9911492"
      },
      "execution_count": null,
      "outputs": [
        {
          "output_type": "execute_result",
          "data": {
            "text/plain": [
              "{'Polish': 139,\n",
              " 'Korean': 94,\n",
              " 'Italian': 709,\n",
              " 'Dutch': 297,\n",
              " 'Russian': 9408,\n",
              " 'Scottish': 100,\n",
              " 'French': 277,\n",
              " 'Czech': 519,\n",
              " 'Chinese': 268,\n",
              " 'Japanese': 991,\n",
              " 'Spanish': 298,\n",
              " 'English': 3668,\n",
              " 'Irish': 232,\n",
              " 'Arabic': 2000,\n",
              " 'German': 724,\n",
              " 'Portuguese': 74,\n",
              " 'Vietnamese': 73,\n",
              " 'Greek': 203}"
            ]
          },
          "metadata": {},
          "execution_count": 9
        }
      ]
    },
    {
      "cell_type": "markdown",
      "metadata": {
        "id": "krk5nz1-Jf5O"
      },
      "source": [
        "Перетворення імен на тензори\n",
        "==========================\n",
        "\n",
        "Тепер, коли ми організували всі імена, нам потрібно перетворити їх на тензори, щоб мати можливість їх використовувати.\n",
        "\n",
        "Щоб представити одну літеру, ми використовуємо \"one-hot вектор\" (one-hot vector) розміру `<1 x n_letters>`. One-hot вектор заповнений 0, за винятком 1 на індексі поточної літери, наприклад, `\"b\" = <0 1 0 0 0 ...>`.\n",
        "\n",
        "Щоб створити слово, ми об'єднуємо кілька з цих векторів у 2D матрицю `<line_length x 1 x n_letters>`.\n",
        "\n",
        "Цей додатковий 1 вимір потрібний, оскільки PyTorch вважає, що всі дані сформовані знаходиться в батчі - ми просто використовуємо розмір батча 1 тут. Насправді буває і unbayched input - але це рідкий кейс при тренуванні нейронних мереж."
      ]
    },
    {
      "cell_type": "code",
      "source": [
        "len(all_letters)"
      ],
      "metadata": {
        "colab": {
          "base_uri": "https://localhost:8080/"
        },
        "id": "9eETta0tdhpB",
        "outputId": "881f6b5f-6115-4b8e-cfd3-92c4951a5d47"
      },
      "execution_count": null,
      "outputs": [
        {
          "output_type": "execute_result",
          "data": {
            "text/plain": [
              "57"
            ]
          },
          "metadata": {},
          "execution_count": 11
        }
      ]
    },
    {
      "cell_type": "code",
      "source": [
        "all_letters.find('J')"
      ],
      "metadata": {
        "colab": {
          "base_uri": "https://localhost:8080/"
        },
        "id": "8W8-f02AeA-0",
        "outputId": "c4435c93-8b96-46f3-b100-d2a7df6c5738"
      },
      "execution_count": null,
      "outputs": [
        {
          "output_type": "execute_result",
          "data": {
            "text/plain": [
              "35"
            ]
          },
          "metadata": {},
          "execution_count": 14
        }
      ]
    },
    {
      "cell_type": "code",
      "execution_count": null,
      "metadata": {
        "colab": {
          "base_uri": "https://localhost:8080/"
        },
        "id": "AxuaSrXoJf5P",
        "outputId": "dba5b6c2-24c6-4286-c9ce-29cce14c6d1e"
      },
      "outputs": [
        {
          "output_type": "stream",
          "name": "stdout",
          "text": [
            "tensor([[0., 0., 0., 0., 0., 0., 0., 0., 0., 0., 0., 0., 0., 0., 0., 0., 0., 0.,\n",
            "         0., 0., 0., 0., 0., 0., 0., 0., 0., 0., 0., 0., 0., 0., 0., 0., 0., 1.,\n",
            "         0., 0., 0., 0., 0., 0., 0., 0., 0., 0., 0., 0., 0., 0., 0., 0., 0., 0.,\n",
            "         0., 0., 0.]])\n",
            "torch.Size([5, 1, 57])\n"
          ]
        }
      ],
      "source": [
        "import torch\n",
        "\n",
        "# Знаходимо індекс літери з all_letters, наприклад, \"a\" = 0\n",
        "def letterToIndex(letter):\n",
        "    return all_letters.find(letter)\n",
        "\n",
        "# Для демонстрації: перетворюємо літеру в тензор розміром <1 x n_letters>\n",
        "def letterToTensor(letter):\n",
        "    tensor = torch.zeros(1, n_letters)\n",
        "    tensor[0][letterToIndex(letter)] = 1\n",
        "    return tensor\n",
        "\n",
        "# Перетворюємо рядок у тензор розміру <line_length x 1 x n_letters>,\n",
        "# або масив векторів, що представляють літери у вигляді one-hot кодування\n",
        "def lineToTensor(line):\n",
        "    tensor = torch.zeros(len(line), 1, n_letters)\n",
        "    for li, letter in enumerate(line):\n",
        "        tensor[li][0][letterToIndex(letter)] = 1\n",
        "    return tensor\n",
        "\n",
        "print(letterToTensor('J'))\n",
        "\n",
        "print(lineToTensor('Jones').size())"
      ]
    },
    {
      "cell_type": "code",
      "source": [
        "lineToTensor('Jones')"
      ],
      "metadata": {
        "colab": {
          "base_uri": "https://localhost:8080/"
        },
        "id": "x1OylGgYePTP",
        "outputId": "ae553966-464f-437a-ab41-4592e224f32a"
      },
      "execution_count": null,
      "outputs": [
        {
          "output_type": "execute_result",
          "data": {
            "text/plain": [
              "tensor([[[0., 0., 0., 0., 0., 0., 0., 0., 0., 0., 0., 0., 0., 0., 0., 0., 0.,\n",
              "          0., 0., 0., 0., 0., 0., 0., 0., 0., 0., 0., 0., 0., 0., 0., 0., 0.,\n",
              "          0., 1., 0., 0., 0., 0., 0., 0., 0., 0., 0., 0., 0., 0., 0., 0., 0.,\n",
              "          0., 0., 0., 0., 0., 0.]],\n",
              "\n",
              "        [[0., 0., 0., 0., 0., 0., 0., 0., 0., 0., 0., 0., 0., 0., 1., 0., 0.,\n",
              "          0., 0., 0., 0., 0., 0., 0., 0., 0., 0., 0., 0., 0., 0., 0., 0., 0.,\n",
              "          0., 0., 0., 0., 0., 0., 0., 0., 0., 0., 0., 0., 0., 0., 0., 0., 0.,\n",
              "          0., 0., 0., 0., 0., 0.]],\n",
              "\n",
              "        [[0., 0., 0., 0., 0., 0., 0., 0., 0., 0., 0., 0., 0., 1., 0., 0., 0.,\n",
              "          0., 0., 0., 0., 0., 0., 0., 0., 0., 0., 0., 0., 0., 0., 0., 0., 0.,\n",
              "          0., 0., 0., 0., 0., 0., 0., 0., 0., 0., 0., 0., 0., 0., 0., 0., 0.,\n",
              "          0., 0., 0., 0., 0., 0.]],\n",
              "\n",
              "        [[0., 0., 0., 0., 1., 0., 0., 0., 0., 0., 0., 0., 0., 0., 0., 0., 0.,\n",
              "          0., 0., 0., 0., 0., 0., 0., 0., 0., 0., 0., 0., 0., 0., 0., 0., 0.,\n",
              "          0., 0., 0., 0., 0., 0., 0., 0., 0., 0., 0., 0., 0., 0., 0., 0., 0.,\n",
              "          0., 0., 0., 0., 0., 0.]],\n",
              "\n",
              "        [[0., 0., 0., 0., 0., 0., 0., 0., 0., 0., 0., 0., 0., 0., 0., 0., 0.,\n",
              "          0., 1., 0., 0., 0., 0., 0., 0., 0., 0., 0., 0., 0., 0., 0., 0., 0.,\n",
              "          0., 0., 0., 0., 0., 0., 0., 0., 0., 0., 0., 0., 0., 0., 0., 0., 0.,\n",
              "          0., 0., 0., 0., 0., 0.]]])"
            ]
          },
          "metadata": {},
          "execution_count": 15
        }
      ]
    },
    {
      "cell_type": "markdown",
      "metadata": {
        "id": "aMdRJPh6Jf5P"
      },
      "source": [
        "Створення мережі\n",
        "====================\n",
        "\n",
        "Наступний клас RNN реалізує \"ванільний RNN\" і складається всього з 3 лінійних шарів,\n",
        "які працюють з вхідними даними та прихованим станом, з шаром `LogSoftmax` після виходу."
      ]
    },
    {
      "cell_type": "code",
      "execution_count": null,
      "metadata": {
        "id": "RZLjzrc-Jf5P"
      },
      "outputs": [],
      "source": [
        "import torch.nn as nn\n",
        "import torch.nn.functional as F\n",
        "\n",
        "class RNN(nn.Module):\n",
        "    def __init__(self, input_size, hidden_size, output_size):\n",
        "        super(RNN, self).__init__()\n",
        "\n",
        "        self.hidden_size = hidden_size\n",
        "\n",
        "        self.W_xh = nn.Linear(input_size, hidden_size)\n",
        "        self.W_hh = nn.Linear(hidden_size, hidden_size)\n",
        "        self.W_hy = nn.Linear(hidden_size, output_size)\n",
        "        self.softmax = nn.LogSoftmax(dim=1)\n",
        "\n",
        "    def forward(self, input, hidden):\n",
        "        hidden = F.tanh(self.W_xh(input) + self.W_hh(hidden))\n",
        "        output = self.W_hy(hidden)\n",
        "        output = self.softmax(output)\n",
        "        return output, hidden\n",
        "\n",
        "    def initHidden(self):\n",
        "        return torch.zeros(1, self.hidden_size)\n",
        "\n",
        "n_hidden = 128\n",
        "rnn = RNN(n_letters, n_hidden, n_categories)"
      ]
    },
    {
      "cell_type": "code",
      "source": [
        "rnn"
      ],
      "metadata": {
        "colab": {
          "base_uri": "https://localhost:8080/"
        },
        "id": "ojZb_Gv4uwcA",
        "outputId": "03b4d098-b2b1-472a-8a0d-aea3dd82d8fe"
      },
      "execution_count": null,
      "outputs": [
        {
          "output_type": "execute_result",
          "data": {
            "text/plain": [
              "RNN(\n",
              "  (W_xh): Linear(in_features=57, out_features=128, bias=True)\n",
              "  (W_hh): Linear(in_features=128, out_features=128, bias=True)\n",
              "  (W_hy): Linear(in_features=128, out_features=18, bias=True)\n",
              "  (softmax): LogSoftmax(dim=1)\n",
              ")"
            ]
          },
          "metadata": {},
          "execution_count": 19
        }
      ]
    },
    {
      "cell_type": "markdown",
      "metadata": {
        "id": "fb-iAEgxJf5P"
      },
      "source": [
        "Щоб викликати одне відпрацювання цієї мережі (один крок), нам потрібно передати вхідні дані (в нашому випадку, тензор для поточної літери) та попередній прихований стан (який ми спочатку ініціалізуємо нулями). Ми отримаємо вихідні дані (ймовірність кожної мови) та наступний прихований стан (який ми зберігаємо для наступного кроку)."
      ]
    },
    {
      "cell_type": "code",
      "execution_count": null,
      "metadata": {
        "id": "-E0dhQ2eJf5Q",
        "colab": {
          "base_uri": "https://localhost:8080/"
        },
        "outputId": "80e70e0a-8b7a-44f2-b8c0-d4df68a7ec1d"
      },
      "outputs": [
        {
          "output_type": "execute_result",
          "data": {
            "text/plain": [
              "tensor([[-2.9098, -3.0165, -3.1149, -2.8793, -2.9491, -2.8108, -2.9019, -2.9284,\n",
              "         -2.8545, -2.9465, -2.8992, -2.8827, -2.8834, -2.9097, -2.7004, -2.8373,\n",
              "         -2.7820, -2.8867]], grad_fn=<LogSoftmaxBackward0>)"
            ]
          },
          "metadata": {},
          "execution_count": 20
        }
      ],
      "source": [
        "input = letterToTensor('A')\n",
        "hidden = torch.zeros(1, n_hidden)\n",
        "\n",
        "output, next_hidden = rnn(input, hidden)\n",
        "output"
      ]
    },
    {
      "cell_type": "code",
      "source": [
        "hidden"
      ],
      "metadata": {
        "colab": {
          "base_uri": "https://localhost:8080/"
        },
        "id": "TQq684aOg0WA",
        "outputId": "ca8b4feb-5e90-4481-b1c7-7569a40e25da"
      },
      "execution_count": null,
      "outputs": [
        {
          "output_type": "execute_result",
          "data": {
            "text/plain": [
              "tensor([[0., 0., 0., 0., 0., 0., 0., 0., 0., 0., 0., 0., 0., 0., 0., 0., 0., 0., 0., 0., 0., 0., 0., 0.,\n",
              "         0., 0., 0., 0., 0., 0., 0., 0., 0., 0., 0., 0., 0., 0., 0., 0., 0., 0., 0., 0., 0., 0., 0., 0.,\n",
              "         0., 0., 0., 0., 0., 0., 0., 0., 0., 0., 0., 0., 0., 0., 0., 0., 0., 0., 0., 0., 0., 0., 0., 0.,\n",
              "         0., 0., 0., 0., 0., 0., 0., 0., 0., 0., 0., 0., 0., 0., 0., 0., 0., 0., 0., 0., 0., 0., 0., 0.,\n",
              "         0., 0., 0., 0., 0., 0., 0., 0., 0., 0., 0., 0., 0., 0., 0., 0., 0., 0., 0., 0., 0., 0., 0., 0.,\n",
              "         0., 0., 0., 0., 0., 0., 0., 0.]])"
            ]
          },
          "metadata": {},
          "execution_count": 22
        }
      ]
    },
    {
      "cell_type": "code",
      "source": [
        "torch.exp(output)"
      ],
      "metadata": {
        "colab": {
          "base_uri": "https://localhost:8080/"
        },
        "id": "k1_XAXcLgqAS",
        "outputId": "5e927bad-5370-4342-d3e1-6db55f685732"
      },
      "execution_count": null,
      "outputs": [
        {
          "output_type": "execute_result",
          "data": {
            "text/plain": [
              "tensor([[0.0545, 0.0490, 0.0444, 0.0562, 0.0524, 0.0602, 0.0549, 0.0535, 0.0576,\n",
              "         0.0525, 0.0551, 0.0560, 0.0559, 0.0545, 0.0672, 0.0586, 0.0619, 0.0558]],\n",
              "       grad_fn=<ExpBackward0>)"
            ]
          },
          "metadata": {},
          "execution_count": 21
        }
      ]
    },
    {
      "cell_type": "markdown",
      "metadata": {
        "id": "AzJ_If-6Jf5Q"
      },
      "source": [
        "Задля ефективності ми не хочемо створювати новий тензор з літери для кожного кроку, тому ми будемо використовувати `lineToTensor` замість `letterToTensor` і використовувати зрізи. Це можна ще більше оптимізувати, попередньо обчисливши пакети (батчі) тензорів."
      ]
    },
    {
      "cell_type": "code",
      "source": [
        "input.shape"
      ],
      "metadata": {
        "colab": {
          "base_uri": "https://localhost:8080/"
        },
        "id": "AIherQaGg9hb",
        "outputId": "679862a2-9eb8-4e94-8701-0145ad928b24"
      },
      "execution_count": null,
      "outputs": [
        {
          "output_type": "execute_result",
          "data": {
            "text/plain": [
              "torch.Size([6, 1, 57])"
            ]
          },
          "metadata": {},
          "execution_count": 25
        }
      ]
    },
    {
      "cell_type": "code",
      "execution_count": null,
      "metadata": {
        "colab": {
          "base_uri": "https://localhost:8080/"
        },
        "id": "KDKm7tP2Jf5Q",
        "outputId": "d7d164e5-7588-4d40-c3b4-676ed94b8a59"
      },
      "outputs": [
        {
          "output_type": "stream",
          "name": "stdout",
          "text": [
            "tensor([[-2.8688, -3.2183, -3.0249, -2.9251, -2.8807, -2.8863, -2.8853, -2.9056,\n",
            "         -2.8204, -2.8186, -3.0145, -2.8097, -2.9724, -2.8327, -2.8390, -2.7952,\n",
            "         -2.7473, -2.8777]], grad_fn=<LogSoftmaxBackward0>)\n"
          ]
        }
      ],
      "source": [
        "input = lineToTensor('Albert')\n",
        "hidden = torch.zeros(1, n_hidden)\n",
        "\n",
        "output, next_hidden = rnn(input[0], hidden) # виклик знову ж тільки на одній літері\n",
        "output, next_hidden = rnn(input[1], next_hidden)\n",
        "output, next_hidden = rnn(input[2], next_hidden)\n",
        "output, next_hidden = rnn(input[3], next_hidden)\n",
        "output, next_hidden = rnn(input[4], next_hidden)\n",
        "output, next_hidden = rnn(input[5], next_hidden)\n",
        "print(output)"
      ]
    },
    {
      "cell_type": "code",
      "source": [
        "torch.exp(output)"
      ],
      "metadata": {
        "colab": {
          "base_uri": "https://localhost:8080/"
        },
        "id": "Paof4JZzhOnq",
        "outputId": "e7dc2b87-dd12-478d-d3a6-97b2d6169d6e"
      },
      "execution_count": null,
      "outputs": [
        {
          "output_type": "execute_result",
          "data": {
            "text/plain": [
              "tensor([[0.0568, 0.0400, 0.0486, 0.0537, 0.0561, 0.0558, 0.0558, 0.0547, 0.0596,\n",
              "         0.0597, 0.0491, 0.0602, 0.0512, 0.0589, 0.0585, 0.0611, 0.0641, 0.0563]],\n",
              "       grad_fn=<ExpBackward0>)"
            ]
          },
          "metadata": {},
          "execution_count": 27
        }
      ]
    },
    {
      "cell_type": "markdown",
      "metadata": {
        "id": "l-JwkneLJf5Q"
      },
      "source": [
        "Як ви можете бачити, вихід є тензором `<1 x n_categories>`, де кожен елемент є ймовірністю цієї категорії (вища ймовірність означає більшу ймовірність)."
      ]
    },
    {
      "cell_type": "markdown",
      "metadata": {
        "id": "zxtG_F4qJf5Q"
      },
      "source": [
        "Навчання\n",
        "========\n",
        "\n",
        "Підготовка до навчання\n",
        "----------------------\n",
        "\n",
        "Перед початком навчання ми повинні створити кілька допоміжних функцій. Перша з них - це інтерпретація виходу мережі, який ми знаємо як ймовірність кожної категорії. Ми можемо використовувати `Tensor.topk`, щоб отримати індекс найбільшого значення:"
      ]
    },
    {
      "cell_type": "code",
      "source": [
        "all_categories[10]"
      ],
      "metadata": {
        "colab": {
          "base_uri": "https://localhost:8080/",
          "height": 35
        },
        "id": "1RxBUNL7is8i",
        "outputId": "f2c8d443-4ba6-41a5-9947-d82d3ca11a77"
      },
      "execution_count": null,
      "outputs": [
        {
          "output_type": "execute_result",
          "data": {
            "text/plain": [
              "'Spanish'"
            ],
            "application/vnd.google.colaboratory.intrinsic+json": {
              "type": "string"
            }
          },
          "metadata": {},
          "execution_count": 29
        }
      ]
    },
    {
      "cell_type": "code",
      "execution_count": null,
      "metadata": {
        "colab": {
          "base_uri": "https://localhost:8080/"
        },
        "id": "abKrVWeyJf5Q",
        "outputId": "e365a72c-c8b1-47a4-da10-3a61966895d5"
      },
      "outputs": [
        {
          "output_type": "stream",
          "name": "stdout",
          "text": [
            "('Vietnamese', 16)\n"
          ]
        }
      ],
      "source": [
        "def categoryFromOutput(output):\n",
        "    top_n, top_i = output.topk(1)\n",
        "    category_i = top_i[0].item()\n",
        "    return all_categories[category_i], category_i\n",
        "\n",
        "print(categoryFromOutput(output))"
      ]
    },
    {
      "cell_type": "markdown",
      "metadata": {
        "id": "CnS2GhvDJf5R"
      },
      "source": [
        "Ми також хочемо швидкий спосіб отримати приклад з навчального набору даних (ім'я та його мова):"
      ]
    },
    {
      "cell_type": "code",
      "execution_count": null,
      "metadata": {
        "colab": {
          "base_uri": "https://localhost:8080/"
        },
        "id": "EIG8CNoYJf5R",
        "outputId": "7c699037-e019-4aa3-b634-ec53d379bd22"
      },
      "outputs": [
        {
          "output_type": "stream",
          "name": "stdout",
          "text": [
            "category = Czech / line = Janick\n",
            "category = Spanish / line = Santos\n",
            "category = Dutch / line = Buggenum\n",
            "category = German / line = Laurenz\n",
            "category = Chinese / line = Ying\n",
            "category = Portuguese / line = Esteves\n",
            "category = English / line = Wainwright\n",
            "category = German / line = Gerst\n",
            "category = Portuguese / line = Madeira\n",
            "category = Italian / line = Rossini\n"
          ]
        }
      ],
      "source": [
        "import random\n",
        "\n",
        "def randomChoice(l):\n",
        "    return l[random.randint(0, len(l) - 1)]\n",
        "\n",
        "def randomTrainingExample():\n",
        "    category = randomChoice(all_categories)\n",
        "    line = randomChoice(category_lines[category])\n",
        "    category_tensor = torch.tensor([all_categories.index(category)], dtype=torch.long)\n",
        "    line_tensor = lineToTensor(line)\n",
        "    return category, line, category_tensor, line_tensor\n",
        "\n",
        "for i in range(10):\n",
        "    category, line, category_tensor, line_tensor = randomTrainingExample()\n",
        "    print('category =', category, '/ line =', line)"
      ]
    },
    {
      "cell_type": "markdown",
      "metadata": {
        "id": "tHjBNVoFJf5R"
      },
      "source": [
        "Навчання мережі\n",
        "====================\n",
        "\n",
        "Тепер все, що потрібно для навчання цієї мережі, це показати їй кілька прикладів, дати їй можливість зробити припущення і сказати, якщо вона помиляється.\n",
        "\n",
        "### Різниця Softmax і LogSoftmax\n",
        "\n",
        "**Softmax** і **log softmax** — це функції, які перетворюють вихідні значення нейронної мережі (зазвичай звані логітами) у ймовірності або лог-імовірності.\n",
        "\n",
        "### 1. **Softmax**\n",
        "**Softmax** перетворює вихідні значення (логіти) на ймовірності, які сумуються до 1. Це часто використовується в задачах класифікації, коли модель має передбачити, до якого класу належить об'єкт.\n",
        "\n",
        "- **Формула**:\n",
        "  $$\n",
        "  \\text{softmax}(x_i) = \\frac{\\exp(x_i)}{\\sum_{j} \\exp(x_j)}\n",
        "  $$\n",
        "  Де $x_i$ — це логіти (сирі вихідні значення) для кожного класу.\n",
        "\n",
        "- **Пояснення**:\n",
        "  Softmax бере логіти (які можуть бути будь-якими реальними числами) та перетворює їх на ймовірності. Результат для кожного класу буде числом між 0 і 1, і сума всіх ймовірностей дорівнюватиме 1. Це корисно для інтерпретації передбачень моделі у задачах багатокласової класифікації.\n",
        "\n",
        "### 2. **Log Softmax**\n",
        "**Log softmax** — це логарифм функції softmax. Він безпосередньо обчислює лог-імовірності для кожного класу.\n",
        "\n",
        "- **Формула**:\n",
        "  $$\n",
        "  \\text{log softmax}(x_i) = \\log\\left(\\frac{\\exp(x_i)}{\\sum_{j} \\exp(x_j)}\\right) = x_i - \\log\\left(\\sum_{j} \\exp(x_j)\\right)\n",
        "  $$\n",
        "  \n",
        "  Тут видно, що log softmax об'єднує обчислення softmax і логарифма в один крок.\n",
        "\n",
        "- **Пояснення**:\n",
        "  Замість того, щоб спочатку обчислювати ймовірності, а потім брати логарифм (як це робить комбінація softmax і log), log softmax напряму обчислює логарифм від результатів softmax. Це дозволяє уникнути нестабільності та покращує точність обчислень.\n",
        "\n",
        "### Переваги **log softmax** порівняно з **softmax**:\n",
        "\n",
        "1. **Числова стабільність**:\n",
        "   Функція softmax передбачає обчислення експонент для логітів. Якщо логіти дуже великі або дуже малі, експоненти можуть призвести до числових переповнень або втрати точності. Log softmax уникає цього, оскільки вона обчислює логарифм одночасно з експонентами, що допомагає уникнути великих чисел.\n",
        "\n",
        "2. **Ефективність обчислень**:\n",
        "   Log softmax поєднує дві операції (softmax і логарифм) в одну. Це економить час і ресурси, оскільки вам не потрібно обчислювати softmax, а потім брати від нього логарифм, як це було б при окремому використанні.\n",
        "\n",
        "3. **Сумісність із функцією втрат**:\n",
        "   Log softmax добре підходить для використання разом із функцією втрат, наприклад, негативною логарифмічною правдоподібністю (NLLLoss). Це часто використовується для багатокласової класифікації, де ми працюємо з лог-імовірностями замість ймовірностей.\n",
        "\n",
        "\n",
        "### Приклад для пояснення:\n",
        "\n",
        "- **Softmax**: Якщо модель передбачає логіти для класів $ [2.0, 1.0, 0.1] $, softmax перетворить ці логіти на ймовірності, наприклад: $ [0.65, 0.24, 0.11] $.\n",
        "  \n",
        "- **Log softmax**: Замість цього, log softmax видасть значення $ [-0.43, -1.43, -2.33] $, що є логарифмами ймовірностей. Це дає таку ж інформацію, але у вигляді логарифмів, що зручніше для обчислень у задачах оптимізації.\n",
        "\n",
        "Для функції втрат `nn.NLLLoss` є доречною, оскільки останній шар RNN - це `nn.LogSoftmax`. Чому так:\n",
        "\n",
        "1. **LogSoftmax**:\n",
        "   - `nn.LogSoftmax` — це варіант функції softmax, яка перетворює логіти (сирі виходи нейронної мережі) на логарифми ймовірностей. Це потрібно, коли ми хочемо отримати розподіл ймовірностей по класах, але замість самих ймовірностей ми використовуємо їхні логарифми. Тобто, якщо звичайний softmax перетворює значення в ймовірності, сума яких дорівнює 1, то `LogSoftmax` дає логарифми цих ймовірностей.\n",
        "\n",
        "2. **NLLLoss (Negative Log Likelihood Loss)**:\n",
        "   - `nn.NLLLoss` розраховує втрати на основі негативного логарифму ймовірностей для правильного класу. Вона передбачає, що ви передаєте в неї логарифми ймовірностей, а не самі ймовірності. Тобто замість звичайних ймовірностей (як у softmax), вона працює з результатами `LogSoftmax`.\n",
        "\n",
        "3. **Взаємодія LogSoftmax і NLLLoss**:\n",
        "   - Оскільки `nn.NLLLoss` працює з логарифмами ймовірностей, попередній шар має саме такі значення генерувати. І тут приходить на допомогу `nn.LogSoftmax`, який саме і повертає логарифми ймовірностей.\n",
        "   - Якщо останній шар нейронної мережі — це `nn.LogSoftmax`, він генерує логарифми ймовірностей для кожного класу, і ці значення потім передаються у функцію втрат `nn.NLLLoss`, яка на основі них обчислює втрати."
      ]
    },
    {
      "cell_type": "markdown",
      "source": [
        "Основна різниця між **NLLLoss** та **CrossEntropyLoss** у нейронних мережах полягає в тому, чи потрібно явно застосовувати функцію **softmax**. Давайте розглянемо детальніше:\n",
        "\n",
        "### 1. **NLLLoss (Negative Log Likelihood Loss – Втрата негативної логарифмічної правдоподібності)**\n",
        "- **Формула**: Дано $ p $, що представляє розподіл ймовірностей (зазвичай отримується за допомогою softmax), і правильний клас $ y $, NLLLoss обчислює:\n",
        "  $$\n",
        "  \\text{NLLLoss} = -\\log(p(y))\n",
        "  $$\n",
        "  Де $ p(y) $ – це передбачувана ймовірність правильного класу.\n",
        "\n",
        "- **Коли використовувати**: Ви зазвичай використовуєте **NLLLoss**, коли модель видає лог-імовірності напряму, що є випадком, коли ви застосовуєте **log softmax** до виходу моделі. Ця функція вимагає, щоб вхідними даними були лог-імовірності, а не сирі оцінки або ймовірності.\n",
        "\n",
        "- **Потрібен softmax**: Вихід моделі вже має бути у вигляді логарифмованих ймовірностей (наприклад, за допомогою `torch.nn.LogSoftmax` у PyTorch). В іншому випадку функція втрат не працюватиме належним чином.\n",
        "\n",
        "### 2. **CrossEntropyLoss (Перехресна ентропія)**\n",
        "- **Формула**: Перехресна ентропія поєднує як softmax, так і негативну логарифмічну правдоподібність в один етап. Формула виглядає так:\n",
        "  $$\n",
        "  \\text{CrossEntropyLoss} = -\\log\\left(\\frac{\\exp(x_y)}{\\sum_{j} \\exp(x_j)}\\right)\n",
        "  $$\n",
        "  Де $ x_j $ представляє сирі оцінки (логіти) для кожного класу, а $ x_y $ – це оцінка для правильного класу.\n",
        "\n",
        "- **Коли використовувати**: Використовуйте **CrossEntropyLoss**, коли ваша модель видає сирі логіти (ненормалізовані оцінки). Ця функція автоматично застосовує softmax внутрішньо, а потім обчислює логарифмічну правдоподібність, тому вам не потрібно застосовувати softmax вручну.\n",
        "\n",
        "- **Потрібен softmax**: CrossEntropyLoss **включає** softmax внутрішньо, тому ви подаєте сирі оцінки (логіти) без додаткової обробки.\n",
        "\n",
        "### Підсумок різниць:\n",
        "- **NLLLoss** вимагає, щоб ви вручну застосували **log softmax** до виходу моделі. Вона працює безпосередньо з лог-імовірностями.\n",
        "- **CrossEntropyLoss** внутрішньо виконує softmax і NLL за один крок, тому ви можете подавати сирі логіти без попередньої обробки.\n",
        "\n",
        "\n",
        "Обидві функції втрат працюють подібно, але мають різні вимоги до вхідних даних. **CrossEntropyLoss** частіше використовується, оскільки спрощує процес, поєднуючи крок softmax внутрішньо.\n",
        "\n",
        "Приклад:\n",
        "\n"
      ],
      "metadata": {
        "id": "sybKVZ6AkzDi"
      }
    },
    {
      "cell_type": "code",
      "source": [
        "import torch\n",
        "import torch.nn as nn\n",
        "\n",
        "# Приклад для CrossEntropyLoss\n",
        "logits = torch.tensor([[1.0, 2.0, 3.0], [1.0, 2.0, 3.0]])  # сирі оцінки\n",
        "targets = torch.tensor([2, 1])  # індекси правильних класів\n",
        "\n",
        "cross_entropy_loss = nn.CrossEntropyLoss()\n",
        "loss_ce = cross_entropy_loss(logits, targets)\n",
        "\n",
        "# Приклад для NLLLoss\n",
        "log_probs = torch.nn.functional.log_softmax(logits, dim=1)  # застосування log softmax\n",
        "nll_loss = nn.NLLLoss()\n",
        "loss_nll = nll_loss(log_probs, targets)\n",
        "\n",
        "print(loss_ce, loss_nll)"
      ],
      "metadata": {
        "colab": {
          "base_uri": "https://localhost:8080/"
        },
        "id": "wouDuuQrkysw",
        "outputId": "b62a3336-962a-4e05-eada-6fe8982aeb50"
      },
      "execution_count": null,
      "outputs": [
        {
          "output_type": "stream",
          "name": "stdout",
          "text": [
            "tensor(0.9076) tensor(0.9076)\n"
          ]
        }
      ]
    },
    {
      "cell_type": "code",
      "execution_count": null,
      "metadata": {
        "id": "KQF8eLdAJf5R"
      },
      "outputs": [],
      "source": [
        "criterion = nn.NLLLoss()"
      ]
    },
    {
      "cell_type": "markdown",
      "metadata": {
        "id": "cJdxkZ_kJf5R"
      },
      "source": [
        "Кожен цикл навчання буде:\n",
        "\n",
        "-   Створювати вхідні та цільові тензори\n",
        "-   Створювати нульовий початковий прихований стан\n",
        "-   Читати кожну літеру і\n",
        "    -   Зберігати прихований стан для наступної літери\n",
        "-   Порівнювати фінальний вихід з ціллю\n",
        "-   Виконувати зворотне поширення (back-propagate)\n",
        "-   Повертати вихід та втрати (loss)"
      ]
    },
    {
      "cell_type": "code",
      "execution_count": null,
      "metadata": {
        "id": "bFRdLabUJf5S"
      },
      "outputs": [],
      "source": [
        "learning_rate = 0.005 # Якщо ви встановите його занадто високим, градієнти можуть почати вибухати. Якщо занизьке, то може не навчитися модель\n",
        "\n",
        "def train(rnn, category_tensor, line_tensor):\n",
        "    \"Опрацюванння одного екземпляра даних.\"\n",
        "    hidden = rnn.initHidden()\n",
        "\n",
        "    rnn.zero_grad()\n",
        "\n",
        "    for i in range(line_tensor.size()[0]):\n",
        "        output, hidden = rnn(line_tensor[i], hidden)\n",
        "\n",
        "    # Порівнюємо пеердбачену категорію, отриману після опрацювання всієї послідовності\n",
        "    # зі справжнім значенням\n",
        "    loss = criterion(output, category_tensor)\n",
        "    loss.backward()\n",
        "\n",
        "    # Додаємо градієнти параметрів до їхніх значень, помножені на швидкість навчання\n",
        "    for p in rnn.parameters():\n",
        "        p.data.add_(p.grad.data, alpha=-learning_rate)\n",
        "\n",
        "    return output, loss.item()"
      ]
    },
    {
      "cell_type": "markdown",
      "metadata": {
        "id": "3GA4S9r6Jf5S"
      },
      "source": [
        "Тепер нам просто потрібно запустити це з великою кількістю прикладів. Оскільки функція `train` повертає як вихід, так і втрати, ми можемо вивести прогнози та також відстежувати втрати для побудови графіка. Оскільки у нас є тисячі прикладів, ми виводимо лише кожні `print_every` прикладів і беремо середнє значення втрат."
      ]
    },
    {
      "cell_type": "code",
      "execution_count": null,
      "metadata": {
        "colab": {
          "base_uri": "https://localhost:8080/"
        },
        "id": "o6WWN8AUJf5S",
        "outputId": "67a7c268-4f1e-45a0-9ccc-88dfac95d6db"
      },
      "outputs": [
        {
          "output_type": "stream",
          "name": "stdout",
          "text": [
            "5000 5% (0m 9s) 2.1278 Ansaldi / Japanese ✗ (Italian)\n",
            "10000 10% (0m 18s) 1.5802 Flann / Irish ✓\n",
            "15000 15% (0m 28s) 2.0691 D'cruz / Spanish ✗ (Portuguese)\n",
            "20000 20% (0m 38s) 0.7944 Bursinos / Greek ✓\n",
            "25000 25% (0m 48s) 0.5505 Chu / Vietnamese ✓\n",
            "30000 30% (0m 56s) 2.9094 Keay / Arabic ✗ (English)\n",
            "35000 35% (1m 6s) 2.0690 Gonzales / Greek ✗ (Spanish)\n",
            "40000 40% (1m 15s) 0.7444 Buhr / German ✓\n",
            "45000 45% (1m 25s) 1.1374 Zajicek / Polish ✗ (Czech)\n",
            "50000 50% (1m 34s) 0.3577 Tong / Vietnamese ✓\n",
            "55000 55% (1m 43s) 0.0310 Kowalski / Polish ✓\n",
            "60000 60% (1m 52s) 0.2751 Savatier / French ✓\n",
            "65000 65% (2m 1s) 0.6418 Jeon / Korean ✓\n",
            "70000 70% (2m 10s) 0.3726 Lindsay / Scottish ✓\n",
            "75000 75% (2m 20s) 1.1223 Sandoval / Spanish ✓\n",
            "80000 80% (2m 29s) 0.3418 Eoin / Irish ✓\n",
            "85000 85% (2m 37s) 1.0167 D'ambrosio / Italian ✓\n",
            "90000 90% (2m 47s) 0.0159 Kreskas / Greek ✓\n",
            "95000 95% (2m 56s) 1.4348 Baumgartner / Spanish ✗ (German)\n",
            "100000 100% (3m 5s) 2.0137 Seow / Korean ✗ (Chinese)\n"
          ]
        }
      ],
      "source": [
        "import time\n",
        "import math\n",
        "\n",
        "n_iters = 100000\n",
        "print_every = 5000\n",
        "plot_every = 1000\n",
        "\n",
        "\n",
        "# Збираємо лоси для графіку\n",
        "current_loss = 0\n",
        "all_losses = []\n",
        "\n",
        "def timeSince(since):\n",
        "    now = time.time()\n",
        "    s = now - since\n",
        "    m = math.floor(s / 60)\n",
        "    s -= m * 60\n",
        "    return '%dm %ds' % (m, s)\n",
        "\n",
        "start = time.time()\n",
        "\n",
        "for iter in range(1, n_iters + 1):\n",
        "    category, line, category_tensor, line_tensor = randomTrainingExample()\n",
        "    output, loss = train(rnn, category_tensor, line_tensor)\n",
        "    current_loss += loss\n",
        "\n",
        "    # Друкуємо номер ітерації ``iter``, loss, імʼя і передбачення мови\n",
        "    if iter % print_every == 0:\n",
        "        guess, guess_i = categoryFromOutput(output)\n",
        "        correct = '✓' if guess == category else '✗ (%s)' % category\n",
        "        print('%d %d%% (%s) %.4f %s / %s %s' % (iter, iter / n_iters * 100, timeSince(start), loss, line, guess, correct))\n",
        "\n",
        "    # Додаємо поточний середній лосс до списку відстеження лосів\n",
        "    if iter % plot_every == 0:\n",
        "        all_losses.append(current_loss / plot_every)\n",
        "        current_loss = 0"
      ]
    },
    {
      "cell_type": "markdown",
      "metadata": {
        "id": "pj9w766mJf5S"
      },
      "source": [
        "Графік результатів\n",
        "====================\n",
        "\n",
        "Графік історичних втрат з `all_losses` показує, як мережа\n",
        "навчається:"
      ]
    },
    {
      "cell_type": "code",
      "execution_count": null,
      "metadata": {
        "colab": {
          "base_uri": "https://localhost:8080/",
          "height": 447
        },
        "id": "iKEwVlzOJf5S",
        "outputId": "94a843d8-db21-427f-e5d9-30c0fd9fa1a3"
      },
      "outputs": [
        {
          "output_type": "execute_result",
          "data": {
            "text/plain": [
              "[<matplotlib.lines.Line2D at 0x7afb26cb1180>]"
            ]
          },
          "metadata": {},
          "execution_count": 36
        },
        {
          "output_type": "display_data",
          "data": {
            "text/plain": [
              "<Figure size 640x480 with 1 Axes>"
            ],
            "image/png": "[encoded data removed]"
          },
          "metadata": {}
        }
      ],
      "source": [
        "import matplotlib.pyplot as plt\n",
        "import matplotlib.ticker as ticker\n",
        "\n",
        "plt.figure()\n",
        "plt.plot(all_losses)"
      ]
    },
    {
      "cell_type": "markdown",
      "metadata": {
        "id": "pcKXztq4Jf5S"
      },
      "source": [
        "Оцінка Результатів\n",
        "======================\n",
        "\n",
        "Щоб побачити, як добре мережа працює з різними категоріями, ми створимо матрицю плутанини (confusion matrix), яка вказує для кожної фактичної мови (рядки), яку мову мережа вгадує (стовпці). Для розрахунку матриці плутанини кілька зразків проходять через мережу з використанням `evaluate()`, що є тим самим, що й `train()`, за винятком зворотного поширення (backprop)."
      ]
    },
    {
      "cell_type": "code",
      "execution_count": null,
      "metadata": {
        "colab": {
          "base_uri": "https://localhost:8080/",
          "height": 575
        },
        "id": "kZmjXPifJf5T",
        "outputId": "c169e11f-80b8-4f3a-fef9-c81a6d1852d9"
      },
      "outputs": [
        {
          "output_type": "stream",
          "name": "stderr",
          "text": [
            "<ipython-input-37-0dded689a7e4>:34: UserWarning: FixedFormatter should only be used together with FixedLocator\n",
            "  ax.set_xticklabels([''] + all_categories, rotation=90)\n",
            "<ipython-input-37-0dded689a7e4>:35: UserWarning: FixedFormatter should only be used together with FixedLocator\n",
            "  ax.set_yticklabels([''] + all_categories)\n"
          ]
        },
        {
          "output_type": "display_data",
          "data": {
            "text/plain": [
              "<Figure size 640x480 with 2 Axes>"
            ],
            "image/png": "[encoded data removed]"
          },
          "metadata": {}
        }
      ],
      "source": [
        "# Просто повертає результат для переданої послідовності\n",
        "def evaluate(line_tensor, rnn):\n",
        "    hidden = rnn.initHidden()\n",
        "\n",
        "    for i in range(line_tensor.size()[0]):\n",
        "        output, hidden = rnn(line_tensor[i], hidden)\n",
        "\n",
        "    return output\n",
        "\n",
        "def plot_confusion(rnn):\n",
        "  # Відстеження правильних здогадок у матриці плутанини\n",
        "  confusion = torch.zeros(n_categories, n_categories)\n",
        "  n_confusion = 10000\n",
        "\n",
        "  # Проходження через безліч прикладів і запис правильних здогадок\n",
        "  for i in range(n_confusion):\n",
        "      category, line, category_tensor, line_tensor = randomTrainingExample()\n",
        "      output = evaluate(line_tensor, rnn)\n",
        "      guess, guess_i = categoryFromOutput(output)\n",
        "      category_i = all_categories.index(category)\n",
        "      confusion[category_i][guess_i] += 1\n",
        "\n",
        "  # Нормалізація шляхом ділення кожного рядка на його суму\n",
        "  for i in range(n_categories):\n",
        "      confusion[i] = confusion[i] / confusion[i].sum()\n",
        "\n",
        "  # Налаштування графіка\n",
        "  fig = plt.figure()\n",
        "  ax = fig.add_subplot(111)\n",
        "  cax = ax.matshow(confusion.numpy())\n",
        "  fig.colorbar(cax)\n",
        "\n",
        "  # Налаштування осей\n",
        "  ax.set_xticklabels([''] + all_categories, rotation=90)\n",
        "  ax.set_yticklabels([''] + all_categories)\n",
        "\n",
        "  # Встановлення підпису на кожній мітці\n",
        "  ax.xaxis.set_major_locator(ticker.MultipleLocator(1))\n",
        "  ax.yaxis.set_major_locator(ticker.MultipleLocator(1))\n",
        "\n",
        "  # sphinx_gallery_thumbnail_number = 2\n",
        "  plt.show();\n",
        "\n",
        "plot_confusion(rnn)"
      ]
    },
    {
      "cell_type": "markdown",
      "metadata": {
        "id": "0ezdazoVJf5T"
      },
      "source": [
        "Ви можете виділити яскраві точки поза основною віссю, які показують, які мови вона вгадує неправильно, наприклад, китайську для корейської та іспанську для італійської. Здається, вона дуже добре справляється з грецькою, а дуже погано з англійською (можливо, через перетин з іншими мовами)."
      ]
    },
    {
      "cell_type": "markdown",
      "metadata": {
        "id": "TDChcQ1DJf5T"
      },
      "source": [
        "Запуск на основі введення користувача\n",
        "====================="
      ]
    },
    {
      "cell_type": "code",
      "execution_count": null,
      "metadata": {
        "colab": {
          "base_uri": "https://localhost:8080/"
        },
        "id": "PSrtOvs5Jf5T",
        "outputId": "41169f50-57ab-4035-a70b-7ce1d5e40ea8"
      },
      "outputs": [
        {
          "output_type": "stream",
          "name": "stdout",
          "text": [
            "\n",
            "> Pylieva\n",
            "(-0.52) Czech\n",
            "(-0.98) Spanish\n",
            "(-3.91) Italian\n",
            "\n",
            "> Jackson\n",
            "(-0.22) Scottish\n",
            "(-1.85) English\n",
            "(-3.93) Greek\n",
            "\n",
            "> Satoshi\n",
            "(-0.17) Japanese\n",
            "(-2.21) Italian\n",
            "(-3.44) Arabic\n",
            "\n",
            "> Trump\n",
            "(-0.84) Vietnamese\n",
            "(-1.44) German\n",
            "(-2.09) English\n"
          ]
        }
      ],
      "source": [
        "def predict(input_line, n_predictions=3):\n",
        "    print('\\n> %s' % input_line)\n",
        "    with torch.no_grad():\n",
        "        output = evaluate(lineToTensor(input_line), rnn)\n",
        "\n",
        "        # Отрмуємо топ N категорій\n",
        "        topv, topi = output.topk(n_predictions, 1, True)\n",
        "        predictions = []\n",
        "\n",
        "        for i in range(n_predictions):\n",
        "            value = topv[0][i].item()\n",
        "            category_index = topi[0][i].item()\n",
        "            print('(%.2f) %s' % (value, all_categories[category_index]))\n",
        "            predictions.append([value, all_categories[category_index]])\n",
        "\n",
        "predict('Pylieva')\n",
        "predict('Jackson')\n",
        "predict('Satoshi')\n",
        "predict('Trump')"
      ]
    },
    {
      "cell_type": "code",
      "source": [
        "predict('London')"
      ],
      "metadata": {
        "colab": {
          "base_uri": "https://localhost:8080/"
        },
        "id": "t7nM_quTp1Qs",
        "outputId": "6e2ecdd8-e4f2-4bdb-9516-efdcbd876186"
      },
      "execution_count": null,
      "outputs": [
        {
          "output_type": "stream",
          "name": "stdout",
          "text": [
            "\n",
            "> London\n",
            "(-0.80) English\n",
            "(-1.65) French\n",
            "(-2.18) German\n"
          ]
        }
      ]
    },
    {
      "cell_type": "markdown",
      "metadata": {
        "id": "-jPZvLmyJf5U"
      },
      "source": [
        "Ми можемо побачити, як цей скрипт можна розіділити на декілька Python файлів [в репозиторії Practical PyTorch](https://github.com/spro/practical-pytorch/tree/master/char-rnn-classification):\n",
        "\n",
        "-   `data.py` (завантажує файли)\n",
        "-   `model.py` (визначає RNN)\n",
        "-   `train.py` (запускає навчання)\n",
        "-   `predict.py` (запускає `predict()` з аргументами командного рядка)\n",
        "-   `server.py` (надає прогноз як JSON API з `bottle.py`)\n",
        "\n",
        "Запустіть `train.py`, щоб навчити та зберегти мережу.\n",
        "\n",
        "Запустіть `predict.py` з ім'ям, щоб переглянути прогнози:\n",
        "\n",
        "``` {.sourceCode .sh}\n",
        "$ python predict.py Hazaki\n",
        "(-0.19) Polish\n",
        "(-2.16) Japanese\n",
        "(-3.56) Czech\n",
        "```\n",
        "\n",
        "Запустіть `server.py` і відвідайте <http://localhost:5533/Yourname>, щоб отримати JSON вихід прогнозів.\n",
        "\n",
        "Переглянути як в подібному стилі можна для цієї задачі написати рішення з використанням LSTM і наскільки це поліпшить сиутацію можна [тут](https://github.com/yk287/Name_Classification)."
      ]
    },
    {
      "cell_type": "markdown",
      "metadata": {
        "id": "db3dQDj7Jf5V"
      },
      "source": [
        "Що робити далі?\n",
        "=========\n",
        "\n",
        "-   Можна той самий підхід використовувати з іншим набором даних лінія -\\> категорія, наприклад:\n",
        "    -   Будь-яке слово -\\> мова\n",
        "    -   Ім'я -\\> стать\n",
        "    -   Ім'я персонажа -\\> письменник\n",
        "    -   Назва сторінки -\\> блог або сабреддіт\n",
        "-   Можна спробувати отримати кращі результати з більшою та/або краще сформованою мережею\n",
        "    -   Додайте більше лінійних шарів\n",
        "    -   Спробуйте шари `nn.LSTM` та `nn.GRU`\n",
        "    -   Поєднайте кілька з цих RNN як мережу вищого рівня"
      ]
    }
  ],
  "metadata": {
    "kernelspec": {
      "display_name": "Python 3",
      "name": "python3"
    },
    "language_info": {
      "codemirror_mode": {
        "name": "ipython",
        "version": 3
      },
      "file_extension": ".py",
      "mimetype": "text/x-python",
      "name": "python",
      "nbconvert_exporter": "python",
      "pygments_lexer": "ipython3",
      "version": "3.10.14"
    },
    "colab": {
      "provenance": []
    }
  },
  "nbformat": 4,
  "nbformat_minor": 0
}