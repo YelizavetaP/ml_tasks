{
  "cells": [
    {
      "cell_type": "markdown",
      "source": [
        "\n",
        "# Векторні представлення слів: кодування лексичної семантики\n",
        "\n",
        "## 🔍 З чого все починається?\n",
        "\n",
        "У NLP (обробці природної мови) наші основні ознаки — це... **слова!**  \n",
        "Але як навчити комп'ютер розуміти значення слова? 🤔\n",
        "\n",
        "Можна розглядати слово просто як рядок (ASCII), але це лише \"як воно виглядає\", а **не те, що воно означає** - компʼютер з рядкового представлення цього не розуміє! І як, скажімо, об'єднати значення двох слів або порівняти їх?\n",
        "\n",
        "\n",
        "\n",
        "## 🧱 One-hot encoding: базовий підхід\n",
        "\n",
        "Перший інтуїтивний підхід — **one-hot encoding**.\n",
        "\n",
        "Уявіть, що у нас є словник $V$ зі 10000 слів. Тоді кожне слово кодується вектором з 10000 елементів:\n",
        "\n",
        "$$\n",
        "\\overbrace{[ 0, 0, \\dots, 1, \\dots, 0 ]}^{|V| \\text{ елементів}}\n",
        "$$\n",
        "\n",
        "Одиничка стоїть на місці, яке відповідає слову $w$.\n",
        "\n",
        "**Але…**\n",
        "\n",
        "- ❌ **Немає жодного зв'язку між словами.** Всі вони \"унікальні сніжинки\".\n",
        "- ❌ **Дуже розріджене і неефективне представлення.**\n",
        "\n",
        "\n",
        "\n",
        "## 🧠 Навіщо нам семантична схожість між словами?\n",
        "\n",
        "Уявімо, що ми навчаємо мовну модель. І в нашому навчальному корпусі були такі речення:\n",
        "\n",
        "- _Математик читає наукову статтю._\n",
        "- _Фізик читає наукову статтю._\n",
        "- _Математик готує доповідь на конференцію._\n",
        "\n",
        "А тепер у нас з’являється нове речення, яке модель раніше **ніколи не бачила**:\n",
        "\n",
        "- _Фізик готує доповідь на конференцію._\n",
        "\n",
        "Модель, можливо, частково зможе впоратись із ним.  \n",
        "Але хіба не було б краще, якби вона могла використати логіку:\n",
        "\n",
        "1. Ми вже бачили, що **математик** і **фізик** з’являлися в **тому самому контексті** — обидва читають наукові статті.\n",
        "2. Ми вже бачили, як **математик** “готував доповідь на конференцію”.\n",
        "3. Значить, **фізик** цілком логічно підходить до цієї ж дії!\n",
        "\n",
        "📌 Це — **семантична схожість**: комп’ютер “здогадується”, що ці два слова мають схожі властивості, бо з’являються в подібних контекстах.\n",
        "\n",
        "---\n",
        "\n",
        "Це не про те, що слова *пишуться схоже* чи мають *однакові корені*.  \n",
        "Це про те, **як вони поводяться в мові** — в яких ситуаціях з’являються.\n",
        "\n",
        "> Так ми боремось із **розрідженістю мовних даних** — навчаємось робити висновки про нове, спираючись на вже відоме.\n",
        "\n",
        "І все це базується на [**гіпотезі розподільної семантики**](https://en.wikipedia.org/wiki/Distributional_semantics):\n",
        "> _Слова, які вживаються в подібних контекстах — мають подібне значення._\n",
        "\n",
        "![](https://upload.wikimedia.org/wikipedia/commons/c/ce/Distributional_semantics.png)\n",
        "\n",
        "На картинці зображено як слова розміщуються у семантичному просторі на основі контекстів, у яких вони вживаються.\n",
        "\n",
        "Семантичний простір — це математично векторний простір, де близькі за значенням слова мають схожі координати.\n",
        "\n",
        "## 🧠 Ідея: описати слова через семантичні атрибути\n",
        "\n",
        "Уявімо, що кожне слово має набір деяких семантичних ознак (ознак за сенсом цього явища чи обʼєкту):\n",
        "\n",
        "- \"може бігати\" 🏃\n",
        "- \"працює в офісі\" ☕\n",
        "- \"займається наукою\" 🧪\n",
        "\n",
        "І кожне слово отримає **вектор** в просторі цих ознак:\n",
        "\n",
        "\n",
        "$$q_\\text{математик} = \\left[ \\overbrace{2.3}^\\text{може бігати},\n",
        "\\overbrace{9.4}^\\text{працює в офісі}, \\overbrace{-5.5}^\\text{спеціалізувався на фізиці}, \\dots \\right]$$\n",
        "\n",
        "$$q_\\text{фізик} = \\left[ \\overbrace{2.5}^\\text{може бігати},\n",
        "\\overbrace{9.1}^\\text{працює в офісі}, \\overbrace{6.4}^\\text{спеціалізувався на фізиці}, \\dots \\right]$$\n",
        "\n",
        "\n",
        "\n",
        "## 📏 Як вимірюємо схожість?\n",
        "\n",
        "Спочатку можна просто взяти скалярний добуток:\n",
        "\n",
        "$$\n",
        "\\text{Схожість}(\\text{фізик}, \\text{математик}) = q_\\text{фізик} \\cdot q_\\text{математик}\n",
        "$$\n",
        "\n",
        "Але частіше використовують **косинусальну схожість**:\n",
        "\n",
        "$$\n",
        "\\text{Схожість} = \\frac{q_\\text{фізик} \\cdot q_\\text{математик}}{\\|q_\\text{фізик}\\| \\cdot \\|q_\\text{математик}\\|} = \\cos(\\phi)\n",
        "$$\n",
        "\n",
        "де $\\phi$ — кут між векторами.  \n",
        "- Кут ≈ 0 → косинус ≈ 1 → **дуже схожі** ✅  \n",
        "- Кут ≈ 180° → косинус ≈ -1 → **протилежні** ❌\n",
        "\n",
        "\n",
        "Ще приклади візуально:\n",
        "![](https://towardsdatascience.com/wp-content/uploads/2022/12/0-Jd2-SADPkMgIk4r.png)\n",
        "\n",
        "Часто наводять наступні семантичні приклади, коли `king` - `man` + `woman` = `king`.  Та інші:\n",
        "\n",
        "![](https://drive.google.com/uc?id=1XXSleWjERwjJUOSUAPzRIhxuE7g51pU1)\n",
        "\n",
        "## 🔄 Чим відрізняються такі представлення від one-hot?\n",
        "\n",
        "One-hot encoding:\n",
        "- дуже довгі і розріджені вектори (розмірність 10-30k елемнетів)\n",
        "- **не кодують жодної інформації про значення**\n",
        "- косинусальна схожість між будь-якими двома різними словами = 0\n",
        "\n",
        "Embeddings (векторні уявлення):\n",
        "- **щільні** вектори (розмірність зазвичай 100-300, мають значення за кожним виміром, а не лише в 1 колонці)\n",
        "- **відображають семантичну близькість**\n",
        "- можуть бути побудовані в результаті тренування нейромережі 🧠\n",
        "\n",
        "\n",
        "## 🤖 Як отримати такі вектори?\n",
        "\n",
        "Ми не хочемо вручну придумувати, що означає кожна координата.\n",
        "\n",
        "💡 Рішення: **дати моделі самій навчитися**, які атрибути важливі для представлення слів!\n",
        "\n",
        "> Векторні представлення стають **параметрами моделі** і змінюються під час навчання.\n",
        "\n",
        "Вони можуть бути неінтерпретованими — тобто ми не знаємо, що означає “n-ий вимір”, але ми знаємо:  \n",
        "_фізик і математик мають подібні значення в ньому_ — отже, вони **семантично близькі**.\n",
        "\n",
        "\n",
        "## ✅ Висновок\n",
        "\n",
        "**Векторні представлення слів (embeddings)**:\n",
        "- кодують _значення слова_, а не лише його ідентифікатор\n",
        "- допомагають **узагальнювати**, навіть якщо слово не було в конкретному контексті раніше\n",
        "- є основою сучасного NLP 🔥\n",
        "\n",
        "\n",
        "## Підходи до побудови Word Embeddings\n",
        "\n",
        "Розглянемо популярний найпростіший і поширений підхід до побудови Word Embeddings - word2vec.\n",
        "\n",
        "word2vec не є єдиним алгоритмом, а скоріше сімейством архітектур моделей, які можуть бути використані для навчання векторних представлень слів з великих наборів даних. Векторні представлення, отримані за допомогою word2vec, виявилися успішними в різноманітних завданнях обробки природної мови.\n",
        "\n",
        "Наукові пейпери з цієї теми:\n",
        "-  [Efficient Estimation of Word Representations in Vector Space](https://arxiv.org/pdf/1301.3781.pdf)\n",
        "- [Distributed Representations of Words and Phrases and their Compositionality](https://papers.nips.cc/paper/5021-distributed-representations-of-words-and-phrases-and-their-compositionality.pdf)\n",
        "\n",
        "Ці статті запропонували два методи для навчання представлень слів:\n",
        "\n",
        "*   **Continuous bag-of-words model**: передбачає середнє слово на основі навколишніх контекстних слів. Контекст складається з кількох слів перед і після поточного (середнього) слова. Ця архітектура називається моделлю \"мішка слів\", оскільки порядок слів у контексті не має значення.\n",
        "\n",
        "![](https://drive.google.com/uc?id=19D-Q_HP4UrQO8XZQqivD1YLvLqYFEaTq)\n",
        "![](https://drive.google.com/uc?id=1UT5-S4qYcAEUWx8NNsTxJu24SxFVGaL8)\n",
        "\n",
        "*   **Continuous skip-gram model**: передбачає слова в певному діапазоні перед і після поточного слова в тому ж реченні. Приклад роботи цього методу наведено нижче.\n",
        "![](https://drive.google.com/uc?id=1BqE9895r9e0XYfVb75f2LX67bLs867Qc)\n",
        "![](https://drive.google.com/uc?id=1G1Zzud9IJgZDZ9YoWTURf3XjkJTbrGRI)\n",
        "\n"
      ],
      "metadata": {
        "id": "UuIV9trmm86n"
      }
    },
    {
      "cell_type": "code",
      "execution_count": null,
      "metadata": {
        "jupyter": {
          "outputs_hidden": false
        },
        "id": "17PZT5wWefqi",
        "outputId": "fd2ababe-60d3-457f-c9d1-80ea8a6c219c",
        "colab": {
          "base_uri": "https://localhost:8080/"
        }
      },
      "outputs": [
        {
          "output_type": "execute_result",
          "data": {
            "text/plain": [
              "<torch._C.Generator at 0x788533f05d10>"
            ]
          },
          "metadata": {},
          "execution_count": 1
        }
      ],
      "source": [
        "import matplotlib.pyplot as plt\n",
        "import torch\n",
        "import torch.nn as nn\n",
        "import torch.nn.functional as F\n",
        "import torch.optim as optim\n",
        "\n",
        "torch.manual_seed(1)  # Встановлення початкового значення для генератора випадкових чисел"
      ]
    },
    {
      "cell_type": "markdown",
      "source": [
        "Як кодуються дані:\n",
        "![](https://towardsdatascience.com/wp-content/uploads/2021/09/1-6th97Wit9XDnseZUNSuCg-1536x434.png)\n",
        "\n",
        "Ось так ми будемо визначати ембединги. Зарвз вони ініційовані випадковим чином, але ми будемо їх вивчати."
      ],
      "metadata": {
        "id": "XsnuoXnkxXgl"
      }
    },
    {
      "cell_type": "code",
      "execution_count": null,
      "metadata": {
        "jupyter": {
          "outputs_hidden": false
        },
        "id": "3CrzAdUcefqj",
        "outputId": "7a6e6a2c-24d4-4097-fb2d-6523c627d5c4",
        "colab": {
          "base_uri": "https://localhost:8080/"
        }
      },
      "outputs": [
        {
          "output_type": "stream",
          "name": "stdout",
          "text": [
            "tensor([[ 0.6614,  0.2669,  0.0617,  0.6213, -0.4519]],\n",
            "       grad_fn=<EmbeddingBackward0>)\n"
          ]
        }
      ],
      "source": [
        "word_to_ix = {\"hello\": 0, \"world\": 1}\n",
        "embeds = nn.Embedding(2, 5)  # 2 слова у словнику, 5-вимірні векторні представлення\n",
        "lookup_tensor = torch.tensor([word_to_ix[\"hello\"]], dtype=torch.long)\n",
        "hello_embed = embeds(lookup_tensor)\n",
        "print(hello_embed)"
      ]
    },
    {
      "cell_type": "markdown",
      "metadata": {
        "id": "5CR3dPWPefqj"
      },
      "source": [
        "## Приклад імплементації CBOW-like моделі"
      ]
    },
    {
      "cell_type": "markdown",
      "source": [
        "Тут представлений концепт моделі. Репрезентації тут не вийшли якісними (слова, які мали б бути подібними по кос. відстані - такими не є). Робоча гіпотеза чому: бо тут настільки жорсткий оверфіт моделі, що їй не обовʼязково будувати подібні вектори для `cat` та `dog` наприклад :)\n",
        "\n",
        "Тим не менш цей приклад показує як концептуально тренується подібна модель. Можете експериментувати з різними гіперпараметрами - подивитись, що буде :)\n",
        "\n",
        "**Порівняно з відео під час лекції тут змінено `EMBEDDING_DIM` і дещо спрощена архітектура моделі для тестування (і навіть спрощена архітектура оверфітиться на цьому маленькому наборі даних і не вчить якісні репрезентації).**\n",
        "\n",
        "Висновок: якщо тренуєте ембединги, треба все ж достатньо великий набір даних."
      ],
      "metadata": {
        "id": "SvQxrN49lPmN"
      }
    },
    {
      "cell_type": "code",
      "source": [
        "EMBEDDING_DIM = 5"
      ],
      "metadata": {
        "id": "3DmMgglnyYk3"
      },
      "execution_count": null,
      "outputs": []
    },
    {
      "cell_type": "code",
      "source": [
        "corpus = [\n",
        "    \"the cat sat on the mat\",\n",
        "    \"the cat sat on the rug\",\n",
        "    \"the dog sat on the rug\",\n",
        "    \"the cat played with the yarn\",\n",
        "    \"the dog barked at the cat\",\n",
        "    \"the cat chased the mouse\",\n",
        "    \"the dog chased the ball\"\n",
        "]"
      ],
      "metadata": {
        "id": "wtFDm85PzGkJ"
      },
      "execution_count": null,
      "outputs": []
    },
    {
      "cell_type": "code",
      "source": [
        "train_ds = []\n",
        "\n",
        "CONTEXT_SIZE = 2  # по 2 слова ліворуч і праворуч\n",
        "\n",
        "for sentence in corpus:\n",
        "    words = sentence.split()\n",
        "    for i in range(len(words)):\n",
        "        center = words[i]\n",
        "        context = []\n",
        "\n",
        "        # проходимо по контекстному вікну\n",
        "        for j in range(-CONTEXT_SIZE, CONTEXT_SIZE + 1):\n",
        "            if j == 0:\n",
        "                continue  # пропускаємо центр\n",
        "            if 0 <= i + j < len(words):\n",
        "                context.append(words[i + j])\n",
        "\n",
        "        if context:\n",
        "            train_ds.append((context, center))\n",
        "\n",
        "# 📌 Приклад виводу\n",
        "for pair in train_ds[:5]:\n",
        "    print(pair)\n"
      ],
      "metadata": {
        "colab": {
          "base_uri": "https://localhost:8080/"
        },
        "id": "BCWDZhtk6iF9",
        "outputId": "4d01eb8c-8872-467e-a19f-60bd8701cf1e"
      },
      "execution_count": null,
      "outputs": [
        {
          "output_type": "stream",
          "name": "stdout",
          "text": [
            "(['cat', 'sat'], 'the')\n",
            "(['the', 'sat', 'on'], 'cat')\n",
            "(['the', 'cat', 'on', 'the'], 'sat')\n",
            "(['cat', 'sat', 'the', 'mat'], 'on')\n",
            "(['sat', 'on', 'mat'], 'the')\n"
          ]
        }
      ]
    },
    {
      "cell_type": "code",
      "source": [
        "# лишаємо лише набори, де є контекст з 4х слів\n",
        "train_ds = [pair for pair in train_ds if len(pair[0]) == CONTEXT_SIZE * 2]"
      ],
      "metadata": {
        "id": "CGHZQlVxC8Gq"
      },
      "execution_count": null,
      "outputs": []
    },
    {
      "cell_type": "code",
      "source": [
        "train_ds[:3]"
      ],
      "metadata": {
        "colab": {
          "base_uri": "https://localhost:8080/"
        },
        "id": "iIujMfFPDDk7",
        "outputId": "018b6e0a-e020-457c-c775-3e4f0049c14b"
      },
      "execution_count": null,
      "outputs": [
        {
          "output_type": "execute_result",
          "data": {
            "text/plain": [
              "[(['the', 'cat', 'on', 'the'], 'sat'),\n",
              " (['cat', 'sat', 'the', 'mat'], 'on'),\n",
              " (['the', 'cat', 'on', 'the'], 'sat')]"
            ]
          },
          "metadata": {},
          "execution_count": 209
        }
      ]
    },
    {
      "cell_type": "code",
      "source": [
        "all_words = []\n",
        "for sentence in corpus:\n",
        "    all_words.extend(sentence.split())\n",
        "\n",
        "vocab = list(set(all_words))\n",
        "word_to_ix = {word: i for i, word in enumerate(vocab)}"
      ],
      "metadata": {
        "id": "CpqKwSkGyDRc"
      },
      "execution_count": null,
      "outputs": []
    },
    {
      "cell_type": "code",
      "source": [
        "word_to_ix"
      ],
      "metadata": {
        "colab": {
          "base_uri": "https://localhost:8080/"
        },
        "id": "cPuc-K6tTkpv",
        "outputId": "afb98778-5fc0-4e46-abf7-7839828d7894"
      },
      "execution_count": null,
      "outputs": [
        {
          "output_type": "execute_result",
          "data": {
            "text/plain": [
              "{'mouse': 0,\n",
              " 'chased': 1,\n",
              " 'barked': 2,\n",
              " 'played': 3,\n",
              " 'sat': 4,\n",
              " 'with': 5,\n",
              " 'mat': 6,\n",
              " 'at': 7,\n",
              " 'on': 8,\n",
              " 'cat': 9,\n",
              " 'rug': 10,\n",
              " 'ball': 11,\n",
              " 'yarn': 12,\n",
              " 'dog': 13,\n",
              " 'the': 14}"
            ]
          },
          "metadata": {},
          "execution_count": 211
        }
      ]
    },
    {
      "cell_type": "code",
      "source": [
        "class CBOWModel(nn.Module):\n",
        "\n",
        "    def __init__(self, vocab_size, embedding_dim, context_size):\n",
        "        super(CBOWModel, self).__init__()\n",
        "        self.embeddings = nn.Embedding(vocab_size, embedding_dim)\n",
        "        self.linear = nn.Linear(context_size * 2 * embedding_dim, vocab_size)\n",
        "\n",
        "    def forward(self, inputs):\n",
        "        embeds = self.embeddings(inputs).view((1, -1))\n",
        "        out = self.linear(embeds)\n",
        "        log_probs = F.log_softmax(out, dim=1)\n",
        "        return log_probs"
      ],
      "metadata": {
        "id": "2Xzz6P6sx12T"
      },
      "execution_count": null,
      "outputs": []
    },
    {
      "cell_type": "code",
      "source": [
        "N_EPOCHS = 200\n",
        "losses = []\n",
        "loss_function = nn.NLLLoss()\n",
        "model = CBOWModel(len(vocab), EMBEDDING_DIM, CONTEXT_SIZE)\n",
        "optimizer = optim.Adam(model.parameters(), lr=0.05)\n",
        "\n",
        "for epoch in range(N_EPOCHS):\n",
        "    if epoch % 100 == 0 and epoch!=0:\n",
        "        print(f\"Epoch {epoch}/{N_EPOCHS}| Loss {losses[-1]}\")\n",
        "    total_loss = 0\n",
        "    for context, target in train_ds:\n",
        "        # Крок 1. Підготуйте вхідні дані для передачі в модель (тобто перетворіть слова\n",
        "        # у цілі індекси та обгорніть їх у тензори)\n",
        "        context_idxs = torch.tensor([word_to_ix[w] for w in context], dtype=torch.long)\n",
        "\n",
        "        # Крок 2. Пам'ятайте, що torch *накопичує* градієнти. Перед передачею\n",
        "        # нового екземпляра потрібно обнулити градієнти від старого\n",
        "        # екземпляра\n",
        "        model.zero_grad()\n",
        "\n",
        "        # Крок 3. Виконайте прямий прохід, отримуючи логарифмічні ймовірності наступних\n",
        "        # слів\n",
        "        log_probs = model(context_idxs)\n",
        "\n",
        "        # Крок 4. Обчисліть функцію втрат. (Знову ж таки, Torch хоче, щоб цільове\n",
        "        # слово було обгорнуте в тензор)\n",
        "        loss = loss_function(log_probs, torch.tensor([word_to_ix[target]]))\n",
        "\n",
        "        # Крок 5. Виконайте зворотний прохід і оновіть градієнт\n",
        "        loss.backward()\n",
        "        optimizer.step()\n",
        "\n",
        "        # Отримайте число Python з 1-елементного тензора, викликавши tensor.item()\n",
        "        total_loss += loss.item()\n",
        "    losses.append(total_loss)\n",
        "\n",
        "# Втрата зменшувалася з кожною ітерацією над навчальними даними!\n",
        "plt.plot(losses)\n",
        "plt.xlabel('Ітерація')\n",
        "plt.ylabel('Loss');"
      ],
      "metadata": {
        "colab": {
          "base_uri": "https://localhost:8080/",
          "height": 466
        },
        "id": "nid8ybm70zWD",
        "outputId": "f43ada25-50b9-4c9f-998d-d0158ad4c939"
      },
      "execution_count": null,
      "outputs": [
        {
          "output_type": "stream",
          "name": "stdout",
          "text": [
            "Epoch 100/200| Loss 0.0016393313326261705\n"
          ]
        },
        {
          "output_type": "display_data",
          "data": {
            "text/plain": [
              "<Figure size 640x480 with 1 Axes>"
            ],
            "image/png": "[encoded data removed]"
          },
          "metadata": {}
        }
      ]
    },
    {
      "cell_type": "code",
      "source": [
        "losses[-1]"
      ],
      "metadata": {
        "colab": {
          "base_uri": "https://localhost:8080/"
        },
        "id": "82-T_D434Qb0",
        "outputId": "9b3c35b6-7ed6-415e-cc22-24d4cd2a1dbd"
      },
      "execution_count": null,
      "outputs": [
        {
          "output_type": "execute_result",
          "data": {
            "text/plain": [
              "0.00039743486831866903"
            ]
          },
          "metadata": {},
          "execution_count": 214
        }
      ]
    },
    {
      "cell_type": "markdown",
      "source": [
        "Перевіряємо роботу моделі:"
      ],
      "metadata": {
        "id": "vhbgDBY_jI5p"
      }
    },
    {
      "cell_type": "code",
      "source": [
        "train_ds"
      ],
      "metadata": {
        "colab": {
          "base_uri": "https://localhost:8080/"
        },
        "id": "dKirVOdDh86q",
        "outputId": "0a427a40-a018-42c6-ef2e-7f70500e63c2"
      },
      "execution_count": null,
      "outputs": [
        {
          "output_type": "execute_result",
          "data": {
            "text/plain": [
              "[(['the', 'cat', 'on', 'the'], 'sat'),\n",
              " (['cat', 'sat', 'the', 'mat'], 'on'),\n",
              " (['the', 'cat', 'on', 'the'], 'sat'),\n",
              " (['cat', 'sat', 'the', 'rug'], 'on'),\n",
              " (['the', 'dog', 'on', 'the'], 'sat'),\n",
              " (['dog', 'sat', 'the', 'rug'], 'on'),\n",
              " (['the', 'cat', 'with', 'the'], 'played'),\n",
              " (['cat', 'played', 'the', 'yarn'], 'with'),\n",
              " (['the', 'dog', 'at', 'the'], 'barked'),\n",
              " (['dog', 'barked', 'the', 'cat'], 'at'),\n",
              " (['the', 'cat', 'the', 'mouse'], 'chased'),\n",
              " (['the', 'dog', 'the', 'ball'], 'chased')]"
            ]
          },
          "metadata": {},
          "execution_count": 215
        }
      ]
    },
    {
      "cell_type": "markdown",
      "source": [
        "Тестовий екземпляр:"
      ],
      "metadata": {
        "id": "QewP5070jLw-"
      }
    },
    {
      "cell_type": "code",
      "source": [
        "context = ['the', 'dog', 'the', 'ball']\n",
        "context_idxs = torch.tensor([word_to_ix[w] for w in context], dtype=torch.long)"
      ],
      "metadata": {
        "id": "ojOocGp5g52k"
      },
      "execution_count": null,
      "outputs": []
    },
    {
      "cell_type": "code",
      "source": [
        "ix_to_word = {ix: word for word, ix in word_to_ix.items()}"
      ],
      "metadata": {
        "id": "nIEdxZUwkY-K"
      },
      "execution_count": null,
      "outputs": []
    },
    {
      "cell_type": "code",
      "source": [
        "[ix_to_word[idx.item()] for idx in context_idxs]"
      ],
      "metadata": {
        "colab": {
          "base_uri": "https://localhost:8080/"
        },
        "id": "lV9hnYE9hHks",
        "outputId": "c6feef5b-3187-4b94-a507-9f17385f3960"
      },
      "execution_count": null,
      "outputs": [
        {
          "output_type": "execute_result",
          "data": {
            "text/plain": [
              "['the', 'dog', 'the', 'ball']"
            ]
          },
          "metadata": {},
          "execution_count": 218
        }
      ]
    },
    {
      "cell_type": "code",
      "source": [
        "ix_to_word[torch.exp(model(context_idxs)).argmax(dim=1).item()]"
      ],
      "metadata": {
        "colab": {
          "base_uri": "https://localhost:8080/",
          "height": 35
        },
        "id": "FjUB9daHg2R6",
        "outputId": "80b973eb-54ea-4e86-a04a-324a5d0dc7ab"
      },
      "execution_count": null,
      "outputs": [
        {
          "output_type": "execute_result",
          "data": {
            "text/plain": [
              "'chased'"
            ],
            "application/vnd.google.colaboratory.intrinsic+json": {
              "type": "string"
            }
          },
          "metadata": {},
          "execution_count": 219
        }
      ]
    },
    {
      "cell_type": "code",
      "source": [
        "torch.exp(model(context_idxs)).detach().numpy().round(3)"
      ],
      "metadata": {
        "colab": {
          "base_uri": "https://localhost:8080/"
        },
        "id": "BGryzeCzhgZa",
        "outputId": "8060537e-479d-46c6-b773-d9634f68b14e"
      },
      "execution_count": null,
      "outputs": [
        {
          "output_type": "execute_result",
          "data": {
            "text/plain": [
              "array([[0., 1., 0., 0., 0., 0., 0., 0., 0., 0., 0., 0., 0., 0., 0.]],\n",
              "      dtype=float32)"
            ]
          },
          "metadata": {},
          "execution_count": 220
        }
      ]
    },
    {
      "cell_type": "code",
      "source": [
        "vocab"
      ],
      "metadata": {
        "colab": {
          "base_uri": "https://localhost:8080/"
        },
        "id": "PVuGgWK1hVha",
        "outputId": "0ea1d0c7-ed4b-4ae1-837a-538f5c11fd12"
      },
      "execution_count": null,
      "outputs": [
        {
          "output_type": "execute_result",
          "data": {
            "text/plain": [
              "['mouse',\n",
              " 'chased',\n",
              " 'barked',\n",
              " 'played',\n",
              " 'sat',\n",
              " 'with',\n",
              " 'mat',\n",
              " 'at',\n",
              " 'on',\n",
              " 'cat',\n",
              " 'rug',\n",
              " 'ball',\n",
              " 'yarn',\n",
              " 'dog',\n",
              " 'the']"
            ]
          },
          "metadata": {},
          "execution_count": 195
        }
      ]
    },
    {
      "cell_type": "markdown",
      "source": [
        "Оверфіт є, але репрезентації як далі побачимо - так собі :)"
      ],
      "metadata": {
        "id": "Z1n_Py52mdNK"
      }
    },
    {
      "cell_type": "code",
      "source": [
        "# Щоб отримати ембединг конкретного слова, наприклад, \"cat\"\n",
        "print(model.embeddings.weight[word_to_ix[\"cat\"]])"
      ],
      "metadata": {
        "colab": {
          "base_uri": "https://localhost:8080/"
        },
        "id": "JPt8eWpy0tnF",
        "outputId": "3b07cf23-9ebe-43d7-b1f9-6837bc0700ad"
      },
      "execution_count": null,
      "outputs": [
        {
          "output_type": "stream",
          "name": "stdout",
          "text": [
            "tensor([ 2.1397, -2.7706,  1.3340,  0.6785, -3.2196],\n",
            "       grad_fn=<SelectBackward0>)\n"
          ]
        }
      ]
    },
    {
      "cell_type": "code",
      "source": [
        "import matplotlib.pyplot as plt\n",
        "from sklearn.decomposition import PCA\n",
        "import plotly.graph_objs as go\n",
        "\n",
        "word_vectors = model.embeddings.weight.detach().numpy()\n",
        "\n",
        "# Використовуємо PCA для зменшення розмірності до 2D\n",
        "pca = PCA(n_components=3)\n",
        "reduced = pca.fit_transform(word_vectors)\n",
        "\n",
        "fig = go.Figure(data=[go.Scatter3d(\n",
        "    x=reduced[:, 0],\n",
        "    y=reduced[:, 1],\n",
        "    z=reduced[:, 2],\n",
        "    mode='markers+text',\n",
        "    text=list(word_to_ix.keys()),\n",
        "    textposition=\"top center\",\n",
        "    marker=dict(\n",
        "        size=6,\n",
        "        color='skyblue',\n",
        "        opacity=0.8\n",
        "    )\n",
        ")])\n",
        "\n",
        "fig.update_layout(\n",
        "    title=\"📌 3D Word Embeddings Visualization\",\n",
        "    margin=dict(l=0, r=0, b=0, t=30),\n",
        "    scene=dict(\n",
        "        xaxis_title=\"PC 1\",\n",
        "        yaxis_title=\"PC 2\",\n",
        "        zaxis_title=\"PC 3\"\n",
        "    )\n",
        ")\n",
        "\n",
        "fig.show()\n"
      ],
      "metadata": {
        "colab": {
          "base_uri": "https://localhost:8080/",
          "height": 542
        },
        "id": "9tH53lHj0JiQ",
        "outputId": "830223e6-ad92-4f05-f801-98ebe98cccfb"
      },
      "execution_count": null,
      "outputs": [
        {
          "output_type": "display_data",
          "data": {
            "text/html": [
              "<html>\n",
              "<head><meta charset=\"utf-8\" /></head>\n",
              "<body>\n",
              "    <div>            <script src=\"https://cdnjs.cloudflare.com/ajax/libs/mathjax/2.7.5/MathJax.js?config=TeX-AMS-MML_SVG\"></script><script type=\"text/javascript\">if (window.MathJax && window.MathJax.Hub && window.MathJax.Hub.Config) {window.MathJax.Hub.Config({SVG: {font: \"STIX-Web\"}});}</script>                <script type=\"text/javascript\">window.PlotlyConfig = {MathJaxConfig: 'local'};</script>\n",
              "        <script charset=\"utf-8\" src=\"https://cdn.plot.ly/plotly-2.35.2.min.js\"></script>                <div id=\"8eeeb6e4-302a-4d84-8a6e-05594c9267f1\" class=\"plotly-graph-div\" style=\"height:525px; width:100%;\"></div>            <script type=\"text/javascript\">                                    window.PLOTLYENV=window.PLOTLYENV || {};                                    if (document.getElementById(\"8eeeb6e4-302a-4d84-8a6e-05594c9267f1\")) {                    Plotly.newPlot(                        \"8eeeb6e4-302a-4d84-8a6e-05594c9267f1\",                        [{\"marker\":{\"color\":\"skyblue\",\"opacity\":0.8,\"size\":6},\"mode\":\"markers+text\",\"text\":[\"mouse\",\"chased\",\"barked\",\"played\",\"sat\",\"with\",\"mat\",\"at\",\"on\",\"cat\",\"rug\",\"ball\",\"yarn\",\"dog\",\"the\"],\"textposition\":\"top center\",\"x\":[-2.434934,0.37438712,-1.8806833,0.28700337,3.981185,2.4207697,2.0513792,0.086538516,-4.189109,-0.9198315,1.53485,-0.9961315,-1.9961758,1.8123907,-0.13163956],\"y\":[1.7203984,-1.7455496,-1.2130224,2.6103325,0.3308828,1.6296924,2.523634,-1.8100028,2.0761776,-0.09116073,0.741958,-0.4306814,-2.060092,-3.1383367,-1.1442317],\"z\":[0.51130784,0.121875614,-2.2483997,-1.7287015,-0.11587906,-0.19492416,-0.36728838,-1.778617,0.024989234,2.534198,0.47927314,2.788241,-1.4338235,0.5700876,0.8376619],\"type\":\"scatter3d\"}],                        {\"template\":{\"data\":{\"histogram2dcontour\":[{\"type\":\"histogram2dcontour\",\"colorbar\":{\"outlinewidth\":0,\"ticks\":\"\"},\"colorscale\":[[0.0,\"#0d0887\"],[0.1111111111111111,\"#46039f\"],[0.2222222222222222,\"#7201a8\"],[0.3333333333333333,\"#9c179e\"],[0.4444444444444444,\"#bd3786\"],[0.5555555555555556,\"#d8576b\"],[0.6666666666666666,\"#ed7953\"],[0.7777777777777778,\"#fb9f3a\"],[0.8888888888888888,\"#fdca26\"],[1.0,\"#f0f921\"]]}],\"choropleth\":[{\"type\":\"choropleth\",\"colorbar\":{\"outlinewidth\":0,\"ticks\":\"\"}}],\"histogram2d\":[{\"type\":\"histogram2d\",\"colorbar\":{\"outlinewidth\":0,\"ticks\":\"\"},\"colorscale\":[[0.0,\"#0d0887\"],[0.1111111111111111,\"#46039f\"],[0.2222222222222222,\"#7201a8\"],[0.3333333333333333,\"#9c179e\"],[0.4444444444444444,\"#bd3786\"],[0.5555555555555556,\"#d8576b\"],[0.6666666666666666,\"#ed7953\"],[0.7777777777777778,\"#fb9f3a\"],[0.8888888888888888,\"#fdca26\"],[1.0,\"#f0f921\"]]}],\"heatmap\":[{\"type\":\"heatmap\",\"colorbar\":{\"outlinewidth\":0,\"ticks\":\"\"},\"colorscale\":[[0.0,\"#0d0887\"],[0.1111111111111111,\"#46039f\"],[0.2222222222222222,\"#7201a8\"],[0.3333333333333333,\"#9c179e\"],[0.4444444444444444,\"#bd3786\"],[0.5555555555555556,\"#d8576b\"],[0.6666666666666666,\"#ed7953\"],[0.7777777777777778,\"#fb9f3a\"],[0.8888888888888888,\"#fdca26\"],[1.0,\"#f0f921\"]]}],\"heatmapgl\":[{\"type\":\"heatmapgl\",\"colorbar\":{\"outlinewidth\":0,\"ticks\":\"\"},\"colorscale\":[[0.0,\"#0d0887\"],[0.1111111111111111,\"#46039f\"],[0.2222222222222222,\"#7201a8\"],[0.3333333333333333,\"#9c179e\"],[0.4444444444444444,\"#bd3786\"],[0.5555555555555556,\"#d8576b\"],[0.6666666666666666,\"#ed7953\"],[0.7777777777777778,\"#fb9f3a\"],[0.8888888888888888,\"#fdca26\"],[1.0,\"#f0f921\"]]}],\"contourcarpet\":[{\"type\":\"contourcarpet\",\"colorbar\":{\"outlinewidth\":0,\"ticks\":\"\"}}],\"contour\":[{\"type\":\"contour\",\"colorbar\":{\"outlinewidth\":0,\"ticks\":\"\"},\"colorscale\":[[0.0,\"#0d0887\"],[0.1111111111111111,\"#46039f\"],[0.2222222222222222,\"#7201a8\"],[0.3333333333333333,\"#9c179e\"],[0.4444444444444444,\"#bd3786\"],[0.5555555555555556,\"#d8576b\"],[0.6666666666666666,\"#ed7953\"],[0.7777777777777778,\"#fb9f3a\"],[0.8888888888888888,\"#fdca26\"],[1.0,\"#f0f921\"]]}],\"surface\":[{\"type\":\"surface\",\"colorbar\":{\"outlinewidth\":0,\"ticks\":\"\"},\"colorscale\":[[0.0,\"#0d0887\"],[0.1111111111111111,\"#46039f\"],[0.2222222222222222,\"#7201a8\"],[0.3333333333333333,\"#9c179e\"],[0.4444444444444444,\"#bd3786\"],[0.5555555555555556,\"#d8576b\"],[0.6666666666666666,\"#ed7953\"],[0.7777777777777778,\"#fb9f3a\"],[0.8888888888888888,\"#fdca26\"],[1.0,\"#f0f921\"]]}],\"mesh3d\":[{\"type\":\"mesh3d\",\"colorbar\":{\"outlinewidth\":0,\"ticks\":\"\"}}],\"scatter\":[{\"fillpattern\":{\"fillmode\":\"overlay\",\"size\":10,\"solidity\":0.2},\"type\":\"scatter\"}],\"parcoords\":[{\"type\":\"parcoords\",\"line\":{\"colorbar\":{\"outlinewidth\":0,\"ticks\":\"\"}}}],\"scatterpolargl\":[{\"type\":\"scatterpolargl\",\"marker\":{\"colorbar\":{\"outlinewidth\":0,\"ticks\":\"\"}}}],\"bar\":[{\"error_x\":{\"color\":\"#2a3f5f\"},\"error_y\":{\"color\":\"#2a3f5f\"},\"marker\":{\"line\":{\"color\":\"#E5ECF6\",\"width\":0.5},\"pattern\":{\"fillmode\":\"overlay\",\"size\":10,\"solidity\":0.2}},\"type\":\"bar\"}],\"scattergeo\":[{\"type\":\"scattergeo\",\"marker\":{\"colorbar\":{\"outlinewidth\":0,\"ticks\":\"\"}}}],\"scatterpolar\":[{\"type\":\"scatterpolar\",\"marker\":{\"colorbar\":{\"outlinewidth\":0,\"ticks\":\"\"}}}],\"histogram\":[{\"marker\":{\"pattern\":{\"fillmode\":\"overlay\",\"size\":10,\"solidity\":0.2}},\"type\":\"histogram\"}],\"scattergl\":[{\"type\":\"scattergl\",\"marker\":{\"colorbar\":{\"outlinewidth\":0,\"ticks\":\"\"}}}],\"scatter3d\":[{\"type\":\"scatter3d\",\"line\":{\"colorbar\":{\"outlinewidth\":0,\"ticks\":\"\"}},\"marker\":{\"colorbar\":{\"outlinewidth\":0,\"ticks\":\"\"}}}],\"scattermapbox\":[{\"type\":\"scattermapbox\",\"marker\":{\"colorbar\":{\"outlinewidth\":0,\"ticks\":\"\"}}}],\"scatterternary\":[{\"type\":\"scatterternary\",\"marker\":{\"colorbar\":{\"outlinewidth\":0,\"ticks\":\"\"}}}],\"scattercarpet\":[{\"type\":\"scattercarpet\",\"marker\":{\"colorbar\":{\"outlinewidth\":0,\"ticks\":\"\"}}}],\"carpet\":[{\"aaxis\":{\"endlinecolor\":\"#2a3f5f\",\"gridcolor\":\"white\",\"linecolor\":\"white\",\"minorgridcolor\":\"white\",\"startlinecolor\":\"#2a3f5f\"},\"baxis\":{\"endlinecolor\":\"#2a3f5f\",\"gridcolor\":\"white\",\"linecolor\":\"white\",\"minorgridcolor\":\"white\",\"startlinecolor\":\"#2a3f5f\"},\"type\":\"carpet\"}],\"table\":[{\"cells\":{\"fill\":{\"color\":\"#EBF0F8\"},\"line\":{\"color\":\"white\"}},\"header\":{\"fill\":{\"color\":\"#C8D4E3\"},\"line\":{\"color\":\"white\"}},\"type\":\"table\"}],\"barpolar\":[{\"marker\":{\"line\":{\"color\":\"#E5ECF6\",\"width\":0.5},\"pattern\":{\"fillmode\":\"overlay\",\"size\":10,\"solidity\":0.2}},\"type\":\"barpolar\"}],\"pie\":[{\"automargin\":true,\"type\":\"pie\"}]},\"layout\":{\"autotypenumbers\":\"strict\",\"colorway\":[\"#636efa\",\"#EF553B\",\"#00cc96\",\"#ab63fa\",\"#FFA15A\",\"#19d3f3\",\"#FF6692\",\"#B6E880\",\"#FF97FF\",\"#FECB52\"],\"font\":{\"color\":\"#2a3f5f\"},\"hovermode\":\"closest\",\"hoverlabel\":{\"align\":\"left\"},\"paper_bgcolor\":\"white\",\"plot_bgcolor\":\"#E5ECF6\",\"polar\":{\"bgcolor\":\"#E5ECF6\",\"angularaxis\":{\"gridcolor\":\"white\",\"linecolor\":\"white\",\"ticks\":\"\"},\"radialaxis\":{\"gridcolor\":\"white\",\"linecolor\":\"white\",\"ticks\":\"\"}},\"ternary\":{\"bgcolor\":\"#E5ECF6\",\"aaxis\":{\"gridcolor\":\"white\",\"linecolor\":\"white\",\"ticks\":\"\"},\"baxis\":{\"gridcolor\":\"white\",\"linecolor\":\"white\",\"ticks\":\"\"},\"caxis\":{\"gridcolor\":\"white\",\"linecolor\":\"white\",\"ticks\":\"\"}},\"coloraxis\":{\"colorbar\":{\"outlinewidth\":0,\"ticks\":\"\"}},\"colorscale\":{\"sequential\":[[0.0,\"#0d0887\"],[0.1111111111111111,\"#46039f\"],[0.2222222222222222,\"#7201a8\"],[0.3333333333333333,\"#9c179e\"],[0.4444444444444444,\"#bd3786\"],[0.5555555555555556,\"#d8576b\"],[0.6666666666666666,\"#ed7953\"],[0.7777777777777778,\"#fb9f3a\"],[0.8888888888888888,\"#fdca26\"],[1.0,\"#f0f921\"]],\"sequentialminus\":[[0.0,\"#0d0887\"],[0.1111111111111111,\"#46039f\"],[0.2222222222222222,\"#7201a8\"],[0.3333333333333333,\"#9c179e\"],[0.4444444444444444,\"#bd3786\"],[0.5555555555555556,\"#d8576b\"],[0.6666666666666666,\"#ed7953\"],[0.7777777777777778,\"#fb9f3a\"],[0.8888888888888888,\"#fdca26\"],[1.0,\"#f0f921\"]],\"diverging\":[[0,\"#8e0152\"],[0.1,\"#c51b7d\"],[0.2,\"#de77ae\"],[0.3,\"#f1b6da\"],[0.4,\"#fde0ef\"],[0.5,\"#f7f7f7\"],[0.6,\"#e6f5d0\"],[0.7,\"#b8e186\"],[0.8,\"#7fbc41\"],[0.9,\"#4d9221\"],[1,\"#276419\"]]},\"xaxis\":{\"gridcolor\":\"white\",\"linecolor\":\"white\",\"ticks\":\"\",\"title\":{\"standoff\":15},\"zerolinecolor\":\"white\",\"automargin\":true,\"zerolinewidth\":2},\"yaxis\":{\"gridcolor\":\"white\",\"linecolor\":\"white\",\"ticks\":\"\",\"title\":{\"standoff\":15},\"zerolinecolor\":\"white\",\"automargin\":true,\"zerolinewidth\":2},\"scene\":{\"xaxis\":{\"backgroundcolor\":\"#E5ECF6\",\"gridcolor\":\"white\",\"linecolor\":\"white\",\"showbackground\":true,\"ticks\":\"\",\"zerolinecolor\":\"white\",\"gridwidth\":2},\"yaxis\":{\"backgroundcolor\":\"#E5ECF6\",\"gridcolor\":\"white\",\"linecolor\":\"white\",\"showbackground\":true,\"ticks\":\"\",\"zerolinecolor\":\"white\",\"gridwidth\":2},\"zaxis\":{\"backgroundcolor\":\"#E5ECF6\",\"gridcolor\":\"white\",\"linecolor\":\"white\",\"showbackground\":true,\"ticks\":\"\",\"zerolinecolor\":\"white\",\"gridwidth\":2}},\"shapedefaults\":{\"line\":{\"color\":\"#2a3f5f\"}},\"annotationdefaults\":{\"arrowcolor\":\"#2a3f5f\",\"arrowhead\":0,\"arrowwidth\":1},\"geo\":{\"bgcolor\":\"white\",\"landcolor\":\"#E5ECF6\",\"subunitcolor\":\"white\",\"showland\":true,\"showlakes\":true,\"lakecolor\":\"white\"},\"title\":{\"x\":0.05},\"mapbox\":{\"style\":\"light\"}}},\"margin\":{\"l\":0,\"r\":0,\"b\":0,\"t\":30},\"title\":{\"text\":\"📌 3D Word Embeddings Visualization\"},\"scene\":{\"xaxis\":{\"title\":{\"text\":\"PC 1\"}},\"yaxis\":{\"title\":{\"text\":\"PC 2\"}},\"zaxis\":{\"title\":{\"text\":\"PC 3\"}}}},                        {\"responsive\": true}                    ).then(function(){\n",
              "                            \n",
              "var gd = document.getElementById('8eeeb6e4-302a-4d84-8a6e-05594c9267f1');\n",
              "var x = new MutationObserver(function (mutations, observer) {{\n",
              "        var display = window.getComputedStyle(gd).display;\n",
              "        if (!display || display === 'none') {{\n",
              "            console.log([gd, 'removed!']);\n",
              "            Plotly.purge(gd);\n",
              "            observer.disconnect();\n",
              "        }}\n",
              "}});\n",
              "\n",
              "// Listen for the removal of the full notebook cells\n",
              "var notebookContainer = gd.closest('#notebook-container');\n",
              "if (notebookContainer) {{\n",
              "    x.observe(notebookContainer, {childList: true});\n",
              "}}\n",
              "\n",
              "// Listen for the clearing of the current output cell\n",
              "var outputEl = gd.closest('.output');\n",
              "if (outputEl) {{\n",
              "    x.observe(outputEl, {childList: true});\n",
              "}}\n",
              "\n",
              "                        })                };                            </script>        </div>\n",
              "</body>\n",
              "</html>"
            ]
          },
          "metadata": {}
        }
      ]
    },
    {
      "cell_type": "code",
      "source": [
        "pca = PCA(n_components=2)\n",
        "reduced = pca.fit_transform(word_vectors)\n",
        "\n",
        "plt.figure(figsize=(8, 6))\n",
        "for i, label in enumerate(word_to_ix.keys()):\n",
        "    x, y = reduced[i]\n",
        "    plt.scatter(x, y)\n",
        "    plt.text(x + 0.01, y + 0.01, label, fontsize=12)\n",
        "\n",
        "plt.title(\"Візуалізація ембеддингів слів (PCA)\")\n",
        "plt.grid(True)\n",
        "plt.show();"
      ],
      "metadata": {
        "colab": {
          "base_uri": "https://localhost:8080/",
          "height": 545
        },
        "id": "aH8EkE6sEJ4o",
        "outputId": "73d58f98-ee08-4bcd-e134-2a5f19a96467"
      },
      "execution_count": null,
      "outputs": [
        {
          "output_type": "display_data",
          "data": {
            "text/plain": [
              "<Figure size 800x600 with 1 Axes>"
            ],
            "image/png": "[encoded data removed]"
          },
          "metadata": {}
        }
      ]
    },
    {
      "cell_type": "markdown",
      "source": [
        "Знайдемо найближчі вектори до заданого."
      ],
      "metadata": {
        "id": "aV83vdIjG1GX"
      }
    },
    {
      "cell_type": "code",
      "source": [
        "from sklearn.metrics.pairwise import cosine_similarity\n",
        "import numpy as np\n",
        "\n",
        "ix_to_word = {ix: word for word, ix in word_to_ix.items()}\n",
        "\n",
        "def most_similar(word, vectors, word_to_ix, topn=5):\n",
        "    idx = word_to_ix[word]\n",
        "    query = vectors[idx].reshape(1, -1)\n",
        "    sims = cosine_similarity(query, vectors)[0]\n",
        "    sorted_ix = np.argsort(-sims)\n",
        "    return [(ix_to_word[i], sims[i]) for i in sorted_ix[1:topn+1]]\n",
        "\n",
        "most_similar(\"cat\", word_vectors, word_to_ix)"
      ],
      "metadata": {
        "colab": {
          "base_uri": "https://localhost:8080/"
        },
        "id": "8CILjwIK5TOT",
        "outputId": "c65e1407-bf28-4919-d839-7a2b3775d182"
      },
      "execution_count": null,
      "outputs": [
        {
          "output_type": "execute_result",
          "data": {
            "text/plain": [
              "[('ball', np.float32(0.9319499)),\n",
              " ('mouse', np.float32(0.34799284)),\n",
              " ('on', np.float32(0.29517227)),\n",
              " ('rug', np.float32(0.15233193)),\n",
              " ('the', np.float32(0.068004675))]"
            ]
          },
          "metadata": {},
          "execution_count": 223
        }
      ]
    },
    {
      "cell_type": "markdown",
      "source": [
        "Це не те, що ми б очікували. Але причина, що репрезентації тут не вивчились - бо модель просто запамʼятала всі відповіді і їй не треба бути розумною :)"
      ],
      "metadata": {
        "id": "Pn8Lp7IBmpz3"
      }
    },
    {
      "cell_type": "markdown",
      "source": [
        "2 cтатті, де детальніше описано про імплементацію пейперу word2vec:\n",
        "\n",
        "- Імплементація двох зазначених вище пейперів: https://towardsdatascience.com/implementing-word2vec-in-pytorch-from-the-ground-up-c7fe5bf99889/\n",
        "\n",
        "- Імплементація першого пейпера, більш зрозуміла структура нейронних мереж: https://towardsdatascience.com/word2vec-with-pytorch-implementing-original-paper-2cd7040120b0/"
      ],
      "metadata": {
        "id": "GJEQLXbvJGk4"
      }
    },
    {
      "cell_type": "markdown",
      "source": [
        "\n",
        "## 🧠 Інші підходи до побудови ембеддингів: GloVe і FastText\n",
        "\n",
        "Після Word2Vec з'явилося ще багато потужних методів для побудови векторних представлень слів. Серед найвідоміших — **GloVe** та **FastText**.\n",
        "\n",
        "---\n",
        "\n",
        "### 📦 GloVe (Global Vectors for Word Representation)\n",
        "\n",
        "#### 🔍 Ідея\n",
        "- GloVe поєднує ідеї Word2Vec та статистики співзустрічей слів (co-occurrence).\n",
        "- Будується **матриця співзустрічей** слів у контексті, а потім **факторизується** (розкладається на добуток матриць), щоб отримати вектори.\n",
        "- GloVe не намагається передбачити слово, як Word2Vec, а навпаки — **навчається від глобальної структури корпусу**.\n",
        "\n",
        "Факторизація матриці — це розкладання великої матриці на кілька менших, простіших.\n",
        "Це схоже на те, як число 12 можна розкласти як 3 × 4 — так і матрицю можна розкласти на добуток інших матриць.\n",
        "\n",
        "У задачах на кшталт GloVe ми будуємо велику матрицю співзустрічей слів, де кожна клітинка показує, як часто слово i зустрічалося поруч зі словом j.\n",
        "\n",
        "👉 Факторизація цієї матриці дозволяє:\n",
        "- зменшити розмірність\n",
        "- отримати щільні векторні представлення слів\n",
        "- зберегти найважливіші зв’язки між словами\n",
        "\n",
        "**Важливий нюанс цієї моделі - вона навчається офлайн. Що це значить?**\n",
        "\n",
        "- Word2Vec:\n",
        "модель проходить через корпус, дивиться на одне слово і контекст, робить апдейт ваг → переходить до наступного прикладу → і так далі (онлайн - \"на льоту\" - навчання ітеративне).\n",
        "\n",
        "- GloVe:\n",
        "спочатку рахуємо всі співзустрічі слів у всьому корпусі → будуємо матрицю → оптимізуємо функцію втрат над нею → навчаємо все одразу (офлайн). Тобто якщо ми хочемо довчити модель - треба перераховувати всю матрицю співзустрічей слів :)\n",
        "\n",
        "#### 📄 Пейпер:\n",
        "📘 *GloVe: Global Vectors for Word Representation*  \n",
        "Stanford NLP Group (2014)  \n",
        "🔗 [https://aclanthology.org/D14-1162.pdf](https://aclanthology.org/D14-1162.pdf)\n",
        "\n",
        "#### 💻 Репозиторій:\n",
        "🔗 GitHub: [https://github.com/stanfordnlp/GloVe](https://github.com/stanfordnlp/GloVe)\n",
        "\n",
        "#### 📌 Характеристики:\n",
        "- Навчається офлайн (не онлайн як Word2Vec)\n",
        "- Працює швидко і стабільно\n",
        "- Часто використовують попередньо навчені GloVe-ембеддинги (на Wikipedia або Common Crawl)\n",
        "\n",
        "Класна стаття з поясненням про Word2Vec та Glove:\n",
        "https://jonathan-hui.medium.com/nlp-word-embedding-glove-5e7f523999f6\n",
        "\n",
        "---\n",
        "\n",
        "### ⚡ FastText (від Facebook AI)\n",
        "\n",
        "#### 🔍 Ідея\n",
        "- FastText — це розширення Word2Vec, яке **враховує морфологію** слів.\n",
        "- Кожне слово представляється як сума векторів **n-грамів символів**, наприклад:\n",
        "  \n",
        "  `where → <wh, whe, her, ere, re>`\n",
        "\n",
        "- Це дозволяє моделі:\n",
        "  - працювати з **новими словами** (out-of-vocabulary)\n",
        "  - краще вловлювати **семантику словоформ**, суфіксів, префіксів тощо\n",
        "\n",
        "#### 📄 Пейпер:\n",
        "📘 *Enriching Word Vectors with Subword Information*  \n",
        "Facebook AI Research (FAIR), 2016  \n",
        "🔗 [https://aclanthology.org/E17-2025.pdf](https://aclanthology.org/E17-2025.pdf)\n",
        "\n",
        "#### 💻 Репозиторій:\n",
        "🔗 GitHub: [https://github.com/facebookresearch/fastText](https://github.com/facebookresearch/fastText)\n",
        "\n",
        "#### 📌 Характеристики:\n",
        "- Чудово працює для мов зі складною морфологією - тобто різними відмінками і формами слів (українська, польська, угорська…)\n",
        "- Має офіційні попередньо навчені ембеддинги для **157 мов**\n",
        "- Швидкий і легко інтегрується\n",
        "\n",
        "---\n",
        "\n",
        "## 🤖 Порівняння Word2Vec, GloVe, FastText\n",
        "\n",
        "| Характеристика      | Word2Vec        | GloVe             | FastText                   |\n",
        "|---------------------|-----------------|-------------------|----------------------------|\n",
        "| Підхід              | Передбачення    | Статистика        | Передбачення + n-грами     |\n",
        "| Навчання            | Онлайн          | Офлайн            | Онлайн                     |\n",
        "| Морфологія          | ❌              | ❌                | ✅                         |\n",
        "| OOV-слова           | ❌              | ❌                | ✅                         |\n",
        "| Вектор слова        | Один вектор     | Один вектор       | Сума векторів n-грамів     |\n",
        "\n",
        "---\n",
        "\n",
        "### Поради для використання:\n",
        "- Використовуйте **FastText**, якщо працюєте з **рідкісними словами або морфологічно багатими мовами**.\n",
        "- Якщо потрібно щось **легке і швидке** — беріть **GloVe**.\n",
        "- Word2Vec все ще хороший вибір для навчання на своїх даних з нуля.\n",
        "\n",
        "**Але увага!** Всі ці методи вже доволі застарілі і в сучасності частіше використовують BERT-embeddings (безкоштовно), або ембединги великих мовних моделей, наприклад, розробок OpenAI (платно).\n"
      ],
      "metadata": {
        "id": "J1_BvqjfLbxM"
      }
    },
    {
      "cell_type": "markdown",
      "source": [
        "## Використання готових натренованих векторів\n",
        "\n",
        "Давайте глянемо тим не менш, як ви можете використовувати натреновані ембедінги.\n",
        "\n",
        "Запустимо приклад word2vec звідси:\n",
        "https://radimrehurek.com/gensim/auto_examples/tutorials/run_word2vec.html"
      ],
      "metadata": {
        "id": "ECRa8-MpKu3A"
      }
    },
    {
      "cell_type": "code",
      "source": [
        "!pip install numpy==1.24.4 scipy==1.10.1 gensim==4.3.2 --force-reinstall --no-cache-dir --quiet"
      ],
      "metadata": {
        "id": "Ljivug90MpYM"
      },
      "execution_count": null,
      "outputs": []
    },
    {
      "cell_type": "markdown",
      "source": [
        "Завантажуємо ембединги. Це займає певний час (кілька хвилин)."
      ],
      "metadata": {
        "id": "Gjiybb4OOBCl"
      }
    },
    {
      "cell_type": "code",
      "source": [
        "import gensim.downloader as api\n",
        "wv = api.load('word2vec-google-news-300')"
      ],
      "metadata": {
        "colab": {
          "base_uri": "https://localhost:8080/"
        },
        "id": "5ljTfFpPKuix",
        "outputId": "e8c82f1c-8bba-4377-9e40-014e13827816"
      },
      "execution_count": null,
      "outputs": [
        {
          "output_type": "stream",
          "name": "stdout",
          "text": [
            "[==================================================] 100.0% 1662.8/1662.8MB downloaded\n"
          ]
        }
      ]
    },
    {
      "cell_type": "markdown",
      "source": [
        "Переглянемо словник завантаженої моделі:"
      ],
      "metadata": {
        "id": "RJ4N93ZaPJbA"
      }
    },
    {
      "cell_type": "code",
      "source": [
        "for index, word in enumerate(wv.index_to_key):\n",
        "    if index == 10:\n",
        "        break\n",
        "    print(f\"word #{index}/{len(wv.index_to_key)} is {word}\")"
      ],
      "metadata": {
        "colab": {
          "base_uri": "https://localhost:8080/"
        },
        "id": "dSPTMfqyMutQ",
        "outputId": "aaf5c120-6d6d-45a9-c925-605321f4a451"
      },
      "execution_count": null,
      "outputs": [
        {
          "output_type": "stream",
          "name": "stdout",
          "text": [
            "word #0/3000000 is </s>\n",
            "word #1/3000000 is in\n",
            "word #2/3000000 is for\n",
            "word #3/3000000 is that\n",
            "word #4/3000000 is is\n",
            "word #5/3000000 is on\n",
            "word #6/3000000 is ##\n",
            "word #7/3000000 is The\n",
            "word #8/3000000 is with\n",
            "word #9/3000000 is said\n"
          ]
        }
      ]
    },
    {
      "cell_type": "markdown",
      "source": [
        "Ось так можемо отримати вектор певного заданого слова:"
      ],
      "metadata": {
        "id": "IXp62HniPNve"
      }
    },
    {
      "cell_type": "code",
      "source": [
        "vec_king = wv['king']"
      ],
      "metadata": {
        "id": "rriyshBhOo7E"
      },
      "execution_count": null,
      "outputs": []
    },
    {
      "cell_type": "code",
      "source": [
        "len(vec_king)"
      ],
      "metadata": {
        "colab": {
          "base_uri": "https://localhost:8080/"
        },
        "id": "wjtuiAwqPtER",
        "outputId": "087ba4b7-76d5-4385-a11e-cd118eedc82c"
      },
      "execution_count": null,
      "outputs": [
        {
          "output_type": "execute_result",
          "data": {
            "text/plain": [
              "300"
            ]
          },
          "metadata": {},
          "execution_count": 6
        }
      ]
    },
    {
      "cell_type": "markdown",
      "source": [
        "Можна завантажити найближчі слова до певного слова:"
      ],
      "metadata": {
        "id": "uRQTk8DUQWoh"
      }
    },
    {
      "cell_type": "code",
      "source": [
        "wv.most_similar(\"king\")"
      ],
      "metadata": {
        "colab": {
          "base_uri": "https://localhost:8080/"
        },
        "id": "5HWYDfDwQV0t",
        "outputId": "93f829d8-6a89-4e51-ce27-cb3caaf8222f"
      },
      "execution_count": null,
      "outputs": [
        {
          "output_type": "execute_result",
          "data": {
            "text/plain": [
              "[('kings', 0.7138045430183411),\n",
              " ('queen', 0.6510956883430481),\n",
              " ('monarch', 0.6413194537162781),\n",
              " ('crown_prince', 0.6204220056533813),\n",
              " ('prince', 0.6159993410110474),\n",
              " ('sultan', 0.5864824056625366),\n",
              " ('ruler', 0.5797567367553711),\n",
              " ('princes', 0.5646552443504333),\n",
              " ('Prince_Paras', 0.5432944297790527),\n",
              " ('throne', 0.5422105193138123)]"
            ]
          },
          "metadata": {},
          "execution_count": 7
        }
      ]
    },
    {
      "cell_type": "markdown",
      "source": [
        "Перевірити, які методи є у wv:"
      ],
      "metadata": {
        "id": "17PcXw-GQuyc"
      }
    },
    {
      "cell_type": "code",
      "source": [
        "# help(wv)"
      ],
      "metadata": {
        "id": "EA9-gmdSQaLK"
      },
      "execution_count": null,
      "outputs": []
    },
    {
      "cell_type": "markdown",
      "source": [
        "Але ця модель нам не дасть вектор слова, якого вона не бачила - це проблема:"
      ],
      "metadata": {
        "id": "KkWjZO2kPYm3"
      }
    },
    {
      "cell_type": "code",
      "source": [
        "try:\n",
        "    vec_cameroon = wv['cameroon']\n",
        "except KeyError:\n",
        "    print(\"The word 'cameroon' does not appear in this model\")"
      ],
      "metadata": {
        "colab": {
          "base_uri": "https://localhost:8080/"
        },
        "id": "f0amtRRTPcjK",
        "outputId": "90c29d0b-2763-4db5-925b-f7e6efadd96d"
      },
      "execution_count": null,
      "outputs": [
        {
          "output_type": "stream",
          "name": "stdout",
          "text": [
            "The word 'cameroon' does not appear in this model\n"
          ]
        }
      ]
    },
    {
      "cell_type": "markdown",
      "source": [
        "Також в цій моделі є функціонал, який дозволяє порівнювати слова між собою:"
      ],
      "metadata": {
        "id": "lGwVkqnvPRbt"
      }
    },
    {
      "cell_type": "code",
      "source": [
        "pairs = [\n",
        "    ('car', 'minivan'),\n",
        "    ('car', 'bicycle'),\n",
        "    ('car', 'airplane'),\n",
        "    ('car', 'cereal'),\n",
        "    ('car', 'communism'),\n",
        "]\n",
        "for w1, w2 in pairs:\n",
        "    print('%r\\t%r\\t%.2f' % (w1, w2, wv.similarity(w1, w2)))"
      ],
      "metadata": {
        "colab": {
          "base_uri": "https://localhost:8080/"
        },
        "id": "z7TZtNISOu58",
        "outputId": "67f75a18-389a-4e60-e8bb-c76403be2e78"
      },
      "execution_count": null,
      "outputs": [
        {
          "output_type": "stream",
          "name": "stdout",
          "text": [
            "'car'\t'minivan'\t0.69\n",
            "'car'\t'bicycle'\t0.54\n",
            "'car'\t'airplane'\t0.42\n",
            "'car'\t'cereal'\t0.14\n",
            "'car'\t'communism'\t0.06\n"
          ]
        }
      ]
    },
    {
      "cell_type": "markdown",
      "source": [
        "Можемо перевірити, яке зі слів не підходить до послідовності:"
      ],
      "metadata": {
        "id": "YY6-5sHkO72B"
      }
    },
    {
      "cell_type": "code",
      "source": [
        "print(wv.doesnt_match(['fire', 'water', 'land', 'sea', 'air', 'car']))"
      ],
      "metadata": {
        "colab": {
          "base_uri": "https://localhost:8080/"
        },
        "id": "O95PgP0FO7af",
        "outputId": "121ea5f5-09bd-45a7-e285-d994f77fa959"
      },
      "execution_count": null,
      "outputs": [
        {
          "output_type": "stream",
          "name": "stdout",
          "text": [
            "car\n"
          ]
        }
      ]
    },
    {
      "cell_type": "markdown",
      "source": [
        "Перевіримо як розташуються в просторі вектори наших слів з попереднього прикладу."
      ],
      "metadata": {
        "id": "RDp3tZNU1qSh"
      }
    },
    {
      "cell_type": "code",
      "source": [
        "vocab"
      ],
      "metadata": {
        "colab": {
          "base_uri": "https://localhost:8080/"
        },
        "id": "LyUDepZ-6ZcG",
        "outputId": "fa7e43e4-1b14-485b-d604-418bdab024b1"
      },
      "execution_count": null,
      "outputs": [
        {
          "output_type": "execute_result",
          "data": {
            "text/plain": [
              "['on',\n",
              " 'the',\n",
              " 'rug',\n",
              " 'ball',\n",
              " 'cat',\n",
              " 'mat',\n",
              " 'mouse',\n",
              " 'played',\n",
              " 'barked',\n",
              " 'chased',\n",
              " 'sat',\n",
              " 'at',\n",
              " 'dog',\n",
              " 'with',\n",
              " 'yarn']"
            ]
          },
          "metadata": {},
          "execution_count": 22
        }
      ]
    },
    {
      "cell_type": "code",
      "source": [
        "corpus"
      ],
      "metadata": {
        "colab": {
          "base_uri": "https://localhost:8080/"
        },
        "id": "7uFVX1fr6sRR",
        "outputId": "c91416a8-a1f9-4dad-9d85-ae76b771735b"
      },
      "execution_count": null,
      "outputs": [
        {
          "output_type": "execute_result",
          "data": {
            "text/plain": [
              "['the cat sat on the mat',\n",
              " 'the cat sat on the rug',\n",
              " 'the dog sat on the rug',\n",
              " 'the cat played with the yarn',\n",
              " 'the dog barked at the cat',\n",
              " 'the cat chased the mouse',\n",
              " 'the dog chased the ball']"
            ]
          },
          "metadata": {},
          "execution_count": 24
        }
      ]
    },
    {
      "cell_type": "code",
      "source": [
        "text = \"\"\"\n",
        "Machine learning (ML) is a field of study in artificial intelligence concerned with the development and study of statistical algorithms that can learn from data and generalise to unseen data, and thus perform tasks without explicit instructions.[1] Within a subdiscipline in machine learning, advances in the field of deep learning have allowed neural networks, a class of statistical algorithms, to surpass many previous machine learning approaches in performance.[2]\n",
        "\n",
        "ML finds application in many fields, including natural language processing, computer vision, speech recognition, email filtering, agriculture, and medicine.[3][4] The application of ML to business problems is known as predictive analytics.\n",
        "\n",
        "Statistics and mathematical optimisation (mathematical programming) methods comprise the foundations of machine learning. Data mining is a related field of study, focusing on exploratory data analysis (EDA) via unsupervised learning.[6][7]\n",
        "\n",
        "From a theoretical viewpoint, probably approximately correct learning provides a framework for describing machine learning.\n",
        "\n",
        "\"\"\""
      ],
      "metadata": {
        "id": "JluJ4iYq7OAk"
      },
      "execution_count": null,
      "outputs": []
    },
    {
      "cell_type": "code",
      "source": [
        "import re\n",
        "\n",
        "text = text.lower()\n",
        "text = words = re.findall(r'\\b[a-zA-Z]+\\b', text)\n"
      ],
      "metadata": {
        "id": "zdXW_Qp57QZb"
      },
      "execution_count": null,
      "outputs": []
    },
    {
      "cell_type": "code",
      "source": [
        "vocab = list(set(text))"
      ],
      "metadata": {
        "id": "vimDCcph7kD3"
      },
      "execution_count": null,
      "outputs": []
    },
    {
      "cell_type": "code",
      "source": [
        "import matplotlib.pyplot as plt\n",
        "from sklearn.decomposition import PCA\n",
        "import plotly.graph_objs as go\n",
        "import numpy as np\n",
        "\n",
        "def get_emb(word):\n",
        "  try:\n",
        "    return wv[word]\n",
        "  except KeyError:\n",
        "    return np.zeros(wv.vector_size)\n",
        "\n",
        "word_to_ix = {word: i for i, word in enumerate(vocab)}\n",
        "\n",
        "word_vectors = [get_emb(word) for word in vocab]\n",
        "\n",
        "# Використовуємо PCA для зменшення розмірності до 2D\n",
        "pca = PCA(n_components=3)\n",
        "reduced = pca.fit_transform(word_vectors)\n",
        "\n",
        "fig = go.Figure(data=[go.Scatter3d(\n",
        "    x=reduced[:, 0],\n",
        "    y=reduced[:, 1],\n",
        "    z=reduced[:, 2],\n",
        "    mode='markers+text',\n",
        "    text=list(word_to_ix.keys()),\n",
        "    textposition=\"top center\",\n",
        "    marker=dict(\n",
        "        size=6,\n",
        "        color='skyblue',\n",
        "        opacity=0.8\n",
        "    )\n",
        ")])\n",
        "\n",
        "fig.update_layout(\n",
        "    title=\"📌 3D Word Embeddings Visualization\",\n",
        "    margin=dict(l=0, r=0, b=0, t=30),\n",
        "    scene=dict(\n",
        "        xaxis_title=\"PC 1\",\n",
        "        yaxis_title=\"PC 2\",\n",
        "        zaxis_title=\"PC 3\"\n",
        "    )\n",
        ")\n",
        "\n",
        "fig.show()\n"
      ],
      "metadata": {
        "colab": {
          "base_uri": "https://localhost:8080/",
          "height": 542
        },
        "id": "x_s3sb3v1wUp",
        "outputId": "08dd9b45-2b8b-42a3-f5c0-8f795288bd5a"
      },
      "execution_count": null,
      "outputs": [
        {
          "output_type": "display_data",
          "data": {
            "text/html": [
              "<html>\n",
              "<head><meta charset=\"utf-8\" /></head>\n",
              "<body>\n",
              "    <div>            <script src=\"https://cdnjs.cloudflare.com/ajax/libs/mathjax/2.7.5/MathJax.js?config=TeX-AMS-MML_SVG\"></script><script type=\"text/javascript\">if (window.MathJax && window.MathJax.Hub && window.MathJax.Hub.Config) {window.MathJax.Hub.Config({SVG: {font: \"STIX-Web\"}});}</script>                <script type=\"text/javascript\">window.PlotlyConfig = {MathJaxConfig: 'local'};</script>\n",
              "        <script charset=\"utf-8\" src=\"https://cdn.plot.ly/plotly-2.35.2.min.js\"></script>                <div id=\"74e85d9d-13ad-4a66-bce1-9c3930e3faf4\" class=\"plotly-graph-div\" style=\"height:525px; width:100%;\"></div>            <script type=\"text/javascript\">                                    window.PLOTLYENV=window.PLOTLYENV || {};                                    if (document.getElementById(\"74e85d9d-13ad-4a66-bce1-9c3930e3faf4\")) {                    Plotly.newPlot(                        \"74e85d9d-13ad-4a66-bce1-9c3930e3faf4\",                        [{\"marker\":{\"color\":\"skyblue\",\"opacity\":0.8,\"size\":6},\"mode\":\"markers+text\",\"text\":[\"speech\",\"focusing\",\"predictive\",\"of\",\"viewpoint\",\"application\",\"foundations\",\"thus\",\"can\",\"without\",\"and\",\"allowed\",\"the\",\"analysis\",\"correct\",\"vision\",\"recognition\",\"medicine\",\"approximately\",\"with\",\"instructions\",\"that\",\"statistics\",\"class\",\"filtering\",\"computer\",\"perform\",\"tasks\",\"subdiscipline\",\"statistical\",\"fields\",\"ml\",\"optimisation\",\"many\",\"eda\",\"artificial\",\"a\",\"learning\",\"analytics\",\"language\",\"email\",\"programming\",\"neural\",\"within\",\"in\",\"finds\",\"networks\",\"intelligence\",\"previous\",\"is\",\"mathematical\",\"provides\",\"exploratory\",\"comprise\",\"advances\",\"field\",\"as\",\"theoretical\",\"concerned\",\"processing\",\"probably\",\"business\",\"to\",\"unsupervised\",\"approaches\",\"learn\",\"related\",\"framework\",\"including\",\"surpass\",\"performance\",\"mining\",\"deep\",\"generalise\",\"known\",\"have\",\"agriculture\",\"natural\",\"on\",\"via\",\"unseen\",\"development\",\"problems\",\"algorithms\",\"data\",\"study\",\"describing\",\"methods\",\"machine\",\"for\",\"from\",\"explicit\"],\"textposition\":\"top center\",\"x\":[0.08231570957006074,0.22759730009134646,-2.046310587958056,0.35339626213039194,0.16141853038705767,-0.35503704712451634,0.3106679059798476,0.4209913829395174,0.2321277429304335,0.5619408887706626,0.353396262130393,0.5788996855123019,0.48544185806041895,-1.0823261980240388,-0.1377320670756724,0.17863951405894704,0.12792041928667808,0.20554577745463226,0.32304967992091643,0.5778142515902718,0.11146279414801528,0.33978652540334203,-0.5719315185701792,0.4401708544234408,-0.6919838011816439,-0.5196709466723292,0.2839096720264212,-0.31628754537935644,-0.13616165025855953,-1.0607705937795946,0.24638619937997902,-0.013769682420104701,0.3533962621303929,0.48615187511116026,-0.04231877830677539,0.10638658427669234,0.3533962621303929,0.0647791999117095,-2.4424456295548436,0.028978894782721507,-0.2971160728849737,-0.3134515556152478,-1.6746561727451172,0.4840504682466373,0.5649394448525903,0.46685636145338527,-0.40627744765649526,-0.6775631878890028,0.43404557446271397,0.41595946838934755,-1.3987003034235435,-0.018546581594570212,0.2222362447893209,0.530484136340887,-0.00060880163633747,0.29643041799559805,0.5449815565358482,-0.6171392970174125,0.6409789089468585,-0.8559483917743695,0.4252752013895596,0.09054840896176033,0.3533962621303929,0.5935642931502202,-0.18260775372706686,0.3844179698554092,0.16472990353514239,-0.1987389829358624,0.6035108187459818,0.30986279288445734,-0.017715019041574197,0.04816390243876053,0.4531847167767863,0.3533962621303929,0.4519694094860769,0.5704112482041075,0.20537407719034767,0.3870777956201182,0.47953731637715813,0.28488153462454746,0.39341500858057094,0.26454681760825444,0.2081814245617798,-2.5589778183285725,-1.3177253626568461,-0.28830139878601185,0.36282925880575884,-0.6926702329377288,-0.20532233686342835,0.5198458326401096,0.5348155811321352,0.09894605043866819],\"y\":[-0.9950841945335662,0.19907879573952303,0.739195239201311,0.03713612656555187,-0.3410487761133843,-0.3371836786699638,0.01859197230596268,-0.09223474802472574,-0.13178431771958693,-0.32938188650142025,0.03713612656555205,-0.11099171878274038,0.17260827353566166,0.8405955110438899,-0.21052803265351644,-0.43482638449828465,-0.12629538389426828,-0.08058745975830506,0.7730981381439751,0.12221571960809283,-1.1452212264639323,0.057921425366315955,1.3557297446660574,-0.2325986942871179,-0.6033180295094576,-0.7946402739758186,0.01653607624744977,-0.823090104551787,-0.03486303876852109,1.2309591371036117,0.09230959855838936,0.4739152512535636,0.03713612656555202,0.08836143244102472,-0.196427295430324,-0.3789302559700364,0.03713612656555202,-0.52352207967893,0.7267856766687704,-0.9069768608645759,-0.8692281467272315,-0.7878044070599206,-1.2763385282754034,0.2846746947300382,0.30206470081130316,0.3158946642179494,-0.42032780632737193,0.2489360026372919,0.32854774818909493,0.2132243069066082,-0.07249073837322774,0.5903844470035358,0.3845408033249883,1.178200565940166,0.20970686672639607,0.28477834764773463,0.1111066449884632,0.0848222913835705,-0.029984087777311146,0.1062334570138636,0.10283474033779424,0.015091247058880194,0.03713612656555202,-0.943567309368021,0.07390025530443242,-0.4148175678218618,0.3632156980646655,-0.3267532339869657,0.42991235107698705,1.0213673121094091,0.0701347058314391,0.44090399458662854,0.3162576489190355,0.03713612656555202,0.040164691595950944,0.1540729425596931,0.3424366112284592,-0.15784496700292924,0.16103624054188062,-0.2030178494456839,-0.060354292346231624,0.2097901943823386,-0.19118266674156353,-0.5507600631365615,0.5901764661856271,0.5252204027341496,-0.16494122784163467,-0.36397214479327006,-0.49916914676714896,0.2064551021175258,0.16469286409284323,-0.8394091370830552],\"z\":[0.5174371018519544,-0.09704840691528448,-0.3552961101094464,0.05024936253022499,-0.029884492389143445,0.5761737232921698,-0.4599761036852424,-0.23581250832384848,0.2152639487250319,0.0333715124694293,0.050249362530224544,0.2420807707258192,0.008436138439082483,0.4119123390455514,-0.08645001165612183,-0.26902990105761654,0.09670449263015646,-0.7224885233595227,0.13240846420328906,0.05858447235954483,0.7731474530577429,0.01669332225402948,0.8685228209949122,-0.085542653321046,0.6294975079594325,0.23868420059169687,0.14121469937312486,0.3361201598400326,-0.4295367321821089,-0.02379818060085516,-0.5957003776312012,-0.2187908716287704,0.05024936253022476,-0.07735495084752772,0.06418117408649444,-1.2185737421126956,0.05024936253022476,-0.05448949318866641,0.9336732338655704,0.36495333984515704,1.467257782635666,0.4147038294169294,-1.745865151368937,0.19177043531215804,-0.07792471982775216,0.0916749927632884,0.46656746372766744,0.6903225237484664,-0.06278517935608893,0.11573077085897923,-1.3185944082628285,0.5762406716628047,-0.6615399928204515,-0.009160601636744913,-0.5288973994194728,-0.38482606335994823,0.01856054814122473,-0.9993382903398643,0.039177479016765236,0.23320555542737853,-0.06319252425035998,0.32351852555530985,0.05024936253022476,0.5768783568342406,-0.4727392508433568,0.20208566352791496,0.08141411207780129,0.07417680104161663,0.061758426277340114,-0.11439187667457956,0.18984999802070623,-0.08381996969534145,-0.47805793248956774,0.05024936253022476,-0.16519808946399597,-0.07783376690546491,-0.4375111548997186,-0.7512726887218337,0.05949817852198677,0.4832465217711143,-0.33331735324964806,-0.14456219404922346,-0.0962115085520908,-0.2774019020829953,1.0433477487478877,-0.09245505131739201,0.16404416976929953,-0.44031399132963045,-0.21912460229127925,0.07277989957512611,0.12321782073353617,0.2745233962608857],\"type\":\"scatter3d\"}],                        {\"template\":{\"data\":{\"histogram2dcontour\":[{\"type\":\"histogram2dcontour\",\"colorbar\":{\"outlinewidth\":0,\"ticks\":\"\"},\"colorscale\":[[0.0,\"#0d0887\"],[0.1111111111111111,\"#46039f\"],[0.2222222222222222,\"#7201a8\"],[0.3333333333333333,\"#9c179e\"],[0.4444444444444444,\"#bd3786\"],[0.5555555555555556,\"#d8576b\"],[0.6666666666666666,\"#ed7953\"],[0.7777777777777778,\"#fb9f3a\"],[0.8888888888888888,\"#fdca26\"],[1.0,\"#f0f921\"]]}],\"choropleth\":[{\"type\":\"choropleth\",\"colorbar\":{\"outlinewidth\":0,\"ticks\":\"\"}}],\"histogram2d\":[{\"type\":\"histogram2d\",\"colorbar\":{\"outlinewidth\":0,\"ticks\":\"\"},\"colorscale\":[[0.0,\"#0d0887\"],[0.1111111111111111,\"#46039f\"],[0.2222222222222222,\"#7201a8\"],[0.3333333333333333,\"#9c179e\"],[0.4444444444444444,\"#bd3786\"],[0.5555555555555556,\"#d8576b\"],[0.6666666666666666,\"#ed7953\"],[0.7777777777777778,\"#fb9f3a\"],[0.8888888888888888,\"#fdca26\"],[1.0,\"#f0f921\"]]}],\"heatmap\":[{\"type\":\"heatmap\",\"colorbar\":{\"outlinewidth\":0,\"ticks\":\"\"},\"colorscale\":[[0.0,\"#0d0887\"],[0.1111111111111111,\"#46039f\"],[0.2222222222222222,\"#7201a8\"],[0.3333333333333333,\"#9c179e\"],[0.4444444444444444,\"#bd3786\"],[0.5555555555555556,\"#d8576b\"],[0.6666666666666666,\"#ed7953\"],[0.7777777777777778,\"#fb9f3a\"],[0.8888888888888888,\"#fdca26\"],[1.0,\"#f0f921\"]]}],\"heatmapgl\":[{\"type\":\"heatmapgl\",\"colorbar\":{\"outlinewidth\":0,\"ticks\":\"\"},\"colorscale\":[[0.0,\"#0d0887\"],[0.1111111111111111,\"#46039f\"],[0.2222222222222222,\"#7201a8\"],[0.3333333333333333,\"#9c179e\"],[0.4444444444444444,\"#bd3786\"],[0.5555555555555556,\"#d8576b\"],[0.6666666666666666,\"#ed7953\"],[0.7777777777777778,\"#fb9f3a\"],[0.8888888888888888,\"#fdca26\"],[1.0,\"#f0f921\"]]}],\"contourcarpet\":[{\"type\":\"contourcarpet\",\"colorbar\":{\"outlinewidth\":0,\"ticks\":\"\"}}],\"contour\":[{\"type\":\"contour\",\"colorbar\":{\"outlinewidth\":0,\"ticks\":\"\"},\"colorscale\":[[0.0,\"#0d0887\"],[0.1111111111111111,\"#46039f\"],[0.2222222222222222,\"#7201a8\"],[0.3333333333333333,\"#9c179e\"],[0.4444444444444444,\"#bd3786\"],[0.5555555555555556,\"#d8576b\"],[0.6666666666666666,\"#ed7953\"],[0.7777777777777778,\"#fb9f3a\"],[0.8888888888888888,\"#fdca26\"],[1.0,\"#f0f921\"]]}],\"surface\":[{\"type\":\"surface\",\"colorbar\":{\"outlinewidth\":0,\"ticks\":\"\"},\"colorscale\":[[0.0,\"#0d0887\"],[0.1111111111111111,\"#46039f\"],[0.2222222222222222,\"#7201a8\"],[0.3333333333333333,\"#9c179e\"],[0.4444444444444444,\"#bd3786\"],[0.5555555555555556,\"#d8576b\"],[0.6666666666666666,\"#ed7953\"],[0.7777777777777778,\"#fb9f3a\"],[0.8888888888888888,\"#fdca26\"],[1.0,\"#f0f921\"]]}],\"mesh3d\":[{\"type\":\"mesh3d\",\"colorbar\":{\"outlinewidth\":0,\"ticks\":\"\"}}],\"scatter\":[{\"fillpattern\":{\"fillmode\":\"overlay\",\"size\":10,\"solidity\":0.2},\"type\":\"scatter\"}],\"parcoords\":[{\"type\":\"parcoords\",\"line\":{\"colorbar\":{\"outlinewidth\":0,\"ticks\":\"\"}}}],\"scatterpolargl\":[{\"type\":\"scatterpolargl\",\"marker\":{\"colorbar\":{\"outlinewidth\":0,\"ticks\":\"\"}}}],\"bar\":[{\"error_x\":{\"color\":\"#2a3f5f\"},\"error_y\":{\"color\":\"#2a3f5f\"},\"marker\":{\"line\":{\"color\":\"#E5ECF6\",\"width\":0.5},\"pattern\":{\"fillmode\":\"overlay\",\"size\":10,\"solidity\":0.2}},\"type\":\"bar\"}],\"scattergeo\":[{\"type\":\"scattergeo\",\"marker\":{\"colorbar\":{\"outlinewidth\":0,\"ticks\":\"\"}}}],\"scatterpolar\":[{\"type\":\"scatterpolar\",\"marker\":{\"colorbar\":{\"outlinewidth\":0,\"ticks\":\"\"}}}],\"histogram\":[{\"marker\":{\"pattern\":{\"fillmode\":\"overlay\",\"size\":10,\"solidity\":0.2}},\"type\":\"histogram\"}],\"scattergl\":[{\"type\":\"scattergl\",\"marker\":{\"colorbar\":{\"outlinewidth\":0,\"ticks\":\"\"}}}],\"scatter3d\":[{\"type\":\"scatter3d\",\"line\":{\"colorbar\":{\"outlinewidth\":0,\"ticks\":\"\"}},\"marker\":{\"colorbar\":{\"outlinewidth\":0,\"ticks\":\"\"}}}],\"scattermapbox\":[{\"type\":\"scattermapbox\",\"marker\":{\"colorbar\":{\"outlinewidth\":0,\"ticks\":\"\"}}}],\"scatterternary\":[{\"type\":\"scatterternary\",\"marker\":{\"colorbar\":{\"outlinewidth\":0,\"ticks\":\"\"}}}],\"scattercarpet\":[{\"type\":\"scattercarpet\",\"marker\":{\"colorbar\":{\"outlinewidth\":0,\"ticks\":\"\"}}}],\"carpet\":[{\"aaxis\":{\"endlinecolor\":\"#2a3f5f\",\"gridcolor\":\"white\",\"linecolor\":\"white\",\"minorgridcolor\":\"white\",\"startlinecolor\":\"#2a3f5f\"},\"baxis\":{\"endlinecolor\":\"#2a3f5f\",\"gridcolor\":\"white\",\"linecolor\":\"white\",\"minorgridcolor\":\"white\",\"startlinecolor\":\"#2a3f5f\"},\"type\":\"carpet\"}],\"table\":[{\"cells\":{\"fill\":{\"color\":\"#EBF0F8\"},\"line\":{\"color\":\"white\"}},\"header\":{\"fill\":{\"color\":\"#C8D4E3\"},\"line\":{\"color\":\"white\"}},\"type\":\"table\"}],\"barpolar\":[{\"marker\":{\"line\":{\"color\":\"#E5ECF6\",\"width\":0.5},\"pattern\":{\"fillmode\":\"overlay\",\"size\":10,\"solidity\":0.2}},\"type\":\"barpolar\"}],\"pie\":[{\"automargin\":true,\"type\":\"pie\"}]},\"layout\":{\"autotypenumbers\":\"strict\",\"colorway\":[\"#636efa\",\"#EF553B\",\"#00cc96\",\"#ab63fa\",\"#FFA15A\",\"#19d3f3\",\"#FF6692\",\"#B6E880\",\"#FF97FF\",\"#FECB52\"],\"font\":{\"color\":\"#2a3f5f\"},\"hovermode\":\"closest\",\"hoverlabel\":{\"align\":\"left\"},\"paper_bgcolor\":\"white\",\"plot_bgcolor\":\"#E5ECF6\",\"polar\":{\"bgcolor\":\"#E5ECF6\",\"angularaxis\":{\"gridcolor\":\"white\",\"linecolor\":\"white\",\"ticks\":\"\"},\"radialaxis\":{\"gridcolor\":\"white\",\"linecolor\":\"white\",\"ticks\":\"\"}},\"ternary\":{\"bgcolor\":\"#E5ECF6\",\"aaxis\":{\"gridcolor\":\"white\",\"linecolor\":\"white\",\"ticks\":\"\"},\"baxis\":{\"gridcolor\":\"white\",\"linecolor\":\"white\",\"ticks\":\"\"},\"caxis\":{\"gridcolor\":\"white\",\"linecolor\":\"white\",\"ticks\":\"\"}},\"coloraxis\":{\"colorbar\":{\"outlinewidth\":0,\"ticks\":\"\"}},\"colorscale\":{\"sequential\":[[0.0,\"#0d0887\"],[0.1111111111111111,\"#46039f\"],[0.2222222222222222,\"#7201a8\"],[0.3333333333333333,\"#9c179e\"],[0.4444444444444444,\"#bd3786\"],[0.5555555555555556,\"#d8576b\"],[0.6666666666666666,\"#ed7953\"],[0.7777777777777778,\"#fb9f3a\"],[0.8888888888888888,\"#fdca26\"],[1.0,\"#f0f921\"]],\"sequentialminus\":[[0.0,\"#0d0887\"],[0.1111111111111111,\"#46039f\"],[0.2222222222222222,\"#7201a8\"],[0.3333333333333333,\"#9c179e\"],[0.4444444444444444,\"#bd3786\"],[0.5555555555555556,\"#d8576b\"],[0.6666666666666666,\"#ed7953\"],[0.7777777777777778,\"#fb9f3a\"],[0.8888888888888888,\"#fdca26\"],[1.0,\"#f0f921\"]],\"diverging\":[[0,\"#8e0152\"],[0.1,\"#c51b7d\"],[0.2,\"#de77ae\"],[0.3,\"#f1b6da\"],[0.4,\"#fde0ef\"],[0.5,\"#f7f7f7\"],[0.6,\"#e6f5d0\"],[0.7,\"#b8e186\"],[0.8,\"#7fbc41\"],[0.9,\"#4d9221\"],[1,\"#276419\"]]},\"xaxis\":{\"gridcolor\":\"white\",\"linecolor\":\"white\",\"ticks\":\"\",\"title\":{\"standoff\":15},\"zerolinecolor\":\"white\",\"automargin\":true,\"zerolinewidth\":2},\"yaxis\":{\"gridcolor\":\"white\",\"linecolor\":\"white\",\"ticks\":\"\",\"title\":{\"standoff\":15},\"zerolinecolor\":\"white\",\"automargin\":true,\"zerolinewidth\":2},\"scene\":{\"xaxis\":{\"backgroundcolor\":\"#E5ECF6\",\"gridcolor\":\"white\",\"linecolor\":\"white\",\"showbackground\":true,\"ticks\":\"\",\"zerolinecolor\":\"white\",\"gridwidth\":2},\"yaxis\":{\"backgroundcolor\":\"#E5ECF6\",\"gridcolor\":\"white\",\"linecolor\":\"white\",\"showbackground\":true,\"ticks\":\"\",\"zerolinecolor\":\"white\",\"gridwidth\":2},\"zaxis\":{\"backgroundcolor\":\"#E5ECF6\",\"gridcolor\":\"white\",\"linecolor\":\"white\",\"showbackground\":true,\"ticks\":\"\",\"zerolinecolor\":\"white\",\"gridwidth\":2}},\"shapedefaults\":{\"line\":{\"color\":\"#2a3f5f\"}},\"annotationdefaults\":{\"arrowcolor\":\"#2a3f5f\",\"arrowhead\":0,\"arrowwidth\":1},\"geo\":{\"bgcolor\":\"white\",\"landcolor\":\"#E5ECF6\",\"subunitcolor\":\"white\",\"showland\":true,\"showlakes\":true,\"lakecolor\":\"white\"},\"title\":{\"x\":0.05},\"mapbox\":{\"style\":\"light\"}}},\"margin\":{\"l\":0,\"r\":0,\"b\":0,\"t\":30},\"title\":{\"text\":\"📌 3D Word Embeddings Visualization\"},\"scene\":{\"xaxis\":{\"title\":{\"text\":\"PC 1\"}},\"yaxis\":{\"title\":{\"text\":\"PC 2\"}},\"zaxis\":{\"title\":{\"text\":\"PC 3\"}}}},                        {\"responsive\": true}                    ).then(function(){\n",
              "                            \n",
              "var gd = document.getElementById('74e85d9d-13ad-4a66-bce1-9c3930e3faf4');\n",
              "var x = new MutationObserver(function (mutations, observer) {{\n",
              "        var display = window.getComputedStyle(gd).display;\n",
              "        if (!display || display === 'none') {{\n",
              "            console.log([gd, 'removed!']);\n",
              "            Plotly.purge(gd);\n",
              "            observer.disconnect();\n",
              "        }}\n",
              "}});\n",
              "\n",
              "// Listen for the removal of the full notebook cells\n",
              "var notebookContainer = gd.closest('#notebook-container');\n",
              "if (notebookContainer) {{\n",
              "    x.observe(notebookContainer, {childList: true});\n",
              "}}\n",
              "\n",
              "// Listen for the clearing of the current output cell\n",
              "var outputEl = gd.closest('.output');\n",
              "if (outputEl) {{\n",
              "    x.observe(outputEl, {childList: true});\n",
              "}}\n",
              "\n",
              "                        })                };                            </script>        </div>\n",
              "</body>\n",
              "</html>"
            ]
          },
          "metadata": {}
        }
      ]
    },
    {
      "cell_type": "markdown",
      "source": [
        "## 🧰 Gensim: потужна бібліотека для роботи з векторними представленнями слів\n",
        "\n",
        "Бібліотека [`gensim`](https://radimrehurek.com/gensim/) — це потужний і зручний інструмент для обробки текстів, що дозволяє:\n",
        "\n",
        "- ✅ **завантажити готові pretrained embeddings** (наприклад, Word2Vec, GloVe, FastText)\n",
        "- ✅ **навчити свою модель** на власному корпусі\n",
        "- ✅ **використовувати моделі** для:\n",
        "  - знаходження **схожих слів**\n",
        "  - **кластеризації**\n",
        "  - **аналізу тем**\n",
        "  - **semantic search**\n",
        "  - побудови **векторних баз знань** для RAG-моделей\n",
        "\n",
        "---\n",
        "\n",
        "## 🔄 Як з тексту отримати вектор?\n",
        "\n",
        "Моделі типу Word2Vec / GloVe повертають вектори **для окремих слів**, але часто нам потрібно подати **цілий документ, речення або запит** у вигляді одного вектора. Нижче — кілька поширених підходів.\n",
        "\n",
        "\n",
        "\n",
        "### 📌 1. Середнє векторів слів (**простий і швидкий підхід**)\n",
        "\n",
        "✅ Плюси:\n",
        "- дуже швидко\n",
        "- працює з будь-якими Word Embeddings\n",
        "\n",
        "⚠️ Мінуси:\n",
        "- втрачається порядок слів і синтаксис\n",
        "- не враховуються ваги слів (важливість)"
      ],
      "metadata": {
        "id": "LwJsE9OLPo21"
      }
    },
    {
      "cell_type": "code",
      "source": [
        "import numpy as np\n",
        "\n",
        "def vectorize_text(text, model):\n",
        "    words = [w for w in text.split() if w in model]\n",
        "    if not words:\n",
        "        return np.zeros(model.vector_size)\n",
        "    return np.mean([model[w] for w in words], axis=0)\n",
        "\n",
        "texts = [\n",
        "    # 🐱 Коти й собаки\n",
        "    \"the cat sat on the mat\",\n",
        "    \"the cat sat on the rug\",\n",
        "    \"the dog sat on the rug\",\n",
        "    \"the cat played with the yarn\",\n",
        "    \"the dog barked at the cat\",\n",
        "    \"i love my cat\",\n",
        "    \"i do not love my cat\",\n",
        "    \"my dog is very loyal\",\n",
        "    \"my cat is very independent\",\n",
        "\n",
        "    # 🌍 Географія\n",
        "    \"i live in kyiv\",\n",
        "    \"i live in london\",\n",
        "    \"she moved to paris last year\",\n",
        "    \"he was born in berlin\",\n",
        "\n",
        "    # 😊 Емоції та оцінки\n",
        "    \"i like honest people\",\n",
        "    \"i do not like smoking people\",\n",
        "    \"i trust kind people\",\n",
        "    \"i dislike rude people\",\n",
        "    \"good people help others\",\n",
        "    \"bad people hurt others\",\n",
        "\n",
        "    # 🔁 Повтори/схожі за структурою\n",
        "    \"the boy saw the cat\",\n",
        "    \"the girl saw the dog\",\n",
        "    \"the man saw the mouse\",\n",
        "]\n",
        "\n",
        "vectors = [vectorize_text(text, wv) for text in texts]\n"
      ],
      "metadata": {
        "id": "GQ_MeuwoTY0c"
      },
      "execution_count": null,
      "outputs": []
    },
    {
      "cell_type": "code",
      "source": [
        "from sklearn.metrics.pairwise import cosine_similarity\n",
        "\n",
        "text_to_idx = {text: i for i, text in enumerate(texts)}\n",
        "idx_to_text = {i: text for text, i in text_to_idx.items()}\n",
        "\n",
        "def most_similar(word, vectors, text_to_idx, topn=5):\n",
        "    idx = text_to_idx[word]\n",
        "    query = vectors[idx].reshape(1, -1)\n",
        "    sims = cosine_similarity(query, vectors)[0]\n",
        "    sorted_ix = np.argsort(-sims)\n",
        "    return [(idx_to_text[i], sims[i]) for i in sorted_ix[1:topn+1]]"
      ],
      "metadata": {
        "id": "VlUPyCwOTi-V"
      },
      "execution_count": null,
      "outputs": []
    },
    {
      "cell_type": "code",
      "source": [
        "most_similar(\"the cat sat on the rug\", vectors, text_to_idx)"
      ],
      "metadata": {
        "colab": {
          "base_uri": "https://localhost:8080/"
        },
        "id": "rIgf8M6K81cw",
        "outputId": "fa8353c7-1977-4d56-f2d4-e4172f15a4f3"
      },
      "execution_count": null,
      "outputs": [
        {
          "output_type": "execute_result",
          "data": {
            "text/plain": [
              "[('the dog sat on the rug', 0.96058524),\n",
              " ('the cat sat on the mat', 0.86226237),\n",
              " ('the boy saw the cat', 0.6825613),\n",
              " ('the cat played with the yarn', 0.6800222),\n",
              " ('the dog barked at the cat', 0.66579473)]"
            ]
          },
          "metadata": {},
          "execution_count": 38
        }
      ]
    },
    {
      "cell_type": "markdown",
      "source": [
        "\n",
        "\n",
        "---\n",
        "\n",
        "### 📌 2. Вектор через **TF-IDF + Word2Vec** (зважене середнє)\n",
        "\n",
        "Можна зважувати вектори слів за допомогою TF-IDF:  \n",
        "важливіші слова → більший вплив на підсумковий вектор.\n",
        "\n",
        "\n",
        "\n"
      ],
      "metadata": {
        "id": "edpeivtGTV9v"
      }
    },
    {
      "cell_type": "code",
      "source": [
        "from sklearn.feature_extraction.text import TfidfVectorizer\n",
        "\n",
        "# Створити TF-IDF словник\n",
        "tfidf = TfidfVectorizer()\n",
        "tfidf.fit(texts)\n",
        "\n",
        "def vectorize_weighted(text, model, tfidf):\n",
        "    word_weights = tfidf.transform([text])\n",
        "    words = tfidf.get_feature_names_out()\n",
        "    result = []\n",
        "    for i, word in enumerate(words):\n",
        "        if word in model:\n",
        "            weight = word_weights[0, i]\n",
        "            result.append(weight * model[word])\n",
        "    return np.mean(result, axis=0) if result else np.zeros(model.vector_size)"
      ],
      "metadata": {
        "id": "LXeftd3QVF3r"
      },
      "execution_count": null,
      "outputs": []
    },
    {
      "cell_type": "code",
      "source": [
        "vectors = [vectorize_weighted(text, wv, tfidf) for text in texts]\n",
        "\n",
        "most_similar(\"the cat sat on the rug\", vectors, text_to_idx)"
      ],
      "metadata": {
        "colab": {
          "base_uri": "https://localhost:8080/"
        },
        "id": "KG4l_zI_VJam",
        "outputId": "5c11891b-2415-4655-f432-ccbfe1db088e"
      },
      "execution_count": null,
      "outputs": [
        {
          "output_type": "execute_result",
          "data": {
            "text/plain": [
              "[('the dog sat on the rug', 0.9685047),\n",
              " ('the cat sat on the mat', 0.7885173),\n",
              " ('the cat played with the yarn', 0.55729187),\n",
              " ('the dog barked at the cat', 0.5550539),\n",
              " ('the boy saw the cat', 0.549106)]"
            ]
          },
          "metadata": {},
          "execution_count": 41
        }
      ]
    },
    {
      "cell_type": "markdown",
      "source": [
        "---\n",
        "\n",
        "### 📌 3. Спеціальні методи: **Doc2Vec** (вбудовано в `gensim`)\n",
        "\n",
        "Gensim має **Doc2Vec** — модель, яка **навчає окремий вектор для кожного документа**, а не просто середнє слів.\n",
        "\n",
        "✅ Плюси:\n",
        "- навчається з урахуванням порядку слів\n",
        "- кожен документ має окремий вектор\n",
        "\n",
        "Мінуси:\n",
        "- Маємо навчати з нуля ембедінги"
      ],
      "metadata": {
        "id": "EhE3fUKHVErB"
      }
    },
    {
      "cell_type": "code",
      "source": [
        "from gensim.models.doc2vec import Doc2Vec, TaggedDocument\n",
        "\n",
        "tagged_docs = [TaggedDocument(words=doc.split(), tags=[str(i)]) for i, doc in enumerate(texts)]\n",
        "model = Doc2Vec(tagged_docs, vector_size=100, window=2, min_count=1, epochs=100)\n",
        "\n",
        "# Отримати вектор документа\n",
        "vectors = [model.infer_vector(text.split()) for text in texts]"
      ],
      "metadata": {
        "id": "a0cSmjEbXnaI"
      },
      "execution_count": null,
      "outputs": []
    },
    {
      "cell_type": "code",
      "source": [
        "most_similar(\"the boy saw the cat\", vectors, text_to_idx)"
      ],
      "metadata": {
        "colab": {
          "base_uri": "https://localhost:8080/"
        },
        "id": "NWrP-06vX5zr",
        "outputId": "9b75bb7a-a1b4-45e6-e099-cb6ddf1cc01e"
      },
      "execution_count": null,
      "outputs": [
        {
          "output_type": "execute_result",
          "data": {
            "text/plain": [
              "[('she moved to paris last year', 0.95406634),\n",
              " ('he was born in berlin', 0.94774896),\n",
              " ('the cat played with the yarn', 0.9420394),\n",
              " ('bad people hurt others', 0.9413552),\n",
              " ('my dog is very loyal', 0.94117796)]"
            ]
          },
          "metadata": {},
          "execution_count": 44
        }
      ]
    },
    {
      "cell_type": "markdown",
      "source": [
        "Треба великий корпус документів, аби модель навчилась. Але навчати її, як бачите, легко."
      ],
      "metadata": {
        "id": "58pd1CrYYi_X"
      }
    },
    {
      "cell_type": "markdown",
      "source": [
        "\n",
        "---\n",
        "\n",
        "### 🤖 Який спосіб обрати?\n",
        "\n",
        "| Потреба                           | Рекомендований підхід        |\n",
        "|----------------------------------|------------------------------|\n",
        "| Швидко отримати вектор           | Середнє Word2Vec             |\n",
        "| Враховувати важливість слів      | TF-IDF + Word2Vec            |\n",
        "| Більш точні вектори документів   | Doc2Vec або BERT-like model  |\n"
      ],
      "metadata": {
        "id": "kTXcOS0NXms3"
      }
    }
  ],
  "metadata": {
    "kernelspec": {
      "display_name": "Python 3 (ipykernel)",
      "language": "python",
      "name": "python3"
    },
    "language_info": {
      "codemirror_mode": {
        "name": "ipython",
        "version": 3
      },
      "file_extension": ".py",
      "mimetype": "text/x-python",
      "name": "python",
      "nbconvert_exporter": "python",
      "pygments_lexer": "ipython3",
      "version": "3.12.0"
    },
    "colab": {
      "provenance": []
    }
  },
  "nbformat": 4,
  "nbformat_minor": 0
}