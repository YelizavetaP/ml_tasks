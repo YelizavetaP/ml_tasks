{
 "cells": [
  {
   "cell_type": "markdown",
   "id": "e4706595",
   "metadata": {},
   "source": [
    "Цікава стаття, в якій розглядається, як працюють RNN і чому вони ефективні + практичний приклад\n",
    "\"The Unreasonable Effectiveness of Recurrent Neural Networks\" by Andrey Karpathy: https://karpathy.github.io/2015/05/21/rnn-effectiveness/"
   ]
  }
 ],
 "metadata": {
  "language_info": {
   "name": "python"
  }
 },
 "nbformat": 4,
 "nbformat_minor": 5
}
