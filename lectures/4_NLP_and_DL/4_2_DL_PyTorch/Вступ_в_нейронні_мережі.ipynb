{
  "cells": [
    {
      "cell_type": "markdown",
      "metadata": {
        "_cell_guid": "b1076dfc-b9ad-4769-8c92-a6c4dae69d19",
        "_uuid": "8f2839f25d086af736a60e9eeb907d3b93b6e0e5",
        "id": "PYcXOV5qentm"
      },
      "source": [
        "# Вступ у Deep Learning, основи PyTorch та лінійна регресія з нуля\n",
        "\n",
        "## Що таке Deep Learning?\n",
        "Глибоке навчання (deep learning) є підмножиною машинного навчання, яка використовує штучні нейронні мережі (artificial neural networks - ANNs) для обробки та аналізу інформації. Нейронні мережі складаються з обчислювальних вузлів (computational nodes), які розташовані шарами в алгоритмах глибинного навчання. Кожен шар містить вхідний шар (input layer), вихідний шар (output layer) та прихований шар (hidden layer). Нейронна мережа отримує навчальні дані, які допомагають алгоритму навчатися та покращувати точність. Коли нейронна мережа складається з трьох або більше шарів, вона вважається «глибокою» (deep), звідси й назва — глибинне навчання.\n",
        "\n",
        "![](https://yangxiaozhou.github.io/assets/cnn-covid-19/deep-nn.jpg)\n",
        "\n",
        " Основна відмінність між deep learning та класичним машинним навчанням полягає в тому, що в глибинному навчанні моделі автоматично виявляють важливі характеристики з великих обсягів даних, тоді як у машинному навчанні часто необхідно вручну вибирати та інженерити ознаки.\n",
        "\n",
        "![](https://cdn.prod.website-files.com/5fb24a974499e90dae242d98/60f6fcbbeb0b8f57a7980a98_5f213db7c7763a9288759ad1_5eac2d0ef117c236e34cc0ff_DeepLearning.jpeg)\n",
        "\n",
        "Алгоритми глибокого навчання натхненні роботою людського мозку. Принципи, за якими працюють алгоритми глибинного навчання, частково моделюються на основі того, як функціонує людський мозок. У мозку є мільярди нейронів, які з'єднані між собою і працюють разом для обробки інформації. Кожен нейрон отримує сигнали від інших нейронів і від зовнішнього середовища (з допомогою дендридів), обробляє їх і передає результати далі. Цей процес схожий на те, як працюють штучні нейронні мережі у глибинному навчанні.\n",
        "\n",
        "![](https://idiotdeveloper.com/wp-content/uploads/2020/05/1_SJPacPhP4KDEB1AdhOFy_Q.png)\n",
        "\n",
        "Штучні нейронні мережі складаються з \"штучних нейронів\" або обчислювальних вузлів, які імітують поведінку біологічних нейронів. Вони передають інформацію один одному через шари мережі (вхідні, приховані та вихідні шари), схоже на те, як нейрони в мозку передають сигнали. Кожен шар обробляє інформацію, робить висновки і передає їх на наступний шар, що дозволяє мережі навчатися й ухвалювати рішення на основі даних.\n",
        "\n",
        "Хоча штучні нейронні мережі не є точною копією роботи людського мозку, вони використовують цю біологічну аналогію для вирішення складних завдань, таких як розпізнавання зображень чи мовлення.\n",
        "\n",
        "![](https://neuwritesd.org/wp-content/uploads/2015/10/visual_stream_small.png)\n",
        "\n",
        "\n",
        "## Основні типи нейронних мереж в глибокому навчанні\n",
        " Глибоке навчання використовується в багатьох завданнях, які ми сьогодні вважаємо штучним інтелектом, включаючи розпізнавання зображень і мови, виявлення об'єктів (object detection) і обробку природної мови. Глибоке навчання може виявляти нелінійні, складні кореляції в наборах даних, хоча вимагає більше навчальних даних і обчислювальних ресурсів, ніж класичне машинне навчання.\n",
        "\n",
        "Деякі загальні типи нейронних мереж, які використовуються для глибинного навчання:\n",
        "\n",
        "- **Прямі нейронні мережі** (feedforward neural networks, FF) є одними з найстаріших форм нейронних мереж, у яких дані проходять в одному напрямку через шари штучних нейронів, доки не буде досягнуто результату.\n",
        "\n",
        "- **Рекурентні нейронні мережі** (recurrent neural networks, RNN) відрізняються від прямих тим, що зазвичай використовують **послідовні дані** (time series data) або дані, які містять послідовності. Рекурентні нейронні мережі мають «пам’ять» про те, що сталося на попередньому шарі, яка впливає на результат поточного шару.\n",
        "\n",
        "- **Довготривала/короткотривала пам'ять** (long/short term memory, LSTM) — це вдосконалена форма RNN, яка може використовувати пам’ять для «запам’ятовування» того, що сталося в попередніх шарах.\n",
        "\n",
        "- **Згорткові нейронні мережі** (convolutional neural networks, CNN) є одними з найпоширеніших у сучасному штучному інтелекті. Вони використовують кілька окремих шарів (згортковий шар, потім шар пулінгу), які фільтрують різні частини зображення, перш ніж зібрати його назад у повністю з'єднаному шарі (fully connected layer).\n",
        "\n",
        "- **Генеративно-змагальні мережі** (generative adversarial networks, GAN) передбачають змагання двох нейронних мереж (генератора та дискримінатора) одна проти одної, що в підсумку покращує точність результату.\n",
        "\n",
        "\n"
      ]
    },
    {
      "cell_type": "markdown",
      "metadata": {
        "id": "wvNLh4Nrjy_T"
      },
      "source": [
        "## PyTorch\n",
        "\n",
        "PyTorch — один із найпопулярніших фреймворків для побудови моделей deep learning. Його гнучкість і зручність у використанні роблять його ідеальним інструментом для дослідників та інженерів. PyTorch підтримує динамічну обчислювальну графи (dynamic computational graphs), що дозволяє легко експериментувати з архітектурою моделей і адаптувати їх під конкретні завдання, від комп'ютерного зору до обробки природної мови.\n",
        "\n",
        "Цей урок, натхнений [ноутбуками FastAI](https://github.com/fastai/fastai_v1/tree/master/dev_nb)\n",
        "\n",
        "\n"
      ]
    },
    {
      "cell_type": "markdown",
      "metadata": {
        "id": "Mu4GV4OXfNsS"
      },
      "source": [
        "Аби встановити pytorch - найкраще скористатись інструкціями на [сайті PyTorch](https://pytorch.org/get-started/locally/)."
      ]
    },
    {
      "cell_type": "code",
      "execution_count": null,
      "metadata": {
        "colab": {
          "base_uri": "https://localhost:8080/"
        },
        "id": "bo4tM0Jmezr_",
        "outputId": "60f73020-b7a6-4f0f-9e6e-45cd0dc373e1"
      },
      "outputs": [
        {
          "name": "stdout",
          "output_type": "stream",
          "text": [
            "Requirement already satisfied: torch in /usr/local/lib/python3.10/dist-packages (2.4.1+cu121)\n",
            "Requirement already satisfied: filelock in /usr/local/lib/python3.10/dist-packages (from torch) (3.16.1)\n",
            "Requirement already satisfied: typing-extensions>=4.8.0 in /usr/local/lib/python3.10/dist-packages (from torch) (4.12.2)\n",
            "Requirement already satisfied: sympy in /usr/local/lib/python3.10/dist-packages (from torch) (1.13.3)\n",
            "Requirement already satisfied: networkx in /usr/local/lib/python3.10/dist-packages (from torch) (3.3)\n",
            "Requirement already satisfied: jinja2 in /usr/local/lib/python3.10/dist-packages (from torch) (3.1.4)\n",
            "Requirement already satisfied: fsspec in /usr/local/lib/python3.10/dist-packages (from torch) (2024.6.1)\n",
            "Requirement already satisfied: MarkupSafe>=2.0 in /usr/local/lib/python3.10/dist-packages (from jinja2->torch) (2.1.5)\n",
            "Requirement already satisfied: mpmath<1.4,>=1.1.0 in /usr/local/lib/python3.10/dist-packages (from sympy->torch) (1.3.0)\n"
          ]
        }
      ],
      "source": [
        "!pip install torch"
      ]
    },
    {
      "cell_type": "code",
      "execution_count": 1,
      "metadata": {
        "_cell_guid": "79c7e3d0-c299-4dcb-8224-4455121ee9b0",
        "_uuid": "d629ff2d2480ee46fbb7e2d37f6b5fab8052498a",
        "id": "7TDkWwGjentp"
      },
      "outputs": [],
      "source": [
        "# Імпорт Numpy & PyTorch\n",
        "import numpy as np\n",
        "import torch"
      ]
    },
    {
      "cell_type": "markdown",
      "metadata": {
        "_uuid": "34f006aa7eb4bbc683c39b7059021da900180908",
        "id": "5YP40D1Sentq"
      },
      "source": [
        "## Тензори (Tensors) та градієнти (Gradients)\n",
        "\n",
        "Тензор - це число, вектор, матриця або будь-який n-вимірний масив."
      ]
    },
    {
      "cell_type": "code",
      "execution_count": null,
      "metadata": {
        "_uuid": "e22be3f71825128f990e78959fa00d1331d344e4",
        "id": "OYO-E0W6entq"
      },
      "outputs": [],
      "source": [
        "# Створюємо тензори\n",
        "x = torch.tensor(3.)\n",
        "w = torch.tensor(4., requires_grad=True)\n",
        "b = torch.tensor(5., requires_grad=True)"
      ]
    },
    {
      "cell_type": "code",
      "execution_count": null,
      "metadata": {
        "_uuid": "3cb90767ff9bc2c12b72548b1a430984241d4910",
        "colab": {
          "base_uri": "https://localhost:8080/"
        },
        "id": "nDN03Mqoentr",
        "outputId": "664aed7c-03eb-4dc0-9e7d-09ad8a4e2e8d"
      },
      "outputs": [
        {
          "name": "stdout",
          "output_type": "stream",
          "text": [
            "tensor(3.)\n",
            "tensor(4., requires_grad=True)\n",
            "tensor(5., requires_grad=True)\n"
          ]
        }
      ],
      "source": [
        "print(x)\n",
        "print(w)\n",
        "print(b)"
      ]
    },
    {
      "cell_type": "markdown",
      "metadata": {
        "_uuid": "66a939ee0ec472705acd3f23654bc3ccea1cc8b4",
        "id": "x4f2WLunentr"
      },
      "source": [
        "Ми можемо комбінувати тензори за допомогою звичайних арифметичних операцій."
      ]
    },
    {
      "cell_type": "code",
      "execution_count": null,
      "metadata": {
        "_uuid": "0bd8fdeb252742e3449b7a2f08bcb188645dc9cf",
        "colab": {
          "base_uri": "https://localhost:8080/"
        },
        "id": "n9C9GkP-entr",
        "outputId": "fff42fd4-b6f5-42e3-d134-a827f821cc14"
      },
      "outputs": [
        {
          "name": "stdout",
          "output_type": "stream",
          "text": [
            "tensor(17., grad_fn=<AddBackward0>)\n"
          ]
        }
      ],
      "source": [
        "# Арифметичні операції\n",
        "y = w * x + b\n",
        "print(y)"
      ]
    },
    {
      "cell_type": "markdown",
      "metadata": {
        "_uuid": "64e0f175c65c3e875c671c40e4a9bf495e30b772",
        "id": "oZncPw1gents"
      },
      "source": [
        "Що робить PyTorch особливим, так це те, що ми можемо автоматично обчислювати похідну `y` по відношенню до тензорів, у яких `requires_grad` (вимагає градієнта) встановлено на `True`, тобто `w` та `b`."
      ]
    },
    {
      "cell_type": "code",
      "execution_count": null,
      "metadata": {
        "_uuid": "6c98996f00294f99eb11989b5a9ecdbda31864e1",
        "id": "ewyAUe00ents"
      },
      "outputs": [],
      "source": [
        "# Обчислюємо градієнти\n",
        "y.backward()"
      ]
    },
    {
      "cell_type": "code",
      "execution_count": null,
      "metadata": {
        "_uuid": "47a62ffb26a76329e511f9f063c4c26cc6a7dc21",
        "colab": {
          "base_uri": "https://localhost:8080/"
        },
        "id": "lESwU8dvents",
        "outputId": "f67323c9-ba3f-431d-f768-8a836de7cc05"
      },
      "outputs": [
        {
          "name": "stdout",
          "output_type": "stream",
          "text": [
            "dy/dw: tensor(3.)\n",
            "dy/db: tensor(1.)\n"
          ]
        }
      ],
      "source": [
        "# Виводимо градієнти\n",
        "print('dy/dw:', w.grad)\n",
        "print('dy/db:', b.grad)"
      ]
    },
    {
      "cell_type": "markdown",
      "metadata": {
        "id": "TLE4ZIfrqjsU"
      },
      "source": [
        "### Детальніше про параметр `requires_grad=True`\n",
        "\n",
        "Використання параметра `requires_grad=True` особливо важливо для процесу **backpropagation** (зворотного поширення помилки) у нейронних мережах.\n",
        "\n",
        "![](https://editor.analyticsvidhya.com/uploads/18870backprop2.png)\n",
        "\n",
        "#### Що це означає на практиці?\n",
        "Коли ви створюєте тензор з параметром `requires_grad=True`, PyTorch починає відстежувати всі операції з цим тензором, щоб потім, під час зворотного поширення, обчислити градієнти відносно цього тензора. Це дозволяє автоматично обчислювати похідні для навчання моделі, використовуючи оптимізатори для оновлення ваг на основі градієнтів.\n",
        "\n",
        "Розглянемо ще один приклад:\n",
        "\n"
      ]
    },
    {
      "cell_type": "code",
      "execution_count": null,
      "metadata": {
        "colab": {
          "base_uri": "https://localhost:8080/"
        },
        "id": "ohVtp-1QqsWN",
        "outputId": "df40f326-0203-494b-a5b2-17dde48034b5"
      },
      "outputs": [
        {
          "name": "stdout",
          "output_type": "stream",
          "text": [
            "tensor([ 8., 10.])\n"
          ]
        }
      ],
      "source": [
        "# Створюємо тензор з requires_grad=True\n",
        "x = torch.tensor([2.0, 3.0], requires_grad=True)\n",
        "\n",
        "# Робимо кілька операцій\n",
        "y = x + 2\n",
        "z = y ** 2 # z = z(y) = z(y(x)) = y**2 = (x+2)**2 = x**2 + 2*2*x + 4\n",
        "result = z.sum()\n",
        "\n",
        "# Викликаємо зворотне поширення\n",
        "result.backward()\n",
        "\n",
        "# Отримуємо градієнти\n",
        "print(x.grad)  # це похідні функції result по x"
      ]
    },
    {
      "cell_type": "markdown",
      "metadata": {
        "id": "eE7_oUBX0zI_"
      },
      "source": [
        "dz(x)/dx = 2*x + 4\n",
        "\n",
        "x==2: 2*2 + 4 = 8\n",
        "\n",
        "x==3: 2*3 + 4 = 10"
      ]
    },
    {
      "cell_type": "markdown",
      "metadata": {
        "id": "SuRoGOHmqroQ"
      },
      "source": [
        "\n",
        "\n",
        "### Що відбувається:\n",
        "1. `x` — це тензор, для якого треба обчислювати градієнти (`requires_grad=True`).\n",
        "2. PyTorch автоматично будує **динамічний обчислювальний граф** (dynamic computational graph), відстежуючи всі операції з `x`.\n",
        "3. Функція `backward()` обчислює градієнти для кожного тензора, який має `requires_grad=True`.\n",
        "4. Градієнти зберігаються в атрибуті `grad` тензора `x`.\n",
        "\n",
        "Розберемося ще з математикою операцій.\n",
        "\n",
        "### По коду\n",
        "1. Ми створюємо тензор `x = torch.tensor([2.0, 3.0], requires_grad=True)`.\n",
        "2. Ми додаємо до `x` число 2:  \n",
        "   $ y = x + 2 = [4.0, 5.0] $.\n",
        "3. Потім підносимо `y` до квадрату:  \n",
        "   $ z = y^2 = [4.0^2, 5.0^2] = [16.0, 25.0] $.\n",
        "4. Ми знаходимо суму:  \n",
        "   $ result = 16.0 + 25.0 = 41.0 $.\n",
        "\n",
        "### Далі викликаємо `result.backward()`, щоб обчислити градієнти.\n",
        "\n",
        "Градієнти обчислюються через похідні функції `result` за значенням `x`.\n",
        "\n",
        "Похідна від функції $ f(x) = (x + 2)^2 $ виглядає так:\n",
        "\n",
        "1. Знайдемо похідну для кожного елемента $ x $:\n",
        "   $$\n",
        "   \\frac{d}{dx} (x + 2)^2 = 2 \\cdot (x + 2)\n",
        "   $$\n",
        "   \n",
        "2. Для першого елемента $ x = 2 $:\n",
        "   $$\n",
        "   \\frac{d}{dx} = 2 \\cdot (2 + 2) = 2 \\cdot 4 = 8\n",
        "   $$\n",
        "   \n",
        "3. Для другого елемента $ x = 3 $:\n",
        "   $$\n",
        "   \\frac{d}{dx} = 2 \\cdot (3 + 2) = 2 \\cdot 5 = 10\n",
        "   $$\n",
        "\n",
        "Отже, градієнти для тензора `x` будуть `[8.0, 10.0]`, що ви й бачите в результаті.\n",
        "\n",
        "Ці градієнти вказують, як зміна вхідного тензора `x` вплине на результат функції.\n",
        "\n",
        "\n",
        "### Коли **requires_grad=True** корисне?\n",
        "- Під час навчання моделей, коли потрібно оновлювати ваги на основі градієнтів.\n",
        "- У випадках, коли потрібно робити автоматичне диференціювання функцій для оптимізації.\n",
        "\n",
        "Якщо `requires_grad=False` (що є значенням за замовчуванням), для цього тензора градієнти не обчислюватимуться, і PyTorch не буде витрачати ресурси на побудову обчислювального графа.\n",
        "\n",
        "### Додаткові матеріали\n",
        "Детальніше про те, як працює backpropagation:\n",
        "- [конспект зі Stanford про BackProp](https://cs231n.stanford.edu/slides/2024/lecture_4.pdf)\n",
        "- [візуальний гайд](https://xnought.github.io/backprop-explainer/)\n",
        "- [відео-пояснення](https://youtu.be/IN2XmBhILt4?si=eZqFtVDJie3jmspx)\n",
        "\n"
      ]
    },
    {
      "cell_type": "markdown",
      "metadata": {
        "_uuid": "0b65b6bb4d15127b1d51f09abf616cfd29fa48b4",
        "id": "pBvmONM9entt"
      },
      "source": [
        "## Формулювання проблеми"
      ]
    },
    {
      "cell_type": "markdown",
      "metadata": {
        "_uuid": "c1beecda01bc332596edd193cade30006e3f6cbf",
        "id": "yp8d3S1Xentt"
      },
      "source": [
        "Ми створимо модель, яка прогнозує врожайність яблук та апельсинів (*цільові змінні*), аналізуючи середню температуру, опади та вологість (*вхідні змінні або ознаки*) в регіоні. Ось навчальні дані:\n",
        "\n",
        "<img src=\"https://i.imgur.com/lBguUV9.png\" width=\"500\" />\n",
        "\n",
        "У моделі **лінійної регресії** (linear regression) кожна цільова змінна оцінюється як зважена сума вхідних змінних, зсунута на деяку константу, відому як зсув (bias):\n",
        "\n",
        "```\n",
        "yeild_apple  = w11 * temp + w12 * rainfall + w13 * humidity + b1\n",
        "yeild_orange = w21 * temp + w22 * rainfall + w23 * humidity + b2\n",
        "```\n",
        "\n",
        "Візуально це означає, що врожайність яблук є лінійною або площинною функцією температури, опадів та вологості.\n",
        "\n",
        "<img src=\"https://i.imgur.com/mtkR2lB.png\" width=\"540\" >\n",
        "\n",
        "Запишемо також нашу формулу у матричному форматі\n",
        "\n",
        "Нехай:\n",
        "\n",
        "- $ Y = \\begin{bmatrix} \\text{yield_apple} \\\\ \\text{yield_orange} \\end{bmatrix} $ — вектор виходів (врожайність яблук та апельсинів),\n",
        "- $ W = \\begin{bmatrix} w_{11} & w_{12} & w_{13} \\\\ w_{21} & w_{22} & w_{23} \\end{bmatrix} $ — матриця ваг (коефіцієнтів моделі),\n",
        "- $ X = \\begin{bmatrix} \\text{temp} \\\\ \\text{rainfall} \\\\ \\text{humidity} \\end{bmatrix} $ — вектор вхідних змінних (температура, кількість опадів, вологість),\n",
        "- $ B = \\begin{bmatrix} b_1 \\\\ b_2 \\end{bmatrix} $ — вектор зміщень (bias).\n",
        "\n",
        "Тоді матричне рівняння буде:\n",
        "\n",
        "$$\n",
        "Y = W \\cdot X + B = X \\cdot W^T + B\n",
        "$$\n",
        "\n",
        "Або більш детально:\n",
        "\n",
        "$$\n",
        "\\begin{bmatrix} \\text{yield_apple} \\\\ \\text{yield_orange} \\end{bmatrix} = \\begin{bmatrix} w_{11} & w_{12} & w_{13} \\\\ w_{21} & w_{22} & w_{23} \\end{bmatrix} \\cdot \\begin{bmatrix} \\text{temp} \\\\ \\text{rainfall} \\\\ \\text{humidity} \\end{bmatrix} + \\begin{bmatrix} b_1 \\\\ b_2 \\end{bmatrix}\n",
        "$$\n",
        "\n",
        "Ця форма показує, як обчислюється кожний результат (врожайність) через лінійну комбінацію ваг і вхідних змінних з додаванням зміщення.\n",
        "\n",
        "**Наша мета**: Знайти пасучий набір *ваг* (weights) та *зсувів* (biases) за допомогою навчальних даних, щоб зробити точні прогнози."
      ]
    },
    {
      "cell_type": "markdown",
      "metadata": {
        "_uuid": "c24b8195c0e9c6e8e13e169d264484f1f9b3b1ae",
        "id": "rpve_1Bcentt"
      },
      "source": [
        "## Навчальні дані\n",
        "Навчальні дані можна представити за допомогою 2 матриць (inputs та targets), кожна з яких має один рядок на спостереження та один стовпець на змінну."
      ]
    },
    {
      "cell_type": "code",
      "execution_count": null,
      "metadata": {
        "_uuid": "dfda99005fc6daf3a49ae1cdd427ccac0aa446b1",
        "id": "UpWmZrsyentt"
      },
      "outputs": [],
      "source": [
        "# Вхідні дані (temp, rainfall, humidity)\n",
        "inputs = np.array([[73, 67, 43],\n",
        "                   [91, 88, 64],\n",
        "                   [87, 134, 58],\n",
        "                   [102, 43, 37],\n",
        "                   [69, 96, 70]], dtype='float32')"
      ]
    },
    {
      "cell_type": "code",
      "execution_count": null,
      "metadata": {
        "_uuid": "bf56faf74f7e29c9ed7523308718a9ab1acc0667",
        "id": "cBi2BDqOentt"
      },
      "outputs": [],
      "source": [
        "# Таргети (apples, oranges)\n",
        "targets = np.array([[56, 70],\n",
        "                    [81, 101],\n",
        "                    [119, 133],\n",
        "                    [22, 37],\n",
        "                    [103, 119]], dtype='float32')"
      ]
    },
    {
      "cell_type": "markdown",
      "metadata": {
        "_uuid": "70d48f83ae4fce7aba7dd78fd58dddc77c598bfd",
        "id": "zkhhyk4lentu"
      },
      "source": [
        "Перед тим, як побудувати модель, нам потрібно перетворити вхідні дані та цілі на тензори (tensors) PyTorch."
      ]
    },
    {
      "cell_type": "code",
      "execution_count": null,
      "metadata": {
        "_uuid": "931c1bad8788e607fa100d4338e1b1fe120e2339",
        "colab": {
          "base_uri": "https://localhost:8080/"
        },
        "id": "VBE6NQvkentu",
        "outputId": "eed5c03c-bf66-40c8-a210-6fb3fa8dfb4e"
      },
      "outputs": [
        {
          "name": "stdout",
          "output_type": "stream",
          "text": [
            "tensor([[ 73.,  67.,  43.],\n",
            "        [ 91.,  88.,  64.],\n",
            "        [ 87., 134.,  58.],\n",
            "        [102.,  43.,  37.],\n",
            "        [ 69.,  96.,  70.]])\n",
            "tensor([[ 56.,  70.],\n",
            "        [ 81., 101.],\n",
            "        [119., 133.],\n",
            "        [ 22.,  37.],\n",
            "        [103., 119.]])\n"
          ]
        }
      ],
      "source": [
        "# Перетворення вхідних даних і цілей у тензори\n",
        "inputs = torch.from_numpy(inputs)\n",
        "targets = torch.from_numpy(targets)\n",
        "print(inputs)\n",
        "print(targets)"
      ]
    },
    {
      "cell_type": "markdown",
      "metadata": {
        "_uuid": "652647cd90bd0784ec4dc53472410f7358ee18c9",
        "id": "izyVEa6Kentu"
      },
      "source": [
        "## Модель лінійної регресії (from scratch)\n",
        "\n",
        "*Ваги* (weights) та *зсуви* (biases) також можуть бути представлені у вигляді матриць, ініціалізованих випадковими значеннями. Перший рядок `w` та перший елемент `b` використовуються для прогнозування першої цільової змінної, тобто врожайності яблук, а аналогічно другий - для апельсинів."
      ]
    },
    {
      "cell_type": "code",
      "execution_count": null,
      "metadata": {
        "_uuid": "6f788ae559355b3f01667be1554a5d2bdcade8db",
        "colab": {
          "base_uri": "https://localhost:8080/"
        },
        "id": "TLEjxyBHentu",
        "outputId": "e06d0d27-3387-4f33-fafd-86bdc6b8919e"
      },
      "outputs": [
        {
          "name": "stdout",
          "output_type": "stream",
          "text": [
            "tensor([[-0.8019, -0.2081, -0.1651],\n",
            "        [ 0.8481,  1.8359,  0.7972]], requires_grad=True)\n",
            "tensor([0.5586, 0.5369], requires_grad=True)\n"
          ]
        }
      ],
      "source": [
        "# Weights and biases\n",
        "w = torch.randn(2, 3, requires_grad=True)\n",
        "b = torch.randn(2, requires_grad=True)\n",
        "print(w)\n",
        "print(b)"
      ]
    },
    {
      "cell_type": "markdown",
      "metadata": {
        "_uuid": "3579a065997cae41f7f504916b6bc07878ac768c",
        "id": "ZZ2ZhP-hentu"
      },
      "source": [
        "*Модель* - це просто функція, яка виконує множення матриць вхідних даних `x` та ваг (weights) `w` (транспонованих) і додає зсув (bias) `b` (реплікований для кожного спостереження)."
      ]
    },
    {
      "cell_type": "code",
      "execution_count": null,
      "metadata": {
        "_uuid": "b1119f5ae9688a5f31dba438c7f78ca382deb7e3",
        "id": "kQ8aLc4Qentu"
      },
      "outputs": [],
      "source": [
        "# Визначаємо модель\n",
        "def model(x, w, b):\n",
        "    return x @ w.t() + b"
      ]
    },
    {
      "cell_type": "markdown",
      "metadata": {
        "id": "QDcCaBlLSr1V"
      },
      "source": [
        "Цей код визначає модель лінійної регресії, де реалізується матричне множення вхідних даних на транспоновану матрицю ваг, з подальшим додаванням зміщення.\n",
        "\n",
        "**Оператор `@`:**\n",
        "У Python оператор `@` використовується для матричного множення. У цьому випадку це означає, що ми множимо вхідні дані `x` на матрицю ваг `w`.\n",
        "\n",
        "**`w.t()`**:\n",
        "Це виклик методу `.t()`, який транспонує матрицю ваг `w`. Транспонування змінює розміри матриці, що необхідно для правильного матричного множення. Наприклад, якщо `w` має розміри (2, 3), то після транспонування воно матиме розміри (3, 2), що дозволяє коректно перемножити на вектор або матрицю `x`.\n"
      ]
    },
    {
      "cell_type": "markdown",
      "metadata": {
        "_uuid": "8e0a4644cb1c4ed68a3bcf67a8a156341ac7c853",
        "id": "4weGJ4krentu"
      },
      "source": [
        "Матриця, отримана шляхом передачі вхідних даних до моделі, є набором прогнозів для цільових змінних."
      ]
    },
    {
      "cell_type": "code",
      "execution_count": null,
      "metadata": {
        "_uuid": "b042a3cf8f16f4c4380cccbac9d0892719c24190",
        "colab": {
          "base_uri": "https://localhost:8080/"
        },
        "id": "rveODWosentv",
        "outputId": "93805e85-600e-4c07-9abb-04844a36693b"
      },
      "outputs": [
        {
          "name": "stdout",
          "output_type": "stream",
          "text": [
            "tensor([[ -79.0244,  219.7365],\n",
            "        [-101.2965,  290.2986],\n",
            "        [-106.6718,  366.5751],\n",
            "        [ -96.2941,  195.4864],\n",
            "        [ -86.3102,  291.1108]], grad_fn=<AddBackward0>)\n"
          ]
        }
      ],
      "source": [
        "# Генеруємо передбачення\n",
        "preds = model(inputs, w, b)\n",
        "print(preds)"
      ]
    },
    {
      "cell_type": "code",
      "execution_count": null,
      "metadata": {
        "_uuid": "5551ef933de7902c8b5a38ae3d8e4795cb244f38",
        "colab": {
          "base_uri": "https://localhost:8080/"
        },
        "id": "6DUDVri-entv",
        "outputId": "c052ac84-23c1-4543-df37-03ea83a67276"
      },
      "outputs": [
        {
          "name": "stdout",
          "output_type": "stream",
          "text": [
            "tensor([[ 56.,  70.],\n",
            "        [ 81., 101.],\n",
            "        [119., 133.],\n",
            "        [ 22.,  37.],\n",
            "        [103., 119.]])\n"
          ]
        }
      ],
      "source": [
        "# Порівняємо з таргетами\n",
        "print(targets)"
      ]
    },
    {
      "cell_type": "markdown",
      "metadata": {
        "_uuid": "2c4a9cf2b3c9152f2f832176bce9a87381e2419c",
        "id": "k6hqPViqentv"
      },
      "source": [
        "Оскільки ми почали з випадкових ваг (weights) і зсувів (biases), модель не дуже добре справляється з прогнозуванням цільових змінних."
      ]
    },
    {
      "cell_type": "markdown",
      "metadata": {
        "_uuid": "edaae7266f5d47c5e970e1438a812f10d8d35fb4",
        "id": "3NB5kfx8entv"
      },
      "source": [
        "## Функція втрат\n",
        "\n",
        "Ми вже знайомі з тим, що таке фукнція втрат.\n",
        "\n",
        "Ми можемо порівняти прогнози з фактичними цілями, використовуючи наступний метод:\n",
        "* Обчислимо різницю між двома матрицями (`preds` і `targets`).\n",
        "* Піднесемо до квадрату всіх елементів матриці різниці, щоб усунути негативні значення.\n",
        "* Обчислимо середнє значення елементів в отриманій матриці.\n",
        "\n",
        "Результат - це одне число, відоме як **середня квадратична помилка** (mean squared error, MSE)."
      ]
    },
    {
      "cell_type": "code",
      "execution_count": null,
      "metadata": {
        "_uuid": "dbf5bca8cbf2a3831089b454c70469e3748e9682",
        "id": "xIMLhrfsentv"
      },
      "outputs": [],
      "source": [
        "# MSE loss\n",
        "def mse(t1, t2):\n",
        "    diff = t1 - t2\n",
        "    return torch.sum(diff * diff) / diff.numel()"
      ]
    },
    {
      "cell_type": "code",
      "execution_count": null,
      "metadata": {
        "_uuid": "90da6779aad81608c40cdca77c3c04b68a815c11",
        "colab": {
          "base_uri": "https://localhost:8080/"
        },
        "id": "67EGJNgWentv",
        "outputId": "89220137-286b-45d9-a01c-60df0a0e508c"
      },
      "outputs": [
        {
          "name": "stdout",
          "output_type": "stream",
          "text": [
            "tensor(31977.5586, grad_fn=<DivBackward0>)\n"
          ]
        }
      ],
      "source": [
        "# Обчислимо loss\n",
        "loss = mse(preds, targets)\n",
        "print(loss)"
      ]
    },
    {
      "cell_type": "markdown",
      "metadata": {
        "_uuid": "3ab3acadf389f30430b55c26c7979dcffaa974a5",
        "id": "Y4985xoKentv"
      },
      "source": [
        "Ми отримали наші **втрати** (loss), тобто міру того, наскільки погано модель передбачає цільові змінні. Памʼятаємо, що чим нижча втрата, тим краща модель."
      ]
    },
    {
      "cell_type": "markdown",
      "metadata": {
        "_uuid": "c61acf9c3cff205d769fc52ed3b1b76f5ae66233",
        "id": "86sK17T6entv"
      },
      "source": [
        "## Обчислення градієнтів\n",
        "\n",
        "![](https://i.sstatic.net/7Ui1C.png)\n",
        "\n",
        "З PyTorch ми можемо автоматично обчислити градієнт або похідну `loss` (втрати) відносно ваг (weights) і зсувів (biases), оскільки у них встановлено `requires_grad` в `True`."
      ]
    },
    {
      "cell_type": "code",
      "execution_count": null,
      "metadata": {
        "_uuid": "ef66710c6ef1944567c4dc033e1ca316f35490ab",
        "id": "LOjVlX48entw"
      },
      "outputs": [],
      "source": [
        "# Обчислимо gradients\n",
        "loss.backward()"
      ]
    },
    {
      "cell_type": "code",
      "execution_count": null,
      "metadata": {
        "id": "KveQeW99sfA7"
      },
      "outputs": [],
      "source": []
    },
    {
      "cell_type": "markdown",
      "metadata": {
        "_uuid": "6504cddcfb4bfb0817bf03ef460f08f3145a9091",
        "id": "T3pb0FEDentw"
      },
      "source": [
        "Градієнти зберігаються у властивості `.grad` відповідних тензорів."
      ]
    },
    {
      "cell_type": "code",
      "execution_count": null,
      "metadata": {
        "_uuid": "5943d1cef604a178c95f5e8d255519d42d9f9982",
        "colab": {
          "base_uri": "https://localhost:8080/"
        },
        "id": "lGiYPLV-entw",
        "outputId": "e4100c65-9890-4ac0-f350-2695f6b5ee33"
      },
      "outputs": [
        {
          "name": "stdout",
          "output_type": "stream",
          "text": [
            "tensor([[-0.8019, -0.2081, -0.1651],\n",
            "        [ 0.8481,  1.8359,  0.7972]], requires_grad=True)\n",
            "tensor([[-14241.5215, -15717.8330,  -9638.1152],\n",
            "        [ 15303.8467,  16265.4502,  10002.5791]])\n"
          ]
        }
      ],
      "source": [
        "# Градієнти вагів\n",
        "print(w)\n",
        "print(w.grad)"
      ]
    },
    {
      "cell_type": "code",
      "execution_count": null,
      "metadata": {
        "_uuid": "47278e318b156c6a5812e0842dbc4164c8362562",
        "colab": {
          "base_uri": "https://localhost:8080/"
        },
        "id": "Y9emLgTDentw",
        "outputId": "298aed0e-5303-4338-845e-139b63db44d5"
      },
      "outputs": [
        {
          "name": "stdout",
          "output_type": "stream",
          "text": [
            "tensor([0.5586, 0.5369], requires_grad=True)\n",
            "tensor([-170.1194,  180.6415])\n"
          ]
        }
      ],
      "source": [
        "# Gradients for bias\n",
        "print(b)\n",
        "print(b.grad)"
      ]
    },
    {
      "cell_type": "markdown",
      "metadata": {
        "_uuid": "466dc3a2cc2d4bd2c10ae4cf59cf4627b5cc9c75",
        "id": "ptntWxjZentw"
      },
      "source": [
        "Ключове усвідомлення з математичного аналізу полягає в тому, що градієнт вказує на швидкість зміни втрат, або нахил функції втрат відносно ваг (weights) і зсувів (biases).\n",
        "\n",
        "* Якщо елемент градієнта **позитивний**,\n",
        "    * **збільшення** значення елемента трохи **збільшить** втрати.\n",
        "    * **зменшення** значення елемента трохи **зменшить** втрати.\n",
        "\n",
        "<img src=\"https://i.imgur.com/2H4INoV.png\" width=\"400\" />\n",
        "\n",
        "* Якщо елемент градієнта **негативний**,\n",
        "    * **збільшення** значення елемента трохи **зменшить** втрати.\n",
        "    * **зменшення** значення елемента трохи **збільшить** втрати.\n",
        "\n",
        "<img src=\"https://i.imgur.com/h7E2uAv.png\" width=\"400\" />    \n",
        "\n",
        "Збільшення або зменшення пропорційне значенню градієнта."
      ]
    },
    {
      "cell_type": "markdown",
      "metadata": {
        "_uuid": "35ed968bfc135bd44eeb100ae401d0628fbc5c63",
        "id": "teI9mMI1entw"
      },
      "source": [
        "Нарешті, ми обнулимо градієнти перед продовженням, оскільки PyTorch накопичує градієнти."
      ]
    },
    {
      "cell_type": "code",
      "execution_count": null,
      "metadata": {
        "_uuid": "5f02dc376c21857d4e545d98413952c5ac73039b",
        "colab": {
          "base_uri": "https://localhost:8080/"
        },
        "id": "7M5Y8vaVentw",
        "outputId": "9fb7700d-14bc-430c-9a38-0ccc249661e6"
      },
      "outputs": [
        {
          "name": "stdout",
          "output_type": "stream",
          "text": [
            "tensor([[0., 0., 0.],\n",
            "        [0., 0., 0.]])\n",
            "tensor([0., 0.])\n"
          ]
        }
      ],
      "source": [
        "w.grad.zero_()\n",
        "b.grad.zero_()\n",
        "print(w.grad)\n",
        "print(b.grad)"
      ]
    },
    {
      "cell_type": "markdown",
      "metadata": {
        "_uuid": "5501c66c9729c4954e9b798a0634a9d84487e639",
        "id": "UCZzsIm5entw"
      },
      "source": [
        "## Налаштування ваг і зсувів за допомогою градієнтного спуску\n",
        "\n",
        "Ми зменшимо втрати та покращимо нашу модель, використовуючи алгоритм градієнтного спуску (gradient descent), який має такі кроки:\n",
        "\n",
        "1. Генерація прогнозів\n",
        "2. Обчислення втрат\n",
        "3. Обчислення градієнтів (gradients) відносно ваг і зсувів\n",
        "4. Налаштування ваг шляхом віднімання невеликої величини, пропорційної градієнту\n",
        "5. Скидання градієнтів на нуль"
      ]
    },
    {
      "cell_type": "code",
      "execution_count": null,
      "metadata": {
        "_uuid": "ef0d2bd2d9c5acb60992e238439ee00c2223319f",
        "colab": {
          "base_uri": "https://localhost:8080/"
        },
        "id": "iX1A97wBentw",
        "outputId": "4338012a-8890-448a-9b71-18b62f0182ba"
      },
      "outputs": [
        {
          "name": "stdout",
          "output_type": "stream",
          "text": [
            "tensor([[ -79.0244,  219.7365],\n",
            "        [-101.2965,  290.2986],\n",
            "        [-106.6718,  366.5751],\n",
            "        [ -96.2941,  195.4864],\n",
            "        [ -86.3102,  291.1108]], grad_fn=<AddBackward0>)\n"
          ]
        }
      ],
      "source": [
        "# Генеруємо передбачення\n",
        "preds = model(inputs, w, b)\n",
        "print(preds)"
      ]
    },
    {
      "cell_type": "code",
      "execution_count": null,
      "metadata": {
        "_uuid": "302ee8226da4ee5d0dad137c638573a79f8abded",
        "colab": {
          "base_uri": "https://localhost:8080/"
        },
        "id": "XPk6lOjxent0",
        "outputId": "56815f76-03f0-4a64-b54f-da90ab08a2dd"
      },
      "outputs": [
        {
          "name": "stdout",
          "output_type": "stream",
          "text": [
            "tensor(31977.5586, grad_fn=<DivBackward0>)\n"
          ]
        }
      ],
      "source": [
        "# Обчислюємо loss\n",
        "loss = mse(preds, targets)\n",
        "print(loss)"
      ]
    },
    {
      "cell_type": "code",
      "execution_count": null,
      "metadata": {
        "_uuid": "01c596aecf87e4670033ddd4ed36e26b97e2f9ab",
        "id": "ehR2iazyent1"
      },
      "outputs": [],
      "source": [
        "# Обчислюємо градієнти\n",
        "loss.backward()"
      ]
    },
    {
      "cell_type": "code",
      "execution_count": null,
      "metadata": {
        "_uuid": "ec1e2bdc8f91523e556fad55ee8c01eb5431ae24",
        "id": "sQRshl9fent1"
      },
      "outputs": [],
      "source": [
        "# Оновлюємо ваги і ресетимо градієнти\n",
        "with torch.no_grad():\n",
        "    w -= w.grad * 1e-5\n",
        "    b -= b.grad * 1e-5\n",
        "    w.grad.zero_()\n",
        "    b.grad.zero_()"
      ]
    },
    {
      "cell_type": "markdown",
      "metadata": {
        "id": "MUBom6vhUdod"
      },
      "source": [
        "Конструкція `with torch.no_grad():` використовується в PyTorch для відключення автоматичного відстеження градієнтів у контексті виконуваних операцій. Вона потрібна для випадків, коли ви не хочете, щоб PyTorch зберігав інформацію про операції для обчислення градієнтів, наприклад, коли ви оновлюєте ваги моделі вручну або робите інші обчислення, що не потребують диференціювання.\n",
        "\n",
        "### Пояснення:\n",
        "\n",
        "1. **Оновлення ваг:**\n",
        "   У цьому фрагменті коду виконується ручне оновлення ваг (`w` і `b`) після обчислення градієнтів. У процесі навчання моделі ви спочатку обчислюєте градієнти для ваг, а потім використовуєте ці градієнти для оновлення самих ваг. Оскільки операції оновлення ваг не повинні брати участь у диференціюванні (вони не впливають на зворотне поширення помилки), відстежувати градієнти в цьому процесі немає сенсу.\n",
        "\n",
        "   Тому конструкція `with torch.no_grad():` забезпечує, що операції, які виконуються всередині цього блоку (оновлення ваг і зміщень), **не будуть записані в обчислювальний граф**, а градієнти для цих операцій не будуть обчислюватися.\n",
        "\n",
        "2. **Обнулення градієнтів:**\n",
        "   Після оновлення ваг, градієнти для `w` і `b` очищаються методом `.zero_()`, щоб вони не накопичувалися на наступних етапах навчання. Це важливо, оскільки кожного разу, коли ви викликаєте `.backward()` для обчислення градієнтів, значення градієнтів додаються до вже існуючих. Якщо їх не обнуляти, старі градієнти впливатимуть на нові значення.\n",
        "\n",
        "### Чому це важливо:\n",
        "Без використання `torch.no_grad()` операції оновлення ваг також включалися б в обчислювальний граф, що призвело б до непотрібних витрат пам'яті та ресурсів. Це не тільки вповільнило б обчислення, але й могло б викликати небажані побічні ефекти під час навчання.\n",
        "\n",
        "Отже, блок `with torch.no_grad():` гарантує, що операції оновлення ваг відбуваються **ефективно** і без залучення градієнтних обчислень."
      ]
    },
    {
      "cell_type": "code",
      "execution_count": null,
      "metadata": {
        "_uuid": "1d61b6f61f49b19099d29d1be8ec5ae4967bbd51",
        "colab": {
          "base_uri": "https://localhost:8080/"
        },
        "id": "W7ABNHI9ent1",
        "outputId": "eaa469ee-2daf-46a3-ada9-45f8505a2680"
      },
      "outputs": [
        {
          "name": "stdout",
          "output_type": "stream",
          "text": [
            "tensor([[-0.6595, -0.0509, -0.0687],\n",
            "        [ 0.6951,  1.6733,  0.6972]], requires_grad=True)\n"
          ]
        }
      ],
      "source": [
        "print(w)"
      ]
    },
    {
      "cell_type": "markdown",
      "metadata": {
        "_uuid": "6af10c29db7cb0d6e869b2c30966a34a48a011e2",
        "id": "bZ6eNa3Rent1"
      },
      "source": [
        "З новими вагами (weights) та зсувами (biases) модель повинна мати менші втрати (loss)."
      ]
    },
    {
      "cell_type": "code",
      "execution_count": null,
      "metadata": {
        "_uuid": "c542b5fe75d82454f34cac13cdcff8b48dd1945c",
        "colab": {
          "base_uri": "https://localhost:8080/"
        },
        "id": "KSD_2HQpent1",
        "outputId": "fb58a5e3-2e8b-41e8-d295-f8f969956801"
      },
      "outputs": [
        {
          "name": "stdout",
          "output_type": "stream",
          "text": [
            "tensor(21583.2852, grad_fn=<DivBackward0>)\n"
          ]
        }
      ],
      "source": [
        "# Обчислюємо loss\n",
        "preds = model(inputs, w, b)\n",
        "loss = mse(preds, targets)\n",
        "print(loss)"
      ]
    },
    {
      "cell_type": "markdown",
      "metadata": {
        "_uuid": "5201901695f3ea13d7fdd5d985da7e0761c541d0",
        "id": "4K6ZlaUSent1"
      },
      "source": [
        "## Тренування протягом кількох епох\n",
        "\n",
        "Щоб ще більше зменшити втрати, ми повторюємо процес налаштування ваг і зсувів, використовуючи градієнти, кілька разів. Кожна ітерація в тренування нейронних мереж називається епохою (epoch)."
      ]
    },
    {
      "cell_type": "code",
      "execution_count": null,
      "metadata": {
        "_uuid": "9f5f0ffeee666b30c5828636359f0be6addbef7c",
        "id": "_LaxHxYment1"
      },
      "outputs": [],
      "source": [
        "# Тренування протягом 100 епох\n",
        "for i in range(100):\n",
        "    preds = model(inputs, w, b)\n",
        "    loss = mse(preds, targets)\n",
        "    loss.backward()\n",
        "    with torch.no_grad():\n",
        "        w -= w.grad * 1e-5\n",
        "        b -= b.grad * 1e-5\n",
        "        w.grad.zero_()\n",
        "        b.grad.zero_()"
      ]
    },
    {
      "cell_type": "code",
      "execution_count": null,
      "metadata": {
        "_uuid": "c4820ca48b78f4dc242d80a9ec3ec6aca1aef671",
        "colab": {
          "base_uri": "https://localhost:8080/"
        },
        "id": "xSiNr5S8ent1",
        "outputId": "8cf8b7f4-6826-46fd-a298-def63f2d5c85"
      },
      "outputs": [
        {
          "name": "stdout",
          "output_type": "stream",
          "text": [
            "tensor(46.0941, grad_fn=<DivBackward0>)\n"
          ]
        }
      ],
      "source": [
        "# Обчислюємо loss\n",
        "preds = model(inputs, w, b)\n",
        "loss = mse(preds, targets)\n",
        "print(loss)"
      ]
    },
    {
      "cell_type": "code",
      "execution_count": null,
      "metadata": {
        "_uuid": "bbcd65fa7094cec187565e54c2107e683bea787b",
        "colab": {
          "base_uri": "https://localhost:8080/"
        },
        "id": "j6trXN6Kent1",
        "outputId": "c3e7005d-60c3-4197-9f1a-a2c4c298fe18"
      },
      "outputs": [
        {
          "data": {
            "text/plain": [
              "tensor([[ 59.3792,  71.7505],\n",
              "        [ 81.7081,  96.7536],\n",
              "        [116.2700, 139.5503],\n",
              "        [ 33.1978,  44.3887],\n",
              "        [ 94.0937, 108.1253]], grad_fn=<AddBackward0>)"
            ]
          },
          "execution_count": 78,
          "metadata": {},
          "output_type": "execute_result"
        }
      ],
      "source": [
        "preds"
      ]
    },
    {
      "cell_type": "code",
      "execution_count": null,
      "metadata": {
        "_uuid": "addec2c4eca8edfcae5544ea2cc717182c21d90f",
        "colab": {
          "base_uri": "https://localhost:8080/"
        },
        "id": "5F-l1IRwent2",
        "outputId": "2f377acf-e0e8-4110-9159-0994dddfa083"
      },
      "outputs": [
        {
          "data": {
            "text/plain": [
              "tensor([[ 56.,  70.],\n",
              "        [ 81., 101.],\n",
              "        [119., 133.],\n",
              "        [ 22.,  37.],\n",
              "        [103., 119.]])"
            ]
          },
          "execution_count": 79,
          "metadata": {},
          "output_type": "execute_result"
        }
      ],
      "source": [
        "targets"
      ]
    },
    {
      "cell_type": "markdown",
      "metadata": {
        "id": "NvzTg6PCU7jc"
      },
      "source": [
        "Вийшли доволі непогані передбачення.\n",
        "Хорошою практикою вважається - спробувати заоверфітити модель на кількох точках аби перевірити, що вона тренується та потенційно збігаєтсья (досягнає мінімума функції втрат). Але ця вже точно бачимо, що тренується."
      ]
    },
    {
      "cell_type": "markdown",
      "metadata": {
        "_uuid": "ecc6e79cdfb6a8ca882895ccc895b61b960b0a04",
        "id": "Xbv1Vx1Went2"
      },
      "source": [
        "## Модель лінійної регресії з використанням вбудованих функцій PyTorch\n",
        "\n",
        "Давайте повторно реалізуємо ту ж модель, використовуючи деякі вбудовані функції та класи з PyTorch."
      ]
    },
    {
      "cell_type": "code",
      "execution_count": null,
      "metadata": {
        "_uuid": "ce66cf0d09a3f38bf2f00ea40418c56d98f1f814",
        "id": "dvqx91xoent2"
      },
      "outputs": [],
      "source": [
        "# Імпортуємо модуль nn\n",
        "import torch.nn as nn"
      ]
    },
    {
      "cell_type": "code",
      "execution_count": null,
      "metadata": {
        "_uuid": "74bb18bd01ac809079eeb8d05695206e8ba02069",
        "id": "SBv7tbmwent2"
      },
      "outputs": [],
      "source": [
        "# Вхідні дані (temp, rainfall, humidity)\n",
        "inputs = np.array([[73, 67, 43], [91, 88, 64], [87, 134, 58], [102, 43, 37], [69, 96, 70], [73, 67, 43], [91, 88, 64], [87, 134, 58], [102, 43, 37], [69, 96, 70], [73, 67, 43], [91, 88, 64], [87, 134, 58], [102, 43, 37], [69, 96, 70]], dtype='float32')\n",
        "\n",
        "# Таргети (apples, oranges)\n",
        "targets = np.array([[56, 70], [81, 101], [119, 133], [22, 37], [103, 119],\n",
        "                    [56, 70], [81, 101], [119, 133], [22, 37], [103, 119],\n",
        "                    [56, 70], [81, 101], [119, 133], [22, 37], [103, 119]], dtype='float32')"
      ]
    },
    {
      "cell_type": "code",
      "execution_count": null,
      "metadata": {
        "_uuid": "d94b355f55250e9c7dcff668920f02d7c5c04925",
        "id": "qRz9uTSsent2"
      },
      "outputs": [],
      "source": [
        "inputs = torch.from_numpy(inputs)\n",
        "targets = torch.from_numpy(targets)"
      ]
    },
    {
      "cell_type": "code",
      "execution_count": null,
      "metadata": {
        "colab": {
          "base_uri": "https://localhost:8080/"
        },
        "id": "7-kRfFwUVPs4",
        "outputId": "28f0818e-4c15-4d6b-a447-a91b981ef3f6"
      },
      "outputs": [
        {
          "data": {
            "text/plain": [
              "tensor([[ 73.,  67.,  43.],\n",
              "        [ 91.,  88.,  64.],\n",
              "        [ 87., 134.,  58.],\n",
              "        [102.,  43.,  37.],\n",
              "        [ 69.,  96.,  70.],\n",
              "        [ 73.,  67.,  43.],\n",
              "        [ 91.,  88.,  64.],\n",
              "        [ 87., 134.,  58.],\n",
              "        [102.,  43.,  37.],\n",
              "        [ 69.,  96.,  70.],\n",
              "        [ 73.,  67.,  43.],\n",
              "        [ 91.,  88.,  64.],\n",
              "        [ 87., 134.,  58.],\n",
              "        [102.,  43.,  37.],\n",
              "        [ 69.,  96.,  70.]])"
            ]
          },
          "execution_count": 83,
          "metadata": {},
          "output_type": "execute_result"
        }
      ],
      "source": [
        "inputs"
      ]
    },
    {
      "cell_type": "markdown",
      "metadata": {
        "_uuid": "a0665466eb5401f40a816b323a34450b2c052c41",
        "id": "yB1kzJ2rent2"
      },
      "source": [
        "### Набір даних та DataLoader\n",
        "\n",
        "Ми створимо `TensorDataset`, який дозволяє отримувати доступ до рядків з `inputs` та `targets` у вигляді кортежів. Ми також створимо DataLoader, щоб розділити дані на партії (batches) під час навчання. Він також надає інші утиліти, такі як перемішування (shuffling) та вибірка (sampling)."
      ]
    },
    {
      "cell_type": "code",
      "execution_count": null,
      "metadata": {
        "_uuid": "206f5fd0473386476b23477bf38d2c327b6376c9",
        "id": "fY2IMPUoent2"
      },
      "outputs": [],
      "source": [
        "# Імпортуємо tensor dataset & data loader\n",
        "from torch.utils.data import TensorDataset, DataLoader"
      ]
    },
    {
      "cell_type": "code",
      "execution_count": null,
      "metadata": {
        "_uuid": "c47a4f2f86fda3918094e01cf7ab0698bbb5acc7",
        "colab": {
          "base_uri": "https://localhost:8080/"
        },
        "id": "5ra8exGbent3",
        "outputId": "100ad601-dc90-4efc-fb4d-fceee89469f6"
      },
      "outputs": [
        {
          "data": {
            "text/plain": [
              "(tensor([[ 73.,  67.,  43.],\n",
              "         [ 91.,  88.,  64.],\n",
              "         [ 87., 134.,  58.]]),\n",
              " tensor([[ 56.,  70.],\n",
              "         [ 81., 101.],\n",
              "         [119., 133.]]))"
            ]
          },
          "execution_count": 103,
          "metadata": {},
          "output_type": "execute_result"
        }
      ],
      "source": [
        "# Визначаємо dataset\n",
        "train_ds = TensorDataset(inputs, targets)\n",
        "train_ds[0:3]"
      ]
    },
    {
      "cell_type": "code",
      "execution_count": null,
      "metadata": {
        "_uuid": "0a2f69126319d738b82ae67d5d404ecd6161bfac",
        "colab": {
          "base_uri": "https://localhost:8080/"
        },
        "id": "s74br0C8ent3",
        "outputId": "1b7ed666-9895-4d09-dcdc-f404fc569be1"
      },
      "outputs": [
        {
          "data": {
            "text/plain": [
              "[tensor([[ 91.,  88.,  64.],\n",
              "         [ 73.,  67.,  43.],\n",
              "         [ 87., 134.,  58.],\n",
              "         [ 69.,  96.,  70.],\n",
              "         [ 87., 134.,  58.]]),\n",
              " tensor([[ 81., 101.],\n",
              "         [ 56.,  70.],\n",
              "         [119., 133.],\n",
              "         [103., 119.],\n",
              "         [119., 133.]])]"
            ]
          },
          "execution_count": 104,
          "metadata": {},
          "output_type": "execute_result"
        }
      ],
      "source": [
        "# Визначаємо data loader\n",
        "batch_size = 5\n",
        "train_dl = DataLoader(train_ds, batch_size, shuffle=True)\n",
        "next(iter(train_dl))"
      ]
    },
    {
      "cell_type": "markdown",
      "metadata": {
        "_uuid": "276a262e1b9e3a048bcd32989013f9c501c59037",
        "id": "cciAwvEkent3"
      },
      "source": [
        "### nn.Linear\n",
        "Замість того, щоб вручну ініціалізувати ваги та зміщення, ми можемо визначити модель, використовуючи `nn.Linear`."
      ]
    },
    {
      "cell_type": "code",
      "execution_count": null,
      "metadata": {
        "_uuid": "59da3506559a0640d80d18f77b02726a1757be2f",
        "colab": {
          "base_uri": "https://localhost:8080/"
        },
        "id": "HIlGbSYaent3",
        "outputId": "0475f311-a0fd-491b-cbda-3582572dfce8"
      },
      "outputs": [
        {
          "name": "stdout",
          "output_type": "stream",
          "text": [
            "Parameter containing:\n",
            "tensor([[ 0.5374,  0.4882, -0.0646],\n",
            "        [-0.4105, -0.4314, -0.2982]], requires_grad=True)\n",
            "Parameter containing:\n",
            "tensor([0.0749, 0.0677], requires_grad=True)\n"
          ]
        }
      ],
      "source": [
        "# Визначаємо модель\n",
        "model = nn.Linear(3, 2)\n",
        "print(model.weight)\n",
        "print(model.bias)"
      ]
    },
    {
      "cell_type": "markdown",
      "metadata": {
        "_uuid": "b3a4a8c499a4680f2533329712de034671dd1cdd",
        "id": "Zw0NxB4Cent3"
      },
      "source": [
        "### Оптимізатор\n",
        "Замість того, щоб вручну маніпулювати вагами та зміщеннями, використовуючи градієнти, ми можемо використовувати оптимізатор `optim.SGD` - це як раз використання градієнтного спуску."
      ]
    },
    {
      "cell_type": "code",
      "execution_count": null,
      "metadata": {
        "_uuid": "1848398bd1ced8c25a7bb55612cf32a774500280",
        "id": "lG9EvalUent3"
      },
      "outputs": [],
      "source": [
        "# Define optimizer\n",
        "opt = torch.optim.SGD(model.parameters(), lr=1e-5)"
      ]
    },
    {
      "cell_type": "markdown",
      "metadata": {
        "_uuid": "28cbe62be55010bd11b31d819cff38da5a772b18",
        "id": "6TSZ8doVent3"
      },
      "source": [
        "### Функція втрат\n",
        "Замість того, щоб визначати функцію втрат вручну, ми можемо використовувати вбудовану функцію втрат `mse_loss`."
      ]
    },
    {
      "cell_type": "code",
      "execution_count": null,
      "metadata": {
        "_uuid": "69d7f4e8e27ccd077f711da27f8bede8aa711893",
        "id": "XKEsDH2yent3"
      },
      "outputs": [],
      "source": [
        "# Імпортуємо nn.functional\n",
        "import torch.nn.functional as F"
      ]
    },
    {
      "cell_type": "code",
      "execution_count": null,
      "metadata": {
        "_uuid": "a02ff888ed4be720fd9ca376022d8fdcf2559683",
        "id": "8bQKH34uent4"
      },
      "outputs": [],
      "source": [
        "# Визначаємо loss функцію\n",
        "loss_fn = F.mse_loss"
      ]
    },
    {
      "cell_type": "code",
      "execution_count": null,
      "metadata": {
        "_uuid": "a540adf76725ea9968025f6c029fdd251bdada6c",
        "colab": {
          "base_uri": "https://localhost:8080/"
        },
        "id": "E80f7oBGent4",
        "outputId": "27d02200-a8ce-4a69-fe93-f5cc16262747"
      },
      "outputs": [
        {
          "name": "stdout",
          "output_type": "stream",
          "text": [
            "tensor(17683.6211, grad_fn=<MseLossBackward0>)\n"
          ]
        }
      ],
      "source": [
        "loss = loss_fn(model(inputs), targets)\n",
        "print(loss)"
      ]
    },
    {
      "cell_type": "markdown",
      "metadata": {
        "_uuid": "e833614a69ff18c554a3d89f643ae2f11e0260f6",
        "id": "8Nm_yDFNent4"
      },
      "source": [
        "### Навчання моделі\n",
        "\n",
        "Ми готові навчити модель. Ми можемо визначити функцію `fit`, яка навчає модель протягом заданої кількості епох."
      ]
    },
    {
      "cell_type": "code",
      "execution_count": null,
      "metadata": {
        "_uuid": "128bc7260221f5338edf8b503c75f0c7d1cce7e8",
        "id": "f8dhEVvcent4"
      },
      "outputs": [],
      "source": [
        "# Визначаэмо функцію для навчання моделі\n",
        "def fit(num_epochs, model, loss_fn, opt, train_dl):\n",
        "    for epoch in range(num_epochs):\n",
        "        for xb,yb in train_dl:\n",
        "            # Створення передбачень\n",
        "            pred = model(xb)\n",
        "            loss = loss_fn(pred, yb)\n",
        "\n",
        "            # Виконання градієнтного спуску\n",
        "            loss.backward()\n",
        "            opt.step()\n",
        "            opt.zero_grad()\n",
        "    print('Training loss: ', loss_fn(model(inputs), targets))"
      ]
    },
    {
      "cell_type": "code",
      "execution_count": null,
      "metadata": {
        "id": "rPUEoOIQielJ"
      },
      "outputs": [],
      "source": [
        "# Модифікована функцію fit для відстеження втрат\n",
        "def fit_return_loss(num_epochs, model, loss_fn, opt, train_dl):\n",
        "    losses = []\n",
        "    for epoch in range(num_epochs):\n",
        "        # Ініціалізуємо акумулятор для втрат\n",
        "        total_loss = 0\n",
        "\n",
        "        for xb, yb in train_dl:\n",
        "            # Генеруємо передбачення\n",
        "            pred = model(xb)\n",
        "\n",
        "            # Обчислюємо втрати\n",
        "            loss = loss_fn(pred, yb)\n",
        "\n",
        "            # Виконуємо градієнтний спуск\n",
        "            loss.backward()\n",
        "            opt.step()\n",
        "            opt.zero_grad()\n",
        "\n",
        "            # Накопичуємо втрати\n",
        "            total_loss += loss.item()\n",
        "\n",
        "        # Обчислюємо середні втрати для епохи\n",
        "        avg_loss = total_loss / len(train_dl)\n",
        "        losses.append(avg_loss)\n",
        "\n",
        "        # Виводимо підсумок епохи\n",
        "        if (epoch + 1) % 10 == 0:\n",
        "          print(f'Epoch [{epoch+1}/{num_epochs}], Loss: {avg_loss:.4f}')\n",
        "    return losses"
      ]
    },
    {
      "cell_type": "code",
      "execution_count": null,
      "metadata": {
        "_uuid": "ae8ca4686cf6a68f6c9ca93bf3d227abe96c2201",
        "colab": {
          "base_uri": "https://localhost:8080/"
        },
        "id": "mLW9fOmkent4",
        "outputId": "d618f2cd-df14-424e-e4ca-3ed30889722e"
      },
      "outputs": [
        {
          "name": "stdout",
          "output_type": "stream",
          "text": [
            "Epoch [10/400], Loss: 428.3169\n",
            "Epoch [20/400], Loss: 291.4395\n",
            "Epoch [30/400], Loss: 209.3873\n",
            "Epoch [40/400], Loss: 169.2091\n",
            "Epoch [50/400], Loss: 115.7236\n",
            "Epoch [60/400], Loss: 89.7449\n",
            "Epoch [70/400], Loss: 71.3112\n",
            "Epoch [80/400], Loss: 54.8442\n",
            "Epoch [90/400], Loss: 45.9740\n",
            "Epoch [100/400], Loss: 38.2814\n",
            "Epoch [110/400], Loss: 32.9952\n",
            "Epoch [120/400], Loss: 29.1761\n",
            "Epoch [130/400], Loss: 28.3723\n",
            "Epoch [140/400], Loss: 23.9115\n",
            "Epoch [150/400], Loss: 23.1477\n",
            "Epoch [160/400], Loss: 20.2759\n",
            "Epoch [170/400], Loss: 19.1617\n",
            "Epoch [180/400], Loss: 17.6004\n",
            "Epoch [190/400], Loss: 16.6515\n",
            "Epoch [200/400], Loss: 15.5396\n",
            "Epoch [210/400], Loss: 15.5817\n",
            "Epoch [220/400], Loss: 14.4443\n",
            "Epoch [230/400], Loss: 13.1248\n",
            "Epoch [240/400], Loss: 12.6209\n",
            "Epoch [250/400], Loss: 11.9686\n",
            "Epoch [260/400], Loss: 11.1039\n",
            "Epoch [270/400], Loss: 11.1012\n",
            "Epoch [280/400], Loss: 9.9027\n",
            "Epoch [290/400], Loss: 9.6864\n",
            "Epoch [300/400], Loss: 8.9101\n",
            "Epoch [310/400], Loss: 8.4269\n",
            "Epoch [320/400], Loss: 8.1060\n",
            "Epoch [330/400], Loss: 7.7471\n",
            "Epoch [340/400], Loss: 7.3448\n",
            "Epoch [350/400], Loss: 6.9410\n",
            "Epoch [360/400], Loss: 6.9016\n",
            "Epoch [370/400], Loss: 6.1314\n",
            "Epoch [380/400], Loss: 6.2051\n",
            "Epoch [390/400], Loss: 5.7595\n",
            "Epoch [400/400], Loss: 5.5831\n"
          ]
        }
      ],
      "source": [
        "# Train the model for 100 epochs\n",
        "loss = fit_return_loss(400, model, loss_fn, opt, train_dl)"
      ]
    },
    {
      "cell_type": "code",
      "execution_count": null,
      "metadata": {
        "colab": {
          "base_uri": "https://localhost:8080/",
          "height": 449
        },
        "id": "osJSPvuijOe3",
        "outputId": "1a140771-eb07-4792-e0aa-f4aaf6ba24da"
      },
      "outputs": [
        {
          "data": {
            "image/png": "[encoded data removed]",
            "text/plain": [
              "<Figure size 640x480 with 1 Axes>"
            ]
          },
          "metadata": {},
          "output_type": "display_data"
        }
      ],
      "source": [
        "import matplotlib.pyplot as plt\n",
        "plt.plot(loss)\n",
        "plt.xlabel('Epoch')\n",
        "plt.ylabel('Loss')\n",
        "plt.show()"
      ]
    },
    {
      "cell_type": "code",
      "execution_count": null,
      "metadata": {
        "_uuid": "32588a47d0478772a1f08fa55874a322630bd0b6",
        "colab": {
          "base_uri": "https://localhost:8080/"
        },
        "id": "iv7rrJKoent4",
        "outputId": "adaf5bff-a9b0-454b-9914-3453c7fb6af2"
      },
      "outputs": [
        {
          "data": {
            "text/plain": [
              "tensor([[ 57.3280,  70.4553],\n",
              "        [ 80.4752,  99.2248],\n",
              "        [122.0473, 135.7823],\n",
              "        [ 22.0299,  37.8183],\n",
              "        [ 98.3917, 116.1860],\n",
              "        [ 57.3280,  70.4553],\n",
              "        [ 80.4752,  99.2248],\n",
              "        [122.0473, 135.7823],\n",
              "        [ 22.0299,  37.8183],\n",
              "        [ 98.3917, 116.1860],\n",
              "        [ 57.3280,  70.4553],\n",
              "        [ 80.4752,  99.2248],\n",
              "        [122.0473, 135.7823],\n",
              "        [ 22.0299,  37.8183],\n",
              "        [ 98.3917, 116.1860]], grad_fn=<AddmmBackward0>)"
            ]
          },
          "execution_count": 113,
          "metadata": {},
          "output_type": "execute_result"
        }
      ],
      "source": [
        "# Generate predictions\n",
        "preds = model(inputs)\n",
        "preds"
      ]
    },
    {
      "cell_type": "code",
      "execution_count": null,
      "metadata": {
        "colab": {
          "base_uri": "https://localhost:8080/"
        },
        "id": "ugsb3CGxjz7V",
        "outputId": "65e253e7-530d-477f-910e-1cd1171bc535"
      },
      "outputs": [
        {
          "data": {
            "text/plain": [
              "tensor([[ 57,  70],\n",
              "        [ 80,  99],\n",
              "        [122, 135],\n",
              "        [ 22,  37],\n",
              "        [ 98, 116],\n",
              "        [ 57,  70],\n",
              "        [ 80,  99],\n",
              "        [122, 135],\n",
              "        [ 22,  37],\n",
              "        [ 98, 116],\n",
              "        [ 57,  70],\n",
              "        [ 80,  99],\n",
              "        [122, 135],\n",
              "        [ 22,  37],\n",
              "        [ 98, 116]], dtype=torch.int32)"
            ]
          },
          "execution_count": 115,
          "metadata": {},
          "output_type": "execute_result"
        }
      ],
      "source": [
        "preds.int()"
      ]
    },
    {
      "cell_type": "code",
      "execution_count": null,
      "metadata": {
        "_uuid": "12d757c0f37c2e3af65cf9d4b59878cc10c65acf",
        "colab": {
          "base_uri": "https://localhost:8080/"
        },
        "id": "vfVyaBozent4",
        "outputId": "1ff613a7-91e0-4880-d728-2d5b986a522e"
      },
      "outputs": [
        {
          "data": {
            "text/plain": [
              "tensor([[ 56.,  70.],\n",
              "        [ 81., 101.],\n",
              "        [119., 133.],\n",
              "        [ 22.,  37.],\n",
              "        [103., 119.],\n",
              "        [ 56.,  70.],\n",
              "        [ 81., 101.],\n",
              "        [119., 133.],\n",
              "        [ 22.,  37.],\n",
              "        [103., 119.],\n",
              "        [ 56.,  70.],\n",
              "        [ 81., 101.],\n",
              "        [119., 133.],\n",
              "        [ 22.,  37.],\n",
              "        [103., 119.]])"
            ]
          },
          "execution_count": 114,
          "metadata": {},
          "output_type": "execute_result"
        }
      ],
      "source": [
        "# Compare with targets\n",
        "targets"
      ]
    },
    {
      "cell_type": "markdown",
      "metadata": {
        "_uuid": "e182289ebf21d8296f11f13264c4732c100da14f",
        "id": "gU_tYu39ent5"
      },
      "source": [
        "# Feed-Forward Neural Networks\n",
        "\n",
        "![ffnn](https://afit-r.github.io/public/images/analytics/deep_learning/deep_nn.png)\n",
        "\n",
        "**Feedforward Neural Networks (FFNN)** або прямі нейронні мережі — це один із найпростіших і найпоширеніших типів штучних нейронних мереж, що використовується в багатьох додатках машинного навчання, включаючи класифікацію, регресію та інші завдання. Вони є важливою базою для більш складних моделей, таких як згорткові (CNN) та рекурентні (RNN) нейронні мережі.\n",
        "\n",
        "### Як працюють Feedforward Neural Networks?\n",
        "\n",
        "Основна ідея FFNN полягає в тому, що інформація передається лише в одному напрямку: від входу (input) до виходу (output). Це відрізняє їх від рекурентних нейронних мереж, де дані можуть \"зворотно\" впливати на наступні обчислення.\n",
        "\n",
        "#### Структура FFNN:\n",
        "1. **Вхідний шар (Input Layer):** В цьому шарі нейрони отримують дані із зовнішнього середовища. Кожен нейрон відповідає за окрему характеристику вхідних даних.\n",
        "   \n",
        "2. **Приховані шари (Hidden Layers):** Це шари, які не мають прямого зв'язку із зовнішнім світом. Нейрони прихованих шарів виконують нелінійні перетворення на основі вхідних даних, що допомагає моделі виявляти складні закономірності. У складних моделях може бути кілька прихованих шарів, що робить мережу \"глибокою\".\n",
        "\n",
        "3. **Вихідний шар (Output Layer):** Нейрони цього шару генерують результати моделі. У випадку класифікації вихід може представляти ймовірності належності до різних класів; у випадку регресії — передбачувані значення.\n",
        "\n",
        "### Як працює FFNN:\n",
        "\n",
        "1. **Перетворення вхідних даних:**\n",
        "   Кожен нейрон у прихованих шарах отримує вхідні дані, які є лінійною комбінацією значень із попереднього шару, зважених відповідними вагами. Для кожного нейрона обчислюється:\n",
        "\n",
        "   $$\n",
        "   z = w_1 \\cdot x_1 + w_2 \\cdot x_2 + \\dots + w_n \\cdot x_n + b\n",
        "   $$\n",
        "\n",
        "   Де:\n",
        "   - $_1, x_2, \\dots, x_n$ — вхідні значення,\n",
        "   - $w_1, w_2, \\dots, w_n$ — ваги нейрона,\n",
        "   - $b$ — зміщення (bias),\n",
        "   - $z$ — активація нейрона.\n",
        "\n",
        "2. **Активаційна функція:**\n",
        "   Після обчислення лінійної комбінації значень застосовується **активаційна функція**, яка додає нелінійність до моделі. Це може бути функція ReLU (Rectified Linear Unit), сигмоподібна або інша функція, що дозволяє моделі навчатися складним і нелінійним закономірностям.\n",
        "\n",
        "   $$\n",
        "   a = f(z)\n",
        "   $$\n",
        "\n",
        "   Де $ f(z) $ — це активаційна функція.\n",
        "\n",
        "\n",
        "  <img src=\"https://cdn-images-1.medium.com/max/1600/1*XxxiA0jJvPrHEJHD4z893g.png\" width=\"640\">\n",
        "\n",
        "3. **Передача інформації далі:**\n",
        "   Вихід кожного нейрона передається до наступного шару, де процес повторюється. Інформація йде послідовно від вхідного шару до вихідного шару, поки не буде згенерований остаточний результат.\n",
        "\n",
        "### Основна відмінність від лінійної регресії:\n",
        "- **Лінійна регресія** працює з лінійними залежностями між вхідними та вихідними змінними, тоді як FFNN може обробляти **нелінійні взаємозв'язки** завдяки використанню прихованих шарів і нелінійних активаційних функцій.\n",
        "- Лінійна регресія має лише один шар (вхідний і вихідний), тоді як FFNN складається з кількох шарів.\n",
        "\n",
        "### Використання:\n",
        "Feedforward Neural Networks можуть бути застосовані для вирішення різноманітних задач:\n",
        "- **Класифікація зображень**\n",
        "- **Аналіз тексту**\n",
        "- **Розпізнавання мовлення**\n",
        "- **Передбачення в часових рядах**\n",
        "\n",
        "### Недоліки:\n",
        "Основний недолік FFNN — це те, що вони не мають \"пам'яті\", оскільки інформація передається лише в одному напрямку, що обмежує їхню ефективність при роботі з послідовними даними, де важлива інформація з попередніх станів. Для таких задач краще використовувати рекурентні нейронні мережі (RNN) або їх варіації, такі як LSTM.\n",
        "\n",
        "Таким чином, **Feedforward Neural Networks** — це базовий, але потужний інструмент для вирішення багатьох задач, який дозволяє обробляти як прості, так і складні взаємозв'язки у даних.\n",
        "\n",
        "--------------\n",
        "Щоб використовувати fast-forward нейронну мережу замість лінійної регресії, ми можемо розширити (визначити новий з допомогою наслідування) клас `nn.Module` з PyTorch."
      ]
    },
    {
      "cell_type": "code",
      "execution_count": null,
      "metadata": {
        "_uuid": "c405e5075d6c4adb26ead75c17be90eaeb43f2d5",
        "id": "nYcLCv02ent5"
      },
      "outputs": [],
      "source": [
        "class SimpleNet(nn.Module):\n",
        "    # Initialize the layers\n",
        "    def __init__(self):\n",
        "        super().__init__()\n",
        "        self.linear1 = nn.Linear(3, 3)\n",
        "        self.act1 = nn.ReLU() # Activation function\n",
        "        self.linear2 = nn.Linear(3, 2)\n",
        "\n",
        "    # Perform the computation\n",
        "    def forward(self, x):\n",
        "        x = self.linear1(x)\n",
        "        x = self.act1(x)\n",
        "        x = self.linear2(x)\n",
        "        return x"
      ]
    },
    {
      "cell_type": "markdown",
      "metadata": {
        "_uuid": "2448d9832722f4f2813f8bd80b91daefd901dc2e",
        "id": "Tlf-QtCJent5"
      },
      "source": [
        "Тепер ми можемо визначити модель, оптимізатор (optimizer) та функцію втрат (loss function) точно так само, як і раніше."
      ]
    },
    {
      "cell_type": "code",
      "execution_count": null,
      "metadata": {
        "_uuid": "a51ca222c2ea037c3caccaeab98ccdbcc30800cf",
        "id": "rtCcxYrqent5"
      },
      "outputs": [],
      "source": [
        "model = SimpleNet()\n",
        "opt = torch.optim.SGD(model.parameters(), 1e-5)\n",
        "loss_fn = F.mse_loss"
      ]
    },
    {
      "cell_type": "markdown",
      "metadata": {
        "_uuid": "21000c9739ea39a173a256f87339bfc112c1a9b0",
        "id": "Xj7wQrOfent5"
      },
      "source": [
        "Нарешті, ми можемо застосувати градієнтний спуск (gradient descent) для навчання моделі, використовуючи ту ж функцію `fit`, яка була визначена раніше для лінійної регресії.\n"
      ]
    },
    {
      "cell_type": "code",
      "execution_count": null,
      "metadata": {
        "_uuid": "e94de6868c76803a998c1c1934ed229c826f3b8c",
        "colab": {
          "base_uri": "https://localhost:8080/"
        },
        "id": "MTrJKvPBent5",
        "outputId": "d44db22d-6f29-4cb0-eace-2eac4559404b"
      },
      "outputs": [
        {
          "name": "stdout",
          "output_type": "stream",
          "text": [
            "Epoch [10/100], Loss: 3484.2894\n",
            "Epoch [20/100], Loss: 176.8163\n",
            "Epoch [30/100], Loss: 138.1754\n",
            "Epoch [40/100], Loss: 116.1143\n",
            "Epoch [50/100], Loss: 98.2445\n",
            "Epoch [60/100], Loss: 80.2569\n",
            "Epoch [70/100], Loss: 74.5938\n",
            "Epoch [80/100], Loss: 68.2467\n",
            "Epoch [90/100], Loss: 65.1691\n",
            "Epoch [100/100], Loss: 58.1829\n"
          ]
        }
      ],
      "source": [
        "loss = fit_return_loss(100, model, loss_fn, opt, train_dl)"
      ]
    },
    {
      "cell_type": "code",
      "execution_count": null,
      "metadata": {
        "colab": {
          "base_uri": "https://localhost:8080/"
        },
        "id": "upcBMkPEWi_2",
        "outputId": "2deec2a4-3d91-437e-c2c8-581bc3d87dfa"
      },
      "outputs": [
        {
          "data": {
            "text/plain": [
              "tensor([[ 59,  70],\n",
              "        [ 80,  94],\n",
              "        [124, 146],\n",
              "        [ 31,  37],\n",
              "        [ 92, 108],\n",
              "        [ 59,  70],\n",
              "        [ 80,  94],\n",
              "        [124, 146],\n",
              "        [ 31,  37],\n",
              "        [ 92, 108],\n",
              "        [ 59,  70],\n",
              "        [ 80,  94],\n",
              "        [124, 146],\n",
              "        [ 31,  37],\n",
              "        [ 92, 108]], dtype=torch.int32)"
            ]
          },
          "execution_count": 124,
          "metadata": {},
          "output_type": "execute_result"
        }
      ],
      "source": [
        "preds = model(inputs)\n",
        "preds.int()"
      ]
    },
    {
      "cell_type": "code",
      "execution_count": null,
      "metadata": {
        "colab": {
          "base_uri": "https://localhost:8080/"
        },
        "id": "FwrPiIPFWjdZ",
        "outputId": "d94584a2-c3fb-4110-9861-372fe403b3c8"
      },
      "outputs": [
        {
          "data": {
            "text/plain": [
              "tensor([[ 56.,  70.],\n",
              "        [ 81., 101.],\n",
              "        [119., 133.],\n",
              "        [ 22.,  37.],\n",
              "        [103., 119.],\n",
              "        [ 56.,  70.],\n",
              "        [ 81., 101.],\n",
              "        [119., 133.],\n",
              "        [ 22.,  37.],\n",
              "        [103., 119.],\n",
              "        [ 56.,  70.],\n",
              "        [ 81., 101.],\n",
              "        [119., 133.],\n",
              "        [ 22.,  37.],\n",
              "        [103., 119.]])"
            ]
          },
          "execution_count": 123,
          "metadata": {},
          "output_type": "execute_result"
        }
      ],
      "source": [
        "targets"
      ]
    },
    {
      "cell_type": "code",
      "execution_count": null,
      "metadata": {
        "id": "MWrn16GAqCTt"
      },
      "outputs": [],
      "source": []
    }
  ],
  "metadata": {
    "colab": {
      "provenance": []
    },
    "kernelspec": {
      "display_name": "base",
      "language": "python",
      "name": "python3"
    },
    "language_info": {
      "codemirror_mode": {
        "name": "ipython",
        "version": 3
      },
      "file_extension": ".py",
      "mimetype": "text/x-python",
      "name": "python",
      "nbconvert_exporter": "python",
      "pygments_lexer": "ipython3",
      "version": "3.11.7"
    }
  },
  "nbformat": 4,
  "nbformat_minor": 0
}
