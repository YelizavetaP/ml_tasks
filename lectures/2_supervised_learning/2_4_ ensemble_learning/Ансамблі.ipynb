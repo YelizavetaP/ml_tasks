{
  "cells": [
    {
      "cell_type": "markdown",
      "metadata": {
        "id": "e-9EKox09IBA"
      },
      "source": [
        "# Методи ансамблювання моделей"
      ]
    },
    {
      "cell_type": "code",
      "execution_count": 1,
      "metadata": {
        "ExecuteTime": {
          "end_time": "2022-02-01T16:59:10.364888Z",
          "start_time": "2022-02-01T16:59:05.892301Z"
        },
        "colab": {
          "base_uri": "https://localhost:8080/"
        },
        "id": "xx3K9YUw9IBL",
        "outputId": "cbcc9420-1836-4c98-9dda-c858690efc10",
        "scrolled": true
      },
      "outputs": [
        {
          "name": "stdout",
          "output_type": "stream",
          "text": [
            "Requirement already satisfied: mlxtend in c:\\users\\asus\\anaconda3\\lib\\site-packages (0.23.1)\n",
            "Requirement already satisfied: scipy>=1.2.1 in c:\\users\\asus\\anaconda3\\lib\\site-packages (from mlxtend) (1.13.0)\n",
            "Requirement already satisfied: numpy>=1.16.2 in c:\\users\\asus\\anaconda3\\lib\\site-packages (from mlxtend) (1.26.4)\n",
            "Requirement already satisfied: pandas>=0.24.2 in c:\\users\\asus\\anaconda3\\lib\\site-packages (from mlxtend) (2.1.4)\n",
            "Requirement already satisfied: scikit-learn>=1.0.2 in c:\\users\\asus\\anaconda3\\lib\\site-packages (from mlxtend) (1.5.0)\n",
            "Requirement already satisfied: matplotlib>=3.0.0 in c:\\users\\asus\\anaconda3\\lib\\site-packages (from mlxtend) (3.8.4)\n",
            "Requirement already satisfied: joblib>=0.13.2 in c:\\users\\asus\\anaconda3\\lib\\site-packages (from mlxtend) (1.4.2)\n",
            "Requirement already satisfied: contourpy>=1.0.1 in c:\\users\\asus\\anaconda3\\lib\\site-packages (from matplotlib>=3.0.0->mlxtend) (1.2.0)\n",
            "Requirement already satisfied: cycler>=0.10 in c:\\users\\asus\\anaconda3\\lib\\site-packages (from matplotlib>=3.0.0->mlxtend) (0.12.1)\n",
            "Requirement already satisfied: fonttools>=4.22.0 in c:\\users\\asus\\anaconda3\\lib\\site-packages (from matplotlib>=3.0.0->mlxtend) (4.51.0)\n",
            "Requirement already satisfied: kiwisolver>=1.3.1 in c:\\users\\asus\\anaconda3\\lib\\site-packages (from matplotlib>=3.0.0->mlxtend) (1.4.5)\n",
            "Requirement already satisfied: packaging>=20.0 in c:\\users\\asus\\anaconda3\\lib\\site-packages (from matplotlib>=3.0.0->mlxtend) (23.1)\n",
            "Requirement already satisfied: pillow>=8 in c:\\users\\asus\\anaconda3\\lib\\site-packages (from matplotlib>=3.0.0->mlxtend) (10.2.0)\n",
            "Requirement already satisfied: pyparsing>=2.3.1 in c:\\users\\asus\\anaconda3\\lib\\site-packages (from matplotlib>=3.0.0->mlxtend) (3.1.2)\n",
            "Requirement already satisfied: python-dateutil>=2.7 in c:\\users\\asus\\anaconda3\\lib\\site-packages (from matplotlib>=3.0.0->mlxtend) (2.8.2)\n",
            "Requirement already satisfied: pytz>=2020.1 in c:\\users\\asus\\anaconda3\\lib\\site-packages (from pandas>=0.24.2->mlxtend) (2023.3.post1)\n",
            "Requirement already satisfied: tzdata>=2022.1 in c:\\users\\asus\\anaconda3\\lib\\site-packages (from pandas>=0.24.2->mlxtend) (2023.3)\n",
            "Requirement already satisfied: threadpoolctl>=3.1.0 in c:\\users\\asus\\anaconda3\\lib\\site-packages (from scikit-learn>=1.0.2->mlxtend) (3.5.0)\n",
            "Requirement already satisfied: six>=1.5 in c:\\users\\asus\\anaconda3\\lib\\site-packages (from python-dateutil>=2.7->matplotlib>=3.0.0->mlxtend) (1.16.0)\n"
          ]
        }
      ],
      "source": [
        "!pip install mlxtend"
      ]
    },
    {
      "cell_type": "code",
      "execution_count": 2,
      "metadata": {
        "ExecuteTime": {
          "end_time": "2022-02-01T20:05:58.418230Z",
          "start_time": "2022-02-01T20:05:58.190825Z"
        },
        "id": "NLg1k44b9IBM"
      },
      "outputs": [],
      "source": [
        "import numpy as np\n",
        "import pandas as pd\n",
        "import matplotlib.pyplot as plt\n",
        "\n",
        "from mlxtend.plotting import plot_decision_regions\n",
        "\n",
        "from sklearn.linear_model import LogisticRegression\n",
        "from sklearn.metrics import classification_report\n",
        "from sklearn.model_selection import GridSearchCV, train_test_split\n",
        "from sklearn.neighbors import KNeighborsClassifier\n",
        "from sklearn.tree import DecisionTreeClassifier"
      ]
    },
    {
      "cell_type": "markdown",
      "metadata": {
        "id": "dYpv7q4w9IBM"
      },
      "source": [
        "# Імпорт даних"
      ]
    },
    {
      "cell_type": "code",
      "execution_count": 3,
      "metadata": {
        "ExecuteTime": {
          "end_time": "2022-02-01T20:06:10.240486Z",
          "start_time": "2022-02-01T20:06:10.218505Z"
        },
        "colab": {
          "base_uri": "https://localhost:8080/",
          "height": 206
        },
        "id": "u5COATms9IBN",
        "outputId": "b2a29e7c-2b39-4321-9b78-7462e01358a0"
      },
      "outputs": [
        {
          "ename": "FileNotFoundError",
          "evalue": "[Errno 2] No such file or directory: 'diabetes.csv'",
          "output_type": "error",
          "traceback": [
            "\u001b[1;31m---------------------------------------------------------------------------\u001b[0m",
            "\u001b[1;31mFileNotFoundError\u001b[0m                         Traceback (most recent call last)",
            "Cell \u001b[1;32mIn[3], line 1\u001b[0m\n\u001b[1;32m----> 1\u001b[0m df \u001b[38;5;241m=\u001b[39m \u001b[43mpd\u001b[49m\u001b[38;5;241;43m.\u001b[39;49m\u001b[43mread_csv\u001b[49m\u001b[43m(\u001b[49m\u001b[38;5;124;43m'\u001b[39;49m\u001b[38;5;124;43mdiabetes.csv\u001b[39;49m\u001b[38;5;124;43m'\u001b[39;49m\u001b[43m)\u001b[49m\n\u001b[0;32m      3\u001b[0m df\u001b[38;5;241m.\u001b[39mhead()\n",
            "File \u001b[1;32mc:\\Users\\ASUS\\anaconda3\\Lib\\site-packages\\pandas\\io\\parsers\\readers.py:948\u001b[0m, in \u001b[0;36mread_csv\u001b[1;34m(filepath_or_buffer, sep, delimiter, header, names, index_col, usecols, dtype, engine, converters, true_values, false_values, skipinitialspace, skiprows, skipfooter, nrows, na_values, keep_default_na, na_filter, verbose, skip_blank_lines, parse_dates, infer_datetime_format, keep_date_col, date_parser, date_format, dayfirst, cache_dates, iterator, chunksize, compression, thousands, decimal, lineterminator, quotechar, quoting, doublequote, escapechar, comment, encoding, encoding_errors, dialect, on_bad_lines, delim_whitespace, low_memory, memory_map, float_precision, storage_options, dtype_backend)\u001b[0m\n\u001b[0;32m    935\u001b[0m kwds_defaults \u001b[38;5;241m=\u001b[39m _refine_defaults_read(\n\u001b[0;32m    936\u001b[0m     dialect,\n\u001b[0;32m    937\u001b[0m     delimiter,\n\u001b[1;32m   (...)\u001b[0m\n\u001b[0;32m    944\u001b[0m     dtype_backend\u001b[38;5;241m=\u001b[39mdtype_backend,\n\u001b[0;32m    945\u001b[0m )\n\u001b[0;32m    946\u001b[0m kwds\u001b[38;5;241m.\u001b[39mupdate(kwds_defaults)\n\u001b[1;32m--> 948\u001b[0m \u001b[38;5;28;01mreturn\u001b[39;00m \u001b[43m_read\u001b[49m\u001b[43m(\u001b[49m\u001b[43mfilepath_or_buffer\u001b[49m\u001b[43m,\u001b[49m\u001b[43m \u001b[49m\u001b[43mkwds\u001b[49m\u001b[43m)\u001b[49m\n",
            "File \u001b[1;32mc:\\Users\\ASUS\\anaconda3\\Lib\\site-packages\\pandas\\io\\parsers\\readers.py:611\u001b[0m, in \u001b[0;36m_read\u001b[1;34m(filepath_or_buffer, kwds)\u001b[0m\n\u001b[0;32m    608\u001b[0m _validate_names(kwds\u001b[38;5;241m.\u001b[39mget(\u001b[38;5;124m\"\u001b[39m\u001b[38;5;124mnames\u001b[39m\u001b[38;5;124m\"\u001b[39m, \u001b[38;5;28;01mNone\u001b[39;00m))\n\u001b[0;32m    610\u001b[0m \u001b[38;5;66;03m# Create the parser.\u001b[39;00m\n\u001b[1;32m--> 611\u001b[0m parser \u001b[38;5;241m=\u001b[39m \u001b[43mTextFileReader\u001b[49m\u001b[43m(\u001b[49m\u001b[43mfilepath_or_buffer\u001b[49m\u001b[43m,\u001b[49m\u001b[43m \u001b[49m\u001b[38;5;241;43m*\u001b[39;49m\u001b[38;5;241;43m*\u001b[39;49m\u001b[43mkwds\u001b[49m\u001b[43m)\u001b[49m\n\u001b[0;32m    613\u001b[0m \u001b[38;5;28;01mif\u001b[39;00m chunksize \u001b[38;5;129;01mor\u001b[39;00m iterator:\n\u001b[0;32m    614\u001b[0m     \u001b[38;5;28;01mreturn\u001b[39;00m parser\n",
            "File \u001b[1;32mc:\\Users\\ASUS\\anaconda3\\Lib\\site-packages\\pandas\\io\\parsers\\readers.py:1448\u001b[0m, in \u001b[0;36mTextFileReader.__init__\u001b[1;34m(self, f, engine, **kwds)\u001b[0m\n\u001b[0;32m   1445\u001b[0m     \u001b[38;5;28mself\u001b[39m\u001b[38;5;241m.\u001b[39moptions[\u001b[38;5;124m\"\u001b[39m\u001b[38;5;124mhas_index_names\u001b[39m\u001b[38;5;124m\"\u001b[39m] \u001b[38;5;241m=\u001b[39m kwds[\u001b[38;5;124m\"\u001b[39m\u001b[38;5;124mhas_index_names\u001b[39m\u001b[38;5;124m\"\u001b[39m]\n\u001b[0;32m   1447\u001b[0m \u001b[38;5;28mself\u001b[39m\u001b[38;5;241m.\u001b[39mhandles: IOHandles \u001b[38;5;241m|\u001b[39m \u001b[38;5;28;01mNone\u001b[39;00m \u001b[38;5;241m=\u001b[39m \u001b[38;5;28;01mNone\u001b[39;00m\n\u001b[1;32m-> 1448\u001b[0m \u001b[38;5;28mself\u001b[39m\u001b[38;5;241m.\u001b[39m_engine \u001b[38;5;241m=\u001b[39m \u001b[38;5;28;43mself\u001b[39;49m\u001b[38;5;241;43m.\u001b[39;49m\u001b[43m_make_engine\u001b[49m\u001b[43m(\u001b[49m\u001b[43mf\u001b[49m\u001b[43m,\u001b[49m\u001b[43m \u001b[49m\u001b[38;5;28;43mself\u001b[39;49m\u001b[38;5;241;43m.\u001b[39;49m\u001b[43mengine\u001b[49m\u001b[43m)\u001b[49m\n",
            "File \u001b[1;32mc:\\Users\\ASUS\\anaconda3\\Lib\\site-packages\\pandas\\io\\parsers\\readers.py:1705\u001b[0m, in \u001b[0;36mTextFileReader._make_engine\u001b[1;34m(self, f, engine)\u001b[0m\n\u001b[0;32m   1703\u001b[0m     \u001b[38;5;28;01mif\u001b[39;00m \u001b[38;5;124m\"\u001b[39m\u001b[38;5;124mb\u001b[39m\u001b[38;5;124m\"\u001b[39m \u001b[38;5;129;01mnot\u001b[39;00m \u001b[38;5;129;01min\u001b[39;00m mode:\n\u001b[0;32m   1704\u001b[0m         mode \u001b[38;5;241m+\u001b[39m\u001b[38;5;241m=\u001b[39m \u001b[38;5;124m\"\u001b[39m\u001b[38;5;124mb\u001b[39m\u001b[38;5;124m\"\u001b[39m\n\u001b[1;32m-> 1705\u001b[0m \u001b[38;5;28mself\u001b[39m\u001b[38;5;241m.\u001b[39mhandles \u001b[38;5;241m=\u001b[39m \u001b[43mget_handle\u001b[49m\u001b[43m(\u001b[49m\n\u001b[0;32m   1706\u001b[0m \u001b[43m    \u001b[49m\u001b[43mf\u001b[49m\u001b[43m,\u001b[49m\n\u001b[0;32m   1707\u001b[0m \u001b[43m    \u001b[49m\u001b[43mmode\u001b[49m\u001b[43m,\u001b[49m\n\u001b[0;32m   1708\u001b[0m \u001b[43m    \u001b[49m\u001b[43mencoding\u001b[49m\u001b[38;5;241;43m=\u001b[39;49m\u001b[38;5;28;43mself\u001b[39;49m\u001b[38;5;241;43m.\u001b[39;49m\u001b[43moptions\u001b[49m\u001b[38;5;241;43m.\u001b[39;49m\u001b[43mget\u001b[49m\u001b[43m(\u001b[49m\u001b[38;5;124;43m\"\u001b[39;49m\u001b[38;5;124;43mencoding\u001b[39;49m\u001b[38;5;124;43m\"\u001b[39;49m\u001b[43m,\u001b[49m\u001b[43m \u001b[49m\u001b[38;5;28;43;01mNone\u001b[39;49;00m\u001b[43m)\u001b[49m\u001b[43m,\u001b[49m\n\u001b[0;32m   1709\u001b[0m \u001b[43m    \u001b[49m\u001b[43mcompression\u001b[49m\u001b[38;5;241;43m=\u001b[39;49m\u001b[38;5;28;43mself\u001b[39;49m\u001b[38;5;241;43m.\u001b[39;49m\u001b[43moptions\u001b[49m\u001b[38;5;241;43m.\u001b[39;49m\u001b[43mget\u001b[49m\u001b[43m(\u001b[49m\u001b[38;5;124;43m\"\u001b[39;49m\u001b[38;5;124;43mcompression\u001b[39;49m\u001b[38;5;124;43m\"\u001b[39;49m\u001b[43m,\u001b[49m\u001b[43m \u001b[49m\u001b[38;5;28;43;01mNone\u001b[39;49;00m\u001b[43m)\u001b[49m\u001b[43m,\u001b[49m\n\u001b[0;32m   1710\u001b[0m \u001b[43m    \u001b[49m\u001b[43mmemory_map\u001b[49m\u001b[38;5;241;43m=\u001b[39;49m\u001b[38;5;28;43mself\u001b[39;49m\u001b[38;5;241;43m.\u001b[39;49m\u001b[43moptions\u001b[49m\u001b[38;5;241;43m.\u001b[39;49m\u001b[43mget\u001b[49m\u001b[43m(\u001b[49m\u001b[38;5;124;43m\"\u001b[39;49m\u001b[38;5;124;43mmemory_map\u001b[39;49m\u001b[38;5;124;43m\"\u001b[39;49m\u001b[43m,\u001b[49m\u001b[43m \u001b[49m\u001b[38;5;28;43;01mFalse\u001b[39;49;00m\u001b[43m)\u001b[49m\u001b[43m,\u001b[49m\n\u001b[0;32m   1711\u001b[0m \u001b[43m    \u001b[49m\u001b[43mis_text\u001b[49m\u001b[38;5;241;43m=\u001b[39;49m\u001b[43mis_text\u001b[49m\u001b[43m,\u001b[49m\n\u001b[0;32m   1712\u001b[0m \u001b[43m    \u001b[49m\u001b[43merrors\u001b[49m\u001b[38;5;241;43m=\u001b[39;49m\u001b[38;5;28;43mself\u001b[39;49m\u001b[38;5;241;43m.\u001b[39;49m\u001b[43moptions\u001b[49m\u001b[38;5;241;43m.\u001b[39;49m\u001b[43mget\u001b[49m\u001b[43m(\u001b[49m\u001b[38;5;124;43m\"\u001b[39;49m\u001b[38;5;124;43mencoding_errors\u001b[39;49m\u001b[38;5;124;43m\"\u001b[39;49m\u001b[43m,\u001b[49m\u001b[43m \u001b[49m\u001b[38;5;124;43m\"\u001b[39;49m\u001b[38;5;124;43mstrict\u001b[39;49m\u001b[38;5;124;43m\"\u001b[39;49m\u001b[43m)\u001b[49m\u001b[43m,\u001b[49m\n\u001b[0;32m   1713\u001b[0m \u001b[43m    \u001b[49m\u001b[43mstorage_options\u001b[49m\u001b[38;5;241;43m=\u001b[39;49m\u001b[38;5;28;43mself\u001b[39;49m\u001b[38;5;241;43m.\u001b[39;49m\u001b[43moptions\u001b[49m\u001b[38;5;241;43m.\u001b[39;49m\u001b[43mget\u001b[49m\u001b[43m(\u001b[49m\u001b[38;5;124;43m\"\u001b[39;49m\u001b[38;5;124;43mstorage_options\u001b[39;49m\u001b[38;5;124;43m\"\u001b[39;49m\u001b[43m,\u001b[49m\u001b[43m \u001b[49m\u001b[38;5;28;43;01mNone\u001b[39;49;00m\u001b[43m)\u001b[49m\u001b[43m,\u001b[49m\n\u001b[0;32m   1714\u001b[0m \u001b[43m\u001b[49m\u001b[43m)\u001b[49m\n\u001b[0;32m   1715\u001b[0m \u001b[38;5;28;01massert\u001b[39;00m \u001b[38;5;28mself\u001b[39m\u001b[38;5;241m.\u001b[39mhandles \u001b[38;5;129;01mis\u001b[39;00m \u001b[38;5;129;01mnot\u001b[39;00m \u001b[38;5;28;01mNone\u001b[39;00m\n\u001b[0;32m   1716\u001b[0m f \u001b[38;5;241m=\u001b[39m \u001b[38;5;28mself\u001b[39m\u001b[38;5;241m.\u001b[39mhandles\u001b[38;5;241m.\u001b[39mhandle\n",
            "File \u001b[1;32mc:\\Users\\ASUS\\anaconda3\\Lib\\site-packages\\pandas\\io\\common.py:863\u001b[0m, in \u001b[0;36mget_handle\u001b[1;34m(path_or_buf, mode, encoding, compression, memory_map, is_text, errors, storage_options)\u001b[0m\n\u001b[0;32m    858\u001b[0m \u001b[38;5;28;01melif\u001b[39;00m \u001b[38;5;28misinstance\u001b[39m(handle, \u001b[38;5;28mstr\u001b[39m):\n\u001b[0;32m    859\u001b[0m     \u001b[38;5;66;03m# Check whether the filename is to be opened in binary mode.\u001b[39;00m\n\u001b[0;32m    860\u001b[0m     \u001b[38;5;66;03m# Binary mode does not support 'encoding' and 'newline'.\u001b[39;00m\n\u001b[0;32m    861\u001b[0m     \u001b[38;5;28;01mif\u001b[39;00m ioargs\u001b[38;5;241m.\u001b[39mencoding \u001b[38;5;129;01mand\u001b[39;00m \u001b[38;5;124m\"\u001b[39m\u001b[38;5;124mb\u001b[39m\u001b[38;5;124m\"\u001b[39m \u001b[38;5;129;01mnot\u001b[39;00m \u001b[38;5;129;01min\u001b[39;00m ioargs\u001b[38;5;241m.\u001b[39mmode:\n\u001b[0;32m    862\u001b[0m         \u001b[38;5;66;03m# Encoding\u001b[39;00m\n\u001b[1;32m--> 863\u001b[0m         handle \u001b[38;5;241m=\u001b[39m \u001b[38;5;28;43mopen\u001b[39;49m\u001b[43m(\u001b[49m\n\u001b[0;32m    864\u001b[0m \u001b[43m            \u001b[49m\u001b[43mhandle\u001b[49m\u001b[43m,\u001b[49m\n\u001b[0;32m    865\u001b[0m \u001b[43m            \u001b[49m\u001b[43mioargs\u001b[49m\u001b[38;5;241;43m.\u001b[39;49m\u001b[43mmode\u001b[49m\u001b[43m,\u001b[49m\n\u001b[0;32m    866\u001b[0m \u001b[43m            \u001b[49m\u001b[43mencoding\u001b[49m\u001b[38;5;241;43m=\u001b[39;49m\u001b[43mioargs\u001b[49m\u001b[38;5;241;43m.\u001b[39;49m\u001b[43mencoding\u001b[49m\u001b[43m,\u001b[49m\n\u001b[0;32m    867\u001b[0m \u001b[43m            \u001b[49m\u001b[43merrors\u001b[49m\u001b[38;5;241;43m=\u001b[39;49m\u001b[43merrors\u001b[49m\u001b[43m,\u001b[49m\n\u001b[0;32m    868\u001b[0m \u001b[43m            \u001b[49m\u001b[43mnewline\u001b[49m\u001b[38;5;241;43m=\u001b[39;49m\u001b[38;5;124;43m\"\u001b[39;49m\u001b[38;5;124;43m\"\u001b[39;49m\u001b[43m,\u001b[49m\n\u001b[0;32m    869\u001b[0m \u001b[43m        \u001b[49m\u001b[43m)\u001b[49m\n\u001b[0;32m    870\u001b[0m     \u001b[38;5;28;01melse\u001b[39;00m:\n\u001b[0;32m    871\u001b[0m         \u001b[38;5;66;03m# Binary mode\u001b[39;00m\n\u001b[0;32m    872\u001b[0m         handle \u001b[38;5;241m=\u001b[39m \u001b[38;5;28mopen\u001b[39m(handle, ioargs\u001b[38;5;241m.\u001b[39mmode)\n",
            "\u001b[1;31mFileNotFoundError\u001b[0m: [Errno 2] No such file or directory: 'diabetes.csv'"
          ]
        }
      ],
      "source": [
        "df = pd.read_csv('diabetes.csv')\n",
        "\n",
        "df.head()"
      ]
    },
    {
      "cell_type": "code",
      "execution_count": null,
      "metadata": {
        "ExecuteTime": {
          "end_time": "2022-02-01T20:06:14.948466Z",
          "start_time": "2022-02-01T20:06:14.945099Z"
        },
        "id": "FLhOP6n19IBP"
      },
      "outputs": [],
      "source": [
        "X = df[['Glucose', 'Age']]\n",
        "y = df['Outcome']"
      ]
    },
    {
      "cell_type": "code",
      "execution_count": null,
      "metadata": {
        "ExecuteTime": {
          "end_time": "2022-02-01T20:24:59.044591Z",
          "start_time": "2022-02-01T20:24:59.039470Z"
        },
        "id": "nvlWFIpL9IBP"
      },
      "outputs": [],
      "source": [
        "X_train, X_test, y_train, y_test = train_test_split(X, y, test_size=0.3, stratify=y, random_state=42)"
      ]
    },
    {
      "cell_type": "code",
      "execution_count": null,
      "metadata": {
        "ExecuteTime": {
          "end_time": "2022-02-01T20:25:18.499855Z",
          "start_time": "2022-02-01T20:25:18.496736Z"
        },
        "id": "f3nZTAhp9IBV"
      },
      "outputs": [],
      "source": [
        "def get_report(model, X_test, y_true):\n",
        "    y_pred = model.predict(X_test)\n",
        "    print(classification_report(y_true, y_pred, digits=4))"
      ]
    },
    {
      "cell_type": "markdown",
      "metadata": {
        "id": "1SDLxj319IBP"
      },
      "source": [
        "# kNN (k-найближчі сусіди)"
      ]
    },
    {
      "cell_type": "code",
      "execution_count": null,
      "metadata": {
        "ExecuteTime": {
          "end_time": "2022-02-01T20:06:05.340517Z",
          "start_time": "2022-02-01T20:06:05.299824Z"
        },
        "colab": {
          "base_uri": "https://localhost:8080/",
          "height": 74
        },
        "id": "6N2pCOAv9IBT",
        "outputId": "1115ca55-07b5-4736-e900-c3a940fa9126"
      },
      "outputs": [],
      "source": [
        "knn = KNeighborsClassifier(n_neighbors=8)\n",
        "knn.fit(X_train, y_train)"
      ]
    },
    {
      "cell_type": "code",
      "execution_count": null,
      "metadata": {
        "ExecuteTime": {
          "end_time": "2022-02-01T17:34:12.711998Z",
          "start_time": "2022-02-01T17:34:12.694367Z"
        },
        "colab": {
          "base_uri": "https://localhost:8080/"
        },
        "id": "jZNpyYCm9IBW",
        "outputId": "928cc4cb-dfa1-4203-9834-1ddb42760fba"
      },
      "outputs": [],
      "source": [
        "get_report(knn, X_test, y_test)"
      ]
    },
    {
      "cell_type": "markdown",
      "metadata": {
        "id": "i5RJs2Q39IBW"
      },
      "source": [
        "# Дерево Рішень"
      ]
    },
    {
      "cell_type": "code",
      "execution_count": null,
      "metadata": {
        "ExecuteTime": {
          "end_time": "2022-02-01T17:47:42.502921Z",
          "start_time": "2022-02-01T17:47:42.489498Z"
        },
        "colab": {
          "base_uri": "https://localhost:8080/"
        },
        "id": "331OospP9IBW",
        "outputId": "a8fcc430-4072-4a5c-a9b2-99a26dd86d4b"
      },
      "outputs": [],
      "source": [
        "dt = DecisionTreeClassifier()\n",
        "dt.fit(X_train, y_train)\n",
        "get_report(dt, X_test, y_test)"
      ]
    },
    {
      "cell_type": "markdown",
      "metadata": {
        "ExecuteTime": {
          "end_time": "2021-10-31T20:21:29.548380Z",
          "start_time": "2021-10-31T20:21:29.546288Z"
        },
        "id": "EM5w49yz9IBW"
      },
      "source": [
        "# Логістична регресія"
      ]
    },
    {
      "cell_type": "code",
      "execution_count": null,
      "metadata": {
        "ExecuteTime": {
          "end_time": "2022-02-01T18:05:40.252596Z",
          "start_time": "2022-02-01T18:05:40.234597Z"
        },
        "colab": {
          "base_uri": "https://localhost:8080/"
        },
        "id": "PcxMO0jX9IBW",
        "outputId": "1609ae95-b25b-4107-d1fd-4c69e1edc207"
      },
      "outputs": [],
      "source": [
        "log_reg = LogisticRegression(solver='lbfgs', max_iter = 1000)\n",
        "\n",
        "log_reg.fit(X_train, y_train)\n",
        "get_report(log_reg, X_test, y_test)"
      ]
    },
    {
      "cell_type": "markdown",
      "metadata": {
        "id": "yDESv7O49IBX"
      },
      "source": [
        "# Ансамблювання: Голосування (Voting)"
      ]
    },
    {
      "cell_type": "code",
      "execution_count": null,
      "metadata": {
        "ExecuteTime": {
          "end_time": "2022-02-01T20:24:38.911611Z",
          "start_time": "2022-02-01T20:24:38.909042Z"
        },
        "id": "BeEy_NB99IBX"
      },
      "outputs": [],
      "source": [
        "from sklearn.ensemble import VotingClassifier"
      ]
    },
    {
      "cell_type": "markdown",
      "metadata": {
        "id": "Iv4NxdN69IBX"
      },
      "source": [
        "Для `VotingClassifier` нам не потрібно мати навчені моделі. Всередині, `VotingClassifier` створює копії моделей і навчає їх самостійно, а потім агрегує."
      ]
    },
    {
      "cell_type": "code",
      "execution_count": null,
      "metadata": {
        "ExecuteTime": {
          "end_time": "2022-02-01T20:24:37.037185Z",
          "start_time": "2022-02-01T20:24:37.034350Z"
        },
        "id": "RzFa7n9E9IBX"
      },
      "outputs": [],
      "source": [
        "dt = DecisionTreeClassifier()\n",
        "knn_best = KNeighborsClassifier(n_neighbors=8)\n",
        "log_reg = LogisticRegression(solver='lbfgs')"
      ]
    },
    {
      "cell_type": "markdown",
      "metadata": {
        "id": "I283tO1p9IBX"
      },
      "source": [
        "Модель не навчена, тому не може передбачати."
      ]
    },
    {
      "cell_type": "code",
      "execution_count": null,
      "metadata": {
        "ExecuteTime": {
          "end_time": "2022-02-01T20:30:49.105011Z",
          "start_time": "2022-02-01T20:30:49.095067Z"
        },
        "id": "dfFOOxBO9IBX"
      },
      "outputs": [],
      "source": [
        "# dt.predict(X_test)"
      ]
    },
    {
      "cell_type": "code",
      "execution_count": null,
      "metadata": {
        "ExecuteTime": {
          "end_time": "2022-02-01T20:28:40.309268Z",
          "start_time": "2022-02-01T20:28:40.275735Z"
        },
        "colab": {
          "base_uri": "https://localhost:8080/"
        },
        "id": "u5mLswsO9IBX",
        "outputId": "9d128480-60fc-42ef-e3f3-97b62acb4d2f"
      },
      "outputs": [],
      "source": [
        "# оглошуємо словник моделей\n",
        "estimators=[('knn', knn_best), ('dt', dt), ('log_reg', log_reg)]\n",
        "\n",
        "# створюємо voting класифікатор\n",
        "ensemble = VotingClassifier(estimators)\n",
        "\n",
        "ensemble.fit(X_train, y_train)\n",
        "get_report(ensemble, X_test, y_test)"
      ]
    },
    {
      "cell_type": "code",
      "execution_count": null,
      "metadata": {
        "id": "HbsB-_1rPQhe"
      },
      "outputs": [],
      "source": [
        "?VotingClassifier"
      ]
    },
    {
      "cell_type": "markdown",
      "metadata": {
        "id": "6k8fdi6A9IBY"
      },
      "source": [
        "Після навчання початкові моделі залишилися ненавченими, тому `dt` все ще не може передбачати."
      ]
    },
    {
      "cell_type": "code",
      "execution_count": null,
      "metadata": {
        "ExecuteTime": {
          "end_time": "2022-02-01T20:30:43.990264Z",
          "start_time": "2022-02-01T20:30:43.979960Z"
        },
        "colab": {
          "base_uri": "https://localhost:8080/",
          "height": 287
        },
        "id": "pk2Vff-N9IBY",
        "outputId": "66385ff4-b898-462e-8d8c-bab2dddf6c1b"
      },
      "outputs": [],
      "source": [
        "# dt.predict(X_test)"
      ]
    },
    {
      "cell_type": "markdown",
      "metadata": {
        "id": "XP37Y2ou9IBY"
      },
      "source": [
        "Але оцінювач (estimator) був навчений у рамках ансамблю. Отримати всі оцінювачі ансамблю можемо так:"
      ]
    },
    {
      "cell_type": "code",
      "execution_count": null,
      "metadata": {
        "ExecuteTime": {
          "end_time": "2022-02-01T20:29:39.425803Z",
          "start_time": "2022-02-01T20:29:39.421187Z"
        },
        "colab": {
          "base_uri": "https://localhost:8080/"
        },
        "id": "XbNwrXwv9IBY",
        "outputId": "943a50b1-00d0-4bb9-82b5-83b3ee9a782d"
      },
      "outputs": [],
      "source": [
        "ensemble.estimators_"
      ]
    },
    {
      "cell_type": "markdown",
      "metadata": {
        "id": "Hl05kgX79IBY"
      },
      "source": [
        "А перевірити, що вони навчені - так:"
      ]
    },
    {
      "cell_type": "code",
      "execution_count": null,
      "metadata": {
        "ExecuteTime": {
          "end_time": "2022-02-01T20:30:38.992481Z",
          "start_time": "2022-02-01T20:30:38.986514Z"
        },
        "colab": {
          "base_uri": "https://localhost:8080/"
        },
        "id": "Nb0W8oPY9IBY",
        "outputId": "dab41604-23db-4f19-d7e2-b53914fd3753"
      },
      "outputs": [],
      "source": [
        "ensemble.estimators_[1].predict(X_test)"
      ]
    },
    {
      "cell_type": "markdown",
      "metadata": {
        "ExecuteTime": {
          "end_time": "2020-01-11T09:46:24.816058Z",
          "start_time": "2020-01-11T09:46:24.808560Z"
        },
        "id": "gpLx5M4D9IBY"
      },
      "source": [
        "М'яке голосування (soft voting) можливе лише тоді, коли всі ваші класифікатори можуть обчислювати ймовірності результатів (predict proba). М'яке голосування дає найкращий результат шляхом усереднення ймовірностей, обчислених окремими алгоритмами.  \n",
        "Давайте спробуємо застосувати м'яке голосування."
      ]
    },
    {
      "cell_type": "code",
      "execution_count": null,
      "metadata": {
        "colab": {
          "base_uri": "https://localhost:8080/"
        },
        "id": "1doQzWSNP9YP",
        "outputId": "861b20e4-ea3c-4ef9-e97d-f22fe483d153"
      },
      "outputs": [],
      "source": [
        "import inspect\n",
        "from sklearn.tree import DecisionTreeRegressor\n",
        "\n",
        "inspect.getmembers(DecisionTreeRegressor, predicate=inspect.isfunction)"
      ]
    },
    {
      "cell_type": "code",
      "execution_count": null,
      "metadata": {
        "ExecuteTime": {
          "end_time": "2022-02-01T17:51:01.368152Z",
          "start_time": "2022-02-01T17:51:01.343052Z"
        },
        "colab": {
          "base_uri": "https://localhost:8080/"
        },
        "id": "x13wjVL-9IBZ",
        "outputId": "5cf2aa42-b402-451d-bffb-e19b51dfa99a"
      },
      "outputs": [],
      "source": [
        "ensemble = VotingClassifier(estimators, voting='soft')\n",
        "\n",
        "ensemble.fit(X_train, y_train)\n",
        "get_report(ensemble, X_test, y_test)"
      ]
    },
    {
      "cell_type": "markdown",
      "metadata": {
        "id": "DCuVpovo9IBZ"
      },
      "source": [
        "Можемо передати ваги учасників голосування:"
      ]
    },
    {
      "cell_type": "code",
      "execution_count": null,
      "metadata": {
        "colab": {
          "base_uri": "https://localhost:8080/"
        },
        "id": "6d75v5xhQ4RY",
        "outputId": "983ed09a-370b-499b-cb66-276541f8940f"
      },
      "outputs": [],
      "source": [
        "estimators"
      ]
    },
    {
      "cell_type": "code",
      "execution_count": null,
      "metadata": {
        "ExecuteTime": {
          "end_time": "2022-02-01T17:56:36.898194Z",
          "start_time": "2022-02-01T17:56:36.863482Z"
        },
        "colab": {
          "base_uri": "https://localhost:8080/"
        },
        "id": "yb8jbD1j9IBZ",
        "outputId": "269c54c7-d807-4896-d3bd-c8119197a2e3"
      },
      "outputs": [],
      "source": [
        "ensemble = VotingClassifier(estimators, voting ='hard', weights=[2, 1, 10])\n",
        "\n",
        "ensemble.fit(X_train, y_train)\n",
        "get_report(ensemble, X_test, y_test)"
      ]
    },
    {
      "cell_type": "markdown",
      "metadata": {
        "id": "lFxb3OEK9IBZ"
      },
      "source": [
        "# Стекинг (Stacking)"
      ]
    },
    {
      "cell_type": "markdown",
      "metadata": {
        "id": "bnTrJ5mS9IBZ"
      },
      "source": [
        "stack_method : {'auto', 'predict_proba', 'decision_function', 'predict'},             default='auto'\n",
        "    Методи, що викликаються для кожного базового оцінювача. Це може бути:\n",
        "\n",
        "    * якщо 'auto', він спробує викликати для кожного оцінювача\n",
        "      `'predict_proba'`, `'decision_function'` або `'predict'` у цьому\n",
        "      порядку.\n",
        "    * в іншому випадку, один з `'predict_proba'`, `'decision_function'` або\n",
        "      `'predict'`. Якщо метод не реалізований оцінювачем, буде викликана помилка."
      ]
    },
    {
      "cell_type": "code",
      "execution_count": null,
      "metadata": {
        "ExecuteTime": {
          "end_time": "2022-02-01T20:34:04.154824Z",
          "start_time": "2022-02-01T20:34:04.034063Z"
        },
        "colab": {
          "base_uri": "https://localhost:8080/"
        },
        "id": "yL6QmcSs9IBZ",
        "outputId": "c48794a2-d43d-4033-d4be-18acfe80e6e0"
      },
      "outputs": [],
      "source": [
        "from sklearn.ensemble import StackingClassifier\n",
        "\n",
        "\n",
        "estimators=[('knn', knn_best), ('dt', dt), ('log_reg', log_reg)]\n",
        "stacking_clf = StackingClassifier(\n",
        "    estimators=estimators, final_estimator=LogisticRegression()\n",
        ")\n",
        "stacking_clf.fit(X_train, y_train)\n",
        "get_report(stacking_clf, X_test, y_test)"
      ]
    },
    {
      "cell_type": "markdown",
      "metadata": {
        "id": "X2JUi0zK9IBa"
      },
      "source": [
        "Ось атрибути стекінгу, до яких ви можете звернутися:"
      ]
    },
    {
      "cell_type": "code",
      "execution_count": null,
      "metadata": {
        "ExecuteTime": {
          "end_time": "2022-02-01T20:34:19.475988Z",
          "start_time": "2022-02-01T20:34:19.468690Z"
        },
        "colab": {
          "base_uri": "https://localhost:8080/"
        },
        "id": "BqV-HC9B9IBa",
        "outputId": "f5d77979-3440-4f83-df22-3b77c8fc9f9e"
      },
      "outputs": [],
      "source": [
        "vars(stacking_clf)"
      ]
    },
    {
      "cell_type": "markdown",
      "metadata": {
        "id": "2N33tKHw9IBa"
      },
      "source": [
        "Можна подивитися, які значення видає фінальна модель при різних вхідних значеннях:"
      ]
    },
    {
      "cell_type": "code",
      "execution_count": null,
      "metadata": {
        "colab": {
          "base_uri": "https://localhost:8080/",
          "height": 206
        },
        "id": "G7QEflVCqSHZ",
        "outputId": "d93c17a0-867d-404a-c8fc-1025850f63b3"
      },
      "outputs": [],
      "source": [
        "X_train.head()"
      ]
    },
    {
      "cell_type": "code",
      "execution_count": null,
      "metadata": {
        "ExecuteTime": {
          "end_time": "2022-02-01T20:36:36.871330Z",
          "start_time": "2022-02-01T20:36:36.866943Z"
        },
        "colab": {
          "base_uri": "https://localhost:8080/"
        },
        "id": "njjP8Mhh9IBa",
        "outputId": "808bc23e-ada6-4270-f2c9-a6f6c2de447b"
      },
      "outputs": [],
      "source": [
        "stacking_clf.final_estimator_.predict_proba([[0.1,0.4,0.9]])"
      ]
    },
    {
      "cell_type": "code",
      "execution_count": null,
      "metadata": {
        "ExecuteTime": {
          "end_time": "2022-02-01T20:36:47.596984Z",
          "start_time": "2022-02-01T20:36:47.592428Z"
        },
        "colab": {
          "base_uri": "https://localhost:8080/"
        },
        "id": "Igum_Cog9IBa",
        "outputId": "565b2972-518c-4705-a475-a4d3e7f33f5f"
      },
      "outputs": [],
      "source": [
        "stacking_clf.final_estimator_.predict([[0,1,1]])"
      ]
    },
    {
      "cell_type": "markdown",
      "metadata": {
        "id": "WtOk7fWH9IBa"
      },
      "source": [
        "Виходить, що насправді найбільш значущою моделлю є knn при прийнятті рішень."
      ]
    },
    {
      "cell_type": "markdown",
      "metadata": {
        "id": "P558T_X39IBb"
      },
      "source": [
        "# Беггінг (Bagging) та Пастинг (Pasting)"
      ]
    },
    {
      "cell_type": "markdown",
      "metadata": {
        "ExecuteTime": {
          "end_time": "2020-01-11T12:18:26.156874Z",
          "start_time": "2020-01-11T12:18:26.152677Z"
        },
        "id": "zc9Y0xb49IBb"
      },
      "source": [
        "Реалізація `BaggingClassifier` в `sklearn` включає в себе кілька алгоритмів з літератури.\n",
        "\n",
        "-  Якщо випадкові підмножини даних обираються без заміни, то цей метод називається Pasting.\n",
        "\n",
        "- Якщо зразки взяті з заміною, то метод відомий як Bagging.\n",
        "\n",
        "- Коли випадкові підмножини набору даних вибираються як випадкові підмножини ознак (features), тоді метод відомий як Random Subspaces.\n",
        "\n",
        "- Коли побудовані базові оцінювачі на підмножинах як зразків, так і ознак, тоді метод відомий як Random Patches."
      ]
    },
    {
      "cell_type": "code",
      "execution_count": null,
      "metadata": {
        "ExecuteTime": {
          "end_time": "2022-02-01T18:14:19.865905Z",
          "start_time": "2022-02-01T18:14:19.862947Z"
        },
        "id": "TCWgBvtB9IBb"
      },
      "outputs": [],
      "source": [
        "from sklearn.ensemble import BaggingClassifier\n",
        "from sklearn.tree import DecisionTreeClassifier"
      ]
    },
    {
      "cell_type": "code",
      "execution_count": null,
      "metadata": {
        "ExecuteTime": {
          "end_time": "2022-02-01T18:15:17.061331Z",
          "start_time": "2022-02-01T18:15:16.339596Z"
        },
        "colab": {
          "base_uri": "https://localhost:8080/"
        },
        "id": "x9Isxteg9IBb",
        "outputId": "449a8aea-a0b7-404c-a945-5c0dcc7682be"
      },
      "outputs": [],
      "source": [
        "bag_clf = BaggingClassifier(\n",
        "    DecisionTreeClassifier(random_state=4),\n",
        "    n_estimators=1000,\n",
        "    max_samples=500,\n",
        "    bootstrap=True,\n",
        "    n_jobs=-1,\n",
        "    random_state=42\n",
        ")\n",
        "bag_clf.fit(X_train, y_train)\n",
        "\n",
        "get_report(bag_clf, X_test, y_test)"
      ]
    },
    {
      "cell_type": "markdown",
      "metadata": {
        "id": "IxIzfF-A9IBb"
      },
      "source": [
        "## bootstrap=False - для алгоритму Pasting"
      ]
    },
    {
      "cell_type": "code",
      "execution_count": null,
      "metadata": {
        "ExecuteTime": {
          "end_time": "2022-02-01T18:16:02.854569Z",
          "start_time": "2022-02-01T18:16:02.500531Z"
        },
        "colab": {
          "base_uri": "https://localhost:8080/"
        },
        "id": "9Vzu1dLO9IBb",
        "outputId": "12d119c6-f858-4b11-b9a7-af137fecb886"
      },
      "outputs": [],
      "source": [
        "bag_clf = BaggingClassifier(\n",
        "    DecisionTreeClassifier(random_state=42),\n",
        "    n_estimators=500,\n",
        "    max_samples=200,\n",
        "    bootstrap=False,\n",
        "    n_jobs=-1,\n",
        "    random_state=42\n",
        ")\n",
        "bag_clf.fit(X_train, y_train)\n",
        "\n",
        "get_report(bag_clf, X_test, y_test)"
      ]
    },
    {
      "cell_type": "markdown",
      "metadata": {
        "id": "e77kyqr19IBc"
      },
      "source": [
        "Параметр `oob_score : bool`, за замовчуванням `False` і означає `Чи використовувати поза out-of-bag зразки для оцінки помилки узагальнення.`"
      ]
    },
    {
      "cell_type": "code",
      "execution_count": null,
      "metadata": {
        "ExecuteTime": {
          "end_time": "2022-02-01T18:16:24.255092Z",
          "start_time": "2022-02-01T18:16:24.250959Z"
        },
        "colab": {
          "base_uri": "https://localhost:8080/"
        },
        "id": "AXKLu6629IBc",
        "outputId": "23009641-e3c1-494b-8a65-ce59b201516f"
      },
      "outputs": [],
      "source": [
        "bag_clf.oob_score"
      ]
    },
    {
      "cell_type": "markdown",
      "metadata": {
        "ExecuteTime": {
          "end_time": "2020-01-11T11:58:45.289465Z",
          "start_time": "2020-01-11T11:58:45.286124Z"
        },
        "id": "f_u-szB69IBc"
      },
      "source": [
        "## Оцінка Out-of-Bag"
      ]
    },
    {
      "cell_type": "code",
      "execution_count": null,
      "metadata": {
        "ExecuteTime": {
          "end_time": "2022-02-01T16:58:48.710127Z",
          "start_time": "2022-02-01T16:58:48.710109Z"
        },
        "colab": {
          "base_uri": "https://localhost:8080/"
        },
        "id": "UNpFXtQS9IBc",
        "outputId": "f8fd6f7a-e916-4e39-c88f-6177e4f9d1bd"
      },
      "outputs": [],
      "source": [
        "bag_clf = BaggingClassifier(\n",
        "    DecisionTreeClassifier(random_state=42), n_estimators=500,\n",
        "    max_samples=100, bootstrap=True, n_jobs=-1, random_state=42,\n",
        "    oob_score=True\n",
        ")\n",
        "bag_clf.fit(X_train, y_train)\n",
        "\n",
        "get_report(bag_clf, X_test, y_test)"
      ]
    },
    {
      "cell_type": "code",
      "execution_count": null,
      "metadata": {
        "ExecuteTime": {
          "end_time": "2022-02-01T16:58:48.711644Z",
          "start_time": "2022-02-01T16:58:48.711627Z"
        },
        "id": "pRgPXpAd9IBc"
      },
      "outputs": [],
      "source": [
        "bag_clf.oob_score_"
      ]
    },
    {
      "cell_type": "markdown",
      "metadata": {
        "id": "Y2CgDEX_9IBc"
      },
      "source": [
        "# Випадковий ліс (Random Forest)"
      ]
    },
    {
      "cell_type": "code",
      "execution_count": null,
      "metadata": {
        "ExecuteTime": {
          "end_time": "2022-02-01T18:24:23.962892Z",
          "start_time": "2022-02-01T18:24:23.935881Z"
        },
        "colab": {
          "base_uri": "https://localhost:8080/"
        },
        "id": "lr4Dq7gC9IBc",
        "outputId": "64c26905-76c7-4c2b-b10b-189549911443"
      },
      "outputs": [],
      "source": [
        "from sklearn.ensemble import RandomForestClassifier\n",
        "\n",
        "rnd_clf = RandomForestClassifier(n_estimators=5, max_leaf_nodes=16, n_jobs=-1, random_state=42)\n",
        "rnd_clf.fit(X_train, y_train)\n",
        "\n",
        "get_report(rnd_clf, X_test, y_test)"
      ]
    },
    {
      "cell_type": "code",
      "execution_count": null,
      "metadata": {
        "ExecuteTime": {
          "end_time": "2022-02-01T18:24:25.505875Z",
          "start_time": "2022-02-01T18:24:25.405949Z"
        },
        "colab": {
          "base_uri": "https://localhost:8080/",
          "height": 485
        },
        "id": "aTxdLE7o9IBd",
        "outputId": "19cd6c9a-260e-4cc7-d0f2-e9a2a6621b63"
      },
      "outputs": [],
      "source": [
        "plot_decision_regions(X_train.values, y_train.values, rnd_clf);"
      ]
    },
    {
      "cell_type": "code",
      "execution_count": null,
      "metadata": {
        "ExecuteTime": {
          "end_time": "2022-02-01T18:22:45.110785Z",
          "start_time": "2022-02-01T18:22:45.010863Z"
        },
        "colab": {
          "base_uri": "https://localhost:8080/",
          "height": 485
        },
        "id": "t1NSifNZ9IBd",
        "outputId": "a8aea742-ab7c-44e2-e68a-c93b3291a536"
      },
      "outputs": [],
      "source": [
        "rnd_clf = RandomForestClassifier(n_estimators=1, max_leaf_nodes=8, n_jobs=-1, random_state=42)\n",
        "rnd_clf.fit(X_train, y_train)\n",
        "plot_decision_regions(X_train.values, y_train.values, rnd_clf);"
      ]
    },
    {
      "cell_type": "markdown",
      "metadata": {
        "id": "I03wSoW09IBd"
      },
      "source": [
        "Підберемо гіперпараметри:"
      ]
    },
    {
      "cell_type": "code",
      "execution_count": null,
      "metadata": {
        "ExecuteTime": {
          "end_time": "2022-02-01T18:25:13.138128Z",
          "start_time": "2022-02-01T18:25:03.643239Z"
        },
        "colab": {
          "base_uri": "https://localhost:8080/"
        },
        "id": "wywCyDFM9IBd",
        "outputId": "49b9d080-f216-48b8-c2fb-aa50f16a453f"
      },
      "outputs": [],
      "source": [
        "rf = RandomForestClassifier(random_state=42)\n",
        "params_rf = {\n",
        "    'n_estimators': [1, 5, 10, 50, 100, 200],\n",
        "    'max_leaf_nodes':[4,8,16,32]\n",
        "}\n",
        "rf_gs = GridSearchCV(rf, params_rf, cv=5)\n",
        "rf_gs.fit(X_train, y_train)\n",
        "rf_best = rf_gs.best_estimator_\n",
        "print(rf_gs.best_params_)\n",
        "\n",
        "get_report(rf_best, X_test, y_test)"
      ]
    },
    {
      "cell_type": "markdown",
      "metadata": {
        "id": "34-TW9j89IBd"
      },
      "source": [
        "Scoring - краще встановлювати свій, тому що інакше буде використовуватися той, що за замовчуванням у алгоритму навчання, а у RandomForestClassifier - accuracy (точність)."
      ]
    },
    {
      "cell_type": "code",
      "execution_count": null,
      "metadata": {
        "ExecuteTime": {
          "end_time": "2022-02-01T18:26:31.825834Z",
          "start_time": "2022-02-01T18:26:22.722342Z"
        },
        "colab": {
          "base_uri": "https://localhost:8080/"
        },
        "id": "-_iuWRJQ9IBd",
        "outputId": "de03b714-4c7d-4f9f-e441-fb7fbeb3dc00"
      },
      "outputs": [],
      "source": [
        "rf = RandomForestClassifier(random_state=42)\n",
        "params_rf = {'n_estimators': [1, 5, 10, 50, 100, 200],\n",
        "            'max_leaf_nodes':[4, 8, 16, 32]}\n",
        "rf_gs = GridSearchCV(rf, params_rf, cv=5, scoring='f1_micro')\n",
        "rf_gs.fit(X_train, y_train)\n",
        "rf_best = rf_gs.best_estimator_\n",
        "print(rf_gs.best_params_)\n",
        "\n",
        "get_report(rf_best, X_test, y_test)"
      ]
    },
    {
      "cell_type": "code",
      "execution_count": null,
      "metadata": {
        "ExecuteTime": {
          "end_time": "2022-02-01T18:26:36.760401Z",
          "start_time": "2022-02-01T18:26:36.673223Z"
        },
        "colab": {
          "base_uri": "https://localhost:8080/",
          "height": 485
        },
        "id": "H9WBN5ZB9IBd",
        "outputId": "7ba699ba-7864-4df8-e37c-a0d8d9fdaeba"
      },
      "outputs": [],
      "source": [
        "plot_decision_regions(X_train.values, y_train.values, rf_best);"
      ]
    },
    {
      "cell_type": "markdown",
      "metadata": {
        "id": "OIpVmkvp9IBe"
      },
      "source": [
        "# Інші цікаві способи використання Random Forest\n",
        "## Регресія за допомогою випадкового лісу (Random forest regression)"
      ]
    },
    {
      "cell_type": "code",
      "execution_count": null,
      "metadata": {
        "ExecuteTime": {
          "end_time": "2022-02-01T18:27:13.004954Z",
          "start_time": "2022-02-01T18:27:13.001768Z"
        },
        "id": "WGHqR2PH9IBe"
      },
      "outputs": [],
      "source": [
        "rng = np.random.RandomState(42)\n",
        "x = 10 * rng.rand(200)"
      ]
    },
    {
      "cell_type": "code",
      "execution_count": null,
      "metadata": {
        "ExecuteTime": {
          "end_time": "2022-02-01T18:27:15.539374Z",
          "start_time": "2022-02-01T18:27:15.536210Z"
        },
        "id": "OeGfReOp9IBe"
      },
      "outputs": [],
      "source": [
        "def model(x, sigma=0.3):\n",
        "    fast_oscillation = np.sin(5 * x)\n",
        "    slow_oscillation = np.sin(0.5 * x)\n",
        "    noise = sigma * rng.randn(len(x))\n",
        "\n",
        "    return slow_oscillation + fast_oscillation + noise"
      ]
    },
    {
      "cell_type": "code",
      "execution_count": null,
      "metadata": {
        "ExecuteTime": {
          "end_time": "2022-02-01T18:27:18.383542Z",
          "start_time": "2022-02-01T18:27:18.266461Z"
        },
        "colab": {
          "base_uri": "https://localhost:8080/",
          "height": 430
        },
        "id": "vhl8_4DQ9IBe",
        "outputId": "9dbb28da-ef42-47a1-9e05-643182f7a21b"
      },
      "outputs": [],
      "source": [
        "y = model(x)\n",
        "plt.errorbar(x, y, 0.3, fmt='o');"
      ]
    },
    {
      "cell_type": "code",
      "execution_count": null,
      "metadata": {
        "ExecuteTime": {
          "end_time": "2022-02-01T18:27:54.087731Z",
          "start_time": "2022-02-01T18:27:53.845715Z"
        },
        "colab": {
          "base_uri": "https://localhost:8080/",
          "height": 74
        },
        "id": "Auu6NXdw9IBf",
        "outputId": "477b2de1-703b-49ba-b4d7-b68873d0c66f"
      },
      "outputs": [],
      "source": [
        "from sklearn.ensemble import RandomForestRegressor\n",
        "forest = RandomForestRegressor(n_estimators=200)\n",
        "forest.fit(x[:, None], y)"
      ]
    },
    {
      "cell_type": "code",
      "execution_count": null,
      "metadata": {
        "ExecuteTime": {
          "end_time": "2022-02-01T18:28:49.213205Z",
          "start_time": "2022-02-01T18:28:49.182170Z"
        },
        "id": "OQ0MCu0x9IBf"
      },
      "outputs": [],
      "source": [
        "xfit = np.linspace(0, 10, 1000)\n",
        "yfit = forest.predict(xfit[:, None])\n",
        "ytrue = model(xfit, sigma=0)"
      ]
    },
    {
      "cell_type": "code",
      "execution_count": null,
      "metadata": {
        "ExecuteTime": {
          "end_time": "2022-02-01T18:30:52.099795Z",
          "start_time": "2022-02-01T18:30:51.971396Z"
        },
        "colab": {
          "base_uri": "https://localhost:8080/",
          "height": 522
        },
        "id": "G4NH7ctP9IBf",
        "outputId": "6a7c9448-ad61-4217-a82d-6b8cb52a2c7a"
      },
      "outputs": [],
      "source": [
        "plt.figure(figsize=(10,6))\n",
        "plt.errorbar(x, y, 0.3, fmt='o', alpha=0.5)\n",
        "plt.plot(xfit, yfit, '-r');\n",
        "plt.plot(xfit, ytrue, '-k', alpha=0.5);"
      ]
    },
    {
      "cell_type": "markdown",
      "metadata": {
        "ExecuteTime": {
          "end_time": "2021-11-01T16:20:53.096922Z",
          "start_time": "2021-11-01T16:20:53.094766Z"
        },
        "id": "5P12OwP69IBf"
      },
      "source": [
        "## Random forest для класифікації зображень з цифрами"
      ]
    },
    {
      "cell_type": "markdown",
      "metadata": {
        "id": "zLhZnCdta06G"
      },
      "source": [
        "Спробуємо попрацювати з картинками 🖼\n",
        "Для цього завантажимо набір рукописних цифр."
      ]
    },
    {
      "cell_type": "code",
      "execution_count": null,
      "metadata": {
        "ExecuteTime": {
          "end_time": "2022-02-01T18:31:21.986626Z",
          "start_time": "2022-02-01T18:31:21.822245Z"
        },
        "colab": {
          "base_uri": "https://localhost:8080/"
        },
        "id": "XxcROOPv9IBf",
        "outputId": "86cee994-c395-49b4-ad9f-f732ad967bd9"
      },
      "outputs": [],
      "source": [
        "from sklearn.datasets import load_digits\n",
        "digits = load_digits()\n",
        "digits.keys()"
      ]
    },
    {
      "cell_type": "code",
      "execution_count": null,
      "metadata": {
        "ExecuteTime": {
          "end_time": "2022-02-01T18:31:23.640816Z",
          "start_time": "2022-02-01T18:31:23.636667Z"
        },
        "colab": {
          "base_uri": "https://localhost:8080/"
        },
        "id": "FKa6P3wA9IBg",
        "outputId": "e69a121b-76e3-41d0-855e-a9c05cbff2b8"
      },
      "outputs": [],
      "source": [
        "digits.data.max()"
      ]
    },
    {
      "cell_type": "markdown",
      "metadata": {
        "id": "NLFIQb1Qayof"
      },
      "source": [
        "Візуалізуємо наші дані."
      ]
    },
    {
      "cell_type": "code",
      "execution_count": null,
      "metadata": {
        "ExecuteTime": {
          "end_time": "2022-02-01T18:31:32.930258Z",
          "start_time": "2022-02-01T18:31:30.851942Z"
        },
        "colab": {
          "base_uri": "https://localhost:8080/",
          "height": 636
        },
        "id": "COfAbU9q9IBg",
        "outputId": "9a620ef9-3b6f-4715-abf7-9e919f935427"
      },
      "outputs": [],
      "source": [
        "fig = plt.figure(figsize=(6, 6))  # figure size in inches\n",
        "fig.subplots_adjust(left=0, right=1, bottom=0, top=1, hspace=0.05, wspace=0.05)\n",
        "\n",
        "# plot the digits: each image is 8x8 pixels\n",
        "for i in range(64):\n",
        "    ax = fig.add_subplot(8, 8, i + 1, xticks=[], yticks=[])\n",
        "    ax.imshow(digits.images[i], cmap=plt.cm.binary, interpolation='nearest')\n",
        "\n",
        "    # label the image with the target value\n",
        "    ax.text(0, 7, str(digits.target[i]))"
      ]
    },
    {
      "cell_type": "code",
      "execution_count": null,
      "metadata": {
        "ExecuteTime": {
          "end_time": "2022-02-01T18:31:37.259906Z",
          "start_time": "2022-02-01T18:31:37.255972Z"
        },
        "colab": {
          "base_uri": "https://localhost:8080/"
        },
        "id": "RFhoWwQU9IBg",
        "outputId": "a5f5bee0-1754-4bd7-b345-65122e75ab98"
      },
      "outputs": [],
      "source": [
        "digits.data.shape"
      ]
    },
    {
      "cell_type": "code",
      "execution_count": null,
      "metadata": {
        "colab": {
          "base_uri": "https://localhost:8080/"
        },
        "id": "unSiTQjOs5Pk",
        "outputId": "0f7046c0-300a-43e2-ecb6-13f4df45c1f2"
      },
      "outputs": [],
      "source": [
        "digits.data"
      ]
    },
    {
      "cell_type": "code",
      "execution_count": null,
      "metadata": {
        "ExecuteTime": {
          "end_time": "2022-02-01T18:32:55.281346Z",
          "start_time": "2022-02-01T18:32:52.676622Z"
        },
        "id": "gaSpiiha9IBg"
      },
      "outputs": [],
      "source": [
        "from sklearn.model_selection import train_test_split\n",
        "Xtrain, Xtest, ytrain, ytest = train_test_split(digits.data, digits.target,\n",
        "                                                random_state=0)\n",
        "model = RandomForestClassifier(n_estimators=1000)\n",
        "model.fit(Xtrain, ytrain)\n",
        "ypred = model.predict(Xtest)"
      ]
    },
    {
      "cell_type": "code",
      "execution_count": null,
      "metadata": {
        "ExecuteTime": {
          "end_time": "2022-02-01T18:32:57.393780Z",
          "start_time": "2022-02-01T18:32:57.385429Z"
        },
        "colab": {
          "base_uri": "https://localhost:8080/"
        },
        "id": "pobiMapf9IBg",
        "outputId": "0c352423-09f1-4af2-f21b-c42678dc08c7"
      },
      "outputs": [],
      "source": [
        "from sklearn import metrics\n",
        "print(metrics.classification_report(ypred, ytest))"
      ]
    },
    {
      "cell_type": "code",
      "execution_count": null,
      "metadata": {
        "ExecuteTime": {
          "end_time": "2022-02-01T18:33:57.987829Z",
          "start_time": "2022-02-01T18:33:57.567208Z"
        },
        "colab": {
          "base_uri": "https://localhost:8080/",
          "height": 542
        },
        "id": "D0RsceAd9IBg",
        "outputId": "ccebce43-1a17-4cdd-e8a1-0bd3657d8da9"
      },
      "outputs": [],
      "source": [
        "import seaborn as sns\n",
        "from sklearn.metrics import confusion_matrix\n",
        "\n",
        "mat = confusion_matrix(ytest, ypred)\n",
        "plt.figure(figsize=(10,6))\n",
        "sns.heatmap(mat.T, square=True, annot=True, fmt='d', cbar=True)\n",
        "plt.xlabel('true label')\n",
        "plt.ylabel('predicted label');"
      ]
    },
    {
      "cell_type": "code",
      "execution_count": null,
      "metadata": {
        "colab": {
          "base_uri": "https://localhost:8080/"
        },
        "id": "G8dJOXo8tl1J",
        "outputId": "9ab40cb7-22bd-4fba-88f2-8bb04c80b30f"
      },
      "outputs": [],
      "source": [
        "digits.target"
      ]
    },
    {
      "cell_type": "code",
      "execution_count": null,
      "metadata": {
        "colab": {
          "base_uri": "https://localhost:8080/",
          "height": 206
        },
        "id": "7pUWiXuDtd3d",
        "outputId": "8733b1bc-8b3b-4f8c-d17f-6e74a527ca93"
      },
      "outputs": [],
      "source": [
        "err_df = pd.DataFrame(digits.target, columns=['true'])\n",
        "ypred_full = model.predict(digits.data)\n",
        "\n",
        "err_df['pred'] = ypred_full\n",
        "err_df.head()"
      ]
    },
    {
      "cell_type": "code",
      "execution_count": null,
      "metadata": {
        "colab": {
          "base_uri": "https://localhost:8080/",
          "height": 363
        },
        "id": "9xxqs2tEtrt0",
        "outputId": "c56c0ca9-984f-4397-8bbb-51c2adaba906"
      },
      "outputs": [],
      "source": [
        "err_df[err_df['true'] != err_df['pred']]"
      ]
    },
    {
      "cell_type": "code",
      "execution_count": null,
      "metadata": {
        "colab": {
          "base_uri": "https://localhost:8080/",
          "height": 206
        },
        "id": "letIyhB2uSoe",
        "outputId": "f64afe0c-e19c-4663-a5bd-1600473bf5ac"
      },
      "outputs": [],
      "source": [
        "err_df[:5]"
      ]
    },
    {
      "cell_type": "code",
      "execution_count": null,
      "metadata": {
        "colab": {
          "base_uri": "https://localhost:8080/",
          "height": 430
        },
        "id": "A4d7P7BUt2lZ",
        "outputId": "023ef77c-1dee-4ed9-f8c6-ad581aa408ea"
      },
      "outputs": [],
      "source": [
        "plt.imshow(digits.images[1]);"
      ]
    }
  ],
  "metadata": {
    "colab": {
      "provenance": []
    },
    "kernelspec": {
      "display_name": "Python 3 (ipykernel)",
      "language": "python",
      "name": "python3"
    },
    "language_info": {
      "codemirror_mode": {
        "name": "ipython",
        "version": 3
      },
      "file_extension": ".py",
      "mimetype": "text/x-python",
      "name": "python",
      "nbconvert_exporter": "python",
      "pygments_lexer": "ipython3",
      "version": "3.11.7"
    },
    "toc": {
      "base_numbering": 1,
      "nav_menu": {},
      "number_sections": true,
      "sideBar": true,
      "skip_h1_title": false,
      "title_cell": "Table of Contents",
      "title_sidebar": "Contents",
      "toc_cell": false,
      "toc_position": {},
      "toc_section_display": true,
      "toc_window_display": false
    },
    "varInspector": {
      "cols": {
        "lenName": 16,
        "lenType": 16,
        "lenVar": 40
      },
      "kernels_config": {
        "python": {
          "delete_cmd_postfix": "",
          "delete_cmd_prefix": "del ",
          "library": "var_list.py",
          "varRefreshCmd": "print(var_dic_list())"
        },
        "r": {
          "delete_cmd_postfix": ") ",
          "delete_cmd_prefix": "rm(",
          "library": "var_list.r",
          "varRefreshCmd": "cat(var_dic_list()) "
        }
      },
      "types_to_exclude": [
        "module",
        "function",
        "builtin_function_or_method",
        "instance",
        "_Feature"
      ],
      "window_display": false
    }
  },
  "nbformat": 4,
  "nbformat_minor": 0
}
