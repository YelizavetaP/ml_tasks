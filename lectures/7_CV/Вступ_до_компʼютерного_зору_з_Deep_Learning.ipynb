{
  "cells": [
    {
      "cell_type": "markdown",
      "id": "08f47c6a-3318-4e3f-8bb3-c520e00e63dd",
      "metadata": {
        "id": "08f47c6a-3318-4e3f-8bb3-c520e00e63dd"
      },
      "source": [
        "# Вступ до компʼютерного зору з Deep Learning\n",
        "\n",
        "[Комп'ютерний зір (Computer Vision)](https://en.wikipedia.org/wiki/Computer_vision) - це мистецтво навчання комп'ютера бачити.\n",
        "\n",
        "Наприклад, це може включати побудову моделі для класифікації, чи є фото котом чи собакою ([бінарна класифікація](https://developers.google.com/machine-learning/glossary#binary-classification)).\n",
        "\n",
        "Або чи є фото котом, собакою чи куркою ([мультикласова класифікація](https://developers.google.com/machine-learning/glossary#multi-class-classification)).\n",
        "\n",
        "Або визначення, де автомобіль з'являється у кадрі відео ([виявлення об'єктів](https://en.wikipedia.org/wiki/Object_detection)).\n",
        "\n",
        "Або з'ясування, де різні об'єкти на зображенні можуть бути розділені ([паноптична сегментація](https://arxiv.org/abs/1801.00868)).\n",
        "\n",
        "![приклади проблем комп'ютерного зоріння](https://raw.githubusercontent.com/mrdbourke/pytorch-deep-learning/main/images/03-computer-vision-problems.png)\n",
        "*Приклади проблем комп'ютерного зоріння для бінарної класифікації, мультикласової класифікації, детекції об'єктів та сегментації.*"
      ]
    },
    {
      "cell_type": "markdown",
      "id": "19179a39-0c6c-40f7-9891-09e17d107ecf",
      "metadata": {
        "id": "19179a39-0c6c-40f7-9891-09e17d107ecf"
      },
      "source": [
        "## Де використовується комп'ютерний зір?\n",
        "\n",
        "Якщо ви користуєтеся смартфоном, ви вже використовували комп'ютерне зору.\n",
        "\n",
        "Камери та фото-додатки використовують [комп'ютерне зору для покращення](https://machinelearning.apple.com/research/panoptic-segmentation) та сортування зображень.\n",
        "\n",
        "Сучасні автомобілі використовують [комп'ютерне зору](https://youtu.be/j0z4FweCy4M?t=2989) для уникнення інших автомобілів та дотримання смуг руху.\n",
        "\n",
        "Виробники використовують комп'ютерне зору для виявлення дефектів у різних продуктах.\n",
        "\n",
        "Системи відеоспостереження використовують комп'ютерне зору для виявлення потенційних зловмисників.\n",
        "\n",
        "По суті, все, що можна описати візуально, може бути потенційною проблемою комп'ютерного зору."
      ]
    },
    {
      "cell_type": "markdown",
      "id": "412e8bd1-0e6b-4ad6-8506-b28a8f669dc1",
      "metadata": {
        "id": "412e8bd1-0e6b-4ad6-8506-b28a8f669dc1"
      },
      "source": [
        "## Що ми будемо розглядати\n",
        "\n",
        "Ми застосуємо робочий процес PyTorch, який ми вивчали в останніх кількох розділах, до комп'ютерного зору. При цьому познайомимось з деякими додатковими PyTorch інструментами та дізнаємось, як користуватись GPU для CV-задач.\n",
        "\n",
        "![робочий процес PyTorch з акцентом на комп'ютерний зір](https://raw.githubusercontent.com/mrdbourke/pytorch-deep-learning/main/images/03-pytorch-computer-vision-workflow.png)\n",
        "\n",
        "Конкретно, ми розглянемо:\n",
        "\n",
        "| **Тема** | **Зміст** |\n",
        "| ----- | ----- |\n",
        "| **0. Бібліотеки комп'ютерного зору в PyTorch** | PyTorch має кілька вбудованих корисних бібліотек комп'ютерного зору, дізнаємось, що взагалі є. |\n",
        "| **1. Завантаження даних** | Щоб практикувати комп'ютерний зір, ми почнемо з зображень різних предметів одягу з [FashionMNIST](https://github.com/zalandoresearch/fashion-mnist). |\n",
        "| **2. Підготовка даних** | У нас є кілька зображень, давайте завантажимо їх за допомогою [PyTorch `DataLoader`](https://pytorch.org/docs/stable/data.html), щоб ми могли використовувати їх у нашому циклі навчання. |\n",
        "| **3. Модель 0: Створення базової моделі** | Тут ми створимо модель багатокласової класифікації, щоб вивчити патерни в даних, ми також виберемо **функцію втрат**, **оптимізатор** і побудуємо **цикл навчання**. |\n",
        "| **4. Прогнозування та оцінка моделі 0** | Далі зробимо кілька прогнозів за допомогою нашої базової моделі та оцінемо їх. |\n",
        "| **5. Налаштування коду, незалежного від пристрою, для майбутніх моделей** | Найкраща практика - писати код, незалежний від пристрою, тож тут ми це забезпечимо. |\n",
        "| **6. Модель 1: Додавання нелінійності** | Експериментування є великою частиною машинного навчання, і ми спробуємо покращити нашу базову модель, додавши нелінійні шари. |\n",
        "| **7. Модель 2: Згорткова нейронна мережа (CNN)** | Час зосередитися на комп'ютерному зорі та представити потужну архітектуру згорткової нейронної мережі. |\n",
        "| **8. Порівняння наших моделей** | Ми побудували три різні моделі, час їх порівняти. |\n",
        "| **9. Оцінка нашої найкращої моделі** | Зробимо кілька прогнозів на випадкових зображеннях і оцінемо нашу найкращу модель. |\n",
        "| **10. Створення матриці плутанини** | Матриця плутанини - це чудовий спосіб оцінити модель класифікації, подивимося, як ми можемо її створити. |\n",
        "| **11. Збереження та завантаження найкращої моделі** | Оскільки ми можемо захотіти використовувати нашу модель пізніше, ми її збережемо і переконаємося, що вона правильно завантажується. |"
      ]
    },
    {
      "cell_type": "markdown",
      "id": "a0bedcfc-e12a-4a81-9913-84c6a888742a",
      "metadata": {
        "id": "a0bedcfc-e12a-4a81-9913-84c6a888742a"
      },
      "source": [
        "## 0. Бібліотеки комп'ютерного зору в PyTorch\n",
        "\n",
        "Перш ніж почати писати код, давайте поговоримо про деякі бібліотеки комп'ютерного зору в PyTorch, про які вам слід знати.\n",
        "\n",
        "| Модуль PyTorch | Що він робить? |\n",
        "| ----- | ----- |\n",
        "| [`torchvision`](https://pytorch.org/vision/stable/index.html) | Містить набори даних, архітектури моделей та перетворення зображень, які часто використовуються для задач комп'ютерного зору. |\n",
        "| [`torchvision.datasets`](https://pytorch.org/vision/stable/datasets.html) | Тут ви знайдете багато прикладів наборів даних комп'ютерного зору для різних задач, таких як класифікація зображень, виявлення об'єктів, підписування зображень, класифікація відео та інше. Також містить [серію базових класів для створення власних наборів даних](https://pytorch.org/vision/stable/datasets.html#base-classes-for-custom-datasets). |\n",
        "| [`torchvision.models`](https://pytorch.org/vision/stable/models.html) | Цей модуль містить архітектури моделей комп'ютерного зору, які добре працюють і часто використовуються, реалізовані в PyTorch, ви можете використовувати їх для своїх задач. |\n",
        "| [`torchvision.transforms`](https://pytorch.org/vision/stable/transforms.html) | Часто зображення потрібно перетворити (перетворити в числа/обробити/збільшити) перед використанням з моделлю, тут ви знайдете поширені перетворення зображень. |\n",
        "| [`torch.utils.data.Dataset`](https://pytorch.org/docs/stable/data.html#torch.utils.data.Dataset) | Базовий клас для оперування набором даних для PyTorch. |\n",
        "| [`torch.utils.data.DataLoader`](https://pytorch.org/docs/stable/data.html#module-torch.utils.data) | Створює ітератор Python над набором даних (створеним за допомогою `torch.utils.data.Dataset`). |\n",
        "\n",
        "> **Примітка:** Класи `torch.utils.data.Dataset` та `torch.utils.data.DataLoader` не призначені лише для комп'ютерного зору в PyTorch, вони здатні працювати з багатьма різними типами даних, як ми вже бачили в попередніх лекціях.\n",
        "\n",
        "Тепер, коли ми розглянули деякі з найважливіших бібліотек комп'ютерного зору в PyTorch, давайте імпортуємо відповідні залежності."
      ]
    },
    {
      "cell_type": "code",
      "execution_count": null,
      "id": "c263a60d-d788-482f-b9e7-9cab4f6b1f72",
      "metadata": {
        "colab": {
          "base_uri": "https://localhost:8080/"
        },
        "id": "c263a60d-d788-482f-b9e7-9cab4f6b1f72",
        "outputId": "09ddd297-db1a-437e-9994-e4e2172eb091"
      },
      "outputs": [
        {
          "output_type": "stream",
          "name": "stdout",
          "text": [
            "PyTorch version: 2.5.0+cu121\n",
            "torchvision version: 0.20.0+cu121\n"
          ]
        }
      ],
      "source": [
        "# Імпортуємо PyTorch\n",
        "import torch\n",
        "from torch import nn\n",
        "\n",
        "# Імпортуємо torchvision\n",
        "import torchvision\n",
        "from torchvision import datasets\n",
        "from torchvision.transforms import ToTensor\n",
        "\n",
        "# Імпортуємо matplotlib для візуалізації\n",
        "import matplotlib.pyplot as plt\n",
        "\n",
        "# Перевіряємо версії\n",
        "# Примітка: ваша версія PyTorch не повинна бути нижчою за 1.10.0, а версія torchvision не повинна бути нижчою за 0.11\n",
        "print(f\"PyTorch version: {torch.__version__}\\ntorchvision version: {torchvision.__version__}\")"
      ]
    },
    {
      "cell_type": "markdown",
      "id": "48d6bfe7-91da-44eb-9ab6-7c41c1e9fa8e",
      "metadata": {
        "id": "48d6bfe7-91da-44eb-9ab6-7c41c1e9fa8e"
      },
      "source": [
        "## 1. Отримання набору даних\n",
        "\n",
        "Щоб почати працювати над проблемою комп'ютерного зору, давайте отримаємо набір даних для комп'ютерного зору.\n",
        "\n",
        "Ми почнемо з FashionMNIST.\n",
        "\n",
        "MNIST означає Модифікований Національний Інститут Стандартів і Технологій.\n",
        "\n",
        "[Оригінальний набір даних MNIST](https://en.wikipedia.org/wiki/MNIST_database) містить тисячі прикладів рукописних цифр (від 0 до 9) і використовувався для створення моделей комп'ютерного зору для ідентифікації чисел для поштових служб.\n",
        "\n",
        "[FashionMNIST](https://github.com/zalandoresearch/fashion-mnist), створений дослідницькою групою Zalando, має подібну структуру.\n",
        "\n",
        "Однак він містить чорно-білі зображення 10 різних видів одягу.\n",
        "\n",
        "![приклад зображення FashionMNIST](https://raw.githubusercontent.com/mrdbourke/pytorch-deep-learning/main/images/03-fashion-mnist-slide.png)\n",
        "*`torchvision.datasets` містить багато прикладів наборів даних, які ви можете використовувати для практики написання коду комп'ютерного зору. FashionMNIST є одним з цих наборів даних. І оскільки він має 10 різних класів зображень (різні типи одягу), це проблема багатокласової класифікації.*\n",
        "\n",
        "Пізніше ми будемо створювати нейронну мережу комп'ютерного зору для ідентифікації різних стилів одягу на цих зображеннях.\n",
        "\n",
        "PyTorch має безліч загальних наборів даних комп'ютерного зору, збережених у `torchvision.datasets`.\n",
        "\n",
        "Включаючи FashionMNIST у [`torchvision.datasets.FashionMNIST()`](https://pytorch.org/vision/main/generated/torchvision.datasets.FashionMNIST.html).\n",
        "\n",
        "Щоб завантажити його, ми надаємо такі параметри:\n",
        "* `root: str` - в яку папку ви хочете завантажити дані?\n",
        "* `train: Bool` - ви хочете навчальну чи тестову частину?\n",
        "* `download: Bool` - чи потрібно завантажити дані?\n",
        "* `transform: torchvision.transforms` - які перетворення ви хочете виконати над даними?\n",
        "* `target_transform` - ви також можете перетворити цілі (мітки), якщо хочете. Наприклад, виконати One Hot Encoding міток, чи змінити діапазон міток з 0 до 9 на 0-1, або перетворити на тензори, якщо вони зараз ними не є.\n",
        "\n",
        "Багато інших наборів даних у `torchvision` мають ці параметри."
      ]
    },
    {
      "cell_type": "code",
      "execution_count": null,
      "id": "486f8377-6810-4367-859d-69dccc7aef95",
      "metadata": {
        "colab": {
          "base_uri": "https://localhost:8080/"
        },
        "id": "486f8377-6810-4367-859d-69dccc7aef95",
        "outputId": "7c1b0873-6982-4e37-cbfb-5f0773612449"
      },
      "outputs": [
        {
          "output_type": "stream",
          "name": "stdout",
          "text": [
            "Downloading http://fashion-mnist.s3-website.eu-central-1.amazonaws.com/train-images-idx3-ubyte.gz\n",
            "Downloading http://fashion-mnist.s3-website.eu-central-1.amazonaws.com/train-images-idx3-ubyte.gz to data/FashionMNIST/raw/train-images-idx3-ubyte.gz\n"
          ]
        },
        {
          "output_type": "stream",
          "name": "stderr",
          "text": [
            "100%|██████████| 26.4M/26.4M [00:02<00:00, 11.0MB/s]\n"
          ]
        },
        {
          "output_type": "stream",
          "name": "stdout",
          "text": [
            "Extracting data/FashionMNIST/raw/train-images-idx3-ubyte.gz to data/FashionMNIST/raw\n",
            "\n",
            "Downloading http://fashion-mnist.s3-website.eu-central-1.amazonaws.com/train-labels-idx1-ubyte.gz\n",
            "Downloading http://fashion-mnist.s3-website.eu-central-1.amazonaws.com/train-labels-idx1-ubyte.gz to data/FashionMNIST/raw/train-labels-idx1-ubyte.gz\n"
          ]
        },
        {
          "output_type": "stream",
          "name": "stderr",
          "text": [
            "100%|██████████| 29.5k/29.5k [00:00<00:00, 174kB/s]\n"
          ]
        },
        {
          "output_type": "stream",
          "name": "stdout",
          "text": [
            "Extracting data/FashionMNIST/raw/train-labels-idx1-ubyte.gz to data/FashionMNIST/raw\n",
            "\n",
            "Downloading http://fashion-mnist.s3-website.eu-central-1.amazonaws.com/t10k-images-idx3-ubyte.gz\n",
            "Downloading http://fashion-mnist.s3-website.eu-central-1.amazonaws.com/t10k-images-idx3-ubyte.gz to data/FashionMNIST/raw/t10k-images-idx3-ubyte.gz\n"
          ]
        },
        {
          "output_type": "stream",
          "name": "stderr",
          "text": [
            "100%|██████████| 4.42M/4.42M [00:01<00:00, 3.27MB/s]\n"
          ]
        },
        {
          "output_type": "stream",
          "name": "stdout",
          "text": [
            "Extracting data/FashionMNIST/raw/t10k-images-idx3-ubyte.gz to data/FashionMNIST/raw\n",
            "\n",
            "Downloading http://fashion-mnist.s3-website.eu-central-1.amazonaws.com/t10k-labels-idx1-ubyte.gz\n",
            "Downloading http://fashion-mnist.s3-website.eu-central-1.amazonaws.com/t10k-labels-idx1-ubyte.gz to data/FashionMNIST/raw/t10k-labels-idx1-ubyte.gz\n"
          ]
        },
        {
          "output_type": "stream",
          "name": "stderr",
          "text": [
            "100%|██████████| 5.15k/5.15k [00:00<00:00, 9.86MB/s]"
          ]
        },
        {
          "output_type": "stream",
          "name": "stdout",
          "text": [
            "Extracting data/FashionMNIST/raw/t10k-labels-idx1-ubyte.gz to data/FashionMNIST/raw\n",
            "\n"
          ]
        },
        {
          "output_type": "stream",
          "name": "stderr",
          "text": [
            "\n"
          ]
        }
      ],
      "source": [
        "# Налаштування навчальних даних\n",
        "train_data = datasets.FashionMNIST(\n",
        "    root=\"data\", # куди завантажити дані?\n",
        "    train=True, # отримати навчальні дані\n",
        "    download=True, # завантажити дані, якщо їх немає на диску\n",
        "    transform=ToTensor(), # зображення приходять у форматі PIL, ми хочемо перетворити їх на тензори Torch\n",
        "    target_transform=None # ви також можете перетворити мітки\n",
        ")\n",
        "\n",
        "# Налаштування тестових даних\n",
        "test_data = datasets.FashionMNIST(\n",
        "    root=\"data\",\n",
        "    train=False, # отримати тестові дані\n",
        "    download=True,\n",
        "    transform=ToTensor()\n",
        ")"
      ]
    },
    {
      "cell_type": "markdown",
      "id": "a63246f6-3645-49de-88fe-ec18e78bfbaf",
      "metadata": {
        "id": "a63246f6-3645-49de-88fe-ec18e78bfbaf"
      },
      "source": [
        "Давайте переглянемо перший зразок навчальних даних."
      ]
    },
    {
      "cell_type": "code",
      "source": [
        "len(train_data[0])"
      ],
      "metadata": {
        "colab": {
          "base_uri": "https://localhost:8080/"
        },
        "id": "jMRU_28W1SG4",
        "outputId": "e1a155be-5ff1-4240-ba10-44cf3fe42dd2"
      },
      "id": "jMRU_28W1SG4",
      "execution_count": null,
      "outputs": [
        {
          "output_type": "execute_result",
          "data": {
            "text/plain": [
              "2"
            ]
          },
          "metadata": {},
          "execution_count": 5
        }
      ]
    },
    {
      "cell_type": "code",
      "execution_count": null,
      "id": "43bfd3d9-a132-41e8-8ccd-5ae25a7da59a",
      "metadata": {
        "colab": {
          "base_uri": "https://localhost:8080/"
        },
        "id": "43bfd3d9-a132-41e8-8ccd-5ae25a7da59a",
        "outputId": "8b9ed8f0-1e59-47ad-aabc-5fbdf85a832c"
      },
      "outputs": [
        {
          "output_type": "execute_result",
          "data": {
            "text/plain": [
              "(tensor([[[0.0000, 0.0000, 0.0000, 0.0000, 0.0000, 0.0000, 0.0000, 0.0000,\n",
              "           0.0000, 0.0000, 0.0000, 0.0000, 0.0000, 0.0000, 0.0000, 0.0000,\n",
              "           0.0000, 0.0000, 0.0000, 0.0000, 0.0000, 0.0000, 0.0000, 0.0000,\n",
              "           0.0000, 0.0000, 0.0000, 0.0000],\n",
              "          [0.0000, 0.0000, 0.0000, 0.0000, 0.0000, 0.0000, 0.0000, 0.0000,\n",
              "           0.0000, 0.0000, 0.0000, 0.0000, 0.0000, 0.0000, 0.0000, 0.0000,\n",
              "           0.0000, 0.0000, 0.0000, 0.0000, 0.0000, 0.0000, 0.0000, 0.0000,\n",
              "           0.0000, 0.0000, 0.0000, 0.0000],\n",
              "          [0.0000, 0.0000, 0.0000, 0.0000, 0.0000, 0.0000, 0.0000, 0.0000,\n",
              "           0.0000, 0.0000, 0.0000, 0.0000, 0.0000, 0.0000, 0.0000, 0.0000,\n",
              "           0.0000, 0.0000, 0.0000, 0.0000, 0.0000, 0.0000, 0.0000, 0.0000,\n",
              "           0.0000, 0.0000, 0.0000, 0.0000],\n",
              "          [0.0000, 0.0000, 0.0000, 0.0000, 0.0000, 0.0000, 0.0000, 0.0000,\n",
              "           0.0000, 0.0000, 0.0000, 0.0000, 0.0039, 0.0000, 0.0000, 0.0510,\n",
              "           0.2863, 0.0000, 0.0000, 0.0039, 0.0157, 0.0000, 0.0000, 0.0000,\n",
              "           0.0000, 0.0039, 0.0039, 0.0000],\n",
              "          [0.0000, 0.0000, 0.0000, 0.0000, 0.0000, 0.0000, 0.0000, 0.0000,\n",
              "           0.0000, 0.0000, 0.0000, 0.0000, 0.0118, 0.0000, 0.1412, 0.5333,\n",
              "           0.4980, 0.2431, 0.2118, 0.0000, 0.0000, 0.0000, 0.0039, 0.0118,\n",
              "           0.0157, 0.0000, 0.0000, 0.0118],\n",
              "          [0.0000, 0.0000, 0.0000, 0.0000, 0.0000, 0.0000, 0.0000, 0.0000,\n",
              "           0.0000, 0.0000, 0.0000, 0.0000, 0.0235, 0.0000, 0.4000, 0.8000,\n",
              "           0.6902, 0.5255, 0.5647, 0.4824, 0.0902, 0.0000, 0.0000, 0.0000,\n",
              "           0.0000, 0.0471, 0.0392, 0.0000],\n",
              "          [0.0000, 0.0000, 0.0000, 0.0000, 0.0000, 0.0000, 0.0000, 0.0000,\n",
              "           0.0000, 0.0000, 0.0000, 0.0000, 0.0000, 0.0000, 0.6078, 0.9255,\n",
              "           0.8118, 0.6980, 0.4196, 0.6118, 0.6314, 0.4275, 0.2510, 0.0902,\n",
              "           0.3020, 0.5098, 0.2824, 0.0588],\n",
              "          [0.0000, 0.0000, 0.0000, 0.0000, 0.0000, 0.0000, 0.0000, 0.0000,\n",
              "           0.0000, 0.0000, 0.0000, 0.0039, 0.0000, 0.2706, 0.8118, 0.8745,\n",
              "           0.8549, 0.8471, 0.8471, 0.6392, 0.4980, 0.4745, 0.4784, 0.5725,\n",
              "           0.5529, 0.3451, 0.6745, 0.2588],\n",
              "          [0.0000, 0.0000, 0.0000, 0.0000, 0.0000, 0.0000, 0.0000, 0.0000,\n",
              "           0.0000, 0.0039, 0.0039, 0.0039, 0.0000, 0.7843, 0.9098, 0.9098,\n",
              "           0.9137, 0.8980, 0.8745, 0.8745, 0.8431, 0.8353, 0.6431, 0.4980,\n",
              "           0.4824, 0.7686, 0.8980, 0.0000],\n",
              "          [0.0000, 0.0000, 0.0000, 0.0000, 0.0000, 0.0000, 0.0000, 0.0000,\n",
              "           0.0000, 0.0000, 0.0000, 0.0000, 0.0000, 0.7176, 0.8824, 0.8471,\n",
              "           0.8745, 0.8941, 0.9216, 0.8902, 0.8784, 0.8706, 0.8784, 0.8667,\n",
              "           0.8745, 0.9608, 0.6784, 0.0000],\n",
              "          [0.0000, 0.0000, 0.0000, 0.0000, 0.0000, 0.0000, 0.0000, 0.0000,\n",
              "           0.0000, 0.0000, 0.0000, 0.0000, 0.0000, 0.7569, 0.8941, 0.8549,\n",
              "           0.8353, 0.7765, 0.7059, 0.8314, 0.8235, 0.8275, 0.8353, 0.8745,\n",
              "           0.8627, 0.9529, 0.7922, 0.0000],\n",
              "          [0.0000, 0.0000, 0.0000, 0.0000, 0.0000, 0.0000, 0.0000, 0.0000,\n",
              "           0.0000, 0.0039, 0.0118, 0.0000, 0.0471, 0.8588, 0.8627, 0.8314,\n",
              "           0.8549, 0.7529, 0.6627, 0.8902, 0.8157, 0.8549, 0.8784, 0.8314,\n",
              "           0.8863, 0.7725, 0.8196, 0.2039],\n",
              "          [0.0000, 0.0000, 0.0000, 0.0000, 0.0000, 0.0000, 0.0000, 0.0000,\n",
              "           0.0000, 0.0000, 0.0235, 0.0000, 0.3882, 0.9569, 0.8706, 0.8627,\n",
              "           0.8549, 0.7961, 0.7765, 0.8667, 0.8431, 0.8353, 0.8706, 0.8627,\n",
              "           0.9608, 0.4667, 0.6549, 0.2196],\n",
              "          [0.0000, 0.0000, 0.0000, 0.0000, 0.0000, 0.0000, 0.0000, 0.0000,\n",
              "           0.0000, 0.0157, 0.0000, 0.0000, 0.2157, 0.9255, 0.8941, 0.9020,\n",
              "           0.8941, 0.9412, 0.9098, 0.8353, 0.8549, 0.8745, 0.9176, 0.8510,\n",
              "           0.8510, 0.8196, 0.3608, 0.0000],\n",
              "          [0.0000, 0.0000, 0.0039, 0.0157, 0.0235, 0.0275, 0.0078, 0.0000,\n",
              "           0.0000, 0.0000, 0.0000, 0.0000, 0.9294, 0.8863, 0.8510, 0.8745,\n",
              "           0.8706, 0.8588, 0.8706, 0.8667, 0.8471, 0.8745, 0.8980, 0.8431,\n",
              "           0.8549, 1.0000, 0.3020, 0.0000],\n",
              "          [0.0000, 0.0118, 0.0000, 0.0000, 0.0000, 0.0000, 0.0000, 0.0000,\n",
              "           0.0000, 0.2431, 0.5686, 0.8000, 0.8941, 0.8118, 0.8353, 0.8667,\n",
              "           0.8549, 0.8157, 0.8275, 0.8549, 0.8784, 0.8745, 0.8588, 0.8431,\n",
              "           0.8784, 0.9569, 0.6235, 0.0000],\n",
              "          [0.0000, 0.0000, 0.0000, 0.0000, 0.0706, 0.1725, 0.3216, 0.4196,\n",
              "           0.7412, 0.8941, 0.8627, 0.8706, 0.8510, 0.8863, 0.7843, 0.8039,\n",
              "           0.8275, 0.9020, 0.8784, 0.9176, 0.6902, 0.7373, 0.9804, 0.9725,\n",
              "           0.9137, 0.9333, 0.8431, 0.0000],\n",
              "          [0.0000, 0.2235, 0.7333, 0.8157, 0.8784, 0.8667, 0.8784, 0.8157,\n",
              "           0.8000, 0.8392, 0.8157, 0.8196, 0.7843, 0.6235, 0.9608, 0.7569,\n",
              "           0.8078, 0.8745, 1.0000, 1.0000, 0.8667, 0.9176, 0.8667, 0.8275,\n",
              "           0.8627, 0.9098, 0.9647, 0.0000],\n",
              "          [0.0118, 0.7922, 0.8941, 0.8784, 0.8667, 0.8275, 0.8275, 0.8392,\n",
              "           0.8039, 0.8039, 0.8039, 0.8627, 0.9412, 0.3137, 0.5882, 1.0000,\n",
              "           0.8980, 0.8667, 0.7373, 0.6039, 0.7490, 0.8235, 0.8000, 0.8196,\n",
              "           0.8706, 0.8941, 0.8824, 0.0000],\n",
              "          [0.3843, 0.9137, 0.7765, 0.8235, 0.8706, 0.8980, 0.8980, 0.9176,\n",
              "           0.9765, 0.8627, 0.7608, 0.8431, 0.8510, 0.9451, 0.2549, 0.2863,\n",
              "           0.4157, 0.4588, 0.6588, 0.8588, 0.8667, 0.8431, 0.8510, 0.8745,\n",
              "           0.8745, 0.8784, 0.8980, 0.1137],\n",
              "          [0.2941, 0.8000, 0.8314, 0.8000, 0.7569, 0.8039, 0.8275, 0.8824,\n",
              "           0.8471, 0.7255, 0.7725, 0.8078, 0.7765, 0.8353, 0.9412, 0.7647,\n",
              "           0.8902, 0.9608, 0.9373, 0.8745, 0.8549, 0.8314, 0.8196, 0.8706,\n",
              "           0.8627, 0.8667, 0.9020, 0.2627],\n",
              "          [0.1882, 0.7961, 0.7176, 0.7608, 0.8353, 0.7725, 0.7255, 0.7451,\n",
              "           0.7608, 0.7529, 0.7922, 0.8392, 0.8588, 0.8667, 0.8627, 0.9255,\n",
              "           0.8824, 0.8471, 0.7804, 0.8078, 0.7294, 0.7098, 0.6941, 0.6745,\n",
              "           0.7098, 0.8039, 0.8078, 0.4510],\n",
              "          [0.0000, 0.4784, 0.8588, 0.7569, 0.7020, 0.6706, 0.7176, 0.7686,\n",
              "           0.8000, 0.8235, 0.8353, 0.8118, 0.8275, 0.8235, 0.7843, 0.7686,\n",
              "           0.7608, 0.7490, 0.7647, 0.7490, 0.7765, 0.7529, 0.6902, 0.6118,\n",
              "           0.6549, 0.6941, 0.8235, 0.3608],\n",
              "          [0.0000, 0.0000, 0.2902, 0.7412, 0.8314, 0.7490, 0.6863, 0.6745,\n",
              "           0.6863, 0.7098, 0.7255, 0.7373, 0.7412, 0.7373, 0.7569, 0.7765,\n",
              "           0.8000, 0.8196, 0.8235, 0.8235, 0.8275, 0.7373, 0.7373, 0.7608,\n",
              "           0.7529, 0.8471, 0.6667, 0.0000],\n",
              "          [0.0078, 0.0000, 0.0000, 0.0000, 0.2588, 0.7843, 0.8706, 0.9294,\n",
              "           0.9373, 0.9490, 0.9647, 0.9529, 0.9569, 0.8667, 0.8627, 0.7569,\n",
              "           0.7490, 0.7020, 0.7137, 0.7137, 0.7098, 0.6902, 0.6510, 0.6588,\n",
              "           0.3882, 0.2275, 0.0000, 0.0000],\n",
              "          [0.0000, 0.0000, 0.0000, 0.0000, 0.0000, 0.0000, 0.0000, 0.1569,\n",
              "           0.2392, 0.1725, 0.2824, 0.1608, 0.1373, 0.0000, 0.0000, 0.0000,\n",
              "           0.0000, 0.0000, 0.0000, 0.0000, 0.0000, 0.0000, 0.0000, 0.0000,\n",
              "           0.0000, 0.0000, 0.0000, 0.0000],\n",
              "          [0.0000, 0.0000, 0.0000, 0.0000, 0.0000, 0.0000, 0.0000, 0.0000,\n",
              "           0.0000, 0.0000, 0.0000, 0.0000, 0.0000, 0.0000, 0.0000, 0.0000,\n",
              "           0.0000, 0.0000, 0.0000, 0.0000, 0.0000, 0.0000, 0.0000, 0.0000,\n",
              "           0.0000, 0.0000, 0.0000, 0.0000],\n",
              "          [0.0000, 0.0000, 0.0000, 0.0000, 0.0000, 0.0000, 0.0000, 0.0000,\n",
              "           0.0000, 0.0000, 0.0000, 0.0000, 0.0000, 0.0000, 0.0000, 0.0000,\n",
              "           0.0000, 0.0000, 0.0000, 0.0000, 0.0000, 0.0000, 0.0000, 0.0000,\n",
              "           0.0000, 0.0000, 0.0000, 0.0000]]]),\n",
              " 9)"
            ]
          },
          "metadata": {},
          "execution_count": 6
        }
      ],
      "source": [
        "# Переглянути перший навчальний зразок\n",
        "image, label = train_data[0]\n",
        "image, label"
      ]
    },
    {
      "cell_type": "markdown",
      "id": "9ad9d782-06cb-4591-ae3c-3a8b2389a1b2",
      "metadata": {
        "id": "9ad9d782-06cb-4591-ae3c-3a8b2389a1b2"
      },
      "source": [
        "### 1.1 Вхідні та вихідні форми моделі комп'ютерного зору\n",
        "\n",
        "У нас є великий тензор значень (зображення), що ми маємо перетворити на єдине значення мітки.\n",
        "\n",
        "Давайте подивимося на форму зображення."
      ]
    },
    {
      "cell_type": "code",
      "execution_count": null,
      "id": "c2997d9f-b574-4d23-aa34-1a4df1751226",
      "metadata": {
        "id": "c2997d9f-b574-4d23-aa34-1a4df1751226"
      },
      "outputs": [],
      "source": [
        "# Яка форма зображення?\n",
        "image.shape"
      ]
    },
    {
      "cell_type": "markdown",
      "id": "b5326a05-f807-448d-99a3-6d03fc8739f8",
      "metadata": {
        "id": "b5326a05-f807-448d-99a3-6d03fc8739f8"
      },
      "source": [
        "Форма тензора зображення є `[1, 28, 28]` або, більш конкретно:\n",
        "\n",
        "\n",
        "[color_channels=1, height=28, width=28]\n",
        "\n",
        "\n",
        "Наявність `color_channels=1` означає, що зображення є чорно-білим.\n",
        "\n",
        "![приклад форм вхідних і вихідних даних проблеми fashionMNIST](https://raw.githubusercontent.com/mrdbourke/pytorch-deep-learning/main/images/03-computer-vision-input-and-output-shapes.png)\n",
        "*Різні проблеми матимуть різні форми вхідних і вихідних даних. Але принцип роботи з ML-задачею залишається: кодувати дані в числа, створити модель для виявлення патернів у цих числах, перетворити ці патерни на щось значуще - результат роботи моделі.*\n",
        "\n",
        "Якщо `color_channels=3`, зображення містить значення пікселів для червоного, зеленого та синього (це також відомо як [RGB колірна модель](https://en.wikipedia.org/wiki/RGB_color_model)).\n",
        "\n",
        "Порядок нашого поточного тензора часто називають `CHW` (Кольорові канали, Висота, Ширина - Channel, Height, Width).\n",
        "\n",
        "Існує дискусія про те, чи слід зображення представляти як `CHW` (канали кольору спочатку) або `HWC` (канали кольору в кінці).\n",
        "\n",
        "> **Примітка:** Ви також можете зустріти формати `NCHW` та `NHWC`, де `N` означає *кількість зображень*. Наприклад, якщо у вас `batch_size=32`, форма вашого тензора може бути `[32, 1, 28, 28]`. Ми розглянемо розміри пакетів пізніше.\n",
        "\n",
        "PyTorch зазвичай приймає `NCHW` (канали спочатку) як стандарт для багатьох операторів.\n",
        "\n",
        "Однак PyTorch також пояснює, що `NHWC` (канали в кінці) працює краще і [вважається кращою практикою](https://pytorch.org/blog/tensor-memory-format-matters/#pytorch-best-practice).\n",
        "\n",
        "На даний момент, оскільки наш набір даних і моделі відносно малі, це не матиме великого значення.\n",
        "\n",
        "Але майте це на увазі, коли ви працюєте з більшими наборами зображень і використовуєте згорткові нейронні мережі (ми побачимо їх пізніше).\n",
        "\n",
        "Давайте перевіримо більше форм наших даних."
      ]
    },
    {
      "cell_type": "code",
      "execution_count": null,
      "id": "fc4f768c-c3f6-454d-a633-673ad1d6eca0",
      "metadata": {
        "colab": {
          "base_uri": "https://localhost:8080/"
        },
        "id": "fc4f768c-c3f6-454d-a633-673ad1d6eca0",
        "outputId": "8edd0d52-3237-42a1-962f-034342003d3b"
      },
      "outputs": [
        {
          "output_type": "execute_result",
          "data": {
            "text/plain": [
              "(60000, 60000, 10000, 10000)"
            ]
          },
          "metadata": {},
          "execution_count": 7
        }
      ],
      "source": [
        "# Скільки зразків є?\n",
        "len(train_data.data), len(train_data.targets), len(test_data.data), len(test_data.targets)"
      ]
    },
    {
      "cell_type": "markdown",
      "id": "6e0267d5-946b-4c53-af69-61acd3527972",
      "metadata": {
        "id": "6e0267d5-946b-4c53-af69-61acd3527972"
      },
      "source": [
        "Отже, у нас є 60 000 навчальних зразків і 10 000 тестових зразків.\n",
        "\n",
        "Які класи існують?\n",
        "\n",
        "Ми можемо знайти їх за допомогою атрибута `.classes`."
      ]
    },
    {
      "cell_type": "code",
      "execution_count": null,
      "id": "e22849c6-d93f-4b38-8403-5ebf0deaf008",
      "metadata": {
        "colab": {
          "base_uri": "https://localhost:8080/"
        },
        "id": "e22849c6-d93f-4b38-8403-5ebf0deaf008",
        "outputId": "a5615777-d379-4238-cf3e-4cba7b32903a"
      },
      "outputs": [
        {
          "output_type": "execute_result",
          "data": {
            "text/plain": [
              "['T-shirt/top',\n",
              " 'Trouser',\n",
              " 'Pullover',\n",
              " 'Dress',\n",
              " 'Coat',\n",
              " 'Sandal',\n",
              " 'Shirt',\n",
              " 'Sneaker',\n",
              " 'Bag',\n",
              " 'Ankle boot']"
            ]
          },
          "metadata": {},
          "execution_count": 8
        }
      ],
      "source": [
        "# Переглянути класи\n",
        "class_names = train_data.classes\n",
        "class_names"
      ]
    },
    {
      "cell_type": "markdown",
      "id": "abdd225c-5742-4d9c-8e8d-fb30a9c3cb6e",
      "metadata": {
        "id": "abdd225c-5742-4d9c-8e8d-fb30a9c3cb6e"
      },
      "source": [
        "Супер! Схоже, що ми маємо справу з 10 різними видами одягу.\n",
        "\n",
        "Оскільки ми працюємо з 10 різними класами, це означає, що наша проблема є **мультикласовою класифікацією**.\n",
        "\n",
        "Давайте візуалізуємо."
      ]
    },
    {
      "cell_type": "markdown",
      "id": "fb625d80-6a98-471e-a758-4de0ce0f3a64",
      "metadata": {
        "id": "fb625d80-6a98-471e-a758-4de0ce0f3a64"
      },
      "source": [
        "### 1.2 Візуалізація наших даних"
      ]
    },
    {
      "cell_type": "code",
      "execution_count": null,
      "id": "b1df1f2c-28c9-43bf-aaef-cf996c9ae1c5",
      "metadata": {
        "colab": {
          "base_uri": "https://localhost:8080/",
          "height": 469
        },
        "id": "b1df1f2c-28c9-43bf-aaef-cf996c9ae1c5",
        "outputId": "18f2fa49-956e-484e-9de9-d62489bb5992"
      },
      "outputs": [
        {
          "output_type": "stream",
          "name": "stdout",
          "text": [
            "Image shape: torch.Size([1, 28, 28])\n"
          ]
        },
        {
          "output_type": "display_data",
          "data": {
            "text/plain": [
              "<Figure size 640x480 with 1 Axes>"
            ],
            "image/png": "[encoded data removed]"
          },
          "metadata": {}
        }
      ],
      "source": [
        "import matplotlib.pyplot as plt\n",
        "image, label = train_data[0]\n",
        "print(f\"Image shape: {image.shape}\")\n",
        "plt.imshow(image.squeeze()) # форма зображення - [1, 28, 28] (кольорові канали, висота, ширина)\n",
        "plt.title(label);"
      ]
    },
    {
      "cell_type": "markdown",
      "id": "adb19c5c-2f2b-4aaf-8300-256f3594e2db",
      "metadata": {
        "id": "adb19c5c-2f2b-4aaf-8300-256f3594e2db"
      },
      "source": [
        "Ми можемо перетворити зображення в градації сірого, використовуючи параметр `cmap` функції `plt.imshow()`."
      ]
    },
    {
      "cell_type": "code",
      "execution_count": null,
      "id": "92f09917-88f7-4446-b65f-baae586914c9",
      "metadata": {
        "colab": {
          "base_uri": "https://localhost:8080/",
          "height": 452
        },
        "id": "92f09917-88f7-4446-b65f-baae586914c9",
        "outputId": "2ade38bc-c8c5-4126-f6f8-89c33794a50b"
      },
      "outputs": [
        {
          "output_type": "display_data",
          "data": {
            "text/plain": [
              "<Figure size 640x480 with 1 Axes>"
            ],
            "image/png": "[encoded data removed]"
          },
          "metadata": {}
        }
      ],
      "source": [
        "plt.imshow(image.squeeze(), cmap=\"gray\")  # Відображення зображення в градаціях сірого\n",
        "plt.title(class_names[label]);  # Встановлення заголовка з назвою класу"
      ]
    },
    {
      "cell_type": "markdown",
      "id": "9a09388a-d754-485f-aa26-4e7a0f782967",
      "metadata": {
        "id": "9a09388a-d754-485f-aa26-4e7a0f782967"
      },
      "source": [
        "Прекрасно, настільки прекрасно, наскільки може бути піксельний сірий черевик.\n",
        "\n",
        "Давайте подивимося ще кілька зображень."
      ]
    },
    {
      "cell_type": "code",
      "execution_count": null,
      "id": "7188ed7a-5959-48c4-ac7f-19129a2adc83",
      "metadata": {
        "colab": {
          "base_uri": "https://localhost:8080/",
          "height": 752
        },
        "id": "7188ed7a-5959-48c4-ac7f-19129a2adc83",
        "outputId": "dabdfdfb-d8cc-4be5-833e-5de76a802314"
      },
      "outputs": [
        {
          "output_type": "display_data",
          "data": {
            "text/plain": [
              "<Figure size 900x900 with 16 Axes>"
            ],
            "image/png": "[encoded data removed]"
          },
          "metadata": {}
        }
      ],
      "source": [
        "# Відобразити більше зображень\n",
        "torch.manual_seed(42)\n",
        "fig = plt.figure(figsize=(9, 9))\n",
        "rows, cols = 4, 4\n",
        "for i in range(1, rows * cols + 1):\n",
        "    random_idx = torch.randint(0, len(train_data), size=[1]).item()\n",
        "    img, label = train_data[random_idx]\n",
        "    fig.add_subplot(rows, cols, i)\n",
        "    plt.imshow(img.squeeze(), cmap=\"gray\")\n",
        "    plt.title(class_names[label])\n",
        "    plt.axis(False);"
      ]
    },
    {
      "cell_type": "markdown",
      "id": "f356fbe9-95b1-4f81-a82d-dc15b3adc06a",
      "metadata": {
        "id": "f356fbe9-95b1-4f81-a82d-dc15b3adc06a"
      },
      "source": [
        "Хмм, цей набір даних не виглядає дуже естетично.\n",
        "\n",
        "Але принципи, які ми будемо вивчати щодо побудови моделі для нього, будуть схожими для широкого спектра проблем комп'ютерного зору.\n",
        "\n",
        "По суті, ми беремо значення пікселів і будуємо модель для виявлення патернів у них, щоб використовувати на майбутніх значеннях пікселів для передбачення класу зображення.\n",
        "\n",
        "Крім того, навіть для цього маленького набору даних (так, навіть 60,000 зображень у глибокому навчанні вважається досить малим), чи могли б ви написати програму для класифікації кожного з них?\n",
        "\n",
        "Я гадаю, ви б могли навіть на numpy та sklearn.\n",
        "А з PyTorch і деякими CV-best practices процес буде швидшим.\n"
      ]
    },
    {
      "cell_type": "markdown",
      "id": "43cdd23d-bd1f-4e8c-ba20-22d2b6ac14b1",
      "metadata": {
        "id": "43cdd23d-bd1f-4e8c-ba20-22d2b6ac14b1"
      },
      "source": [
        "## 2. Підготовка DataLoader\n",
        "(і трохи пригадаємо того, що вже проходили)\n",
        "\n",
        "Тепер у нас є готовий набір даних.\n",
        "\n",
        "Наступний крок - підготувати його за допомогою [`torch.utils.data.DataLoader`](https://pytorch.org/docs/stable/data.html#torch.utils.data.Dataset).\n",
        "\n",
        "`DataLoader` робить те, що ви, напевно, думаєте.\n",
        "\n",
        "Він допомагає завантажувати дані в модель.\n",
        "\n",
        "Для навчання та для інференсу.\n",
        "\n",
        "Він перетворює великий `Dataset` на ітерабельний об'єкт Python з меншими частинами.\n",
        "\n",
        "Ці менші частини називаються **batch** або **mini-batch** і можуть бути встановлені за допомогою параметра `batch_size`.\n",
        "\n",
        "**Навіщо це робити?**\n",
        "\n",
        "Тому що це більш обчислювально ефективно.\n",
        "\n",
        "В ідеальному світі ви могли б виконати прямий і зворотний проходи по всіх ваших даних одночасно (Full Batch).\n",
        "\n",
        "Але як тільки ви починаєте використовувати дійсно великі набори даних, якщо у вас немає безмежної обчислювальної потужності, легше розбити їх на батчі.\n",
        "\n",
        "Це також дає вашій моделі більше можливостей для покращення.\n",
        "\n",
        "З **міні-пакетами** (малими частинами даних) градієнтний спуск виконується частіше за епоху (один раз за міні-батч, а не один раз за епоху). Відповідно ми частіше оновлюємо ваги і швидше вчиться модель.\n",
        "\n",
        "Який хороший розмір батча?\n",
        "\n",
        "[32 - це хороший варіант для початку](https://twitter.com/ylecun/status/989610208497360896?s=20&t=N96J_jotN--PYuJk2WcjMw) для багатьох задач.\n",
        "\n",
        "Але оскільки це - значення, яке ви можете встановити перед стартом навчання моделі (тобто **гіперпараметр**), ви можете спробувати всі різні значення, хоча зазвичай використовуються степені 2 (наприклад, 32, 64, 128, 256, 512) бо так буде ліпше працювати на GPU.\n",
        "\n",
        "![приклад того, як виглядає пакетований набір даних](https://raw.githubusercontent.com/mrdbourke/pytorch-deep-learning/main/images/03-batching-fashionmnist.png)\n",
        "*Пакетування FashionMNIST з розміром батча 32 та увімкненим перемішуванням. Подібний процес пакетування відбудеться для інших наборів даних, але буде відрізнятися в залежності від розміру пакета.*\n",
        "\n",
        "Давайте створимо `DataLoader` для наших навчальних та тестових наборів."
      ]
    },
    {
      "cell_type": "code",
      "execution_count": null,
      "id": "bb2dbf90-a326-43cb-b25b-71af142fafeb",
      "metadata": {
        "colab": {
          "base_uri": "https://localhost:8080/"
        },
        "id": "bb2dbf90-a326-43cb-b25b-71af142fafeb",
        "outputId": "34bc966a-c516-41e4-eca4-20042828b465"
      },
      "outputs": [
        {
          "output_type": "stream",
          "name": "stdout",
          "text": [
            "Dataloaders: (<torch.utils.data.dataloader.DataLoader object at 0x7e6cb19448b0>, <torch.utils.data.dataloader.DataLoader object at 0x7e6cb1947400>)\n",
            "Довжина навчального dataloader: 1875 партій по 32\n",
            "Довжина тестового dataloader: 313 партій по 32\n"
          ]
        }
      ],
      "source": [
        "from torch.utils.data import DataLoader\n",
        "\n",
        "# Налаштування гіперпараметра розміру партії\n",
        "BATCH_SIZE = 32\n",
        "\n",
        "# Перетворення наборів даних на ітерабельні (партії)\n",
        "train_dataloader = DataLoader(train_data, # набір даних, який потрібно перетворити на ітерабельний\n",
        "    batch_size=BATCH_SIZE, # скільки зразків на партію?\n",
        "    shuffle=True # перемішувати дані на кожній епосі?\n",
        ")\n",
        "\n",
        "test_dataloader = DataLoader(test_data,\n",
        "    batch_size=BATCH_SIZE,\n",
        "    shuffle=False # не обов'язково перемішувати тестові дані\n",
        ")\n",
        "\n",
        "# Давайте перевіримо, що ми створили\n",
        "print(f\"Dataloaders: {train_dataloader, test_dataloader}\")\n",
        "print(f\"Довжина навчального dataloader: {len(train_dataloader)} партій по {BATCH_SIZE}\")\n",
        "print(f\"Довжина тестового dataloader: {len(test_dataloader)} партій по {BATCH_SIZE}\")"
      ]
    },
    {
      "cell_type": "code",
      "execution_count": null,
      "id": "7a925ee7-484b-4149-be8f-3ad790172a5f",
      "metadata": {
        "colab": {
          "base_uri": "https://localhost:8080/"
        },
        "id": "7a925ee7-484b-4149-be8f-3ad790172a5f",
        "outputId": "4744ffd2-d661-481f-b811-02142ac15b08"
      },
      "outputs": [
        {
          "output_type": "execute_result",
          "data": {
            "text/plain": [
              "(torch.Size([32, 1, 28, 28]), torch.Size([32]))"
            ]
          },
          "metadata": {},
          "execution_count": 16
        }
      ],
      "source": [
        "# Перевірте, що всередині навчального dataloader\n",
        "train_features_batch, train_labels_batch = next(iter(train_dataloader))\n",
        "train_features_batch.shape, train_labels_batch.shape"
      ]
    },
    {
      "cell_type": "markdown",
      "id": "4fee4cf8-ab73-4c81-8e5e-3c81691e799c",
      "metadata": {
        "id": "4fee4cf8-ab73-4c81-8e5e-3c81691e799c"
      },
      "source": [
        "І ми можемо побачити, що формат (розміри) даних є фіксованим, перевіривши один зразок."
      ]
    },
    {
      "cell_type": "code",
      "execution_count": null,
      "id": "c863d66a-49be-43be-84dc-372a5d6fc2c2",
      "metadata": {
        "colab": {
          "base_uri": "https://localhost:8080/",
          "height": 463
        },
        "id": "c863d66a-49be-43be-84dc-372a5d6fc2c2",
        "outputId": "ce16c118-eded-421e-f8cc-5b6b1113d8a8"
      },
      "outputs": [
        {
          "output_type": "stream",
          "name": "stdout",
          "text": [
            "Розмір зображення: torch.Size([1, 28, 28])\n",
            "Мітка: 6, розмір мітки: torch.Size([])\n"
          ]
        },
        {
          "output_type": "display_data",
          "data": {
            "text/plain": [
              "<Figure size 640x480 with 1 Axes>"
            ],
            "image/png": "[encoded data removed]"
          },
          "metadata": {}
        }
      ],
      "source": [
        "# Показати зразок\n",
        "torch.manual_seed(42)\n",
        "random_idx = torch.randint(0, len(train_features_batch), size=[1]).item()\n",
        "img, label = train_features_batch[random_idx], train_labels_batch[random_idx]\n",
        "plt.imshow(img.squeeze(), cmap=\"gray\")\n",
        "plt.title(class_names[label])\n",
        "plt.axis(\"Off\");\n",
        "print(f\"Розмір зображення: {img.shape}\")\n",
        "print(f\"Мітка: {label}, розмір мітки: {label.shape}\")"
      ]
    },
    {
      "cell_type": "markdown",
      "id": "db1695cf-f53d-4c7c-ad39-dfed76533125",
      "metadata": {
        "id": "db1695cf-f53d-4c7c-ad39-dfed76533125"
      },
      "source": [
        "## 3. Модель 0: Створення базової моделі - baseline model\n",
        "\n",
        "Дані завантажено та підготовлено!\n",
        "\n",
        "Час створити **базову модель**, підкласуючи `nn.Module`.\n",
        "\n",
        "**Базова модель** є однією з найпростіших моделей, які ви можете уявити.\n",
        "\n",
        "Ви використовуєте базову модель як відправну точку і намагаєтеся покращити її за допомогою наступних, більш складних моделей.\n",
        "\n",
        "Наша базова модель буде складатися з двох [`nn.Linear()`](https://pytorch.org/docs/stable/generated/torch.nn.Linear.html) шарів.\n",
        "\n",
        "Ми вже робили це в попередніх уроках, але буде одна невелика різниця.\n",
        "\n",
        "Оскільки ми працюємо з зображеннями, ми будемо використовувати інший шар, щоб почати.\n",
        "\n",
        "І це [`nn.Flatten()`](https://pytorch.org/docs/stable/generated/torch.nn.Flatten.html) шар.\n",
        "\n",
        "`nn.Flatten()` стискає розміри тензора в один вектор. Тобто видовжує зображення в один довгий вектор-ковбасу.\n",
        "\n",
        "Це легше зрозуміти, коли ви це бачите."
      ]
    },
    {
      "cell_type": "code",
      "execution_count": null,
      "id": "405319f1-f242-4bd9-90f5-3abdc50782ac",
      "metadata": {
        "colab": {
          "base_uri": "https://localhost:8080/"
        },
        "id": "405319f1-f242-4bd9-90f5-3abdc50782ac",
        "outputId": "aa71891d-376e-414a-e44e-bb541ad8f9ab"
      },
      "outputs": [
        {
          "output_type": "stream",
          "name": "stdout",
          "text": [
            "Shape before flattening: torch.Size([1, 28, 28]) -> [color_channels, height, width]\n",
            "Shape after flattening: torch.Size([1, 784]) -> [color_channels, height*width]\n"
          ]
        }
      ],
      "source": [
        "# Створити шар сплющення\n",
        "flatten_model = nn.Flatten() # всі модулі nn функціонують як модель (можна виконати прямий прохід)\n",
        "\n",
        "# Отримати один зразок\n",
        "x = train_features_batch[0]\n",
        "\n",
        "# Сплющити зразок\n",
        "output = flatten_model(x) # виконати прямий прохід\n",
        "\n",
        "# Вивести на екран, що сталося\n",
        "print(f\"Shape before flattening: {x.shape} -> [color_channels, height, width]\")\n",
        "print(f\"Shape after flattening: {output.shape} -> [color_channels, height*width]\")\n"
      ]
    },
    {
      "cell_type": "code",
      "source": [
        "# Спробуйте розкоментувати нижче і подивіться, що станеться\n",
        "# print(x)\n",
        "# print(output)"
      ],
      "metadata": {
        "id": "W5srzZi2R5cj"
      },
      "id": "W5srzZi2R5cj",
      "execution_count": null,
      "outputs": []
    },
    {
      "cell_type": "markdown",
      "id": "86bb7806-fca6-45af-8111-3e00e38f5be9",
      "metadata": {
        "id": "86bb7806-fca6-45af-8111-3e00e38f5be9"
      },
      "source": [
        "Шар `nn.Flatten()` змінив нашу форму з `[color_channels, height, width]` на `[color_channels, height*width]`.\n",
        "\n",
        "**Навіщо це робити?**\n",
        "\n",
        "Таким чином ми перетворили наші піксельні дані з вимірів висоти та ширини в один довгий **вектор ознак**.\n",
        "\n",
        "А шари `nn.Linear()` вважають за краще, щоб їхні вхідні дані були у формі векторів ознак.\n",
        "\n",
        "Давайте створимо нашу першу модель, використовуючи `nn.Flatten()` як перший шар."
      ]
    },
    {
      "cell_type": "code",
      "execution_count": null,
      "id": "1449f427-6859-41ae-8133-50b58ffbce72",
      "metadata": {
        "id": "1449f427-6859-41ae-8133-50b58ffbce72"
      },
      "outputs": [],
      "source": [
        "from torch import nn\n",
        "\n",
        "class FashionMNISTModelV0(nn.Module):\n",
        "    def __init__(self, input_shape: int, hidden_units: int, output_shape: int):\n",
        "        super().__init__()\n",
        "        self.layer_stack = nn.Sequential(\n",
        "            nn.Flatten(), # нейронні мережі люблять, коли їхні вхідні дані у векторній формі\n",
        "            nn.Linear(in_features=input_shape, out_features=hidden_units), # in_features = кількість ознак у зразку даних (784 пікселі)\n",
        "            nn.Linear(in_features=hidden_units, out_features=output_shape)\n",
        "        )\n",
        "\n",
        "    def forward(self, x):\n",
        "        return self.layer_stack(x)"
      ]
    },
    {
      "cell_type": "markdown",
      "id": "4d1b50bf-d00b-485c-be00-b3e4de156fab",
      "metadata": {
        "id": "4d1b50bf-d00b-485c-be00-b3e4de156fab"
      },
      "source": [
        "Чудово!\n",
        "\n",
        "У нас є базовий клас моделі, який ми можемо використовувати, тепер давайте створимо екземпляр моделі.\n",
        "\n",
        "Нам потрібно встановити такі параметри:\n",
        "* `input_shape=784` - це кількість ознак, які ви вводите в модель, у нашому випадку це одна для кожного пікселя в цільовому зображенні (28 пікселів заввишки на 28 пікселів завширшки = 784 ознаки).\n",
        "* `hidden_units=10` - кількість одиниць/нейронів у прихованому шарі(ах), це число може бути будь-яким, але щоб зберегти модель компактною, ми почнемо з `10`.\n",
        "* `output_shape=len(class_names)` - оскільки ми працюємо з проблемою багатокласової класифікації, нам потрібен вихідний нейрон для кожного класу в нашому наборі даних.\n",
        "\n",
        "Давайте створимо екземпляр нашої моделі і надішлемо його на ЦП поки що (ми скоро проведемо невеликий тест для запуску `model_0` на ЦП проти подібної моделі на ГП)."
      ]
    },
    {
      "cell_type": "code",
      "execution_count": null,
      "id": "dd18384a-76f9-4b5a-a013-fda077f16865",
      "metadata": {
        "colab": {
          "base_uri": "https://localhost:8080/"
        },
        "id": "dd18384a-76f9-4b5a-a013-fda077f16865",
        "outputId": "a2a35b12-1008-49ac-89fc-ed968a62a40e"
      },
      "outputs": [
        {
          "output_type": "execute_result",
          "data": {
            "text/plain": [
              "FashionMNISTModelV0(\n",
              "  (layer_stack): Sequential(\n",
              "    (0): Flatten(start_dim=1, end_dim=-1)\n",
              "    (1): Linear(in_features=784, out_features=10, bias=True)\n",
              "    (2): Linear(in_features=10, out_features=10, bias=True)\n",
              "  )\n",
              ")"
            ]
          },
          "metadata": {},
          "execution_count": 22
        }
      ],
      "source": [
        "torch.manual_seed(42)\n",
        "\n",
        "# Потрібно налаштувати модель з вхідними параметрами\n",
        "model_0 = FashionMNISTModelV0(input_shape=784, # один для кожного пікселя (28x28)\n",
        "    hidden_units=10, # скільки одиниць у прихованому шарі\n",
        "    output_shape=len(class_names) # один для кожного класу\n",
        ")\n",
        "model_0.to(\"cpu\") # тримати модель на ЦП на початку"
      ]
    },
    {
      "cell_type": "markdown",
      "id": "03243179-1cdc-45d9-8b8c-82538ac02e9c",
      "metadata": {
        "id": "03243179-1cdc-45d9-8b8c-82538ac02e9c"
      },
      "source": [
        "### 3.1 Налаштування cost function, оптимізатора та метрик оцінки\n",
        "\n",
        "Нам потрібні деякі допоміжні функції, які знайдемо в [`helper_functions.py` скрипт](https://github.com/mrdbourke/pytorch-deep-learning/blob/main/helper_functions.py) і відповідно функцію `accuracy_fn()`\n",
        "\n",
        "> **Примітка:** Замість того, щоб імпортувати та використовувати нашу власну функцію точності або метрики оцінки, ви можете імпортувати різні метрики оцінки з пакету [TorchMetrics](https://torchmetrics.readthedocs.io/en/latest/)."
      ]
    },
    {
      "cell_type": "code",
      "execution_count": null,
      "id": "ce3d13b8-f018-4b44-8bba-375074dc4c5f",
      "metadata": {
        "id": "ce3d13b8-f018-4b44-8bba-375074dc4c5f"
      },
      "outputs": [],
      "source": [
        "# Імпорт метрики точності\n",
        "from helper_functions import accuracy_fn # Примітка: також можна використовувати torchmetrics.Accuracy(task = 'multiclass', num_classes=len(class_names)).to(device)\n",
        "\n",
        "# Налаштування функції втрат та оптимізатора\n",
        "loss_fn = nn.CrossEntropyLoss() # це також називається \"критерієм\"/\"функцією витрат\" в деяких місцях\n",
        "optimizer = torch.optim.SGD(params=model_0.parameters(), lr=0.1)"
      ]
    },
    {
      "cell_type": "markdown",
      "id": "4109f867-83f2-4394-a925-8acdc63ccffe",
      "metadata": {
        "id": "4109f867-83f2-4394-a925-8acdc63ccffe"
      },
      "source": [
        "### 3.2 Створення функції для вимірювання часу наших експериментів\n",
        "\n",
        "Функція втрат і оптимізатор готові!\n",
        "\n",
        "Час почати навчання моделі.\n",
        "\n",
        "Але як щодо того, щоб провести невеличкий експеримент під час навчання.\n",
        "\n",
        "Я маю на увазі, давайте створимо функцію для вимірювання часу, щоб визначити, скільки часу нашій моделі потрібно для навчання на ЦПУ в порівнянні з використанням ГПУ.\n",
        "\n",
        "Ми навчимо цю модель на ЦПУ, а наступну - на ГПУ і подивимося, що станеться.\n",
        "\n",
        "Наша функція вимірювання часу імплементує [`timeit.default_timer()` функцію](https://docs.python.org/3/library/timeit.html#timeit.default_timer) з Python [`timeit` модуля](https://docs.python.org/3/library/timeit.html)."
      ]
    },
    {
      "cell_type": "code",
      "execution_count": null,
      "id": "31adc3fe-ce90-4b4e-b0d4-3613abae5714",
      "metadata": {
        "id": "31adc3fe-ce90-4b4e-b0d4-3613abae5714"
      },
      "outputs": [],
      "source": [
        "from timeit import default_timer as timer\n",
        "def print_train_time(start: float, end: float, device: torch.device = None):\n",
        "    \"\"\"Виводить різницю між початковим і кінцевим часом.\n",
        "\n",
        "    Args:\n",
        "        start (float): Початковий час обчислення (бажано у форматі timeit).\n",
        "        end (float): Кінцевий час обчислення.\n",
        "        device ([type], optional): Пристрій, на якому виконується обчислення. За замовчуванням None.\n",
        "\n",
        "    Returns:\n",
        "        float: час між початком і кінцем у секундах (більше - довше).\n",
        "    \"\"\"\n",
        "    total_time = end - start\n",
        "    print(f\"Час навчання на {device}: {total_time:.3f} секунд\")\n",
        "    return total_time"
      ]
    },
    {
      "cell_type": "markdown",
      "id": "07b9560e-f5dc-45d6-b3b2-ddae17a71b34",
      "metadata": {
        "id": "07b9560e-f5dc-45d6-b3b2-ddae17a71b34"
      },
      "source": [
        "### 3.3 Створення циклу навчання та навчання моделі на пакетах даних\n",
        "\n",
        "Чудово!\n",
        "\n",
        "Схоже, що у нас є всі частини головоломки готові до роботи: таймер, функція втрат, оптимізатор, модель і, що найважливіше, деякі дані.\n",
        "\n",
        "Тепер давайте створимо цикл навчання та цикл тестування, щоб навчити та оцінити нашу модель.\n",
        "\n",
        "Наші пакети даних містяться в наших `DataLoader`s, `train_dataloader` та `test_dataloader` для навчальних та тестових розподілів відповідно.\n",
        "\n",
        "Пакет - це `BATCH_SIZE` зразків `X` (ознаки) та `y` (мітки), оскільки ми використовуємо `BATCH_SIZE=32`, наші пакети містять 32 зразки зображень та цілей.\n",
        "\n",
        "І оскільки ми обчислюємо на пакетах даних, наші значення втрат і метрики оцінки будуть розраховані **на пакет** замість по всьому набору даних.\n",
        "\n",
        "Це означає, що нам потрібно буде поділити наші значення втрат і точності на кількість пакетів у відповідному завантажувачі даних кожного набору.\n",
        "\n",
        "Алгоритм виглядає наступним чином:\n",
        "1. Проходимо через епохи.\n",
        "2. Проходимо через навчальні пакети, виконуємо кроки навчання, розраховуємо втрати навчання *на пакет*.\n",
        "3. Проходимо через тестові пакети, виконуйте кроки тестування, розраховуємо втрати тестування *на пакет*.\n",
        "4. Виводимо на екран, що відбувається.\n",
        "5. Вимірюємо час (для розваги).\n"
      ]
    },
    {
      "cell_type": "code",
      "execution_count": null,
      "id": "c07bbf10-81e3-47f0-990d-9a4a838276ab",
      "metadata": {
        "colab": {
          "base_uri": "https://localhost:8080/",
          "height": 587,
          "referenced_widgets": [
            "831319ee8fd141ff9aede026c9da8c6f",
            "0164c7837af54ab181e26be80e49cc3e",
            "c8e22641374b4e97ae9e60712d3b7c54",
            "96338d7a91684c94bd4e5b2f0085ba8d",
            "12f8c818699b4a61afc8e1864cf732c7",
            "4503fc0fe41d4f5ea473dcf02b9548a4",
            "526345f5a58a41a9aca8a718a81983fb",
            "6105c74d967648cf8a1142010420c078",
            "37457eaaccf441b782baaf23e3971f0e",
            "e3ac1302e8b44b75a6dbdc54b3bc31f6",
            "89349c32351247eea848a9af6f72483a"
          ]
        },
        "id": "c07bbf10-81e3-47f0-990d-9a4a838276ab",
        "outputId": "f360d582-e01e-41e4-c800-01f31c4735f3"
      },
      "outputs": [
        {
          "output_type": "display_data",
          "data": {
            "text/plain": [
              "  0%|          | 0/3 [00:00<?, ?it/s]"
            ],
            "application/vnd.jupyter.widget-view+json": {
              "version_major": 2,
              "version_minor": 0,
              "model_id": "831319ee8fd141ff9aede026c9da8c6f"
            }
          },
          "metadata": {}
        },
        {
          "output_type": "stream",
          "name": "stdout",
          "text": [
            "Epoch: 0\n",
            "-------\n",
            "Подивилися на 0/60000 зразків\n",
            "Подивилися на 12800/60000 зразків\n",
            "Подивилися на 25600/60000 зразків\n",
            "Подивилися на 38400/60000 зразків\n",
            "Подивилися на 51200/60000 зразків\n",
            "\n",
            "Втрати навчання: 0.59039 | Втрати тестування: 0.50954, Точність тестування: 82.04%\n",
            "\n",
            "Epoch: 1\n",
            "-------\n",
            "Подивилися на 0/60000 зразків\n",
            "Подивилися на 12800/60000 зразків\n",
            "Подивилися на 25600/60000 зразків\n",
            "Подивилися на 38400/60000 зразків\n",
            "Подивилися на 51200/60000 зразків\n",
            "\n",
            "Втрати навчання: 0.47633 | Втрати тестування: 0.47989, Точність тестування: 83.20%\n",
            "\n",
            "Epoch: 2\n",
            "-------\n",
            "Подивилися на 0/60000 зразків\n",
            "Подивилися на 12800/60000 зразків\n",
            "Подивилися на 25600/60000 зразків\n",
            "Подивилися на 38400/60000 зразків\n",
            "Подивилися на 51200/60000 зразків\n",
            "\n",
            "Втрати навчання: 0.45503 | Втрати тестування: 0.47664, Точність тестування: 83.43%\n",
            "\n",
            "Час навчання на cpu: 28.359 секунд\n"
          ]
        }
      ],
      "source": [
        "# Імпортуємо tqdm для індикатора прогресу\n",
        "from tqdm.auto import tqdm\n",
        "\n",
        "# Встановлюємо початкове значення та запускаємо таймер\n",
        "torch.manual_seed(42)\n",
        "train_time_start_on_cpu = timer()\n",
        "\n",
        "# Встановлюємо кількість епох (збережемо це малим для швидшого часу навчання)\n",
        "epochs = 3\n",
        "\n",
        "# Створюємо цикл навчання та тестування\n",
        "for epoch in tqdm(range(epochs)):\n",
        "    print(f\"Epoch: {epoch}\\n-------\")\n",
        "    ### Навчання\n",
        "    train_loss = 0\n",
        "    # Додаємо цикл для проходження через навчальні пакети\n",
        "    for batch, (X, y) in enumerate(train_dataloader):\n",
        "        model_0.train()\n",
        "        # 1. Прямий прохід\n",
        "        y_pred = model_0(X)\n",
        "\n",
        "        # 2. Обчислюємо втрати (за пакет)\n",
        "        loss = loss_fn(y_pred, y)\n",
        "        train_loss += loss # накопичуємо втрати за епоху\n",
        "\n",
        "        # 3. Обнуляємо градієнти оптимізатора\n",
        "        optimizer.zero_grad()\n",
        "\n",
        "        # 4. Зворотний прохід втрат\n",
        "        loss.backward()\n",
        "\n",
        "        # 5. Крок оптимізатора\n",
        "        optimizer.step()\n",
        "\n",
        "        # Виводимо, скільки зразків було оброблено\n",
        "        if batch % 400 == 0:\n",
        "            print(f\"Подивилися на {batch * len(X)}/{len(train_dataloader.dataset)} зразків\")\n",
        "\n",
        "    # Ділимо загальні втрати навчання на довжину навчального датасету (середні втрати за пакет за епоху)\n",
        "    train_loss /= len(train_dataloader)\n",
        "\n",
        "    ### Тестування\n",
        "    # Налаштовуємо змінні для накопичення втрат та точності\n",
        "    test_loss, test_acc = 0, 0\n",
        "    model_0.eval()\n",
        "    with torch.inference_mode():\n",
        "        for X, y in test_dataloader:\n",
        "            # 1. Прямий прохід\n",
        "            test_pred = model_0(X)\n",
        "\n",
        "            # 2. Обчислюємо втрати (накопичувально)\n",
        "            test_loss += loss_fn(test_pred, y) # накопичуємо втрати за епоху\n",
        "\n",
        "            # 3. Обчислюємо точність (прогнози повинні збігатися з y_true)\n",
        "            test_acc += accuracy_fn(y_true=y, y_pred=test_pred.argmax(dim=1))\n",
        "\n",
        "        # Обчислення тестових метрик повинні відбуватися всередині torch.inference_mode()\n",
        "        # Ділимо загальні тестові втрати на довжину тестового датасету (за пакет)\n",
        "        test_loss /= len(test_dataloader)\n",
        "\n",
        "        # Ділимо загальну точність на довжину тестового датасету (за пакет)\n",
        "        test_acc /= len(test_dataloader)\n",
        "\n",
        "    ## Виводимо, що відбувається\n",
        "    print(f\"\\nВтрати навчання: {train_loss:.5f} | Втрати тестування: {test_loss:.5f}, Точність тестування: {test_acc:.2f}%\\n\")\n",
        "\n",
        "# Обчислюємо час навчання\n",
        "train_time_end_on_cpu = timer()\n",
        "total_train_time_model_0 = print_train_time(start=train_time_start_on_cpu,\n",
        "                                           end=train_time_end_on_cpu,\n",
        "                                           device=str(next(model_0.parameters()).device))"
      ]
    },
    {
      "cell_type": "markdown",
      "id": "7b02a939-a3a1-4a9d-bb9d-62928def2ded",
      "metadata": {
        "id": "7b02a939-a3a1-4a9d-bb9d-62928def2ded"
      },
      "source": [
        "Гарно! Схоже, що наша базова модель показала досить хороші результати.\n",
        "\n",
        "Це не зайняло багато часу для навчання, навіть лише на CPU, цікаво, чи прискориться вона на GPU?\n",
        "\n",
        "Давайте напишемо код для оцінки нашої моделі."
      ]
    },
    {
      "cell_type": "markdown",
      "id": "7442511b-bfe9-4ec7-9f5b-9c808f8e560b",
      "metadata": {
        "id": "7442511b-bfe9-4ec7-9f5b-9c808f8e560b"
      },
      "source": [
        "## 4. Отримаємо прогнози та оцінку якості Моделі 0\n",
        "\n",
        "Оскільки ми будемо створювати кілька моделей, хорошою ідеєю буде написати код для оцінки їх усіх подібними способами.\n",
        "\n",
        "А саме, давайте створимо функцію, яка приймає навчану модель, `DataLoader`, функцію втрат та функцію точності.\n",
        "\n",
        "Функція використовуватиме модель для створення прогнозів на даних у `DataLoader`, а потім ми зможемо оцінити ці прогнози, використовуючи функцію втрат і функцію точності."
      ]
    },
    {
      "cell_type": "code",
      "execution_count": null,
      "id": "8317dd04-9de2-4fd7-97bd-1e202621397d",
      "metadata": {
        "colab": {
          "base_uri": "https://localhost:8080/"
        },
        "id": "8317dd04-9de2-4fd7-97bd-1e202621397d",
        "outputId": "08e8e6b7-4c18-40d6-aebd-547b1ce17fae"
      },
      "outputs": [
        {
          "output_type": "execute_result",
          "data": {
            "text/plain": [
              "{'model_name': 'FashionMNISTModelV0',\n",
              " 'model_loss': 0.47663888335227966,\n",
              " 'model_acc': 83.42651757188499}"
            ]
          },
          "metadata": {},
          "execution_count": 29
        }
      ],
      "source": [
        "torch.manual_seed(42)\n",
        "def eval_model(model: torch.nn.Module,\n",
        "               data_loader: torch.utils.data.DataLoader,\n",
        "               loss_fn: torch.nn.Module,\n",
        "               accuracy_fn):\n",
        "    \"\"\"Повертає словник, що містить результати прогнозування моделі на data_loader.\n",
        "\n",
        "    Args:\n",
        "        model (torch.nn.Module): Модель PyTorch, здатна робити прогнози на data_loader.\n",
        "        data_loader (torch.utils.data.DataLoader): Цільовий набір даних для прогнозування.\n",
        "        loss_fn (torch.nn.Module): Функція втрат моделі.\n",
        "        accuracy_fn: Функція точності для порівняння прогнозів моделі з істинними мітками.\n",
        "\n",
        "    Returns:\n",
        "        (dict): Результати прогнозування моделі на data_loader.\n",
        "    \"\"\"\n",
        "    loss, acc = 0, 0\n",
        "    model.eval()\n",
        "    with torch.inference_mode():\n",
        "        for X, y in data_loader:\n",
        "            # Зробіть прогнози за допомогою моделі\n",
        "            y_pred = model(X)\n",
        "\n",
        "            # Накопичте значення втрат і точності за кожну партію\n",
        "            loss += loss_fn(y_pred, y)\n",
        "            acc += accuracy_fn(y_true=y,\n",
        "                                y_pred=y_pred.argmax(dim=1)) # Для точності потрібні мітки прогнозів (логіти -> пред_ймовірності -> пред_мітки)\n",
        "\n",
        "        # Масштабуйте втрати та точність, щоб знайти середні втрати/точність за партію\n",
        "        loss /= len(data_loader)\n",
        "        acc /= len(data_loader)\n",
        "\n",
        "    return {\"model_name\": model.__class__.__name__, # працює лише коли модель була створена з класом\n",
        "            \"model_loss\": loss.item(),\n",
        "            \"model_acc\": acc}\n",
        "\n",
        "# Обчисліть результати моделі 0 на тестовому наборі даних\n",
        "model_0_results = eval_model(model=model_0, data_loader=test_dataloader,\n",
        "    loss_fn=loss_fn, accuracy_fn=accuracy_fn\n",
        ")\n",
        "model_0_results"
      ]
    },
    {
      "cell_type": "markdown",
      "id": "a39c3042-1262-4d1f-b33e-c8e2ba6781d3",
      "metadata": {
        "id": "a39c3042-1262-4d1f-b33e-c8e2ba6781d3"
      },
      "source": [
        "Виглядає добре!\n",
        "\n",
        "Ми можемо використовувати цей словник, щоб порівняти результати базової моделі з іншими моделями пізніше."
      ]
    },
    {
      "cell_type": "markdown",
      "id": "3b76784d-4cdb-43d2-a6da-8e4da9a812a9",
      "metadata": {
        "id": "3b76784d-4cdb-43d2-a6da-8e4da9a812a9"
      },
      "source": [
        "## 5. Налаштування коду, що не залежить від пристрою (для використання GPU, якщо він доступний)\n",
        "Ми бачили, скільки часу займає навчання нашої моделі PyTorch на 60,000 зразках на CPU.\n",
        "\n",
        "> **Примітка:** Час навчання моделі залежить від використовуваного апаратного забезпечення. Як правило, більше процесорів означає швидше навчання, а менші моделі на менших наборах даних часто навчаються швидше, ніж великі моделі та великі набори даних.\n",
        "\n",
        "Тепер давайте налаштуємо деякий [код, незалежний від пристрою](https://pytorch.org/docs/stable/notes/cuda.html#best-practices) для наших моделей і даних, щоб вони могли працювати на GPU, якщо він доступний.\n",
        "\n",
        "Якщо ви запускаєте цей блокнот на Google Colab і у вас ще не увімкнено GPU, зараз час увімкнути його через `Runtime -> Change runtime type -> Hardware accelerator -> GPU`. Якщо ви це зробите, ваш сеанс, ймовірно, скине, і вам доведеться запустити всі клітини вище, перейшовши до `Runtime -> Run before`."
      ]
    },
    {
      "cell_type": "code",
      "execution_count": null,
      "id": "17b69fe9-f974-4538-922c-20c5cc8220cc",
      "metadata": {
        "colab": {
          "base_uri": "https://localhost:8080/",
          "height": 35
        },
        "id": "17b69fe9-f974-4538-922c-20c5cc8220cc",
        "outputId": "7f19db59-5908-4b42-c6bf-3e833ad4a7de"
      },
      "outputs": [
        {
          "output_type": "execute_result",
          "data": {
            "text/plain": [
              "'cuda'"
            ],
            "application/vnd.google.colaboratory.intrinsic+json": {
              "type": "string"
            }
          },
          "metadata": {},
          "execution_count": 30
        }
      ],
      "source": [
        "# Налаштування коду, незалежного від пристрою\n",
        "import torch\n",
        "device = \"cuda\" if torch.cuda.is_available() else \"cpu\"\n",
        "device"
      ]
    },
    {
      "cell_type": "markdown",
      "id": "514021a8-d6f2-47f3-ab50-55f844e42310",
      "metadata": {
        "id": "514021a8-d6f2-47f3-ab50-55f844e42310"
      },
      "source": [
        "Чудово!\n",
        "\n",
        "Давайте побудуємо ще одну модель."
      ]
    },
    {
      "cell_type": "markdown",
      "id": "d7893907-5f82-4c5e-8fde-fa542a9f25af",
      "metadata": {
        "id": "d7893907-5f82-4c5e-8fde-fa542a9f25af"
      },
      "source": [
        "## 6. Модель 1: Створення кращої моделі з нелінійністю\n",
        "\n",
        "Раніше ми вже обговорювали, що в нейромережах важлива нелінійність, аби апроксимувати складні (нелінійні) звʼязки в даних. Тож, давайте додамо в нашу мережу нелінійність.\n",
        "\n",
        "Ми зробимо це вставивши нелінійні функції (`nn.ReLU()`) після кожного лінійного шару."
      ]
    },
    {
      "cell_type": "code",
      "execution_count": null,
      "id": "2ccce5f2-b1e5-47a6-a7f3-6bc096b35ffb",
      "metadata": {
        "id": "2ccce5f2-b1e5-47a6-a7f3-6bc096b35ffb"
      },
      "outputs": [],
      "source": [
        "# Створіть модель з нелінійними та лінійними шарами\n",
        "class FashionMNISTModelV1(nn.Module):\n",
        "    def __init__(self, input_shape: int, hidden_units: int, output_shape: int):\n",
        "        super().__init__()\n",
        "        self.layer_stack = nn.Sequential(\n",
        "            nn.Flatten(), # перетворення вхідних даних в один вектор\n",
        "            nn.Linear(in_features=input_shape, out_features=hidden_units),\n",
        "            nn.ReLU(),\n",
        "            nn.Linear(in_features=hidden_units, out_features=output_shape),\n",
        "            nn.ReLU()\n",
        "        )\n",
        "\n",
        "    def forward(self, x: torch.Tensor):\n",
        "        return self.layer_stack(x)"
      ]
    },
    {
      "cell_type": "markdown",
      "id": "4b4b7a2f-4834-4aa1-a8e2-b6e3e2b49224",
      "metadata": {
        "id": "4b4b7a2f-4834-4aa1-a8e2-b6e3e2b49224"
      },
      "source": [
        "Тепер давайте створимо модель з тими ж налаштуваннями, які ми використовували раніше.\n",
        "\n",
        "Нам потрібно `input_shape=784` (дорівнює кількості ознак наших зображень), `hidden_units=10` (починаємо з малого, так само як у нашій базовій моделі) і `output_shape=len(class_names)` (одиниця виходу на кожен клас).\n",
        "\n",
        "> **Примітка:** Зверніть увагу, що ми зберегли більшість налаштувань нашої моделі незмінними, за винятком однієї зміни: додавання нелінійних шарів. Це стандартна практика для проведення серії експериментів з машинним навчанням: змініть одну річ і подивіться, що станеться, потім зробіть це знову, знову, знову."
      ]
    },
    {
      "cell_type": "code",
      "source": [
        "device"
      ],
      "metadata": {
        "colab": {
          "base_uri": "https://localhost:8080/",
          "height": 35
        },
        "id": "4HFuQCjE9Rmh",
        "outputId": "7673e468-4f4f-4d9c-97a2-53c8d81926b9"
      },
      "id": "4HFuQCjE9Rmh",
      "execution_count": null,
      "outputs": [
        {
          "output_type": "execute_result",
          "data": {
            "text/plain": [
              "'cuda'"
            ],
            "application/vnd.google.colaboratory.intrinsic+json": {
              "type": "string"
            }
          },
          "metadata": {},
          "execution_count": 33
        }
      ]
    },
    {
      "cell_type": "code",
      "execution_count": null,
      "id": "907091ec-7e46-470b-a305-788a3009b837",
      "metadata": {
        "colab": {
          "base_uri": "https://localhost:8080/"
        },
        "id": "907091ec-7e46-470b-a305-788a3009b837",
        "outputId": "b91b296f-9331-4682-9402-ced205c92072"
      },
      "outputs": [
        {
          "output_type": "execute_result",
          "data": {
            "text/plain": [
              "device(type='cuda', index=0)"
            ]
          },
          "metadata": {},
          "execution_count": 34
        }
      ],
      "source": [
        "torch.manual_seed(42)\n",
        "model_1 = FashionMNISTModelV1(input_shape=784, # кількість вхідних ознак\n",
        "    hidden_units=10,\n",
        "    output_shape=len(class_names) # кількість бажаних вихідних класів\n",
        ").to(device) # відправити модель на GPU, якщо він доступний\n",
        "next(model_1.parameters()).device # перевірити пристрій моделі"
      ]
    },
    {
      "cell_type": "markdown",
      "id": "b54a4e9d-a7ad-404c-920f-485fcff18a92",
      "metadata": {
        "id": "b54a4e9d-a7ad-404c-920f-485fcff18a92"
      },
      "source": [
        "### 6.1 Налаштування функції втрат, оптимізатора та метрик оцінки\n",
        "\n",
        "Як зазвичай, ми налаштуємо функцію втрат, оптимізатор та метрику оцінки (ми могли б використовувати кілька метрик оцінки, але наразі зупинимося на точності)."
      ]
    },
    {
      "cell_type": "code",
      "execution_count": null,
      "id": "fe7e463b-d46c-4f00-853c-fdf0a28d74c8",
      "metadata": {
        "id": "fe7e463b-d46c-4f00-853c-fdf0a28d74c8"
      },
      "outputs": [],
      "source": [
        "from helper_functions import accuracy_fn\n",
        "loss_fn = nn.CrossEntropyLoss()  # Функція втрат\n",
        "optimizer = torch.optim.SGD(params=model_1.parameters(),  # Оптимізатор\n",
        "                            lr=0.1)  # Швидкість навчання"
      ]
    },
    {
      "cell_type": "markdown",
      "id": "1eb30af6-a355-49a2-a59f-25169fd27a6e",
      "metadata": {
        "id": "1eb30af6-a355-49a2-a59f-25169fd27a6e"
      },
      "source": [
        "### 6.2 Функціоналізація циклів навчання та тестування\n",
        "\n",
        "Досі ми постійно писали цикли навчання та тестування.\n",
        "\n",
        "Давайте напишемо їх знову, але цього разу помістимо їх у функції, щоб їх можна було викликати знову і знову.\n",
        "\n",
        "І оскільки ми зараз використовуємо код, незалежний від пристрою, ми обов'язково викличемо `.to(device)` для наших тензорів ознак (`X`) та цілей (`y`).\n",
        "\n",
        "Для циклу навчання ми створимо функцію під назвою `train_step()`, яка приймає модель, `DataLoader`, функцію втрат та оптимізатор.\n",
        "\n",
        "Цикл тестування буде подібним, але він буде називатися `test_step()` і прийматиме модель, `DataLoader`, функцію втрат та функцію оцінки.\n",
        "\n",
        "> **Примітка:** Оскільки це функції, ви можете налаштувати їх будь-яким способом, який вам подобається. Те, що ми створюємо тут, можна вважати базовими функціями навчання та тестування для нашого конкретного випадку класифікації."
      ]
    },
    {
      "cell_type": "code",
      "execution_count": null,
      "id": "3d239ed2-4028-4603-8db3-ffca2b727819",
      "metadata": {
        "id": "3d239ed2-4028-4603-8db3-ffca2b727819"
      },
      "outputs": [],
      "source": [
        "def train_step(model: torch.nn.Module,\n",
        "               data_loader: torch.utils.data.DataLoader,\n",
        "               loss_fn: torch.nn.Module,\n",
        "               optimizer: torch.optim.Optimizer,\n",
        "               accuracy_fn,\n",
        "               device: torch.device = device):\n",
        "    train_loss, train_acc = 0, 0\n",
        "    model.to(device)\n",
        "    for batch, (X, y) in enumerate(data_loader):\n",
        "        # Відправка даних на GPU\n",
        "        X, y = X.to(device), y.to(device)\n",
        "\n",
        "        # 1. Прямий прохід\n",
        "        y_pred = model(X)\n",
        "\n",
        "        # 2. Обчислення втрат\n",
        "        loss = loss_fn(y_pred, y)\n",
        "        train_loss += loss\n",
        "        train_acc += accuracy_fn(y_true=y,\n",
        "                                 y_pred=y_pred.argmax(dim=1)) # Перехід від логітів до предсказаних міток\n",
        "\n",
        "        # 3. Обнулення градієнтів оптимізатора\n",
        "        optimizer.zero_grad()\n",
        "\n",
        "        # 4. Зворотний прохід втрат\n",
        "        loss.backward()\n",
        "\n",
        "        # 5. Крок оптимізатора\n",
        "        optimizer.step()\n",
        "\n",
        "    # Обчислення втрат і точності за епоху та виведення результатів\n",
        "    train_loss /= len(data_loader)\n",
        "    train_acc /= len(data_loader)\n",
        "    print(f\"Train loss: {train_loss:.5f} | Train accuracy: {train_acc:.2f}%\")\n",
        "\n",
        "def test_step(data_loader: torch.utils.data.DataLoader,\n",
        "              model: torch.nn.Module,\n",
        "              loss_fn: torch.nn.Module,\n",
        "              accuracy_fn,\n",
        "              device: torch.device = device):\n",
        "    test_loss, test_acc = 0, 0\n",
        "    model.to(device)\n",
        "    model.eval() # перевести модель в режим оцінки\n",
        "    # Увімкнути контекстний менеджер для інференції\n",
        "    with torch.inference_mode():\n",
        "        for X, y in data_loader:\n",
        "            # Відправка даних на GPU\n",
        "            X, y = X.to(device), y.to(device)\n",
        "\n",
        "            # 1. Прямий прохід\n",
        "            test_pred = model(X)\n",
        "\n",
        "            # 2. Обчислення втрат і точності\n",
        "            test_loss += loss_fn(test_pred, y)\n",
        "            test_acc += accuracy_fn(y_true=y,\n",
        "                y_pred=test_pred.argmax(dim=1) # Перехід від логітів до предсказаних міток\n",
        "            )\n",
        "\n",
        "        # Коригування метрик і виведення результатів\n",
        "        test_loss /= len(data_loader)\n",
        "        test_acc /= len(data_loader)\n",
        "        print(f\"Test loss: {test_loss:.5f} | Test accuracy: {test_acc:.2f}%\\n\")\n"
      ]
    },
    {
      "cell_type": "markdown",
      "id": "e44121b6-c4be-4909-9175-dc9bd8dc6273",
      "metadata": {
        "id": "e44121b6-c4be-4909-9175-dc9bd8dc6273"
      },
      "source": [
        "Ура!\n",
        "\n",
        "Тепер у нас є кілька функцій для навчання та тестування нашої моделі, давайте їх запустимо.\n",
        "\n",
        "Ми зробимо це в іншому циклі для кожної епохи.\n",
        "\n",
        "Таким чином, для кожної епохи ми проходимо через крок навчання та крок тестування.\n",
        "\n",
        "> **Примітка:** Ви можете налаштувати, як часто ви будете виконувати крок тестування. Іноді люди роблять це кожні п'ять епох або 10 епох, або в нашому випадку, кожну епоху.\n",
        "\n",
        "Давайте також виміряємо час, щоб дізнатися, скільки часу наш код витрачає на виконання на GPU."
      ]
    },
    {
      "cell_type": "code",
      "execution_count": null,
      "id": "2bb8094b-01a0-4b84-9526-ba8888d04901",
      "metadata": {
        "colab": {
          "base_uri": "https://localhost:8080/",
          "height": 327,
          "referenced_widgets": [
            "f124d312ad6447858ff7db122c227713",
            "fd815e9fd18b40e98867bcbdf422f728",
            "f59aafcbb9ba4697a9b61d5c5b9ec9ac",
            "7332f3a30b074eb890641d30ebb9cd09",
            "a05618c6bd6841ada7451b3dd368a181",
            "9746dfb516b7474396547ccee1ef3f21",
            "d0e4773043944078b185f62b054b942a",
            "aa65ceabe6544df99041301456e000ee",
            "1e98fea95cb1422ca67bbc91ea6d37eb",
            "6edce9b667df432db3d848da64211387",
            "077f2e68484b4ac8bc5ac6c7289800de"
          ]
        },
        "id": "2bb8094b-01a0-4b84-9526-ba8888d04901",
        "outputId": "e1eb9d5b-f65b-468b-aa49-24d5c63558cf"
      },
      "outputs": [
        {
          "output_type": "display_data",
          "data": {
            "text/plain": [
              "  0%|          | 0/3 [00:00<?, ?it/s]"
            ],
            "application/vnd.jupyter.widget-view+json": {
              "version_major": 2,
              "version_minor": 0,
              "model_id": "f124d312ad6447858ff7db122c227713"
            }
          },
          "metadata": {}
        },
        {
          "output_type": "stream",
          "name": "stdout",
          "text": [
            "Епоха: 0\n",
            "---------\n",
            "Train loss: 1.09199 | Train accuracy: 61.34%\n",
            "Test loss: 0.95636 | Test accuracy: 65.00%\n",
            "\n",
            "Епоха: 1\n",
            "---------\n",
            "Train loss: 0.78101 | Train accuracy: 71.93%\n",
            "Test loss: 0.72227 | Test accuracy: 73.91%\n",
            "\n",
            "Епоха: 2\n",
            "---------\n",
            "Train loss: 0.67027 | Train accuracy: 75.94%\n",
            "Test loss: 0.68500 | Test accuracy: 75.02%\n",
            "\n",
            "Час навчання на cuda: 31.105 секунд\n"
          ]
        }
      ],
      "source": [
        "torch.manual_seed(42)\n",
        "\n",
        "# Вимірювання часу\n",
        "from timeit import default_timer as timer\n",
        "train_time_start_on_gpu = timer()\n",
        "\n",
        "epochs = 3\n",
        "for epoch in tqdm(range(epochs)):\n",
        "    print(f\"Епоха: {epoch}\\n---------\")\n",
        "    train_step(data_loader=train_dataloader,\n",
        "        model=model_1,\n",
        "        loss_fn=loss_fn,\n",
        "        optimizer=optimizer,\n",
        "        accuracy_fn=accuracy_fn\n",
        "    )\n",
        "    test_step(data_loader=test_dataloader,\n",
        "        model=model_1,\n",
        "        loss_fn=loss_fn,\n",
        "        accuracy_fn=accuracy_fn\n",
        "    )\n",
        "\n",
        "train_time_end_on_gpu = timer()\n",
        "total_train_time_model_1 = print_train_time(start=train_time_start_on_gpu,\n",
        "                                            end=train_time_end_on_gpu,\n",
        "                                            device=device)"
      ]
    },
    {
      "cell_type": "markdown",
      "id": "719b8eb9-9a7f-42ed-a49f-5eedc6fdd720",
      "metadata": {
        "id": "719b8eb9-9a7f-42ed-a49f-5eedc6fdd720"
      },
      "source": [
        "Чудово!\n",
        "\n",
        "Наша модель навчилася, але час навчання зайняв більше часу?\n",
        "\n",
        "> **Примітка:** Час навчання на CUDA в порівнянні з CPU значною мірою залежатиме від якості вашого CPU/GPU. Як так?\n",
        ">\n",
        "> **Запитання:** \"Я використовував GPU, але моя модель не навчалася швидше, чому це може бути?\"\n",
        ">\n",
        "> **Відповідь:** Одна з причин може бути в тому, що ваш набір даних і модель настільки малі (як набір даних і модель, з якими ми працюємо), що переваги використання GPU переважуються часом, який насправді потрібно для передачі даних туди.\n",
        ">\n",
        "> Є невелике вузьке місце між копіюванням даних з пам'яті CPU (за замовчуванням) в пам'ять GPU.\n",
        ">\n",
        "> Тому для менших моделей і наборів даних CPU може насправді бути оптимальним місцем для обчислень.\n",
        ">\n",
        "> Але для більших наборів даних і моделей швидкість обчислень на GPU зазвичай значно перевищує витрати на передачу даних туди.\n",
        ">\n",
        "> Однак це в значній мірі залежить від апаратного забезпечення, яке ви використовуєте. З практикою ви звикнете до того, де найкраще навчати ваші моделі.\n",
        "\n",
        "Давайте оцінемо нашу навчена `model_1` за допомогою нашої функції `eval_model()` і подивимося, як це пройшло."
      ]
    },
    {
      "cell_type": "code",
      "execution_count": null,
      "id": "32a544e3-9dbe-4aa1-b074-22e28b8f2f2a",
      "metadata": {
        "colab": {
          "base_uri": "https://localhost:8080/",
          "height": 373
        },
        "id": "32a544e3-9dbe-4aa1-b074-22e28b8f2f2a",
        "outputId": "21f0f26c-ffad-4d28-a512-1d081206100f"
      },
      "outputs": [
        {
          "output_type": "error",
          "ename": "RuntimeError",
          "evalue": "Expected all tensors to be on the same device, but found at least two devices, cuda:0 and cpu! (when checking argument for argument mat1 in method wrapper_CUDA_addmm)",
          "traceback": [
            "\u001b[0;31m---------------------------------------------------------------------------\u001b[0m",
            "\u001b[0;31mRuntimeError\u001b[0m                              Traceback (most recent call last)",
            "\u001b[0;32m<ipython-input-38-058e75edf449>\u001b[0m in \u001b[0;36m<cell line: 4>\u001b[0;34m()\u001b[0m\n\u001b[1;32m      2\u001b[0m \u001b[0;34m\u001b[0m\u001b[0m\n\u001b[1;32m      3\u001b[0m \u001b[0;31m# Примітка: Це викличе помилку через те, що `eval_model()` не використовує код, незалежний від пристрою\u001b[0m\u001b[0;34m\u001b[0m\u001b[0;34m\u001b[0m\u001b[0m\n\u001b[0;32m----> 4\u001b[0;31m model_1_results = eval_model(model=model_1,\n\u001b[0m\u001b[1;32m      5\u001b[0m     \u001b[0mdata_loader\u001b[0m\u001b[0;34m=\u001b[0m\u001b[0mtest_dataloader\u001b[0m\u001b[0;34m,\u001b[0m\u001b[0;34m\u001b[0m\u001b[0;34m\u001b[0m\u001b[0m\n\u001b[1;32m      6\u001b[0m     \u001b[0mloss_fn\u001b[0m\u001b[0;34m=\u001b[0m\u001b[0mloss_fn\u001b[0m\u001b[0;34m,\u001b[0m\u001b[0;34m\u001b[0m\u001b[0;34m\u001b[0m\u001b[0m\n",
            "\u001b[0;32m<ipython-input-29-5679e534d884>\u001b[0m in \u001b[0;36meval_model\u001b[0;34m(model, data_loader, loss_fn, accuracy_fn)\u001b[0m\n\u001b[1;32m     20\u001b[0m         \u001b[0;32mfor\u001b[0m \u001b[0mX\u001b[0m\u001b[0;34m,\u001b[0m \u001b[0my\u001b[0m \u001b[0;32min\u001b[0m \u001b[0mdata_loader\u001b[0m\u001b[0;34m:\u001b[0m\u001b[0;34m\u001b[0m\u001b[0;34m\u001b[0m\u001b[0m\n\u001b[1;32m     21\u001b[0m             \u001b[0;31m# Зробіть прогнози за допомогою моделі\u001b[0m\u001b[0;34m\u001b[0m\u001b[0;34m\u001b[0m\u001b[0m\n\u001b[0;32m---> 22\u001b[0;31m             \u001b[0my_pred\u001b[0m \u001b[0;34m=\u001b[0m \u001b[0mmodel\u001b[0m\u001b[0;34m(\u001b[0m\u001b[0mX\u001b[0m\u001b[0;34m)\u001b[0m\u001b[0;34m\u001b[0m\u001b[0;34m\u001b[0m\u001b[0m\n\u001b[0m\u001b[1;32m     23\u001b[0m \u001b[0;34m\u001b[0m\u001b[0m\n\u001b[1;32m     24\u001b[0m             \u001b[0;31m# Накопичте значення втрат і точності за кожну партію\u001b[0m\u001b[0;34m\u001b[0m\u001b[0;34m\u001b[0m\u001b[0m\n",
            "\u001b[0;32m/usr/local/lib/python3.10/dist-packages/torch/nn/modules/module.py\u001b[0m in \u001b[0;36m_wrapped_call_impl\u001b[0;34m(self, *args, **kwargs)\u001b[0m\n\u001b[1;32m   1734\u001b[0m             \u001b[0;32mreturn\u001b[0m \u001b[0mself\u001b[0m\u001b[0;34m.\u001b[0m\u001b[0m_compiled_call_impl\u001b[0m\u001b[0;34m(\u001b[0m\u001b[0;34m*\u001b[0m\u001b[0margs\u001b[0m\u001b[0;34m,\u001b[0m \u001b[0;34m**\u001b[0m\u001b[0mkwargs\u001b[0m\u001b[0;34m)\u001b[0m  \u001b[0;31m# type: ignore[misc]\u001b[0m\u001b[0;34m\u001b[0m\u001b[0;34m\u001b[0m\u001b[0m\n\u001b[1;32m   1735\u001b[0m         \u001b[0;32melse\u001b[0m\u001b[0;34m:\u001b[0m\u001b[0;34m\u001b[0m\u001b[0;34m\u001b[0m\u001b[0m\n\u001b[0;32m-> 1736\u001b[0;31m             \u001b[0;32mreturn\u001b[0m \u001b[0mself\u001b[0m\u001b[0;34m.\u001b[0m\u001b[0m_call_impl\u001b[0m\u001b[0;34m(\u001b[0m\u001b[0;34m*\u001b[0m\u001b[0margs\u001b[0m\u001b[0;34m,\u001b[0m \u001b[0;34m**\u001b[0m\u001b[0mkwargs\u001b[0m\u001b[0;34m)\u001b[0m\u001b[0;34m\u001b[0m\u001b[0;34m\u001b[0m\u001b[0m\n\u001b[0m\u001b[1;32m   1737\u001b[0m \u001b[0;34m\u001b[0m\u001b[0m\n\u001b[1;32m   1738\u001b[0m     \u001b[0;31m# torchrec tests the code consistency with the following code\u001b[0m\u001b[0;34m\u001b[0m\u001b[0;34m\u001b[0m\u001b[0m\n",
            "\u001b[0;32m/usr/local/lib/python3.10/dist-packages/torch/nn/modules/module.py\u001b[0m in \u001b[0;36m_call_impl\u001b[0;34m(self, *args, **kwargs)\u001b[0m\n\u001b[1;32m   1745\u001b[0m                 \u001b[0;32mor\u001b[0m \u001b[0m_global_backward_pre_hooks\u001b[0m \u001b[0;32mor\u001b[0m \u001b[0m_global_backward_hooks\u001b[0m\u001b[0;34m\u001b[0m\u001b[0;34m\u001b[0m\u001b[0m\n\u001b[1;32m   1746\u001b[0m                 or _global_forward_hooks or _global_forward_pre_hooks):\n\u001b[0;32m-> 1747\u001b[0;31m             \u001b[0;32mreturn\u001b[0m \u001b[0mforward_call\u001b[0m\u001b[0;34m(\u001b[0m\u001b[0;34m*\u001b[0m\u001b[0margs\u001b[0m\u001b[0;34m,\u001b[0m \u001b[0;34m**\u001b[0m\u001b[0mkwargs\u001b[0m\u001b[0;34m)\u001b[0m\u001b[0;34m\u001b[0m\u001b[0;34m\u001b[0m\u001b[0m\n\u001b[0m\u001b[1;32m   1748\u001b[0m \u001b[0;34m\u001b[0m\u001b[0m\n\u001b[1;32m   1749\u001b[0m         \u001b[0mresult\u001b[0m \u001b[0;34m=\u001b[0m \u001b[0;32mNone\u001b[0m\u001b[0;34m\u001b[0m\u001b[0;34m\u001b[0m\u001b[0m\n",
            "\u001b[0;32m<ipython-input-32-379234e9bcaf>\u001b[0m in \u001b[0;36mforward\u001b[0;34m(self, x)\u001b[0m\n\u001b[1;32m     12\u001b[0m \u001b[0;34m\u001b[0m\u001b[0m\n\u001b[1;32m     13\u001b[0m     \u001b[0;32mdef\u001b[0m \u001b[0mforward\u001b[0m\u001b[0;34m(\u001b[0m\u001b[0mself\u001b[0m\u001b[0;34m,\u001b[0m \u001b[0mx\u001b[0m\u001b[0;34m:\u001b[0m \u001b[0mtorch\u001b[0m\u001b[0;34m.\u001b[0m\u001b[0mTensor\u001b[0m\u001b[0;34m)\u001b[0m\u001b[0;34m:\u001b[0m\u001b[0;34m\u001b[0m\u001b[0;34m\u001b[0m\u001b[0m\n\u001b[0;32m---> 14\u001b[0;31m         \u001b[0;32mreturn\u001b[0m \u001b[0mself\u001b[0m\u001b[0;34m.\u001b[0m\u001b[0mlayer_stack\u001b[0m\u001b[0;34m(\u001b[0m\u001b[0mx\u001b[0m\u001b[0;34m)\u001b[0m\u001b[0;34m\u001b[0m\u001b[0;34m\u001b[0m\u001b[0m\n\u001b[0m",
            "\u001b[0;32m/usr/local/lib/python3.10/dist-packages/torch/nn/modules/module.py\u001b[0m in \u001b[0;36m_wrapped_call_impl\u001b[0;34m(self, *args, **kwargs)\u001b[0m\n\u001b[1;32m   1734\u001b[0m             \u001b[0;32mreturn\u001b[0m \u001b[0mself\u001b[0m\u001b[0;34m.\u001b[0m\u001b[0m_compiled_call_impl\u001b[0m\u001b[0;34m(\u001b[0m\u001b[0;34m*\u001b[0m\u001b[0margs\u001b[0m\u001b[0;34m,\u001b[0m \u001b[0;34m**\u001b[0m\u001b[0mkwargs\u001b[0m\u001b[0;34m)\u001b[0m  \u001b[0;31m# type: ignore[misc]\u001b[0m\u001b[0;34m\u001b[0m\u001b[0;34m\u001b[0m\u001b[0m\n\u001b[1;32m   1735\u001b[0m         \u001b[0;32melse\u001b[0m\u001b[0;34m:\u001b[0m\u001b[0;34m\u001b[0m\u001b[0;34m\u001b[0m\u001b[0m\n\u001b[0;32m-> 1736\u001b[0;31m             \u001b[0;32mreturn\u001b[0m \u001b[0mself\u001b[0m\u001b[0;34m.\u001b[0m\u001b[0m_call_impl\u001b[0m\u001b[0;34m(\u001b[0m\u001b[0;34m*\u001b[0m\u001b[0margs\u001b[0m\u001b[0;34m,\u001b[0m \u001b[0;34m**\u001b[0m\u001b[0mkwargs\u001b[0m\u001b[0;34m)\u001b[0m\u001b[0;34m\u001b[0m\u001b[0;34m\u001b[0m\u001b[0m\n\u001b[0m\u001b[1;32m   1737\u001b[0m \u001b[0;34m\u001b[0m\u001b[0m\n\u001b[1;32m   1738\u001b[0m     \u001b[0;31m# torchrec tests the code consistency with the following code\u001b[0m\u001b[0;34m\u001b[0m\u001b[0;34m\u001b[0m\u001b[0m\n",
            "\u001b[0;32m/usr/local/lib/python3.10/dist-packages/torch/nn/modules/module.py\u001b[0m in \u001b[0;36m_call_impl\u001b[0;34m(self, *args, **kwargs)\u001b[0m\n\u001b[1;32m   1745\u001b[0m                 \u001b[0;32mor\u001b[0m \u001b[0m_global_backward_pre_hooks\u001b[0m \u001b[0;32mor\u001b[0m \u001b[0m_global_backward_hooks\u001b[0m\u001b[0;34m\u001b[0m\u001b[0;34m\u001b[0m\u001b[0m\n\u001b[1;32m   1746\u001b[0m                 or _global_forward_hooks or _global_forward_pre_hooks):\n\u001b[0;32m-> 1747\u001b[0;31m             \u001b[0;32mreturn\u001b[0m \u001b[0mforward_call\u001b[0m\u001b[0;34m(\u001b[0m\u001b[0;34m*\u001b[0m\u001b[0margs\u001b[0m\u001b[0;34m,\u001b[0m \u001b[0;34m**\u001b[0m\u001b[0mkwargs\u001b[0m\u001b[0;34m)\u001b[0m\u001b[0;34m\u001b[0m\u001b[0;34m\u001b[0m\u001b[0m\n\u001b[0m\u001b[1;32m   1748\u001b[0m \u001b[0;34m\u001b[0m\u001b[0m\n\u001b[1;32m   1749\u001b[0m         \u001b[0mresult\u001b[0m \u001b[0;34m=\u001b[0m \u001b[0;32mNone\u001b[0m\u001b[0;34m\u001b[0m\u001b[0;34m\u001b[0m\u001b[0m\n",
            "\u001b[0;32m/usr/local/lib/python3.10/dist-packages/torch/nn/modules/container.py\u001b[0m in \u001b[0;36mforward\u001b[0;34m(self, input)\u001b[0m\n\u001b[1;32m    248\u001b[0m     \u001b[0;32mdef\u001b[0m \u001b[0mforward\u001b[0m\u001b[0;34m(\u001b[0m\u001b[0mself\u001b[0m\u001b[0;34m,\u001b[0m \u001b[0minput\u001b[0m\u001b[0;34m)\u001b[0m\u001b[0;34m:\u001b[0m\u001b[0;34m\u001b[0m\u001b[0;34m\u001b[0m\u001b[0m\n\u001b[1;32m    249\u001b[0m         \u001b[0;32mfor\u001b[0m \u001b[0mmodule\u001b[0m \u001b[0;32min\u001b[0m \u001b[0mself\u001b[0m\u001b[0;34m:\u001b[0m\u001b[0;34m\u001b[0m\u001b[0;34m\u001b[0m\u001b[0m\n\u001b[0;32m--> 250\u001b[0;31m             \u001b[0minput\u001b[0m \u001b[0;34m=\u001b[0m \u001b[0mmodule\u001b[0m\u001b[0;34m(\u001b[0m\u001b[0minput\u001b[0m\u001b[0;34m)\u001b[0m\u001b[0;34m\u001b[0m\u001b[0;34m\u001b[0m\u001b[0m\n\u001b[0m\u001b[1;32m    251\u001b[0m         \u001b[0;32mreturn\u001b[0m \u001b[0minput\u001b[0m\u001b[0;34m\u001b[0m\u001b[0;34m\u001b[0m\u001b[0m\n\u001b[1;32m    252\u001b[0m \u001b[0;34m\u001b[0m\u001b[0m\n",
            "\u001b[0;32m/usr/local/lib/python3.10/dist-packages/torch/nn/modules/module.py\u001b[0m in \u001b[0;36m_wrapped_call_impl\u001b[0;34m(self, *args, **kwargs)\u001b[0m\n\u001b[1;32m   1734\u001b[0m             \u001b[0;32mreturn\u001b[0m \u001b[0mself\u001b[0m\u001b[0;34m.\u001b[0m\u001b[0m_compiled_call_impl\u001b[0m\u001b[0;34m(\u001b[0m\u001b[0;34m*\u001b[0m\u001b[0margs\u001b[0m\u001b[0;34m,\u001b[0m \u001b[0;34m**\u001b[0m\u001b[0mkwargs\u001b[0m\u001b[0;34m)\u001b[0m  \u001b[0;31m# type: ignore[misc]\u001b[0m\u001b[0;34m\u001b[0m\u001b[0;34m\u001b[0m\u001b[0m\n\u001b[1;32m   1735\u001b[0m         \u001b[0;32melse\u001b[0m\u001b[0;34m:\u001b[0m\u001b[0;34m\u001b[0m\u001b[0;34m\u001b[0m\u001b[0m\n\u001b[0;32m-> 1736\u001b[0;31m             \u001b[0;32mreturn\u001b[0m \u001b[0mself\u001b[0m\u001b[0;34m.\u001b[0m\u001b[0m_call_impl\u001b[0m\u001b[0;34m(\u001b[0m\u001b[0;34m*\u001b[0m\u001b[0margs\u001b[0m\u001b[0;34m,\u001b[0m \u001b[0;34m**\u001b[0m\u001b[0mkwargs\u001b[0m\u001b[0;34m)\u001b[0m\u001b[0;34m\u001b[0m\u001b[0;34m\u001b[0m\u001b[0m\n\u001b[0m\u001b[1;32m   1737\u001b[0m \u001b[0;34m\u001b[0m\u001b[0m\n\u001b[1;32m   1738\u001b[0m     \u001b[0;31m# torchrec tests the code consistency with the following code\u001b[0m\u001b[0;34m\u001b[0m\u001b[0;34m\u001b[0m\u001b[0m\n",
            "\u001b[0;32m/usr/local/lib/python3.10/dist-packages/torch/nn/modules/module.py\u001b[0m in \u001b[0;36m_call_impl\u001b[0;34m(self, *args, **kwargs)\u001b[0m\n\u001b[1;32m   1745\u001b[0m                 \u001b[0;32mor\u001b[0m \u001b[0m_global_backward_pre_hooks\u001b[0m \u001b[0;32mor\u001b[0m \u001b[0m_global_backward_hooks\u001b[0m\u001b[0;34m\u001b[0m\u001b[0;34m\u001b[0m\u001b[0m\n\u001b[1;32m   1746\u001b[0m                 or _global_forward_hooks or _global_forward_pre_hooks):\n\u001b[0;32m-> 1747\u001b[0;31m             \u001b[0;32mreturn\u001b[0m \u001b[0mforward_call\u001b[0m\u001b[0;34m(\u001b[0m\u001b[0;34m*\u001b[0m\u001b[0margs\u001b[0m\u001b[0;34m,\u001b[0m \u001b[0;34m**\u001b[0m\u001b[0mkwargs\u001b[0m\u001b[0;34m)\u001b[0m\u001b[0;34m\u001b[0m\u001b[0;34m\u001b[0m\u001b[0m\n\u001b[0m\u001b[1;32m   1748\u001b[0m \u001b[0;34m\u001b[0m\u001b[0m\n\u001b[1;32m   1749\u001b[0m         \u001b[0mresult\u001b[0m \u001b[0;34m=\u001b[0m \u001b[0;32mNone\u001b[0m\u001b[0;34m\u001b[0m\u001b[0;34m\u001b[0m\u001b[0m\n",
            "\u001b[0;32m/usr/local/lib/python3.10/dist-packages/torch/nn/modules/linear.py\u001b[0m in \u001b[0;36mforward\u001b[0;34m(self, input)\u001b[0m\n\u001b[1;32m    123\u001b[0m \u001b[0;34m\u001b[0m\u001b[0m\n\u001b[1;32m    124\u001b[0m     \u001b[0;32mdef\u001b[0m \u001b[0mforward\u001b[0m\u001b[0;34m(\u001b[0m\u001b[0mself\u001b[0m\u001b[0;34m,\u001b[0m \u001b[0minput\u001b[0m\u001b[0;34m:\u001b[0m \u001b[0mTensor\u001b[0m\u001b[0;34m)\u001b[0m \u001b[0;34m->\u001b[0m \u001b[0mTensor\u001b[0m\u001b[0;34m:\u001b[0m\u001b[0;34m\u001b[0m\u001b[0;34m\u001b[0m\u001b[0m\n\u001b[0;32m--> 125\u001b[0;31m         \u001b[0;32mreturn\u001b[0m \u001b[0mF\u001b[0m\u001b[0;34m.\u001b[0m\u001b[0mlinear\u001b[0m\u001b[0;34m(\u001b[0m\u001b[0minput\u001b[0m\u001b[0;34m,\u001b[0m \u001b[0mself\u001b[0m\u001b[0;34m.\u001b[0m\u001b[0mweight\u001b[0m\u001b[0;34m,\u001b[0m \u001b[0mself\u001b[0m\u001b[0;34m.\u001b[0m\u001b[0mbias\u001b[0m\u001b[0;34m)\u001b[0m\u001b[0;34m\u001b[0m\u001b[0;34m\u001b[0m\u001b[0m\n\u001b[0m\u001b[1;32m    126\u001b[0m \u001b[0;34m\u001b[0m\u001b[0m\n\u001b[1;32m    127\u001b[0m     \u001b[0;32mdef\u001b[0m \u001b[0mextra_repr\u001b[0m\u001b[0;34m(\u001b[0m\u001b[0mself\u001b[0m\u001b[0;34m)\u001b[0m \u001b[0;34m->\u001b[0m \u001b[0mstr\u001b[0m\u001b[0;34m:\u001b[0m\u001b[0;34m\u001b[0m\u001b[0;34m\u001b[0m\u001b[0m\n",
            "\u001b[0;31mRuntimeError\u001b[0m: Expected all tensors to be on the same device, but found at least two devices, cuda:0 and cpu! (when checking argument for argument mat1 in method wrapper_CUDA_addmm)"
          ]
        }
      ],
      "source": [
        "torch.manual_seed(42)\n",
        "\n",
        "# Примітка: Це викличе помилку через те, що `eval_model()` не використовує код, незалежний від пристрою\n",
        "model_1_results = eval_model(model=model_1,\n",
        "    data_loader=test_dataloader,\n",
        "    loss_fn=loss_fn,\n",
        "    accuracy_fn=accuracy_fn)\n",
        "model_1_results"
      ]
    },
    {
      "cell_type": "markdown",
      "id": "6a3481a5-489d-4db9-ac95-c3ce385978b7",
      "metadata": {
        "id": "6a3481a5-489d-4db9-ac95-c3ce385978b7"
      },
      "source": [
        "Отакої!\n",
        "\n",
        "Схоже, що наша функція `eval_model()` викликає помилку з:\n",
        "\n",
        "> `RuntimeError: Expected all tensors to be on the same device, but found at least two devices, cuda:0 and cpu! (when checking argument for argument mat1 in method wrapper_addmm)`\n",
        "\n",
        "Це сталося тому, що ми налаштували наші дані та модель для використання коду, незалежного від пристрою, але не нашу функцію оцінки.\n",
        "\n",
        "Як щодо того, щоб виправити це, передавши параметр `device` у нашу функцію `eval_model()`?\n",
        "\n",
        "Тоді ми спробуємо знову обчислити результати."
      ]
    },
    {
      "cell_type": "code",
      "execution_count": null,
      "id": "f3665d99-1adc-4d9f-bfc6-e5601a80691c",
      "metadata": {
        "colab": {
          "base_uri": "https://localhost:8080/"
        },
        "id": "f3665d99-1adc-4d9f-bfc6-e5601a80691c",
        "outputId": "e266ee40-3588-47e3-e514-4de17af48482"
      },
      "outputs": [
        {
          "output_type": "execute_result",
          "data": {
            "text/plain": [
              "{'model_name': 'FashionMNISTModelV1',\n",
              " 'model_loss': 0.6850008964538574,\n",
              " 'model_acc': 75.01996805111821}"
            ]
          },
          "metadata": {},
          "execution_count": 39
        }
      ],
      "source": [
        "# Перемістіть значення на пристрій\n",
        "torch.manual_seed(42)\n",
        "def eval_model(model: torch.nn.Module,\n",
        "               data_loader: torch.utils.data.DataLoader,\n",
        "               loss_fn: torch.nn.Module,\n",
        "               accuracy_fn,\n",
        "               device: torch.device = device):\n",
        "    \"\"\"Оцінює задану модель на заданому наборі даних.\n",
        "\n",
        "    Args:\n",
        "        model (torch.nn.Module): Модель PyTorch, здатна робити прогнози на data_loader.\n",
        "        data_loader (torch.utils.data.DataLoader): Цільовий набір даних для прогнозування.\n",
        "        loss_fn (torch.nn.Module): Функція втрат моделі.\n",
        "        accuracy_fn: Функція точності для порівняння прогнозів моделі з істинними мітками.\n",
        "        device (str, optional): Цільовий пристрій для обчислень. За замовчуванням - device.\n",
        "\n",
        "    Returns:\n",
        "        (dict): Результати прогнозування моделі на data_loader.\n",
        "    \"\"\"\n",
        "    loss, acc = 0, 0\n",
        "    model.eval()\n",
        "    with torch.inference_mode():\n",
        "        for X, y in data_loader:\n",
        "            # Надішліть дані на цільовий пристрій\n",
        "            X, y = X.to(device), y.to(device)\n",
        "            y_pred = model(X)\n",
        "            loss += loss_fn(y_pred, y)\n",
        "            acc += accuracy_fn(y_true=y, y_pred=y_pred.argmax(dim=1))\n",
        "\n",
        "        # Масштабування втрат і точності\n",
        "        loss /= len(data_loader)\n",
        "        acc /= len(data_loader)\n",
        "    return {\"model_name\": model.__class__.__name__, # працює лише коли модель була створена з класом\n",
        "            \"model_loss\": loss.item(),\n",
        "            \"model_acc\": acc}\n",
        "\n",
        "# Обчисліть результати моделі 1 з кодом, незалежним від пристрою\n",
        "model_1_results = eval_model(model=model_1, data_loader=test_dataloader,\n",
        "    loss_fn=loss_fn, accuracy_fn=accuracy_fn,\n",
        "    device=device\n",
        ")\n",
        "model_1_results"
      ]
    },
    {
      "cell_type": "code",
      "execution_count": null,
      "id": "a9e916cf-f873-4481-a983-bac26ce4cac2",
      "metadata": {
        "colab": {
          "base_uri": "https://localhost:8080/"
        },
        "id": "a9e916cf-f873-4481-a983-bac26ce4cac2",
        "outputId": "c69416d9-c3fb-46e2-ecec-a0b9221002b6"
      },
      "outputs": [
        {
          "output_type": "execute_result",
          "data": {
            "text/plain": [
              "{'model_name': 'FashionMNISTModelV0',\n",
              " 'model_loss': 0.47663888335227966,\n",
              " 'model_acc': 83.42651757188499}"
            ]
          },
          "metadata": {},
          "execution_count": 40
        }
      ],
      "source": [
        "# Перевірка базових результатів\n",
        "model_0_results"
      ]
    },
    {
      "cell_type": "markdown",
      "id": "340cbf14-e83f-4981-8a93-5fedb6b51418",
      "metadata": {
        "id": "340cbf14-e83f-4981-8a93-5fedb6b51418"
      },
      "source": [
        "Ого, у цьому випадку, здається, що додавання нелінійностей до нашої моделі призвело до гірших результатів, ніж базова модель.\n",
        "\n",
        "Це варто зазначити в машинному навчанні: іноді те, що ви думали, що має спрацювати, не спрацьовує.\n",
        "\n",
        "А те, що ви думали, що може не спрацювати, спрацьовує.\n",
        "\n",
        "Це частково наука, частково мистецтво.\n",
        "\n",
        "Судячи з усього, наша модель, здається, **перенавчається** на навчальних даних.\n",
        "\n",
        "Перенавчання означає, що наша модель добре вивчає навчальні дані, але ці патерни не узагальнюються на тестові дані.\n",
        "\n",
        "Два основні способи виправити перенавчання включають:\n",
        "1. Використання меншої або іншої моделі (деякі моделі краще підходять для певних типів даних).\n",
        "2. Використання більшого набору даних (чим більше даних, тим більше шансів у моделі навчитися узагальнювальним патернам).\n",
        "\n",
        "Є й інші способи, але я залишу це як виклик для вас, щоб дослідити.\n",
        "\n",
        "Спробуйте пошукати в Інтернеті \"способи запобігання перенавчанню в машинному навчанні\" і подивіться, що знайдете.\n",
        "\n",
        "А поки давайте розглянемо номер 1: використання іншої моделі."
      ]
    },
    {
      "cell_type": "markdown",
      "id": "ac22d685-1b8d-4215-90de-c0476cb0fbdf",
      "metadata": {
        "id": "ac22d685-1b8d-4215-90de-c0476cb0fbdf"
      },
      "source": [
        "## 7. Модель 2: Створення згорткової нейронної мережі (CNN)\n",
        "\n",
        "Добре, час підняти ставки.\n",
        "\n",
        "Час створити [згорткову нейронну мережу](https://en.wikipedia.org/wiki/Convolutional_neural_network) (CNN або ConvNet).\n",
        "\n",
        "CNN відомі своїми можливостями знаходити патерни у візуальних даних.\n",
        "\n",
        "І оскільки ми маємо справу з візуальними даними, давайте подивимося, чи може використання моделі CNN покращити наш базовий рівень.\n",
        "\n",
        "Модель CNN, яку ми будемо використовувати, відома як TinyVGG з веб-сайту [CNN Explainer](https://poloclub.github.io/cnn-explainer/).\n",
        "\n",
        "Вона слідує типовій структурі згорткової нейронної мережі:\n",
        "\n",
        "`Вхідний шар -> [Згортковий шар -> шар активації -> шар підбору] -> Вихідний шар`\n",
        "\n",
        "Де вміст `[Згортковий шар -> шар активації -> шар підбору]` може бути масштабований і повторюваний кілька разів, залежно від вимог."
      ]
    },
    {
      "cell_type": "markdown",
      "id": "9c358955-1d20-4903-b872-a239d2753d88",
      "metadata": {
        "id": "9c358955-1d20-4903-b872-a239d2753d88"
      },
      "source": [
        "### Яку модель мені слід використовувати?\n",
        "\n",
        "> **Запитання:** Зачекайте, ви кажете, що CNN хороші для зображень, чи є інші типи моделей, про які мені слід знати?\n",
        "\n",
        "Добре запитання.\n",
        "\n",
        "Ця таблиця є хорошим загальним посібником для вибору моделі (хоча є й винятки).\n",
        "\n",
        "| **Тип проблеми** | **Модель для використання (загалом)** | **Приклад коду** |\n",
        "| ----- | ----- | ----- |\n",
        "| Структуровані дані (Excel таблиці, дані в рядках і стовпцях) | Моделі з градієнтним підсиленням, Випадкові ліси, XGBoost | [`sklearn.ensemble`](https://scikit-learn.org/stable/modules/classes.html#module-sklearn.ensemble), [бібліотека XGBoost](https://xgboost.readthedocs.io/en/stable/) |\n",
        "| Неструктуровані дані (зображення, аудіо, мова) | Згорткові нейронні мережі, Трансформери | [`torchvision.models`](https://pytorch.org/vision/stable/models.html), [HuggingFace Transformers](https://huggingface.co/docs/transformers/index) |\n",
        "\n",
        "> **Примітка:** Таблиця вище є лише для довідки, модель, яку ви в кінцевому підсумку використовуватимете, буде сильно залежати від проблеми, над якою ви працюєте, та обмежень, які у вас є (кількість даних, вимоги до затримки).\n",
        "\n",
        "Давайте тепер побудуємо CNN, яка відтворює модель на [вебсайті CNN Explainer](https://poloclub.github.io/cnn-explainer/).\n",
        "\n",
        "![Архітектура TinyVGG, налаштована вебсайтом CNN explainer](https://raw.githubusercontent.com/mrdbourke/pytorch-deep-learning/main/images/03-cnn-explainer-model.png)\n",
        "\n",
        "Для цього ми скористаємося шарами [`nn.Conv2d()`](https://pytorch.org/docs/stable/generated/torch.nn.Conv2d.html) та [`nn.MaxPool2d()`](https://pytorch.org/docs/stable/generated/torch.nn.MaxPool2d.html) з `torch.nn`."
      ]
    },
    {
      "cell_type": "code",
      "execution_count": null,
      "id": "dce60214-63fd-46e2-89ba-125445ac76b7",
      "metadata": {
        "colab": {
          "base_uri": "https://localhost:8080/"
        },
        "id": "dce60214-63fd-46e2-89ba-125445ac76b7",
        "outputId": "3d8fa9f6-01b9-4de0-8fa5-7843fbf6945f"
      },
      "outputs": [
        {
          "output_type": "execute_result",
          "data": {
            "text/plain": [
              "FashionMNISTModelV2(\n",
              "  (block_1): Sequential(\n",
              "    (0): Conv2d(1, 10, kernel_size=(3, 3), stride=(1, 1), padding=(1, 1))\n",
              "    (1): ReLU()\n",
              "    (2): Conv2d(10, 10, kernel_size=(3, 3), stride=(1, 1), padding=(1, 1))\n",
              "    (3): ReLU()\n",
              "    (4): MaxPool2d(kernel_size=2, stride=2, padding=0, dilation=1, ceil_mode=False)\n",
              "  )\n",
              "  (block_2): Sequential(\n",
              "    (0): Conv2d(10, 10, kernel_size=(3, 3), stride=(1, 1), padding=(1, 1))\n",
              "    (1): ReLU()\n",
              "    (2): Conv2d(10, 10, kernel_size=(3, 3), stride=(1, 1), padding=(1, 1))\n",
              "    (3): ReLU()\n",
              "    (4): MaxPool2d(kernel_size=2, stride=2, padding=0, dilation=1, ceil_mode=False)\n",
              "  )\n",
              "  (classifier): Sequential(\n",
              "    (0): Flatten(start_dim=1, end_dim=-1)\n",
              "    (1): Linear(in_features=490, out_features=10, bias=True)\n",
              "  )\n",
              ")"
            ]
          },
          "metadata": {},
          "execution_count": 62
        }
      ],
      "source": [
        "# Створення згорткової нейронної мережі\n",
        "class FashionMNISTModelV2(nn.Module):\n",
        "    \"\"\"\n",
        "    Архітектура моделі, що копіює TinyVGG з:\n",
        "    https://poloclub.github.io/cnn-explainer/\n",
        "    \"\"\"\n",
        "    def __init__(self, input_shape: int, hidden_units: int, output_shape: int):\n",
        "        super().__init__()\n",
        "        self.block_1 = nn.Sequential(\n",
        "            nn.Conv2d(in_channels=input_shape,\n",
        "                      out_channels=hidden_units,\n",
        "                      kernel_size=3, # якого розміру квадрат, що проходить по зображенню?\n",
        "                      stride=1, # за замовчуванням\n",
        "                      padding=1),# варіанти = \"valid\" (без заповнення) або \"same\" (вихід має таку ж форму, як вхід) або int для конкретного числа\n",
        "            nn.ReLU(),\n",
        "            nn.Conv2d(in_channels=hidden_units,\n",
        "                      out_channels=hidden_units,\n",
        "                      kernel_size=3,\n",
        "                      stride=1,\n",
        "                      padding=1),\n",
        "            nn.ReLU(),\n",
        "            nn.MaxPool2d(kernel_size=2,\n",
        "                         stride=2) # значення кроку за замовчуванням таке ж, як і розмір ядра\n",
        "        )\n",
        "        self.block_2 = nn.Sequential(\n",
        "            nn.Conv2d(hidden_units, hidden_units, 3, padding=1),\n",
        "            nn.ReLU(),\n",
        "            nn.Conv2d(hidden_units, hidden_units, 3, padding=1),\n",
        "            nn.ReLU(),\n",
        "            nn.MaxPool2d(2)\n",
        "        )\n",
        "        self.classifier = nn.Sequential(\n",
        "            nn.Flatten(),\n",
        "            # Звідки взялася ця форма in_features?\n",
        "            # Це тому, що кожен шар нашої мережі стискає та змінює форму наших вхідних даних.\n",
        "            nn.Linear(in_features=hidden_units*7*7,\n",
        "                      out_features=output_shape)\n",
        "        )\n",
        "\n",
        "    def forward(self, x: torch.Tensor):\n",
        "        x = self.block_1(x)\n",
        "        # print(x.shape)\n",
        "        x = self.block_2(x)\n",
        "        # print(x.shape)\n",
        "        x = self.classifier(x)\n",
        "        # print(x.shape)\n",
        "        return x\n",
        "\n",
        "torch.manual_seed(42)\n",
        "model_2 = FashionMNISTModelV2(input_shape=1,\n",
        "    hidden_units=10,\n",
        "    output_shape=len(class_names)).to(device)\n",
        "model_2\n"
      ]
    },
    {
      "cell_type": "markdown",
      "id": "0a20f25e-cc16-4f85-a69b-62008c01d0ed",
      "metadata": {
        "id": "0a20f25e-cc16-4f85-a69b-62008c01d0ed"
      },
      "source": [
        "Гарно!\n",
        "\n",
        "Наша найбільша модель (по кількості коду) до цього часу!\n",
        "\n",
        "Те, що ми зробили, є звичайною практикою в машинному навчанні - знайти архітектуру моделі десь і відтворити її за допомогою коду самостійно. Це дуже класне тренування."
      ]
    },
    {
      "cell_type": "markdown",
      "id": "6478cc5a-7b33-425d-9ab3-6d40168a1aee",
      "metadata": {
        "id": "6478cc5a-7b33-425d-9ab3-6d40168a1aee"
      },
      "source": [
        "### 7.1 Проходження через `nn.Conv2d()`\n",
        "\n",
        "Ми могли б почати використовувати нашу модель вище і подивитися, що станеться, але спочатку давайте розглянемо два нові шари, які ми додали:\n",
        "* [`nn.Conv2d()`](https://pytorch.org/docs/stable/generated/torch.nn.Conv2d.html), також відомий як згортковий шар.\n",
        "* [`nn.MaxPool2d()`](https://pytorch.org/docs/stable/generated/torch.nn.MaxPool2d.html), також відомий як шар Maximum Pooling.\n",
        "\n",
        "> **Запитання:** Що означає \"2d\" в `nn.Conv2d()`?\n",
        ">\n",
        "> 2d означає 2-вимірні дані. Тобто, наші зображення мають дві розмірності: висоту і ширину. Так, є ще кольоровий канал, але ми просто розглядаємо кожен канал як одну окрему двовимірну картинку.\n",
        ">\n",
        "> Для даних інших розмірностей (таких як 1D для тексту або 3D для 3D об'єктів) також є `nn.Conv1d()` і `nn.Conv3d()`.\n",
        "\n",
        "### Як працює згортковий шар?\n",
        "![](https://cdn.prod.website-files.com/614c82ed388d53640613982e/646218745ba944b514f8d350_lenet%20architecture.webp)\n",
        "![](https://cdn.prod.website-files.com/614c82ed388d53640613982e/6462188f86bb3724db70a0c5_convolutional%20layer.webp)\n",
        "Розглянемо вхідне зображення з висотою \\(H\\), шириною \\(W\\) та \\(C\\) каналами (наприклад, RGB-зображення має 3 канали). У нас також є набір із \\(K\\) фільтрів (ядер), які ми будемо навчати, кожен фільтр з яких має свою висоту, ширину та кількість каналів. Зазвичай кількість каналів фільтра співпадає з кількістю каналів вхідного зображення, а висота і ширина фільтра значно менші за просторову роздільну здатність вхідного зображення.\n",
        "\n",
        "### Як працює згортковий шар:\n",
        "1. **Операція згортки**:\n",
        "   Згортковий шар бере кожен фільтр і ковзає ним по вхідному зображенню. У кожній позиції фільтр виконує помноження елементів фільтра на відповідні значення пікселів вхідного зображення. Після цього результати множення підсумовуються, утворюючи єдине значення виходу.\n",
        "\n",
        "2. **Еквівалентність матричному множенню**:\n",
        "   Ця операція подібна до множення матриць, де вагами виступають значення фільтра. Таким чином, згортковий шар можна порівняти з повнозв’язним шаром, але із **розподіленими вагами** (weight sharing).\n",
        "\n",
        "3. **Частково зв’язаний шар**:\n",
        "   Потрібно зазначити, що пікселі вхідного зображення не повністю зв’язані з усіма вихідними значеннями, як у повнозв’язному шарі. Натомість зв’язок обмежується областю, яка покривається фільтром.\n",
        "\n",
        "4. **Формування вихідної карти ознак**:\n",
        "   Щоб отримати вихідну карту ознак, згортка виконується \\(K\\)-разів – один раз для кожного фільтра. Усі отримані карти ознак об’єднуються (стекуються) по глибині.\n",
        "\n",
        "5. **Розмір вихідної карти ознак**:\n",
        "   Розмір вихідної карти ознак залежить від:\n",
        "   - Розміру вхідного зображення;\n",
        "   - Розміру фільтра;\n",
        "   - Значення кроку (stride);\n",
        "   - Налаштування заповнення (padding).\n",
        "\n",
        "### Переваги:\n",
        "- Згорткові шари дозволяють зменшити кількість параметрів завдяки використанню невеликих фільтрів.\n",
        "- Забезпечують локальну інваріантність, що є ключовою перевагою для аналізу зображень і сигналів.\n",
        "\n",
        "### Розглянемо детальніше роботу зі згортковими шарами\n",
        "Щоб протестувати згорткові і MaxPool шари, давайте створимо деякі іграшкові дані, як дані, використані в CNN Explainer. Вони іншої розмірності, ніж наші, бо оригінально архітектура TinyVGG була побудована під набір даних, який мав кольорові зображення розмірності 64*64."
      ]
    },
    {
      "cell_type": "code",
      "execution_count": null,
      "id": "058b01ac-3f6a-4472-bcbf-3377974e3254",
      "metadata": {
        "colab": {
          "base_uri": "https://localhost:8080/"
        },
        "id": "058b01ac-3f6a-4472-bcbf-3377974e3254",
        "outputId": "6115014b-cf90-4cde-8ea7-5daea2d4a61e"
      },
      "outputs": [
        {
          "output_type": "stream",
          "name": "stdout",
          "text": [
            "Форма пакету зображень: torch.Size([32, 3, 64, 64]) -> [розмір_пакету, кольорові_канали, висота, ширина]\n",
            "Форма одного зображення: torch.Size([3, 64, 64]) -> [кольорові_канали, висота, ширина]\n",
            "Піксельні значення одного зображення:\n",
            "tensor([[[ 1.9269,  1.4873,  0.9007,  ...,  1.8446, -1.1845,  1.3835],\n",
            "         [ 1.4451,  0.8564,  2.2181,  ...,  0.3399,  0.7200,  0.4114],\n",
            "         [ 1.9312,  1.0119, -1.4364,  ..., -0.5558,  0.7043,  0.7099],\n",
            "         ...,\n",
            "         [-0.5610, -0.4830,  0.4770,  ..., -0.2713, -0.9537, -0.6737],\n",
            "         [ 0.3076, -0.1277,  0.0366,  ..., -2.0060,  0.2824, -0.8111],\n",
            "         [-1.5486,  0.0485, -0.7712,  ..., -0.1403,  0.9416, -0.0118]],\n",
            "\n",
            "        [[-0.5197,  1.8524,  1.8365,  ...,  0.8935, -1.5114, -0.8515],\n",
            "         [ 2.0818,  1.0677, -1.4277,  ...,  1.6612, -2.6223, -0.4319],\n",
            "         [-0.1010, -0.4388, -1.9775,  ...,  0.2106,  0.2536, -0.7318],\n",
            "         ...,\n",
            "         [ 0.2779,  0.7342, -0.3736,  ..., -0.4601,  0.1815,  0.1850],\n",
            "         [ 0.7205, -0.2833,  0.0937,  ..., -0.1002, -2.3609,  2.2465],\n",
            "         [-1.3242, -0.1973,  0.2920,  ...,  0.5409,  0.6940,  1.8563]],\n",
            "\n",
            "        [[-0.7978,  1.0261,  1.1465,  ...,  1.2134,  0.9354, -0.0780],\n",
            "         [-1.4647, -1.9571,  0.1017,  ..., -1.9986, -0.7409,  0.7011],\n",
            "         [-1.3938,  0.8466, -1.7191,  ..., -1.1867,  0.1320,  0.3407],\n",
            "         ...,\n",
            "         [ 0.8206, -0.3745,  1.2499,  ..., -0.0676,  0.0385,  0.6335],\n",
            "         [-0.5589, -0.3393,  0.2347,  ...,  2.1181,  2.4569,  1.3083],\n",
            "         [-0.4092,  1.5199,  0.2401,  ..., -0.2558,  0.7870,  0.9924]]])\n"
          ]
        }
      ],
      "source": [
        "torch.manual_seed(42)\n",
        "\n",
        "# Створити вибірку випадкових чисел з таким же розміром, як у пакеті зображень\n",
        "images = torch.randn(size=(32, 3, 64, 64)) # [розмір_пакету, кольорові_канали, висота, ширина]\n",
        "test_image = images[0] # отримати одне зображення для тестування\n",
        "print(f\"Форма пакету зображень: {images.shape} -> [розмір_пакету, кольорові_канали, висота, ширина]\")\n",
        "print(f\"Форма одного зображення: {test_image.shape} -> [кольорові_канали, висота, ширина]\")\n",
        "print(f\"Піксельні значення одного зображення:\\n{test_image}\")\n"
      ]
    },
    {
      "cell_type": "markdown",
      "id": "bd3291c2-854e-4d0c-97b9-8bf46085fc43",
      "metadata": {
        "id": "bd3291c2-854e-4d0c-97b9-8bf46085fc43"
      },
      "source": [
        "Давайте створимо приклад `nn.Conv2d()` з різними параметрами:\n",
        "* `in_channels` (int) - Кількість каналів у вхідному зображенні.\n",
        "* `out_channels` (int) - Кількість каналів, що генеруються внаслідок згортки.\n",
        "* `kernel_size` (int або tuple) - Розмір згорткового ядра/фільтра.\n",
        "* `stride` (int або tuple, необов'язковий) - Який великий крок робить згорткове ядро за раз. За замовчуванням: 1.\n",
        "* `padding` (int, tuple, str) - Доповнення, додане до всіх чотирьох сторін вхідних даних. За замовчуванням: 0.\n",
        "\n",
        "![приклад проходження через різні параметри шару Conv2d](https://raw.githubusercontent.com/mrdbourke/pytorch-deep-learning/main/images/03-conv2d-layer.gif)\n",
        "\n",
        "*Приклад того, що відбувається, коли ви змінюєте гіперпараметри шару `nn.Conv2d()`.*"
      ]
    },
    {
      "cell_type": "code",
      "execution_count": null,
      "id": "ebd39562-1dad-40e3-90f5-750a5dac24e2",
      "metadata": {
        "colab": {
          "base_uri": "https://localhost:8080/"
        },
        "id": "ebd39562-1dad-40e3-90f5-750a5dac24e2",
        "outputId": "e2706ca7-407a-42ce-dba7-be23dec8aa85"
      },
      "outputs": [
        {
          "output_type": "execute_result",
          "data": {
            "text/plain": [
              "tensor([[[ 1.5396,  0.0516,  0.6454,  ..., -0.3673,  0.8711,  0.4256],\n",
              "         [ 0.3662,  1.0114, -0.5997,  ...,  0.8983,  0.2809, -0.2741],\n",
              "         [ 1.2664, -1.4054,  0.3727,  ..., -0.3409,  1.2191, -0.0463],\n",
              "         ...,\n",
              "         [-0.1541,  0.5132, -0.3624,  ..., -0.2360, -0.4609, -0.0035],\n",
              "         [ 0.2981, -0.2432,  1.5012,  ..., -0.6289, -0.7283, -0.5767],\n",
              "         [-0.0386, -0.0781, -0.0388,  ...,  0.2842,  0.4228, -0.1802]],\n",
              "\n",
              "        [[-0.2840, -0.0319, -0.4455,  ..., -0.7956,  1.5599, -1.2449],\n",
              "         [ 0.2753, -0.1262, -0.6541,  ..., -0.2211,  0.1999, -0.8856],\n",
              "         [-0.5404, -1.5489,  0.0249,  ..., -0.5932, -1.0913, -0.3849],\n",
              "         ...,\n",
              "         [ 0.3870, -0.4064, -0.8236,  ...,  0.1734, -0.4330, -0.4951],\n",
              "         [-0.1984, -0.6386,  1.0263,  ..., -0.9401, -0.0585, -0.7833],\n",
              "         [-0.6306, -0.2052, -0.3694,  ..., -1.3248,  0.2456, -0.7134]],\n",
              "\n",
              "        [[ 0.4414,  0.5100,  0.4846,  ..., -0.8484,  0.2638,  1.1258],\n",
              "         [ 0.8117,  0.3191, -0.0157,  ...,  1.2686,  0.2319,  0.5003],\n",
              "         [ 0.3212,  0.0485, -0.2581,  ...,  0.2258,  0.2587, -0.8804],\n",
              "         ...,\n",
              "         [-0.1144, -0.1869,  0.0160,  ..., -0.8346,  0.0974,  0.8421],\n",
              "         [ 0.2941,  0.4417,  0.5866,  ..., -0.1224,  0.4814, -0.4799],\n",
              "         [ 0.6059, -0.0415, -0.2028,  ...,  0.1170,  0.2521, -0.4372]],\n",
              "\n",
              "        ...,\n",
              "\n",
              "        [[-0.2560, -0.0477,  0.6380,  ...,  0.6436,  0.7553, -0.7055],\n",
              "         [ 1.5595, -0.2209, -0.9486,  ..., -0.4876,  0.7754,  0.0750],\n",
              "         [-0.0797,  0.2471,  1.1300,  ...,  0.1505,  0.2354,  0.9576],\n",
              "         ...,\n",
              "         [ 1.1065,  0.6839,  1.2183,  ...,  0.3015, -0.1910, -0.1902],\n",
              "         [-0.3486, -0.7173, -0.3582,  ...,  0.4917,  0.7219,  0.1513],\n",
              "         [ 0.0119,  0.1017,  0.7839,  ..., -0.3752, -0.8127, -0.1257]],\n",
              "\n",
              "        [[ 0.3841,  1.1322,  0.1620,  ...,  0.7010,  0.0109,  0.6058],\n",
              "         [ 0.1664,  0.1873,  1.5924,  ...,  0.3733,  0.9096, -0.5399],\n",
              "         [ 0.4094, -0.0861, -0.7935,  ..., -0.1285, -0.9932, -0.3013],\n",
              "         ...,\n",
              "         [ 0.2688, -0.5630, -1.1902,  ...,  0.4493,  0.5404, -0.0103],\n",
              "         [ 0.0535,  0.4411,  0.5313,  ...,  0.0148, -1.0056,  0.3759],\n",
              "         [ 0.3031, -0.1590, -0.1316,  ..., -0.5384, -0.4271, -0.4876]],\n",
              "\n",
              "        [[-1.1865, -0.7280, -1.2331,  ..., -0.9013, -0.0542, -1.5949],\n",
              "         [-0.6345, -0.5920,  0.5326,  ..., -1.0395, -0.7963, -0.0647],\n",
              "         [-0.1132,  0.5166,  0.2569,  ...,  0.5595, -1.6881,  0.9485],\n",
              "         ...,\n",
              "         [-0.0254, -0.2669,  0.1927,  ..., -0.2917,  0.1088, -0.4807],\n",
              "         [-0.2609, -0.2328,  0.1404,  ..., -0.1325, -0.8436, -0.7524],\n",
              "         [-1.1399, -0.1751, -0.8705,  ...,  0.1589,  0.3377,  0.3493]]],\n",
              "       grad_fn=<SqueezeBackward1>)"
            ]
          },
          "metadata": {},
          "execution_count": 42
        }
      ],
      "source": [
        "torch.manual_seed(42)\n",
        "\n",
        "# Створіть згортковий шар з такими ж розмірами, як у TinyVGG\n",
        "# (спробуйте змінити будь-який з параметрів і подивіться, що станеться)\n",
        "conv_layer = nn.Conv2d(in_channels=3,\n",
        "                       out_channels=10,\n",
        "                       kernel_size=3,\n",
        "                       stride=1,\n",
        "                       padding=0) # також спробуйте використати \"valid\" або \"same\" тут\n",
        "\n",
        "# Пропустіть дані через згортковий шар\n",
        "conv_layer(test_image) # Примітка: Якщо ви використовуєте PyTorch <1.11.0, це викличе помилку через проблеми з формою (nn.Conv.2d() очікує 4d тензор на вхід)"
      ]
    },
    {
      "cell_type": "markdown",
      "id": "cb0184ad-5c16-4e1c-bcfa-70ecf15377da",
      "metadata": {
        "id": "cb0184ad-5c16-4e1c-bcfa-70ecf15377da"
      },
      "source": [
        "Якщо ми спробуємо передати одне зображення, ми отримаємо помилку невідповідності розмірів:\n",
        "\n",
        "> `RuntimeError: Expected 4-dimensional input for 4-dimensional weight [10, 3, 3, 3], but got 3-dimensional input of size [3, 64, 64] instead`\n",
        ">\n",
        "> **Примітка:** Якщо ви використовуєте PyTorch 1.11.0+, ця помилка не виникне.\n",
        "\n",
        "Це пов'язано з тим, що наш шар `nn.Conv2d()` очікує 4-вимірний тензор на вхід з розміром `(N, C, H, W)` або `[розмір_пакету, кольорові_канали, висота, ширина]`.\n",
        "\n",
        "Зараз наше одне зображення `test_image` має лише форму `[кольорові_канали, висота, ширина]` або `[3, 64, 64]`.\n",
        "\n",
        "Ми можемо виправити це для одного зображення, використовуючи `test_image.unsqueeze(dim=0)`, щоб додати додатковий вимір для `N`."
      ]
    },
    {
      "cell_type": "code",
      "source": [
        "test_image.shape"
      ],
      "metadata": {
        "colab": {
          "base_uri": "https://localhost:8080/"
        },
        "id": "chPphFj3BnRL",
        "outputId": "60e30a17-e25f-4404-ed92-7b6e86c020f4"
      },
      "id": "chPphFj3BnRL",
      "execution_count": null,
      "outputs": [
        {
          "output_type": "execute_result",
          "data": {
            "text/plain": [
              "torch.Size([3, 64, 64])"
            ]
          },
          "metadata": {},
          "execution_count": 48
        }
      ]
    },
    {
      "cell_type": "code",
      "execution_count": null,
      "id": "abba741d-a1ed-44ed-ba53-41d589433a2c",
      "metadata": {
        "colab": {
          "base_uri": "https://localhost:8080/"
        },
        "id": "abba741d-a1ed-44ed-ba53-41d589433a2c",
        "outputId": "051e131e-0b35-4a01-bcbf-a5c1a63595d9"
      },
      "outputs": [
        {
          "output_type": "execute_result",
          "data": {
            "text/plain": [
              "torch.Size([1, 3, 64, 64])"
            ]
          },
          "metadata": {},
          "execution_count": 49
        }
      ],
      "source": [
        "# Додати додатковий вимір до тестового зображення\n",
        "test_image.unsqueeze(dim=0).shape"
      ]
    },
    {
      "cell_type": "code",
      "execution_count": null,
      "id": "c7280a49-4ee0-452b-a514-61115b6a444c",
      "metadata": {
        "colab": {
          "base_uri": "https://localhost:8080/"
        },
        "id": "c7280a49-4ee0-452b-a514-61115b6a444c",
        "outputId": "1f7c58d3-515a-491b-9d0a-09d85119c160"
      },
      "outputs": [
        {
          "output_type": "execute_result",
          "data": {
            "text/plain": [
              "torch.Size([1, 10, 62, 62])"
            ]
          },
          "metadata": {},
          "execution_count": 50
        }
      ],
      "source": [
        "# Пропустіть тестове зображення з додатковим виміром через conv_layer\n",
        "conv_layer(test_image.unsqueeze(dim=0)).shape"
      ]
    },
    {
      "cell_type": "markdown",
      "id": "181df81b-7c5a-46cc-b8d5-a592bf755a13",
      "metadata": {
        "id": "181df81b-7c5a-46cc-b8d5-a592bf755a13"
      },
      "source": [
        "Гм, зверніть увагу на те, що відбувається з нашою формою (та ж сама форма, що й у першому шарі TinyVGG на [CNN Explainer](https://poloclub.github.io/cnn-explainer/)), ми отримуємо різні розміри каналів, а також різні розміри пікселів.\n",
        "\n",
        "Що буде, якщо ми змінимо значення `conv_layer`?"
      ]
    },
    {
      "cell_type": "code",
      "execution_count": null,
      "id": "04445d45-cf2f-4c1d-b215-bc50865a207a",
      "metadata": {
        "colab": {
          "base_uri": "https://localhost:8080/"
        },
        "id": "04445d45-cf2f-4c1d-b215-bc50865a207a",
        "outputId": "01a0b2ab-c2a7-476a-9bcd-20a4e3fa0dc2"
      },
      "outputs": [
        {
          "output_type": "execute_result",
          "data": {
            "text/plain": [
              "torch.Size([1, 10, 30, 30])"
            ]
          },
          "metadata": {},
          "execution_count": 51
        }
      ],
      "source": [
        "torch.manual_seed(42)\n",
        "# Створіть новий conv_layer з різними значеннями (спробуйте встановити їх на свій розсуд)\n",
        "conv_layer_2 = nn.Conv2d(in_channels=3, # така ж кількість кольорових каналів, як у нашому вхідному зображенні\n",
        "                         out_channels=10,\n",
        "                         kernel_size=(5, 5), # ядро зазвичай квадратне, тому кортеж також підходить\n",
        "                         stride=2,\n",
        "                         padding=0)\n",
        "\n",
        "# Пропустіть одне зображення через новий conv_layer_2 (це викликає метод forward() nn.Conv2d() для вхідних даних)\n",
        "conv_layer_2(test_image.unsqueeze(dim=0)).shape"
      ]
    },
    {
      "cell_type": "markdown",
      "id": "b27dbdbb-3e32-4ffa-803e-cf943d96c72b",
      "metadata": {
        "id": "b27dbdbb-3e32-4ffa-803e-cf943d96c72b"
      },
      "source": [
        "Ого, у нас знову зміна форми.\n",
        "\n",
        "Тепер наше зображення має форму `[1, 10, 30, 30]` (воно буде іншим, якщо ви використовуєте інші значення) або `[batch_size=1, color_channels=10, height=30, width=30]`.\n",
        "\n",
        "Що тут відбувається?\n",
        "\n",
        "За лаштунками наш `nn.Conv2d()` стискає інформацію, що зберігається в зображенні.\n",
        "\n",
        "Це відбувається шляхом виконання операцій над вхідними даними (нашим тестовим зображенням) з його внутрішніми параметрами.\n",
        "\n",
        "Мета цього подібна до всіх інших нейронних мереж, які ми будували.\n",
        "\n",
        "Дані надходять, і шари намагаються оновити свої внутрішні параметри (патерни), щоб зменшити функцію втрат завдяки допомозі оптимізатора.\n",
        "\n",
        "Єдина різниця полягає в *тому*, як різні шари обчислюють свої оновлення параметрів або, в термінах PyTorch, операція, присутня в методі `forward()` шару.\n",
        "\n",
        "Якщо ми перевіримо наш `conv_layer_2.state_dict()`, ми знайдемо подібну налаштування ваг і зсувів, як ми бачили раніше."
      ]
    },
    {
      "cell_type": "code",
      "execution_count": null,
      "id": "46027ed1-c3a7-46bd-bab7-17f8c20e354b",
      "metadata": {
        "id": "46027ed1-c3a7-46bd-bab7-17f8c20e354b"
      },
      "outputs": [],
      "source": [
        "# Перевірте внутрішні параметри conv_layer_2\n",
        "# print(conv_layer_2.state_dict())"
      ]
    },
    {
      "cell_type": "markdown",
      "id": "8b708eb6-ae46-4d8c-a8a4-1392827d3e37",
      "metadata": {
        "id": "8b708eb6-ae46-4d8c-a8a4-1392827d3e37"
      },
      "source": [
        "Подивіться на це! Купа випадкових чисел для тензора ваг і зсувів.\n",
        "\n",
        "Форми цих тензорів маніпулюються вхідними даними, які ми передали в `nn.Conv2d()`, коли налаштовували його.\n",
        "\n",
        "Давайте їх перевіримо."
      ]
    },
    {
      "cell_type": "code",
      "execution_count": null,
      "id": "e5518d61-c0b7-4351-b5ea-4d6b6144291a",
      "metadata": {
        "colab": {
          "base_uri": "https://localhost:8080/"
        },
        "id": "e5518d61-c0b7-4351-b5ea-4d6b6144291a",
        "outputId": "54963d27-65ca-4810-afc5-2ec641000937"
      },
      "outputs": [
        {
          "output_type": "stream",
          "name": "stdout",
          "text": [
            "conv_layer_2 weight shape: \n",
            "torch.Size([10, 3, 5, 5]) -> [out_channels=10, in_channels=3, kernel_size=5, kernel_size=5]\n",
            "\n",
            "conv_layer_2 bias shape: \n",
            "torch.Size([10]) -> [out_channels=10]\n"
          ]
        }
      ],
      "source": [
        "# Отримати розміри тензорів ваг і зсувів у conv_layer_2\n",
        "print(f\"conv_layer_2 weight shape: \\n{conv_layer_2.weight.shape} -> [out_channels=10, in_channels=3, kernel_size=5, kernel_size=5]\")\n",
        "print(f\"\\nconv_layer_2 bias shape: \\n{conv_layer_2.bias.shape} -> [out_channels=10]\")"
      ]
    },
    {
      "cell_type": "markdown",
      "id": "f0de23c7-4501-4156-80a4-ac889a636a42",
      "metadata": {
        "id": "f0de23c7-4501-4156-80a4-ac889a636a42"
      },
      "source": [
        "> **Запитання:** Які параметри ми повинні встановити для наших шарів `nn.Conv2d()`?\n",
        ">\n",
        "> Це хороше питання. Але, як і багато інших речей у машинному навчанні, значення цих параметрів не є незмінними (і пам'ятайте, оскільки ці значення ми можемо встановити самі, їх називають \"**гіперпараметрами**\").\n",
        ">\n",
        "> Найкращий спосіб дізнатися - це спробувати різні значення і подивитися, як вони впливають на продуктивність вашої моделі.\n",
        ">\n",
        "> Або ще краще, знайдіть робочий приклад для проблеми, схожої на вашу (як ми зробили з TinyVGG), і скопіюйте його.\n",
        "\n",
        "Ми працюємо з іншим типом шару, ніж те, що ми бачили раніше.\n",
        "\n",
        "Але принцип залишається тим самим: почніть з випадкових чисел і оновлюйте їх, щоб краще відображати дані."
      ]
    },
    {
      "cell_type": "markdown",
      "id": "6370d45d-ca44-4fa0-a2d7-efaf0a207b91",
      "metadata": {
        "id": "6370d45d-ca44-4fa0-a2d7-efaf0a207b91"
      },
      "source": [
        "### 7.2 Проходження через `nn.MaxPool2d()`\n",
        "Тепер давайте подивимося, що відбувається, коли ми пропускаємо дані через `nn.MaxPool2d()`."
      ]
    },
    {
      "cell_type": "code",
      "execution_count": null,
      "id": "1164c753-19d9-43b7-a04f-017d0f7188c3",
      "metadata": {
        "colab": {
          "base_uri": "https://localhost:8080/"
        },
        "id": "1164c753-19d9-43b7-a04f-017d0f7188c3",
        "outputId": "2f6742ef-35eb-452f-eff2-a4f6c983947a"
      },
      "outputs": [
        {
          "output_type": "stream",
          "name": "stdout",
          "text": [
            "Тестове зображення, оригінальна форма: torch.Size([3, 64, 64])\n",
            "Тестове зображення з доданим виміром: torch.Size([1, 3, 64, 64])\n",
            "Форма після проходження через conv_layer(): torch.Size([1, 10, 62, 62])\n",
            "Форма після проходження через conv_layer() і max_pool_layer(): torch.Size([1, 10, 31, 31])\n"
          ]
        }
      ],
      "source": [
        "# Вивести оригінальну форму зображення без і з доданим виміром\n",
        "print(f\"Тестове зображення, оригінальна форма: {test_image.shape}\")\n",
        "print(f\"Тестове зображення з доданим виміром: {test_image.unsqueeze(dim=0).shape}\")\n",
        "\n",
        "# Створити зразок шару nn.MaxPool2d()\n",
        "max_pool_layer = nn.MaxPool2d(kernel_size=2)\n",
        "\n",
        "# Пропустити дані через лише conv_layer\n",
        "test_image_through_conv = conv_layer(test_image.unsqueeze(dim=0))\n",
        "print(f\"Форма після проходження через conv_layer(): {test_image_through_conv.shape}\")\n",
        "\n",
        "# Пропустити дані через шар максимального підбору\n",
        "test_image_through_conv_and_max_pool = max_pool_layer(test_image_through_conv)\n",
        "print(f\"Форма після проходження через conv_layer() і max_pool_layer(): {test_image_through_conv_and_max_pool.shape}\")"
      ]
    },
    {
      "cell_type": "markdown",
      "id": "de029abd-6674-4bfa-99ab-322f339f89f4",
      "metadata": {
        "id": "de029abd-6674-4bfa-99ab-322f339f89f4"
      },
      "source": [
        "Зверніть увагу на зміну форм того, що відбувається всередині та зовні шару `nn.MaxPool2d()`.\n",
        "\n",
        "`kernel_size` шару `nn.MaxPool2d()` вплине на розмір виходу.\n",
        "\n",
        "У нашому випадку форма зменшується з зображення `62x62` до зображення `31x31`.\n",
        "\n",
        "Давайте подивимося, як це працює з меншим тензором."
      ]
    },
    {
      "cell_type": "code",
      "execution_count": null,
      "id": "e6a2b196-4845-4b40-9212-e75406e88875",
      "metadata": {
        "colab": {
          "base_uri": "https://localhost:8080/"
        },
        "id": "e6a2b196-4845-4b40-9212-e75406e88875",
        "outputId": "ff4f6112-09a3-4ec3-f42b-0100d6a55f97"
      },
      "outputs": [
        {
          "output_type": "stream",
          "name": "stdout",
          "text": [
            "Random tensor:\n",
            "tensor([[[[0.3367, 0.1288],\n",
            "          [0.2345, 0.2303]]]])\n",
            "Random tensor shape: torch.Size([1, 1, 2, 2])\n",
            "\n",
            "Max pool tensor:\n",
            "tensor([[[[0.3367]]]]) <- це максимальне значення з random_tensor\n",
            "Max pool tensor shape: torch.Size([1, 1, 1, 1])\n"
          ]
        }
      ],
      "source": [
        "torch.manual_seed(42)\n",
        "# Створіть випадковий тензор з подібною кількістю вимірів до наших зображень\n",
        "random_tensor = torch.randn(size=(1, 1, 2, 2))\n",
        "print(f\"Random tensor:\\n{random_tensor}\")\n",
        "print(f\"Random tensor shape: {random_tensor.shape}\")\n",
        "\n",
        "# Створіть шар максимального підбору\n",
        "max_pool_layer = nn.MaxPool2d(kernel_size=2) # подивіться, що станеться, якщо змінити значення kernel_size\n",
        "\n",
        "# Пропустіть випадковий тензор через шар максимального підбору\n",
        "max_pool_tensor = max_pool_layer(random_tensor)\n",
        "print(f\"\\nMax pool tensor:\\n{max_pool_tensor} <- це максимальне значення з random_tensor\")\n",
        "print(f\"Max pool tensor shape: {max_pool_tensor.shape}\")"
      ]
    },
    {
      "cell_type": "markdown",
      "id": "002e586e-dcb3-40fe-a7dd-a1c18a3b8da0",
      "metadata": {
        "id": "002e586e-dcb3-40fe-a7dd-a1c18a3b8da0"
      },
      "source": [
        "Зверніть увагу на останні два виміри між `random_tensor` і `max_pool_tensor`, вони змінюються з `[2, 2]` на `[1, 1]`.\n",
        "\n",
        "По суті, вони зменшуються вдвічі.\n",
        "\n",
        "І зміна буде різною для різних значень `kernel_size` для `nn.MaxPool2d()`.\n",
        "\n",
        "Також зверніть увагу, що залишкове значення в `max_pool_tensor` є **максимальним** значенням з `random_tensor`.\n",
        "\n",
        "Що тут відбувається?\n",
        "\n",
        "Це ще одна важлива частина головоломки нейронних мереж.\n",
        "\n",
        "По суті, **кожен шар у нейронній мережі намагається стиснути дані з простору вищої розмірності до простору нижчої розмірності**.\n",
        "\n",
        "Іншими словами, взяти багато чисел (сирі дані) і навчитися виявляти патерни в цих числах, патерни, які є прогностичними, при цьому будучи *меншими* за розміром, ніж оригінальні значення.\n",
        "\n",
        "З точки зору штучного інтелекту, ви можете вважати, що вся мета нейронної мережі полягає в *стисненні* інформації.\n",
        "\n",
        "![кожен шар нейронної мережі стискає оригінальні вхідні дані в меншу репрезентацію, яка (сподіваємося) здатна робити прогнози на майбутніх вхідних даних](https://raw.githubusercontent.com/mrdbourke/pytorch-deep-learning/main/images/03-conv-net-as-compression.png)\n",
        "\n",
        "Це означає, що з точки зору нейронної мережі, інтелект — це стиснення.\n",
        "\n",
        "Це ідея використання шару `nn.MaxPool2d()`: взяти максимальне значення з частини тензора і ігнорувати решту.\n",
        "\n",
        "По суті, зменшити розмірність тензора, зберігаючи (сподіваємося) значну частину інформації.\n",
        "\n",
        "Та ж сама історія для шару `nn.Conv2d()`.\n",
        "\n",
        "Однак замість того, щоб просто взяти максимальне, `nn.Conv2d()` виконує конволюційні операції над даними (подивіться це в дії на [веб-сторінці CNN Explainer](https://poloclub.github.io/cnn-explainer/)).\n",
        "\n",
        "> **Завдання:** Як ви думаєте, що робить шар [`nn.AvgPool2d()`](https://pytorch.org/docs/stable/generated/torch.nn.AvgPool2d.html)? Спробуйте створити випадковий тензор, як ми робили вище, і пропустіть його через цей шар. Перевірте форми вхідних і вихідних даних, а також значення вхідних і вихідних даних.\n",
        "\n",
        "> **Додаткове завдання:** Пошукайте \"найпоширеніші конволюційні нейронні мережі\", які архітектури ви знайдете? Чи є якісь з них у бібліотеці [`torchvision.models`](https://pytorch.org/vision/stable/models.html)? Що, на вашу думку, ви могли б зробити з цими?"
      ]
    },
    {
      "cell_type": "markdown",
      "id": "39a3c646-52f0-4f4b-8527-2fc33d0dfb13",
      "metadata": {
        "id": "39a3c646-52f0-4f4b-8527-2fc33d0dfb13"
      },
      "source": [
        "### 7.3 Налаштування функції втрат та оптимізатора для `model_2`\n",
        "\n",
        "Ми достатньо пройшлися по шарам у нашій першій CNN.\n",
        "\n",
        "Але пам'ятайте, якщо щось все ще не зрозуміло, спробуйте почати з малого.\n",
        "\n",
        "Виберіть один шар моделі, пропустіть через нього деякі дані і подивіться, що станеться.\n",
        "\n",
        "Тепер час рухатися вперед і почати навчання!\n",
        "\n",
        "Давайте налаштуємо функцію втрат та оптимізатор.\n",
        "\n",
        "Ми використаємо функції, як і раніше, `nn.CrossEntropyLoss()` як функцію втрат (оскільки ми працюємо з даними багатокласової класифікації).\n",
        "\n",
        "І `torch.optim.SGD()` як оптимізатор для оптимізації `model_2.parameters()` з швидкістю навчання `0.1`."
      ]
    },
    {
      "cell_type": "code",
      "execution_count": null,
      "id": "06a76a1b-5f6f-4018-bf7b-8388b385476f",
      "metadata": {
        "id": "06a76a1b-5f6f-4018-bf7b-8388b385476f"
      },
      "outputs": [],
      "source": [
        "# Налаштування функції втрат та оптимізатора\n",
        "loss_fn = nn.CrossEntropyLoss()\n",
        "optimizer = torch.optim.SGD(params=model_2.parameters(),\n",
        "                             lr=0.1)"
      ]
    },
    {
      "cell_type": "markdown",
      "id": "758bc223-a244-4604-a07a-e2fc2f96c2f6",
      "metadata": {
        "id": "758bc223-a244-4604-a07a-e2fc2f96c2f6"
      },
      "source": [
        "### 7.4 Навчання та тестування `model_2` за допомогою наших функцій навчання та тестування\n",
        "\n",
        "Втрата та оптимізатор готові!\n",
        "\n",
        "Час навчати та тестувати.\n",
        "\n",
        "Ми використаємо наші функції `train_step()` та `test_step()`, які ми створили раніше.\n",
        "\n",
        "Ми також виміряємо час, щоб порівняти його з нашими іншими моделями."
      ]
    },
    {
      "cell_type": "code",
      "execution_count": null,
      "id": "861d126e-d876-40b3-9b7a-66cfc2f1bf05",
      "metadata": {
        "colab": {
          "base_uri": "https://localhost:8080/",
          "height": 327,
          "referenced_widgets": [
            "a5848078821f41609a40aa42035a3e35",
            "bf3bb12c39174447b851d15ce444dbfc",
            "e8cfc1853efc496db7c3057cd9f522ce",
            "c587cbc1185b4809b8b0583b4abcb75e",
            "1f3111df045f4eecb9516861790c209d",
            "c5e1c1e917f744c38de1231ea18c0ac8",
            "72bccb6b05d24f5ea27a2b9d74a9acb7",
            "66501e1a6f8647bf961ea857a124f5c4",
            "a78a577a323e459296b255eabca4b5db",
            "54d8d89b37b5438b87e8c5b885c4e4f8",
            "9c00eb9e28884921bf6cdbbba197ef9e"
          ]
        },
        "id": "861d126e-d876-40b3-9b7a-66cfc2f1bf05",
        "outputId": "936341fc-4bf2-4264-c792-45aaa0118681"
      },
      "outputs": [
        {
          "output_type": "display_data",
          "data": {
            "text/plain": [
              "  0%|          | 0/3 [00:00<?, ?it/s]"
            ],
            "application/vnd.jupyter.widget-view+json": {
              "version_major": 2,
              "version_minor": 0,
              "model_id": "a5848078821f41609a40aa42035a3e35"
            }
          },
          "metadata": {}
        },
        {
          "output_type": "stream",
          "name": "stdout",
          "text": [
            "Епоха: 0\n",
            "---------\n",
            "Train loss: 0.59324 | Train accuracy: 78.39%\n",
            "Test loss: 0.39233 | Test accuracy: 86.24%\n",
            "\n",
            "Епоха: 1\n",
            "---------\n",
            "Train loss: 0.36702 | Train accuracy: 86.74%\n",
            "Test loss: 0.35110 | Test accuracy: 87.21%\n",
            "\n",
            "Епоха: 2\n",
            "---------\n",
            "Train loss: 0.32690 | Train accuracy: 88.14%\n",
            "Test loss: 0.32510 | Test accuracy: 88.04%\n",
            "\n",
            "Час навчання на cuda: 36.193 секунд\n"
          ]
        }
      ],
      "source": [
        "torch.manual_seed(42)\n",
        "\n",
        "# Вимірювання часу\n",
        "from timeit import default_timer as timer\n",
        "train_time_start_model_2 = timer()\n",
        "\n",
        "# Навчання та тестування моделі\n",
        "epochs = 3\n",
        "for epoch in tqdm(range(epochs)):\n",
        "    print(f\"Епоха: {epoch}\\n---------\")\n",
        "    train_step(data_loader=train_dataloader,\n",
        "        model=model_2,\n",
        "        loss_fn=loss_fn,\n",
        "        optimizer=optimizer,\n",
        "        accuracy_fn=accuracy_fn,\n",
        "        device=device\n",
        "    )\n",
        "    test_step(data_loader=test_dataloader,\n",
        "        model=model_2,\n",
        "        loss_fn=loss_fn,\n",
        "        accuracy_fn=accuracy_fn,\n",
        "        device=device\n",
        "    )\n",
        "\n",
        "train_time_end_model_2 = timer()\n",
        "total_train_time_model_2 = print_train_time(start=train_time_start_model_2,\n",
        "                                           end=train_time_end_model_2,\n",
        "                                           device=device)\n"
      ]
    },
    {
      "cell_type": "markdown",
      "id": "cfec7b7e-4dba-4016-957a-a29c6c10fde0",
      "metadata": {
        "id": "cfec7b7e-4dba-4016-957a-a29c6c10fde0"
      },
      "source": [
        "Ого! Схоже, що згорткові та максимальні пулінгові шари трохи допомогли покращити продуктивність.\n",
        "\n",
        "Давайте оцінемо результати `model_2` за допомогою нашої функції `eval_model()`."
      ]
    },
    {
      "cell_type": "code",
      "execution_count": null,
      "id": "c1bf8b89-1389-4395-a1c4-9c6e94d9e71c",
      "metadata": {
        "colab": {
          "base_uri": "https://localhost:8080/"
        },
        "id": "c1bf8b89-1389-4395-a1c4-9c6e94d9e71c",
        "outputId": "50f75649-89bf-47f4-fa9b-e64db52e5af2"
      },
      "outputs": [
        {
          "output_type": "execute_result",
          "data": {
            "text/plain": [
              "{'model_name': 'FashionMNISTModelV2',\n",
              " 'model_loss': 0.3251011371612549,\n",
              " 'model_acc': 88.03913738019169}"
            ]
          },
          "metadata": {},
          "execution_count": 65
        }
      ],
      "source": [
        "# Отримати результати моделі_2\n",
        "model_2_results = eval_model(\n",
        "    model=model_2,\n",
        "    data_loader=test_dataloader,\n",
        "    loss_fn=loss_fn,\n",
        "    accuracy_fn=accuracy_fn\n",
        ")\n",
        "model_2_results"
      ]
    },
    {
      "cell_type": "markdown",
      "id": "24c5ff68-b0bc-4b09-9da6-696736bc262d",
      "metadata": {
        "id": "24c5ff68-b0bc-4b09-9da6-696736bc262d"
      },
      "source": [
        "## 8. Порівняння результатів моделей та часу навчання\n",
        "\n",
        "Ми навчали три різні моделі.\n",
        "\n",
        "1. `model_0` - наша базова модель з двома шарами `nn.Linear()`.\n",
        "2. `model_1` - та ж сама конфігурація, що й у нашій базовій моделі, за винятком шарів `nn.ReLU()` між шарами `nn.Linear()`.\n",
        "3. `model_2` - наша перша модель CNN, яка імітує архітектуру TinyVGG на сайті CNN Explainer.\n",
        "\n",
        "Це звичайна практика в машинному навчанні.\n",
        "\n",
        "Створення кількох моделей та проведення кількох експериментів з навчання, щоб дізнатися, яка з них працює найкраще.\n",
        "\n",
        "Давайте об'єднаємо наші словники результатів моделей у DataFrame і дізнаємося."
      ]
    },
    {
      "cell_type": "code",
      "execution_count": null,
      "id": "52d84ee1-1ad4-4860-b147-f8912c1febc7",
      "metadata": {
        "colab": {
          "base_uri": "https://localhost:8080/",
          "height": 143
        },
        "id": "52d84ee1-1ad4-4860-b147-f8912c1febc7",
        "outputId": "288ef42d-3575-441b-b262-2f51b1a89c63"
      },
      "outputs": [
        {
          "output_type": "execute_result",
          "data": {
            "text/plain": [
              "            model_name  model_loss  model_acc\n",
              "0  FashionMNISTModelV0    0.476639  83.426518\n",
              "1  FashionMNISTModelV1    0.685001  75.019968\n",
              "2  FashionMNISTModelV2    0.325101  88.039137"
            ],
            "text/html": [
              "\n",
              "  <div id=\"df-01993f78-2297-4049-b812-95405e234f54\" class=\"colab-df-container\">\n",
              "    <div>\n",
              "<style scoped>\n",
              "    .dataframe tbody tr th:only-of-type {\n",
              "        vertical-align: middle;\n",
              "    }\n",
              "\n",
              "    .dataframe tbody tr th {\n",
              "        vertical-align: top;\n",
              "    }\n",
              "\n",
              "    .dataframe thead th {\n",
              "        text-align: right;\n",
              "    }\n",
              "</style>\n",
              "<table border=\"1\" class=\"dataframe\">\n",
              "  <thead>\n",
              "    <tr style=\"text-align: right;\">\n",
              "      <th></th>\n",
              "      <th>model_name</th>\n",
              "      <th>model_loss</th>\n",
              "      <th>model_acc</th>\n",
              "    </tr>\n",
              "  </thead>\n",
              "  <tbody>\n",
              "    <tr>\n",
              "      <th>0</th>\n",
              "      <td>FashionMNISTModelV0</td>\n",
              "      <td>0.476639</td>\n",
              "      <td>83.426518</td>\n",
              "    </tr>\n",
              "    <tr>\n",
              "      <th>1</th>\n",
              "      <td>FashionMNISTModelV1</td>\n",
              "      <td>0.685001</td>\n",
              "      <td>75.019968</td>\n",
              "    </tr>\n",
              "    <tr>\n",
              "      <th>2</th>\n",
              "      <td>FashionMNISTModelV2</td>\n",
              "      <td>0.325101</td>\n",
              "      <td>88.039137</td>\n",
              "    </tr>\n",
              "  </tbody>\n",
              "</table>\n",
              "</div>\n",
              "    <div class=\"colab-df-buttons\">\n",
              "      \n",
              "  <div class=\"colab-df-container\">\n",
              "    <button class=\"colab-df-convert\" onclick=\"convertToInteractive('df-01993f78-2297-4049-b812-95405e234f54')\"\n",
              "            title=\"Convert this dataframe to an interactive table.\"\n",
              "            style=\"display:none;\">\n",
              "      \n",
              "  <svg xmlns=\"http://www.w3.org/2000/svg\" height=\"24px\" viewBox=\"0 -960 960 960\">\n",
              "    <path d=\"M120-120v-720h720v720H120Zm60-500h600v-160H180v160Zm220 220h160v-160H400v160Zm0 220h160v-160H400v160ZM180-400h160v-160H180v160Zm440 0h160v-160H620v160ZM180-180h160v-160H180v160Zm440 0h160v-160H620v160Z\"/>\n",
              "  </svg>\n",
              "    </button>\n",
              "    \n",
              "  <style>\n",
              "    .colab-df-container {\n",
              "      display:flex;\n",
              "      gap: 12px;\n",
              "    }\n",
              "\n",
              "    .colab-df-convert {\n",
              "      background-color: #E8F0FE;\n",
              "      border: none;\n",
              "      border-radius: 50%;\n",
              "      cursor: pointer;\n",
              "      display: none;\n",
              "      fill: #1967D2;\n",
              "      height: 32px;\n",
              "      padding: 0 0 0 0;\n",
              "      width: 32px;\n",
              "    }\n",
              "\n",
              "    .colab-df-convert:hover {\n",
              "      background-color: #E2EBFA;\n",
              "      box-shadow: 0px 1px 2px rgba(60, 64, 67, 0.3), 0px 1px 3px 1px rgba(60, 64, 67, 0.15);\n",
              "      fill: #174EA6;\n",
              "    }\n",
              "\n",
              "    .colab-df-buttons div {\n",
              "      margin-bottom: 4px;\n",
              "    }\n",
              "\n",
              "    [theme=dark] .colab-df-convert {\n",
              "      background-color: #3B4455;\n",
              "      fill: #D2E3FC;\n",
              "    }\n",
              "\n",
              "    [theme=dark] .colab-df-convert:hover {\n",
              "      background-color: #434B5C;\n",
              "      box-shadow: 0px 1px 3px 1px rgba(0, 0, 0, 0.15);\n",
              "      filter: drop-shadow(0px 1px 2px rgba(0, 0, 0, 0.3));\n",
              "      fill: #FFFFFF;\n",
              "    }\n",
              "  </style>\n",
              "\n",
              "    <script>\n",
              "      const buttonEl =\n",
              "        document.querySelector('#df-01993f78-2297-4049-b812-95405e234f54 button.colab-df-convert');\n",
              "      buttonEl.style.display =\n",
              "        google.colab.kernel.accessAllowed ? 'block' : 'none';\n",
              "\n",
              "      async function convertToInteractive(key) {\n",
              "        const element = document.querySelector('#df-01993f78-2297-4049-b812-95405e234f54');\n",
              "        const dataTable =\n",
              "          await google.colab.kernel.invokeFunction('convertToInteractive',\n",
              "                                                    [key], {});\n",
              "        if (!dataTable) return;\n",
              "\n",
              "        const docLinkHtml = 'Like what you see? Visit the ' +\n",
              "          '<a target=\"_blank\" href=https://colab.research.google.com/notebooks/data_table.ipynb>data table notebook</a>'\n",
              "          + ' to learn more about interactive tables.';\n",
              "        element.innerHTML = '';\n",
              "        dataTable['output_type'] = 'display_data';\n",
              "        await google.colab.output.renderOutput(dataTable, element);\n",
              "        const docLink = document.createElement('div');\n",
              "        docLink.innerHTML = docLinkHtml;\n",
              "        element.appendChild(docLink);\n",
              "      }\n",
              "    </script>\n",
              "  </div>\n",
              "  \n",
              "    </div>\n",
              "  </div>\n",
              "  "
            ]
          },
          "metadata": {},
          "execution_count": 66
        }
      ],
      "source": [
        "import pandas as pd\n",
        "# Порівняння результатів моделей\n",
        "compare_results = pd.DataFrame([model_0_results, model_1_results, model_2_results])\n",
        "compare_results"
      ]
    },
    {
      "cell_type": "markdown",
      "id": "c67f3fb5-ce7b-40b8-86a0-2797492de0ef",
      "metadata": {
        "id": "c67f3fb5-ce7b-40b8-86a0-2797492de0ef"
      },
      "source": [
        "Гарно!\n",
        "\n",
        "Ми також можемо додати значення часу навчання."
      ]
    },
    {
      "cell_type": "code",
      "execution_count": null,
      "id": "297af38f-e69f-4c6f-9027-fcaf0482a55c",
      "metadata": {
        "colab": {
          "base_uri": "https://localhost:8080/",
          "height": 143
        },
        "id": "297af38f-e69f-4c6f-9027-fcaf0482a55c",
        "outputId": "3d797c07-ffc3-4cc3-f423-d0f558455733"
      },
      "outputs": [
        {
          "output_type": "execute_result",
          "data": {
            "text/plain": [
              "            model_name  model_loss  model_acc  training_time\n",
              "0  FashionMNISTModelV0    0.476639  83.426518      28.359272\n",
              "1  FashionMNISTModelV1    0.685001  75.019968      31.105127\n",
              "2  FashionMNISTModelV2    0.325101  88.039137      36.192630"
            ],
            "text/html": [
              "\n",
              "  <div id=\"df-a11bfc8a-9181-427f-972d-4ec1ef9aa85a\" class=\"colab-df-container\">\n",
              "    <div>\n",
              "<style scoped>\n",
              "    .dataframe tbody tr th:only-of-type {\n",
              "        vertical-align: middle;\n",
              "    }\n",
              "\n",
              "    .dataframe tbody tr th {\n",
              "        vertical-align: top;\n",
              "    }\n",
              "\n",
              "    .dataframe thead th {\n",
              "        text-align: right;\n",
              "    }\n",
              "</style>\n",
              "<table border=\"1\" class=\"dataframe\">\n",
              "  <thead>\n",
              "    <tr style=\"text-align: right;\">\n",
              "      <th></th>\n",
              "      <th>model_name</th>\n",
              "      <th>model_loss</th>\n",
              "      <th>model_acc</th>\n",
              "      <th>training_time</th>\n",
              "    </tr>\n",
              "  </thead>\n",
              "  <tbody>\n",
              "    <tr>\n",
              "      <th>0</th>\n",
              "      <td>FashionMNISTModelV0</td>\n",
              "      <td>0.476639</td>\n",
              "      <td>83.426518</td>\n",
              "      <td>28.359272</td>\n",
              "    </tr>\n",
              "    <tr>\n",
              "      <th>1</th>\n",
              "      <td>FashionMNISTModelV1</td>\n",
              "      <td>0.685001</td>\n",
              "      <td>75.019968</td>\n",
              "      <td>31.105127</td>\n",
              "    </tr>\n",
              "    <tr>\n",
              "      <th>2</th>\n",
              "      <td>FashionMNISTModelV2</td>\n",
              "      <td>0.325101</td>\n",
              "      <td>88.039137</td>\n",
              "      <td>36.192630</td>\n",
              "    </tr>\n",
              "  </tbody>\n",
              "</table>\n",
              "</div>\n",
              "    <div class=\"colab-df-buttons\">\n",
              "      \n",
              "  <div class=\"colab-df-container\">\n",
              "    <button class=\"colab-df-convert\" onclick=\"convertToInteractive('df-a11bfc8a-9181-427f-972d-4ec1ef9aa85a')\"\n",
              "            title=\"Convert this dataframe to an interactive table.\"\n",
              "            style=\"display:none;\">\n",
              "      \n",
              "  <svg xmlns=\"http://www.w3.org/2000/svg\" height=\"24px\" viewBox=\"0 -960 960 960\">\n",
              "    <path d=\"M120-120v-720h720v720H120Zm60-500h600v-160H180v160Zm220 220h160v-160H400v160Zm0 220h160v-160H400v160ZM180-400h160v-160H180v160Zm440 0h160v-160H620v160ZM180-180h160v-160H180v160Zm440 0h160v-160H620v160Z\"/>\n",
              "  </svg>\n",
              "    </button>\n",
              "    \n",
              "  <style>\n",
              "    .colab-df-container {\n",
              "      display:flex;\n",
              "      gap: 12px;\n",
              "    }\n",
              "\n",
              "    .colab-df-convert {\n",
              "      background-color: #E8F0FE;\n",
              "      border: none;\n",
              "      border-radius: 50%;\n",
              "      cursor: pointer;\n",
              "      display: none;\n",
              "      fill: #1967D2;\n",
              "      height: 32px;\n",
              "      padding: 0 0 0 0;\n",
              "      width: 32px;\n",
              "    }\n",
              "\n",
              "    .colab-df-convert:hover {\n",
              "      background-color: #E2EBFA;\n",
              "      box-shadow: 0px 1px 2px rgba(60, 64, 67, 0.3), 0px 1px 3px 1px rgba(60, 64, 67, 0.15);\n",
              "      fill: #174EA6;\n",
              "    }\n",
              "\n",
              "    .colab-df-buttons div {\n",
              "      margin-bottom: 4px;\n",
              "    }\n",
              "\n",
              "    [theme=dark] .colab-df-convert {\n",
              "      background-color: #3B4455;\n",
              "      fill: #D2E3FC;\n",
              "    }\n",
              "\n",
              "    [theme=dark] .colab-df-convert:hover {\n",
              "      background-color: #434B5C;\n",
              "      box-shadow: 0px 1px 3px 1px rgba(0, 0, 0, 0.15);\n",
              "      filter: drop-shadow(0px 1px 2px rgba(0, 0, 0, 0.3));\n",
              "      fill: #FFFFFF;\n",
              "    }\n",
              "  </style>\n",
              "\n",
              "    <script>\n",
              "      const buttonEl =\n",
              "        document.querySelector('#df-a11bfc8a-9181-427f-972d-4ec1ef9aa85a button.colab-df-convert');\n",
              "      buttonEl.style.display =\n",
              "        google.colab.kernel.accessAllowed ? 'block' : 'none';\n",
              "\n",
              "      async function convertToInteractive(key) {\n",
              "        const element = document.querySelector('#df-a11bfc8a-9181-427f-972d-4ec1ef9aa85a');\n",
              "        const dataTable =\n",
              "          await google.colab.kernel.invokeFunction('convertToInteractive',\n",
              "                                                    [key], {});\n",
              "        if (!dataTable) return;\n",
              "\n",
              "        const docLinkHtml = 'Like what you see? Visit the ' +\n",
              "          '<a target=\"_blank\" href=https://colab.research.google.com/notebooks/data_table.ipynb>data table notebook</a>'\n",
              "          + ' to learn more about interactive tables.';\n",
              "        element.innerHTML = '';\n",
              "        dataTable['output_type'] = 'display_data';\n",
              "        await google.colab.output.renderOutput(dataTable, element);\n",
              "        const docLink = document.createElement('div');\n",
              "        docLink.innerHTML = docLinkHtml;\n",
              "        element.appendChild(docLink);\n",
              "      }\n",
              "    </script>\n",
              "  </div>\n",
              "  \n",
              "    </div>\n",
              "  </div>\n",
              "  "
            ]
          },
          "metadata": {},
          "execution_count": 67
        }
      ],
      "source": [
        "# Додати часи навчання до порівняння результатів\n",
        "compare_results[\"training_time\"] = [total_train_time_model_0,\n",
        "                                    total_train_time_model_1,\n",
        "                                    total_train_time_model_2]\n",
        "compare_results"
      ]
    },
    {
      "cell_type": "markdown",
      "id": "fbbe5832-1081-4c76-8d5b-06c7a06da7b9",
      "metadata": {
        "id": "fbbe5832-1081-4c76-8d5b-06c7a06da7b9"
      },
      "source": [
        "Схоже, що наша модель CNN (`FashionMNISTModelV2`) показала найкращі результати (найнижчі втрати, найвища точність), але мала найдовший час навчання.\n",
        "\n",
        "А наша базова модель (`FashionMNISTModelV0`) показала кращі результати, ніж `model_1` (`FashionMNISTModelV1`).\n",
        "\n",
        "### Компроміс між продуктивністю та швидкістю\n",
        "\n",
        "Щось, на що слід звернути увагу в машинному навчанні, це компроміс між **продуктивністю та швидкістю**.\n",
        "\n",
        "Зазвичай, ви отримуєте кращу продуктивність від більшої, складнішої моделі (як ми зробили з `model_2`).\n",
        "\n",
        "Однак, це підвищення продуктивності часто відбувається за рахунок швидкості навчання та швидкості інференції.\n",
        "\n",
        "> **Примітка:** Час навчання, який ви отримаєте, буде дуже залежати від апаратного забезпечення, яке ви використовуєте.\n",
        ">\n",
        "> Зазвичай, чим більше ядер CPU у вас є, тим швидше ваші моделі будуть навчатися на CPU. І аналогічно для GPU.\n",
        ">\n",
        "> Новіше апаратне забезпечення (з точки зору віку) також часто навчає моделі швидше завдяки впровадженню технологічних досягнень.\n",
        "\n",
        "Як щодо візуалізації?"
      ]
    },
    {
      "cell_type": "code",
      "execution_count": null,
      "id": "5eb0df60-9318-47d0-adce-f8788ed3999e",
      "metadata": {
        "colab": {
          "base_uri": "https://localhost:8080/",
          "height": 449
        },
        "id": "5eb0df60-9318-47d0-adce-f8788ed3999e",
        "outputId": "89c6b6cb-13a6-4f87-c62e-0e335f5ef338"
      },
      "outputs": [
        {
          "output_type": "display_data",
          "data": {
            "text/plain": [
              "<Figure size 640x480 with 1 Axes>"
            ],
            "image/png": "[encoded data removed]"
          },
          "metadata": {}
        }
      ],
      "source": [
        "# Візуалізуємо результати нашої моделі\n",
        "compare_results.set_index(\"model_name\")[\"model_acc\"].plot(kind=\"barh\")\n",
        "plt.xlabel(\"точність (%)\")\n",
        "plt.ylabel(\"модель\");"
      ]
    },
    {
      "cell_type": "markdown",
      "source": [
        "Важливий нюанс - це те, що нашаCNN ще й має МЕНШЕ параметрів за повнозвʼязні мережі!"
      ],
      "metadata": {
        "id": "L-5DUwyGNLz8"
      },
      "id": "L-5DUwyGNLz8"
    },
    {
      "cell_type": "code",
      "source": [
        "def count_model_parameters(model):\n",
        "    \"\"\"\n",
        "    Функція для підрахунку загальної кількості параметрів та кількості тренувальних параметрів у моделі.\n",
        "\n",
        "    Параметри:\n",
        "        model (torch.nn.Module): PyTorch модель.\n",
        "\n",
        "    Повертає:\n",
        "        total_params (int): Загальна кількість параметрів у моделі.\n",
        "        trainable_params (int): Кількість тренувальних (trainable) параметрів.\n",
        "    \"\"\"\n",
        "    # Підрахунок загальної кількості параметрів\n",
        "    total_params = sum(p.numel() for p in model.parameters())\n",
        "    # Підрахунок кількості параметрів, які можуть бути натреновані (requires_grad=True)\n",
        "    trainable_params = sum(p.numel() for p in model.parameters() if p.requires_grad)\n",
        "    print(f\"Загальна кількість параметрів: {total_params}\")\n",
        "    print(f\"Кількість тренувальних параметрів: {trainable_params}\")\n"
      ],
      "metadata": {
        "id": "gkt1g-VfNRdU"
      },
      "id": "gkt1g-VfNRdU",
      "execution_count": null,
      "outputs": []
    },
    {
      "cell_type": "code",
      "source": [
        "count_model_parameters(model_0)"
      ],
      "metadata": {
        "colab": {
          "base_uri": "https://localhost:8080/"
        },
        "id": "GcSP62ykNcpV",
        "outputId": "dda3f04f-6cb7-44a1-ac3f-5eeff5ad77af"
      },
      "id": "GcSP62ykNcpV",
      "execution_count": null,
      "outputs": [
        {
          "output_type": "stream",
          "name": "stdout",
          "text": [
            "Загальна кількість параметрів: 7960\n",
            "Кількість тренувальних параметрів: 7960\n"
          ]
        }
      ]
    },
    {
      "cell_type": "code",
      "source": [
        "count_model_parameters(model_1)"
      ],
      "metadata": {
        "colab": {
          "base_uri": "https://localhost:8080/"
        },
        "id": "YahZdmgJNhiU",
        "outputId": "11d5c81c-8cd6-46e0-a0d4-764b88053b15"
      },
      "id": "YahZdmgJNhiU",
      "execution_count": null,
      "outputs": [
        {
          "output_type": "stream",
          "name": "stdout",
          "text": [
            "Загальна кількість параметрів: 7960\n",
            "Кількість тренувальних параметрів: 7960\n"
          ]
        }
      ]
    },
    {
      "cell_type": "code",
      "source": [
        "count_model_parameters(model_2)"
      ],
      "metadata": {
        "colab": {
          "base_uri": "https://localhost:8080/"
        },
        "id": "1_PxwBjZNqfo",
        "outputId": "1c684d43-7722-4e19-c995-d4462012f1c6"
      },
      "id": "1_PxwBjZNqfo",
      "execution_count": null,
      "outputs": [
        {
          "output_type": "stream",
          "name": "stdout",
          "text": [
            "Загальна кількість параметрів: 7740\n",
            "Кількість тренувальних параметрів: 7740\n"
          ]
        }
      ]
    },
    {
      "cell_type": "markdown",
      "id": "0ba50d51-adb3-4e49-9b9a-85173e747352",
      "metadata": {
        "id": "0ba50d51-adb3-4e49-9b9a-85173e747352"
      },
      "source": [
        "## 9. Зробіть і оцініть випадкові прогнози з найкращою моделлю\n",
        "\n",
        "Добре, ми порівняли наші моделі між собою, давайте далі оцінимо нашу найкращу модель, `model_2`.\n",
        "\n",
        "Для цього давайте створимо функцію `make_predictions()`, куди ми зможемо передати модель і деякі дані для прогнозування."
      ]
    },
    {
      "cell_type": "code",
      "execution_count": null,
      "id": "d1d5d3e7-9601-4141-8bd7-9abbd016bf6c",
      "metadata": {
        "id": "d1d5d3e7-9601-4141-8bd7-9abbd016bf6c"
      },
      "outputs": [],
      "source": [
        "def make_predictions(model: torch.nn.Module, data: list, device: torch.device = device):\n",
        "    pred_probs = []\n",
        "    model.eval()\n",
        "    with torch.inference_mode():\n",
        "        for sample in data:\n",
        "            # Підготовка зразка\n",
        "            sample = torch.unsqueeze(sample, dim=0).to(device) # Додати додатковий вимір і надіслати зразок на пристрій\n",
        "\n",
        "            # Прямий прохід (модель видає сирий логіт)\n",
        "            pred_logit = model(sample)\n",
        "\n",
        "            # Отримати ймовірність прогнозу (логіт -> ймовірність прогнозу)\n",
        "            pred_prob = torch.softmax(pred_logit.squeeze(), dim=0) # зауваження: виконати softmax на вимірі \"логітів\", а не \"пакетів\" (в цьому випадку у нас розмір пакета 1, тому можна виконати на dim=0)\n",
        "\n",
        "            # Отримати pred_prob з GPU для подальших обчислень\n",
        "            pred_probs.append(pred_prob.cpu())\n",
        "\n",
        "    # Об'єднати pred_probs, щоб перетворити список в тензор\n",
        "    return torch.stack(pred_probs)\n"
      ]
    },
    {
      "cell_type": "code",
      "execution_count": null,
      "id": "420c7461-eaa9-4459-9e68-53574c758765",
      "metadata": {
        "colab": {
          "base_uri": "https://localhost:8080/"
        },
        "id": "420c7461-eaa9-4459-9e68-53574c758765",
        "outputId": "5b62bad5-e463-42f5-9519-56f20ebe05c3"
      },
      "outputs": [
        {
          "output_type": "stream",
          "name": "stdout",
          "text": [
            "Test sample image shape: torch.Size([1, 28, 28])\n",
            "Test sample label: 5 (Sandal)\n"
          ]
        }
      ],
      "source": [
        "import random\n",
        "random.seed(42)\n",
        "test_samples = []\n",
        "test_labels = []\n",
        "for sample, label in random.sample(list(test_data), k=9):\n",
        "    test_samples.append(sample)\n",
        "    test_labels.append(label)\n",
        "\n",
        "# Перегляньте форму першого тестового зразка та мітку\n",
        "print(f\"Test sample image shape: {test_samples[0].shape}\\nTest sample label: {test_labels[0]} ({class_names[test_labels[0]]})\")\n"
      ]
    },
    {
      "cell_type": "code",
      "execution_count": null,
      "id": "1DYqA0r4SkrV",
      "metadata": {
        "colab": {
          "base_uri": "https://localhost:8080/"
        },
        "id": "1DYqA0r4SkrV",
        "outputId": "ed9a2422-402a-40ce-fe46-5324182458d0"
      },
      "outputs": [
        {
          "output_type": "execute_result",
          "data": {
            "text/plain": [
              "tensor([[3.0072e-07, 1.1688e-07, 2.0475e-07, 5.2092e-07, 1.0904e-07, 9.9952e-01,\n",
              "         1.1192e-06, 6.3413e-05, 1.1204e-04, 3.0494e-04],\n",
              "        [2.7794e-02, 7.4017e-01, 7.8616e-04, 1.5280e-01, 4.8516e-02, 6.4818e-05,\n",
              "         2.8522e-02, 3.6340e-04, 9.1539e-04, 6.9223e-05]])"
            ]
          },
          "metadata": {},
          "execution_count": 75
        }
      ],
      "source": [
        "# Зробіть прогнози на тестових зразках за допомогою моделі 2\n",
        "pred_probs= make_predictions(model=model_2,\n",
        "                             data=test_samples)\n",
        "\n",
        "# Перегляньте перші два елементи списку ймовірностей прогнозів\n",
        "pred_probs[:2]"
      ]
    },
    {
      "cell_type": "markdown",
      "id": "e9f40dd9-7987-42a9-84cc-65dc912a6345",
      "metadata": {
        "id": "e9f40dd9-7987-42a9-84cc-65dc912a6345"
      },
      "source": [
        "А тепер ми можемо використати нашу функцію `make_predictions()`, щоб зробити прогнози на `test_samples`."
      ]
    },
    {
      "cell_type": "code",
      "execution_count": null,
      "id": "79de2ac1-7d4b-4f81-ae8a-90099bca2a3d",
      "metadata": {
        "colab": {
          "base_uri": "https://localhost:8080/"
        },
        "id": "79de2ac1-7d4b-4f81-ae8a-90099bca2a3d",
        "outputId": "2c0031d6-a624-4a3e-863b-eee9427fe1d3"
      },
      "outputs": [
        {
          "output_type": "execute_result",
          "data": {
            "text/plain": [
              "tensor([[3.0072e-07, 1.1688e-07, 2.0475e-07, 5.2092e-07, 1.0904e-07, 9.9952e-01,\n",
              "         1.1192e-06, 6.3413e-05, 1.1204e-04, 3.0494e-04],\n",
              "        [2.7794e-02, 7.4017e-01, 7.8616e-04, 1.5280e-01, 4.8516e-02, 6.4818e-05,\n",
              "         2.8522e-02, 3.6340e-04, 9.1539e-04, 6.9223e-05]])"
            ]
          },
          "metadata": {},
          "execution_count": 76
        }
      ],
      "source": [
        "# Зробіть прогнози на тестових зразках за допомогою моделі 2\n",
        "pred_probs= make_predictions(model=model_2,\n",
        "                             data=test_samples)\n",
        "\n",
        "# Перегляньте перші два значення ймовірностей прогнозів\n",
        "pred_probs[:2]"
      ]
    },
    {
      "cell_type": "code",
      "source": [
        "import numpy as np"
      ],
      "metadata": {
        "id": "iqYG4PNzHxBp"
      },
      "id": "iqYG4PNzHxBp",
      "execution_count": null,
      "outputs": []
    },
    {
      "cell_type": "code",
      "source": [
        "np.argmax([0.1, 0.7, 0.2])"
      ],
      "metadata": {
        "colab": {
          "base_uri": "https://localhost:8080/"
        },
        "id": "hSK-vUgdH0NN",
        "outputId": "ce1282dd-d1fa-48cf-c9e5-60ebc0f56c3c"
      },
      "id": "hSK-vUgdH0NN",
      "execution_count": null,
      "outputs": [
        {
          "output_type": "execute_result",
          "data": {
            "text/plain": [
              "1"
            ]
          },
          "metadata": {},
          "execution_count": 82
        }
      ]
    },
    {
      "cell_type": "markdown",
      "id": "22d3c080-4eb6-4b5d-a5c4-2319e78228af",
      "metadata": {
        "id": "22d3c080-4eb6-4b5d-a5c4-2319e78228af"
      },
      "source": [
        "Чудово!\n",
        "\n",
        "А тепер ми можемо перейти від ймовірностей прогнозування до міток прогнозування, взявши `torch.argmax()` з виходу функції активації `torch.softmax()`."
      ]
    },
    {
      "cell_type": "code",
      "execution_count": null,
      "id": "f9d97bcc-4310-4851-a1f8-6bcd757e9b26",
      "metadata": {
        "colab": {
          "base_uri": "https://localhost:8080/"
        },
        "id": "f9d97bcc-4310-4851-a1f8-6bcd757e9b26",
        "outputId": "751caa5a-7144-43d5-b466-c8b908328d63"
      },
      "outputs": [
        {
          "output_type": "execute_result",
          "data": {
            "text/plain": [
              "tensor([5, 1, 7, 4, 3, 0, 4, 7, 1])"
            ]
          },
          "metadata": {},
          "execution_count": 77
        }
      ],
      "source": [
        "# Перетворіть ймовірності прогнозів на мітки прогнозів, взявши argmax()\n",
        "pred_classes = pred_probs.argmax(dim=1)\n",
        "pred_classes"
      ]
    },
    {
      "cell_type": "code",
      "execution_count": null,
      "id": "1141af97-0990-4920-83d4-c13cca3f9abc",
      "metadata": {
        "colab": {
          "base_uri": "https://localhost:8080/"
        },
        "id": "1141af97-0990-4920-83d4-c13cca3f9abc",
        "outputId": "cc31f39b-e917-4e41-d7f9-889baf5e4128"
      },
      "outputs": [
        {
          "output_type": "execute_result",
          "data": {
            "text/plain": [
              "([5, 1, 7, 4, 3, 0, 4, 7, 1], tensor([5, 1, 7, 4, 3, 0, 4, 7, 1]))"
            ]
          },
          "metadata": {},
          "execution_count": 78
        }
      ],
      "source": [
        "# Чи мають наші прогнози таку ж форму, як і наші тестові мітки?\n",
        "test_labels, pred_classes"
      ]
    },
    {
      "cell_type": "markdown",
      "id": "4ea04387-c9ad-424f-8297-defd7b685683",
      "metadata": {
        "id": "4ea04387-c9ad-424f-8297-defd7b685683"
      },
      "source": [
        "Тепер наші прогнозовані класи мають той же формат, що й наші тестові мітки, ми можемо порівняти.\n",
        "\n",
        "Оскільки ми працюємо з зображеннями, давайте залишимося вірними девізу дослідника даних.\n",
        "\n",
        "\"Візуалізуйте, візуалізуйте, візуалізуйте!\""
      ]
    },
    {
      "cell_type": "code",
      "execution_count": null,
      "id": "679cb5f7-bb66-42dd-a4d6-400b27b7c019",
      "metadata": {
        "colab": {
          "base_uri": "https://localhost:8080/",
          "height": 749
        },
        "id": "679cb5f7-bb66-42dd-a4d6-400b27b7c019",
        "outputId": "2e9f72ed-657c-4877-8b96-a5c8d1f73fe7"
      },
      "outputs": [
        {
          "output_type": "display_data",
          "data": {
            "text/plain": [
              "<Figure size 900x900 with 9 Axes>"
            ],
            "image/png": "[encoded data removed]"
          },
          "metadata": {}
        }
      ],
      "source": [
        "# Побудова прогнозів\n",
        "plt.figure(figsize=(9, 9))\n",
        "nrows = 3\n",
        "ncols = 3\n",
        "for i, sample in enumerate(test_samples):\n",
        "  # Створити підграфік\n",
        "  plt.subplot(nrows, ncols, i+1)\n",
        "\n",
        "  # Побудувати цільове зображення\n",
        "  plt.imshow(sample.squeeze(), cmap=\"gray\")\n",
        "\n",
        "  # Знайти мітку прогнозу (в текстовій формі, наприклад, \"Сандалі\")\n",
        "  pred_label = class_names[pred_classes[i]]\n",
        "\n",
        "  # Отримати істинну мітку (в текстовій формі, наприклад, \"Футболка\")\n",
        "  truth_label = class_names[test_labels[i]]\n",
        "\n",
        "  # Створити текст заголовка графіка\n",
        "  title_text = f\"Прогноз: {pred_label} | Істина: {truth_label}\"\n",
        "\n",
        "  # Перевірити на рівність і змінити колір заголовка відповідно\n",
        "  if pred_label == truth_label:\n",
        "      plt.title(title_text, fontsize=10, c=\"g\") # зелений текст, якщо правильно\n",
        "  else:\n",
        "      plt.title(title_text, fontsize=10, c=\"r\") # червоний текст, якщо неправильно\n",
        "  plt.axis(False);"
      ]
    },
    {
      "cell_type": "markdown",
      "id": "5ce6dc44-90a5-48c3-91a5-810fa084d98b",
      "metadata": {
        "id": "5ce6dc44-90a5-48c3-91a5-810fa084d98b"
      },
      "source": [
        "Ну, ну, ну, хіба це не виглядає добре!\n",
        "\n",
        "Не погано для кількох десятків рядків коду PyTorch!"
      ]
    },
    {
      "cell_type": "markdown",
      "id": "ab108078-6770-4cb9-ac62-a761ff159aba",
      "metadata": {
        "id": "ab108078-6770-4cb9-ac62-a761ff159aba"
      },
      "source": [
        "## 10. Створення матриці плутанини для подальшої оцінки прогнозів\n",
        "\n",
        "Існує багато [різних метрик оцінки](https://www.learnpytorch.io/02_pytorch_classification/#9-more-classification-evaluation-metrics), які ми можемо використовувати для задач класифікації.\n",
        "\n",
        "Однією з найвізуальніших є [матриця плутанини](https://www.dataschool.io/simple-guide-to-confusion-matrix-terminology/).\n",
        "\n",
        "Матриця плутанини показує, де ваша модель класифікації заплуталася між прогнозами та справжніми мітками.\n",
        "\n",
        "Щоб створити матрицю плутанини, ми пройдемо три етапи:\n",
        "1. Зробіть прогнози за допомогою нашої навченої моделі, `model_2` (матриця плутанини порівнює прогнози зі справжніми мітками).\n",
        "2. Створіть матрицю плутанини, використовуючи [`torchmetrics.ConfusionMatrix`](https://torchmetrics.readthedocs.io/en/latest/references/modules.html?highlight=confusion#confusionmatrix).\n",
        "3. Побудуйте матрицю плутанини, використовуючи [`mlxtend.plotting.plot_confusion_matrix()`](http://rasbt.github.io/mlxtend/user_guide/plotting/plot_confusion_matrix/).\n",
        "\n",
        "Давайте почнемо з того, щоб зробити прогнози за допомогою нашої навченої моделі."
      ]
    },
    {
      "cell_type": "code",
      "execution_count": null,
      "id": "065b8090-c9c5-43df-b5c1-b45ba33af1be",
      "metadata": {
        "colab": {
          "base_uri": "https://localhost:8080/",
          "height": 49,
          "referenced_widgets": [
            "e0dbc91fd4ee43938b3a3c6e7e788cb7",
            "369275602cb64be99fdf1777f96e56a5",
            "5ed42a9342bd49748f3fc85c1cb64508",
            "700565be2ea2482bafd94a285ebb1ec2",
            "05a8fe8be95944138f97bb3b84bfa916",
            "6b8a8e4ee09542649dd86189301fa15b",
            "ec901bc3685e42288715d8e91e91dbf1",
            "60c56343cceb465fad13838842af50a8",
            "41c46c83c20a40b0b4cc70734b2170f6",
            "bc34d75440ae4bcd9fc3c41902f5da77",
            "664d5a1d9b9f4ae889183b6be12ce028"
          ]
        },
        "id": "065b8090-c9c5-43df-b5c1-b45ba33af1be",
        "outputId": "cd838afe-8169-4332-e112-a5a652c65fec"
      },
      "outputs": [
        {
          "output_type": "display_data",
          "data": {
            "text/plain": [
              "Зроблення прогнозів:   0%|          | 0/313 [00:00<?, ?it/s]"
            ],
            "application/vnd.jupyter.widget-view+json": {
              "version_major": 2,
              "version_minor": 0,
              "model_id": "e0dbc91fd4ee43938b3a3c6e7e788cb7"
            }
          },
          "metadata": {}
        }
      ],
      "source": [
        "# Імпортуємо tqdm для індикатора прогресу\n",
        "from tqdm.auto import tqdm\n",
        "\n",
        "# 1. Зробіть прогнози з навченою моделлю\n",
        "y_preds = []\n",
        "model_2.eval()\n",
        "with torch.inference_mode():\n",
        "  for X, y in tqdm(test_dataloader, desc=\"Зроблення прогнозів\"):\n",
        "    # Відправте дані та цілі на цільовий пристрій\n",
        "    X, y = X.to(device), y.to(device)\n",
        "    # Виконайте прямий прохід\n",
        "    y_logit = model_2(X)\n",
        "    # Перетворіть прогнози з логітів -> ймовірності прогнозів -> мітки прогнозів\n",
        "    y_pred = torch.softmax(y_logit, dim=1).argmax(dim=1) # зауваження: виконуйте softmax на вимірі \"логітів\", а не \"пакету\" (в даному випадку у нас розмір пакету 32, тому можна виконати на dim=1)\n",
        "    # Помістіть прогнози на CPU для оцінки\n",
        "    y_preds.append(y_pred.cpu())\n",
        "# Об'єднайте список прогнозів в тензор\n",
        "y_pred_tensor = torch.cat(y_preds)"
      ]
    },
    {
      "cell_type": "markdown",
      "id": "362002d9-ec41-4c74-a210-b5d4f53410c4",
      "metadata": {
        "id": "362002d9-ec41-4c74-a210-b5d4f53410c4"
      },
      "source": [
        "Чудово!\n",
        "\n",
        "Тепер, коли у нас є прогнози, давайте пройдемося по кроках 2 і 3:\n",
        "2. Створіть матрицю плутанини, використовуючи [`torchmetrics.ConfusionMatrix`](https://torchmetrics.readthedocs.io/en/latest/references/modules.html?highlight=confusion#confusionmatrix).\n",
        "3. Побудуйте матрицю плутанини, використовуючи [`mlxtend.plotting.plot_confusion_matrix()`](http://rasbt.github.io/mlxtend/user_guide/plotting/plot_confusion_matrix/).\n",
        "\n",
        "Спочатку нам потрібно переконатися, що у нас встановлені `torchmetrics` та `mlxtend` (ці дві бібліотеки допоможуть нам створити та візуалізувати матрицю плутанини).\n",
        "\n",
        "> **Примітка:** Якщо ви використовуєте Google Colab, за замовчуванням встановлена версія `mlxtend` - 0.14.0 (станом на березень 2022 року), однак для параметрів функції `plot_confusion_matrix()`, які ми хочемо використовувати, нам потрібна версія 0.19.0 або вище."
      ]
    },
    {
      "cell_type": "code",
      "execution_count": null,
      "id": "e6c0a05d-d3e0-4b86-9ef7-ee6ea5629b07",
      "metadata": {
        "colab": {
          "base_uri": "https://localhost:8080/"
        },
        "id": "e6c0a05d-d3e0-4b86-9ef7-ee6ea5629b07",
        "outputId": "f367d80f-eb5a-443b-de49-7a975240fe42"
      },
      "outputs": [
        {
          "output_type": "stream",
          "name": "stdout",
          "text": [
            "\u001b[?25l   \u001b[90m━━━━━━━━━━━━━━━━━━━━━━━━━━━━━━━━━━━━━━━━\u001b[0m \u001b[32m0.0/926.4 kB\u001b[0m \u001b[31m?\u001b[0m eta \u001b[36m-:--:--\u001b[0m\r\u001b[2K   \u001b[90m━━━━━━━━━━━━━━━━━━━━━━━━━━━━━━━━━━━━━━━━\u001b[0m \u001b[32m926.4/926.4 kB\u001b[0m \u001b[31m53.6 MB/s\u001b[0m eta \u001b[36m0:00:00\u001b[0m\n",
            "\u001b[?25h\u001b[?25l   \u001b[90m━━━━━━━━━━━━━━━━━━━━━━━━━━━━━━━━━━━━━━━━\u001b[0m \u001b[32m0.0/1.4 MB\u001b[0m \u001b[31m?\u001b[0m eta \u001b[36m-:--:--\u001b[0m\r\u001b[2K   \u001b[90m━━━━━━━━━━━━━━━━━━━━━━━━━━━━━━━━━━━━━━━━\u001b[0m \u001b[32m1.4/1.4 MB\u001b[0m \u001b[31m71.3 MB/s\u001b[0m eta \u001b[36m0:00:00\u001b[0m\n",
            "\u001b[?25hmlxtend версія: 0.23.3\n"
          ]
        }
      ],
      "source": [
        "# Перевірте, чи існує torchmetrics, якщо ні, встановіть його\n",
        "try:\n",
        "    import torchmetrics, mlxtend\n",
        "    print(f\"mlxtend версія: {mlxtend.__version__}\")\n",
        "    assert int(mlxtend.__version__.split(\".\")[1]) >= 19, \"версія mlxtend повинна бути 0.19.0 або вище\"\n",
        "except:\n",
        "    !pip install -q torchmetrics -U mlxtend # <- Примітка: Якщо ви використовуєте Google Colab, це може вимагати перезапуску середовища виконання\n",
        "    import torchmetrics, mlxtend\n",
        "    print(f\"mlxtend версія: {mlxtend.__version__}\")"
      ]
    },
    {
      "cell_type": "markdown",
      "id": "5245ede6-fd7f-40ad-a0b3-ae678544b84a",
      "metadata": {
        "id": "5245ede6-fd7f-40ad-a0b3-ae678544b84a"
      },
      "source": [
        "Щоб побудувати матрицю плутанини, нам потрібно переконатися, що у нас є версія [`mlxtend`](http://rasbt.github.io/mlxtend/) 0.19.0 або вища."
      ]
    },
    {
      "cell_type": "code",
      "execution_count": null,
      "id": "21383f88-a2dd-4678-94c6-479c592da0ab",
      "metadata": {
        "colab": {
          "base_uri": "https://localhost:8080/"
        },
        "id": "21383f88-a2dd-4678-94c6-479c592da0ab",
        "outputId": "a36776d8-a1c0-4bb8-d2c3-83f117bba6a5"
      },
      "outputs": [
        {
          "output_type": "stream",
          "name": "stdout",
          "text": [
            "0.23.3\n"
          ]
        }
      ],
      "source": [
        "# Імпортуйте оновлену версію mlxtend\n",
        "import mlxtend\n",
        "print(mlxtend.__version__)\n",
        "assert int(mlxtend.__version__.split(\".\")[1]) >= 19 # повинна бути версія 0.19.0 або вище"
      ]
    },
    {
      "cell_type": "markdown",
      "id": "c91b9346-e25f-48ab-967e-425649331dc6",
      "metadata": {
        "id": "c91b9346-e25f-48ab-967e-425649331dc6"
      },
      "source": [
        "`torchmetrics` та `mlxtend` встановлені, давайте створимо матрицю плутанини!\n",
        "\n",
        "Спочатку ми створимо екземпляр `torchmetrics.ConfusionMatrix`, вказавши, скільки класів ми маємо, встановивши `num_classes=len(class_names)`.\n",
        "\n",
        "Потім ми створимо матрицю плутанини (в форматі тензора), передавши нашому екземпляру прогнози нашої моделі (`preds=y_pred_tensor`) та цілі (`target=test_data.targets`).\n",
        "\n",
        "Нарешті, ми можемо побудувати нашу матрицю плутанини, використовуючи функцію `plot_confusion_matrix()` з `mlxtend.plotting`."
      ]
    },
    {
      "cell_type": "code",
      "execution_count": null,
      "id": "7aed6d76-ad1c-429e-b8e0-c80572e3ebf4",
      "metadata": {
        "colab": {
          "base_uri": "https://localhost:8080/",
          "height": 667
        },
        "id": "7aed6d76-ad1c-429e-b8e0-c80572e3ebf4",
        "outputId": "3e2c2468-f121-49b9-df2c-fdd8f7d21af9"
      },
      "outputs": [
        {
          "output_type": "display_data",
          "data": {
            "text/plain": [
              "<Figure size 1000x700 with 1 Axes>"
            ],
            "image/png": "[encoded data removed]"
          },
          "metadata": {}
        }
      ],
      "source": [
        "from torchmetrics import ConfusionMatrix\n",
        "from mlxtend.plotting import plot_confusion_matrix\n",
        "\n",
        "# 2. Налаштування екземпляра матриці плутанини та порівняння прогнозів з цілями\n",
        "confmat = ConfusionMatrix(num_classes=len(class_names), task='multiclass')\n",
        "confmat_tensor = confmat(preds=y_pred_tensor,\n",
        "                         target=test_data.targets)\n",
        "\n",
        "# 3. Побудова матриці плутанини\n",
        "fig, ax = plot_confusion_matrix(\n",
        "    conf_mat=confmat_tensor.numpy(), # matplotlib любить працювати з NumPy\n",
        "    class_names=class_names, # перетворення міток рядків і стовпців на назви класів\n",
        "    figsize=(10, 7)\n",
        ");"
      ]
    },
    {
      "cell_type": "markdown",
      "id": "381c1c93-df30-451c-b65e-5d4c1680dc30",
      "metadata": {
        "id": "381c1c93-df30-451c-b65e-5d4c1680dc30"
      },
      "source": [
        "Ого! Хіба це не виглядає добре?\n",
        "\n",
        "Ми можемо бачити, що наша модель працює досить добре, оскільки більшість темних квадратів знаходяться по діагоналі з верхнього лівого кута до нижнього правого (ідеальна модель матиме лише значення в цих квадратах і 0 скрізь інде).\n",
        "\n",
        "Модель найбільше \"плутанина\" на класах, які є схожими, наприклад, передбачаючи \"Светр\" для зображень, які насправді позначені як \"Сорочка\".\n",
        "\n",
        "І те ж саме для передбачення \"Сорочка\" для класів, які насправді позначені як \"Футболка/верх\".\n",
        "\n",
        "Ця інформація часто є більш корисною, ніж єдиний показник точності, оскільки вона показує *де* модель робить помилки.\n",
        "\n",
        "Вона також натякає на *чому* модель може помилятися в певних випадках.\n",
        "\n",
        "Цілком зрозуміло, що модель іноді передбачає \"Сорочка\" для зображень, позначених як \"Футболка/верх\".\n",
        "\n",
        "Ми можемо використовувати цю інформацію для подальшого аналізу наших моделей і даних, щоб побачити, як їх можна покращити.\n",
        "\n",
        "> **Завдання:** Використайте навчений `model_2` для прогнозування на тестовому наборі даних FashionMNIST. Потім побудуйте графік деяких прогнозів, де модель помилилася, поряд з тим, якою мала бути етикетка зображення. Після візуалізації цих прогнозів, як ви вважаєте, це більше помилка моделювання чи помилка даних? Чи може модель працювати краще, чи етикетки даних занадто близькі одна до одної (наприклад, етикетка \"Сорочка\" занадто близька до \"Футболка/верх\")?"
      ]
    },
    {
      "cell_type": "markdown",
      "id": "25818e83-89de-496d-8b56-af4fc9f2acc5",
      "metadata": {
        "id": "25818e83-89de-496d-8b56-af4fc9f2acc5"
      },
      "source": [
        "## 11. Збереження та завантаження найкращої моделі\n",
        "\n",
        "Давайте завершимо цей розділ, зберігши та завантаживши нашу найкращу модель.\n",
        "\n",
        "Ми можемо зберігати та завантажувати модель PyTorch, використовуючи комбінацію:\n",
        "* `torch.save` - функція для збереження цілого моделі PyTorch або `state_dict()` моделі.\n",
        "* `torch.load` - функція для завантаження збереженого об'єкта PyTorch.\n",
        "* `torch.nn.Module.load_state_dict()` - функція для завантаження збереженого `state_dict()` в існуючий екземпляр моделі.\n",
        "\n",
        "Ви можете знайти більше інформації про ці три функції в [документації PyTorch щодо збереження та завантаження моделей](https://pytorch.org/tutorials/beginner/saving_loading_models.html).\n",
        "\n",
        "На даний момент давайте збережемо `state_dict()` нашої `model_2`, а потім завантажимо його назад і оцінимо, щоб переконатися, що збереження та завантаження пройшли успішно."
      ]
    },
    {
      "cell_type": "code",
      "execution_count": null,
      "id": "d058e8fa-560f-4350-a154-49593ff403c9",
      "metadata": {
        "colab": {
          "base_uri": "https://localhost:8080/"
        },
        "id": "d058e8fa-560f-4350-a154-49593ff403c9",
        "outputId": "8d182095-dd71-4edc-d4c3-032ffac2a694"
      },
      "outputs": [
        {
          "output_type": "stream",
          "name": "stdout",
          "text": [
            "Збереження моделі за адресою: models/pytorch_computer_vision_model_2.pth\n"
          ]
        }
      ],
      "source": [
        "from pathlib import Path\n",
        "\n",
        "# Створити директорію моделей (якщо вона ще не існує), див. https://docs.python.org/3/library/pathlib.html#pathlib.Path.mkdir\n",
        "MODEL_PATH = Path(\"models\")\n",
        "MODEL_PATH.mkdir(parents=True, # створити батьківські директорії, якщо потрібно\n",
        "                 exist_ok=True # якщо директорія моделей вже існує, не викликати помилку\n",
        ")\n",
        "\n",
        "# Створити шлях для збереження моделі\n",
        "MODEL_NAME = \"pytorch_computer_vision_model_2.pth\"\n",
        "MODEL_SAVE_PATH = MODEL_PATH / MODEL_NAME\n",
        "\n",
        "# Зберегти стан моделі\n",
        "print(f\"Збереження моделі за адресою: {MODEL_SAVE_PATH}\")\n",
        "torch.save(obj=model_2.state_dict(), # зберігаємо лише state_dict(), що зберігає навчені параметри\n",
        "           f=MODEL_SAVE_PATH)"
      ]
    },
    {
      "cell_type": "markdown",
      "id": "a1542284-8132-42ba-b00d-57e9b9037e4e",
      "metadata": {
        "id": "a1542284-8132-42ba-b00d-57e9b9037e4e"
      },
      "source": [
        "Тепер, коли у нас є збережена модель `state_dict()`, ми можемо завантажити її назад, використовуючи комбінацію `load_state_dict()` та `torch.load()`.\n",
        "\n",
        "Оскільки ми використовуємо `load_state_dict()`, нам потрібно створити новий екземпляр `FashionMNISTModelV2()` з тими ж вхідними параметрами, що й у нашій збереженій моделі `state_dict()`."
      ]
    },
    {
      "cell_type": "code",
      "execution_count": null,
      "id": "634a8f7a-3013-4b45-b365-49b286d3c478",
      "metadata": {
        "id": "634a8f7a-3013-4b45-b365-49b286d3c478",
        "colab": {
          "base_uri": "https://localhost:8080/"
        },
        "outputId": "9c20bd28-bb41-4327-ee53-f470db8dcdb0"
      },
      "outputs": [
        {
          "output_type": "stream",
          "name": "stderr",
          "text": [
            "<ipython-input-88-d82bf1f57138>:8: FutureWarning: You are using `torch.load` with `weights_only=False` (the current default value), which uses the default pickle module implicitly. It is possible to construct malicious pickle data which will execute arbitrary code during unpickling (See https://github.com/pytorch/pytorch/blob/main/SECURITY.md#untrusted-models for more details). In a future release, the default value for `weights_only` will be flipped to `True`. This limits the functions that could be executed during unpickling. Arbitrary objects will no longer be allowed to be loaded via this mode unless they are explicitly allowlisted by the user via `torch.serialization.add_safe_globals`. We recommend you start setting `weights_only=True` for any use case where you don't have full control of the loaded file. Please open an issue on GitHub for any issues related to this experimental feature.\n",
            "  loaded_model_2.load_state_dict(torch.load(f=MODEL_SAVE_PATH))\n"
          ]
        }
      ],
      "source": [
        "# Створіть новий екземпляр FashionMNISTModelV2 (такий самий клас, як наш збережений state_dict())\n",
        "# Примітка: завантаження моделі викликатиме помилку, якщо форми тут не збігаються з збереженою версією\n",
        "loaded_model_2 = FashionMNISTModelV2(input_shape=1,\n",
        "                                    hidden_units=10, # спробуйте змінити це на 128 і подивитися, що станеться\n",
        "                                    output_shape=10)\n",
        "\n",
        "# Завантажте збережений state_dict()\n",
        "loaded_model_2.load_state_dict(torch.load(f=MODEL_SAVE_PATH))\n",
        "\n",
        "# Відправте модель на GPU\n",
        "loaded_model_2 = loaded_model_2.to(device)"
      ]
    },
    {
      "cell_type": "markdown",
      "id": "feeaebf4-6040-4fa5-852d-5eb8d2bbb94c",
      "metadata": {
        "id": "feeaebf4-6040-4fa5-852d-5eb8d2bbb94c"
      },
      "source": [
        "А тепер, коли у нас є завантажена модель, ми можемо оцінити її за допомогою `eval_model()`, щоб переконатися, що її параметри працюють подібно до `model_2` перед збереженням."
      ]
    },
    {
      "cell_type": "code",
      "execution_count": null,
      "id": "3e3bcd06-d99b-47bc-8828-9e3903285599",
      "metadata": {
        "colab": {
          "base_uri": "https://localhost:8080/"
        },
        "id": "3e3bcd06-d99b-47bc-8828-9e3903285599",
        "outputId": "2c3e35d0-79b9-4304-a9bf-29b281249766"
      },
      "outputs": [
        {
          "output_type": "execute_result",
          "data": {
            "text/plain": [
              "{'model_name': 'FashionMNISTModelV2',\n",
              " 'model_loss': 0.3251011371612549,\n",
              " 'model_acc': 88.03913738019169}"
            ]
          },
          "metadata": {},
          "execution_count": 89
        }
      ],
      "source": [
        "# Оцінка завантаженої моделі\n",
        "torch.manual_seed(42)\n",
        "\n",
        "loaded_model_2_results = eval_model(\n",
        "    model=loaded_model_2,\n",
        "    data_loader=test_dataloader,\n",
        "    loss_fn=loss_fn,\n",
        "    accuracy_fn=accuracy_fn\n",
        ")\n",
        "\n",
        "loaded_model_2_results"
      ]
    },
    {
      "cell_type": "markdown",
      "id": "c2b37855-c0da-4834-a2d4-a0faa8410b65",
      "metadata": {
        "id": "c2b37855-c0da-4834-a2d4-a0faa8410b65"
      },
      "source": [
        "Чи виглядають ці результати так само, як `model_2_results`?"
      ]
    },
    {
      "cell_type": "code",
      "execution_count": null,
      "id": "68544254-c99a-47ec-a32f-9816c21a993e",
      "metadata": {
        "colab": {
          "base_uri": "https://localhost:8080/"
        },
        "id": "68544254-c99a-47ec-a32f-9816c21a993e",
        "outputId": "6b510e91-1a4e-495a-9f2b-6b5b29c99600"
      },
      "outputs": [
        {
          "output_type": "execute_result",
          "data": {
            "text/plain": [
              "{'model_name': 'FashionMNISTModelV2',\n",
              " 'model_loss': 0.3251011371612549,\n",
              " 'model_acc': 88.03913738019169}"
            ]
          },
          "metadata": {},
          "execution_count": 90
        }
      ],
      "source": [
        "model_2_results"
      ]
    },
    {
      "cell_type": "markdown",
      "id": "0ee07f93-4344-4c7a-8b1d-92a56034e7b2",
      "metadata": {
        "id": "0ee07f93-4344-4c7a-8b1d-92a56034e7b2"
      },
      "source": [
        "Ми можемо дізнатися, чи два тензори близькі один до одного, використовуючи `torch.isclose()` і передаючи рівень допустимої близькості через параметри `atol` (абсолютна допустимість) та `rtol` (відносна допустимість).\n",
        "\n",
        "Якщо результати нашої моделі близькі, вихід `torch.isclose()` повинен бути істинним."
      ]
    },
    {
      "cell_type": "code",
      "execution_count": null,
      "id": "48dcf0ba-7e00-4406-8aaa-41918856361a",
      "metadata": {
        "colab": {
          "base_uri": "https://localhost:8080/"
        },
        "id": "48dcf0ba-7e00-4406-8aaa-41918856361a",
        "outputId": "f6d7a0a4-2d13-4c32-e2ef-76c7c10c34e0"
      },
      "outputs": [
        {
          "output_type": "execute_result",
          "data": {
            "text/plain": [
              "tensor(True)"
            ]
          },
          "metadata": {},
          "execution_count": 91
        }
      ],
      "source": [
        "# Перевірте, чи результати близькі один до одного (якщо вони дуже далеко, може бути помилка)\n",
        "torch.isclose(torch.tensor(model_2_results[\"model_loss\"]),\n",
        "              torch.tensor(loaded_model_2_results[\"model_loss\"]),\n",
        "              atol=1e-08, # абсолютна похибка\n",
        "              rtol=0.0001) # відносна похибка"
      ]
    },
    {
      "cell_type": "markdown",
      "source": [
        "# Що почитати додатково\n",
        "\n",
        "1. Про історичний розвиток CNNів простою мовою: https://www.superannotate.com/blog/guide-to-convolutional-neural-networks\n",
        "\n",
        "2. Детально як працює CNN з візуалізаціями і можливість поклікати власноруч і зрозуміти принципи роботи CNN ще глибше: https://poloclub.github.io/cnn-explainer/\n",
        "\n",
        "\n"
      ],
      "metadata": {
        "id": "OyrJldQbRv6p"
      },
      "id": "OyrJldQbRv6p"
    }
  ],
  "metadata": {
    "accelerator": "GPU",
    "colab": {
      "gpuType": "T4",
      "machine_shape": "hm",
      "provenance": []
    },
    "kernelspec": {
      "display_name": "Python 3 (ipykernel)",
      "language": "python",
      "name": "python3"
    },
    "language_info": {
      "codemirror_mode": {
        "name": "ipython",
        "version": 3
      },
      "file_extension": ".py",
      "mimetype": "text/x-python",
      "name": "python",
      "nbconvert_exporter": "python",
      "pygments_lexer": "ipython3",
      "version": "3.8.13"
    },
    "vscode": {
      "interpreter": {
        "hash": "3fbe1355223f7b2ffc113ba3ade6a2b520cadace5d5ec3e828c83ce02eb221bf"
      }
    },
    "widgets": {
      "application/vnd.jupyter.widget-state+json": {
        "831319ee8fd141ff9aede026c9da8c6f": {
          "model_module": "@jupyter-widgets/controls",
          "model_name": "HBoxModel",
          "model_module_version": "1.5.0",
          "state": {
            "_dom_classes": [],
            "_model_module": "@jupyter-widgets/controls",
            "_model_module_version": "1.5.0",
            "_model_name": "HBoxModel",
            "_view_count": null,
            "_view_module": "@jupyter-widgets/controls",
            "_view_module_version": "1.5.0",
            "_view_name": "HBoxView",
            "box_style": "",
            "children": [
              "IPY_MODEL_0164c7837af54ab181e26be80e49cc3e",
              "IPY_MODEL_c8e22641374b4e97ae9e60712d3b7c54",
              "IPY_MODEL_96338d7a91684c94bd4e5b2f0085ba8d"
            ],
            "layout": "IPY_MODEL_12f8c818699b4a61afc8e1864cf732c7"
          }
        },
        "0164c7837af54ab181e26be80e49cc3e": {
          "model_module": "@jupyter-widgets/controls",
          "model_name": "HTMLModel",
          "model_module_version": "1.5.0",
          "state": {
            "_dom_classes": [],
            "_model_module": "@jupyter-widgets/controls",
            "_model_module_version": "1.5.0",
            "_model_name": "HTMLModel",
            "_view_count": null,
            "_view_module": "@jupyter-widgets/controls",
            "_view_module_version": "1.5.0",
            "_view_name": "HTMLView",
            "description": "",
            "description_tooltip": null,
            "layout": "IPY_MODEL_4503fc0fe41d4f5ea473dcf02b9548a4",
            "placeholder": "​",
            "style": "IPY_MODEL_526345f5a58a41a9aca8a718a81983fb",
            "value": "100%"
          }
        },
        "c8e22641374b4e97ae9e60712d3b7c54": {
          "model_module": "@jupyter-widgets/controls",
          "model_name": "FloatProgressModel",
          "model_module_version": "1.5.0",
          "state": {
            "_dom_classes": [],
            "_model_module": "@jupyter-widgets/controls",
            "_model_module_version": "1.5.0",
            "_model_name": "FloatProgressModel",
            "_view_count": null,
            "_view_module": "@jupyter-widgets/controls",
            "_view_module_version": "1.5.0",
            "_view_name": "ProgressView",
            "bar_style": "success",
            "description": "",
            "description_tooltip": null,
            "layout": "IPY_MODEL_6105c74d967648cf8a1142010420c078",
            "max": 3,
            "min": 0,
            "orientation": "horizontal",
            "style": "IPY_MODEL_37457eaaccf441b782baaf23e3971f0e",
            "value": 3
          }
        },
        "96338d7a91684c94bd4e5b2f0085ba8d": {
          "model_module": "@jupyter-widgets/controls",
          "model_name": "HTMLModel",
          "model_module_version": "1.5.0",
          "state": {
            "_dom_classes": [],
            "_model_module": "@jupyter-widgets/controls",
            "_model_module_version": "1.5.0",
            "_model_name": "HTMLModel",
            "_view_count": null,
            "_view_module": "@jupyter-widgets/controls",
            "_view_module_version": "1.5.0",
            "_view_name": "HTMLView",
            "description": "",
            "description_tooltip": null,
            "layout": "IPY_MODEL_e3ac1302e8b44b75a6dbdc54b3bc31f6",
            "placeholder": "​",
            "style": "IPY_MODEL_89349c32351247eea848a9af6f72483a",
            "value": " 3/3 [00:28&lt;00:00,  9.35s/it]"
          }
        },
        "12f8c818699b4a61afc8e1864cf732c7": {
          "model_module": "@jupyter-widgets/base",
          "model_name": "LayoutModel",
          "model_module_version": "1.2.0",
          "state": {
            "_model_module": "@jupyter-widgets/base",
            "_model_module_version": "1.2.0",
            "_model_name": "LayoutModel",
            "_view_count": null,
            "_view_module": "@jupyter-widgets/base",
            "_view_module_version": "1.2.0",
            "_view_name": "LayoutView",
            "align_content": null,
            "align_items": null,
            "align_self": null,
            "border": null,
            "bottom": null,
            "display": null,
            "flex": null,
            "flex_flow": null,
            "grid_area": null,
            "grid_auto_columns": null,
            "grid_auto_flow": null,
            "grid_auto_rows": null,
            "grid_column": null,
            "grid_gap": null,
            "grid_row": null,
            "grid_template_areas": null,
            "grid_template_columns": null,
            "grid_template_rows": null,
            "height": null,
            "justify_content": null,
            "justify_items": null,
            "left": null,
            "margin": null,
            "max_height": null,
            "max_width": null,
            "min_height": null,
            "min_width": null,
            "object_fit": null,
            "object_position": null,
            "order": null,
            "overflow": null,
            "overflow_x": null,
            "overflow_y": null,
            "padding": null,
            "right": null,
            "top": null,
            "visibility": null,
            "width": null
          }
        },
        "4503fc0fe41d4f5ea473dcf02b9548a4": {
          "model_module": "@jupyter-widgets/base",
          "model_name": "LayoutModel",
          "model_module_version": "1.2.0",
          "state": {
            "_model_module": "@jupyter-widgets/base",
            "_model_module_version": "1.2.0",
            "_model_name": "LayoutModel",
            "_view_count": null,
            "_view_module": "@jupyter-widgets/base",
            "_view_module_version": "1.2.0",
            "_view_name": "LayoutView",
            "align_content": null,
            "align_items": null,
            "align_self": null,
            "border": null,
            "bottom": null,
            "display": null,
            "flex": null,
            "flex_flow": null,
            "grid_area": null,
            "grid_auto_columns": null,
            "grid_auto_flow": null,
            "grid_auto_rows": null,
            "grid_column": null,
            "grid_gap": null,
            "grid_row": null,
            "grid_template_areas": null,
            "grid_template_columns": null,
            "grid_template_rows": null,
            "height": null,
            "justify_content": null,
            "justify_items": null,
            "left": null,
            "margin": null,
            "max_height": null,
            "max_width": null,
            "min_height": null,
            "min_width": null,
            "object_fit": null,
            "object_position": null,
            "order": null,
            "overflow": null,
            "overflow_x": null,
            "overflow_y": null,
            "padding": null,
            "right": null,
            "top": null,
            "visibility": null,
            "width": null
          }
        },
        "526345f5a58a41a9aca8a718a81983fb": {
          "model_module": "@jupyter-widgets/controls",
          "model_name": "DescriptionStyleModel",
          "model_module_version": "1.5.0",
          "state": {
            "_model_module": "@jupyter-widgets/controls",
            "_model_module_version": "1.5.0",
            "_model_name": "DescriptionStyleModel",
            "_view_count": null,
            "_view_module": "@jupyter-widgets/base",
            "_view_module_version": "1.2.0",
            "_view_name": "StyleView",
            "description_width": ""
          }
        },
        "6105c74d967648cf8a1142010420c078": {
          "model_module": "@jupyter-widgets/base",
          "model_name": "LayoutModel",
          "model_module_version": "1.2.0",
          "state": {
            "_model_module": "@jupyter-widgets/base",
            "_model_module_version": "1.2.0",
            "_model_name": "LayoutModel",
            "_view_count": null,
            "_view_module": "@jupyter-widgets/base",
            "_view_module_version": "1.2.0",
            "_view_name": "LayoutView",
            "align_content": null,
            "align_items": null,
            "align_self": null,
            "border": null,
            "bottom": null,
            "display": null,
            "flex": null,
            "flex_flow": null,
            "grid_area": null,
            "grid_auto_columns": null,
            "grid_auto_flow": null,
            "grid_auto_rows": null,
            "grid_column": null,
            "grid_gap": null,
            "grid_row": null,
            "grid_template_areas": null,
            "grid_template_columns": null,
            "grid_template_rows": null,
            "height": null,
            "justify_content": null,
            "justify_items": null,
            "left": null,
            "margin": null,
            "max_height": null,
            "max_width": null,
            "min_height": null,
            "min_width": null,
            "object_fit": null,
            "object_position": null,
            "order": null,
            "overflow": null,
            "overflow_x": null,
            "overflow_y": null,
            "padding": null,
            "right": null,
            "top": null,
            "visibility": null,
            "width": null
          }
        },
        "37457eaaccf441b782baaf23e3971f0e": {
          "model_module": "@jupyter-widgets/controls",
          "model_name": "ProgressStyleModel",
          "model_module_version": "1.5.0",
          "state": {
            "_model_module": "@jupyter-widgets/controls",
            "_model_module_version": "1.5.0",
            "_model_name": "ProgressStyleModel",
            "_view_count": null,
            "_view_module": "@jupyter-widgets/base",
            "_view_module_version": "1.2.0",
            "_view_name": "StyleView",
            "bar_color": null,
            "description_width": ""
          }
        },
        "e3ac1302e8b44b75a6dbdc54b3bc31f6": {
          "model_module": "@jupyter-widgets/base",
          "model_name": "LayoutModel",
          "model_module_version": "1.2.0",
          "state": {
            "_model_module": "@jupyter-widgets/base",
            "_model_module_version": "1.2.0",
            "_model_name": "LayoutModel",
            "_view_count": null,
            "_view_module": "@jupyter-widgets/base",
            "_view_module_version": "1.2.0",
            "_view_name": "LayoutView",
            "align_content": null,
            "align_items": null,
            "align_self": null,
            "border": null,
            "bottom": null,
            "display": null,
            "flex": null,
            "flex_flow": null,
            "grid_area": null,
            "grid_auto_columns": null,
            "grid_auto_flow": null,
            "grid_auto_rows": null,
            "grid_column": null,
            "grid_gap": null,
            "grid_row": null,
            "grid_template_areas": null,
            "grid_template_columns": null,
            "grid_template_rows": null,
            "height": null,
            "justify_content": null,
            "justify_items": null,
            "left": null,
            "margin": null,
            "max_height": null,
            "max_width": null,
            "min_height": null,
            "min_width": null,
            "object_fit": null,
            "object_position": null,
            "order": null,
            "overflow": null,
            "overflow_x": null,
            "overflow_y": null,
            "padding": null,
            "right": null,
            "top": null,
            "visibility": null,
            "width": null
          }
        },
        "89349c32351247eea848a9af6f72483a": {
          "model_module": "@jupyter-widgets/controls",
          "model_name": "DescriptionStyleModel",
          "model_module_version": "1.5.0",
          "state": {
            "_model_module": "@jupyter-widgets/controls",
            "_model_module_version": "1.5.0",
            "_model_name": "DescriptionStyleModel",
            "_view_count": null,
            "_view_module": "@jupyter-widgets/base",
            "_view_module_version": "1.2.0",
            "_view_name": "StyleView",
            "description_width": ""
          }
        },
        "f124d312ad6447858ff7db122c227713": {
          "model_module": "@jupyter-widgets/controls",
          "model_name": "HBoxModel",
          "model_module_version": "1.5.0",
          "state": {
            "_dom_classes": [],
            "_model_module": "@jupyter-widgets/controls",
            "_model_module_version": "1.5.0",
            "_model_name": "HBoxModel",
            "_view_count": null,
            "_view_module": "@jupyter-widgets/controls",
            "_view_module_version": "1.5.0",
            "_view_name": "HBoxView",
            "box_style": "",
            "children": [
              "IPY_MODEL_fd815e9fd18b40e98867bcbdf422f728",
              "IPY_MODEL_f59aafcbb9ba4697a9b61d5c5b9ec9ac",
              "IPY_MODEL_7332f3a30b074eb890641d30ebb9cd09"
            ],
            "layout": "IPY_MODEL_a05618c6bd6841ada7451b3dd368a181"
          }
        },
        "fd815e9fd18b40e98867bcbdf422f728": {
          "model_module": "@jupyter-widgets/controls",
          "model_name": "HTMLModel",
          "model_module_version": "1.5.0",
          "state": {
            "_dom_classes": [],
            "_model_module": "@jupyter-widgets/controls",
            "_model_module_version": "1.5.0",
            "_model_name": "HTMLModel",
            "_view_count": null,
            "_view_module": "@jupyter-widgets/controls",
            "_view_module_version": "1.5.0",
            "_view_name": "HTMLView",
            "description": "",
            "description_tooltip": null,
            "layout": "IPY_MODEL_9746dfb516b7474396547ccee1ef3f21",
            "placeholder": "​",
            "style": "IPY_MODEL_d0e4773043944078b185f62b054b942a",
            "value": "100%"
          }
        },
        "f59aafcbb9ba4697a9b61d5c5b9ec9ac": {
          "model_module": "@jupyter-widgets/controls",
          "model_name": "FloatProgressModel",
          "model_module_version": "1.5.0",
          "state": {
            "_dom_classes": [],
            "_model_module": "@jupyter-widgets/controls",
            "_model_module_version": "1.5.0",
            "_model_name": "FloatProgressModel",
            "_view_count": null,
            "_view_module": "@jupyter-widgets/controls",
            "_view_module_version": "1.5.0",
            "_view_name": "ProgressView",
            "bar_style": "success",
            "description": "",
            "description_tooltip": null,
            "layout": "IPY_MODEL_aa65ceabe6544df99041301456e000ee",
            "max": 3,
            "min": 0,
            "orientation": "horizontal",
            "style": "IPY_MODEL_1e98fea95cb1422ca67bbc91ea6d37eb",
            "value": 3
          }
        },
        "7332f3a30b074eb890641d30ebb9cd09": {
          "model_module": "@jupyter-widgets/controls",
          "model_name": "HTMLModel",
          "model_module_version": "1.5.0",
          "state": {
            "_dom_classes": [],
            "_model_module": "@jupyter-widgets/controls",
            "_model_module_version": "1.5.0",
            "_model_name": "HTMLModel",
            "_view_count": null,
            "_view_module": "@jupyter-widgets/controls",
            "_view_module_version": "1.5.0",
            "_view_name": "HTMLView",
            "description": "",
            "description_tooltip": null,
            "layout": "IPY_MODEL_6edce9b667df432db3d848da64211387",
            "placeholder": "​",
            "style": "IPY_MODEL_077f2e68484b4ac8bc5ac6c7289800de",
            "value": " 3/3 [00:31&lt;00:00, 10.30s/it]"
          }
        },
        "a05618c6bd6841ada7451b3dd368a181": {
          "model_module": "@jupyter-widgets/base",
          "model_name": "LayoutModel",
          "model_module_version": "1.2.0",
          "state": {
            "_model_module": "@jupyter-widgets/base",
            "_model_module_version": "1.2.0",
            "_model_name": "LayoutModel",
            "_view_count": null,
            "_view_module": "@jupyter-widgets/base",
            "_view_module_version": "1.2.0",
            "_view_name": "LayoutView",
            "align_content": null,
            "align_items": null,
            "align_self": null,
            "border": null,
            "bottom": null,
            "display": null,
            "flex": null,
            "flex_flow": null,
            "grid_area": null,
            "grid_auto_columns": null,
            "grid_auto_flow": null,
            "grid_auto_rows": null,
            "grid_column": null,
            "grid_gap": null,
            "grid_row": null,
            "grid_template_areas": null,
            "grid_template_columns": null,
            "grid_template_rows": null,
            "height": null,
            "justify_content": null,
            "justify_items": null,
            "left": null,
            "margin": null,
            "max_height": null,
            "max_width": null,
            "min_height": null,
            "min_width": null,
            "object_fit": null,
            "object_position": null,
            "order": null,
            "overflow": null,
            "overflow_x": null,
            "overflow_y": null,
            "padding": null,
            "right": null,
            "top": null,
            "visibility": null,
            "width": null
          }
        },
        "9746dfb516b7474396547ccee1ef3f21": {
          "model_module": "@jupyter-widgets/base",
          "model_name": "LayoutModel",
          "model_module_version": "1.2.0",
          "state": {
            "_model_module": "@jupyter-widgets/base",
            "_model_module_version": "1.2.0",
            "_model_name": "LayoutModel",
            "_view_count": null,
            "_view_module": "@jupyter-widgets/base",
            "_view_module_version": "1.2.0",
            "_view_name": "LayoutView",
            "align_content": null,
            "align_items": null,
            "align_self": null,
            "border": null,
            "bottom": null,
            "display": null,
            "flex": null,
            "flex_flow": null,
            "grid_area": null,
            "grid_auto_columns": null,
            "grid_auto_flow": null,
            "grid_auto_rows": null,
            "grid_column": null,
            "grid_gap": null,
            "grid_row": null,
            "grid_template_areas": null,
            "grid_template_columns": null,
            "grid_template_rows": null,
            "height": null,
            "justify_content": null,
            "justify_items": null,
            "left": null,
            "margin": null,
            "max_height": null,
            "max_width": null,
            "min_height": null,
            "min_width": null,
            "object_fit": null,
            "object_position": null,
            "order": null,
            "overflow": null,
            "overflow_x": null,
            "overflow_y": null,
            "padding": null,
            "right": null,
            "top": null,
            "visibility": null,
            "width": null
          }
        },
        "d0e4773043944078b185f62b054b942a": {
          "model_module": "@jupyter-widgets/controls",
          "model_name": "DescriptionStyleModel",
          "model_module_version": "1.5.0",
          "state": {
            "_model_module": "@jupyter-widgets/controls",
            "_model_module_version": "1.5.0",
            "_model_name": "DescriptionStyleModel",
            "_view_count": null,
            "_view_module": "@jupyter-widgets/base",
            "_view_module_version": "1.2.0",
            "_view_name": "StyleView",
            "description_width": ""
          }
        },
        "aa65ceabe6544df99041301456e000ee": {
          "model_module": "@jupyter-widgets/base",
          "model_name": "LayoutModel",
          "model_module_version": "1.2.0",
          "state": {
            "_model_module": "@jupyter-widgets/base",
            "_model_module_version": "1.2.0",
            "_model_name": "LayoutModel",
            "_view_count": null,
            "_view_module": "@jupyter-widgets/base",
            "_view_module_version": "1.2.0",
            "_view_name": "LayoutView",
            "align_content": null,
            "align_items": null,
            "align_self": null,
            "border": null,
            "bottom": null,
            "display": null,
            "flex": null,
            "flex_flow": null,
            "grid_area": null,
            "grid_auto_columns": null,
            "grid_auto_flow": null,
            "grid_auto_rows": null,
            "grid_column": null,
            "grid_gap": null,
            "grid_row": null,
            "grid_template_areas": null,
            "grid_template_columns": null,
            "grid_template_rows": null,
            "height": null,
            "justify_content": null,
            "justify_items": null,
            "left": null,
            "margin": null,
            "max_height": null,
            "max_width": null,
            "min_height": null,
            "min_width": null,
            "object_fit": null,
            "object_position": null,
            "order": null,
            "overflow": null,
            "overflow_x": null,
            "overflow_y": null,
            "padding": null,
            "right": null,
            "top": null,
            "visibility": null,
            "width": null
          }
        },
        "1e98fea95cb1422ca67bbc91ea6d37eb": {
          "model_module": "@jupyter-widgets/controls",
          "model_name": "ProgressStyleModel",
          "model_module_version": "1.5.0",
          "state": {
            "_model_module": "@jupyter-widgets/controls",
            "_model_module_version": "1.5.0",
            "_model_name": "ProgressStyleModel",
            "_view_count": null,
            "_view_module": "@jupyter-widgets/base",
            "_view_module_version": "1.2.0",
            "_view_name": "StyleView",
            "bar_color": null,
            "description_width": ""
          }
        },
        "6edce9b667df432db3d848da64211387": {
          "model_module": "@jupyter-widgets/base",
          "model_name": "LayoutModel",
          "model_module_version": "1.2.0",
          "state": {
            "_model_module": "@jupyter-widgets/base",
            "_model_module_version": "1.2.0",
            "_model_name": "LayoutModel",
            "_view_count": null,
            "_view_module": "@jupyter-widgets/base",
            "_view_module_version": "1.2.0",
            "_view_name": "LayoutView",
            "align_content": null,
            "align_items": null,
            "align_self": null,
            "border": null,
            "bottom": null,
            "display": null,
            "flex": null,
            "flex_flow": null,
            "grid_area": null,
            "grid_auto_columns": null,
            "grid_auto_flow": null,
            "grid_auto_rows": null,
            "grid_column": null,
            "grid_gap": null,
            "grid_row": null,
            "grid_template_areas": null,
            "grid_template_columns": null,
            "grid_template_rows": null,
            "height": null,
            "justify_content": null,
            "justify_items": null,
            "left": null,
            "margin": null,
            "max_height": null,
            "max_width": null,
            "min_height": null,
            "min_width": null,
            "object_fit": null,
            "object_position": null,
            "order": null,
            "overflow": null,
            "overflow_x": null,
            "overflow_y": null,
            "padding": null,
            "right": null,
            "top": null,
            "visibility": null,
            "width": null
          }
        },
        "077f2e68484b4ac8bc5ac6c7289800de": {
          "model_module": "@jupyter-widgets/controls",
          "model_name": "DescriptionStyleModel",
          "model_module_version": "1.5.0",
          "state": {
            "_model_module": "@jupyter-widgets/controls",
            "_model_module_version": "1.5.0",
            "_model_name": "DescriptionStyleModel",
            "_view_count": null,
            "_view_module": "@jupyter-widgets/base",
            "_view_module_version": "1.2.0",
            "_view_name": "StyleView",
            "description_width": ""
          }
        },
        "a5848078821f41609a40aa42035a3e35": {
          "model_module": "@jupyter-widgets/controls",
          "model_name": "HBoxModel",
          "model_module_version": "1.5.0",
          "state": {
            "_dom_classes": [],
            "_model_module": "@jupyter-widgets/controls",
            "_model_module_version": "1.5.0",
            "_model_name": "HBoxModel",
            "_view_count": null,
            "_view_module": "@jupyter-widgets/controls",
            "_view_module_version": "1.5.0",
            "_view_name": "HBoxView",
            "box_style": "",
            "children": [
              "IPY_MODEL_bf3bb12c39174447b851d15ce444dbfc",
              "IPY_MODEL_e8cfc1853efc496db7c3057cd9f522ce",
              "IPY_MODEL_c587cbc1185b4809b8b0583b4abcb75e"
            ],
            "layout": "IPY_MODEL_1f3111df045f4eecb9516861790c209d"
          }
        },
        "bf3bb12c39174447b851d15ce444dbfc": {
          "model_module": "@jupyter-widgets/controls",
          "model_name": "HTMLModel",
          "model_module_version": "1.5.0",
          "state": {
            "_dom_classes": [],
            "_model_module": "@jupyter-widgets/controls",
            "_model_module_version": "1.5.0",
            "_model_name": "HTMLModel",
            "_view_count": null,
            "_view_module": "@jupyter-widgets/controls",
            "_view_module_version": "1.5.0",
            "_view_name": "HTMLView",
            "description": "",
            "description_tooltip": null,
            "layout": "IPY_MODEL_c5e1c1e917f744c38de1231ea18c0ac8",
            "placeholder": "​",
            "style": "IPY_MODEL_72bccb6b05d24f5ea27a2b9d74a9acb7",
            "value": "100%"
          }
        },
        "e8cfc1853efc496db7c3057cd9f522ce": {
          "model_module": "@jupyter-widgets/controls",
          "model_name": "FloatProgressModel",
          "model_module_version": "1.5.0",
          "state": {
            "_dom_classes": [],
            "_model_module": "@jupyter-widgets/controls",
            "_model_module_version": "1.5.0",
            "_model_name": "FloatProgressModel",
            "_view_count": null,
            "_view_module": "@jupyter-widgets/controls",
            "_view_module_version": "1.5.0",
            "_view_name": "ProgressView",
            "bar_style": "success",
            "description": "",
            "description_tooltip": null,
            "layout": "IPY_MODEL_66501e1a6f8647bf961ea857a124f5c4",
            "max": 3,
            "min": 0,
            "orientation": "horizontal",
            "style": "IPY_MODEL_a78a577a323e459296b255eabca4b5db",
            "value": 3
          }
        },
        "c587cbc1185b4809b8b0583b4abcb75e": {
          "model_module": "@jupyter-widgets/controls",
          "model_name": "HTMLModel",
          "model_module_version": "1.5.0",
          "state": {
            "_dom_classes": [],
            "_model_module": "@jupyter-widgets/controls",
            "_model_module_version": "1.5.0",
            "_model_name": "HTMLModel",
            "_view_count": null,
            "_view_module": "@jupyter-widgets/controls",
            "_view_module_version": "1.5.0",
            "_view_name": "HTMLView",
            "description": "",
            "description_tooltip": null,
            "layout": "IPY_MODEL_54d8d89b37b5438b87e8c5b885c4e4f8",
            "placeholder": "​",
            "style": "IPY_MODEL_9c00eb9e28884921bf6cdbbba197ef9e",
            "value": " 3/3 [00:36&lt;00:00, 12.07s/it]"
          }
        },
        "1f3111df045f4eecb9516861790c209d": {
          "model_module": "@jupyter-widgets/base",
          "model_name": "LayoutModel",
          "model_module_version": "1.2.0",
          "state": {
            "_model_module": "@jupyter-widgets/base",
            "_model_module_version": "1.2.0",
            "_model_name": "LayoutModel",
            "_view_count": null,
            "_view_module": "@jupyter-widgets/base",
            "_view_module_version": "1.2.0",
            "_view_name": "LayoutView",
            "align_content": null,
            "align_items": null,
            "align_self": null,
            "border": null,
            "bottom": null,
            "display": null,
            "flex": null,
            "flex_flow": null,
            "grid_area": null,
            "grid_auto_columns": null,
            "grid_auto_flow": null,
            "grid_auto_rows": null,
            "grid_column": null,
            "grid_gap": null,
            "grid_row": null,
            "grid_template_areas": null,
            "grid_template_columns": null,
            "grid_template_rows": null,
            "height": null,
            "justify_content": null,
            "justify_items": null,
            "left": null,
            "margin": null,
            "max_height": null,
            "max_width": null,
            "min_height": null,
            "min_width": null,
            "object_fit": null,
            "object_position": null,
            "order": null,
            "overflow": null,
            "overflow_x": null,
            "overflow_y": null,
            "padding": null,
            "right": null,
            "top": null,
            "visibility": null,
            "width": null
          }
        },
        "c5e1c1e917f744c38de1231ea18c0ac8": {
          "model_module": "@jupyter-widgets/base",
          "model_name": "LayoutModel",
          "model_module_version": "1.2.0",
          "state": {
            "_model_module": "@jupyter-widgets/base",
            "_model_module_version": "1.2.0",
            "_model_name": "LayoutModel",
            "_view_count": null,
            "_view_module": "@jupyter-widgets/base",
            "_view_module_version": "1.2.0",
            "_view_name": "LayoutView",
            "align_content": null,
            "align_items": null,
            "align_self": null,
            "border": null,
            "bottom": null,
            "display": null,
            "flex": null,
            "flex_flow": null,
            "grid_area": null,
            "grid_auto_columns": null,
            "grid_auto_flow": null,
            "grid_auto_rows": null,
            "grid_column": null,
            "grid_gap": null,
            "grid_row": null,
            "grid_template_areas": null,
            "grid_template_columns": null,
            "grid_template_rows": null,
            "height": null,
            "justify_content": null,
            "justify_items": null,
            "left": null,
            "margin": null,
            "max_height": null,
            "max_width": null,
            "min_height": null,
            "min_width": null,
            "object_fit": null,
            "object_position": null,
            "order": null,
            "overflow": null,
            "overflow_x": null,
            "overflow_y": null,
            "padding": null,
            "right": null,
            "top": null,
            "visibility": null,
            "width": null
          }
        },
        "72bccb6b05d24f5ea27a2b9d74a9acb7": {
          "model_module": "@jupyter-widgets/controls",
          "model_name": "DescriptionStyleModel",
          "model_module_version": "1.5.0",
          "state": {
            "_model_module": "@jupyter-widgets/controls",
            "_model_module_version": "1.5.0",
            "_model_name": "DescriptionStyleModel",
            "_view_count": null,
            "_view_module": "@jupyter-widgets/base",
            "_view_module_version": "1.2.0",
            "_view_name": "StyleView",
            "description_width": ""
          }
        },
        "66501e1a6f8647bf961ea857a124f5c4": {
          "model_module": "@jupyter-widgets/base",
          "model_name": "LayoutModel",
          "model_module_version": "1.2.0",
          "state": {
            "_model_module": "@jupyter-widgets/base",
            "_model_module_version": "1.2.0",
            "_model_name": "LayoutModel",
            "_view_count": null,
            "_view_module": "@jupyter-widgets/base",
            "_view_module_version": "1.2.0",
            "_view_name": "LayoutView",
            "align_content": null,
            "align_items": null,
            "align_self": null,
            "border": null,
            "bottom": null,
            "display": null,
            "flex": null,
            "flex_flow": null,
            "grid_area": null,
            "grid_auto_columns": null,
            "grid_auto_flow": null,
            "grid_auto_rows": null,
            "grid_column": null,
            "grid_gap": null,
            "grid_row": null,
            "grid_template_areas": null,
            "grid_template_columns": null,
            "grid_template_rows": null,
            "height": null,
            "justify_content": null,
            "justify_items": null,
            "left": null,
            "margin": null,
            "max_height": null,
            "max_width": null,
            "min_height": null,
            "min_width": null,
            "object_fit": null,
            "object_position": null,
            "order": null,
            "overflow": null,
            "overflow_x": null,
            "overflow_y": null,
            "padding": null,
            "right": null,
            "top": null,
            "visibility": null,
            "width": null
          }
        },
        "a78a577a323e459296b255eabca4b5db": {
          "model_module": "@jupyter-widgets/controls",
          "model_name": "ProgressStyleModel",
          "model_module_version": "1.5.0",
          "state": {
            "_model_module": "@jupyter-widgets/controls",
            "_model_module_version": "1.5.0",
            "_model_name": "ProgressStyleModel",
            "_view_count": null,
            "_view_module": "@jupyter-widgets/base",
            "_view_module_version": "1.2.0",
            "_view_name": "StyleView",
            "bar_color": null,
            "description_width": ""
          }
        },
        "54d8d89b37b5438b87e8c5b885c4e4f8": {
          "model_module": "@jupyter-widgets/base",
          "model_name": "LayoutModel",
          "model_module_version": "1.2.0",
          "state": {
            "_model_module": "@jupyter-widgets/base",
            "_model_module_version": "1.2.0",
            "_model_name": "LayoutModel",
            "_view_count": null,
            "_view_module": "@jupyter-widgets/base",
            "_view_module_version": "1.2.0",
            "_view_name": "LayoutView",
            "align_content": null,
            "align_items": null,
            "align_self": null,
            "border": null,
            "bottom": null,
            "display": null,
            "flex": null,
            "flex_flow": null,
            "grid_area": null,
            "grid_auto_columns": null,
            "grid_auto_flow": null,
            "grid_auto_rows": null,
            "grid_column": null,
            "grid_gap": null,
            "grid_row": null,
            "grid_template_areas": null,
            "grid_template_columns": null,
            "grid_template_rows": null,
            "height": null,
            "justify_content": null,
            "justify_items": null,
            "left": null,
            "margin": null,
            "max_height": null,
            "max_width": null,
            "min_height": null,
            "min_width": null,
            "object_fit": null,
            "object_position": null,
            "order": null,
            "overflow": null,
            "overflow_x": null,
            "overflow_y": null,
            "padding": null,
            "right": null,
            "top": null,
            "visibility": null,
            "width": null
          }
        },
        "9c00eb9e28884921bf6cdbbba197ef9e": {
          "model_module": "@jupyter-widgets/controls",
          "model_name": "DescriptionStyleModel",
          "model_module_version": "1.5.0",
          "state": {
            "_model_module": "@jupyter-widgets/controls",
            "_model_module_version": "1.5.0",
            "_model_name": "DescriptionStyleModel",
            "_view_count": null,
            "_view_module": "@jupyter-widgets/base",
            "_view_module_version": "1.2.0",
            "_view_name": "StyleView",
            "description_width": ""
          }
        },
        "e0dbc91fd4ee43938b3a3c6e7e788cb7": {
          "model_module": "@jupyter-widgets/controls",
          "model_name": "HBoxModel",
          "model_module_version": "1.5.0",
          "state": {
            "_dom_classes": [],
            "_model_module": "@jupyter-widgets/controls",
            "_model_module_version": "1.5.0",
            "_model_name": "HBoxModel",
            "_view_count": null,
            "_view_module": "@jupyter-widgets/controls",
            "_view_module_version": "1.5.0",
            "_view_name": "HBoxView",
            "box_style": "",
            "children": [
              "IPY_MODEL_369275602cb64be99fdf1777f96e56a5",
              "IPY_MODEL_5ed42a9342bd49748f3fc85c1cb64508",
              "IPY_MODEL_700565be2ea2482bafd94a285ebb1ec2"
            ],
            "layout": "IPY_MODEL_05a8fe8be95944138f97bb3b84bfa916"
          }
        },
        "369275602cb64be99fdf1777f96e56a5": {
          "model_module": "@jupyter-widgets/controls",
          "model_name": "HTMLModel",
          "model_module_version": "1.5.0",
          "state": {
            "_dom_classes": [],
            "_model_module": "@jupyter-widgets/controls",
            "_model_module_version": "1.5.0",
            "_model_name": "HTMLModel",
            "_view_count": null,
            "_view_module": "@jupyter-widgets/controls",
            "_view_module_version": "1.5.0",
            "_view_name": "HTMLView",
            "description": "",
            "description_tooltip": null,
            "layout": "IPY_MODEL_6b8a8e4ee09542649dd86189301fa15b",
            "placeholder": "​",
            "style": "IPY_MODEL_ec901bc3685e42288715d8e91e91dbf1",
            "value": "Зроблення прогнозів: 100%"
          }
        },
        "5ed42a9342bd49748f3fc85c1cb64508": {
          "model_module": "@jupyter-widgets/controls",
          "model_name": "FloatProgressModel",
          "model_module_version": "1.5.0",
          "state": {
            "_dom_classes": [],
            "_model_module": "@jupyter-widgets/controls",
            "_model_module_version": "1.5.0",
            "_model_name": "FloatProgressModel",
            "_view_count": null,
            "_view_module": "@jupyter-widgets/controls",
            "_view_module_version": "1.5.0",
            "_view_name": "ProgressView",
            "bar_style": "success",
            "description": "",
            "description_tooltip": null,
            "layout": "IPY_MODEL_60c56343cceb465fad13838842af50a8",
            "max": 313,
            "min": 0,
            "orientation": "horizontal",
            "style": "IPY_MODEL_41c46c83c20a40b0b4cc70734b2170f6",
            "value": 313
          }
        },
        "700565be2ea2482bafd94a285ebb1ec2": {
          "model_module": "@jupyter-widgets/controls",
          "model_name": "HTMLModel",
          "model_module_version": "1.5.0",
          "state": {
            "_dom_classes": [],
            "_model_module": "@jupyter-widgets/controls",
            "_model_module_version": "1.5.0",
            "_model_name": "HTMLModel",
            "_view_count": null,
            "_view_module": "@jupyter-widgets/controls",
            "_view_module_version": "1.5.0",
            "_view_name": "HTMLView",
            "description": "",
            "description_tooltip": null,
            "layout": "IPY_MODEL_bc34d75440ae4bcd9fc3c41902f5da77",
            "placeholder": "​",
            "style": "IPY_MODEL_664d5a1d9b9f4ae889183b6be12ce028",
            "value": " 313/313 [00:01&lt;00:00, 265.85it/s]"
          }
        },
        "05a8fe8be95944138f97bb3b84bfa916": {
          "model_module": "@jupyter-widgets/base",
          "model_name": "LayoutModel",
          "model_module_version": "1.2.0",
          "state": {
            "_model_module": "@jupyter-widgets/base",
            "_model_module_version": "1.2.0",
            "_model_name": "LayoutModel",
            "_view_count": null,
            "_view_module": "@jupyter-widgets/base",
            "_view_module_version": "1.2.0",
            "_view_name": "LayoutView",
            "align_content": null,
            "align_items": null,
            "align_self": null,
            "border": null,
            "bottom": null,
            "display": null,
            "flex": null,
            "flex_flow": null,
            "grid_area": null,
            "grid_auto_columns": null,
            "grid_auto_flow": null,
            "grid_auto_rows": null,
            "grid_column": null,
            "grid_gap": null,
            "grid_row": null,
            "grid_template_areas": null,
            "grid_template_columns": null,
            "grid_template_rows": null,
            "height": null,
            "justify_content": null,
            "justify_items": null,
            "left": null,
            "margin": null,
            "max_height": null,
            "max_width": null,
            "min_height": null,
            "min_width": null,
            "object_fit": null,
            "object_position": null,
            "order": null,
            "overflow": null,
            "overflow_x": null,
            "overflow_y": null,
            "padding": null,
            "right": null,
            "top": null,
            "visibility": null,
            "width": null
          }
        },
        "6b8a8e4ee09542649dd86189301fa15b": {
          "model_module": "@jupyter-widgets/base",
          "model_name": "LayoutModel",
          "model_module_version": "1.2.0",
          "state": {
            "_model_module": "@jupyter-widgets/base",
            "_model_module_version": "1.2.0",
            "_model_name": "LayoutModel",
            "_view_count": null,
            "_view_module": "@jupyter-widgets/base",
            "_view_module_version": "1.2.0",
            "_view_name": "LayoutView",
            "align_content": null,
            "align_items": null,
            "align_self": null,
            "border": null,
            "bottom": null,
            "display": null,
            "flex": null,
            "flex_flow": null,
            "grid_area": null,
            "grid_auto_columns": null,
            "grid_auto_flow": null,
            "grid_auto_rows": null,
            "grid_column": null,
            "grid_gap": null,
            "grid_row": null,
            "grid_template_areas": null,
            "grid_template_columns": null,
            "grid_template_rows": null,
            "height": null,
            "justify_content": null,
            "justify_items": null,
            "left": null,
            "margin": null,
            "max_height": null,
            "max_width": null,
            "min_height": null,
            "min_width": null,
            "object_fit": null,
            "object_position": null,
            "order": null,
            "overflow": null,
            "overflow_x": null,
            "overflow_y": null,
            "padding": null,
            "right": null,
            "top": null,
            "visibility": null,
            "width": null
          }
        },
        "ec901bc3685e42288715d8e91e91dbf1": {
          "model_module": "@jupyter-widgets/controls",
          "model_name": "DescriptionStyleModel",
          "model_module_version": "1.5.0",
          "state": {
            "_model_module": "@jupyter-widgets/controls",
            "_model_module_version": "1.5.0",
            "_model_name": "DescriptionStyleModel",
            "_view_count": null,
            "_view_module": "@jupyter-widgets/base",
            "_view_module_version": "1.2.0",
            "_view_name": "StyleView",
            "description_width": ""
          }
        },
        "60c56343cceb465fad13838842af50a8": {
          "model_module": "@jupyter-widgets/base",
          "model_name": "LayoutModel",
          "model_module_version": "1.2.0",
          "state": {
            "_model_module": "@jupyter-widgets/base",
            "_model_module_version": "1.2.0",
            "_model_name": "LayoutModel",
            "_view_count": null,
            "_view_module": "@jupyter-widgets/base",
            "_view_module_version": "1.2.0",
            "_view_name": "LayoutView",
            "align_content": null,
            "align_items": null,
            "align_self": null,
            "border": null,
            "bottom": null,
            "display": null,
            "flex": null,
            "flex_flow": null,
            "grid_area": null,
            "grid_auto_columns": null,
            "grid_auto_flow": null,
            "grid_auto_rows": null,
            "grid_column": null,
            "grid_gap": null,
            "grid_row": null,
            "grid_template_areas": null,
            "grid_template_columns": null,
            "grid_template_rows": null,
            "height": null,
            "justify_content": null,
            "justify_items": null,
            "left": null,
            "margin": null,
            "max_height": null,
            "max_width": null,
            "min_height": null,
            "min_width": null,
            "object_fit": null,
            "object_position": null,
            "order": null,
            "overflow": null,
            "overflow_x": null,
            "overflow_y": null,
            "padding": null,
            "right": null,
            "top": null,
            "visibility": null,
            "width": null
          }
        },
        "41c46c83c20a40b0b4cc70734b2170f6": {
          "model_module": "@jupyter-widgets/controls",
          "model_name": "ProgressStyleModel",
          "model_module_version": "1.5.0",
          "state": {
            "_model_module": "@jupyter-widgets/controls",
            "_model_module_version": "1.5.0",
            "_model_name": "ProgressStyleModel",
            "_view_count": null,
            "_view_module": "@jupyter-widgets/base",
            "_view_module_version": "1.2.0",
            "_view_name": "StyleView",
            "bar_color": null,
            "description_width": ""
          }
        },
        "bc34d75440ae4bcd9fc3c41902f5da77": {
          "model_module": "@jupyter-widgets/base",
          "model_name": "LayoutModel",
          "model_module_version": "1.2.0",
          "state": {
            "_model_module": "@jupyter-widgets/base",
            "_model_module_version": "1.2.0",
            "_model_name": "LayoutModel",
            "_view_count": null,
            "_view_module": "@jupyter-widgets/base",
            "_view_module_version": "1.2.0",
            "_view_name": "LayoutView",
            "align_content": null,
            "align_items": null,
            "align_self": null,
            "border": null,
            "bottom": null,
            "display": null,
            "flex": null,
            "flex_flow": null,
            "grid_area": null,
            "grid_auto_columns": null,
            "grid_auto_flow": null,
            "grid_auto_rows": null,
            "grid_column": null,
            "grid_gap": null,
            "grid_row": null,
            "grid_template_areas": null,
            "grid_template_columns": null,
            "grid_template_rows": null,
            "height": null,
            "justify_content": null,
            "justify_items": null,
            "left": null,
            "margin": null,
            "max_height": null,
            "max_width": null,
            "min_height": null,
            "min_width": null,
            "object_fit": null,
            "object_position": null,
            "order": null,
            "overflow": null,
            "overflow_x": null,
            "overflow_y": null,
            "padding": null,
            "right": null,
            "top": null,
            "visibility": null,
            "width": null
          }
        },
        "664d5a1d9b9f4ae889183b6be12ce028": {
          "model_module": "@jupyter-widgets/controls",
          "model_name": "DescriptionStyleModel",
          "model_module_version": "1.5.0",
          "state": {
            "_model_module": "@jupyter-widgets/controls",
            "_model_module_version": "1.5.0",
            "_model_name": "DescriptionStyleModel",
            "_view_count": null,
            "_view_module": "@jupyter-widgets/base",
            "_view_module_version": "1.2.0",
            "_view_name": "StyleView",
            "description_width": ""
          }
        }
      }
    }
  },
  "nbformat": 4,
  "nbformat_minor": 5
}